{
 "cells": [
  {
   "cell_type": "code",
   "execution_count": 1,
   "id": "b19b7d49",
   "metadata": {},
   "outputs": [],
   "source": [
    "#libs\n",
    "import pandas as pd \n",
    "import os \n",
    "import numpy as np\n",
    "from datetime import date\n",
    "import matplotlib.pyplot as plt\n",
    "from scipy import stats\n",
    "\n",
    "from statsmodels.tsa.stattools import adfuller\n",
    "from statsmodels.tsa.seasonal import seasonal_decompose\n",
    "from statsmodels.tsa.stattools import acf, pacf\n",
    "# Importando ACF e PACF\n",
    "from statsmodels.graphics.tsaplots import plot_acf, plot_pacf\n",
    "import pytz\n",
    "\n",
    "#from tensorflow.keras.models import Sequential\n",
    "#from tensorflow.keras.layers import Dense, LSTM, Dropout\n",
    "#from sklearn.preprocessing import MinMaxScaler\n",
    "import math\n",
    "\n",
    "from bcb import currency\n",
    "from bcb import sgs\n",
    "\n",
    "import plotly.graph_objects as go\n",
    "\n",
    "import seaborn as sns\n",
    "import investpy"
   ]
  },
  {
   "cell_type": "code",
   "execution_count": 39,
   "id": "efe6937e",
   "metadata": {},
   "outputs": [
    {
     "name": "stdout",
     "output_type": "stream",
     "text": [
      "{\"id_\": 964528, \"name\": \"Live Cattle Futures\", \"symbol\": \"BGIc1\", \"country\": null, \"tag\": \"/commodities/live-cattle?cid=964528\", \"pair_type\": \"commodities\", \"exchange\": \"BM&FBovespa\"}\n",
      "{\"id_\": 1181094, \"name\": \"Live Cattle Futures\", \"symbol\": \"BGIc2\", \"country\": null, \"tag\": \"/commodities/live-cattle?cid=1181094\", \"pair_type\": \"commodities\", \"exchange\": \"BM&FBovespa\"}\n",
      "{\"id_\": 1181095, \"name\": \"Live Cattle Futures\", \"symbol\": \"BGIc3\", \"country\": null, \"tag\": \"/commodities/live-cattle?cid=1181095\", \"pair_type\": \"commodities\", \"exchange\": \"BM&FBovespa\"}\n"
     ]
    }
   ],
   "source": [
    "search_results = investpy.search_quotes(text = 'BGI', \n",
    "                                        products= ['commodities'], \n",
    "                                        countries= ['brazil'], \n",
    "                                        n_results = 50)\n",
    "\n",
    "for search_result in search_results:\n",
    "  print(search_result)"
   ]
  },
  {
   "cell_type": "code",
   "execution_count": null,
   "id": "8c9e390e",
   "metadata": {},
   "outputs": [],
   "source": []
  }
 ],
 "metadata": {
  "kernelspec": {
   "display_name": "Python 3 (ipykernel)",
   "language": "python",
   "name": "python3"
  },
  "language_info": {
   "codemirror_mode": {
    "name": "ipython",
    "version": 3
   },
   "file_extension": ".py",
   "mimetype": "text/x-python",
   "name": "python",
   "nbconvert_exporter": "python",
   "pygments_lexer": "ipython3",
   "version": "3.9.12"
  }
 },
 "nbformat": 4,
 "nbformat_minor": 5
}
