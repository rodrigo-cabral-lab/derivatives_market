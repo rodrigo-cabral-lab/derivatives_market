{
 "cells": [
  {
   "cell_type": "code",
   "execution_count": 2,
   "metadata": {},
   "outputs": [],
   "source": [
    "import pandas as pd \n",
    "import os "
   ]
  },
  {
   "cell_type": "code",
   "execution_count": 3,
   "metadata": {},
   "outputs": [],
   "source": [
    "df_ct = pd.read_pickle('cotacao_commodities.pkl')\n",
    "df_tm = pd.read_pickle('negociacao_derivativos_commodities.pkl')"
   ]
  },
  {
   "cell_type": "code",
   "execution_count": 4,
   "metadata": {},
   "outputs": [
    {
     "data": {
      "text/html": [
       "<div>\n",
       "<style scoped>\n",
       "    .dataframe tbody tr th:only-of-type {\n",
       "        vertical-align: middle;\n",
       "    }\n",
       "\n",
       "    .dataframe tbody tr th {\n",
       "        vertical-align: top;\n",
       "    }\n",
       "\n",
       "    .dataframe thead th {\n",
       "        text-align: right;\n",
       "    }\n",
       "</style>\n",
       "<table border=\"1\" class=\"dataframe\">\n",
       "  <thead>\n",
       "    <tr style=\"text-align: right;\">\n",
       "      <th></th>\n",
       "      <th>data_cotacao</th>\n",
       "      <th>cod_ric</th>\n",
       "      <th>cod_ticker</th>\n",
       "      <th>cotacao_tipo</th>\n",
       "      <th>fator_conversao</th>\n",
       "      <th>bolsa_negociacao</th>\n",
       "      <th>tipo_mercadoria</th>\n",
       "      <th>mercadoria</th>\n",
       "      <th>moeda</th>\n",
       "      <th>unidade_mercadoria</th>\n",
       "      <th>valor_cotacao</th>\n",
       "    </tr>\n",
       "  </thead>\n",
       "  <tbody>\n",
       "    <tr>\n",
       "      <th>0</th>\n",
       "      <td>2019-08-23</td>\n",
       "      <td>BACAINDXF</td>\n",
       "      <td>BACAINDX</td>\n",
       "      <td>FECHAMENTO</td>\n",
       "      <td>1.0</td>\n",
       "      <td>BMF</td>\n",
       "      <td>GORDO - ESALQ SÃO PAULO</td>\n",
       "      <td>BOI</td>\n",
       "      <td>REAL</td>\n",
       "      <td>ARROBA LIQUIDA</td>\n",
       "      <td>156.10</td>\n",
       "    </tr>\n",
       "    <tr>\n",
       "      <th>1</th>\n",
       "      <td>2019-08-23</td>\n",
       "      <td>ICFU19</td>\n",
       "      <td>AXU9</td>\n",
       "      <td>AJUSTE</td>\n",
       "      <td>1.0</td>\n",
       "      <td>BMF</td>\n",
       "      <td>ARABICO EM GRAOS- TIPO 4/5</td>\n",
       "      <td>CAFE</td>\n",
       "      <td>DOLAR DOS EUA</td>\n",
       "      <td>SACA(60KG)</td>\n",
       "      <td>111.35</td>\n",
       "    </tr>\n",
       "  </tbody>\n",
       "</table>\n",
       "</div>"
      ],
      "text/plain": [
       "  data_cotacao    cod_ric cod_ticker cotacao_tipo  fator_conversao  \\\n",
       "0   2019-08-23  BACAINDXF   BACAINDX   FECHAMENTO              1.0   \n",
       "1   2019-08-23     ICFU19       AXU9       AJUSTE              1.0   \n",
       "\n",
       "  bolsa_negociacao             tipo_mercadoria mercadoria          moeda  \\\n",
       "0              BMF     GORDO - ESALQ SÃO PAULO        BOI           REAL   \n",
       "1              BMF  ARABICO EM GRAOS- TIPO 4/5       CAFE  DOLAR DOS EUA   \n",
       "\n",
       "  unidade_mercadoria  valor_cotacao  \n",
       "0     ARROBA LIQUIDA         156.10  \n",
       "1         SACA(60KG)         111.35  "
      ]
     },
     "execution_count": 4,
     "metadata": {},
     "output_type": "execute_result"
    }
   ],
   "source": [
    "df_ct.head(2)"
   ]
  },
  {
   "cell_type": "code",
   "execution_count": 5,
   "metadata": {},
   "outputs": [
    {
     "data": {
      "text/plain": [
       "data_cotacao          datetime64[ns]\n",
       "cod_ric                       object\n",
       "cod_ticker                    object\n",
       "cotacao_tipo                  object\n",
       "fator_conversao              float64\n",
       "bolsa_negociacao              object\n",
       "tipo_mercadoria               object\n",
       "mercadoria                    object\n",
       "moeda                         object\n",
       "unidade_mercadoria            object\n",
       "valor_cotacao                float64\n",
       "dtype: object"
      ]
     },
     "execution_count": 5,
     "metadata": {},
     "output_type": "execute_result"
    }
   ],
   "source": [
    "df_ct.dtypes"
   ]
  },
  {
   "cell_type": "code",
   "execution_count": 6,
   "metadata": {},
   "outputs": [
    {
     "data": {
      "text/html": [
       "<div>\n",
       "<style scoped>\n",
       "    .dataframe tbody tr th:only-of-type {\n",
       "        vertical-align: middle;\n",
       "    }\n",
       "\n",
       "    .dataframe tbody tr th {\n",
       "        vertical-align: top;\n",
       "    }\n",
       "\n",
       "    .dataframe thead th {\n",
       "        text-align: right;\n",
       "    }\n",
       "</style>\n",
       "<table border=\"1\" class=\"dataframe\">\n",
       "  <thead>\n",
       "    <tr style=\"text-align: right;\">\n",
       "      <th></th>\n",
       "      <th>data_referencia</th>\n",
       "      <th>data_inicio</th>\n",
       "      <th>data_vencimento</th>\n",
       "      <th>numero_contrato</th>\n",
       "      <th>mercadoria</th>\n",
       "      <th>tipo</th>\n",
       "      <th>bolsa</th>\n",
       "      <th>unidade_negociacao</th>\n",
       "      <th>moeda</th>\n",
       "      <th>quantidade_negociada</th>\n",
       "      <th>vendedor</th>\n",
       "      <th>comprador</th>\n",
       "    </tr>\n",
       "  </thead>\n",
       "  <tbody>\n",
       "    <tr>\n",
       "      <th>0</th>\n",
       "      <td>2019-07-18</td>\n",
       "      <td>2019-07-17</td>\n",
       "      <td>2019-08-30</td>\n",
       "      <td>77902613</td>\n",
       "      <td>BORRACHA</td>\n",
       "      <td>TSR20</td>\n",
       "      <td>SGX</td>\n",
       "      <td>TONELADA METRICA</td>\n",
       "      <td>(220) USD</td>\n",
       "      <td>2</td>\n",
       "      <td>Cliente 1</td>\n",
       "      <td>Mercado</td>\n",
       "    </tr>\n",
       "    <tr>\n",
       "      <th>1</th>\n",
       "      <td>2019-07-18</td>\n",
       "      <td>2019-07-18</td>\n",
       "      <td>2020-01-14</td>\n",
       "      <td>77902616</td>\n",
       "      <td>MILHO</td>\n",
       "      <td>EM GRAOS A GRANEL</td>\n",
       "      <td>BMF</td>\n",
       "      <td>SACA(60KG)</td>\n",
       "      <td>(790) BRL</td>\n",
       "      <td>11250</td>\n",
       "      <td>Mercado</td>\n",
       "      <td>Cliente 1</td>\n",
       "    </tr>\n",
       "  </tbody>\n",
       "</table>\n",
       "</div>"
      ],
      "text/plain": [
       "  data_referencia data_inicio data_vencimento numero_contrato mercadoria  \\\n",
       "0      2019-07-18  2019-07-17      2019-08-30        77902613   BORRACHA   \n",
       "1      2019-07-18  2019-07-18      2020-01-14        77902616      MILHO   \n",
       "\n",
       "                tipo bolsa unidade_negociacao      moeda  \\\n",
       "0              TSR20   SGX   TONELADA METRICA  (220) USD   \n",
       "1  EM GRAOS A GRANEL   BMF         SACA(60KG)  (790) BRL   \n",
       "\n",
       "   quantidade_negociada   vendedor  comprador  \n",
       "0                     2  Cliente 1    Mercado  \n",
       "1                 11250    Mercado  Cliente 1  "
      ]
     },
     "execution_count": 6,
     "metadata": {},
     "output_type": "execute_result"
    }
   ],
   "source": [
    "df_tm.head(2)"
   ]
  },
  {
   "cell_type": "code",
   "execution_count": 7,
   "metadata": {},
   "outputs": [
    {
     "data": {
      "text/plain": [
       "data_referencia         datetime64[ns]\n",
       "data_inicio             datetime64[ns]\n",
       "data_vencimento         datetime64[ns]\n",
       "numero_contrato                 object\n",
       "mercadoria                      object\n",
       "tipo                            object\n",
       "bolsa                           object\n",
       "unidade_negociacao              object\n",
       "moeda                           object\n",
       "quantidade_negociada             int64\n",
       "vendedor                        object\n",
       "comprador                       object\n",
       "dtype: object"
      ]
     },
     "execution_count": 7,
     "metadata": {},
     "output_type": "execute_result"
    }
   ],
   "source": [
    "df_tm.dtypes"
   ]
  },
  {
   "cell_type": "code",
   "execution_count": null,
   "metadata": {},
   "outputs": [],
   "source": [
    "# teste"
   ]
  }
 ],
 "metadata": {
  "interpreter": {
   "hash": "77be8482958b167d0ba9dae5c81c4a788ebb3117c9dd1247886c2e356be97fa6"
  },
  "kernelspec": {
   "display_name": "Python 3.8.8 ('base')",
   "language": "python",
   "name": "python3"
  },
  "language_info": {
   "codemirror_mode": {
    "name": "ipython",
    "version": 3
   },
   "file_extension": ".py",
   "mimetype": "text/x-python",
   "name": "python",
   "nbconvert_exporter": "python",
   "pygments_lexer": "ipython3",
   "version": "3.8.8"
  }
 },
 "nbformat": 4,
 "nbformat_minor": 2
}
