{
 "cells": [
  {
   "cell_type": "code",
   "execution_count": 218,
   "id": "f82c98c3",
   "metadata": {},
   "outputs": [],
   "source": [
    "#libs\n",
    "import pandas as pd \n",
    "import os \n",
    "import numpy as np\n",
    "from datetime import date\n",
    "import matplotlib.pyplot as plt\n",
    "from scipy import stats\n",
    "\n",
    "from statsmodels.tsa.stattools import adfuller\n",
    "from statsmodels.tsa.seasonal import seasonal_decompose\n",
    "from statsmodels.tsa.stattools import acf, pacf\n",
    "# Importando ACF e PACF\n",
    "from statsmodels.graphics.tsaplots import plot_acf, plot_pacf\n",
    "import pytz\n",
    "\n",
    "#from tensorflow.keras.models import Sequential\n",
    "#from tensorflow.keras.layers import Dense, LSTM, Dropout\n",
    "#from sklearn.preprocessing import MinMaxScaler\n",
    "import math\n",
    "\n",
    "from bcb import currency\n",
    "from bcb import sgs\n",
    "\n",
    "import plotly.graph_objects as go\n",
    "\n",
    "import seaborn as sns\n",
    "import investpy"
   ]
  },
  {
   "cell_type": "code",
   "execution_count": 219,
   "id": "13d2eb86",
   "metadata": {},
   "outputs": [
    {
     "name": "stdout",
     "output_type": "stream",
     "text": [
      "{\"id_\": 964528, \"name\": \"Live Cattle Futures\", \"symbol\": \"BGIc1\", \"country\": null, \"tag\": \"/commodities/live-cattle?cid=964528\", \"pair_type\": \"commodities\", \"exchange\": \"BM&FBovespa\"}\n",
      "{\"id_\": 1181094, \"name\": \"Live Cattle Futures\", \"symbol\": \"BGIc2\", \"country\": null, \"tag\": \"/commodities/live-cattle?cid=1181094\", \"pair_type\": \"commodities\", \"exchange\": \"BM&FBovespa\"}\n",
      "{\"id_\": 1181095, \"name\": \"Live Cattle Futures\", \"symbol\": \"BGIc3\", \"country\": null, \"tag\": \"/commodities/live-cattle?cid=1181095\", \"pair_type\": \"commodities\", \"exchange\": \"BM&FBovespa\"}\n"
     ]
    }
   ],
   "source": [
    "search_results = investpy.search_quotes(text = 'BGI', \n",
    "                                        products= ['commodities'], \n",
    "                                        countries= ['brazil'], \n",
    "                                        n_results = 50)\n",
    "\n",
    "for search_result in search_results:\n",
    "  print(search_result)"
   ]
  },
  {
   "cell_type": "code",
   "execution_count": 220,
   "id": "467252b1",
   "metadata": {},
   "outputs": [],
   "source": [
    "#Podemos caputrar a informação de linhas acima ou abaixo de uma linha específica usando o método pd.shift()\n",
    "def constroi_features_defasadas(base,lista_features,defasagem_maxima):\n",
    "    # Constrói features defasadas com base na base original\n",
    "    # Copia a base\n",
    "    base_cop = base.copy()\n",
    "    for feat in lista_features:       \n",
    "        for i in range(1,defasagem_maxima+1):\n",
    "            base_cop[str(feat)+'_def_'+str(i)] = base_cop[feat].shift(i)\n",
    "    return base_cop"
   ]
  },
  {
   "cell_type": "code",
   "execution_count": 221,
   "id": "2913987e",
   "metadata": {},
   "outputs": [],
   "source": [
    "boi_br = search_result.retrieve_historical_data(from_date = '01/01/2019', to_date = '01/08/2022')"
   ]
  },
  {
   "cell_type": "code",
   "execution_count": 222,
   "id": "1873807f",
   "metadata": {},
   "outputs": [
    {
     "data": {
      "text/html": [
       "<div>\n",
       "<style scoped>\n",
       "    .dataframe tbody tr th:only-of-type {\n",
       "        vertical-align: middle;\n",
       "    }\n",
       "\n",
       "    .dataframe tbody tr th {\n",
       "        vertical-align: top;\n",
       "    }\n",
       "\n",
       "    .dataframe thead th {\n",
       "        text-align: right;\n",
       "    }\n",
       "</style>\n",
       "<table border=\"1\" class=\"dataframe\">\n",
       "  <thead>\n",
       "    <tr style=\"text-align: right;\">\n",
       "      <th></th>\n",
       "      <th>Open</th>\n",
       "      <th>High</th>\n",
       "      <th>Low</th>\n",
       "      <th>Close</th>\n",
       "      <th>Volume</th>\n",
       "      <th>Change Pct</th>\n",
       "    </tr>\n",
       "    <tr>\n",
       "      <th>Date</th>\n",
       "      <th></th>\n",
       "      <th></th>\n",
       "      <th></th>\n",
       "      <th></th>\n",
       "      <th></th>\n",
       "      <th></th>\n",
       "    </tr>\n",
       "  </thead>\n",
       "  <tbody>\n",
       "    <tr>\n",
       "      <th>2019-11-07</th>\n",
       "      <td>194.0</td>\n",
       "      <td>197.30</td>\n",
       "      <td>194.0</td>\n",
       "      <td>193.85</td>\n",
       "      <td>1664</td>\n",
       "      <td>0.23</td>\n",
       "    </tr>\n",
       "    <tr>\n",
       "      <th>2019-11-08</th>\n",
       "      <td>193.6</td>\n",
       "      <td>195.50</td>\n",
       "      <td>192.8</td>\n",
       "      <td>195.10</td>\n",
       "      <td>1656</td>\n",
       "      <td>0.64</td>\n",
       "    </tr>\n",
       "    <tr>\n",
       "      <th>2019-11-11</th>\n",
       "      <td>195.0</td>\n",
       "      <td>198.90</td>\n",
       "      <td>195.0</td>\n",
       "      <td>198.40</td>\n",
       "      <td>691</td>\n",
       "      <td>1.69</td>\n",
       "    </tr>\n",
       "    <tr>\n",
       "      <th>2019-11-12</th>\n",
       "      <td>198.5</td>\n",
       "      <td>201.45</td>\n",
       "      <td>198.0</td>\n",
       "      <td>200.95</td>\n",
       "      <td>498</td>\n",
       "      <td>1.29</td>\n",
       "    </tr>\n",
       "    <tr>\n",
       "      <th>2019-11-13</th>\n",
       "      <td>200.6</td>\n",
       "      <td>207.95</td>\n",
       "      <td>200.6</td>\n",
       "      <td>208.95</td>\n",
       "      <td>1379</td>\n",
       "      <td>3.98</td>\n",
       "    </tr>\n",
       "  </tbody>\n",
       "</table>\n",
       "</div>"
      ],
      "text/plain": [
       "             Open    High    Low   Close  Volume  Change Pct\n",
       "Date                                                        \n",
       "2019-11-07  194.0  197.30  194.0  193.85    1664        0.23\n",
       "2019-11-08  193.6  195.50  192.8  195.10    1656        0.64\n",
       "2019-11-11  195.0  198.90  195.0  198.40     691        1.69\n",
       "2019-11-12  198.5  201.45  198.0  200.95     498        1.29\n",
       "2019-11-13  200.6  207.95  200.6  208.95    1379        3.98"
      ]
     },
     "execution_count": 222,
     "metadata": {},
     "output_type": "execute_result"
    }
   ],
   "source": [
    "boi_br.head()"
   ]
  },
  {
   "cell_type": "code",
   "execution_count": 223,
   "id": "99442e12",
   "metadata": {},
   "outputs": [
    {
     "data": {
      "text/plain": [
       "Index(['Open', 'High', 'Low', 'Close', 'Volume', 'Change Pct'], dtype='object')"
      ]
     },
     "execution_count": 223,
     "metadata": {},
     "output_type": "execute_result"
    }
   ],
   "source": [
    "boi_br.columns"
   ]
  },
  {
   "cell_type": "code",
   "execution_count": 224,
   "id": "8d4ce7fb",
   "metadata": {},
   "outputs": [],
   "source": [
    "boi_br_eng = constroi_features_defasadas(boi_br,['Open', 'High', 'Low', 'Volume', 'Change Pct'],15)"
   ]
  },
  {
   "cell_type": "code",
   "execution_count": 225,
   "id": "07470ae4",
   "metadata": {},
   "outputs": [
    {
     "name": "stdout",
     "output_type": "stream",
     "text": [
      "Colunas antes do feature engineering: 6\n",
      "Colunas antes do feature engineering: 81\n"
     ]
    }
   ],
   "source": [
    "print('Colunas antes do feature engineering: {}'.format(boi_br.shape[-1]))\n",
    "print('Colunas antes do feature engineering: {}'.format(boi_br_eng.shape[-1]))"
   ]
  },
  {
   "cell_type": "code",
   "execution_count": 226,
   "id": "ef62bd90",
   "metadata": {},
   "outputs": [
    {
     "data": {
      "text/html": [
       "<div>\n",
       "<style scoped>\n",
       "    .dataframe tbody tr th:only-of-type {\n",
       "        vertical-align: middle;\n",
       "    }\n",
       "\n",
       "    .dataframe tbody tr th {\n",
       "        vertical-align: top;\n",
       "    }\n",
       "\n",
       "    .dataframe thead th {\n",
       "        text-align: right;\n",
       "    }\n",
       "</style>\n",
       "<table border=\"1\" class=\"dataframe\">\n",
       "  <thead>\n",
       "    <tr style=\"text-align: right;\">\n",
       "      <th></th>\n",
       "      <th>Open</th>\n",
       "      <th>High</th>\n",
       "      <th>Low</th>\n",
       "      <th>Close</th>\n",
       "      <th>Volume</th>\n",
       "      <th>Change Pct</th>\n",
       "      <th>Open_def_1</th>\n",
       "      <th>Open_def_2</th>\n",
       "      <th>Open_def_3</th>\n",
       "      <th>Open_def_4</th>\n",
       "      <th>...</th>\n",
       "      <th>Change Pct_def_6</th>\n",
       "      <th>Change Pct_def_7</th>\n",
       "      <th>Change Pct_def_8</th>\n",
       "      <th>Change Pct_def_9</th>\n",
       "      <th>Change Pct_def_10</th>\n",
       "      <th>Change Pct_def_11</th>\n",
       "      <th>Change Pct_def_12</th>\n",
       "      <th>Change Pct_def_13</th>\n",
       "      <th>Change Pct_def_14</th>\n",
       "      <th>Change Pct_def_15</th>\n",
       "    </tr>\n",
       "    <tr>\n",
       "      <th>Date</th>\n",
       "      <th></th>\n",
       "      <th></th>\n",
       "      <th></th>\n",
       "      <th></th>\n",
       "      <th></th>\n",
       "      <th></th>\n",
       "      <th></th>\n",
       "      <th></th>\n",
       "      <th></th>\n",
       "      <th></th>\n",
       "      <th></th>\n",
       "      <th></th>\n",
       "      <th></th>\n",
       "      <th></th>\n",
       "      <th></th>\n",
       "      <th></th>\n",
       "      <th></th>\n",
       "      <th></th>\n",
       "      <th></th>\n",
       "      <th></th>\n",
       "      <th></th>\n",
       "    </tr>\n",
       "  </thead>\n",
       "  <tbody>\n",
       "    <tr>\n",
       "      <th>2019-11-07</th>\n",
       "      <td>194.00</td>\n",
       "      <td>197.30</td>\n",
       "      <td>194.00</td>\n",
       "      <td>193.85</td>\n",
       "      <td>1664</td>\n",
       "      <td>0.23</td>\n",
       "      <td>NaN</td>\n",
       "      <td>NaN</td>\n",
       "      <td>NaN</td>\n",
       "      <td>NaN</td>\n",
       "      <td>...</td>\n",
       "      <td>NaN</td>\n",
       "      <td>NaN</td>\n",
       "      <td>NaN</td>\n",
       "      <td>NaN</td>\n",
       "      <td>NaN</td>\n",
       "      <td>NaN</td>\n",
       "      <td>NaN</td>\n",
       "      <td>NaN</td>\n",
       "      <td>NaN</td>\n",
       "      <td>NaN</td>\n",
       "    </tr>\n",
       "    <tr>\n",
       "      <th>2019-11-08</th>\n",
       "      <td>193.60</td>\n",
       "      <td>195.50</td>\n",
       "      <td>192.80</td>\n",
       "      <td>195.10</td>\n",
       "      <td>1656</td>\n",
       "      <td>0.64</td>\n",
       "      <td>194.00</td>\n",
       "      <td>NaN</td>\n",
       "      <td>NaN</td>\n",
       "      <td>NaN</td>\n",
       "      <td>...</td>\n",
       "      <td>NaN</td>\n",
       "      <td>NaN</td>\n",
       "      <td>NaN</td>\n",
       "      <td>NaN</td>\n",
       "      <td>NaN</td>\n",
       "      <td>NaN</td>\n",
       "      <td>NaN</td>\n",
       "      <td>NaN</td>\n",
       "      <td>NaN</td>\n",
       "      <td>NaN</td>\n",
       "    </tr>\n",
       "    <tr>\n",
       "      <th>2019-11-11</th>\n",
       "      <td>195.00</td>\n",
       "      <td>198.90</td>\n",
       "      <td>195.00</td>\n",
       "      <td>198.40</td>\n",
       "      <td>691</td>\n",
       "      <td>1.69</td>\n",
       "      <td>193.60</td>\n",
       "      <td>194.00</td>\n",
       "      <td>NaN</td>\n",
       "      <td>NaN</td>\n",
       "      <td>...</td>\n",
       "      <td>NaN</td>\n",
       "      <td>NaN</td>\n",
       "      <td>NaN</td>\n",
       "      <td>NaN</td>\n",
       "      <td>NaN</td>\n",
       "      <td>NaN</td>\n",
       "      <td>NaN</td>\n",
       "      <td>NaN</td>\n",
       "      <td>NaN</td>\n",
       "      <td>NaN</td>\n",
       "    </tr>\n",
       "    <tr>\n",
       "      <th>2019-11-12</th>\n",
       "      <td>198.50</td>\n",
       "      <td>201.45</td>\n",
       "      <td>198.00</td>\n",
       "      <td>200.95</td>\n",
       "      <td>498</td>\n",
       "      <td>1.29</td>\n",
       "      <td>195.00</td>\n",
       "      <td>193.60</td>\n",
       "      <td>194.00</td>\n",
       "      <td>NaN</td>\n",
       "      <td>...</td>\n",
       "      <td>NaN</td>\n",
       "      <td>NaN</td>\n",
       "      <td>NaN</td>\n",
       "      <td>NaN</td>\n",
       "      <td>NaN</td>\n",
       "      <td>NaN</td>\n",
       "      <td>NaN</td>\n",
       "      <td>NaN</td>\n",
       "      <td>NaN</td>\n",
       "      <td>NaN</td>\n",
       "    </tr>\n",
       "    <tr>\n",
       "      <th>2019-11-13</th>\n",
       "      <td>200.60</td>\n",
       "      <td>207.95</td>\n",
       "      <td>200.60</td>\n",
       "      <td>208.95</td>\n",
       "      <td>1379</td>\n",
       "      <td>3.98</td>\n",
       "      <td>198.50</td>\n",
       "      <td>195.00</td>\n",
       "      <td>193.60</td>\n",
       "      <td>194.00</td>\n",
       "      <td>...</td>\n",
       "      <td>NaN</td>\n",
       "      <td>NaN</td>\n",
       "      <td>NaN</td>\n",
       "      <td>NaN</td>\n",
       "      <td>NaN</td>\n",
       "      <td>NaN</td>\n",
       "      <td>NaN</td>\n",
       "      <td>NaN</td>\n",
       "      <td>NaN</td>\n",
       "      <td>NaN</td>\n",
       "    </tr>\n",
       "    <tr>\n",
       "      <th>...</th>\n",
       "      <td>...</td>\n",
       "      <td>...</td>\n",
       "      <td>...</td>\n",
       "      <td>...</td>\n",
       "      <td>...</td>\n",
       "      <td>...</td>\n",
       "      <td>...</td>\n",
       "      <td>...</td>\n",
       "      <td>...</td>\n",
       "      <td>...</td>\n",
       "      <td>...</td>\n",
       "      <td>...</td>\n",
       "      <td>...</td>\n",
       "      <td>...</td>\n",
       "      <td>...</td>\n",
       "      <td>...</td>\n",
       "      <td>...</td>\n",
       "      <td>...</td>\n",
       "      <td>...</td>\n",
       "      <td>...</td>\n",
       "      <td>...</td>\n",
       "    </tr>\n",
       "    <tr>\n",
       "      <th>2022-07-26</th>\n",
       "      <td>322.95</td>\n",
       "      <td>324.00</td>\n",
       "      <td>322.75</td>\n",
       "      <td>323.00</td>\n",
       "      <td>391</td>\n",
       "      <td>0.72</td>\n",
       "      <td>319.05</td>\n",
       "      <td>320.85</td>\n",
       "      <td>322.15</td>\n",
       "      <td>323.95</td>\n",
       "      <td>...</td>\n",
       "      <td>0.99</td>\n",
       "      <td>-0.47</td>\n",
       "      <td>0.12</td>\n",
       "      <td>-1.09</td>\n",
       "      <td>-0.15</td>\n",
       "      <td>-0.62</td>\n",
       "      <td>-0.20</td>\n",
       "      <td>-0.37</td>\n",
       "      <td>-0.73</td>\n",
       "      <td>0.88</td>\n",
       "    </tr>\n",
       "    <tr>\n",
       "      <th>2022-07-27</th>\n",
       "      <td>323.05</td>\n",
       "      <td>323.05</td>\n",
       "      <td>319.55</td>\n",
       "      <td>319.25</td>\n",
       "      <td>53</td>\n",
       "      <td>-1.16</td>\n",
       "      <td>322.95</td>\n",
       "      <td>319.05</td>\n",
       "      <td>320.85</td>\n",
       "      <td>322.15</td>\n",
       "      <td>...</td>\n",
       "      <td>-0.99</td>\n",
       "      <td>0.99</td>\n",
       "      <td>-0.47</td>\n",
       "      <td>0.12</td>\n",
       "      <td>-1.09</td>\n",
       "      <td>-0.15</td>\n",
       "      <td>-0.62</td>\n",
       "      <td>-0.20</td>\n",
       "      <td>-0.37</td>\n",
       "      <td>-0.73</td>\n",
       "    </tr>\n",
       "    <tr>\n",
       "      <th>2022-07-28</th>\n",
       "      <td>320.00</td>\n",
       "      <td>322.35</td>\n",
       "      <td>318.70</td>\n",
       "      <td>322.35</td>\n",
       "      <td>4</td>\n",
       "      <td>0.97</td>\n",
       "      <td>323.05</td>\n",
       "      <td>322.95</td>\n",
       "      <td>319.05</td>\n",
       "      <td>320.85</td>\n",
       "      <td>...</td>\n",
       "      <td>-0.38</td>\n",
       "      <td>-0.99</td>\n",
       "      <td>0.99</td>\n",
       "      <td>-0.47</td>\n",
       "      <td>0.12</td>\n",
       "      <td>-1.09</td>\n",
       "      <td>-0.15</td>\n",
       "      <td>-0.62</td>\n",
       "      <td>-0.20</td>\n",
       "      <td>-0.37</td>\n",
       "    </tr>\n",
       "    <tr>\n",
       "      <th>2022-07-29</th>\n",
       "      <td>318.70</td>\n",
       "      <td>324.00</td>\n",
       "      <td>318.45</td>\n",
       "      <td>324.00</td>\n",
       "      <td>58</td>\n",
       "      <td>0.51</td>\n",
       "      <td>320.00</td>\n",
       "      <td>323.05</td>\n",
       "      <td>322.95</td>\n",
       "      <td>319.05</td>\n",
       "      <td>...</td>\n",
       "      <td>-0.51</td>\n",
       "      <td>-0.38</td>\n",
       "      <td>-0.99</td>\n",
       "      <td>0.99</td>\n",
       "      <td>-0.47</td>\n",
       "      <td>0.12</td>\n",
       "      <td>-1.09</td>\n",
       "      <td>-0.15</td>\n",
       "      <td>-0.62</td>\n",
       "      <td>-0.20</td>\n",
       "    </tr>\n",
       "    <tr>\n",
       "      <th>2022-08-01</th>\n",
       "      <td>323.90</td>\n",
       "      <td>326.70</td>\n",
       "      <td>323.25</td>\n",
       "      <td>326.25</td>\n",
       "      <td>712</td>\n",
       "      <td>0.69</td>\n",
       "      <td>318.70</td>\n",
       "      <td>320.00</td>\n",
       "      <td>323.05</td>\n",
       "      <td>322.95</td>\n",
       "      <td>...</td>\n",
       "      <td>-0.56</td>\n",
       "      <td>-0.51</td>\n",
       "      <td>-0.38</td>\n",
       "      <td>-0.99</td>\n",
       "      <td>0.99</td>\n",
       "      <td>-0.47</td>\n",
       "      <td>0.12</td>\n",
       "      <td>-1.09</td>\n",
       "      <td>-0.15</td>\n",
       "      <td>-0.62</td>\n",
       "    </tr>\n",
       "  </tbody>\n",
       "</table>\n",
       "<p>676 rows × 81 columns</p>\n",
       "</div>"
      ],
      "text/plain": [
       "              Open    High     Low   Close  Volume  Change Pct  Open_def_1  \\\n",
       "Date                                                                         \n",
       "2019-11-07  194.00  197.30  194.00  193.85    1664        0.23         NaN   \n",
       "2019-11-08  193.60  195.50  192.80  195.10    1656        0.64      194.00   \n",
       "2019-11-11  195.00  198.90  195.00  198.40     691        1.69      193.60   \n",
       "2019-11-12  198.50  201.45  198.00  200.95     498        1.29      195.00   \n",
       "2019-11-13  200.60  207.95  200.60  208.95    1379        3.98      198.50   \n",
       "...            ...     ...     ...     ...     ...         ...         ...   \n",
       "2022-07-26  322.95  324.00  322.75  323.00     391        0.72      319.05   \n",
       "2022-07-27  323.05  323.05  319.55  319.25      53       -1.16      322.95   \n",
       "2022-07-28  320.00  322.35  318.70  322.35       4        0.97      323.05   \n",
       "2022-07-29  318.70  324.00  318.45  324.00      58        0.51      320.00   \n",
       "2022-08-01  323.90  326.70  323.25  326.25     712        0.69      318.70   \n",
       "\n",
       "            Open_def_2  Open_def_3  Open_def_4  ...  Change Pct_def_6  \\\n",
       "Date                                            ...                     \n",
       "2019-11-07         NaN         NaN         NaN  ...               NaN   \n",
       "2019-11-08         NaN         NaN         NaN  ...               NaN   \n",
       "2019-11-11      194.00         NaN         NaN  ...               NaN   \n",
       "2019-11-12      193.60      194.00         NaN  ...               NaN   \n",
       "2019-11-13      195.00      193.60      194.00  ...               NaN   \n",
       "...                ...         ...         ...  ...               ...   \n",
       "2022-07-26      320.85      322.15      323.95  ...              0.99   \n",
       "2022-07-27      319.05      320.85      322.15  ...             -0.99   \n",
       "2022-07-28      322.95      319.05      320.85  ...             -0.38   \n",
       "2022-07-29      323.05      322.95      319.05  ...             -0.51   \n",
       "2022-08-01      320.00      323.05      322.95  ...             -0.56   \n",
       "\n",
       "            Change Pct_def_7  Change Pct_def_8  Change Pct_def_9  \\\n",
       "Date                                                               \n",
       "2019-11-07               NaN               NaN               NaN   \n",
       "2019-11-08               NaN               NaN               NaN   \n",
       "2019-11-11               NaN               NaN               NaN   \n",
       "2019-11-12               NaN               NaN               NaN   \n",
       "2019-11-13               NaN               NaN               NaN   \n",
       "...                      ...               ...               ...   \n",
       "2022-07-26             -0.47              0.12             -1.09   \n",
       "2022-07-27              0.99             -0.47              0.12   \n",
       "2022-07-28             -0.99              0.99             -0.47   \n",
       "2022-07-29             -0.38             -0.99              0.99   \n",
       "2022-08-01             -0.51             -0.38             -0.99   \n",
       "\n",
       "            Change Pct_def_10  Change Pct_def_11  Change Pct_def_12  \\\n",
       "Date                                                                  \n",
       "2019-11-07                NaN                NaN                NaN   \n",
       "2019-11-08                NaN                NaN                NaN   \n",
       "2019-11-11                NaN                NaN                NaN   \n",
       "2019-11-12                NaN                NaN                NaN   \n",
       "2019-11-13                NaN                NaN                NaN   \n",
       "...                       ...                ...                ...   \n",
       "2022-07-26              -0.15              -0.62              -0.20   \n",
       "2022-07-27              -1.09              -0.15              -0.62   \n",
       "2022-07-28               0.12              -1.09              -0.15   \n",
       "2022-07-29              -0.47               0.12              -1.09   \n",
       "2022-08-01               0.99              -0.47               0.12   \n",
       "\n",
       "            Change Pct_def_13  Change Pct_def_14  Change Pct_def_15  \n",
       "Date                                                                 \n",
       "2019-11-07                NaN                NaN                NaN  \n",
       "2019-11-08                NaN                NaN                NaN  \n",
       "2019-11-11                NaN                NaN                NaN  \n",
       "2019-11-12                NaN                NaN                NaN  \n",
       "2019-11-13                NaN                NaN                NaN  \n",
       "...                       ...                ...                ...  \n",
       "2022-07-26              -0.37              -0.73               0.88  \n",
       "2022-07-27              -0.20              -0.37              -0.73  \n",
       "2022-07-28              -0.62              -0.20              -0.37  \n",
       "2022-07-29              -0.15              -0.62              -0.20  \n",
       "2022-08-01              -1.09              -0.15              -0.62  \n",
       "\n",
       "[676 rows x 81 columns]"
      ]
     },
     "execution_count": 226,
     "metadata": {},
     "output_type": "execute_result"
    }
   ],
   "source": [
    "boi_br_eng"
   ]
  },
  {
   "cell_type": "code",
   "execution_count": 227,
   "id": "f2c80372",
   "metadata": {},
   "outputs": [],
   "source": [
    "#Assim como podemos construir as features usando o passado da base, podemos construir a variável resposta usando o futuro da base também!\n",
    "\n"
   ]
  },
  {
   "cell_type": "code",
   "execution_count": 228,
   "id": "186f67d6",
   "metadata": {},
   "outputs": [],
   "source": [
    "def construcao_target(base,nome_feature_target,periodos_considerados):\n",
    "    # Constrói a variável resposta usando feature_target agrupado pelo número periodos_considerados\n",
    "    cols_target = []\n",
    "    for i in range(periodos_considerados):\n",
    "        nome_feature = nome_feature_target+'_'+str(i)\n",
    "        cols_target.append(nome_feature)\n",
    "        base[nome_feature] = base[nome_feature_target].shift(-i)\n",
    "    # Consolidação final\n",
    "    base['target'] = base[cols_target].mean(axis=1)\n",
    "    # Retorna a base apenas com a coluna target, desconsiderando as demais\n",
    "    return base.drop(cols_target,axis=1)\n",
    "                   "
   ]
  },
  {
   "cell_type": "code",
   "execution_count": 229,
   "id": "0e7d79ad",
   "metadata": {},
   "outputs": [],
   "source": [
    "#Vamos definir que nossa target será a previsão dos próximos 15 dias"
   ]
  },
  {
   "cell_type": "code",
   "execution_count": 230,
   "id": "3d744277",
   "metadata": {},
   "outputs": [],
   "source": [
    "base_com_target = construcao_target(boi_br_eng,'Close',15).dropna()"
   ]
  },
  {
   "cell_type": "code",
   "execution_count": 231,
   "id": "21b73683",
   "metadata": {},
   "outputs": [
    {
     "data": {
      "text/html": [
       "<div>\n",
       "<style scoped>\n",
       "    .dataframe tbody tr th:only-of-type {\n",
       "        vertical-align: middle;\n",
       "    }\n",
       "\n",
       "    .dataframe tbody tr th {\n",
       "        vertical-align: top;\n",
       "    }\n",
       "\n",
       "    .dataframe thead th {\n",
       "        text-align: right;\n",
       "    }\n",
       "</style>\n",
       "<table border=\"1\" class=\"dataframe\">\n",
       "  <thead>\n",
       "    <tr style=\"text-align: right;\">\n",
       "      <th></th>\n",
       "      <th>Open</th>\n",
       "      <th>High</th>\n",
       "      <th>Low</th>\n",
       "      <th>Close</th>\n",
       "      <th>Volume</th>\n",
       "      <th>Change Pct</th>\n",
       "      <th>Open_def_1</th>\n",
       "      <th>Open_def_2</th>\n",
       "      <th>Open_def_3</th>\n",
       "      <th>Open_def_4</th>\n",
       "      <th>...</th>\n",
       "      <th>Change Pct_def_7</th>\n",
       "      <th>Change Pct_def_8</th>\n",
       "      <th>Change Pct_def_9</th>\n",
       "      <th>Change Pct_def_10</th>\n",
       "      <th>Change Pct_def_11</th>\n",
       "      <th>Change Pct_def_12</th>\n",
       "      <th>Change Pct_def_13</th>\n",
       "      <th>Change Pct_def_14</th>\n",
       "      <th>Change Pct_def_15</th>\n",
       "      <th>target</th>\n",
       "    </tr>\n",
       "    <tr>\n",
       "      <th>Date</th>\n",
       "      <th></th>\n",
       "      <th></th>\n",
       "      <th></th>\n",
       "      <th></th>\n",
       "      <th></th>\n",
       "      <th></th>\n",
       "      <th></th>\n",
       "      <th></th>\n",
       "      <th></th>\n",
       "      <th></th>\n",
       "      <th></th>\n",
       "      <th></th>\n",
       "      <th></th>\n",
       "      <th></th>\n",
       "      <th></th>\n",
       "      <th></th>\n",
       "      <th></th>\n",
       "      <th></th>\n",
       "      <th></th>\n",
       "      <th></th>\n",
       "      <th></th>\n",
       "    </tr>\n",
       "  </thead>\n",
       "  <tbody>\n",
       "    <tr>\n",
       "      <th>2019-12-02</th>\n",
       "      <td>201.95</td>\n",
       "      <td>202.00</td>\n",
       "      <td>200.30</td>\n",
       "      <td>200.50</td>\n",
       "      <td>53</td>\n",
       "      <td>-3.05</td>\n",
       "      <td>204.00</td>\n",
       "      <td>213.40</td>\n",
       "      <td>220.50</td>\n",
       "      <td>217.50</td>\n",
       "      <td>...</td>\n",
       "      <td>0.32</td>\n",
       "      <td>1.38</td>\n",
       "      <td>4.00</td>\n",
       "      <td>-1.94</td>\n",
       "      <td>3.98</td>\n",
       "      <td>1.29</td>\n",
       "      <td>1.69</td>\n",
       "      <td>0.64</td>\n",
       "      <td>0.23</td>\n",
       "      <td>198.340000</td>\n",
       "    </tr>\n",
       "    <tr>\n",
       "      <th>2019-12-03</th>\n",
       "      <td>198.00</td>\n",
       "      <td>198.00</td>\n",
       "      <td>194.90</td>\n",
       "      <td>195.75</td>\n",
       "      <td>11</td>\n",
       "      <td>-2.37</td>\n",
       "      <td>201.95</td>\n",
       "      <td>204.00</td>\n",
       "      <td>213.40</td>\n",
       "      <td>220.50</td>\n",
       "      <td>...</td>\n",
       "      <td>-0.37</td>\n",
       "      <td>0.32</td>\n",
       "      <td>1.38</td>\n",
       "      <td>4.00</td>\n",
       "      <td>-1.94</td>\n",
       "      <td>3.98</td>\n",
       "      <td>1.29</td>\n",
       "      <td>1.69</td>\n",
       "      <td>0.64</td>\n",
       "      <td>198.140000</td>\n",
       "    </tr>\n",
       "    <tr>\n",
       "      <th>2019-12-04</th>\n",
       "      <td>195.95</td>\n",
       "      <td>196.00</td>\n",
       "      <td>193.75</td>\n",
       "      <td>192.00</td>\n",
       "      <td>104</td>\n",
       "      <td>-1.92</td>\n",
       "      <td>198.00</td>\n",
       "      <td>201.95</td>\n",
       "      <td>204.00</td>\n",
       "      <td>213.40</td>\n",
       "      <td>...</td>\n",
       "      <td>0.46</td>\n",
       "      <td>-0.37</td>\n",
       "      <td>0.32</td>\n",
       "      <td>1.38</td>\n",
       "      <td>4.00</td>\n",
       "      <td>-1.94</td>\n",
       "      <td>3.98</td>\n",
       "      <td>1.29</td>\n",
       "      <td>1.69</td>\n",
       "      <td>198.333333</td>\n",
       "    </tr>\n",
       "    <tr>\n",
       "      <th>2019-12-05</th>\n",
       "      <td>193.00</td>\n",
       "      <td>195.00</td>\n",
       "      <td>192.00</td>\n",
       "      <td>195.10</td>\n",
       "      <td>57</td>\n",
       "      <td>1.61</td>\n",
       "      <td>195.95</td>\n",
       "      <td>198.00</td>\n",
       "      <td>201.95</td>\n",
       "      <td>204.00</td>\n",
       "      <td>...</td>\n",
       "      <td>1.50</td>\n",
       "      <td>0.46</td>\n",
       "      <td>-0.37</td>\n",
       "      <td>0.32</td>\n",
       "      <td>1.38</td>\n",
       "      <td>4.00</td>\n",
       "      <td>-1.94</td>\n",
       "      <td>3.98</td>\n",
       "      <td>1.29</td>\n",
       "      <td>198.600000</td>\n",
       "    </tr>\n",
       "    <tr>\n",
       "      <th>2019-12-06</th>\n",
       "      <td>198.80</td>\n",
       "      <td>203.00</td>\n",
       "      <td>198.80</td>\n",
       "      <td>202.80</td>\n",
       "      <td>50</td>\n",
       "      <td>3.95</td>\n",
       "      <td>193.00</td>\n",
       "      <td>195.95</td>\n",
       "      <td>198.00</td>\n",
       "      <td>201.95</td>\n",
       "      <td>...</td>\n",
       "      <td>-1.86</td>\n",
       "      <td>1.50</td>\n",
       "      <td>0.46</td>\n",
       "      <td>-0.37</td>\n",
       "      <td>0.32</td>\n",
       "      <td>1.38</td>\n",
       "      <td>4.00</td>\n",
       "      <td>-1.94</td>\n",
       "      <td>3.98</td>\n",
       "      <td>198.743333</td>\n",
       "    </tr>\n",
       "    <tr>\n",
       "      <th>...</th>\n",
       "      <td>...</td>\n",
       "      <td>...</td>\n",
       "      <td>...</td>\n",
       "      <td>...</td>\n",
       "      <td>...</td>\n",
       "      <td>...</td>\n",
       "      <td>...</td>\n",
       "      <td>...</td>\n",
       "      <td>...</td>\n",
       "      <td>...</td>\n",
       "      <td>...</td>\n",
       "      <td>...</td>\n",
       "      <td>...</td>\n",
       "      <td>...</td>\n",
       "      <td>...</td>\n",
       "      <td>...</td>\n",
       "      <td>...</td>\n",
       "      <td>...</td>\n",
       "      <td>...</td>\n",
       "      <td>...</td>\n",
       "      <td>...</td>\n",
       "    </tr>\n",
       "    <tr>\n",
       "      <th>2022-07-26</th>\n",
       "      <td>322.95</td>\n",
       "      <td>324.00</td>\n",
       "      <td>322.75</td>\n",
       "      <td>323.00</td>\n",
       "      <td>391</td>\n",
       "      <td>0.72</td>\n",
       "      <td>319.05</td>\n",
       "      <td>320.85</td>\n",
       "      <td>322.15</td>\n",
       "      <td>323.95</td>\n",
       "      <td>...</td>\n",
       "      <td>-0.47</td>\n",
       "      <td>0.12</td>\n",
       "      <td>-1.09</td>\n",
       "      <td>-0.15</td>\n",
       "      <td>-0.62</td>\n",
       "      <td>-0.20</td>\n",
       "      <td>-0.37</td>\n",
       "      <td>-0.73</td>\n",
       "      <td>0.88</td>\n",
       "      <td>322.970000</td>\n",
       "    </tr>\n",
       "    <tr>\n",
       "      <th>2022-07-27</th>\n",
       "      <td>323.05</td>\n",
       "      <td>323.05</td>\n",
       "      <td>319.55</td>\n",
       "      <td>319.25</td>\n",
       "      <td>53</td>\n",
       "      <td>-1.16</td>\n",
       "      <td>322.95</td>\n",
       "      <td>319.05</td>\n",
       "      <td>320.85</td>\n",
       "      <td>322.15</td>\n",
       "      <td>...</td>\n",
       "      <td>0.99</td>\n",
       "      <td>-0.47</td>\n",
       "      <td>0.12</td>\n",
       "      <td>-1.09</td>\n",
       "      <td>-0.15</td>\n",
       "      <td>-0.62</td>\n",
       "      <td>-0.20</td>\n",
       "      <td>-0.37</td>\n",
       "      <td>-0.73</td>\n",
       "      <td>322.962500</td>\n",
       "    </tr>\n",
       "    <tr>\n",
       "      <th>2022-07-28</th>\n",
       "      <td>320.00</td>\n",
       "      <td>322.35</td>\n",
       "      <td>318.70</td>\n",
       "      <td>322.35</td>\n",
       "      <td>4</td>\n",
       "      <td>0.97</td>\n",
       "      <td>323.05</td>\n",
       "      <td>322.95</td>\n",
       "      <td>319.05</td>\n",
       "      <td>320.85</td>\n",
       "      <td>...</td>\n",
       "      <td>-0.99</td>\n",
       "      <td>0.99</td>\n",
       "      <td>-0.47</td>\n",
       "      <td>0.12</td>\n",
       "      <td>-1.09</td>\n",
       "      <td>-0.15</td>\n",
       "      <td>-0.62</td>\n",
       "      <td>-0.20</td>\n",
       "      <td>-0.37</td>\n",
       "      <td>324.200000</td>\n",
       "    </tr>\n",
       "    <tr>\n",
       "      <th>2022-07-29</th>\n",
       "      <td>318.70</td>\n",
       "      <td>324.00</td>\n",
       "      <td>318.45</td>\n",
       "      <td>324.00</td>\n",
       "      <td>58</td>\n",
       "      <td>0.51</td>\n",
       "      <td>320.00</td>\n",
       "      <td>323.05</td>\n",
       "      <td>322.95</td>\n",
       "      <td>319.05</td>\n",
       "      <td>...</td>\n",
       "      <td>-0.38</td>\n",
       "      <td>-0.99</td>\n",
       "      <td>0.99</td>\n",
       "      <td>-0.47</td>\n",
       "      <td>0.12</td>\n",
       "      <td>-1.09</td>\n",
       "      <td>-0.15</td>\n",
       "      <td>-0.62</td>\n",
       "      <td>-0.20</td>\n",
       "      <td>325.125000</td>\n",
       "    </tr>\n",
       "    <tr>\n",
       "      <th>2022-08-01</th>\n",
       "      <td>323.90</td>\n",
       "      <td>326.70</td>\n",
       "      <td>323.25</td>\n",
       "      <td>326.25</td>\n",
       "      <td>712</td>\n",
       "      <td>0.69</td>\n",
       "      <td>318.70</td>\n",
       "      <td>320.00</td>\n",
       "      <td>323.05</td>\n",
       "      <td>322.95</td>\n",
       "      <td>...</td>\n",
       "      <td>-0.51</td>\n",
       "      <td>-0.38</td>\n",
       "      <td>-0.99</td>\n",
       "      <td>0.99</td>\n",
       "      <td>-0.47</td>\n",
       "      <td>0.12</td>\n",
       "      <td>-1.09</td>\n",
       "      <td>-0.15</td>\n",
       "      <td>-0.62</td>\n",
       "      <td>326.250000</td>\n",
       "    </tr>\n",
       "  </tbody>\n",
       "</table>\n",
       "<p>661 rows × 82 columns</p>\n",
       "</div>"
      ],
      "text/plain": [
       "              Open    High     Low   Close  Volume  Change Pct  Open_def_1  \\\n",
       "Date                                                                         \n",
       "2019-12-02  201.95  202.00  200.30  200.50      53       -3.05      204.00   \n",
       "2019-12-03  198.00  198.00  194.90  195.75      11       -2.37      201.95   \n",
       "2019-12-04  195.95  196.00  193.75  192.00     104       -1.92      198.00   \n",
       "2019-12-05  193.00  195.00  192.00  195.10      57        1.61      195.95   \n",
       "2019-12-06  198.80  203.00  198.80  202.80      50        3.95      193.00   \n",
       "...            ...     ...     ...     ...     ...         ...         ...   \n",
       "2022-07-26  322.95  324.00  322.75  323.00     391        0.72      319.05   \n",
       "2022-07-27  323.05  323.05  319.55  319.25      53       -1.16      322.95   \n",
       "2022-07-28  320.00  322.35  318.70  322.35       4        0.97      323.05   \n",
       "2022-07-29  318.70  324.00  318.45  324.00      58        0.51      320.00   \n",
       "2022-08-01  323.90  326.70  323.25  326.25     712        0.69      318.70   \n",
       "\n",
       "            Open_def_2  Open_def_3  Open_def_4  ...  Change Pct_def_7  \\\n",
       "Date                                            ...                     \n",
       "2019-12-02      213.40      220.50      217.50  ...              0.32   \n",
       "2019-12-03      204.00      213.40      220.50  ...             -0.37   \n",
       "2019-12-04      201.95      204.00      213.40  ...              0.46   \n",
       "2019-12-05      198.00      201.95      204.00  ...              1.50   \n",
       "2019-12-06      195.95      198.00      201.95  ...             -1.86   \n",
       "...                ...         ...         ...  ...               ...   \n",
       "2022-07-26      320.85      322.15      323.95  ...             -0.47   \n",
       "2022-07-27      319.05      320.85      322.15  ...              0.99   \n",
       "2022-07-28      322.95      319.05      320.85  ...             -0.99   \n",
       "2022-07-29      323.05      322.95      319.05  ...             -0.38   \n",
       "2022-08-01      320.00      323.05      322.95  ...             -0.51   \n",
       "\n",
       "            Change Pct_def_8  Change Pct_def_9  Change Pct_def_10  \\\n",
       "Date                                                                \n",
       "2019-12-02              1.38              4.00              -1.94   \n",
       "2019-12-03              0.32              1.38               4.00   \n",
       "2019-12-04             -0.37              0.32               1.38   \n",
       "2019-12-05              0.46             -0.37               0.32   \n",
       "2019-12-06              1.50              0.46              -0.37   \n",
       "...                      ...               ...                ...   \n",
       "2022-07-26              0.12             -1.09              -0.15   \n",
       "2022-07-27             -0.47              0.12              -1.09   \n",
       "2022-07-28              0.99             -0.47               0.12   \n",
       "2022-07-29             -0.99              0.99              -0.47   \n",
       "2022-08-01             -0.38             -0.99               0.99   \n",
       "\n",
       "            Change Pct_def_11  Change Pct_def_12  Change Pct_def_13  \\\n",
       "Date                                                                  \n",
       "2019-12-02               3.98               1.29               1.69   \n",
       "2019-12-03              -1.94               3.98               1.29   \n",
       "2019-12-04               4.00              -1.94               3.98   \n",
       "2019-12-05               1.38               4.00              -1.94   \n",
       "2019-12-06               0.32               1.38               4.00   \n",
       "...                       ...                ...                ...   \n",
       "2022-07-26              -0.62              -0.20              -0.37   \n",
       "2022-07-27              -0.15              -0.62              -0.20   \n",
       "2022-07-28              -1.09              -0.15              -0.62   \n",
       "2022-07-29               0.12              -1.09              -0.15   \n",
       "2022-08-01              -0.47               0.12              -1.09   \n",
       "\n",
       "            Change Pct_def_14  Change Pct_def_15      target  \n",
       "Date                                                          \n",
       "2019-12-02               0.64               0.23  198.340000  \n",
       "2019-12-03               1.69               0.64  198.140000  \n",
       "2019-12-04               1.29               1.69  198.333333  \n",
       "2019-12-05               3.98               1.29  198.600000  \n",
       "2019-12-06              -1.94               3.98  198.743333  \n",
       "...                       ...                ...         ...  \n",
       "2022-07-26              -0.73               0.88  322.970000  \n",
       "2022-07-27              -0.37              -0.73  322.962500  \n",
       "2022-07-28              -0.20              -0.37  324.200000  \n",
       "2022-07-29              -0.62              -0.20  325.125000  \n",
       "2022-08-01              -0.15              -0.62  326.250000  \n",
       "\n",
       "[661 rows x 82 columns]"
      ]
     },
     "execution_count": 231,
     "metadata": {},
     "output_type": "execute_result"
    }
   ],
   "source": [
    "base_com_target"
   ]
  },
  {
   "cell_type": "code",
   "execution_count": 232,
   "id": "8a57fdac",
   "metadata": {},
   "outputs": [],
   "source": [
    "#separar os dados em features e targets"
   ]
  },
  {
   "cell_type": "code",
   "execution_count": 233,
   "id": "deda9534",
   "metadata": {},
   "outputs": [],
   "source": [
    "X = base_com_target.drop('target',axis=1)\n",
    "y = base_com_target.target"
   ]
  },
  {
   "cell_type": "code",
   "execution_count": 234,
   "id": "69e24d1b",
   "metadata": {},
   "outputs": [],
   "source": [
    "#Com scikit-learn, podemos usar o módulo TimeSeriesSplit para fazer validação cruzada"
   ]
  },
  {
   "cell_type": "code",
   "execution_count": 235,
   "id": "7ffcbaf3",
   "metadata": {},
   "outputs": [
    {
     "data": {
      "text/plain": [
       "<generator object TimeSeriesSplit.split at 0x000002C1FFC4FF90>"
      ]
     },
     "execution_count": 235,
     "metadata": {},
     "output_type": "execute_result"
    }
   ],
   "source": [
    "from sklearn.model_selection import TimeSeriesSplit\n",
    "\n",
    "ts = TimeSeriesSplit(n_splits=5).split(X,y)\n",
    "ts"
   ]
  },
  {
   "cell_type": "code",
   "execution_count": 236,
   "id": "2269f364",
   "metadata": {},
   "outputs": [],
   "source": [
    "#Temos um objeto split, como em um KFold usado em validações cruzadas de problemas não temporais. Vamos checar o tamanho de cada fold a cada iteração"
   ]
  },
  {
   "cell_type": "code",
   "execution_count": 237,
   "id": "3a50132f",
   "metadata": {},
   "outputs": [
    {
     "name": "stdout",
     "output_type": "stream",
     "text": [
      "Fold 1\n",
      "Conjunto de treino: 111 registros\n",
      "Conjunto de teste: 110 registros\n",
      "---\n",
      "Fold 2\n",
      "Conjunto de treino: 221 registros\n",
      "Conjunto de teste: 110 registros\n",
      "---\n",
      "Fold 3\n",
      "Conjunto de treino: 331 registros\n",
      "Conjunto de teste: 110 registros\n",
      "---\n",
      "Fold 4\n",
      "Conjunto de treino: 441 registros\n",
      "Conjunto de teste: 110 registros\n",
      "---\n",
      "Fold 5\n",
      "Conjunto de treino: 551 registros\n",
      "Conjunto de teste: 110 registros\n",
      "---\n"
     ]
    }
   ],
   "source": [
    "i=1\n",
    "for train_index, test_index in TimeSeriesSplit(n_splits=5).split(X,y):\n",
    "    #print(train_index)\n",
    "    print('Fold '+str(i))\n",
    "    print('Conjunto de treino: '+str(len(X.iloc[train_index]))+' registros')\n",
    "    print('Conjunto de teste: '+str(len(X.iloc[test_index]))+' registros')\n",
    "    print('---')\n",
    "    i = i+1"
   ]
  },
  {
   "cell_type": "markdown",
   "id": "0746a191",
   "metadata": {},
   "source": [
    "Ainda precisamos separar dados que o modelo nunca terá acesso, mesmo na validação cruzada. Como temos dados temporais e queremos testar a performance no futuro, faremos uma separação Out of time"
   ]
  },
  {
   "cell_type": "code",
   "execution_count": 238,
   "id": "4917e823",
   "metadata": {},
   "outputs": [
    {
     "name": "stdout",
     "output_type": "stream",
     "text": [
      "Tamanho do treino 515\n",
      "Tamanho do teste 146\n"
     ]
    }
   ],
   "source": [
    "# Temos quatro anos na base (2019-2022), então iremos separar os últimos 6 meses para teste\n",
    "corte_treino_teste = '2022-01-01'\n",
    "  \n",
    "X_train = X[X.index<=corte_treino_teste]\n",
    "X_test = X[X.index>corte_treino_teste]\n",
    "\n",
    "y_train = y[y.index<=corte_treino_teste]\n",
    "y_test = y[y.index>corte_treino_teste]\n",
    "\n",
    "print('Tamanho do treino '+str(len(X_train)))\n",
    "print('Tamanho do teste '+str(len(X_test)))"
   ]
  },
  {
   "cell_type": "markdown",
   "id": "30717c2b",
   "metadata": {},
   "source": [
    "Escolhendo uma métrica e encontrando o modelo ideal"
   ]
  },
  {
   "cell_type": "markdown",
   "id": "43c8942d",
   "metadata": {},
   "source": [
    "- mean_squared_error ou MSE: Média das diferenças entre a variável verdadeira e a predita ao quadrado. Quanto menor, melhor!\n",
    "- mean_absolute_error ou MAE: Média das diferenças entre a variável verdadeira e a predita em módulo. Quanto menor, melhor!\n",
    "- root_mean_squared_error ou RMSE: Raíz quadrada do mean_squared_error. Quanto menor, melhor!\n",
    "- r2_score ou apenas r2: Percentual da variância total da variável resposta que pode ser explicada pelo modelo além do que a média já explica. Quanto maior, melhor!"
   ]
  },
  {
   "cell_type": "markdown",
   "id": "8655f121",
   "metadata": {},
   "source": [
    "OBS: Em séries temporais, há uma grande preferência por uso de métricas com escala, como o MAE ou o RMSE. Para este problema, inicialmente, iremos usar o MAE"
   ]
  },
  {
   "cell_type": "markdown",
   "id": "ca2da5e5",
   "metadata": {},
   "source": [
    "Escolhendo alguns modelos para avaliar a nossa métrica e escolher o melhor"
   ]
  },
  {
   "cell_type": "code",
   "execution_count": 239,
   "id": "578a857f",
   "metadata": {},
   "outputs": [],
   "source": [
    "# Módulos de manipulação de dados\n",
    "\n",
    "import pandas as pd\n",
    "import numpy as np\n",
    "import matplotlib.pyplot as plt\n",
    "import seaborn as sns\n",
    "\n",
    "\n",
    "# Módulos de DataPrep\n",
    "from sklearn.preprocessing import StandardScaler, MinMaxScaler\n",
    "from sklearn.model_selection import cross_val_score, train_test_split\n",
    "\n",
    "import warnings\n",
    "warnings.filterwarnings('ignore')\n",
    "\n",
    "# Modelos de regressão que iremos testar\n",
    "from sklearn.linear_model import LinearRegression, Ridge, Lasso\n",
    "from sklearn.tree import DecisionTreeRegressor\n",
    "from sklearn.ensemble import RandomForestRegressor, GradientBoostingRegressor\n",
    "from lightgbm import LGBMRegressor\n",
    "\n",
    "plt.rc('xtick', labelsize=18) \n",
    "plt.rc('ytick', labelsize=18) \n",
    "\n",
    "# Métricas\n",
    "from sklearn.metrics import mean_squared_error, mean_absolute_error"
   ]
  },
  {
   "cell_type": "code",
   "execution_count": 240,
   "id": "ae4c714b",
   "metadata": {},
   "outputs": [],
   "source": [
    "modelos_candidatos = {'Árvore':DecisionTreeRegressor(max_depth=5),\n",
    "                      'RandomForest':RandomForestRegressor(max_depth=5),\n",
    "                      'LGBM':LGBMRegressor(max_depth=5)\n",
    "                     }"
   ]
  },
  {
   "cell_type": "markdown",
   "id": "9ec9ecfd",
   "metadata": {},
   "source": [
    "Vamos usar crossvalidação temporal e a métrica MAE para avaliar a performance destes modelos e fazer um gráfico"
   ]
  },
  {
   "cell_type": "code",
   "execution_count": 241,
   "id": "6e1a913c",
   "metadata": {},
   "outputs": [],
   "source": [
    "avaliacao = {}\n",
    "for nome,model in modelos_candidatos.items():\n",
    "    # Avalia a crossvalidação\n",
    "    score = cross_val_score(model, # Escolhendo o nosso modelo da vez\n",
    "                            X_train, y_train, # Nossos dados, excluindo o teste\n",
    "                            cv=TimeSeriesSplit(n_splits=5), # Validação cruzada temporal\n",
    "                            scoring='neg_mean_absolute_error', # Usando a métrica MAE\n",
    "                           n_jobs=8 # Número de processadores, para ser mais rápido\n",
    "                           ).mean() # Tirando a média de todos os folds\n",
    "    avaliacao[nome] = -score # -score e não score para tornar o número positivo"
   ]
  },
  {
   "cell_type": "code",
   "execution_count": 242,
   "id": "99539a65",
   "metadata": {},
   "outputs": [
    {
     "data": {
      "text/plain": [
       "{'Árvore': 20.630318895701684,\n",
       " 'RandomForest': 19.515988990232138,\n",
       " 'LGBM': 19.921157179444272}"
      ]
     },
     "execution_count": 242,
     "metadata": {},
     "output_type": "execute_result"
    }
   ],
   "source": [
    "avaliacao"
   ]
  },
  {
   "cell_type": "code",
   "execution_count": 243,
   "id": "7dae69f3",
   "metadata": {},
   "outputs": [
    {
     "data": {
      "image/png": "[encoded data removed]",
      "text/plain": [
       "<Figure size 720x360 with 1 Axes>"
      ]
     },
     "metadata": {
      "needs_background": "light"
     },
     "output_type": "display_data"
    }
   ],
   "source": [
    "plt.figure(figsize=(10,5))\n",
    "plt.barh(*zip(*avaliacao.items()))\n",
    "plt.xticks(fontsize=18)\n",
    "plt.yticks(fontsize=18)\n",
    "plt.xlabel('MAE (menor = melhor)',size=18)\n",
    "plt.show()"
   ]
  },
  {
   "cell_type": "markdown",
   "id": "a87fde04",
   "metadata": {},
   "source": [
    "Pelo gráfico acima, o modelo que parece ter sido o melhor com os hiperparâmetros usados é o RandomForest! Então vamos escolher este modelo para otimização"
   ]
  },
  {
   "cell_type": "markdown",
   "id": "4c4ece2f",
   "metadata": {},
   "source": [
    "Seleção de variáveis: inferindo a janela ideal de defasagem\n",
    "Na grande maioria dos problemas de séries temporais, as bases de dados não são tão grandes assim, exceto em casos em que a captura de dados é muito alta (dados em segundos, milisegundos, etc.) Entretanto, dependendo do cenário, podemos ter bases de dados com muitas features"
   ]
  },
  {
   "cell_type": "code",
   "execution_count": 244,
   "id": "65a677d3",
   "metadata": {},
   "outputs": [],
   "source": [
    "# Vamos definir uma função de dataprep\n",
    "\n",
    "def dataprep(base, defasagem_passado, defasagem_futuro):\n",
    "    # Partindo da nossa base inicial (dados diarios)\n",
    "    b1 = base.copy()\n",
    "    # Eliminando missings\n",
    "    b2 = b1.dropna()\n",
    "    # Vamos construir features até defasagem_passado períodos atrás\n",
    "    b3 = constroi_features_defasadas(b2,['Open', 'High', 'Low','Volume', 'Change Pct'],defasagem_passado)\n",
    "    # E também uma variável target nos defasagem_futuro períodos seguintes\n",
    "    b4 = construcao_target(b3,'Close',defasagem_futuro)\n",
    "    return b4.dropna()"
   ]
  },
  {
   "cell_type": "code",
   "execution_count": 245,
   "id": "9f5611c6",
   "metadata": {},
   "outputs": [
    {
     "name": "stdout",
     "output_type": "stream",
     "text": [
      "Número de features com 10 defasagens: 57\n",
      "Número de features com 15 defasagens: 82\n",
      "Número de features com 20 defasagens: 107\n",
      "Número de features com 30 defasagens: 157\n",
      "Número de features com 45 defasagens: 232\n",
      "Número de features com 60 defasagens: 307\n"
     ]
    }
   ],
   "source": [
    "# testando alguns tamanhos de base\n",
    "for i in [10,15,20,30,45,60]:\n",
    "    base_prep = dataprep(boi_br,i,15)\n",
    "    print('Número de features com '+str(i)+' defasagens: {}'.format(base_prep.shape[-1]))"
   ]
  },
  {
   "cell_type": "markdown",
   "id": "568e2c17",
   "metadata": {},
   "source": [
    "Até mesmo pensando em implantação de modelos, muitas features podem tornar o modelo pesado e complexo, então de alguma maneira temos que fazer uma seleção de variáveis baseada nos resultados que temos. Uma forma bacana é analisarmos se nossa performance melhora muito na medida em que usamos mais features para o modelo\n",
    "\n"
   ]
  },
  {
   "cell_type": "code",
   "execution_count": 246,
   "id": "df8a76b9",
   "metadata": {},
   "outputs": [],
   "source": [
    "avaliacao = []\n",
    "for i in range(15,90,15): # Testando de 15 a 90 dias de defasagem, variando de 15 em 15\n",
    "    # Prepara a base\n",
    "    base_avaliacao = dataprep(boi_br,i,15) # i defasagens para trás, 30 para frente\n",
    "    X = base_avaliacao.drop('target',axis=1)\n",
    "    y = base_avaliacao.target\n",
    "    X_train = X[X.index<=corte_treino_teste]\n",
    "    X_test = X[X.index>corte_treino_teste]\n",
    "    y_train = y[y.index<=corte_treino_teste]\n",
    "    y_test = y[y.index>corte_treino_teste]\n",
    "    score = cross_val_score(LGBMRegressor(max_depth=5), # Escolhendo o nosso modelo da vez\n",
    "                            X_train, y_train, # Nossos dados, excluindo o teste\n",
    "                            cv=TimeSeriesSplit(n_splits=5), # Validação cruzada temporal\n",
    "                            scoring='neg_mean_absolute_error', # Usando a métrica MAE\n",
    "                            n_jobs=8 # Número de processadores, só para ir mais rápido\n",
    "                           ).mean() # Tirando a média de todos os folds\n",
    "    avaliacao.append((i,-score))\n"
   ]
  },
  {
   "cell_type": "code",
   "execution_count": 247,
   "id": "4dae4ea1",
   "metadata": {},
   "outputs": [
    {
     "data": {
      "image/png": "[encoded data removed]",
      "text/plain": [
       "<Figure size 720x360 with 1 Axes>"
      ]
     },
     "metadata": {
      "needs_background": "light"
     },
     "output_type": "display_data"
    }
   ],
   "source": [
    "# Exemplo de bases com muitas features\n",
    "plt.figure(figsize=(10,5))\n",
    "plt.plot(*zip(*avaliacao))\n",
    "plt.xlabel('Dias de defasagem das features',size=14)\n",
    "plt.ylabel('MAE de validação (menor = melhor)',size=14)\n",
    "plt.ylim([200000,800000])\n",
    "plt.title('Comportamento do MAE conforme usamos mais defasagens para o treinamento',size=18)\n",
    "plt.show()"
   ]
  },
  {
   "cell_type": "code",
   "execution_count": 248,
   "id": "7c3e92c3",
   "metadata": {},
   "outputs": [
    {
     "data": {
      "text/plain": [
       "[(15, 19.921157179444272),\n",
       " (30, 21.50675846951176),\n",
       " (45, 22.338955198487906),\n",
       " (60, 24.01051840865509),\n",
       " (75, 23.796645440427756)]"
      ]
     },
     "execution_count": 248,
     "metadata": {},
     "output_type": "execute_result"
    }
   ],
   "source": [
    "avaliacao"
   ]
  },
  {
   "cell_type": "markdown",
   "id": "cd50795f",
   "metadata": {},
   "source": [
    "Pelo gráfico acima, vemos que usando mais features defasadas não ganhamos tanta performance. Sendo assim, vamos travar 15 dias"
   ]
  },
  {
   "cell_type": "code",
   "execution_count": 249,
   "id": "7175f0d2",
   "metadata": {},
   "outputs": [
    {
     "name": "stdout",
     "output_type": "stream",
     "text": [
      "Tamanho do treino 515\n",
      "Tamanho do teste 146\n"
     ]
    }
   ],
   "source": [
    "base_final = dataprep(boi_br,15,15)\n",
    "X = base_final.drop('target',axis=1)\n",
    "y = base_final.target\n",
    "\n",
    "# Temos quatro anos na base (2019-2022), então iremos separar os últimos 9 meses para teste\n",
    "corte_treino_teste = '2022-01-01'\n",
    "\n",
    "X_train = X[X.index<=corte_treino_teste]\n",
    "X_test = X[X.index>corte_treino_teste]\n",
    "\n",
    "y_train = y[y.index<=corte_treino_teste]\n",
    "y_test = y[y.index>corte_treino_teste]\n",
    "\n",
    "print('Tamanho do treino '+str(len(X_train)))\n",
    "print('Tamanho do teste '+str(len(X_test)))"
   ]
  },
  {
   "cell_type": "markdown",
   "id": "bd3aae43",
   "metadata": {},
   "source": [
    "A escolha da métrica: comparações relativas\n",
    "Um dos pontos mais importantes da validação cruzada de séries temporais é a escolha da métrica. Isso importa bastante pois o tamanho do conjunto de treino varia a cada iteração\n",
    "\n",
    "Vamos avaliar isso usando o cross_val_score"
   ]
  },
  {
   "cell_type": "code",
   "execution_count": 250,
   "id": "9f5c8954",
   "metadata": {},
   "outputs": [],
   "source": [
    "scores = -cross_val_score(LGBMRegressor(), # Escolhendo o nosso modelo da vez\n",
    "                    X_train, y_train, # Nossos dados, excluindo o teste\n",
    "                    cv=TimeSeriesSplit(n_splits=10), # Validação cruzada temporal\n",
    "                    scoring='neg_mean_absolute_error', # Usando a métrica MAE\n",
    "                   n_jobs=8 # Número de processadores, para rodar mais rápido\n",
    "                         ) # Tirando a média de todos os folds\n"
   ]
  },
  {
   "cell_type": "code",
   "execution_count": 251,
   "id": "4b6ebc0f",
   "metadata": {},
   "outputs": [
    {
     "data": {
      "image/png": "[encoded data removed]",
      "text/plain": [
       "<Figure size 1440x360 with 1 Axes>"
      ]
     },
     "metadata": {
      "needs_background": "light"
     },
     "output_type": "display_data"
    }
   ],
   "source": [
    "plt.figure(figsize=(20,5))\n",
    "plt.bar(height=scores,x=['Fold '+str(i) for i in range(1,11)])\n",
    "plt.xlabel('Fold da validação cruzada',size=18)\n",
    "plt.ylabel('MAE (menor = melhor)',size=18)\n",
    "plt.title('Influência do fold na validação cruzada com MAE',size=18)\n",
    "plt.show()"
   ]
  },
  {
   "cell_type": "markdown",
   "id": "0282ac2c",
   "metadata": {},
   "source": [
    "De alguma maneira, quanto menos dados temos para treinar o modelo, mais underfitting teremos, e a nossa métrica precisa ser robusta a isso para evitarmos conclusões incorretas!\n",
    "Uma solução simples para isso é comparar a nossa métrica com a métrica de um modelo de base. No caso do r2_score, o modelo de base é uma média simples da variável resposta. Vamos então calcular para todos os dados a média móvel do período de defasagem para o passado, e usar a métrica deste modelo \"simples\" para avaliar o nosso!"
   ]
  },
  {
   "cell_type": "code",
   "execution_count": 252,
   "id": "1697f0a1",
   "metadata": {},
   "outputs": [],
   "source": [
    "y_mediamovel = y_test.rolling(window=15,closed='left').mean().dropna() #Eliminando dias sem média móvel\n",
    "\n",
    "# Selecionando para validação os mesmos índices\n",
    "X_valid = X.loc[y_mediamovel.index]\n",
    "y_valid = y.loc[y_mediamovel.index]\n"
   ]
  },
  {
   "cell_type": "markdown",
   "id": "1fc7a308",
   "metadata": {},
   "source": [
    "Vamos agora repetir a validação cruzada com Time Series, agora comparando nossa métrica com a da média móvel"
   ]
  },
  {
   "cell_type": "code",
   "execution_count": 253,
   "id": "e76f9d3a",
   "metadata": {},
   "outputs": [
    {
     "data": {
      "text/html": [
       "<div>\n",
       "<style scoped>\n",
       "    .dataframe tbody tr th:only-of-type {\n",
       "        vertical-align: middle;\n",
       "    }\n",
       "\n",
       "    .dataframe tbody tr th {\n",
       "        vertical-align: top;\n",
       "    }\n",
       "\n",
       "    .dataframe thead th {\n",
       "        text-align: right;\n",
       "    }\n",
       "</style>\n",
       "<table border=\"1\" class=\"dataframe\">\n",
       "  <thead>\n",
       "    <tr style=\"text-align: right;\">\n",
       "      <th></th>\n",
       "      <th>Open</th>\n",
       "      <th>High</th>\n",
       "      <th>Low</th>\n",
       "      <th>Close</th>\n",
       "      <th>Volume</th>\n",
       "      <th>Change Pct</th>\n",
       "      <th>Open_def_1</th>\n",
       "      <th>Open_def_2</th>\n",
       "      <th>Open_def_3</th>\n",
       "      <th>Open_def_4</th>\n",
       "      <th>...</th>\n",
       "      <th>Change Pct_def_6</th>\n",
       "      <th>Change Pct_def_7</th>\n",
       "      <th>Change Pct_def_8</th>\n",
       "      <th>Change Pct_def_9</th>\n",
       "      <th>Change Pct_def_10</th>\n",
       "      <th>Change Pct_def_11</th>\n",
       "      <th>Change Pct_def_12</th>\n",
       "      <th>Change Pct_def_13</th>\n",
       "      <th>Change Pct_def_14</th>\n",
       "      <th>Change Pct_def_15</th>\n",
       "    </tr>\n",
       "    <tr>\n",
       "      <th>Date</th>\n",
       "      <th></th>\n",
       "      <th></th>\n",
       "      <th></th>\n",
       "      <th></th>\n",
       "      <th></th>\n",
       "      <th></th>\n",
       "      <th></th>\n",
       "      <th></th>\n",
       "      <th></th>\n",
       "      <th></th>\n",
       "      <th></th>\n",
       "      <th></th>\n",
       "      <th></th>\n",
       "      <th></th>\n",
       "      <th></th>\n",
       "      <th></th>\n",
       "      <th></th>\n",
       "      <th></th>\n",
       "      <th></th>\n",
       "      <th></th>\n",
       "      <th></th>\n",
       "    </tr>\n",
       "  </thead>\n",
       "  <tbody>\n",
       "    <tr>\n",
       "      <th>2022-01-24</th>\n",
       "      <td>337.50</td>\n",
       "      <td>337.50</td>\n",
       "      <td>336.00</td>\n",
       "      <td>337.20</td>\n",
       "      <td>8</td>\n",
       "      <td>0.76</td>\n",
       "      <td>334.80</td>\n",
       "      <td>335.50</td>\n",
       "      <td>336.30</td>\n",
       "      <td>337.00</td>\n",
       "      <td>...</td>\n",
       "      <td>-0.24</td>\n",
       "      <td>0.55</td>\n",
       "      <td>-0.45</td>\n",
       "      <td>-0.40</td>\n",
       "      <td>0.93</td>\n",
       "      <td>0.11</td>\n",
       "      <td>0.30</td>\n",
       "      <td>-2.27</td>\n",
       "      <td>0.04</td>\n",
       "      <td>0.06</td>\n",
       "    </tr>\n",
       "    <tr>\n",
       "      <th>2022-01-25</th>\n",
       "      <td>337.05</td>\n",
       "      <td>338.35</td>\n",
       "      <td>336.95</td>\n",
       "      <td>337.95</td>\n",
       "      <td>12</td>\n",
       "      <td>0.22</td>\n",
       "      <td>337.50</td>\n",
       "      <td>334.80</td>\n",
       "      <td>335.50</td>\n",
       "      <td>336.30</td>\n",
       "      <td>...</td>\n",
       "      <td>0.99</td>\n",
       "      <td>-0.24</td>\n",
       "      <td>0.55</td>\n",
       "      <td>-0.45</td>\n",
       "      <td>-0.40</td>\n",
       "      <td>0.93</td>\n",
       "      <td>0.11</td>\n",
       "      <td>0.30</td>\n",
       "      <td>-2.27</td>\n",
       "      <td>0.04</td>\n",
       "    </tr>\n",
       "    <tr>\n",
       "      <th>2022-01-26</th>\n",
       "      <td>338.95</td>\n",
       "      <td>339.80</td>\n",
       "      <td>337.05</td>\n",
       "      <td>337.50</td>\n",
       "      <td>2</td>\n",
       "      <td>-0.13</td>\n",
       "      <td>337.05</td>\n",
       "      <td>337.50</td>\n",
       "      <td>334.80</td>\n",
       "      <td>335.50</td>\n",
       "      <td>...</td>\n",
       "      <td>0.68</td>\n",
       "      <td>0.99</td>\n",
       "      <td>-0.24</td>\n",
       "      <td>0.55</td>\n",
       "      <td>-0.45</td>\n",
       "      <td>-0.40</td>\n",
       "      <td>0.93</td>\n",
       "      <td>0.11</td>\n",
       "      <td>0.30</td>\n",
       "      <td>-2.27</td>\n",
       "    </tr>\n",
       "    <tr>\n",
       "      <th>2022-01-27</th>\n",
       "      <td>337.50</td>\n",
       "      <td>337.85</td>\n",
       "      <td>336.50</td>\n",
       "      <td>337.05</td>\n",
       "      <td>328</td>\n",
       "      <td>-0.13</td>\n",
       "      <td>338.95</td>\n",
       "      <td>337.05</td>\n",
       "      <td>337.50</td>\n",
       "      <td>334.80</td>\n",
       "      <td>...</td>\n",
       "      <td>-1.20</td>\n",
       "      <td>0.68</td>\n",
       "      <td>0.99</td>\n",
       "      <td>-0.24</td>\n",
       "      <td>0.55</td>\n",
       "      <td>-0.45</td>\n",
       "      <td>-0.40</td>\n",
       "      <td>0.93</td>\n",
       "      <td>0.11</td>\n",
       "      <td>0.30</td>\n",
       "    </tr>\n",
       "    <tr>\n",
       "      <th>2022-01-28</th>\n",
       "      <td>337.55</td>\n",
       "      <td>337.55</td>\n",
       "      <td>336.00</td>\n",
       "      <td>336.10</td>\n",
       "      <td>191</td>\n",
       "      <td>-0.28</td>\n",
       "      <td>337.50</td>\n",
       "      <td>338.95</td>\n",
       "      <td>337.05</td>\n",
       "      <td>337.50</td>\n",
       "      <td>...</td>\n",
       "      <td>-0.42</td>\n",
       "      <td>-1.20</td>\n",
       "      <td>0.68</td>\n",
       "      <td>0.99</td>\n",
       "      <td>-0.24</td>\n",
       "      <td>0.55</td>\n",
       "      <td>-0.45</td>\n",
       "      <td>-0.40</td>\n",
       "      <td>0.93</td>\n",
       "      <td>0.11</td>\n",
       "    </tr>\n",
       "    <tr>\n",
       "      <th>...</th>\n",
       "      <td>...</td>\n",
       "      <td>...</td>\n",
       "      <td>...</td>\n",
       "      <td>...</td>\n",
       "      <td>...</td>\n",
       "      <td>...</td>\n",
       "      <td>...</td>\n",
       "      <td>...</td>\n",
       "      <td>...</td>\n",
       "      <td>...</td>\n",
       "      <td>...</td>\n",
       "      <td>...</td>\n",
       "      <td>...</td>\n",
       "      <td>...</td>\n",
       "      <td>...</td>\n",
       "      <td>...</td>\n",
       "      <td>...</td>\n",
       "      <td>...</td>\n",
       "      <td>...</td>\n",
       "      <td>...</td>\n",
       "      <td>...</td>\n",
       "    </tr>\n",
       "    <tr>\n",
       "      <th>2022-07-26</th>\n",
       "      <td>322.95</td>\n",
       "      <td>324.00</td>\n",
       "      <td>322.75</td>\n",
       "      <td>323.00</td>\n",
       "      <td>391</td>\n",
       "      <td>0.72</td>\n",
       "      <td>319.05</td>\n",
       "      <td>320.85</td>\n",
       "      <td>322.15</td>\n",
       "      <td>323.95</td>\n",
       "      <td>...</td>\n",
       "      <td>0.99</td>\n",
       "      <td>-0.47</td>\n",
       "      <td>0.12</td>\n",
       "      <td>-1.09</td>\n",
       "      <td>-0.15</td>\n",
       "      <td>-0.62</td>\n",
       "      <td>-0.20</td>\n",
       "      <td>-0.37</td>\n",
       "      <td>-0.73</td>\n",
       "      <td>0.88</td>\n",
       "    </tr>\n",
       "    <tr>\n",
       "      <th>2022-07-27</th>\n",
       "      <td>323.05</td>\n",
       "      <td>323.05</td>\n",
       "      <td>319.55</td>\n",
       "      <td>319.25</td>\n",
       "      <td>53</td>\n",
       "      <td>-1.16</td>\n",
       "      <td>322.95</td>\n",
       "      <td>319.05</td>\n",
       "      <td>320.85</td>\n",
       "      <td>322.15</td>\n",
       "      <td>...</td>\n",
       "      <td>-0.99</td>\n",
       "      <td>0.99</td>\n",
       "      <td>-0.47</td>\n",
       "      <td>0.12</td>\n",
       "      <td>-1.09</td>\n",
       "      <td>-0.15</td>\n",
       "      <td>-0.62</td>\n",
       "      <td>-0.20</td>\n",
       "      <td>-0.37</td>\n",
       "      <td>-0.73</td>\n",
       "    </tr>\n",
       "    <tr>\n",
       "      <th>2022-07-28</th>\n",
       "      <td>320.00</td>\n",
       "      <td>322.35</td>\n",
       "      <td>318.70</td>\n",
       "      <td>322.35</td>\n",
       "      <td>4</td>\n",
       "      <td>0.97</td>\n",
       "      <td>323.05</td>\n",
       "      <td>322.95</td>\n",
       "      <td>319.05</td>\n",
       "      <td>320.85</td>\n",
       "      <td>...</td>\n",
       "      <td>-0.38</td>\n",
       "      <td>-0.99</td>\n",
       "      <td>0.99</td>\n",
       "      <td>-0.47</td>\n",
       "      <td>0.12</td>\n",
       "      <td>-1.09</td>\n",
       "      <td>-0.15</td>\n",
       "      <td>-0.62</td>\n",
       "      <td>-0.20</td>\n",
       "      <td>-0.37</td>\n",
       "    </tr>\n",
       "    <tr>\n",
       "      <th>2022-07-29</th>\n",
       "      <td>318.70</td>\n",
       "      <td>324.00</td>\n",
       "      <td>318.45</td>\n",
       "      <td>324.00</td>\n",
       "      <td>58</td>\n",
       "      <td>0.51</td>\n",
       "      <td>320.00</td>\n",
       "      <td>323.05</td>\n",
       "      <td>322.95</td>\n",
       "      <td>319.05</td>\n",
       "      <td>...</td>\n",
       "      <td>-0.51</td>\n",
       "      <td>-0.38</td>\n",
       "      <td>-0.99</td>\n",
       "      <td>0.99</td>\n",
       "      <td>-0.47</td>\n",
       "      <td>0.12</td>\n",
       "      <td>-1.09</td>\n",
       "      <td>-0.15</td>\n",
       "      <td>-0.62</td>\n",
       "      <td>-0.20</td>\n",
       "    </tr>\n",
       "    <tr>\n",
       "      <th>2022-08-01</th>\n",
       "      <td>323.90</td>\n",
       "      <td>326.70</td>\n",
       "      <td>323.25</td>\n",
       "      <td>326.25</td>\n",
       "      <td>712</td>\n",
       "      <td>0.69</td>\n",
       "      <td>318.70</td>\n",
       "      <td>320.00</td>\n",
       "      <td>323.05</td>\n",
       "      <td>322.95</td>\n",
       "      <td>...</td>\n",
       "      <td>-0.56</td>\n",
       "      <td>-0.51</td>\n",
       "      <td>-0.38</td>\n",
       "      <td>-0.99</td>\n",
       "      <td>0.99</td>\n",
       "      <td>-0.47</td>\n",
       "      <td>0.12</td>\n",
       "      <td>-1.09</td>\n",
       "      <td>-0.15</td>\n",
       "      <td>-0.62</td>\n",
       "    </tr>\n",
       "  </tbody>\n",
       "</table>\n",
       "<p>131 rows × 81 columns</p>\n",
       "</div>"
      ],
      "text/plain": [
       "              Open    High     Low   Close  Volume  Change Pct  Open_def_1  \\\n",
       "Date                                                                         \n",
       "2022-01-24  337.50  337.50  336.00  337.20       8        0.76      334.80   \n",
       "2022-01-25  337.05  338.35  336.95  337.95      12        0.22      337.50   \n",
       "2022-01-26  338.95  339.80  337.05  337.50       2       -0.13      337.05   \n",
       "2022-01-27  337.50  337.85  336.50  337.05     328       -0.13      338.95   \n",
       "2022-01-28  337.55  337.55  336.00  336.10     191       -0.28      337.50   \n",
       "...            ...     ...     ...     ...     ...         ...         ...   \n",
       "2022-07-26  322.95  324.00  322.75  323.00     391        0.72      319.05   \n",
       "2022-07-27  323.05  323.05  319.55  319.25      53       -1.16      322.95   \n",
       "2022-07-28  320.00  322.35  318.70  322.35       4        0.97      323.05   \n",
       "2022-07-29  318.70  324.00  318.45  324.00      58        0.51      320.00   \n",
       "2022-08-01  323.90  326.70  323.25  326.25     712        0.69      318.70   \n",
       "\n",
       "            Open_def_2  Open_def_3  Open_def_4  ...  Change Pct_def_6  \\\n",
       "Date                                            ...                     \n",
       "2022-01-24      335.50      336.30      337.00  ...             -0.24   \n",
       "2022-01-25      334.80      335.50      336.30  ...              0.99   \n",
       "2022-01-26      337.50      334.80      335.50  ...              0.68   \n",
       "2022-01-27      337.05      337.50      334.80  ...             -1.20   \n",
       "2022-01-28      338.95      337.05      337.50  ...             -0.42   \n",
       "...                ...         ...         ...  ...               ...   \n",
       "2022-07-26      320.85      322.15      323.95  ...              0.99   \n",
       "2022-07-27      319.05      320.85      322.15  ...             -0.99   \n",
       "2022-07-28      322.95      319.05      320.85  ...             -0.38   \n",
       "2022-07-29      323.05      322.95      319.05  ...             -0.51   \n",
       "2022-08-01      320.00      323.05      322.95  ...             -0.56   \n",
       "\n",
       "            Change Pct_def_7  Change Pct_def_8  Change Pct_def_9  \\\n",
       "Date                                                               \n",
       "2022-01-24              0.55             -0.45             -0.40   \n",
       "2022-01-25             -0.24              0.55             -0.45   \n",
       "2022-01-26              0.99             -0.24              0.55   \n",
       "2022-01-27              0.68              0.99             -0.24   \n",
       "2022-01-28             -1.20              0.68              0.99   \n",
       "...                      ...               ...               ...   \n",
       "2022-07-26             -0.47              0.12             -1.09   \n",
       "2022-07-27              0.99             -0.47              0.12   \n",
       "2022-07-28             -0.99              0.99             -0.47   \n",
       "2022-07-29             -0.38             -0.99              0.99   \n",
       "2022-08-01             -0.51             -0.38             -0.99   \n",
       "\n",
       "            Change Pct_def_10  Change Pct_def_11  Change Pct_def_12  \\\n",
       "Date                                                                  \n",
       "2022-01-24               0.93               0.11               0.30   \n",
       "2022-01-25              -0.40               0.93               0.11   \n",
       "2022-01-26              -0.45              -0.40               0.93   \n",
       "2022-01-27               0.55              -0.45              -0.40   \n",
       "2022-01-28              -0.24               0.55              -0.45   \n",
       "...                       ...                ...                ...   \n",
       "2022-07-26              -0.15              -0.62              -0.20   \n",
       "2022-07-27              -1.09              -0.15              -0.62   \n",
       "2022-07-28               0.12              -1.09              -0.15   \n",
       "2022-07-29              -0.47               0.12              -1.09   \n",
       "2022-08-01               0.99              -0.47               0.12   \n",
       "\n",
       "            Change Pct_def_13  Change Pct_def_14  Change Pct_def_15  \n",
       "Date                                                                 \n",
       "2022-01-24              -2.27               0.04               0.06  \n",
       "2022-01-25               0.30              -2.27               0.04  \n",
       "2022-01-26               0.11               0.30              -2.27  \n",
       "2022-01-27               0.93               0.11               0.30  \n",
       "2022-01-28              -0.40               0.93               0.11  \n",
       "...                       ...                ...                ...  \n",
       "2022-07-26              -0.37              -0.73               0.88  \n",
       "2022-07-27              -0.20              -0.37              -0.73  \n",
       "2022-07-28              -0.62              -0.20              -0.37  \n",
       "2022-07-29              -0.15              -0.62              -0.20  \n",
       "2022-08-01              -1.09              -0.15              -0.62  \n",
       "\n",
       "[131 rows x 81 columns]"
      ]
     },
     "execution_count": 253,
     "metadata": {},
     "output_type": "execute_result"
    }
   ],
   "source": [
    "X_valid"
   ]
  },
  {
   "cell_type": "code",
   "execution_count": 254,
   "id": "7d200ca2",
   "metadata": {},
   "outputs": [],
   "source": [
    "metricas = []\n",
    "for index_train, index_test in TimeSeriesSplit(n_splits=10).split(X_valid,y_valid):\n",
    "    # Dados de treino\n",
    "    x_tr = X_valid.iloc[index_train]\n",
    "    y_tr = y_valid.iloc[index_train]\n",
    "    x_te = X_valid.iloc[index_test]\n",
    "    y_te = y_valid.iloc[index_test]\n",
    "    y_mdmv = y_mediamovel[index_test]\n",
    "    # Treinando um modelo e ajustando aos dados de treino\n",
    "    model = LGBMRegressor().fit(x_tr,y_tr)\n",
    "    # Prevendo nos dados de teste\n",
    "    y_pr = model.predict(x_te)\n",
    "    # Calculando a métrica (MAE) no teste \n",
    "    mae_model = mean_absolute_error(y_te,y_pr)\n",
    "    mae_mdmv = mean_absolute_error(y_te,y_mdmv)\n",
    "    mae_relativo = mae_model/mae_mdmv\n",
    "    metricas.append(mae_relativo)"
   ]
  },
  {
   "cell_type": "code",
   "execution_count": 255,
   "id": "21e25dce",
   "metadata": {},
   "outputs": [
    {
     "data": {
      "image/png": "[encoded data removed]",
      "text/plain": [
       "<Figure size 2160x360 with 2 Axes>"
      ]
     },
     "metadata": {
      "needs_background": "light"
     },
     "output_type": "display_data"
    }
   ],
   "source": [
    "fig, ax = plt.subplots(1,2, figsize=(30,5))\n",
    "ax[0].bar(height=metricas,x=['Fold '+str(i) for i in range(1,11)])\n",
    "ax[0].set_xlabel('Fold da validação cruzada',size=18)\n",
    "ax[0].set_ylabel('MAE/MAE_mediamóvel (menor = melhor)',size=18)\n",
    "ax[0].set_title('Influência do tamanho do fold na validação cruzada com MAE',size=18)\n",
    "ax[1].bar(height=scores,x=['Fold '+str(i) for i in range(1,11)])\n",
    "ax[1].set_xlabel('Fold da validação cruzada',size=18)\n",
    "ax[1].set_ylabel('MAE (menor = melhor)',size=18)\n",
    "ax[1].set_title('Influência do tamanho do fold na validação cruzada com MAE',size=18)\n",
    "plt.show()"
   ]
  },
  {
   "cell_type": "markdown",
   "id": "0c5a3186",
   "metadata": {},
   "source": [
    "Otimização de Hiperparâmetros e modelo final\n",
    "Agora com nosso modelo escolhido, vamos otimizar os hiperparâmetros e plotar nosso modelo final! Para isso, vamos usar o GridSearchCV específico para o RandomForestRegressor"
   ]
  },
  {
   "cell_type": "markdown",
   "id": "6b680d29",
   "metadata": {},
   "source": [
    "param_grid = {\n",
    "'learning_rate':[.1,.15,.2,.25,.3],\n",
    "'n_estimators':[10,100,150,200,300],\n",
    "'num_leaves':[20,220,260,300,400]\n",
    "}\n"
   ]
  },
  {
   "cell_type": "code",
   "execution_count": 256,
   "id": "6dfe01f3",
   "metadata": {},
   "outputs": [],
   "source": [
    " param_grid = {'n_estimators': [100,300,500, 700, 1000], 'max_depth': [None, 1, 2, 3, 5], 'min_samples_split': [1, 2, 3, 5]}"
   ]
  },
  {
   "cell_type": "code",
   "execution_count": 257,
   "id": "aeca6ea2",
   "metadata": {},
   "outputs": [],
   "source": [
    "#instanciar o modelo"
   ]
  },
  {
   "cell_type": "code",
   "execution_count": 258,
   "id": "72f0141b",
   "metadata": {},
   "outputs": [],
   "source": [
    "from sklearn.model_selection import GridSearchCV"
   ]
  },
  {
   "cell_type": "code",
   "execution_count": 259,
   "id": "b4bb93be",
   "metadata": {
    "scrolled": true
   },
   "outputs": [
    {
     "name": "stdout",
     "output_type": "stream",
     "text": [
      "Fitting 3 folds for each of 100 candidates, totalling 300 fits\n"
     ]
    },
    {
     "data": {
      "text/plain": [
       "{'max_depth': None, 'min_samples_split': 2, 'n_estimators': 500}"
      ]
     },
     "execution_count": 259,
     "metadata": {},
     "output_type": "execute_result"
    }
   ],
   "source": [
    "rcv = GridSearchCV(RandomForestRegressor(),param_grid=param_grid,cv=TimeSeriesSplit(n_splits=3),\n",
    "                        scoring='neg_mean_absolute_error',verbose=True,n_jobs=8)\n",
    "rcv.fit(X,y)\n",
    "\n",
    "rcv.best_params_"
   ]
  },
  {
   "cell_type": "code",
   "execution_count": 260,
   "id": "112be0fe",
   "metadata": {},
   "outputs": [],
   "source": [
    "melhores_parametros = {'n_estimators': 500, 'max_depth': None, 'min_samples_split':2}"
   ]
  },
  {
   "cell_type": "code",
   "execution_count": 261,
   "id": "0d555874",
   "metadata": {},
   "outputs": [],
   "source": [
    "modelo = RandomForestRegressor(**melhores_parametros).fit(X_train,y_train)\n",
    "y_pred_final = pd.Series(modelo.predict(X),index=X.index)"
   ]
  },
  {
   "cell_type": "code",
   "execution_count": 262,
   "id": "67756a5a",
   "metadata": {},
   "outputs": [
    {
     "data": {
      "text/plain": [
       "<AxesSubplot:xlabel='Date'>"
      ]
     },
     "execution_count": 262,
     "metadata": {},
     "output_type": "execute_result"
    },
    {
     "data": {
      "image/png": "[encoded data removed]",
      "text/plain": [
       "<Figure size 2160x576 with 1 Axes>"
      ]
     },
     "metadata": {
      "needs_background": "light"
     },
     "output_type": "display_data"
    }
   ],
   "source": [
    "plt.figure(figsize=(30,8))\n",
    "y.plot(c='grey',alpha=0.8) # Dados reais"
   ]
  },
  {
   "cell_type": "code",
   "execution_count": 263,
   "id": "b8b1038d",
   "metadata": {},
   "outputs": [],
   "source": [
    "# Plotando os dados de treino e teste para 1 meses do conjunto de teste"
   ]
  },
  {
   "cell_type": "code",
   "execution_count": 264,
   "id": "2182c7a9",
   "metadata": {},
   "outputs": [],
   "source": [
    "x_pl = X[(X.index>='2022-02-01') & (X.index<='2022-03-01')]\n",
    "\n",
    "y_plot = y[x_pl.index]\n",
    "y_preds = y_pred_final[x_pl.index]\n",
    "y_mdmv_plot = y_mediamovel[x_pl.index]"
   ]
  },
  {
   "cell_type": "code",
   "execution_count": 266,
   "id": "a0490cd7",
   "metadata": {},
   "outputs": [
    {
     "data": {
      "image/png": "[encoded data removed]",
      "text/plain": [
       "<Figure size 2160x432 with 1 Axes>"
      ]
     },
     "metadata": {
      "needs_background": "light"
     },
     "output_type": "display_data"
    }
   ],
   "source": [
    "plt.figure(figsize=(30,6))\n",
    "y_plot.plot(c='grey',alpha=0.8,linewidth=3) # Dados reais\n",
    "y_preds.plot(c='blue') # Dados reais\n",
    "y_mdmv_plot.plot(c='red',alpha=0.5) # Dados reais\n",
    "plt.xticks(fontsize=22)\n",
    "plt.yticks(fontsize=22)\n",
    "plt.xlabel('Dia',size=22)\n",
    "plt.ylabel('Close',size=22)\n",
    "plt.title('Histórico de Close POR DIA ',size=22)\n",
    "plt.legend(['Dados reais','RandomForestRegressor','Média móvel 15 dias'],fontsize=22)\n",
    "plt.show()"
   ]
  },
  {
   "cell_type": "code",
   "execution_count": 267,
   "id": "a0e456f7",
   "metadata": {},
   "outputs": [
    {
     "name": "stdout",
     "output_type": "stream",
     "text": [
      "Performance do melhor RandomForestRegressor no treino\n",
      "1.1446241165048774\n",
      "Performance do melhor RandomForestRegressor no teste\n",
      "4.81051511642849\n"
     ]
    }
   ],
   "source": [
    "y_train_pred = modelo.predict(X_train)\n",
    "print('Performance do melhor RandomForestRegressor no treino')\n",
    "print(mean_absolute_error(y_train,y_train_pred))\n",
    "# Calculando a métrica no teste\n",
    "y_test_pred = modelo.predict(X_test)\n",
    "print('Performance do melhor RandomForestRegressor no teste')\n",
    "print(mean_absolute_error(y_test,y_test_pred))"
   ]
  },
  {
   "cell_type": "markdown",
   "id": "f491b059",
   "metadata": {},
   "source": [
    "Não tivemos uma performace boa com o LGBMRegressor"
   ]
  },
  {
   "cell_type": "code",
   "execution_count": 268,
   "id": "154d6ed7",
   "metadata": {},
   "outputs": [],
   "source": [
    "from keras.models import Sequential\n",
    "from keras.layers import Dense\n",
    "from keras.layers import LSTM # Long Short Term Memory\n",
    "from keras.layers import Bidirectional\n",
    "from keras.layers import Dropout # Regularização\n",
    "from sklearn.preprocessing import MinMaxScaler\n",
    "from keras.callbacks import EarlyStopping # Regularização"
   ]
  },
  {
   "cell_type": "markdown",
   "id": "9ab04248",
   "metadata": {},
   "source": [
    "Usando o Keras, podemos construir uma rede neural adicionando camadas uma após a outra, de forma que no fim o modelo irá treinar os melhores pesos que resolvem o nosso problema. Apenas para recapitular:\n",
    "\n",
    "Construímos nossa variável resposta como sendo o valor médio de notionalusd_ipca 30 dias seguintes\n",
    "Consideramos features 45 anteriores\n",
    "Até o momento, nenhum modelo entende que essa ordem existe\n",
    "Quando adicionamos uma camada LSTM(Long Short Term Memory) à rede neural, estamos dizendo que a ordem dos dados deve afetar a resposta, poranto iremos ganhar uma nova camada de impacto em relação aos demais modelos"
   ]
  },
  {
   "cell_type": "markdown",
   "id": "f102c063",
   "metadata": {},
   "source": [
    "Para treinar um modelo no Keras, por ser uma rede neural, temos que fazer mais dois tratamentos:\n",
    "\n",
    "Escala dos dados, pois não é um modelo robusto a escala\n",
    "Adicionar uma dimensão (para se tornar um tensor), mesmo que tenha dimensão 1"
   ]
  },
  {
   "cell_type": "code",
   "execution_count": 269,
   "id": "17e7e4a2",
   "metadata": {},
   "outputs": [],
   "source": [
    "# Treinando um escalador\n",
    "sc = StandardScaler().fit(X_train)\n",
    "X_train_sc = sc.transform(X_train).reshape(X_train.shape[0],1,X_train.shape[1])\n",
    "X_test_sc = sc.transform(X_test).reshape(X_test.shape[0],1,X_test.shape[1])"
   ]
  },
  {
   "cell_type": "markdown",
   "id": "78f5fd21",
   "metadata": {},
   "source": [
    "No keras, primeiro instanciamos nosso objeto Rede Neural, para então treiná-lo. Para isso, temos que definir algumas coisas:\n",
    "\n",
    "Quantas (e quais) camadas nossa rede terá, usando o comando .add()\n",
    "Compilar a rede (i.e., 'juntar' as camadas, definindo uma função custo e uma otimização, usando o comando .compile()"
   ]
  },
  {
   "cell_type": "code",
   "execution_count": 270,
   "id": "e8d2c3f3",
   "metadata": {},
   "outputs": [],
   "source": [
    "# Construindo a estrutura da rede neural\n",
    "callback = EarlyStopping(monitor='val_loss', patience=3)\n",
    "\n",
    "model = Sequential() # Vamos construir uma rede sequencial\n",
    "model.add(\n",
    "    Bidirectional(LSTM(units=50,input_shape=(X_train_sc.shape[1],X_train_sc.shape[2]))) # Camada LSTM (com memória), bidirecional!\n",
    ") # Camada de rede neural com memória\n",
    "model.add(Dropout(rate=0.2)) # Camada de 'esquecimento' de atualização de pesos, para regularização!\n",
    "model.add(Dense(1)) # Adicionando uma camada que resulta em um output (variável resposta) único\n",
    "model.compile(loss='mae', optimizer='adam') # Vou minimizar a o MAE, usando a técnica Adam"
   ]
  },
  {
   "cell_type": "markdown",
   "id": "4dd501aa",
   "metadata": {},
   "source": [
    "Aqui vamos usar um modo em que o modelo nos diz a função custo a cada iteração"
   ]
  },
  {
   "cell_type": "code",
   "execution_count": 271,
   "id": "97ead6cc",
   "metadata": {},
   "outputs": [
    {
     "name": "stdout",
     "output_type": "stream",
     "text": [
      "Epoch 1/50\n",
      "15/15 - 5s - loss: 266.2430 - val_loss: 328.0614 - 5s/epoch - 328ms/step\n",
      "Epoch 2/50\n",
      "15/15 - 0s - loss: 265.3504 - val_loss: 326.9422 - 59ms/epoch - 4ms/step\n",
      "Epoch 3/50\n",
      "15/15 - 0s - loss: 264.5783 - val_loss: 325.9450 - 51ms/epoch - 3ms/step\n",
      "Epoch 4/50\n",
      "15/15 - 0s - loss: 263.7189 - val_loss: 324.9793 - 52ms/epoch - 3ms/step\n",
      "Epoch 5/50\n",
      "15/15 - 0s - loss: 262.8110 - val_loss: 324.0828 - 54ms/epoch - 4ms/step\n",
      "Epoch 6/50\n",
      "15/15 - 0s - loss: 261.9944 - val_loss: 323.2903 - 51ms/epoch - 3ms/step\n",
      "Epoch 7/50\n",
      "15/15 - 0s - loss: 261.2481 - val_loss: 322.6120 - 50ms/epoch - 3ms/step\n",
      "Epoch 8/50\n",
      "15/15 - 0s - loss: 260.5693 - val_loss: 322.0288 - 51ms/epoch - 3ms/step\n",
      "Epoch 9/50\n",
      "15/15 - 0s - loss: 260.0104 - val_loss: 321.5010 - 50ms/epoch - 3ms/step\n",
      "Epoch 10/50\n",
      "15/15 - 0s - loss: 259.4397 - val_loss: 321.0038 - 51ms/epoch - 3ms/step\n",
      "Epoch 11/50\n",
      "15/15 - 0s - loss: 258.8757 - val_loss: 320.5254 - 51ms/epoch - 3ms/step\n",
      "Epoch 12/50\n",
      "15/15 - 0s - loss: 258.3790 - val_loss: 320.0609 - 54ms/epoch - 4ms/step\n",
      "Epoch 13/50\n",
      "15/15 - 0s - loss: 257.8468 - val_loss: 319.6067 - 52ms/epoch - 3ms/step\n",
      "Epoch 14/50\n",
      "15/15 - 0s - loss: 257.3349 - val_loss: 319.1586 - 54ms/epoch - 4ms/step\n",
      "Epoch 15/50\n",
      "15/15 - 0s - loss: 256.8719 - val_loss: 318.7189 - 51ms/epoch - 3ms/step\n",
      "Epoch 16/50\n",
      "15/15 - 0s - loss: 256.4087 - val_loss: 318.2838 - 56ms/epoch - 4ms/step\n",
      "Epoch 17/50\n",
      "15/15 - 0s - loss: 255.8551 - val_loss: 317.8533 - 51ms/epoch - 3ms/step\n",
      "Epoch 18/50\n",
      "15/15 - 0s - loss: 255.3150 - val_loss: 317.4245 - 51ms/epoch - 3ms/step\n",
      "Epoch 19/50\n",
      "15/15 - 0s - loss: 254.9048 - val_loss: 316.9998 - 50ms/epoch - 3ms/step\n",
      "Epoch 20/50\n",
      "15/15 - 0s - loss: 254.4355 - val_loss: 316.5770 - 52ms/epoch - 3ms/step\n",
      "Epoch 21/50\n",
      "15/15 - 0s - loss: 253.9496 - val_loss: 316.1555 - 51ms/epoch - 3ms/step\n",
      "Epoch 22/50\n",
      "15/15 - 0s - loss: 253.4054 - val_loss: 315.7356 - 52ms/epoch - 3ms/step\n",
      "Epoch 23/50\n",
      "15/15 - 0s - loss: 252.9735 - val_loss: 315.3184 - 51ms/epoch - 3ms/step\n",
      "Epoch 24/50\n",
      "15/15 - 0s - loss: 252.4911 - val_loss: 314.9019 - 53ms/epoch - 4ms/step\n",
      "Epoch 25/50\n",
      "15/15 - 0s - loss: 252.0518 - val_loss: 314.4910 - 50ms/epoch - 3ms/step\n",
      "Epoch 26/50\n",
      "15/15 - 0s - loss: 251.5608 - val_loss: 314.0800 - 53ms/epoch - 4ms/step\n",
      "Epoch 27/50\n",
      "15/15 - 0s - loss: 251.0648 - val_loss: 313.6700 - 52ms/epoch - 3ms/step\n",
      "Epoch 28/50\n",
      "15/15 - 0s - loss: 250.5968 - val_loss: 313.2630 - 51ms/epoch - 3ms/step\n",
      "Epoch 29/50\n",
      "15/15 - 0s - loss: 250.0498 - val_loss: 312.8552 - 51ms/epoch - 3ms/step\n",
      "Epoch 30/50\n",
      "15/15 - 0s - loss: 249.6170 - val_loss: 312.4477 - 51ms/epoch - 3ms/step\n",
      "Epoch 31/50\n",
      "15/15 - 0s - loss: 249.1936 - val_loss: 312.0413 - 51ms/epoch - 3ms/step\n",
      "Epoch 32/50\n",
      "15/15 - 0s - loss: 248.6746 - val_loss: 311.6381 - 53ms/epoch - 4ms/step\n",
      "Epoch 33/50\n",
      "15/15 - 0s - loss: 248.2887 - val_loss: 311.2341 - 51ms/epoch - 3ms/step\n",
      "Epoch 34/50\n",
      "15/15 - 0s - loss: 247.8436 - val_loss: 310.8309 - 61ms/epoch - 4ms/step\n",
      "Epoch 35/50\n",
      "15/15 - 0s - loss: 247.4532 - val_loss: 310.4289 - 59ms/epoch - 4ms/step\n",
      "Epoch 36/50\n",
      "15/15 - 0s - loss: 246.8557 - val_loss: 310.0298 - 58ms/epoch - 4ms/step\n",
      "Epoch 37/50\n",
      "15/15 - 0s - loss: 246.3763 - val_loss: 309.6294 - 59ms/epoch - 4ms/step\n",
      "Epoch 38/50\n",
      "15/15 - 0s - loss: 245.9984 - val_loss: 309.2299 - 56ms/epoch - 4ms/step\n",
      "Epoch 39/50\n",
      "15/15 - 0s - loss: 245.4662 - val_loss: 308.8298 - 54ms/epoch - 4ms/step\n",
      "Epoch 40/50\n",
      "15/15 - 0s - loss: 244.9828 - val_loss: 308.4302 - 52ms/epoch - 3ms/step\n",
      "Epoch 41/50\n",
      "15/15 - 0s - loss: 244.4675 - val_loss: 308.0302 - 57ms/epoch - 4ms/step\n",
      "Epoch 42/50\n",
      "15/15 - 0s - loss: 244.1207 - val_loss: 307.6310 - 60ms/epoch - 4ms/step\n",
      "Epoch 43/50\n",
      "15/15 - 0s - loss: 243.4228 - val_loss: 307.2321 - 58ms/epoch - 4ms/step\n",
      "Epoch 44/50\n",
      "15/15 - 0s - loss: 242.9654 - val_loss: 306.8320 - 60ms/epoch - 4ms/step\n",
      "Epoch 45/50\n",
      "15/15 - 0s - loss: 242.5859 - val_loss: 306.4333 - 59ms/epoch - 4ms/step\n",
      "Epoch 46/50\n",
      "15/15 - 0s - loss: 242.1950 - val_loss: 306.0361 - 61ms/epoch - 4ms/step\n",
      "Epoch 47/50\n",
      "15/15 - 0s - loss: 241.6638 - val_loss: 305.6397 - 59ms/epoch - 4ms/step\n",
      "Epoch 48/50\n",
      "15/15 - 0s - loss: 241.1791 - val_loss: 305.2439 - 61ms/epoch - 4ms/step\n",
      "Epoch 49/50\n",
      "15/15 - 0s - loss: 240.5630 - val_loss: 304.8480 - 59ms/epoch - 4ms/step\n",
      "Epoch 50/50\n",
      "15/15 - 0s - loss: 239.9663 - val_loss: 304.4501 - 76ms/epoch - 5ms/step\n"
     ]
    }
   ],
   "source": [
    "# fit network\n",
    "history = model.fit(\n",
    "    X_train_sc, y_train, # Dados de treino\n",
    "    epochs=50, # Número de iterações, i.e., quantas vezes irei atualizar os coeficientes\n",
    "    batch_size=36, # Tamanho dos dados de entrada a cada iteração\n",
    "    validation_data=(X_test_sc, y_test), # Dados que o modelo já usará para a validação\n",
    "    verbose=2, # Forma de apresentar os resultados parciais\n",
    "    shuffle=False, # Como os dados são temporais, não posso embaralhar!\n",
    "    callbacks=[callback] # Critérios de parada\n",
    ")\n"
   ]
  },
  {
   "cell_type": "markdown",
   "id": "9f0e5d2f",
   "metadata": {},
   "source": [
    "Plotar a função custo (MAE), no treino e no teste, ao longo das iterações"
   ]
  },
  {
   "cell_type": "code",
   "execution_count": 272,
   "id": "ff962642",
   "metadata": {},
   "outputs": [
    {
     "data": {
      "image/png": "[encoded data removed]",
      "text/plain": [
       "<Figure size 1440x432 with 1 Axes>"
      ]
     },
     "metadata": {
      "needs_background": "light"
     },
     "output_type": "display_data"
    }
   ],
   "source": [
    "# plot history\n",
    "plt.figure(figsize=(20,6))\n",
    "plt.plot(history.history['loss'], label='train')\n",
    "plt.plot(history.history['val_loss'], label='test')\n",
    "plt.xlabel('Número de épocas (iterações)',size=18)\n",
    "plt.ylabel('MAE (menor = melhor)',size=18)\n",
    "plt.title('Evolução da função perda ao longo das iterações da rede neural',size=18)\n",
    "plt.legend(['Treino','Teste'],fontsize=18)\n",
    "plt.show()"
   ]
  },
  {
   "cell_type": "markdown",
   "id": "d46c9262",
   "metadata": {},
   "source": [
    "Para fazer previsões, usamos o .predict(), similar aos modelos em scikit-learn"
   ]
  },
  {
   "cell_type": "code",
   "execution_count": 273,
   "id": "798f2e27",
   "metadata": {},
   "outputs": [
    {
     "name": "stdout",
     "output_type": "stream",
     "text": [
      "17/17 [==============================] - 1s 1ms/step\n",
      "5/5 [==============================] - 0s 2ms/step\n"
     ]
    }
   ],
   "source": [
    "y_pred_nn_train = model.predict(X_train_sc)\n",
    "y_pred_nn_test = model.predict(X_test_sc)"
   ]
  },
  {
   "cell_type": "code",
   "execution_count": 274,
   "id": "4246593d",
   "metadata": {},
   "outputs": [],
   "source": [
    "X_train['pred_nn'] = y_pred_nn_train\n",
    "X_test['pred_nn'] = y_pred_nn_test\n",
    "# Prevendo o modelo\n",
    "y_pred_nn_train = X_train['pred_nn']\n",
    "y_pred_nn_test = X_test['pred_nn']\n",
    "# Eliminando colunas auxiliares\n",
    "X_train.drop('pred_nn',axis=1,inplace=True)\n",
    "X_test.drop('pred_nn',axis=1,inplace=True)"
   ]
  },
  {
   "cell_type": "markdown",
   "id": "3ed9c2e0",
   "metadata": {},
   "source": [
    "Vamos comparar essa nova performance do modelo LSTM com as que já tínhamos"
   ]
  },
  {
   "cell_type": "code",
   "execution_count": 275,
   "id": "8b3a97a3",
   "metadata": {},
   "outputs": [],
   "source": [
    "mae_mdmv = mean_absolute_error(y_valid,y_mediamovel)\n",
    "y_lstm = pd.Series(y_test_pred,index=y_test.index)\n",
    "mae_lgbm = mean_absolute_error(y_valid,y_lstm[y_valid.index])\n",
    "mae_nn = mean_absolute_error(y_valid,y_pred_nn_test[y_valid.index])"
   ]
  },
  {
   "cell_type": "code",
   "execution_count": 276,
   "id": "55587a2c",
   "metadata": {},
   "outputs": [
    {
     "data": {
      "image/png": "[encoded data removed]",
      "text/plain": [
       "<Figure size 720x288 with 1 Axes>"
      ]
     },
     "metadata": {
      "needs_background": "light"
     },
     "output_type": "display_data"
    }
   ],
   "source": [
    "# Plotando os gráficos\n",
    "performances = [mae_mdmv,mae_lgbm,mae_nn]\n",
    "plt.figure(figsize=(10,4))\n",
    "plt.barh(['Média Móvel','RFR','LSTM'],performances)\n",
    "plt.ylabel('Método',size=16)\n",
    "plt.xlabel('MAE (menor = melhor)',size=16)\n",
    "plt.title('Comparativo de métodos',size=16)\n",
    "plt.show()"
   ]
  },
  {
   "cell_type": "markdown",
   "id": "23db8f0b",
   "metadata": {},
   "source": [
    "Vamos complementar nosso plot com a rede neural"
   ]
  },
  {
   "cell_type": "code",
   "execution_count": 278,
   "id": "70d426a9",
   "metadata": {},
   "outputs": [
    {
     "data": {
      "image/png": "[encoded data removed]",
      "text/plain": [
       "<Figure size 2160x360 with 1 Axes>"
      ]
     },
     "metadata": {
      "needs_background": "light"
     },
     "output_type": "display_data"
    }
   ],
   "source": [
    "y_nn_plot = y_pred_nn_test[x_pl.index]\n",
    "\n",
    "plt.figure(figsize=(30,5))\n",
    "y_plot.plot(c='grey') # Dados reais\n",
    "y_preds.plot(c='blue') # Dados reais\n",
    "y_mdmv_plot.plot(c='red',alpha=0.5) # Dados reais\n",
    "y_nn_plot.plot(c='green',alpha=0.5) # Dados reais\n",
    "plt.xticks(fontsize=22)\n",
    "plt.yticks(fontsize=22)\n",
    "plt.xlabel('Dia',size=22)\n",
    "plt.ylabel('PM 2.5',size=22)\n",
    "plt.title('Histórico de Close POR DIA ',size=22)\n",
    "plt.legend(['Dados reais','RFR','Média móvel 15 dias','LSTM'],fontsize=22)\n",
    "plt.show()"
   ]
  },
  {
   "cell_type": "code",
   "execution_count": null,
   "id": "8195a49a",
   "metadata": {},
   "outputs": [],
   "source": []
  },
  {
   "cell_type": "code",
   "execution_count": null,
   "id": "92d53a76",
   "metadata": {},
   "outputs": [],
   "source": []
  },
  {
   "cell_type": "code",
   "execution_count": null,
   "id": "fb98fd0a",
   "metadata": {},
   "outputs": [],
   "source": []
  }
 ],
 "metadata": {
  "kernelspec": {
   "display_name": "Python 3 (ipykernel)",
   "language": "python",
   "name": "python3"
  },
  "language_info": {
   "codemirror_mode": {
    "name": "ipython",
    "version": 3
   },
   "file_extension": ".py",
   "mimetype": "text/x-python",
   "name": "python",
   "nbconvert_exporter": "python",
   "pygments_lexer": "ipython3",
   "version": "3.9.12"
  }
 },
 "nbformat": 4,
 "nbformat_minor": 5
}
