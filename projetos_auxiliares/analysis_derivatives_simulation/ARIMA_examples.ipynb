{
 "cells": [
  {
   "cell_type": "markdown",
   "id": "b95f6a66-37e3-4b51-9e2e-3a7dacfdb41e",
   "metadata": {},
   "source": [
    "# ARIMA"
   ]
  },
  {
   "cell_type": "markdown",
   "id": "bbf5d56f-4c9c-4897-a264-d15044b8b94a",
   "metadata": {},
   "source": [
    "Alguns GitHub como exemplos: \n",
    "    \n",
    "- Models for Intraday Trading Volume Prediction: https://github.com/Yvaine-Zhang/Models-for-Intraday-Trading-Volume-Prediction\n",
    "- AutoARIMA-for-Trading-Volumes: https://github.com/HarshiniAiyyer/AutoARIMA-for-Trading-Volumes \n",
    "- ARIMA-Trading-stratigy-: https://github.com/roaa108/ARIMA-Trading-stratigy-\n",
    "- ARIMA_in_trading: https://github.com/LMAFR/ARIMA_in_trading\n",
    "- ARIMA-And-Seasonal-ARIMA: https://github.com/krishnaik06/ARIMA-And-Seasonal-ARIMA\n",
    "- Correlation Prediction with ARIMA-LSTM Hybrid Model: https://github.com/imhgchoi/ARIMA-LSTM-hybrid-corrcoef-predict\n",
    "- Bitcoin-Time-Series-Forecast-ML-System: https://github.com/jaskirat111/Bitcoin-Time-Series-Forecast-ML-System\n",
    "\n",
    "Alguns videos:\n",
    "\n",
    "- Prevendo Vendas com ARIMA - Passo a Passo com Python: https://www.youtube.com/watch?v=v7rZpT8NCbk&t=232s&ab_channel=Stack\n"
   ]
  }
 ],
 "metadata": {
  "kernelspec": {
   "display_name": "Python 3",
   "language": "python",
   "name": "python3"
  },
  "language_info": {
   "codemirror_mode": {
    "name": "ipython",
    "version": 3
   },
   "file_extension": ".py",
   "mimetype": "text/x-python",
   "name": "python",
   "nbconvert_exporter": "python",
   "pygments_lexer": "ipython3",
   "version": "3.8.8"
  }
 },
 "nbformat": 4,
 "nbformat_minor": 5
}
