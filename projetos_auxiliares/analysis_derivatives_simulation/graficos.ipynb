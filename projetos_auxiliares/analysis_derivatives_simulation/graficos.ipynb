{
 "cells": [
  {
   "cell_type": "markdown",
   "id": "57044aa4-5459-4a52-a77c-94861908e138",
   "metadata": {},
   "source": [
    "# Gráficos - parte 1"
   ]
  },
  {
   "cell_type": "code",
   "execution_count": 1,
   "id": "78c429ad-1fac-4091-ba2f-be76a8e170a9",
   "metadata": {},
   "outputs": [],
   "source": [
    "import pandas as pd\n",
    "import matplotlib.pyplot as plt"
   ]
  },
  {
   "cell_type": "code",
   "execution_count": 3,
   "id": "1323b216-a3fb-45f6-b063-46e90ff5da7c",
   "metadata": {},
   "outputs": [],
   "source": [
    "#criando dicionário\n",
    "valores = {\n",
    "    'meses': ['janeiro', 'fevereiro', 'março'],\n",
    "    'receitas': [80000, 50000, 90000],\n",
    "    'gastos': [60000, 70000, 65000],    \n",
    "}"
   ]
  },
  {
   "cell_type": "code",
   "execution_count": 14,
   "id": "0143400a-7292-4325-b244-11df02aaeb2f",
   "metadata": {},
   "outputs": [
    {
     "data": {
      "text/plain": [
       "{'meses': ['janeiro', 'fevereiro', 'março'],\n",
       " 'receitas': [80000, 50000, 90000],\n",
       " 'gastos': [60000, 70000, 65000]}"
      ]
     },
     "execution_count": 14,
     "metadata": {},
     "output_type": "execute_result"
    }
   ],
   "source": [
    "valores"
   ]
  },
  {
   "cell_type": "code",
   "execution_count": 4,
   "id": "db517008-faad-4fa7-9d6c-5b43b0dff5b1",
   "metadata": {},
   "outputs": [
    {
     "name": "stdout",
     "output_type": "stream",
     "text": [
      "       meses  receitas  gastos\n",
      "0    janeiro     80000   60000\n",
      "1  fevereiro     50000   70000\n",
      "2      março     90000   65000\n"
     ]
    }
   ],
   "source": [
    "print(pd.DataFrame(valores))"
   ]
  },
  {
   "cell_type": "code",
   "execution_count": 8,
   "id": "2d3234d8-e054-45ea-b64d-656848fdedaf",
   "metadata": {},
   "outputs": [],
   "source": [
    "#saldo em caixa no início do período\n",
    "saldo_inicial = 20000\n",
    "\n",
    "#definindo o fluxo de caixa de cada período\n",
    "fluxo_janeiro = saldo_inicial + valores['receitas'][0] - valores['gastos'][0]\n",
    "fluxo_fevereiro = fluxo_janeiro + valores['receitas'][1] - valores['gastos'][1]\n",
    "fluxo_marco = fluxo_fevereiro + valores['receitas'][2] - valores['gastos'][2]"
   ]
  },
  {
   "cell_type": "code",
   "execution_count": 9,
   "id": "abb819d5-1028-4a8f-bb0e-b94b0e8c115a",
   "metadata": {},
   "outputs": [
    {
     "name": "stdout",
     "output_type": "stream",
     "text": [
      "\n",
      "\n",
      ">Série com o fluxo de caixa de janeiro à março:\n"
     ]
    }
   ],
   "source": [
    "print('\\n')\n",
    "print('>Série com o fluxo de caixa de janeiro à março:')\n",
    "fluxo_de_caixa = [fluxo_janeiro, fluxo_fevereiro, fluxo_marco]"
   ]
  },
  {
   "cell_type": "code",
   "execution_count": 10,
   "id": "99d22e38-986c-4d6c-9b74-062b48d925fc",
   "metadata": {},
   "outputs": [],
   "source": [
    "#criando um novo dicionáriouma para Series do fluxo de caixa\n",
    "valores_series = {\n",
    "    'meses': 'fluxo de caixa',\n",
    "    'janeiro': fluxo_janeiro,\n",
    "    'fevereiro': fluxo_fevereiro,\n",
    "    'março': fluxo_marco,\n",
    "}"
   ]
  },
  {
   "cell_type": "code",
   "execution_count": 12,
   "id": "11ada276-293a-44dd-b68c-e5f4fa8540ad",
   "metadata": {},
   "outputs": [
    {
     "data": {
      "text/plain": [
       "{'meses': 'fluxo de caixa',\n",
       " 'janeiro': 40000,\n",
       " 'fevereiro': 20000,\n",
       " 'março': 45000}"
      ]
     },
     "execution_count": 12,
     "metadata": {},
     "output_type": "execute_result"
    }
   ],
   "source": [
    "valores_series"
   ]
  },
  {
   "cell_type": "code",
   "execution_count": 11,
   "id": "32580914-bc06-4982-8b06-986764842d1c",
   "metadata": {},
   "outputs": [
    {
     "name": "stdout",
     "output_type": "stream",
     "text": [
      "meses        fluxo de caixa\n",
      "janeiro               40000\n",
      "fevereiro             20000\n",
      "março                 45000\n",
      "dtype: object\n"
     ]
    }
   ],
   "source": [
    "#criando Series\n",
    "df = pd.Series(valores_series);\n",
    "print(df);"
   ]
  },
  {
   "cell_type": "code",
   "execution_count": 32,
   "id": "1f12c6f3-3578-4d20-b033-092d4c5c7456",
   "metadata": {},
   "outputs": [
    {
     "name": "stdout",
     "output_type": "stream",
     "text": [
      "\n",
      "\n"
     ]
    },
    {
     "data": {
      "text/plain": [
       "[]"
      ]
     },
     "execution_count": 32,
     "metadata": {},
     "output_type": "execute_result"
    },
    {
     "data": {
      "image/png": "[encoded data removed]",
      "text/plain": [
       "<Figure size 1080x576 with 1 Axes>"
      ]
     },
     "metadata": {
      "needs_background": "light"
     },
     "output_type": "display_data"
    }
   ],
   "source": [
    "#criando gráficos\n",
    "print('\\n')\n",
    "plt.rc('figure', figsize = (15, 8))\n",
    "area = plt.figure()\n",
    "\n",
    "g1 = plt.plot(valores['meses'], fluxo_de_caixa, label = 'Fluxo de Caixa', color = 'gray', marker='o')       #plotando fluxo de caixa\n",
    "g2 = plt.bar(valores['meses'], valores['receitas'], label = 'Receitas', color = 'blue')   #plotando receitas\n",
    "g3 = plt.bar(valores['meses'], valores['gastos'], label = 'Gastos', color = 'red')     #plotando gastos\n",
    "plt.title('Fluxo de caixa')\n",
    "plt.legend()\n",
    "\n",
    "plt.plot()"
   ]
  },
  {
   "cell_type": "code",
   "execution_count": 36,
   "id": "e5263637-872f-4f4f-9364-c27bbf3c23c5",
   "metadata": {},
   "outputs": [
    {
     "data": {
      "image/png": "[encoded data removed]",
      "text/plain": [
       "<Figure size 1080x576 with 1 Axes>"
      ]
     },
     "metadata": {
      "needs_background": "light"
     },
     "output_type": "display_data"
    }
   ],
   "source": [
    "import numpy as np\n",
    "data=pd.DataFrame(valores)\n",
    "labels = list(data['meses'])\n",
    "receitas = list(round(data['receitas'],2))\n",
    "gastos = list(round(data['gastos'],2))\n",
    "\n",
    "x = np.arange(len(labels))\n",
    "\n",
    "fig, ax = plt.subplots()\n",
    "\n",
    "rects1 = ax.bar(x , receitas, width=0.1, label='Receitas')\n",
    "rects2 = ax.bar(x+0.1, gastos, width=0.1, label='Gastos')\n",
    "g1 = plt.plot(valores['meses'], fluxo_de_caixa, label = 'Fluxo de Caixa', color = 'gray', marker='o')\n",
    "\n",
    "#adicionando o nome das labels, titulo, etc.\n",
    "ax.set_title('Fluxo de Caixa') \n",
    "ax.set_xticks(x)\n",
    "ax.set_xticklabels(labels) \n",
    "plt.xticks(x, labels, rotation='vertical') \n",
    "ax.legend()\n",
    "plt.show()"
   ]
  }
 ],
 "metadata": {
  "kernelspec": {
   "display_name": "Python 3",
   "language": "python",
   "name": "python3"
  },
  "language_info": {
   "codemirror_mode": {
    "name": "ipython",
    "version": 3
   },
   "file_extension": ".py",
   "mimetype": "text/x-python",
   "name": "python",
   "nbconvert_exporter": "python",
   "pygments_lexer": "ipython3",
   "version": "3.8.8"
  }
 },
 "nbformat": 4,
 "nbformat_minor": 5
}
