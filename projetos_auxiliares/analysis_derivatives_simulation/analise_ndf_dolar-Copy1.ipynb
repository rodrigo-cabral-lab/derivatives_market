{
 "cells": [
  {
   "cell_type": "code",
   "execution_count": 1,
   "id": "43776abf-7ee8-4cff-aaa2-5ca970f51ec8",
   "metadata": {},
   "outputs": [],
   "source": [
    "#importando bibliotecas\n",
    "import pandas as pd\n",
    "import numpy as np\n",
    "import seaborn as sns\n",
    "import matplotlib.pyplot as plt\n",
    "plt.style.use('seaborn')"
   ]
  },
  {
   "cell_type": "code",
   "execution_count": 10,
   "id": "a67e0165-f591-4eb5-ad47-2053f8a69074",
   "metadata": {},
   "outputs": [],
   "source": [
    "df = pd.read_excel('ndf_dolar.xlsx') #, index_col='inicio')"
   ]
  },
  {
   "cell_type": "code",
   "execution_count": 11,
   "id": "cfd1c9f1-bc25-416a-8987-88a738b728cf",
   "metadata": {},
   "outputs": [
    {
     "data": {
      "text/plain": [
       "inicio          datetime64[ns]\n",
       "vencimento      datetime64[ns]\n",
       "prazo                    int64\n",
       "volume_brl               int64\n",
       "volume_usd             float64\n",
       "usd                    float64\n",
       "compra_venda            object\n",
       "dtype: object"
      ]
     },
     "execution_count": 11,
     "metadata": {},
     "output_type": "execute_result"
    }
   ],
   "source": [
    "df.dtypes"
   ]
  },
  {
   "cell_type": "code",
   "execution_count": 12,
   "id": "1b1c033e-3f18-4d2d-9e99-3da512668fcb",
   "metadata": {},
   "outputs": [
    {
     "data": {
      "text/html": [
       "<div>\n",
       "<style scoped>\n",
       "    .dataframe tbody tr th:only-of-type {\n",
       "        vertical-align: middle;\n",
       "    }\n",
       "\n",
       "    .dataframe tbody tr th {\n",
       "        vertical-align: top;\n",
       "    }\n",
       "\n",
       "    .dataframe thead th {\n",
       "        text-align: right;\n",
       "    }\n",
       "</style>\n",
       "<table border=\"1\" class=\"dataframe\">\n",
       "  <thead>\n",
       "    <tr style=\"text-align: right;\">\n",
       "      <th></th>\n",
       "      <th>inicio</th>\n",
       "      <th>vencimento</th>\n",
       "      <th>prazo</th>\n",
       "      <th>volume_brl</th>\n",
       "      <th>volume_usd</th>\n",
       "      <th>usd</th>\n",
       "      <th>compra_venda</th>\n",
       "    </tr>\n",
       "  </thead>\n",
       "  <tbody>\n",
       "    <tr>\n",
       "      <th>0</th>\n",
       "      <td>2020-05-15</td>\n",
       "      <td>2020-10-30</td>\n",
       "      <td>168</td>\n",
       "      <td>269612371</td>\n",
       "      <td>1.373226e+09</td>\n",
       "      <td>5.093333</td>\n",
       "      <td>compra</td>\n",
       "    </tr>\n",
       "    <tr>\n",
       "      <th>1</th>\n",
       "      <td>2020-06-04</td>\n",
       "      <td>2021-09-14</td>\n",
       "      <td>467</td>\n",
       "      <td>269398478</td>\n",
       "      <td>1.376626e+09</td>\n",
       "      <td>5.110000</td>\n",
       "      <td>venda</td>\n",
       "    </tr>\n",
       "    <tr>\n",
       "      <th>2</th>\n",
       "      <td>2020-04-26</td>\n",
       "      <td>2021-01-14</td>\n",
       "      <td>263</td>\n",
       "      <td>109055825</td>\n",
       "      <td>5.669225e+08</td>\n",
       "      <td>5.198462</td>\n",
       "      <td>venda</td>\n",
       "    </tr>\n",
       "    <tr>\n",
       "      <th>3</th>\n",
       "      <td>2020-01-15</td>\n",
       "      <td>2021-11-22</td>\n",
       "      <td>677</td>\n",
       "      <td>284097573</td>\n",
       "      <td>1.430431e+09</td>\n",
       "      <td>5.035000</td>\n",
       "      <td>compra</td>\n",
       "    </tr>\n",
       "    <tr>\n",
       "      <th>4</th>\n",
       "      <td>2020-05-21</td>\n",
       "      <td>2020-12-13</td>\n",
       "      <td>206</td>\n",
       "      <td>14185351</td>\n",
       "      <td>7.301909e+07</td>\n",
       "      <td>5.147500</td>\n",
       "      <td>compra</td>\n",
       "    </tr>\n",
       "    <tr>\n",
       "      <th>...</th>\n",
       "      <td>...</td>\n",
       "      <td>...</td>\n",
       "      <td>...</td>\n",
       "      <td>...</td>\n",
       "      <td>...</td>\n",
       "      <td>...</td>\n",
       "      <td>...</td>\n",
       "    </tr>\n",
       "    <tr>\n",
       "      <th>194</th>\n",
       "      <td>2020-03-15</td>\n",
       "      <td>2020-08-16</td>\n",
       "      <td>154</td>\n",
       "      <td>291242590</td>\n",
       "      <td>1.535172e+09</td>\n",
       "      <td>5.271111</td>\n",
       "      <td>venda</td>\n",
       "    </tr>\n",
       "    <tr>\n",
       "      <th>195</th>\n",
       "      <td>2020-06-09</td>\n",
       "      <td>2020-11-11</td>\n",
       "      <td>155</td>\n",
       "      <td>205122365</td>\n",
       "      <td>1.063315e+09</td>\n",
       "      <td>5.183810</td>\n",
       "      <td>compra</td>\n",
       "    </tr>\n",
       "    <tr>\n",
       "      <th>196</th>\n",
       "      <td>2020-02-17</td>\n",
       "      <td>2021-03-13</td>\n",
       "      <td>390</td>\n",
       "      <td>41167899</td>\n",
       "      <td>2.119420e+08</td>\n",
       "      <td>5.148235</td>\n",
       "      <td>compra</td>\n",
       "    </tr>\n",
       "    <tr>\n",
       "      <th>197</th>\n",
       "      <td>2020-01-03</td>\n",
       "      <td>2021-10-24</td>\n",
       "      <td>660</td>\n",
       "      <td>64813819</td>\n",
       "      <td>3.337111e+08</td>\n",
       "      <td>5.148764</td>\n",
       "      <td>venda</td>\n",
       "    </tr>\n",
       "    <tr>\n",
       "      <th>198</th>\n",
       "      <td>2020-02-03</td>\n",
       "      <td>2020-12-19</td>\n",
       "      <td>320</td>\n",
       "      <td>35002902</td>\n",
       "      <td>1.817441e+08</td>\n",
       "      <td>5.192258</td>\n",
       "      <td>venda</td>\n",
       "    </tr>\n",
       "  </tbody>\n",
       "</table>\n",
       "<p>199 rows × 7 columns</p>\n",
       "</div>"
      ],
      "text/plain": [
       "        inicio vencimento  prazo  volume_brl    volume_usd       usd  \\\n",
       "0   2020-05-15 2020-10-30    168   269612371  1.373226e+09  5.093333   \n",
       "1   2020-06-04 2021-09-14    467   269398478  1.376626e+09  5.110000   \n",
       "2   2020-04-26 2021-01-14    263   109055825  5.669225e+08  5.198462   \n",
       "3   2020-01-15 2021-11-22    677   284097573  1.430431e+09  5.035000   \n",
       "4   2020-05-21 2020-12-13    206    14185351  7.301909e+07  5.147500   \n",
       "..         ...        ...    ...         ...           ...       ...   \n",
       "194 2020-03-15 2020-08-16    154   291242590  1.535172e+09  5.271111   \n",
       "195 2020-06-09 2020-11-11    155   205122365  1.063315e+09  5.183810   \n",
       "196 2020-02-17 2021-03-13    390    41167899  2.119420e+08  5.148235   \n",
       "197 2020-01-03 2021-10-24    660    64813819  3.337111e+08  5.148764   \n",
       "198 2020-02-03 2020-12-19    320    35002902  1.817441e+08  5.192258   \n",
       "\n",
       "    compra_venda  \n",
       "0         compra  \n",
       "1          venda  \n",
       "2          venda  \n",
       "3         compra  \n",
       "4         compra  \n",
       "..           ...  \n",
       "194        venda  \n",
       "195       compra  \n",
       "196       compra  \n",
       "197        venda  \n",
       "198        venda  \n",
       "\n",
       "[199 rows x 7 columns]"
      ]
     },
     "execution_count": 12,
     "metadata": {},
     "output_type": "execute_result"
    }
   ],
   "source": [
    "df"
   ]
  },
  {
   "cell_type": "code",
   "execution_count": 35,
   "id": "5007efa1-6945-4c5c-9c1f-d06b8021d94a",
   "metadata": {},
   "outputs": [
    {
     "data": {
      "text/html": [
       "<div>\n",
       "<style scoped>\n",
       "    .dataframe tbody tr th:only-of-type {\n",
       "        vertical-align: middle;\n",
       "    }\n",
       "\n",
       "    .dataframe tbody tr th {\n",
       "        vertical-align: top;\n",
       "    }\n",
       "\n",
       "    .dataframe thead th {\n",
       "        text-align: right;\n",
       "    }\n",
       "</style>\n",
       "<table border=\"1\" class=\"dataframe\">\n",
       "  <thead>\n",
       "    <tr style=\"text-align: right;\">\n",
       "      <th></th>\n",
       "      <th></th>\n",
       "      <th>volume_usd</th>\n",
       "    </tr>\n",
       "    <tr>\n",
       "      <th>inicio</th>\n",
       "      <th>vencimento</th>\n",
       "      <th></th>\n",
       "    </tr>\n",
       "  </thead>\n",
       "  <tbody>\n",
       "    <tr>\n",
       "      <th>2020-01-02</th>\n",
       "      <th>2021-01-24</th>\n",
       "      <td>6.209609e+08</td>\n",
       "    </tr>\n",
       "    <tr>\n",
       "      <th rowspan=\"4\" valign=\"top\">2020-01-03</th>\n",
       "      <th>2020-10-08</th>\n",
       "      <td>1.458324e+09</td>\n",
       "    </tr>\n",
       "    <tr>\n",
       "      <th>2020-10-25</th>\n",
       "      <td>1.396976e+09</td>\n",
       "    </tr>\n",
       "    <tr>\n",
       "      <th>2021-10-14</th>\n",
       "      <td>6.320252e+08</td>\n",
       "    </tr>\n",
       "    <tr>\n",
       "      <th>2021-10-24</th>\n",
       "      <td>3.337111e+08</td>\n",
       "    </tr>\n",
       "    <tr>\n",
       "      <th>...</th>\n",
       "      <th>...</th>\n",
       "      <td>...</td>\n",
       "    </tr>\n",
       "    <tr>\n",
       "      <th rowspan=\"3\" valign=\"top\">2020-06-28</th>\n",
       "      <th>2021-03-11</th>\n",
       "      <td>1.346200e+09</td>\n",
       "    </tr>\n",
       "    <tr>\n",
       "      <th>2021-05-12</th>\n",
       "      <td>4.090903e+07</td>\n",
       "    </tr>\n",
       "    <tr>\n",
       "      <th>2021-08-14</th>\n",
       "      <td>1.365360e+09</td>\n",
       "    </tr>\n",
       "    <tr>\n",
       "      <th>2020-06-29</th>\n",
       "      <th>2021-08-19</th>\n",
       "      <td>1.073397e+09</td>\n",
       "    </tr>\n",
       "    <tr>\n",
       "      <th>2020-07-01</th>\n",
       "      <th>2021-01-24</th>\n",
       "      <td>1.246883e+09</td>\n",
       "    </tr>\n",
       "  </tbody>\n",
       "</table>\n",
       "<p>198 rows × 1 columns</p>\n",
       "</div>"
      ],
      "text/plain": [
       "                         volume_usd\n",
       "inicio     vencimento              \n",
       "2020-01-02 2021-01-24  6.209609e+08\n",
       "2020-01-03 2020-10-08  1.458324e+09\n",
       "           2020-10-25  1.396976e+09\n",
       "           2021-10-14  6.320252e+08\n",
       "           2021-10-24  3.337111e+08\n",
       "...                             ...\n",
       "2020-06-28 2021-03-11  1.346200e+09\n",
       "           2021-05-12  4.090903e+07\n",
       "           2021-08-14  1.365360e+09\n",
       "2020-06-29 2021-08-19  1.073397e+09\n",
       "2020-07-01 2021-01-24  1.246883e+09\n",
       "\n",
       "[198 rows x 1 columns]"
      ]
     },
     "execution_count": 35,
     "metadata": {},
     "output_type": "execute_result"
    }
   ],
   "source": [
    "#volume por data\n",
    "vol_data = df[['inicio','vencimento','volume_usd']].groupby(['inicio','vencimento']).sum()\n",
    "vol_data"
   ]
  },
  {
   "cell_type": "code",
   "execution_count": 24,
   "id": "2d26d760-ef9e-429a-bd5b-da449b622562",
   "metadata": {},
   "outputs": [
    {
     "name": "stdout",
     "output_type": "stream",
     "text": [
      "Collecting plotly\n",
      "  Downloading plotly-5.6.0-py2.py3-none-any.whl (27.7 MB)\n",
      "Requirement already satisfied: six in c:\\users\\rodrigo\\anaconda3\\lib\\site-packages (from plotly) (1.15.0)\n",
      "Collecting tenacity>=6.2.0\n",
      "  Downloading tenacity-8.0.1-py3-none-any.whl (24 kB)\n",
      "Installing collected packages: tenacity, plotly\n",
      "Successfully installed plotly-5.6.0 tenacity-8.0.1\n",
      "Note: you may need to restart the kernel to use updated packages.\n"
     ]
    }
   ],
   "source": [
    "pip install plotly"
   ]
  },
  {
   "cell_type": "code",
   "execution_count": 38,
   "id": "7a0260c9-c92e-4869-a1cb-6f8f2eeffb18",
   "metadata": {},
   "outputs": [],
   "source": [
    "import plotly.express as px"
   ]
  },
  {
   "cell_type": "code",
   "execution_count": 51,
   "id": "981cc7fa-8378-4ad4-99e1-be8e7eaf337a",
   "metadata": {},
   "outputs": [
    {
     "data": {
      "text/html": [
       "<div>\n",
       "<style scoped>\n",
       "    .dataframe tbody tr th:only-of-type {\n",
       "        vertical-align: middle;\n",
       "    }\n",
       "\n",
       "    .dataframe tbody tr th {\n",
       "        vertical-align: top;\n",
       "    }\n",
       "\n",
       "    .dataframe thead th {\n",
       "        text-align: right;\n",
       "    }\n",
       "</style>\n",
       "<table border=\"1\" class=\"dataframe\">\n",
       "  <thead>\n",
       "    <tr style=\"text-align: right;\">\n",
       "      <th></th>\n",
       "      <th>inicio</th>\n",
       "      <th>vencimento</th>\n",
       "      <th>volume_usd</th>\n",
       "      <th>compra_venda</th>\n",
       "    </tr>\n",
       "  </thead>\n",
       "  <tbody>\n",
       "    <tr>\n",
       "      <th>0</th>\n",
       "      <td>2020-05-15</td>\n",
       "      <td>2020-10-30</td>\n",
       "      <td>1.373226e+09</td>\n",
       "      <td>compra</td>\n",
       "    </tr>\n",
       "    <tr>\n",
       "      <th>3</th>\n",
       "      <td>2020-01-15</td>\n",
       "      <td>2021-11-22</td>\n",
       "      <td>1.430431e+09</td>\n",
       "      <td>compra</td>\n",
       "    </tr>\n",
       "    <tr>\n",
       "      <th>4</th>\n",
       "      <td>2020-05-21</td>\n",
       "      <td>2020-12-13</td>\n",
       "      <td>7.301909e+07</td>\n",
       "      <td>compra</td>\n",
       "    </tr>\n",
       "    <tr>\n",
       "      <th>7</th>\n",
       "      <td>2020-04-24</td>\n",
       "      <td>2020-11-28</td>\n",
       "      <td>1.260812e+09</td>\n",
       "      <td>compra</td>\n",
       "    </tr>\n",
       "    <tr>\n",
       "      <th>8</th>\n",
       "      <td>2020-01-30</td>\n",
       "      <td>2021-12-15</td>\n",
       "      <td>1.387007e+09</td>\n",
       "      <td>compra</td>\n",
       "    </tr>\n",
       "    <tr>\n",
       "      <th>...</th>\n",
       "      <td>...</td>\n",
       "      <td>...</td>\n",
       "      <td>...</td>\n",
       "      <td>...</td>\n",
       "    </tr>\n",
       "    <tr>\n",
       "      <th>191</th>\n",
       "      <td>2020-06-28</td>\n",
       "      <td>2021-08-14</td>\n",
       "      <td>1.365360e+09</td>\n",
       "      <td>compra</td>\n",
       "    </tr>\n",
       "    <tr>\n",
       "      <th>192</th>\n",
       "      <td>2020-04-03</td>\n",
       "      <td>2021-02-03</td>\n",
       "      <td>5.056374e+08</td>\n",
       "      <td>compra</td>\n",
       "    </tr>\n",
       "    <tr>\n",
       "      <th>193</th>\n",
       "      <td>2020-06-20</td>\n",
       "      <td>2021-07-03</td>\n",
       "      <td>5.128850e+08</td>\n",
       "      <td>compra</td>\n",
       "    </tr>\n",
       "    <tr>\n",
       "      <th>195</th>\n",
       "      <td>2020-06-09</td>\n",
       "      <td>2020-11-11</td>\n",
       "      <td>1.063315e+09</td>\n",
       "      <td>compra</td>\n",
       "    </tr>\n",
       "    <tr>\n",
       "      <th>196</th>\n",
       "      <td>2020-02-17</td>\n",
       "      <td>2021-03-13</td>\n",
       "      <td>2.119420e+08</td>\n",
       "      <td>compra</td>\n",
       "    </tr>\n",
       "  </tbody>\n",
       "</table>\n",
       "<p>112 rows × 4 columns</p>\n",
       "</div>"
      ],
      "text/plain": [
       "        inicio vencimento    volume_usd compra_venda\n",
       "0   2020-05-15 2020-10-30  1.373226e+09       compra\n",
       "3   2020-01-15 2021-11-22  1.430431e+09       compra\n",
       "4   2020-05-21 2020-12-13  7.301909e+07       compra\n",
       "7   2020-04-24 2020-11-28  1.260812e+09       compra\n",
       "8   2020-01-30 2021-12-15  1.387007e+09       compra\n",
       "..         ...        ...           ...          ...\n",
       "191 2020-06-28 2021-08-14  1.365360e+09       compra\n",
       "192 2020-04-03 2021-02-03  5.056374e+08       compra\n",
       "193 2020-06-20 2021-07-03  5.128850e+08       compra\n",
       "195 2020-06-09 2020-11-11  1.063315e+09       compra\n",
       "196 2020-02-17 2021-03-13  2.119420e+08       compra\n",
       "\n",
       "[112 rows x 4 columns]"
      ]
     },
     "execution_count": 51,
     "metadata": {},
     "output_type": "execute_result"
    }
   ],
   "source": [
    "compra = df[(df['compra_venda']=='compra')]\n",
    "compra = compra[['inicio','vencimento','volume_usd','compra_venda']] #.groupby(['inicio','vencimento']).sum()\n",
    "compra"
   ]
  },
  {
   "cell_type": "code",
   "execution_count": 56,
   "id": "cf86ebc6-8d84-4200-8762-6f95bec1cd57",
   "metadata": {},
   "outputs": [
    {
     "data": {
      "application/vnd.plotly.v1+json": {
       "config": {
        "plotlyServerURL": "https://plot.ly"
       },
       "data": [
        {
         "hovertemplate": "x=%{x}<br>y=%{y}<extra></extra>",
         "legendgroup": "",
         "line": {
          "color": "#636efa",
          "dash": "solid"
         },
         "marker": {
          "symbol": "circle"
         },
         "mode": "lines",
         "name": "",
         "orientation": "v",
         "showlegend": false,
         "type": "scatter",
         "x": [
          "2020-05-15T00:00:00",
          "2020-01-15T00:00:00",
          "2020-05-21T00:00:00",
          "2020-04-24T00:00:00",
          "2020-01-30T00:00:00",
          "2020-06-28T00:00:00",
          "2020-03-03T00:00:00",
          "2020-04-23T00:00:00",
          "2020-06-09T00:00:00",
          "2020-01-27T00:00:00",
          "2020-02-19T00:00:00",
          "2020-01-18T00:00:00",
          "2020-03-23T00:00:00",
          "2020-06-14T00:00:00",
          "2020-03-24T00:00:00",
          "2020-04-13T00:00:00",
          "2020-04-28T00:00:00",
          "2020-05-29T00:00:00",
          "2020-03-06T00:00:00",
          "2020-03-21T00:00:00",
          "2020-04-12T00:00:00",
          "2020-05-29T00:00:00",
          "2020-03-11T00:00:00",
          "2020-05-07T00:00:00",
          "2020-03-17T00:00:00",
          "2020-06-09T00:00:00",
          "2020-06-11T00:00:00",
          "2020-03-12T00:00:00",
          "2020-02-20T00:00:00",
          "2020-01-15T00:00:00",
          "2020-02-12T00:00:00",
          "2020-02-03T00:00:00",
          "2020-02-20T00:00:00",
          "2020-06-16T00:00:00",
          "2020-04-05T00:00:00",
          "2020-06-21T00:00:00",
          "2020-06-12T00:00:00",
          "2020-02-14T00:00:00",
          "2020-03-03T00:00:00",
          "2020-06-29T00:00:00",
          "2020-06-06T00:00:00",
          "2020-03-10T00:00:00",
          "2020-01-29T00:00:00",
          "2020-03-17T00:00:00",
          "2020-04-14T00:00:00",
          "2020-04-15T00:00:00",
          "2020-03-06T00:00:00",
          "2020-06-03T00:00:00",
          "2020-03-25T00:00:00",
          "2020-06-05T00:00:00",
          "2020-06-07T00:00:00",
          "2020-02-02T00:00:00",
          "2020-01-04T00:00:00",
          "2020-02-04T00:00:00",
          "2020-06-15T00:00:00",
          "2020-01-03T00:00:00",
          "2020-02-06T00:00:00",
          "2020-02-23T00:00:00",
          "2020-06-07T00:00:00",
          "2020-03-23T00:00:00",
          "2020-06-23T00:00:00",
          "2020-01-24T00:00:00",
          "2020-03-05T00:00:00",
          "2020-02-11T00:00:00",
          "2020-04-06T00:00:00",
          "2020-02-17T00:00:00",
          "2020-01-15T00:00:00",
          "2020-05-16T00:00:00",
          "2020-02-07T00:00:00",
          "2020-01-26T00:00:00",
          "2020-03-25T00:00:00",
          "2020-04-22T00:00:00",
          "2020-04-06T00:00:00",
          "2020-01-12T00:00:00",
          "2020-04-10T00:00:00",
          "2020-06-17T00:00:00",
          "2020-06-21T00:00:00",
          "2020-01-09T00:00:00",
          "2020-01-22T00:00:00",
          "2020-01-08T00:00:00",
          "2020-03-26T00:00:00",
          "2020-06-23T00:00:00",
          "2020-06-24T00:00:00",
          "2020-05-28T00:00:00",
          "2020-07-01T00:00:00",
          "2020-02-17T00:00:00",
          "2020-04-10T00:00:00",
          "2020-02-05T00:00:00",
          "2020-03-29T00:00:00",
          "2020-03-03T00:00:00",
          "2020-06-11T00:00:00",
          "2020-03-28T00:00:00",
          "2020-03-10T00:00:00",
          "2020-05-22T00:00:00",
          "2020-05-19T00:00:00",
          "2020-04-01T00:00:00",
          "2020-06-08T00:00:00",
          "2020-03-14T00:00:00",
          "2020-02-11T00:00:00",
          "2020-06-04T00:00:00",
          "2020-01-29T00:00:00",
          "2020-03-30T00:00:00",
          "2020-01-22T00:00:00",
          "2020-06-12T00:00:00",
          "2020-06-02T00:00:00",
          "2020-02-05T00:00:00",
          "2020-02-09T00:00:00",
          "2020-06-28T00:00:00",
          "2020-04-03T00:00:00",
          "2020-06-20T00:00:00",
          "2020-06-09T00:00:00",
          "2020-02-17T00:00:00"
         ],
         "xaxis": "x",
         "y": [
          1373225676.2933335,
          1430431280.055,
          73019094.2725,
          1260811717.5303226,
          1387006765.5341177,
          1346199895.9406185,
          863319062.2933333,
          659113325.1384212,
          1283797359.2905555,
          386944802.0362963,
          572574205.2263013,
          58069781.717777774,
          434201305.06666666,
          297044171.23764706,
          586353464.1066667,
          481601369.7986813,
          225168882.70285717,
          750663805.6758333,
          1361273091.52,
          1269004916.6016667,
          1531638631.2855556,
          1277029825.3414142,
          412040587.992381,
          271102792.5527273,
          1434131547.4666667,
          604542452.7222222,
          1406699470.4872727,
          800954634.83,
          52917194.801038966,
          74019191.04,
          1379366854.8733335,
          765090452.2375,
          891492145.8225,
          972759324.0428572,
          1493998584.2421622,
          310915394.8820513,
          857222665.8548148,
          76779829.05,
          823015893.3942857,
          1073396882.0892308,
          774014334.3441095,
          89757252.62428573,
          852085404.9261111,
          878554259.4021053,
          396613485.1607843,
          501812465.7806452,
          312215556.2019048,
          703557079.7591012,
          1081644107.7102702,
          340021658.86,
          99720628.84102564,
          590665777.6702439,
          1148204277.4945054,
          963945361.7714286,
          1188799884.4931343,
          1458323611.88,
          1320353767.0645835,
          487062332.0177778,
          1312887583.9956756,
          188477328,
          708169601.2177778,
          536991210.0672727,
          815009199.1400001,
          92430177.38666667,
          1368274545.89,
          822210151.3678432,
          827143353.3752941,
          745223611.58,
          368634064.5415385,
          1020727162.2914286,
          315957922.0298901,
          1261198469.1659772,
          324152357.57473683,
          631664617.2389743,
          1469156724.387097,
          1224303934.5951724,
          1417944455.3600001,
          223725161.01333335,
          90484931.79169811,
          601425586.471111,
          602570643.015,
          1490217149.380513,
          1143533908.4150002,
          983907464.2224389,
          1246883292.16,
          213331256.50666666,
          1110121850.839322,
          1221834910.1364706,
          112970067.98518519,
          807782070.2021978,
          655368159.9752941,
          68043199.7,
          216341977.60000002,
          880190925.5111113,
          1526269462.775,
          1167467077.0933332,
          1364756120.7362711,
          896787993.1673684,
          1511947799.7800002,
          687112981.7066667,
          1284555263.6825,
          875272186.2825,
          903867048.32,
          90613237.02666667,
          1036576021.5093617,
          22838577.790000003,
          1293479790.8142858,
          1365360341.2642858,
          505637399.7472222,
          512884976.27943665,
          1063315269.2333333,
          211942030.6164706
         ],
         "yaxis": "y"
        }
       ],
       "layout": {
        "legend": {
         "tracegroupgap": 0
        },
        "margin": {
         "t": 60
        },
        "template": {
         "data": {
          "bar": [
           {
            "error_x": {
             "color": "#2a3f5f"
            },
            "error_y": {
             "color": "#2a3f5f"
            },
            "marker": {
             "line": {
              "color": "#E5ECF6",
              "width": 0.5
             },
             "pattern": {
              "fillmode": "overlay",
              "size": 10,
              "solidity": 0.2
             }
            },
            "type": "bar"
           }
          ],
          "barpolar": [
           {
            "marker": {
             "line": {
              "color": "#E5ECF6",
              "width": 0.5
             },
             "pattern": {
              "fillmode": "overlay",
              "size": 10,
              "solidity": 0.2
             }
            },
            "type": "barpolar"
           }
          ],
          "carpet": [
           {
            "aaxis": {
             "endlinecolor": "#2a3f5f",
             "gridcolor": "white",
             "linecolor": "white",
             "minorgridcolor": "white",
             "startlinecolor": "#2a3f5f"
            },
            "baxis": {
             "endlinecolor": "#2a3f5f",
             "gridcolor": "white",
             "linecolor": "white",
             "minorgridcolor": "white",
             "startlinecolor": "#2a3f5f"
            },
            "type": "carpet"
           }
          ],
          "choropleth": [
           {
            "colorbar": {
             "outlinewidth": 0,
             "ticks": ""
            },
            "type": "choropleth"
           }
          ],
          "contour": [
           {
            "colorbar": {
             "outlinewidth": 0,
             "ticks": ""
            },
            "colorscale": [
             [
              0,
              "#0d0887"
             ],
             [
              0.1111111111111111,
              "#46039f"
             ],
             [
              0.2222222222222222,
              "#7201a8"
             ],
             [
              0.3333333333333333,
              "#9c179e"
             ],
             [
              0.4444444444444444,
              "#bd3786"
             ],
             [
              0.5555555555555556,
              "#d8576b"
             ],
             [
              0.6666666666666666,
              "#ed7953"
             ],
             [
              0.7777777777777778,
              "#fb9f3a"
             ],
             [
              0.8888888888888888,
              "#fdca26"
             ],
             [
              1,
              "#f0f921"
             ]
            ],
            "type": "contour"
           }
          ],
          "contourcarpet": [
           {
            "colorbar": {
             "outlinewidth": 0,
             "ticks": ""
            },
            "type": "contourcarpet"
           }
          ],
          "heatmap": [
           {
            "colorbar": {
             "outlinewidth": 0,
             "ticks": ""
            },
            "colorscale": [
             [
              0,
              "#0d0887"
             ],
             [
              0.1111111111111111,
              "#46039f"
             ],
             [
              0.2222222222222222,
              "#7201a8"
             ],
             [
              0.3333333333333333,
              "#9c179e"
             ],
             [
              0.4444444444444444,
              "#bd3786"
             ],
             [
              0.5555555555555556,
              "#d8576b"
             ],
             [
              0.6666666666666666,
              "#ed7953"
             ],
             [
              0.7777777777777778,
              "#fb9f3a"
             ],
             [
              0.8888888888888888,
              "#fdca26"
             ],
             [
              1,
              "#f0f921"
             ]
            ],
            "type": "heatmap"
           }
          ],
          "heatmapgl": [
           {
            "colorbar": {
             "outlinewidth": 0,
             "ticks": ""
            },
            "colorscale": [
             [
              0,
              "#0d0887"
             ],
             [
              0.1111111111111111,
              "#46039f"
             ],
             [
              0.2222222222222222,
              "#7201a8"
             ],
             [
              0.3333333333333333,
              "#9c179e"
             ],
             [
              0.4444444444444444,
              "#bd3786"
             ],
             [
              0.5555555555555556,
              "#d8576b"
             ],
             [
              0.6666666666666666,
              "#ed7953"
             ],
             [
              0.7777777777777778,
              "#fb9f3a"
             ],
             [
              0.8888888888888888,
              "#fdca26"
             ],
             [
              1,
              "#f0f921"
             ]
            ],
            "type": "heatmapgl"
           }
          ],
          "histogram": [
           {
            "marker": {
             "pattern": {
              "fillmode": "overlay",
              "size": 10,
              "solidity": 0.2
             }
            },
            "type": "histogram"
           }
          ],
          "histogram2d": [
           {
            "colorbar": {
             "outlinewidth": 0,
             "ticks": ""
            },
            "colorscale": [
             [
              0,
              "#0d0887"
             ],
             [
              0.1111111111111111,
              "#46039f"
             ],
             [
              0.2222222222222222,
              "#7201a8"
             ],
             [
              0.3333333333333333,
              "#9c179e"
             ],
             [
              0.4444444444444444,
              "#bd3786"
             ],
             [
              0.5555555555555556,
              "#d8576b"
             ],
             [
              0.6666666666666666,
              "#ed7953"
             ],
             [
              0.7777777777777778,
              "#fb9f3a"
             ],
             [
              0.8888888888888888,
              "#fdca26"
             ],
             [
              1,
              "#f0f921"
             ]
            ],
            "type": "histogram2d"
           }
          ],
          "histogram2dcontour": [
           {
            "colorbar": {
             "outlinewidth": 0,
             "ticks": ""
            },
            "colorscale": [
             [
              0,
              "#0d0887"
             ],
             [
              0.1111111111111111,
              "#46039f"
             ],
             [
              0.2222222222222222,
              "#7201a8"
             ],
             [
              0.3333333333333333,
              "#9c179e"
             ],
             [
              0.4444444444444444,
              "#bd3786"
             ],
             [
              0.5555555555555556,
              "#d8576b"
             ],
             [
              0.6666666666666666,
              "#ed7953"
             ],
             [
              0.7777777777777778,
              "#fb9f3a"
             ],
             [
              0.8888888888888888,
              "#fdca26"
             ],
             [
              1,
              "#f0f921"
             ]
            ],
            "type": "histogram2dcontour"
           }
          ],
          "mesh3d": [
           {
            "colorbar": {
             "outlinewidth": 0,
             "ticks": ""
            },
            "type": "mesh3d"
           }
          ],
          "parcoords": [
           {
            "line": {
             "colorbar": {
              "outlinewidth": 0,
              "ticks": ""
             }
            },
            "type": "parcoords"
           }
          ],
          "pie": [
           {
            "automargin": true,
            "type": "pie"
           }
          ],
          "scatter": [
           {
            "marker": {
             "colorbar": {
              "outlinewidth": 0,
              "ticks": ""
             }
            },
            "type": "scatter"
           }
          ],
          "scatter3d": [
           {
            "line": {
             "colorbar": {
              "outlinewidth": 0,
              "ticks": ""
             }
            },
            "marker": {
             "colorbar": {
              "outlinewidth": 0,
              "ticks": ""
             }
            },
            "type": "scatter3d"
           }
          ],
          "scattercarpet": [
           {
            "marker": {
             "colorbar": {
              "outlinewidth": 0,
              "ticks": ""
             }
            },
            "type": "scattercarpet"
           }
          ],
          "scattergeo": [
           {
            "marker": {
             "colorbar": {
              "outlinewidth": 0,
              "ticks": ""
             }
            },
            "type": "scattergeo"
           }
          ],
          "scattergl": [
           {
            "marker": {
             "colorbar": {
              "outlinewidth": 0,
              "ticks": ""
             }
            },
            "type": "scattergl"
           }
          ],
          "scattermapbox": [
           {
            "marker": {
             "colorbar": {
              "outlinewidth": 0,
              "ticks": ""
             }
            },
            "type": "scattermapbox"
           }
          ],
          "scatterpolar": [
           {
            "marker": {
             "colorbar": {
              "outlinewidth": 0,
              "ticks": ""
             }
            },
            "type": "scatterpolar"
           }
          ],
          "scatterpolargl": [
           {
            "marker": {
             "colorbar": {
              "outlinewidth": 0,
              "ticks": ""
             }
            },
            "type": "scatterpolargl"
           }
          ],
          "scatterternary": [
           {
            "marker": {
             "colorbar": {
              "outlinewidth": 0,
              "ticks": ""
             }
            },
            "type": "scatterternary"
           }
          ],
          "surface": [
           {
            "colorbar": {
             "outlinewidth": 0,
             "ticks": ""
            },
            "colorscale": [
             [
              0,
              "#0d0887"
             ],
             [
              0.1111111111111111,
              "#46039f"
             ],
             [
              0.2222222222222222,
              "#7201a8"
             ],
             [
              0.3333333333333333,
              "#9c179e"
             ],
             [
              0.4444444444444444,
              "#bd3786"
             ],
             [
              0.5555555555555556,
              "#d8576b"
             ],
             [
              0.6666666666666666,
              "#ed7953"
             ],
             [
              0.7777777777777778,
              "#fb9f3a"
             ],
             [
              0.8888888888888888,
              "#fdca26"
             ],
             [
              1,
              "#f0f921"
             ]
            ],
            "type": "surface"
           }
          ],
          "table": [
           {
            "cells": {
             "fill": {
              "color": "#EBF0F8"
             },
             "line": {
              "color": "white"
             }
            },
            "header": {
             "fill": {
              "color": "#C8D4E3"
             },
             "line": {
              "color": "white"
             }
            },
            "type": "table"
           }
          ]
         },
         "layout": {
          "annotationdefaults": {
           "arrowcolor": "#2a3f5f",
           "arrowhead": 0,
           "arrowwidth": 1
          },
          "autotypenumbers": "strict",
          "coloraxis": {
           "colorbar": {
            "outlinewidth": 0,
            "ticks": ""
           }
          },
          "colorscale": {
           "diverging": [
            [
             0,
             "#8e0152"
            ],
            [
             0.1,
             "#c51b7d"
            ],
            [
             0.2,
             "#de77ae"
            ],
            [
             0.3,
             "#f1b6da"
            ],
            [
             0.4,
             "#fde0ef"
            ],
            [
             0.5,
             "#f7f7f7"
            ],
            [
             0.6,
             "#e6f5d0"
            ],
            [
             0.7,
             "#b8e186"
            ],
            [
             0.8,
             "#7fbc41"
            ],
            [
             0.9,
             "#4d9221"
            ],
            [
             1,
             "#276419"
            ]
           ],
           "sequential": [
            [
             0,
             "#0d0887"
            ],
            [
             0.1111111111111111,
             "#46039f"
            ],
            [
             0.2222222222222222,
             "#7201a8"
            ],
            [
             0.3333333333333333,
             "#9c179e"
            ],
            [
             0.4444444444444444,
             "#bd3786"
            ],
            [
             0.5555555555555556,
             "#d8576b"
            ],
            [
             0.6666666666666666,
             "#ed7953"
            ],
            [
             0.7777777777777778,
             "#fb9f3a"
            ],
            [
             0.8888888888888888,
             "#fdca26"
            ],
            [
             1,
             "#f0f921"
            ]
           ],
           "sequentialminus": [
            [
             0,
             "#0d0887"
            ],
            [
             0.1111111111111111,
             "#46039f"
            ],
            [
             0.2222222222222222,
             "#7201a8"
            ],
            [
             0.3333333333333333,
             "#9c179e"
            ],
            [
             0.4444444444444444,
             "#bd3786"
            ],
            [
             0.5555555555555556,
             "#d8576b"
            ],
            [
             0.6666666666666666,
             "#ed7953"
            ],
            [
             0.7777777777777778,
             "#fb9f3a"
            ],
            [
             0.8888888888888888,
             "#fdca26"
            ],
            [
             1,
             "#f0f921"
            ]
           ]
          },
          "colorway": [
           "#636efa",
           "#EF553B",
           "#00cc96",
           "#ab63fa",
           "#FFA15A",
           "#19d3f3",
           "#FF6692",
           "#B6E880",
           "#FF97FF",
           "#FECB52"
          ],
          "font": {
           "color": "#2a3f5f"
          },
          "geo": {
           "bgcolor": "white",
           "lakecolor": "white",
           "landcolor": "#E5ECF6",
           "showlakes": true,
           "showland": true,
           "subunitcolor": "white"
          },
          "hoverlabel": {
           "align": "left"
          },
          "hovermode": "closest",
          "mapbox": {
           "style": "light"
          },
          "paper_bgcolor": "white",
          "plot_bgcolor": "#E5ECF6",
          "polar": {
           "angularaxis": {
            "gridcolor": "white",
            "linecolor": "white",
            "ticks": ""
           },
           "bgcolor": "#E5ECF6",
           "radialaxis": {
            "gridcolor": "white",
            "linecolor": "white",
            "ticks": ""
           }
          },
          "scene": {
           "xaxis": {
            "backgroundcolor": "#E5ECF6",
            "gridcolor": "white",
            "gridwidth": 2,
            "linecolor": "white",
            "showbackground": true,
            "ticks": "",
            "zerolinecolor": "white"
           },
           "yaxis": {
            "backgroundcolor": "#E5ECF6",
            "gridcolor": "white",
            "gridwidth": 2,
            "linecolor": "white",
            "showbackground": true,
            "ticks": "",
            "zerolinecolor": "white"
           },
           "zaxis": {
            "backgroundcolor": "#E5ECF6",
            "gridcolor": "white",
            "gridwidth": 2,
            "linecolor": "white",
            "showbackground": true,
            "ticks": "",
            "zerolinecolor": "white"
           }
          },
          "shapedefaults": {
           "line": {
            "color": "#2a3f5f"
           }
          },
          "ternary": {
           "aaxis": {
            "gridcolor": "white",
            "linecolor": "white",
            "ticks": ""
           },
           "baxis": {
            "gridcolor": "white",
            "linecolor": "white",
            "ticks": ""
           },
           "bgcolor": "#E5ECF6",
           "caxis": {
            "gridcolor": "white",
            "linecolor": "white",
            "ticks": ""
           }
          },
          "title": {
           "x": 0.05
          },
          "xaxis": {
           "automargin": true,
           "gridcolor": "white",
           "linecolor": "white",
           "ticks": "",
           "title": {
            "standoff": 15
           },
           "zerolinecolor": "white",
           "zerolinewidth": 2
          },
          "yaxis": {
           "automargin": true,
           "gridcolor": "white",
           "linecolor": "white",
           "ticks": "",
           "title": {
            "standoff": 15
           },
           "zerolinecolor": "white",
           "zerolinewidth": 2
          }
         }
        },
        "xaxis": {
         "anchor": "y",
         "domain": [
          0,
          1
         ],
         "title": {
          "text": "x"
         }
        },
        "yaxis": {
         "anchor": "x",
         "domain": [
          0,
          1
         ],
         "title": {
          "text": "y"
         }
        }
       }
      },
      "text/html": [
       "<div>                            <div id=\"b5a04a93-8ddd-4c2b-9c4b-9d2a35b6711d\" class=\"plotly-graph-div\" style=\"height:525px; width:100%;\"></div>            <script type=\"text/javascript\">                require([\"plotly\"], function(Plotly) {                    window.PLOTLYENV=window.PLOTLYENV || {};                                    if (document.getElementById(\"b5a04a93-8ddd-4c2b-9c4b-9d2a35b6711d\")) {                    Plotly.newPlot(                        \"b5a04a93-8ddd-4c2b-9c4b-9d2a35b6711d\",                        [{\"hovertemplate\":\"x=%{x}<br>y=%{y}<extra></extra>\",\"legendgroup\":\"\",\"line\":{\"color\":\"#636efa\",\"dash\":\"solid\"},\"marker\":{\"symbol\":\"circle\"},\"mode\":\"lines\",\"name\":\"\",\"orientation\":\"v\",\"showlegend\":false,\"x\":[\"2020-05-15T00:00:00\",\"2020-01-15T00:00:00\",\"2020-05-21T00:00:00\",\"2020-04-24T00:00:00\",\"2020-01-30T00:00:00\",\"2020-06-28T00:00:00\",\"2020-03-03T00:00:00\",\"2020-04-23T00:00:00\",\"2020-06-09T00:00:00\",\"2020-01-27T00:00:00\",\"2020-02-19T00:00:00\",\"2020-01-18T00:00:00\",\"2020-03-23T00:00:00\",\"2020-06-14T00:00:00\",\"2020-03-24T00:00:00\",\"2020-04-13T00:00:00\",\"2020-04-28T00:00:00\",\"2020-05-29T00:00:00\",\"2020-03-06T00:00:00\",\"2020-03-21T00:00:00\",\"2020-04-12T00:00:00\",\"2020-05-29T00:00:00\",\"2020-03-11T00:00:00\",\"2020-05-07T00:00:00\",\"2020-03-17T00:00:00\",\"2020-06-09T00:00:00\",\"2020-06-11T00:00:00\",\"2020-03-12T00:00:00\",\"2020-02-20T00:00:00\",\"2020-01-15T00:00:00\",\"2020-02-12T00:00:00\",\"2020-02-03T00:00:00\",\"2020-02-20T00:00:00\",\"2020-06-16T00:00:00\",\"2020-04-05T00:00:00\",\"2020-06-21T00:00:00\",\"2020-06-12T00:00:00\",\"2020-02-14T00:00:00\",\"2020-03-03T00:00:00\",\"2020-06-29T00:00:00\",\"2020-06-06T00:00:00\",\"2020-03-10T00:00:00\",\"2020-01-29T00:00:00\",\"2020-03-17T00:00:00\",\"2020-04-14T00:00:00\",\"2020-04-15T00:00:00\",\"2020-03-06T00:00:00\",\"2020-06-03T00:00:00\",\"2020-03-25T00:00:00\",\"2020-06-05T00:00:00\",\"2020-06-07T00:00:00\",\"2020-02-02T00:00:00\",\"2020-01-04T00:00:00\",\"2020-02-04T00:00:00\",\"2020-06-15T00:00:00\",\"2020-01-03T00:00:00\",\"2020-02-06T00:00:00\",\"2020-02-23T00:00:00\",\"2020-06-07T00:00:00\",\"2020-03-23T00:00:00\",\"2020-06-23T00:00:00\",\"2020-01-24T00:00:00\",\"2020-03-05T00:00:00\",\"2020-02-11T00:00:00\",\"2020-04-06T00:00:00\",\"2020-02-17T00:00:00\",\"2020-01-15T00:00:00\",\"2020-05-16T00:00:00\",\"2020-02-07T00:00:00\",\"2020-01-26T00:00:00\",\"2020-03-25T00:00:00\",\"2020-04-22T00:00:00\",\"2020-04-06T00:00:00\",\"2020-01-12T00:00:00\",\"2020-04-10T00:00:00\",\"2020-06-17T00:00:00\",\"2020-06-21T00:00:00\",\"2020-01-09T00:00:00\",\"2020-01-22T00:00:00\",\"2020-01-08T00:00:00\",\"2020-03-26T00:00:00\",\"2020-06-23T00:00:00\",\"2020-06-24T00:00:00\",\"2020-05-28T00:00:00\",\"2020-07-01T00:00:00\",\"2020-02-17T00:00:00\",\"2020-04-10T00:00:00\",\"2020-02-05T00:00:00\",\"2020-03-29T00:00:00\",\"2020-03-03T00:00:00\",\"2020-06-11T00:00:00\",\"2020-03-28T00:00:00\",\"2020-03-10T00:00:00\",\"2020-05-22T00:00:00\",\"2020-05-19T00:00:00\",\"2020-04-01T00:00:00\",\"2020-06-08T00:00:00\",\"2020-03-14T00:00:00\",\"2020-02-11T00:00:00\",\"2020-06-04T00:00:00\",\"2020-01-29T00:00:00\",\"2020-03-30T00:00:00\",\"2020-01-22T00:00:00\",\"2020-06-12T00:00:00\",\"2020-06-02T00:00:00\",\"2020-02-05T00:00:00\",\"2020-02-09T00:00:00\",\"2020-06-28T00:00:00\",\"2020-04-03T00:00:00\",\"2020-06-20T00:00:00\",\"2020-06-09T00:00:00\",\"2020-02-17T00:00:00\"],\"xaxis\":\"x\",\"y\":[1373225676.2933335,1430431280.055,73019094.2725,1260811717.5303226,1387006765.5341177,1346199895.9406185,863319062.2933333,659113325.1384212,1283797359.2905555,386944802.0362963,572574205.2263013,58069781.717777774,434201305.06666666,297044171.23764706,586353464.1066667,481601369.7986813,225168882.70285717,750663805.6758333,1361273091.52,1269004916.6016667,1531638631.2855556,1277029825.3414142,412040587.992381,271102792.5527273,1434131547.4666667,604542452.7222222,1406699470.4872727,800954634.83,52917194.801038966,74019191.04,1379366854.8733335,765090452.2375,891492145.8225,972759324.0428572,1493998584.2421622,310915394.8820513,857222665.8548148,76779829.05,823015893.3942857,1073396882.0892308,774014334.3441095,89757252.62428573,852085404.9261111,878554259.4021053,396613485.1607843,501812465.7806452,312215556.2019048,703557079.7591012,1081644107.7102702,340021658.86,99720628.84102564,590665777.6702439,1148204277.4945054,963945361.7714286,1188799884.4931343,1458323611.88,1320353767.0645835,487062332.0177778,1312887583.9956756,188477328.0,708169601.2177778,536991210.0672727,815009199.1400001,92430177.38666667,1368274545.89,822210151.3678432,827143353.3752941,745223611.58,368634064.5415385,1020727162.2914286,315957922.0298901,1261198469.1659772,324152357.57473683,631664617.2389743,1469156724.387097,1224303934.5951724,1417944455.3600001,223725161.01333335,90484931.79169811,601425586.471111,602570643.015,1490217149.380513,1143533908.4150002,983907464.2224389,1246883292.16,213331256.50666666,1110121850.839322,1221834910.1364706,112970067.98518519,807782070.2021978,655368159.9752941,68043199.7,216341977.60000002,880190925.5111113,1526269462.775,1167467077.0933332,1364756120.7362711,896787993.1673684,1511947799.7800002,687112981.7066667,1284555263.6825,875272186.2825,903867048.32,90613237.02666667,1036576021.5093617,22838577.790000003,1293479790.8142858,1365360341.2642858,505637399.7472222,512884976.27943665,1063315269.2333333,211942030.6164706],\"yaxis\":\"y\",\"type\":\"scatter\"}],                        {\"template\":{\"data\":{\"bar\":[{\"error_x\":{\"color\":\"#2a3f5f\"},\"error_y\":{\"color\":\"#2a3f5f\"},\"marker\":{\"line\":{\"color\":\"#E5ECF6\",\"width\":0.5},\"pattern\":{\"fillmode\":\"overlay\",\"size\":10,\"solidity\":0.2}},\"type\":\"bar\"}],\"barpolar\":[{\"marker\":{\"line\":{\"color\":\"#E5ECF6\",\"width\":0.5},\"pattern\":{\"fillmode\":\"overlay\",\"size\":10,\"solidity\":0.2}},\"type\":\"barpolar\"}],\"carpet\":[{\"aaxis\":{\"endlinecolor\":\"#2a3f5f\",\"gridcolor\":\"white\",\"linecolor\":\"white\",\"minorgridcolor\":\"white\",\"startlinecolor\":\"#2a3f5f\"},\"baxis\":{\"endlinecolor\":\"#2a3f5f\",\"gridcolor\":\"white\",\"linecolor\":\"white\",\"minorgridcolor\":\"white\",\"startlinecolor\":\"#2a3f5f\"},\"type\":\"carpet\"}],\"choropleth\":[{\"colorbar\":{\"outlinewidth\":0,\"ticks\":\"\"},\"type\":\"choropleth\"}],\"contour\":[{\"colorbar\":{\"outlinewidth\":0,\"ticks\":\"\"},\"colorscale\":[[0.0,\"#0d0887\"],[0.1111111111111111,\"#46039f\"],[0.2222222222222222,\"#7201a8\"],[0.3333333333333333,\"#9c179e\"],[0.4444444444444444,\"#bd3786\"],[0.5555555555555556,\"#d8576b\"],[0.6666666666666666,\"#ed7953\"],[0.7777777777777778,\"#fb9f3a\"],[0.8888888888888888,\"#fdca26\"],[1.0,\"#f0f921\"]],\"type\":\"contour\"}],\"contourcarpet\":[{\"colorbar\":{\"outlinewidth\":0,\"ticks\":\"\"},\"type\":\"contourcarpet\"}],\"heatmap\":[{\"colorbar\":{\"outlinewidth\":0,\"ticks\":\"\"},\"colorscale\":[[0.0,\"#0d0887\"],[0.1111111111111111,\"#46039f\"],[0.2222222222222222,\"#7201a8\"],[0.3333333333333333,\"#9c179e\"],[0.4444444444444444,\"#bd3786\"],[0.5555555555555556,\"#d8576b\"],[0.6666666666666666,\"#ed7953\"],[0.7777777777777778,\"#fb9f3a\"],[0.8888888888888888,\"#fdca26\"],[1.0,\"#f0f921\"]],\"type\":\"heatmap\"}],\"heatmapgl\":[{\"colorbar\":{\"outlinewidth\":0,\"ticks\":\"\"},\"colorscale\":[[0.0,\"#0d0887\"],[0.1111111111111111,\"#46039f\"],[0.2222222222222222,\"#7201a8\"],[0.3333333333333333,\"#9c179e\"],[0.4444444444444444,\"#bd3786\"],[0.5555555555555556,\"#d8576b\"],[0.6666666666666666,\"#ed7953\"],[0.7777777777777778,\"#fb9f3a\"],[0.8888888888888888,\"#fdca26\"],[1.0,\"#f0f921\"]],\"type\":\"heatmapgl\"}],\"histogram\":[{\"marker\":{\"pattern\":{\"fillmode\":\"overlay\",\"size\":10,\"solidity\":0.2}},\"type\":\"histogram\"}],\"histogram2d\":[{\"colorbar\":{\"outlinewidth\":0,\"ticks\":\"\"},\"colorscale\":[[0.0,\"#0d0887\"],[0.1111111111111111,\"#46039f\"],[0.2222222222222222,\"#7201a8\"],[0.3333333333333333,\"#9c179e\"],[0.4444444444444444,\"#bd3786\"],[0.5555555555555556,\"#d8576b\"],[0.6666666666666666,\"#ed7953\"],[0.7777777777777778,\"#fb9f3a\"],[0.8888888888888888,\"#fdca26\"],[1.0,\"#f0f921\"]],\"type\":\"histogram2d\"}],\"histogram2dcontour\":[{\"colorbar\":{\"outlinewidth\":0,\"ticks\":\"\"},\"colorscale\":[[0.0,\"#0d0887\"],[0.1111111111111111,\"#46039f\"],[0.2222222222222222,\"#7201a8\"],[0.3333333333333333,\"#9c179e\"],[0.4444444444444444,\"#bd3786\"],[0.5555555555555556,\"#d8576b\"],[0.6666666666666666,\"#ed7953\"],[0.7777777777777778,\"#fb9f3a\"],[0.8888888888888888,\"#fdca26\"],[1.0,\"#f0f921\"]],\"type\":\"histogram2dcontour\"}],\"mesh3d\":[{\"colorbar\":{\"outlinewidth\":0,\"ticks\":\"\"},\"type\":\"mesh3d\"}],\"parcoords\":[{\"line\":{\"colorbar\":{\"outlinewidth\":0,\"ticks\":\"\"}},\"type\":\"parcoords\"}],\"pie\":[{\"automargin\":true,\"type\":\"pie\"}],\"scatter\":[{\"marker\":{\"colorbar\":{\"outlinewidth\":0,\"ticks\":\"\"}},\"type\":\"scatter\"}],\"scatter3d\":[{\"line\":{\"colorbar\":{\"outlinewidth\":0,\"ticks\":\"\"}},\"marker\":{\"colorbar\":{\"outlinewidth\":0,\"ticks\":\"\"}},\"type\":\"scatter3d\"}],\"scattercarpet\":[{\"marker\":{\"colorbar\":{\"outlinewidth\":0,\"ticks\":\"\"}},\"type\":\"scattercarpet\"}],\"scattergeo\":[{\"marker\":{\"colorbar\":{\"outlinewidth\":0,\"ticks\":\"\"}},\"type\":\"scattergeo\"}],\"scattergl\":[{\"marker\":{\"colorbar\":{\"outlinewidth\":0,\"ticks\":\"\"}},\"type\":\"scattergl\"}],\"scattermapbox\":[{\"marker\":{\"colorbar\":{\"outlinewidth\":0,\"ticks\":\"\"}},\"type\":\"scattermapbox\"}],\"scatterpolar\":[{\"marker\":{\"colorbar\":{\"outlinewidth\":0,\"ticks\":\"\"}},\"type\":\"scatterpolar\"}],\"scatterpolargl\":[{\"marker\":{\"colorbar\":{\"outlinewidth\":0,\"ticks\":\"\"}},\"type\":\"scatterpolargl\"}],\"scatterternary\":[{\"marker\":{\"colorbar\":{\"outlinewidth\":0,\"ticks\":\"\"}},\"type\":\"scatterternary\"}],\"surface\":[{\"colorbar\":{\"outlinewidth\":0,\"ticks\":\"\"},\"colorscale\":[[0.0,\"#0d0887\"],[0.1111111111111111,\"#46039f\"],[0.2222222222222222,\"#7201a8\"],[0.3333333333333333,\"#9c179e\"],[0.4444444444444444,\"#bd3786\"],[0.5555555555555556,\"#d8576b\"],[0.6666666666666666,\"#ed7953\"],[0.7777777777777778,\"#fb9f3a\"],[0.8888888888888888,\"#fdca26\"],[1.0,\"#f0f921\"]],\"type\":\"surface\"}],\"table\":[{\"cells\":{\"fill\":{\"color\":\"#EBF0F8\"},\"line\":{\"color\":\"white\"}},\"header\":{\"fill\":{\"color\":\"#C8D4E3\"},\"line\":{\"color\":\"white\"}},\"type\":\"table\"}]},\"layout\":{\"annotationdefaults\":{\"arrowcolor\":\"#2a3f5f\",\"arrowhead\":0,\"arrowwidth\":1},\"autotypenumbers\":\"strict\",\"coloraxis\":{\"colorbar\":{\"outlinewidth\":0,\"ticks\":\"\"}},\"colorscale\":{\"diverging\":[[0,\"#8e0152\"],[0.1,\"#c51b7d\"],[0.2,\"#de77ae\"],[0.3,\"#f1b6da\"],[0.4,\"#fde0ef\"],[0.5,\"#f7f7f7\"],[0.6,\"#e6f5d0\"],[0.7,\"#b8e186\"],[0.8,\"#7fbc41\"],[0.9,\"#4d9221\"],[1,\"#276419\"]],\"sequential\":[[0.0,\"#0d0887\"],[0.1111111111111111,\"#46039f\"],[0.2222222222222222,\"#7201a8\"],[0.3333333333333333,\"#9c179e\"],[0.4444444444444444,\"#bd3786\"],[0.5555555555555556,\"#d8576b\"],[0.6666666666666666,\"#ed7953\"],[0.7777777777777778,\"#fb9f3a\"],[0.8888888888888888,\"#fdca26\"],[1.0,\"#f0f921\"]],\"sequentialminus\":[[0.0,\"#0d0887\"],[0.1111111111111111,\"#46039f\"],[0.2222222222222222,\"#7201a8\"],[0.3333333333333333,\"#9c179e\"],[0.4444444444444444,\"#bd3786\"],[0.5555555555555556,\"#d8576b\"],[0.6666666666666666,\"#ed7953\"],[0.7777777777777778,\"#fb9f3a\"],[0.8888888888888888,\"#fdca26\"],[1.0,\"#f0f921\"]]},\"colorway\":[\"#636efa\",\"#EF553B\",\"#00cc96\",\"#ab63fa\",\"#FFA15A\",\"#19d3f3\",\"#FF6692\",\"#B6E880\",\"#FF97FF\",\"#FECB52\"],\"font\":{\"color\":\"#2a3f5f\"},\"geo\":{\"bgcolor\":\"white\",\"lakecolor\":\"white\",\"landcolor\":\"#E5ECF6\",\"showlakes\":true,\"showland\":true,\"subunitcolor\":\"white\"},\"hoverlabel\":{\"align\":\"left\"},\"hovermode\":\"closest\",\"mapbox\":{\"style\":\"light\"},\"paper_bgcolor\":\"white\",\"plot_bgcolor\":\"#E5ECF6\",\"polar\":{\"angularaxis\":{\"gridcolor\":\"white\",\"linecolor\":\"white\",\"ticks\":\"\"},\"bgcolor\":\"#E5ECF6\",\"radialaxis\":{\"gridcolor\":\"white\",\"linecolor\":\"white\",\"ticks\":\"\"}},\"scene\":{\"xaxis\":{\"backgroundcolor\":\"#E5ECF6\",\"gridcolor\":\"white\",\"gridwidth\":2,\"linecolor\":\"white\",\"showbackground\":true,\"ticks\":\"\",\"zerolinecolor\":\"white\"},\"yaxis\":{\"backgroundcolor\":\"#E5ECF6\",\"gridcolor\":\"white\",\"gridwidth\":2,\"linecolor\":\"white\",\"showbackground\":true,\"ticks\":\"\",\"zerolinecolor\":\"white\"},\"zaxis\":{\"backgroundcolor\":\"#E5ECF6\",\"gridcolor\":\"white\",\"gridwidth\":2,\"linecolor\":\"white\",\"showbackground\":true,\"ticks\":\"\",\"zerolinecolor\":\"white\"}},\"shapedefaults\":{\"line\":{\"color\":\"#2a3f5f\"}},\"ternary\":{\"aaxis\":{\"gridcolor\":\"white\",\"linecolor\":\"white\",\"ticks\":\"\"},\"baxis\":{\"gridcolor\":\"white\",\"linecolor\":\"white\",\"ticks\":\"\"},\"bgcolor\":\"#E5ECF6\",\"caxis\":{\"gridcolor\":\"white\",\"linecolor\":\"white\",\"ticks\":\"\"}},\"title\":{\"x\":0.05},\"xaxis\":{\"automargin\":true,\"gridcolor\":\"white\",\"linecolor\":\"white\",\"ticks\":\"\",\"title\":{\"standoff\":15},\"zerolinecolor\":\"white\",\"zerolinewidth\":2},\"yaxis\":{\"automargin\":true,\"gridcolor\":\"white\",\"linecolor\":\"white\",\"ticks\":\"\",\"title\":{\"standoff\":15},\"zerolinecolor\":\"white\",\"zerolinewidth\":2}}},\"xaxis\":{\"anchor\":\"y\",\"domain\":[0.0,1.0],\"title\":{\"text\":\"x\"}},\"yaxis\":{\"anchor\":\"x\",\"domain\":[0.0,1.0],\"title\":{\"text\":\"y\"}},\"legend\":{\"tracegroupgap\":0},\"margin\":{\"t\":60}},                        {\"responsive\": true}                    ).then(function(){\n",
       "                            \n",
       "var gd = document.getElementById('b5a04a93-8ddd-4c2b-9c4b-9d2a35b6711d');\n",
       "var x = new MutationObserver(function (mutations, observer) {{\n",
       "        var display = window.getComputedStyle(gd).display;\n",
       "        if (!display || display === 'none') {{\n",
       "            console.log([gd, 'removed!']);\n",
       "            Plotly.purge(gd);\n",
       "            observer.disconnect();\n",
       "        }}\n",
       "}});\n",
       "\n",
       "// Listen for the removal of the full notebook cells\n",
       "var notebookContainer = gd.closest('#notebook-container');\n",
       "if (notebookContainer) {{\n",
       "    x.observe(notebookContainer, {childList: true});\n",
       "}}\n",
       "\n",
       "// Listen for the clearing of the current output cell\n",
       "var outputEl = gd.closest('.output');\n",
       "if (outputEl) {{\n",
       "    x.observe(outputEl, {childList: true});\n",
       "}}\n",
       "\n",
       "                        })                };                });            </script>        </div>"
      ]
     },
     "metadata": {},
     "output_type": "display_data"
    }
   ],
   "source": [
    "fig = px.line(x = compra['inicio'], y = compra['volume_usd'])\n",
    "fig.show()\n",
    "#x = compra['inicio']\n",
    "#y = compra['volume_usd']"
   ]
  },
  {
   "cell_type": "code",
   "execution_count": 57,
   "id": "c38aa251-6f04-41b4-b80d-b01c80a97f67",
   "metadata": {},
   "outputs": [
    {
     "data": {
      "application/vnd.plotly.v1+json": {
       "config": {
        "plotlyServerURL": "https://plot.ly"
       },
       "data": [
        {
         "domain": {
          "x": [
           0,
           1
          ],
          "y": [
           0,
           1
          ]
         },
         "hovertemplate": "label=%{label}<br>value=%{value}<extra></extra>",
         "labels": [
          "2020-05-15T00:00:00",
          "2020-01-15T00:00:00",
          "2020-05-21T00:00:00",
          "2020-04-24T00:00:00",
          "2020-01-30T00:00:00",
          "2020-06-28T00:00:00",
          "2020-03-03T00:00:00",
          "2020-04-23T00:00:00",
          "2020-06-09T00:00:00",
          "2020-01-27T00:00:00",
          "2020-02-19T00:00:00",
          "2020-01-18T00:00:00",
          "2020-03-23T00:00:00",
          "2020-06-14T00:00:00",
          "2020-03-24T00:00:00",
          "2020-04-13T00:00:00",
          "2020-04-28T00:00:00",
          "2020-05-29T00:00:00",
          "2020-03-06T00:00:00",
          "2020-03-21T00:00:00",
          "2020-04-12T00:00:00",
          "2020-05-29T00:00:00",
          "2020-03-11T00:00:00",
          "2020-05-07T00:00:00",
          "2020-03-17T00:00:00",
          "2020-06-09T00:00:00",
          "2020-06-11T00:00:00",
          "2020-03-12T00:00:00",
          "2020-02-20T00:00:00",
          "2020-01-15T00:00:00",
          "2020-02-12T00:00:00",
          "2020-02-03T00:00:00",
          "2020-02-20T00:00:00",
          "2020-06-16T00:00:00",
          "2020-04-05T00:00:00",
          "2020-06-21T00:00:00",
          "2020-06-12T00:00:00",
          "2020-02-14T00:00:00",
          "2020-03-03T00:00:00",
          "2020-06-29T00:00:00",
          "2020-06-06T00:00:00",
          "2020-03-10T00:00:00",
          "2020-01-29T00:00:00",
          "2020-03-17T00:00:00",
          "2020-04-14T00:00:00",
          "2020-04-15T00:00:00",
          "2020-03-06T00:00:00",
          "2020-06-03T00:00:00",
          "2020-03-25T00:00:00",
          "2020-06-05T00:00:00",
          "2020-06-07T00:00:00",
          "2020-02-02T00:00:00",
          "2020-01-04T00:00:00",
          "2020-02-04T00:00:00",
          "2020-06-15T00:00:00",
          "2020-01-03T00:00:00",
          "2020-02-06T00:00:00",
          "2020-02-23T00:00:00",
          "2020-06-07T00:00:00",
          "2020-03-23T00:00:00",
          "2020-06-23T00:00:00",
          "2020-01-24T00:00:00",
          "2020-03-05T00:00:00",
          "2020-02-11T00:00:00",
          "2020-04-06T00:00:00",
          "2020-02-17T00:00:00",
          "2020-01-15T00:00:00",
          "2020-05-16T00:00:00",
          "2020-02-07T00:00:00",
          "2020-01-26T00:00:00",
          "2020-03-25T00:00:00",
          "2020-04-22T00:00:00",
          "2020-04-06T00:00:00",
          "2020-01-12T00:00:00",
          "2020-04-10T00:00:00",
          "2020-06-17T00:00:00",
          "2020-06-21T00:00:00",
          "2020-01-09T00:00:00",
          "2020-01-22T00:00:00",
          "2020-01-08T00:00:00",
          "2020-03-26T00:00:00",
          "2020-06-23T00:00:00",
          "2020-06-24T00:00:00",
          "2020-05-28T00:00:00",
          "2020-07-01T00:00:00",
          "2020-02-17T00:00:00",
          "2020-04-10T00:00:00",
          "2020-02-05T00:00:00",
          "2020-03-29T00:00:00",
          "2020-03-03T00:00:00",
          "2020-06-11T00:00:00",
          "2020-03-28T00:00:00",
          "2020-03-10T00:00:00",
          "2020-05-22T00:00:00",
          "2020-05-19T00:00:00",
          "2020-04-01T00:00:00",
          "2020-06-08T00:00:00",
          "2020-03-14T00:00:00",
          "2020-02-11T00:00:00",
          "2020-06-04T00:00:00",
          "2020-01-29T00:00:00",
          "2020-03-30T00:00:00",
          "2020-01-22T00:00:00",
          "2020-06-12T00:00:00",
          "2020-06-02T00:00:00",
          "2020-02-05T00:00:00",
          "2020-02-09T00:00:00",
          "2020-06-28T00:00:00",
          "2020-04-03T00:00:00",
          "2020-06-20T00:00:00",
          "2020-06-09T00:00:00",
          "2020-02-17T00:00:00"
         ],
         "legendgroup": "",
         "name": "",
         "showlegend": true,
         "type": "pie",
         "values": [
          1373225676.2933335,
          1430431280.055,
          73019094.2725,
          1260811717.5303226,
          1387006765.5341177,
          1346199895.9406185,
          863319062.2933333,
          659113325.1384212,
          1283797359.2905555,
          386944802.0362963,
          572574205.2263013,
          58069781.717777774,
          434201305.06666666,
          297044171.23764706,
          586353464.1066667,
          481601369.7986813,
          225168882.70285717,
          750663805.6758333,
          1361273091.52,
          1269004916.6016667,
          1531638631.2855556,
          1277029825.3414142,
          412040587.992381,
          271102792.5527273,
          1434131547.4666667,
          604542452.7222222,
          1406699470.4872727,
          800954634.83,
          52917194.801038966,
          74019191.04,
          1379366854.8733335,
          765090452.2375,
          891492145.8225,
          972759324.0428572,
          1493998584.2421622,
          310915394.8820513,
          857222665.8548148,
          76779829.05,
          823015893.3942857,
          1073396882.0892308,
          774014334.3441095,
          89757252.62428573,
          852085404.9261111,
          878554259.4021053,
          396613485.1607843,
          501812465.7806452,
          312215556.2019048,
          703557079.7591012,
          1081644107.7102702,
          340021658.86,
          99720628.84102564,
          590665777.6702439,
          1148204277.4945054,
          963945361.7714286,
          1188799884.4931343,
          1458323611.88,
          1320353767.0645835,
          487062332.0177778,
          1312887583.9956756,
          188477328,
          708169601.2177778,
          536991210.0672727,
          815009199.1400001,
          92430177.38666667,
          1368274545.89,
          822210151.3678432,
          827143353.3752941,
          745223611.58,
          368634064.5415385,
          1020727162.2914286,
          315957922.0298901,
          1261198469.1659772,
          324152357.57473683,
          631664617.2389743,
          1469156724.387097,
          1224303934.5951724,
          1417944455.3600001,
          223725161.01333335,
          90484931.79169811,
          601425586.471111,
          602570643.015,
          1490217149.380513,
          1143533908.4150002,
          983907464.2224389,
          1246883292.16,
          213331256.50666666,
          1110121850.839322,
          1221834910.1364706,
          112970067.98518519,
          807782070.2021978,
          655368159.9752941,
          68043199.7,
          216341977.60000002,
          880190925.5111113,
          1526269462.775,
          1167467077.0933332,
          1364756120.7362711,
          896787993.1673684,
          1511947799.7800002,
          687112981.7066667,
          1284555263.6825,
          875272186.2825,
          903867048.32,
          90613237.02666667,
          1036576021.5093617,
          22838577.790000003,
          1293479790.8142858,
          1365360341.2642858,
          505637399.7472222,
          512884976.27943665,
          1063315269.2333333,
          211942030.6164706
         ]
        }
       ],
       "layout": {
        "legend": {
         "tracegroupgap": 0
        },
        "margin": {
         "t": 60
        },
        "template": {
         "data": {
          "bar": [
           {
            "error_x": {
             "color": "#2a3f5f"
            },
            "error_y": {
             "color": "#2a3f5f"
            },
            "marker": {
             "line": {
              "color": "#E5ECF6",
              "width": 0.5
             },
             "pattern": {
              "fillmode": "overlay",
              "size": 10,
              "solidity": 0.2
             }
            },
            "type": "bar"
           }
          ],
          "barpolar": [
           {
            "marker": {
             "line": {
              "color": "#E5ECF6",
              "width": 0.5
             },
             "pattern": {
              "fillmode": "overlay",
              "size": 10,
              "solidity": 0.2
             }
            },
            "type": "barpolar"
           }
          ],
          "carpet": [
           {
            "aaxis": {
             "endlinecolor": "#2a3f5f",
             "gridcolor": "white",
             "linecolor": "white",
             "minorgridcolor": "white",
             "startlinecolor": "#2a3f5f"
            },
            "baxis": {
             "endlinecolor": "#2a3f5f",
             "gridcolor": "white",
             "linecolor": "white",
             "minorgridcolor": "white",
             "startlinecolor": "#2a3f5f"
            },
            "type": "carpet"
           }
          ],
          "choropleth": [
           {
            "colorbar": {
             "outlinewidth": 0,
             "ticks": ""
            },
            "type": "choropleth"
           }
          ],
          "contour": [
           {
            "colorbar": {
             "outlinewidth": 0,
             "ticks": ""
            },
            "colorscale": [
             [
              0,
              "#0d0887"
             ],
             [
              0.1111111111111111,
              "#46039f"
             ],
             [
              0.2222222222222222,
              "#7201a8"
             ],
             [
              0.3333333333333333,
              "#9c179e"
             ],
             [
              0.4444444444444444,
              "#bd3786"
             ],
             [
              0.5555555555555556,
              "#d8576b"
             ],
             [
              0.6666666666666666,
              "#ed7953"
             ],
             [
              0.7777777777777778,
              "#fb9f3a"
             ],
             [
              0.8888888888888888,
              "#fdca26"
             ],
             [
              1,
              "#f0f921"
             ]
            ],
            "type": "contour"
           }
          ],
          "contourcarpet": [
           {
            "colorbar": {
             "outlinewidth": 0,
             "ticks": ""
            },
            "type": "contourcarpet"
           }
          ],
          "heatmap": [
           {
            "colorbar": {
             "outlinewidth": 0,
             "ticks": ""
            },
            "colorscale": [
             [
              0,
              "#0d0887"
             ],
             [
              0.1111111111111111,
              "#46039f"
             ],
             [
              0.2222222222222222,
              "#7201a8"
             ],
             [
              0.3333333333333333,
              "#9c179e"
             ],
             [
              0.4444444444444444,
              "#bd3786"
             ],
             [
              0.5555555555555556,
              "#d8576b"
             ],
             [
              0.6666666666666666,
              "#ed7953"
             ],
             [
              0.7777777777777778,
              "#fb9f3a"
             ],
             [
              0.8888888888888888,
              "#fdca26"
             ],
             [
              1,
              "#f0f921"
             ]
            ],
            "type": "heatmap"
           }
          ],
          "heatmapgl": [
           {
            "colorbar": {
             "outlinewidth": 0,
             "ticks": ""
            },
            "colorscale": [
             [
              0,
              "#0d0887"
             ],
             [
              0.1111111111111111,
              "#46039f"
             ],
             [
              0.2222222222222222,
              "#7201a8"
             ],
             [
              0.3333333333333333,
              "#9c179e"
             ],
             [
              0.4444444444444444,
              "#bd3786"
             ],
             [
              0.5555555555555556,
              "#d8576b"
             ],
             [
              0.6666666666666666,
              "#ed7953"
             ],
             [
              0.7777777777777778,
              "#fb9f3a"
             ],
             [
              0.8888888888888888,
              "#fdca26"
             ],
             [
              1,
              "#f0f921"
             ]
            ],
            "type": "heatmapgl"
           }
          ],
          "histogram": [
           {
            "marker": {
             "pattern": {
              "fillmode": "overlay",
              "size": 10,
              "solidity": 0.2
             }
            },
            "type": "histogram"
           }
          ],
          "histogram2d": [
           {
            "colorbar": {
             "outlinewidth": 0,
             "ticks": ""
            },
            "colorscale": [
             [
              0,
              "#0d0887"
             ],
             [
              0.1111111111111111,
              "#46039f"
             ],
             [
              0.2222222222222222,
              "#7201a8"
             ],
             [
              0.3333333333333333,
              "#9c179e"
             ],
             [
              0.4444444444444444,
              "#bd3786"
             ],
             [
              0.5555555555555556,
              "#d8576b"
             ],
             [
              0.6666666666666666,
              "#ed7953"
             ],
             [
              0.7777777777777778,
              "#fb9f3a"
             ],
             [
              0.8888888888888888,
              "#fdca26"
             ],
             [
              1,
              "#f0f921"
             ]
            ],
            "type": "histogram2d"
           }
          ],
          "histogram2dcontour": [
           {
            "colorbar": {
             "outlinewidth": 0,
             "ticks": ""
            },
            "colorscale": [
             [
              0,
              "#0d0887"
             ],
             [
              0.1111111111111111,
              "#46039f"
             ],
             [
              0.2222222222222222,
              "#7201a8"
             ],
             [
              0.3333333333333333,
              "#9c179e"
             ],
             [
              0.4444444444444444,
              "#bd3786"
             ],
             [
              0.5555555555555556,
              "#d8576b"
             ],
             [
              0.6666666666666666,
              "#ed7953"
             ],
             [
              0.7777777777777778,
              "#fb9f3a"
             ],
             [
              0.8888888888888888,
              "#fdca26"
             ],
             [
              1,
              "#f0f921"
             ]
            ],
            "type": "histogram2dcontour"
           }
          ],
          "mesh3d": [
           {
            "colorbar": {
             "outlinewidth": 0,
             "ticks": ""
            },
            "type": "mesh3d"
           }
          ],
          "parcoords": [
           {
            "line": {
             "colorbar": {
              "outlinewidth": 0,
              "ticks": ""
             }
            },
            "type": "parcoords"
           }
          ],
          "pie": [
           {
            "automargin": true,
            "type": "pie"
           }
          ],
          "scatter": [
           {
            "marker": {
             "colorbar": {
              "outlinewidth": 0,
              "ticks": ""
             }
            },
            "type": "scatter"
           }
          ],
          "scatter3d": [
           {
            "line": {
             "colorbar": {
              "outlinewidth": 0,
              "ticks": ""
             }
            },
            "marker": {
             "colorbar": {
              "outlinewidth": 0,
              "ticks": ""
             }
            },
            "type": "scatter3d"
           }
          ],
          "scattercarpet": [
           {
            "marker": {
             "colorbar": {
              "outlinewidth": 0,
              "ticks": ""
             }
            },
            "type": "scattercarpet"
           }
          ],
          "scattergeo": [
           {
            "marker": {
             "colorbar": {
              "outlinewidth": 0,
              "ticks": ""
             }
            },
            "type": "scattergeo"
           }
          ],
          "scattergl": [
           {
            "marker": {
             "colorbar": {
              "outlinewidth": 0,
              "ticks": ""
             }
            },
            "type": "scattergl"
           }
          ],
          "scattermapbox": [
           {
            "marker": {
             "colorbar": {
              "outlinewidth": 0,
              "ticks": ""
             }
            },
            "type": "scattermapbox"
           }
          ],
          "scatterpolar": [
           {
            "marker": {
             "colorbar": {
              "outlinewidth": 0,
              "ticks": ""
             }
            },
            "type": "scatterpolar"
           }
          ],
          "scatterpolargl": [
           {
            "marker": {
             "colorbar": {
              "outlinewidth": 0,
              "ticks": ""
             }
            },
            "type": "scatterpolargl"
           }
          ],
          "scatterternary": [
           {
            "marker": {
             "colorbar": {
              "outlinewidth": 0,
              "ticks": ""
             }
            },
            "type": "scatterternary"
           }
          ],
          "surface": [
           {
            "colorbar": {
             "outlinewidth": 0,
             "ticks": ""
            },
            "colorscale": [
             [
              0,
              "#0d0887"
             ],
             [
              0.1111111111111111,
              "#46039f"
             ],
             [
              0.2222222222222222,
              "#7201a8"
             ],
             [
              0.3333333333333333,
              "#9c179e"
             ],
             [
              0.4444444444444444,
              "#bd3786"
             ],
             [
              0.5555555555555556,
              "#d8576b"
             ],
             [
              0.6666666666666666,
              "#ed7953"
             ],
             [
              0.7777777777777778,
              "#fb9f3a"
             ],
             [
              0.8888888888888888,
              "#fdca26"
             ],
             [
              1,
              "#f0f921"
             ]
            ],
            "type": "surface"
           }
          ],
          "table": [
           {
            "cells": {
             "fill": {
              "color": "#EBF0F8"
             },
             "line": {
              "color": "white"
             }
            },
            "header": {
             "fill": {
              "color": "#C8D4E3"
             },
             "line": {
              "color": "white"
             }
            },
            "type": "table"
           }
          ]
         },
         "layout": {
          "annotationdefaults": {
           "arrowcolor": "#2a3f5f",
           "arrowhead": 0,
           "arrowwidth": 1
          },
          "autotypenumbers": "strict",
          "coloraxis": {
           "colorbar": {
            "outlinewidth": 0,
            "ticks": ""
           }
          },
          "colorscale": {
           "diverging": [
            [
             0,
             "#8e0152"
            ],
            [
             0.1,
             "#c51b7d"
            ],
            [
             0.2,
             "#de77ae"
            ],
            [
             0.3,
             "#f1b6da"
            ],
            [
             0.4,
             "#fde0ef"
            ],
            [
             0.5,
             "#f7f7f7"
            ],
            [
             0.6,
             "#e6f5d0"
            ],
            [
             0.7,
             "#b8e186"
            ],
            [
             0.8,
             "#7fbc41"
            ],
            [
             0.9,
             "#4d9221"
            ],
            [
             1,
             "#276419"
            ]
           ],
           "sequential": [
            [
             0,
             "#0d0887"
            ],
            [
             0.1111111111111111,
             "#46039f"
            ],
            [
             0.2222222222222222,
             "#7201a8"
            ],
            [
             0.3333333333333333,
             "#9c179e"
            ],
            [
             0.4444444444444444,
             "#bd3786"
            ],
            [
             0.5555555555555556,
             "#d8576b"
            ],
            [
             0.6666666666666666,
             "#ed7953"
            ],
            [
             0.7777777777777778,
             "#fb9f3a"
            ],
            [
             0.8888888888888888,
             "#fdca26"
            ],
            [
             1,
             "#f0f921"
            ]
           ],
           "sequentialminus": [
            [
             0,
             "#0d0887"
            ],
            [
             0.1111111111111111,
             "#46039f"
            ],
            [
             0.2222222222222222,
             "#7201a8"
            ],
            [
             0.3333333333333333,
             "#9c179e"
            ],
            [
             0.4444444444444444,
             "#bd3786"
            ],
            [
             0.5555555555555556,
             "#d8576b"
            ],
            [
             0.6666666666666666,
             "#ed7953"
            ],
            [
             0.7777777777777778,
             "#fb9f3a"
            ],
            [
             0.8888888888888888,
             "#fdca26"
            ],
            [
             1,
             "#f0f921"
            ]
           ]
          },
          "colorway": [
           "#636efa",
           "#EF553B",
           "#00cc96",
           "#ab63fa",
           "#FFA15A",
           "#19d3f3",
           "#FF6692",
           "#B6E880",
           "#FF97FF",
           "#FECB52"
          ],
          "font": {
           "color": "#2a3f5f"
          },
          "geo": {
           "bgcolor": "white",
           "lakecolor": "white",
           "landcolor": "#E5ECF6",
           "showlakes": true,
           "showland": true,
           "subunitcolor": "white"
          },
          "hoverlabel": {
           "align": "left"
          },
          "hovermode": "closest",
          "mapbox": {
           "style": "light"
          },
          "paper_bgcolor": "white",
          "plot_bgcolor": "#E5ECF6",
          "polar": {
           "angularaxis": {
            "gridcolor": "white",
            "linecolor": "white",
            "ticks": ""
           },
           "bgcolor": "#E5ECF6",
           "radialaxis": {
            "gridcolor": "white",
            "linecolor": "white",
            "ticks": ""
           }
          },
          "scene": {
           "xaxis": {
            "backgroundcolor": "#E5ECF6",
            "gridcolor": "white",
            "gridwidth": 2,
            "linecolor": "white",
            "showbackground": true,
            "ticks": "",
            "zerolinecolor": "white"
           },
           "yaxis": {
            "backgroundcolor": "#E5ECF6",
            "gridcolor": "white",
            "gridwidth": 2,
            "linecolor": "white",
            "showbackground": true,
            "ticks": "",
            "zerolinecolor": "white"
           },
           "zaxis": {
            "backgroundcolor": "#E5ECF6",
            "gridcolor": "white",
            "gridwidth": 2,
            "linecolor": "white",
            "showbackground": true,
            "ticks": "",
            "zerolinecolor": "white"
           }
          },
          "shapedefaults": {
           "line": {
            "color": "#2a3f5f"
           }
          },
          "ternary": {
           "aaxis": {
            "gridcolor": "white",
            "linecolor": "white",
            "ticks": ""
           },
           "baxis": {
            "gridcolor": "white",
            "linecolor": "white",
            "ticks": ""
           },
           "bgcolor": "#E5ECF6",
           "caxis": {
            "gridcolor": "white",
            "linecolor": "white",
            "ticks": ""
           }
          },
          "title": {
           "x": 0.05
          },
          "xaxis": {
           "automargin": true,
           "gridcolor": "white",
           "linecolor": "white",
           "ticks": "",
           "title": {
            "standoff": 15
           },
           "zerolinecolor": "white",
           "zerolinewidth": 2
          },
          "yaxis": {
           "automargin": true,
           "gridcolor": "white",
           "linecolor": "white",
           "ticks": "",
           "title": {
            "standoff": 15
           },
           "zerolinecolor": "white",
           "zerolinewidth": 2
          }
         }
        }
       }
      },
      "text/html": [
       "<div>                            <div id=\"85a2d42d-1b4a-4a08-ac29-ca8ccb4a497c\" class=\"plotly-graph-div\" style=\"height:525px; width:100%;\"></div>            <script type=\"text/javascript\">                require([\"plotly\"], function(Plotly) {                    window.PLOTLYENV=window.PLOTLYENV || {};                                    if (document.getElementById(\"85a2d42d-1b4a-4a08-ac29-ca8ccb4a497c\")) {                    Plotly.newPlot(                        \"85a2d42d-1b4a-4a08-ac29-ca8ccb4a497c\",                        [{\"domain\":{\"x\":[0.0,1.0],\"y\":[0.0,1.0]},\"hovertemplate\":\"label=%{label}<br>value=%{value}<extra></extra>\",\"labels\":[\"2020-05-15T00:00:00\",\"2020-01-15T00:00:00\",\"2020-05-21T00:00:00\",\"2020-04-24T00:00:00\",\"2020-01-30T00:00:00\",\"2020-06-28T00:00:00\",\"2020-03-03T00:00:00\",\"2020-04-23T00:00:00\",\"2020-06-09T00:00:00\",\"2020-01-27T00:00:00\",\"2020-02-19T00:00:00\",\"2020-01-18T00:00:00\",\"2020-03-23T00:00:00\",\"2020-06-14T00:00:00\",\"2020-03-24T00:00:00\",\"2020-04-13T00:00:00\",\"2020-04-28T00:00:00\",\"2020-05-29T00:00:00\",\"2020-03-06T00:00:00\",\"2020-03-21T00:00:00\",\"2020-04-12T00:00:00\",\"2020-05-29T00:00:00\",\"2020-03-11T00:00:00\",\"2020-05-07T00:00:00\",\"2020-03-17T00:00:00\",\"2020-06-09T00:00:00\",\"2020-06-11T00:00:00\",\"2020-03-12T00:00:00\",\"2020-02-20T00:00:00\",\"2020-01-15T00:00:00\",\"2020-02-12T00:00:00\",\"2020-02-03T00:00:00\",\"2020-02-20T00:00:00\",\"2020-06-16T00:00:00\",\"2020-04-05T00:00:00\",\"2020-06-21T00:00:00\",\"2020-06-12T00:00:00\",\"2020-02-14T00:00:00\",\"2020-03-03T00:00:00\",\"2020-06-29T00:00:00\",\"2020-06-06T00:00:00\",\"2020-03-10T00:00:00\",\"2020-01-29T00:00:00\",\"2020-03-17T00:00:00\",\"2020-04-14T00:00:00\",\"2020-04-15T00:00:00\",\"2020-03-06T00:00:00\",\"2020-06-03T00:00:00\",\"2020-03-25T00:00:00\",\"2020-06-05T00:00:00\",\"2020-06-07T00:00:00\",\"2020-02-02T00:00:00\",\"2020-01-04T00:00:00\",\"2020-02-04T00:00:00\",\"2020-06-15T00:00:00\",\"2020-01-03T00:00:00\",\"2020-02-06T00:00:00\",\"2020-02-23T00:00:00\",\"2020-06-07T00:00:00\",\"2020-03-23T00:00:00\",\"2020-06-23T00:00:00\",\"2020-01-24T00:00:00\",\"2020-03-05T00:00:00\",\"2020-02-11T00:00:00\",\"2020-04-06T00:00:00\",\"2020-02-17T00:00:00\",\"2020-01-15T00:00:00\",\"2020-05-16T00:00:00\",\"2020-02-07T00:00:00\",\"2020-01-26T00:00:00\",\"2020-03-25T00:00:00\",\"2020-04-22T00:00:00\",\"2020-04-06T00:00:00\",\"2020-01-12T00:00:00\",\"2020-04-10T00:00:00\",\"2020-06-17T00:00:00\",\"2020-06-21T00:00:00\",\"2020-01-09T00:00:00\",\"2020-01-22T00:00:00\",\"2020-01-08T00:00:00\",\"2020-03-26T00:00:00\",\"2020-06-23T00:00:00\",\"2020-06-24T00:00:00\",\"2020-05-28T00:00:00\",\"2020-07-01T00:00:00\",\"2020-02-17T00:00:00\",\"2020-04-10T00:00:00\",\"2020-02-05T00:00:00\",\"2020-03-29T00:00:00\",\"2020-03-03T00:00:00\",\"2020-06-11T00:00:00\",\"2020-03-28T00:00:00\",\"2020-03-10T00:00:00\",\"2020-05-22T00:00:00\",\"2020-05-19T00:00:00\",\"2020-04-01T00:00:00\",\"2020-06-08T00:00:00\",\"2020-03-14T00:00:00\",\"2020-02-11T00:00:00\",\"2020-06-04T00:00:00\",\"2020-01-29T00:00:00\",\"2020-03-30T00:00:00\",\"2020-01-22T00:00:00\",\"2020-06-12T00:00:00\",\"2020-06-02T00:00:00\",\"2020-02-05T00:00:00\",\"2020-02-09T00:00:00\",\"2020-06-28T00:00:00\",\"2020-04-03T00:00:00\",\"2020-06-20T00:00:00\",\"2020-06-09T00:00:00\",\"2020-02-17T00:00:00\"],\"legendgroup\":\"\",\"name\":\"\",\"showlegend\":true,\"values\":[1373225676.2933335,1430431280.055,73019094.2725,1260811717.5303226,1387006765.5341177,1346199895.9406185,863319062.2933333,659113325.1384212,1283797359.2905555,386944802.0362963,572574205.2263013,58069781.717777774,434201305.06666666,297044171.23764706,586353464.1066667,481601369.7986813,225168882.70285717,750663805.6758333,1361273091.52,1269004916.6016667,1531638631.2855556,1277029825.3414142,412040587.992381,271102792.5527273,1434131547.4666667,604542452.7222222,1406699470.4872727,800954634.83,52917194.801038966,74019191.04,1379366854.8733335,765090452.2375,891492145.8225,972759324.0428572,1493998584.2421622,310915394.8820513,857222665.8548148,76779829.05,823015893.3942857,1073396882.0892308,774014334.3441095,89757252.62428573,852085404.9261111,878554259.4021053,396613485.1607843,501812465.7806452,312215556.2019048,703557079.7591012,1081644107.7102702,340021658.86,99720628.84102564,590665777.6702439,1148204277.4945054,963945361.7714286,1188799884.4931343,1458323611.88,1320353767.0645835,487062332.0177778,1312887583.9956756,188477328.0,708169601.2177778,536991210.0672727,815009199.1400001,92430177.38666667,1368274545.89,822210151.3678432,827143353.3752941,745223611.58,368634064.5415385,1020727162.2914286,315957922.0298901,1261198469.1659772,324152357.57473683,631664617.2389743,1469156724.387097,1224303934.5951724,1417944455.3600001,223725161.01333335,90484931.79169811,601425586.471111,602570643.015,1490217149.380513,1143533908.4150002,983907464.2224389,1246883292.16,213331256.50666666,1110121850.839322,1221834910.1364706,112970067.98518519,807782070.2021978,655368159.9752941,68043199.7,216341977.60000002,880190925.5111113,1526269462.775,1167467077.0933332,1364756120.7362711,896787993.1673684,1511947799.7800002,687112981.7066667,1284555263.6825,875272186.2825,903867048.32,90613237.02666667,1036576021.5093617,22838577.790000003,1293479790.8142858,1365360341.2642858,505637399.7472222,512884976.27943665,1063315269.2333333,211942030.6164706],\"type\":\"pie\"}],                        {\"template\":{\"data\":{\"bar\":[{\"error_x\":{\"color\":\"#2a3f5f\"},\"error_y\":{\"color\":\"#2a3f5f\"},\"marker\":{\"line\":{\"color\":\"#E5ECF6\",\"width\":0.5},\"pattern\":{\"fillmode\":\"overlay\",\"size\":10,\"solidity\":0.2}},\"type\":\"bar\"}],\"barpolar\":[{\"marker\":{\"line\":{\"color\":\"#E5ECF6\",\"width\":0.5},\"pattern\":{\"fillmode\":\"overlay\",\"size\":10,\"solidity\":0.2}},\"type\":\"barpolar\"}],\"carpet\":[{\"aaxis\":{\"endlinecolor\":\"#2a3f5f\",\"gridcolor\":\"white\",\"linecolor\":\"white\",\"minorgridcolor\":\"white\",\"startlinecolor\":\"#2a3f5f\"},\"baxis\":{\"endlinecolor\":\"#2a3f5f\",\"gridcolor\":\"white\",\"linecolor\":\"white\",\"minorgridcolor\":\"white\",\"startlinecolor\":\"#2a3f5f\"},\"type\":\"carpet\"}],\"choropleth\":[{\"colorbar\":{\"outlinewidth\":0,\"ticks\":\"\"},\"type\":\"choropleth\"}],\"contour\":[{\"colorbar\":{\"outlinewidth\":0,\"ticks\":\"\"},\"colorscale\":[[0.0,\"#0d0887\"],[0.1111111111111111,\"#46039f\"],[0.2222222222222222,\"#7201a8\"],[0.3333333333333333,\"#9c179e\"],[0.4444444444444444,\"#bd3786\"],[0.5555555555555556,\"#d8576b\"],[0.6666666666666666,\"#ed7953\"],[0.7777777777777778,\"#fb9f3a\"],[0.8888888888888888,\"#fdca26\"],[1.0,\"#f0f921\"]],\"type\":\"contour\"}],\"contourcarpet\":[{\"colorbar\":{\"outlinewidth\":0,\"ticks\":\"\"},\"type\":\"contourcarpet\"}],\"heatmap\":[{\"colorbar\":{\"outlinewidth\":0,\"ticks\":\"\"},\"colorscale\":[[0.0,\"#0d0887\"],[0.1111111111111111,\"#46039f\"],[0.2222222222222222,\"#7201a8\"],[0.3333333333333333,\"#9c179e\"],[0.4444444444444444,\"#bd3786\"],[0.5555555555555556,\"#d8576b\"],[0.6666666666666666,\"#ed7953\"],[0.7777777777777778,\"#fb9f3a\"],[0.8888888888888888,\"#fdca26\"],[1.0,\"#f0f921\"]],\"type\":\"heatmap\"}],\"heatmapgl\":[{\"colorbar\":{\"outlinewidth\":0,\"ticks\":\"\"},\"colorscale\":[[0.0,\"#0d0887\"],[0.1111111111111111,\"#46039f\"],[0.2222222222222222,\"#7201a8\"],[0.3333333333333333,\"#9c179e\"],[0.4444444444444444,\"#bd3786\"],[0.5555555555555556,\"#d8576b\"],[0.6666666666666666,\"#ed7953\"],[0.7777777777777778,\"#fb9f3a\"],[0.8888888888888888,\"#fdca26\"],[1.0,\"#f0f921\"]],\"type\":\"heatmapgl\"}],\"histogram\":[{\"marker\":{\"pattern\":{\"fillmode\":\"overlay\",\"size\":10,\"solidity\":0.2}},\"type\":\"histogram\"}],\"histogram2d\":[{\"colorbar\":{\"outlinewidth\":0,\"ticks\":\"\"},\"colorscale\":[[0.0,\"#0d0887\"],[0.1111111111111111,\"#46039f\"],[0.2222222222222222,\"#7201a8\"],[0.3333333333333333,\"#9c179e\"],[0.4444444444444444,\"#bd3786\"],[0.5555555555555556,\"#d8576b\"],[0.6666666666666666,\"#ed7953\"],[0.7777777777777778,\"#fb9f3a\"],[0.8888888888888888,\"#fdca26\"],[1.0,\"#f0f921\"]],\"type\":\"histogram2d\"}],\"histogram2dcontour\":[{\"colorbar\":{\"outlinewidth\":0,\"ticks\":\"\"},\"colorscale\":[[0.0,\"#0d0887\"],[0.1111111111111111,\"#46039f\"],[0.2222222222222222,\"#7201a8\"],[0.3333333333333333,\"#9c179e\"],[0.4444444444444444,\"#bd3786\"],[0.5555555555555556,\"#d8576b\"],[0.6666666666666666,\"#ed7953\"],[0.7777777777777778,\"#fb9f3a\"],[0.8888888888888888,\"#fdca26\"],[1.0,\"#f0f921\"]],\"type\":\"histogram2dcontour\"}],\"mesh3d\":[{\"colorbar\":{\"outlinewidth\":0,\"ticks\":\"\"},\"type\":\"mesh3d\"}],\"parcoords\":[{\"line\":{\"colorbar\":{\"outlinewidth\":0,\"ticks\":\"\"}},\"type\":\"parcoords\"}],\"pie\":[{\"automargin\":true,\"type\":\"pie\"}],\"scatter\":[{\"marker\":{\"colorbar\":{\"outlinewidth\":0,\"ticks\":\"\"}},\"type\":\"scatter\"}],\"scatter3d\":[{\"line\":{\"colorbar\":{\"outlinewidth\":0,\"ticks\":\"\"}},\"marker\":{\"colorbar\":{\"outlinewidth\":0,\"ticks\":\"\"}},\"type\":\"scatter3d\"}],\"scattercarpet\":[{\"marker\":{\"colorbar\":{\"outlinewidth\":0,\"ticks\":\"\"}},\"type\":\"scattercarpet\"}],\"scattergeo\":[{\"marker\":{\"colorbar\":{\"outlinewidth\":0,\"ticks\":\"\"}},\"type\":\"scattergeo\"}],\"scattergl\":[{\"marker\":{\"colorbar\":{\"outlinewidth\":0,\"ticks\":\"\"}},\"type\":\"scattergl\"}],\"scattermapbox\":[{\"marker\":{\"colorbar\":{\"outlinewidth\":0,\"ticks\":\"\"}},\"type\":\"scattermapbox\"}],\"scatterpolar\":[{\"marker\":{\"colorbar\":{\"outlinewidth\":0,\"ticks\":\"\"}},\"type\":\"scatterpolar\"}],\"scatterpolargl\":[{\"marker\":{\"colorbar\":{\"outlinewidth\":0,\"ticks\":\"\"}},\"type\":\"scatterpolargl\"}],\"scatterternary\":[{\"marker\":{\"colorbar\":{\"outlinewidth\":0,\"ticks\":\"\"}},\"type\":\"scatterternary\"}],\"surface\":[{\"colorbar\":{\"outlinewidth\":0,\"ticks\":\"\"},\"colorscale\":[[0.0,\"#0d0887\"],[0.1111111111111111,\"#46039f\"],[0.2222222222222222,\"#7201a8\"],[0.3333333333333333,\"#9c179e\"],[0.4444444444444444,\"#bd3786\"],[0.5555555555555556,\"#d8576b\"],[0.6666666666666666,\"#ed7953\"],[0.7777777777777778,\"#fb9f3a\"],[0.8888888888888888,\"#fdca26\"],[1.0,\"#f0f921\"]],\"type\":\"surface\"}],\"table\":[{\"cells\":{\"fill\":{\"color\":\"#EBF0F8\"},\"line\":{\"color\":\"white\"}},\"header\":{\"fill\":{\"color\":\"#C8D4E3\"},\"line\":{\"color\":\"white\"}},\"type\":\"table\"}]},\"layout\":{\"annotationdefaults\":{\"arrowcolor\":\"#2a3f5f\",\"arrowhead\":0,\"arrowwidth\":1},\"autotypenumbers\":\"strict\",\"coloraxis\":{\"colorbar\":{\"outlinewidth\":0,\"ticks\":\"\"}},\"colorscale\":{\"diverging\":[[0,\"#8e0152\"],[0.1,\"#c51b7d\"],[0.2,\"#de77ae\"],[0.3,\"#f1b6da\"],[0.4,\"#fde0ef\"],[0.5,\"#f7f7f7\"],[0.6,\"#e6f5d0\"],[0.7,\"#b8e186\"],[0.8,\"#7fbc41\"],[0.9,\"#4d9221\"],[1,\"#276419\"]],\"sequential\":[[0.0,\"#0d0887\"],[0.1111111111111111,\"#46039f\"],[0.2222222222222222,\"#7201a8\"],[0.3333333333333333,\"#9c179e\"],[0.4444444444444444,\"#bd3786\"],[0.5555555555555556,\"#d8576b\"],[0.6666666666666666,\"#ed7953\"],[0.7777777777777778,\"#fb9f3a\"],[0.8888888888888888,\"#fdca26\"],[1.0,\"#f0f921\"]],\"sequentialminus\":[[0.0,\"#0d0887\"],[0.1111111111111111,\"#46039f\"],[0.2222222222222222,\"#7201a8\"],[0.3333333333333333,\"#9c179e\"],[0.4444444444444444,\"#bd3786\"],[0.5555555555555556,\"#d8576b\"],[0.6666666666666666,\"#ed7953\"],[0.7777777777777778,\"#fb9f3a\"],[0.8888888888888888,\"#fdca26\"],[1.0,\"#f0f921\"]]},\"colorway\":[\"#636efa\",\"#EF553B\",\"#00cc96\",\"#ab63fa\",\"#FFA15A\",\"#19d3f3\",\"#FF6692\",\"#B6E880\",\"#FF97FF\",\"#FECB52\"],\"font\":{\"color\":\"#2a3f5f\"},\"geo\":{\"bgcolor\":\"white\",\"lakecolor\":\"white\",\"landcolor\":\"#E5ECF6\",\"showlakes\":true,\"showland\":true,\"subunitcolor\":\"white\"},\"hoverlabel\":{\"align\":\"left\"},\"hovermode\":\"closest\",\"mapbox\":{\"style\":\"light\"},\"paper_bgcolor\":\"white\",\"plot_bgcolor\":\"#E5ECF6\",\"polar\":{\"angularaxis\":{\"gridcolor\":\"white\",\"linecolor\":\"white\",\"ticks\":\"\"},\"bgcolor\":\"#E5ECF6\",\"radialaxis\":{\"gridcolor\":\"white\",\"linecolor\":\"white\",\"ticks\":\"\"}},\"scene\":{\"xaxis\":{\"backgroundcolor\":\"#E5ECF6\",\"gridcolor\":\"white\",\"gridwidth\":2,\"linecolor\":\"white\",\"showbackground\":true,\"ticks\":\"\",\"zerolinecolor\":\"white\"},\"yaxis\":{\"backgroundcolor\":\"#E5ECF6\",\"gridcolor\":\"white\",\"gridwidth\":2,\"linecolor\":\"white\",\"showbackground\":true,\"ticks\":\"\",\"zerolinecolor\":\"white\"},\"zaxis\":{\"backgroundcolor\":\"#E5ECF6\",\"gridcolor\":\"white\",\"gridwidth\":2,\"linecolor\":\"white\",\"showbackground\":true,\"ticks\":\"\",\"zerolinecolor\":\"white\"}},\"shapedefaults\":{\"line\":{\"color\":\"#2a3f5f\"}},\"ternary\":{\"aaxis\":{\"gridcolor\":\"white\",\"linecolor\":\"white\",\"ticks\":\"\"},\"baxis\":{\"gridcolor\":\"white\",\"linecolor\":\"white\",\"ticks\":\"\"},\"bgcolor\":\"#E5ECF6\",\"caxis\":{\"gridcolor\":\"white\",\"linecolor\":\"white\",\"ticks\":\"\"}},\"title\":{\"x\":0.05},\"xaxis\":{\"automargin\":true,\"gridcolor\":\"white\",\"linecolor\":\"white\",\"ticks\":\"\",\"title\":{\"standoff\":15},\"zerolinecolor\":\"white\",\"zerolinewidth\":2},\"yaxis\":{\"automargin\":true,\"gridcolor\":\"white\",\"linecolor\":\"white\",\"ticks\":\"\",\"title\":{\"standoff\":15},\"zerolinecolor\":\"white\",\"zerolinewidth\":2}}},\"legend\":{\"tracegroupgap\":0},\"margin\":{\"t\":60}},                        {\"responsive\": true}                    ).then(function(){\n",
       "                            \n",
       "var gd = document.getElementById('85a2d42d-1b4a-4a08-ac29-ca8ccb4a497c');\n",
       "var x = new MutationObserver(function (mutations, observer) {{\n",
       "        var display = window.getComputedStyle(gd).display;\n",
       "        if (!display || display === 'none') {{\n",
       "            console.log([gd, 'removed!']);\n",
       "            Plotly.purge(gd);\n",
       "            observer.disconnect();\n",
       "        }}\n",
       "}});\n",
       "\n",
       "// Listen for the removal of the full notebook cells\n",
       "var notebookContainer = gd.closest('#notebook-container');\n",
       "if (notebookContainer) {{\n",
       "    x.observe(notebookContainer, {childList: true});\n",
       "}}\n",
       "\n",
       "// Listen for the clearing of the current output cell\n",
       "var outputEl = gd.closest('.output');\n",
       "if (outputEl) {{\n",
       "    x.observe(outputEl, {childList: true});\n",
       "}}\n",
       "\n",
       "                        })                };                });            </script>        </div>"
      ]
     },
     "metadata": {},
     "output_type": "display_data"
    }
   ],
   "source": [
    "fig = px.pie(names = compra['inicio'], values = compra['volume_usd'])\n",
    "fig.show()\n",
    "#x = compra['inicio']\n",
    "#y = compra['volume_usd']"
   ]
  },
  {
   "cell_type": "code",
   "execution_count": 58,
   "id": "fe2394df-2df7-4d28-afa1-4ccdac18ebaa",
   "metadata": {},
   "outputs": [
    {
     "data": {
      "application/vnd.plotly.v1+json": {
       "config": {
        "plotlyServerURL": "https://plot.ly"
       },
       "data": [
        {
         "hovertemplate": "x=%{x}<br>y=%{y}<extra></extra>",
         "legendgroup": "",
         "marker": {
          "color": "#636efa",
          "symbol": "circle"
         },
         "mode": "markers",
         "name": "",
         "orientation": "v",
         "showlegend": false,
         "type": "scatter",
         "x": [
          168,
          467,
          263,
          677,
          206,
          226,
          305,
          218,
          685,
          256,
          290,
          510,
          476,
          210,
          332,
          303,
          342,
          474,
          256,
          417,
          482,
          285,
          202,
          305,
          522,
          296,
          294,
          337,
          445,
          422,
          473,
          358,
          528,
          282,
          569,
          583,
          593,
          483,
          279,
          441,
          363,
          597,
          530,
          294,
          153,
          56,
          96,
          166,
          520,
          238,
          427,
          315,
          537,
          654,
          439,
          401,
          651,
          446,
          466,
          444,
          279,
          610,
          154,
          448,
          558,
          374,
          242,
          494,
          187,
          407,
          416,
          158,
          313,
          213,
          191,
          643,
          394,
          669,
          566,
          400,
          79,
          442,
          285,
          92,
          211,
          489,
          617,
          395,
          303,
          599,
          392,
          660,
          497,
          324,
          528,
          502,
          385,
          561,
          671,
          279,
          316,
          465,
          297,
          428,
          562,
          509,
          474,
          266,
          410,
          356,
          318,
          254,
          473,
          222,
          261,
          388,
          208,
          253,
          418,
          644,
          344,
          624,
          325,
          628,
          352,
          211,
          192,
          401,
          567,
          624,
          83,
          195,
          566,
          165,
          498,
          444,
          213,
          718,
          406,
          551,
          333,
          283,
          257,
          688,
          501,
          367,
          81,
          166,
          495,
          207,
          202,
          415,
          124,
          238,
          622,
          464,
          430,
          232,
          590,
          134,
          524,
          56,
          360,
          246,
          472,
          388,
          583,
          483,
          253,
          274,
          215,
          635,
          254,
          349,
          192,
          93,
          279,
          363,
          429,
          281,
          364,
          296,
          242,
          374,
          171,
          650,
          440,
          580,
          180,
          166,
          437,
          412,
          306,
          378,
          154,
          155,
          390,
          660,
          320
         ],
         "xaxis": "x",
         "y": [
          1373225676.2933335,
          1376626222.5800002,
          566922511.8076923,
          1430431280.055,
          73019094.2725,
          939264876.9324137,
          961486212.8625287,
          1260811717.5303226,
          1387006765.5341177,
          1346199895.9406185,
          1133795673.8338463,
          863319062.2933333,
          659113325.1384212,
          1013151178.7916666,
          900632510.2377465,
          1283797359.2905555,
          386944802.0362963,
          282576885.89111114,
          232965187.2169231,
          572574205.2263013,
          58069781.717777774,
          434201305.06666666,
          1272469106.72,
          1031393094.2276924,
          297044171.23764706,
          586353464.1066667,
          941576496.9337314,
          1222518812.97,
          481601369.7986813,
          225168882.70285717,
          750663805.6758333,
          1218218547.1542857,
          1361273091.52,
          1269004916.6016667,
          35193064.96,
          238966947.88235295,
          1531638631.2855556,
          1277029825.3414142,
          265411889.32500002,
          1472395560.35,
          412040587.992381,
          271102792.5527273,
          1434131547.4666667,
          1454280635.4519541,
          1530050980.3878787,
          604542452.7222222,
          1406699470.4872727,
          1314202664.9695523,
          414196669.28,
          800954634.83,
          52917194.801038966,
          118609848.35636362,
          1158741818.5883546,
          74019191.04,
          1379366854.8733335,
          765090452.2375,
          578948046.38,
          891492145.8225,
          972759324.0428572,
          487432881.9348148,
          249031895.97829786,
          1493998584.2421622,
          310915394.8820513,
          26332407.77222222,
          130812492.713253,
          857222665.8548148,
          76779829.05,
          823015893.3942857,
          34949875.66714286,
          817634797.1233333,
          1073396882.0892308,
          774014334.3441095,
          995631736.5292308,
          926208203.2355556,
          89757252.62428573,
          852085404.9261111,
          878554259.4021053,
          1538785080.3525424,
          396613485.1607843,
          501812465.7806452,
          968440495.26,
          75290871.44835821,
          312215556.2019048,
          703557079.7591012,
          491320045.04785717,
          54895225.44166666,
          1081644107.7102702,
          340021658.86,
          99720628.84102564,
          1100668126.8838463,
          557372097.2842104,
          590665777.6702439,
          1148204277.4945054,
          871920656.5926316,
          252925998.07264367,
          963945361.7714286,
          1188799884.4931343,
          1444231190.3955557,
          1494177792.4414287,
          1458323611.88,
          1320353767.0645835,
          487062332.0177778,
          290487750.88000005,
          1312887583.9956756,
          188477328,
          723815134.1178948,
          1263188812.5125425,
          708169601.2177778,
          536991210.0672727,
          346149793.6,
          40909029.29454546,
          815009199.1400001,
          92430177.38666667,
          1368274545.89,
          1377501506.1988237,
          82788845.24909092,
          822210151.3678432,
          827143353.3752941,
          656361925.26,
          147070409.266383,
          745223611.58,
          368634064.5415385,
          1020727162.2914286,
          688513770.2036363,
          315957922.0298901,
          1261198469.1659772,
          979225669.9830303,
          313704406.7948718,
          324152357.57473683,
          631664617.2389743,
          1029409262.7766666,
          768245360.26,
          1469156724.387097,
          1224303934.5951724,
          1417944455.3600001,
          269035939.7822951,
          1201354459.2305882,
          223725161.01333335,
          90484931.79169811,
          855986699.2046512,
          1135434609.422069,
          601425586.471111,
          602570643.015,
          250735110.9,
          1029671164.9355556,
          1490217149.380513,
          1143533908.4150002,
          983907464.2224389,
          135203269.12666667,
          1246883292.16,
          213331256.50666666,
          549094176.8101408,
          1190567382.8562963,
          1110121850.839322,
          1221834910.1364706,
          1023302828.4675,
          757455366.2473685,
          112970067.98518519,
          807782070.2021978,
          655368159.9752941,
          848468411.9525582,
          379546431.52500004,
          68043199.7,
          216341977.60000002,
          1586240317.2,
          620960938.5825,
          880190925.5111113,
          1526269462.775,
          1167467077.0933332,
          1261766355.2871642,
          1364756120.7362711,
          896787993.1673684,
          342999256.47999996,
          846597434.9619511,
          1511947799.7800002,
          687112981.7066667,
          131681115.5538983,
          210185334.06500003,
          1284555263.6825,
          875272186.2825,
          903867048.32,
          1396976324.6755557,
          567294090.72,
          90613237.02666667,
          1036576021.5093617,
          632025201.6800001,
          162025768.1777778,
          22838577.790000003,
          1293479790.8142858,
          518300805.1318519,
          989099808.1473686,
          1365360341.2642858,
          505637399.7472222,
          512884976.27943665,
          1535172052.1777778,
          1063315269.2333333,
          211942030.6164706,
          333711060.8826966,
          181744100.19096774
         ],
         "yaxis": "y"
        }
       ],
       "layout": {
        "legend": {
         "tracegroupgap": 0
        },
        "margin": {
         "t": 60
        },
        "template": {
         "data": {
          "bar": [
           {
            "error_x": {
             "color": "#2a3f5f"
            },
            "error_y": {
             "color": "#2a3f5f"
            },
            "marker": {
             "line": {
              "color": "#E5ECF6",
              "width": 0.5
             },
             "pattern": {
              "fillmode": "overlay",
              "size": 10,
              "solidity": 0.2
             }
            },
            "type": "bar"
           }
          ],
          "barpolar": [
           {
            "marker": {
             "line": {
              "color": "#E5ECF6",
              "width": 0.5
             },
             "pattern": {
              "fillmode": "overlay",
              "size": 10,
              "solidity": 0.2
             }
            },
            "type": "barpolar"
           }
          ],
          "carpet": [
           {
            "aaxis": {
             "endlinecolor": "#2a3f5f",
             "gridcolor": "white",
             "linecolor": "white",
             "minorgridcolor": "white",
             "startlinecolor": "#2a3f5f"
            },
            "baxis": {
             "endlinecolor": "#2a3f5f",
             "gridcolor": "white",
             "linecolor": "white",
             "minorgridcolor": "white",
             "startlinecolor": "#2a3f5f"
            },
            "type": "carpet"
           }
          ],
          "choropleth": [
           {
            "colorbar": {
             "outlinewidth": 0,
             "ticks": ""
            },
            "type": "choropleth"
           }
          ],
          "contour": [
           {
            "colorbar": {
             "outlinewidth": 0,
             "ticks": ""
            },
            "colorscale": [
             [
              0,
              "#0d0887"
             ],
             [
              0.1111111111111111,
              "#46039f"
             ],
             [
              0.2222222222222222,
              "#7201a8"
             ],
             [
              0.3333333333333333,
              "#9c179e"
             ],
             [
              0.4444444444444444,
              "#bd3786"
             ],
             [
              0.5555555555555556,
              "#d8576b"
             ],
             [
              0.6666666666666666,
              "#ed7953"
             ],
             [
              0.7777777777777778,
              "#fb9f3a"
             ],
             [
              0.8888888888888888,
              "#fdca26"
             ],
             [
              1,
              "#f0f921"
             ]
            ],
            "type": "contour"
           }
          ],
          "contourcarpet": [
           {
            "colorbar": {
             "outlinewidth": 0,
             "ticks": ""
            },
            "type": "contourcarpet"
           }
          ],
          "heatmap": [
           {
            "colorbar": {
             "outlinewidth": 0,
             "ticks": ""
            },
            "colorscale": [
             [
              0,
              "#0d0887"
             ],
             [
              0.1111111111111111,
              "#46039f"
             ],
             [
              0.2222222222222222,
              "#7201a8"
             ],
             [
              0.3333333333333333,
              "#9c179e"
             ],
             [
              0.4444444444444444,
              "#bd3786"
             ],
             [
              0.5555555555555556,
              "#d8576b"
             ],
             [
              0.6666666666666666,
              "#ed7953"
             ],
             [
              0.7777777777777778,
              "#fb9f3a"
             ],
             [
              0.8888888888888888,
              "#fdca26"
             ],
             [
              1,
              "#f0f921"
             ]
            ],
            "type": "heatmap"
           }
          ],
          "heatmapgl": [
           {
            "colorbar": {
             "outlinewidth": 0,
             "ticks": ""
            },
            "colorscale": [
             [
              0,
              "#0d0887"
             ],
             [
              0.1111111111111111,
              "#46039f"
             ],
             [
              0.2222222222222222,
              "#7201a8"
             ],
             [
              0.3333333333333333,
              "#9c179e"
             ],
             [
              0.4444444444444444,
              "#bd3786"
             ],
             [
              0.5555555555555556,
              "#d8576b"
             ],
             [
              0.6666666666666666,
              "#ed7953"
             ],
             [
              0.7777777777777778,
              "#fb9f3a"
             ],
             [
              0.8888888888888888,
              "#fdca26"
             ],
             [
              1,
              "#f0f921"
             ]
            ],
            "type": "heatmapgl"
           }
          ],
          "histogram": [
           {
            "marker": {
             "pattern": {
              "fillmode": "overlay",
              "size": 10,
              "solidity": 0.2
             }
            },
            "type": "histogram"
           }
          ],
          "histogram2d": [
           {
            "colorbar": {
             "outlinewidth": 0,
             "ticks": ""
            },
            "colorscale": [
             [
              0,
              "#0d0887"
             ],
             [
              0.1111111111111111,
              "#46039f"
             ],
             [
              0.2222222222222222,
              "#7201a8"
             ],
             [
              0.3333333333333333,
              "#9c179e"
             ],
             [
              0.4444444444444444,
              "#bd3786"
             ],
             [
              0.5555555555555556,
              "#d8576b"
             ],
             [
              0.6666666666666666,
              "#ed7953"
             ],
             [
              0.7777777777777778,
              "#fb9f3a"
             ],
             [
              0.8888888888888888,
              "#fdca26"
             ],
             [
              1,
              "#f0f921"
             ]
            ],
            "type": "histogram2d"
           }
          ],
          "histogram2dcontour": [
           {
            "colorbar": {
             "outlinewidth": 0,
             "ticks": ""
            },
            "colorscale": [
             [
              0,
              "#0d0887"
             ],
             [
              0.1111111111111111,
              "#46039f"
             ],
             [
              0.2222222222222222,
              "#7201a8"
             ],
             [
              0.3333333333333333,
              "#9c179e"
             ],
             [
              0.4444444444444444,
              "#bd3786"
             ],
             [
              0.5555555555555556,
              "#d8576b"
             ],
             [
              0.6666666666666666,
              "#ed7953"
             ],
             [
              0.7777777777777778,
              "#fb9f3a"
             ],
             [
              0.8888888888888888,
              "#fdca26"
             ],
             [
              1,
              "#f0f921"
             ]
            ],
            "type": "histogram2dcontour"
           }
          ],
          "mesh3d": [
           {
            "colorbar": {
             "outlinewidth": 0,
             "ticks": ""
            },
            "type": "mesh3d"
           }
          ],
          "parcoords": [
           {
            "line": {
             "colorbar": {
              "outlinewidth": 0,
              "ticks": ""
             }
            },
            "type": "parcoords"
           }
          ],
          "pie": [
           {
            "automargin": true,
            "type": "pie"
           }
          ],
          "scatter": [
           {
            "marker": {
             "colorbar": {
              "outlinewidth": 0,
              "ticks": ""
             }
            },
            "type": "scatter"
           }
          ],
          "scatter3d": [
           {
            "line": {
             "colorbar": {
              "outlinewidth": 0,
              "ticks": ""
             }
            },
            "marker": {
             "colorbar": {
              "outlinewidth": 0,
              "ticks": ""
             }
            },
            "type": "scatter3d"
           }
          ],
          "scattercarpet": [
           {
            "marker": {
             "colorbar": {
              "outlinewidth": 0,
              "ticks": ""
             }
            },
            "type": "scattercarpet"
           }
          ],
          "scattergeo": [
           {
            "marker": {
             "colorbar": {
              "outlinewidth": 0,
              "ticks": ""
             }
            },
            "type": "scattergeo"
           }
          ],
          "scattergl": [
           {
            "marker": {
             "colorbar": {
              "outlinewidth": 0,
              "ticks": ""
             }
            },
            "type": "scattergl"
           }
          ],
          "scattermapbox": [
           {
            "marker": {
             "colorbar": {
              "outlinewidth": 0,
              "ticks": ""
             }
            },
            "type": "scattermapbox"
           }
          ],
          "scatterpolar": [
           {
            "marker": {
             "colorbar": {
              "outlinewidth": 0,
              "ticks": ""
             }
            },
            "type": "scatterpolar"
           }
          ],
          "scatterpolargl": [
           {
            "marker": {
             "colorbar": {
              "outlinewidth": 0,
              "ticks": ""
             }
            },
            "type": "scatterpolargl"
           }
          ],
          "scatterternary": [
           {
            "marker": {
             "colorbar": {
              "outlinewidth": 0,
              "ticks": ""
             }
            },
            "type": "scatterternary"
           }
          ],
          "surface": [
           {
            "colorbar": {
             "outlinewidth": 0,
             "ticks": ""
            },
            "colorscale": [
             [
              0,
              "#0d0887"
             ],
             [
              0.1111111111111111,
              "#46039f"
             ],
             [
              0.2222222222222222,
              "#7201a8"
             ],
             [
              0.3333333333333333,
              "#9c179e"
             ],
             [
              0.4444444444444444,
              "#bd3786"
             ],
             [
              0.5555555555555556,
              "#d8576b"
             ],
             [
              0.6666666666666666,
              "#ed7953"
             ],
             [
              0.7777777777777778,
              "#fb9f3a"
             ],
             [
              0.8888888888888888,
              "#fdca26"
             ],
             [
              1,
              "#f0f921"
             ]
            ],
            "type": "surface"
           }
          ],
          "table": [
           {
            "cells": {
             "fill": {
              "color": "#EBF0F8"
             },
             "line": {
              "color": "white"
             }
            },
            "header": {
             "fill": {
              "color": "#C8D4E3"
             },
             "line": {
              "color": "white"
             }
            },
            "type": "table"
           }
          ]
         },
         "layout": {
          "annotationdefaults": {
           "arrowcolor": "#2a3f5f",
           "arrowhead": 0,
           "arrowwidth": 1
          },
          "autotypenumbers": "strict",
          "coloraxis": {
           "colorbar": {
            "outlinewidth": 0,
            "ticks": ""
           }
          },
          "colorscale": {
           "diverging": [
            [
             0,
             "#8e0152"
            ],
            [
             0.1,
             "#c51b7d"
            ],
            [
             0.2,
             "#de77ae"
            ],
            [
             0.3,
             "#f1b6da"
            ],
            [
             0.4,
             "#fde0ef"
            ],
            [
             0.5,
             "#f7f7f7"
            ],
            [
             0.6,
             "#e6f5d0"
            ],
            [
             0.7,
             "#b8e186"
            ],
            [
             0.8,
             "#7fbc41"
            ],
            [
             0.9,
             "#4d9221"
            ],
            [
             1,
             "#276419"
            ]
           ],
           "sequential": [
            [
             0,
             "#0d0887"
            ],
            [
             0.1111111111111111,
             "#46039f"
            ],
            [
             0.2222222222222222,
             "#7201a8"
            ],
            [
             0.3333333333333333,
             "#9c179e"
            ],
            [
             0.4444444444444444,
             "#bd3786"
            ],
            [
             0.5555555555555556,
             "#d8576b"
            ],
            [
             0.6666666666666666,
             "#ed7953"
            ],
            [
             0.7777777777777778,
             "#fb9f3a"
            ],
            [
             0.8888888888888888,
             "#fdca26"
            ],
            [
             1,
             "#f0f921"
            ]
           ],
           "sequentialminus": [
            [
             0,
             "#0d0887"
            ],
            [
             0.1111111111111111,
             "#46039f"
            ],
            [
             0.2222222222222222,
             "#7201a8"
            ],
            [
             0.3333333333333333,
             "#9c179e"
            ],
            [
             0.4444444444444444,
             "#bd3786"
            ],
            [
             0.5555555555555556,
             "#d8576b"
            ],
            [
             0.6666666666666666,
             "#ed7953"
            ],
            [
             0.7777777777777778,
             "#fb9f3a"
            ],
            [
             0.8888888888888888,
             "#fdca26"
            ],
            [
             1,
             "#f0f921"
            ]
           ]
          },
          "colorway": [
           "#636efa",
           "#EF553B",
           "#00cc96",
           "#ab63fa",
           "#FFA15A",
           "#19d3f3",
           "#FF6692",
           "#B6E880",
           "#FF97FF",
           "#FECB52"
          ],
          "font": {
           "color": "#2a3f5f"
          },
          "geo": {
           "bgcolor": "white",
           "lakecolor": "white",
           "landcolor": "#E5ECF6",
           "showlakes": true,
           "showland": true,
           "subunitcolor": "white"
          },
          "hoverlabel": {
           "align": "left"
          },
          "hovermode": "closest",
          "mapbox": {
           "style": "light"
          },
          "paper_bgcolor": "white",
          "plot_bgcolor": "#E5ECF6",
          "polar": {
           "angularaxis": {
            "gridcolor": "white",
            "linecolor": "white",
            "ticks": ""
           },
           "bgcolor": "#E5ECF6",
           "radialaxis": {
            "gridcolor": "white",
            "linecolor": "white",
            "ticks": ""
           }
          },
          "scene": {
           "xaxis": {
            "backgroundcolor": "#E5ECF6",
            "gridcolor": "white",
            "gridwidth": 2,
            "linecolor": "white",
            "showbackground": true,
            "ticks": "",
            "zerolinecolor": "white"
           },
           "yaxis": {
            "backgroundcolor": "#E5ECF6",
            "gridcolor": "white",
            "gridwidth": 2,
            "linecolor": "white",
            "showbackground": true,
            "ticks": "",
            "zerolinecolor": "white"
           },
           "zaxis": {
            "backgroundcolor": "#E5ECF6",
            "gridcolor": "white",
            "gridwidth": 2,
            "linecolor": "white",
            "showbackground": true,
            "ticks": "",
            "zerolinecolor": "white"
           }
          },
          "shapedefaults": {
           "line": {
            "color": "#2a3f5f"
           }
          },
          "ternary": {
           "aaxis": {
            "gridcolor": "white",
            "linecolor": "white",
            "ticks": ""
           },
           "baxis": {
            "gridcolor": "white",
            "linecolor": "white",
            "ticks": ""
           },
           "bgcolor": "#E5ECF6",
           "caxis": {
            "gridcolor": "white",
            "linecolor": "white",
            "ticks": ""
           }
          },
          "title": {
           "x": 0.05
          },
          "xaxis": {
           "automargin": true,
           "gridcolor": "white",
           "linecolor": "white",
           "ticks": "",
           "title": {
            "standoff": 15
           },
           "zerolinecolor": "white",
           "zerolinewidth": 2
          },
          "yaxis": {
           "automargin": true,
           "gridcolor": "white",
           "linecolor": "white",
           "ticks": "",
           "title": {
            "standoff": 15
           },
           "zerolinecolor": "white",
           "zerolinewidth": 2
          }
         }
        },
        "xaxis": {
         "anchor": "y",
         "domain": [
          0,
          1
         ],
         "title": {
          "text": "x"
         }
        },
        "yaxis": {
         "anchor": "x",
         "domain": [
          0,
          1
         ],
         "title": {
          "text": "y"
         }
        }
       }
      },
      "text/html": [
       "<div>                            <div id=\"38ab19ac-6a21-4876-9c17-0e7a4e87f046\" class=\"plotly-graph-div\" style=\"height:525px; width:100%;\"></div>            <script type=\"text/javascript\">                require([\"plotly\"], function(Plotly) {                    window.PLOTLYENV=window.PLOTLYENV || {};                                    if (document.getElementById(\"38ab19ac-6a21-4876-9c17-0e7a4e87f046\")) {                    Plotly.newPlot(                        \"38ab19ac-6a21-4876-9c17-0e7a4e87f046\",                        [{\"hovertemplate\":\"x=%{x}<br>y=%{y}<extra></extra>\",\"legendgroup\":\"\",\"marker\":{\"color\":\"#636efa\",\"symbol\":\"circle\"},\"mode\":\"markers\",\"name\":\"\",\"orientation\":\"v\",\"showlegend\":false,\"x\":[168,467,263,677,206,226,305,218,685,256,290,510,476,210,332,303,342,474,256,417,482,285,202,305,522,296,294,337,445,422,473,358,528,282,569,583,593,483,279,441,363,597,530,294,153,56,96,166,520,238,427,315,537,654,439,401,651,446,466,444,279,610,154,448,558,374,242,494,187,407,416,158,313,213,191,643,394,669,566,400,79,442,285,92,211,489,617,395,303,599,392,660,497,324,528,502,385,561,671,279,316,465,297,428,562,509,474,266,410,356,318,254,473,222,261,388,208,253,418,644,344,624,325,628,352,211,192,401,567,624,83,195,566,165,498,444,213,718,406,551,333,283,257,688,501,367,81,166,495,207,202,415,124,238,622,464,430,232,590,134,524,56,360,246,472,388,583,483,253,274,215,635,254,349,192,93,279,363,429,281,364,296,242,374,171,650,440,580,180,166,437,412,306,378,154,155,390,660,320],\"xaxis\":\"x\",\"y\":[1373225676.2933335,1376626222.5800002,566922511.8076923,1430431280.055,73019094.2725,939264876.9324137,961486212.8625287,1260811717.5303226,1387006765.5341177,1346199895.9406185,1133795673.8338463,863319062.2933333,659113325.1384212,1013151178.7916666,900632510.2377465,1283797359.2905555,386944802.0362963,282576885.89111114,232965187.2169231,572574205.2263013,58069781.717777774,434201305.06666666,1272469106.72,1031393094.2276924,297044171.23764706,586353464.1066667,941576496.9337314,1222518812.97,481601369.7986813,225168882.70285717,750663805.6758333,1218218547.1542857,1361273091.52,1269004916.6016667,35193064.96,238966947.88235295,1531638631.2855556,1277029825.3414142,265411889.32500002,1472395560.35,412040587.992381,271102792.5527273,1434131547.4666667,1454280635.4519541,1530050980.3878787,604542452.7222222,1406699470.4872727,1314202664.9695523,414196669.28,800954634.83,52917194.801038966,118609848.35636362,1158741818.5883546,74019191.04,1379366854.8733335,765090452.2375,578948046.38,891492145.8225,972759324.0428572,487432881.9348148,249031895.97829786,1493998584.2421622,310915394.8820513,26332407.77222222,130812492.713253,857222665.8548148,76779829.05,823015893.3942857,34949875.66714286,817634797.1233333,1073396882.0892308,774014334.3441095,995631736.5292308,926208203.2355556,89757252.62428573,852085404.9261111,878554259.4021053,1538785080.3525424,396613485.1607843,501812465.7806452,968440495.26,75290871.44835821,312215556.2019048,703557079.7591012,491320045.04785717,54895225.44166666,1081644107.7102702,340021658.86,99720628.84102564,1100668126.8838463,557372097.2842104,590665777.6702439,1148204277.4945054,871920656.5926316,252925998.07264367,963945361.7714286,1188799884.4931343,1444231190.3955557,1494177792.4414287,1458323611.88,1320353767.0645835,487062332.0177778,290487750.88000005,1312887583.9956756,188477328.0,723815134.1178948,1263188812.5125425,708169601.2177778,536991210.0672727,346149793.6,40909029.29454546,815009199.1400001,92430177.38666667,1368274545.89,1377501506.1988237,82788845.24909092,822210151.3678432,827143353.3752941,656361925.26,147070409.266383,745223611.58,368634064.5415385,1020727162.2914286,688513770.2036363,315957922.0298901,1261198469.1659772,979225669.9830303,313704406.7948718,324152357.57473683,631664617.2389743,1029409262.7766666,768245360.26,1469156724.387097,1224303934.5951724,1417944455.3600001,269035939.7822951,1201354459.2305882,223725161.01333335,90484931.79169811,855986699.2046512,1135434609.422069,601425586.471111,602570643.015,250735110.9,1029671164.9355556,1490217149.380513,1143533908.4150002,983907464.2224389,135203269.12666667,1246883292.16,213331256.50666666,549094176.8101408,1190567382.8562963,1110121850.839322,1221834910.1364706,1023302828.4675,757455366.2473685,112970067.98518519,807782070.2021978,655368159.9752941,848468411.9525582,379546431.52500004,68043199.7,216341977.60000002,1586240317.2,620960938.5825,880190925.5111113,1526269462.775,1167467077.0933332,1261766355.2871642,1364756120.7362711,896787993.1673684,342999256.47999996,846597434.9619511,1511947799.7800002,687112981.7066667,131681115.5538983,210185334.06500003,1284555263.6825,875272186.2825,903867048.32,1396976324.6755557,567294090.72,90613237.02666667,1036576021.5093617,632025201.6800001,162025768.1777778,22838577.790000003,1293479790.8142858,518300805.1318519,989099808.1473686,1365360341.2642858,505637399.7472222,512884976.27943665,1535172052.1777778,1063315269.2333333,211942030.6164706,333711060.8826966,181744100.19096774],\"yaxis\":\"y\",\"type\":\"scatter\"}],                        {\"template\":{\"data\":{\"bar\":[{\"error_x\":{\"color\":\"#2a3f5f\"},\"error_y\":{\"color\":\"#2a3f5f\"},\"marker\":{\"line\":{\"color\":\"#E5ECF6\",\"width\":0.5},\"pattern\":{\"fillmode\":\"overlay\",\"size\":10,\"solidity\":0.2}},\"type\":\"bar\"}],\"barpolar\":[{\"marker\":{\"line\":{\"color\":\"#E5ECF6\",\"width\":0.5},\"pattern\":{\"fillmode\":\"overlay\",\"size\":10,\"solidity\":0.2}},\"type\":\"barpolar\"}],\"carpet\":[{\"aaxis\":{\"endlinecolor\":\"#2a3f5f\",\"gridcolor\":\"white\",\"linecolor\":\"white\",\"minorgridcolor\":\"white\",\"startlinecolor\":\"#2a3f5f\"},\"baxis\":{\"endlinecolor\":\"#2a3f5f\",\"gridcolor\":\"white\",\"linecolor\":\"white\",\"minorgridcolor\":\"white\",\"startlinecolor\":\"#2a3f5f\"},\"type\":\"carpet\"}],\"choropleth\":[{\"colorbar\":{\"outlinewidth\":0,\"ticks\":\"\"},\"type\":\"choropleth\"}],\"contour\":[{\"colorbar\":{\"outlinewidth\":0,\"ticks\":\"\"},\"colorscale\":[[0.0,\"#0d0887\"],[0.1111111111111111,\"#46039f\"],[0.2222222222222222,\"#7201a8\"],[0.3333333333333333,\"#9c179e\"],[0.4444444444444444,\"#bd3786\"],[0.5555555555555556,\"#d8576b\"],[0.6666666666666666,\"#ed7953\"],[0.7777777777777778,\"#fb9f3a\"],[0.8888888888888888,\"#fdca26\"],[1.0,\"#f0f921\"]],\"type\":\"contour\"}],\"contourcarpet\":[{\"colorbar\":{\"outlinewidth\":0,\"ticks\":\"\"},\"type\":\"contourcarpet\"}],\"heatmap\":[{\"colorbar\":{\"outlinewidth\":0,\"ticks\":\"\"},\"colorscale\":[[0.0,\"#0d0887\"],[0.1111111111111111,\"#46039f\"],[0.2222222222222222,\"#7201a8\"],[0.3333333333333333,\"#9c179e\"],[0.4444444444444444,\"#bd3786\"],[0.5555555555555556,\"#d8576b\"],[0.6666666666666666,\"#ed7953\"],[0.7777777777777778,\"#fb9f3a\"],[0.8888888888888888,\"#fdca26\"],[1.0,\"#f0f921\"]],\"type\":\"heatmap\"}],\"heatmapgl\":[{\"colorbar\":{\"outlinewidth\":0,\"ticks\":\"\"},\"colorscale\":[[0.0,\"#0d0887\"],[0.1111111111111111,\"#46039f\"],[0.2222222222222222,\"#7201a8\"],[0.3333333333333333,\"#9c179e\"],[0.4444444444444444,\"#bd3786\"],[0.5555555555555556,\"#d8576b\"],[0.6666666666666666,\"#ed7953\"],[0.7777777777777778,\"#fb9f3a\"],[0.8888888888888888,\"#fdca26\"],[1.0,\"#f0f921\"]],\"type\":\"heatmapgl\"}],\"histogram\":[{\"marker\":{\"pattern\":{\"fillmode\":\"overlay\",\"size\":10,\"solidity\":0.2}},\"type\":\"histogram\"}],\"histogram2d\":[{\"colorbar\":{\"outlinewidth\":0,\"ticks\":\"\"},\"colorscale\":[[0.0,\"#0d0887\"],[0.1111111111111111,\"#46039f\"],[0.2222222222222222,\"#7201a8\"],[0.3333333333333333,\"#9c179e\"],[0.4444444444444444,\"#bd3786\"],[0.5555555555555556,\"#d8576b\"],[0.6666666666666666,\"#ed7953\"],[0.7777777777777778,\"#fb9f3a\"],[0.8888888888888888,\"#fdca26\"],[1.0,\"#f0f921\"]],\"type\":\"histogram2d\"}],\"histogram2dcontour\":[{\"colorbar\":{\"outlinewidth\":0,\"ticks\":\"\"},\"colorscale\":[[0.0,\"#0d0887\"],[0.1111111111111111,\"#46039f\"],[0.2222222222222222,\"#7201a8\"],[0.3333333333333333,\"#9c179e\"],[0.4444444444444444,\"#bd3786\"],[0.5555555555555556,\"#d8576b\"],[0.6666666666666666,\"#ed7953\"],[0.7777777777777778,\"#fb9f3a\"],[0.8888888888888888,\"#fdca26\"],[1.0,\"#f0f921\"]],\"type\":\"histogram2dcontour\"}],\"mesh3d\":[{\"colorbar\":{\"outlinewidth\":0,\"ticks\":\"\"},\"type\":\"mesh3d\"}],\"parcoords\":[{\"line\":{\"colorbar\":{\"outlinewidth\":0,\"ticks\":\"\"}},\"type\":\"parcoords\"}],\"pie\":[{\"automargin\":true,\"type\":\"pie\"}],\"scatter\":[{\"marker\":{\"colorbar\":{\"outlinewidth\":0,\"ticks\":\"\"}},\"type\":\"scatter\"}],\"scatter3d\":[{\"line\":{\"colorbar\":{\"outlinewidth\":0,\"ticks\":\"\"}},\"marker\":{\"colorbar\":{\"outlinewidth\":0,\"ticks\":\"\"}},\"type\":\"scatter3d\"}],\"scattercarpet\":[{\"marker\":{\"colorbar\":{\"outlinewidth\":0,\"ticks\":\"\"}},\"type\":\"scattercarpet\"}],\"scattergeo\":[{\"marker\":{\"colorbar\":{\"outlinewidth\":0,\"ticks\":\"\"}},\"type\":\"scattergeo\"}],\"scattergl\":[{\"marker\":{\"colorbar\":{\"outlinewidth\":0,\"ticks\":\"\"}},\"type\":\"scattergl\"}],\"scattermapbox\":[{\"marker\":{\"colorbar\":{\"outlinewidth\":0,\"ticks\":\"\"}},\"type\":\"scattermapbox\"}],\"scatterpolar\":[{\"marker\":{\"colorbar\":{\"outlinewidth\":0,\"ticks\":\"\"}},\"type\":\"scatterpolar\"}],\"scatterpolargl\":[{\"marker\":{\"colorbar\":{\"outlinewidth\":0,\"ticks\":\"\"}},\"type\":\"scatterpolargl\"}],\"scatterternary\":[{\"marker\":{\"colorbar\":{\"outlinewidth\":0,\"ticks\":\"\"}},\"type\":\"scatterternary\"}],\"surface\":[{\"colorbar\":{\"outlinewidth\":0,\"ticks\":\"\"},\"colorscale\":[[0.0,\"#0d0887\"],[0.1111111111111111,\"#46039f\"],[0.2222222222222222,\"#7201a8\"],[0.3333333333333333,\"#9c179e\"],[0.4444444444444444,\"#bd3786\"],[0.5555555555555556,\"#d8576b\"],[0.6666666666666666,\"#ed7953\"],[0.7777777777777778,\"#fb9f3a\"],[0.8888888888888888,\"#fdca26\"],[1.0,\"#f0f921\"]],\"type\":\"surface\"}],\"table\":[{\"cells\":{\"fill\":{\"color\":\"#EBF0F8\"},\"line\":{\"color\":\"white\"}},\"header\":{\"fill\":{\"color\":\"#C8D4E3\"},\"line\":{\"color\":\"white\"}},\"type\":\"table\"}]},\"layout\":{\"annotationdefaults\":{\"arrowcolor\":\"#2a3f5f\",\"arrowhead\":0,\"arrowwidth\":1},\"autotypenumbers\":\"strict\",\"coloraxis\":{\"colorbar\":{\"outlinewidth\":0,\"ticks\":\"\"}},\"colorscale\":{\"diverging\":[[0,\"#8e0152\"],[0.1,\"#c51b7d\"],[0.2,\"#de77ae\"],[0.3,\"#f1b6da\"],[0.4,\"#fde0ef\"],[0.5,\"#f7f7f7\"],[0.6,\"#e6f5d0\"],[0.7,\"#b8e186\"],[0.8,\"#7fbc41\"],[0.9,\"#4d9221\"],[1,\"#276419\"]],\"sequential\":[[0.0,\"#0d0887\"],[0.1111111111111111,\"#46039f\"],[0.2222222222222222,\"#7201a8\"],[0.3333333333333333,\"#9c179e\"],[0.4444444444444444,\"#bd3786\"],[0.5555555555555556,\"#d8576b\"],[0.6666666666666666,\"#ed7953\"],[0.7777777777777778,\"#fb9f3a\"],[0.8888888888888888,\"#fdca26\"],[1.0,\"#f0f921\"]],\"sequentialminus\":[[0.0,\"#0d0887\"],[0.1111111111111111,\"#46039f\"],[0.2222222222222222,\"#7201a8\"],[0.3333333333333333,\"#9c179e\"],[0.4444444444444444,\"#bd3786\"],[0.5555555555555556,\"#d8576b\"],[0.6666666666666666,\"#ed7953\"],[0.7777777777777778,\"#fb9f3a\"],[0.8888888888888888,\"#fdca26\"],[1.0,\"#f0f921\"]]},\"colorway\":[\"#636efa\",\"#EF553B\",\"#00cc96\",\"#ab63fa\",\"#FFA15A\",\"#19d3f3\",\"#FF6692\",\"#B6E880\",\"#FF97FF\",\"#FECB52\"],\"font\":{\"color\":\"#2a3f5f\"},\"geo\":{\"bgcolor\":\"white\",\"lakecolor\":\"white\",\"landcolor\":\"#E5ECF6\",\"showlakes\":true,\"showland\":true,\"subunitcolor\":\"white\"},\"hoverlabel\":{\"align\":\"left\"},\"hovermode\":\"closest\",\"mapbox\":{\"style\":\"light\"},\"paper_bgcolor\":\"white\",\"plot_bgcolor\":\"#E5ECF6\",\"polar\":{\"angularaxis\":{\"gridcolor\":\"white\",\"linecolor\":\"white\",\"ticks\":\"\"},\"bgcolor\":\"#E5ECF6\",\"radialaxis\":{\"gridcolor\":\"white\",\"linecolor\":\"white\",\"ticks\":\"\"}},\"scene\":{\"xaxis\":{\"backgroundcolor\":\"#E5ECF6\",\"gridcolor\":\"white\",\"gridwidth\":2,\"linecolor\":\"white\",\"showbackground\":true,\"ticks\":\"\",\"zerolinecolor\":\"white\"},\"yaxis\":{\"backgroundcolor\":\"#E5ECF6\",\"gridcolor\":\"white\",\"gridwidth\":2,\"linecolor\":\"white\",\"showbackground\":true,\"ticks\":\"\",\"zerolinecolor\":\"white\"},\"zaxis\":{\"backgroundcolor\":\"#E5ECF6\",\"gridcolor\":\"white\",\"gridwidth\":2,\"linecolor\":\"white\",\"showbackground\":true,\"ticks\":\"\",\"zerolinecolor\":\"white\"}},\"shapedefaults\":{\"line\":{\"color\":\"#2a3f5f\"}},\"ternary\":{\"aaxis\":{\"gridcolor\":\"white\",\"linecolor\":\"white\",\"ticks\":\"\"},\"baxis\":{\"gridcolor\":\"white\",\"linecolor\":\"white\",\"ticks\":\"\"},\"bgcolor\":\"#E5ECF6\",\"caxis\":{\"gridcolor\":\"white\",\"linecolor\":\"white\",\"ticks\":\"\"}},\"title\":{\"x\":0.05},\"xaxis\":{\"automargin\":true,\"gridcolor\":\"white\",\"linecolor\":\"white\",\"ticks\":\"\",\"title\":{\"standoff\":15},\"zerolinecolor\":\"white\",\"zerolinewidth\":2},\"yaxis\":{\"automargin\":true,\"gridcolor\":\"white\",\"linecolor\":\"white\",\"ticks\":\"\",\"title\":{\"standoff\":15},\"zerolinecolor\":\"white\",\"zerolinewidth\":2}}},\"xaxis\":{\"anchor\":\"y\",\"domain\":[0.0,1.0],\"title\":{\"text\":\"x\"}},\"yaxis\":{\"anchor\":\"x\",\"domain\":[0.0,1.0],\"title\":{\"text\":\"y\"}},\"legend\":{\"tracegroupgap\":0},\"margin\":{\"t\":60}},                        {\"responsive\": true}                    ).then(function(){\n",
       "                            \n",
       "var gd = document.getElementById('38ab19ac-6a21-4876-9c17-0e7a4e87f046');\n",
       "var x = new MutationObserver(function (mutations, observer) {{\n",
       "        var display = window.getComputedStyle(gd).display;\n",
       "        if (!display || display === 'none') {{\n",
       "            console.log([gd, 'removed!']);\n",
       "            Plotly.purge(gd);\n",
       "            observer.disconnect();\n",
       "        }}\n",
       "}});\n",
       "\n",
       "// Listen for the removal of the full notebook cells\n",
       "var notebookContainer = gd.closest('#notebook-container');\n",
       "if (notebookContainer) {{\n",
       "    x.observe(notebookContainer, {childList: true});\n",
       "}}\n",
       "\n",
       "// Listen for the clearing of the current output cell\n",
       "var outputEl = gd.closest('.output');\n",
       "if (outputEl) {{\n",
       "    x.observe(outputEl, {childList: true});\n",
       "}}\n",
       "\n",
       "                        })                };                });            </script>        </div>"
      ]
     },
     "metadata": {},
     "output_type": "display_data"
    }
   ],
   "source": [
    "fig = px.scatter(x = df['prazo'], y = df['volume_usd'])\n",
    "fig.show()"
   ]
  },
  {
   "cell_type": "code",
   "execution_count": null,
   "id": "8a2ba828-8ede-47a2-b4e2-b2aa982836b0",
   "metadata": {},
   "outputs": [],
   "source": []
  }
 ],
 "metadata": {
  "kernelspec": {
   "display_name": "Python 3",
   "language": "python",
   "name": "python3"
  },
  "language_info": {
   "codemirror_mode": {
    "name": "ipython",
    "version": 3
   },
   "file_extension": ".py",
   "mimetype": "text/x-python",
   "name": "python",
   "nbconvert_exporter": "python",
   "pygments_lexer": "ipython3",
   "version": "3.8.8"
  }
 },
 "nbformat": 4,
 "nbformat_minor": 5
}
