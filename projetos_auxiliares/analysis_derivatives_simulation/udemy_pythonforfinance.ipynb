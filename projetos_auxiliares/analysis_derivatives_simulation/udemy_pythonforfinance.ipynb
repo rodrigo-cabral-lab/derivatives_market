{
 "cells": [
  {
   "cell_type": "markdown",
   "id": "d6faaf36-f65f-4e63-b0b8-802eae6b63aa",
   "metadata": {},
   "source": [
    "# GitHub com os códigos do curso \"Python for Finance: Investment Fundamentals & Data Analytics\"\n",
    "\n",
    "- 1 - https://github.com/theoneandonlywoj/Python-for-Financial-Analysis-and-Algorithmic-Trading\n",
    "- 2 - https://github.com/nhatnguyen12/Python-for-Finance\n",
    "- 3 - videos: https://github.com/CodingandFun89/python_for_finance_balance_sheet\n",
    "- 4 - https://github.com/lorenzojcd/Python-for-Finance-Udemy\n",
    "- 5 - https://github.com/rudijs/python-for-finance\n",
    "- 6 - https://github.com/tonytang0114/PythonForFinanceAnalysisUdemy\n",
    "- 7 - https://github.com/nutov/Python-for-Finance-Udemy\n",
    "- 8 - https://github.com/SurajHegde/Udemy-Python-For-Finance\n",
    "- 9 - https://github.com/fagan2888/udemy-python-for-finance\n",
    "- 10 - https://github.com/NightingaleV/udemy-python-for-finance\n",
    "- 11 - https://github.com/barbara-abreu/Python_for_finance_Udemy_course"
   ]
  }
 ],
 "metadata": {
  "kernelspec": {
   "display_name": "Python 3",
   "language": "python",
   "name": "python3"
  },
  "language_info": {
   "codemirror_mode": {
    "name": "ipython",
    "version": 3
   },
   "file_extension": ".py",
   "mimetype": "text/x-python",
   "name": "python",
   "nbconvert_exporter": "python",
   "pygments_lexer": "ipython3",
   "version": "3.8.8"
  }
 },
 "nbformat": 4,
 "nbformat_minor": 5
}
