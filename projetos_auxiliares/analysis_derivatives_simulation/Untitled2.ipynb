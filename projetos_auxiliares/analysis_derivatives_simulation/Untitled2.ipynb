{
 "cells": [
  {
   "cell_type": "markdown",
   "id": "42921d9e",
   "metadata": {},
   "source": [
    "# teste commodity"
   ]
  },
  {
   "cell_type": "code",
   "execution_count": 1,
   "id": "4e7f3d68",
   "metadata": {},
   "outputs": [],
   "source": [
    "#importando bibliotecas\n",
    "import pandas as pd\n",
    "import numpy as np\n",
    "import seaborn as sns\n",
    "import matplotlib.pyplot as plt\n",
    "plt.style.use('seaborn')"
   ]
  },
  {
   "cell_type": "code",
   "execution_count": 2,
   "id": "bd58b0f8",
   "metadata": {},
   "outputs": [],
   "source": [
    "#importando excel\n",
    "df_cmt = pd.read_excel('usd_commodity.xlsx') #, index_col='inicio')"
   ]
  },
  {
   "cell_type": "code",
   "execution_count": 3,
   "id": "b0fd9e6a",
   "metadata": {},
   "outputs": [
    {
     "data": {
      "text/html": [
       "<div>\n",
       "<style scoped>\n",
       "    .dataframe tbody tr th:only-of-type {\n",
       "        vertical-align: middle;\n",
       "    }\n",
       "\n",
       "    .dataframe tbody tr th {\n",
       "        vertical-align: top;\n",
       "    }\n",
       "\n",
       "    .dataframe thead th {\n",
       "        text-align: right;\n",
       "    }\n",
       "</style>\n",
       "<table border=\"1\" class=\"dataframe\">\n",
       "  <thead>\n",
       "    <tr style=\"text-align: right;\">\n",
       "      <th></th>\n",
       "      <th>data</th>\n",
       "      <th>prazo</th>\n",
       "      <th>usd_close</th>\n",
       "      <th>usd_high</th>\n",
       "      <th>usd_low</th>\n",
       "      <th>usd_ampl</th>\n",
       "      <th>usd_vol</th>\n",
       "      <th>produto</th>\n",
       "      <th>operacao</th>\n",
       "      <th>volume_usd</th>\n",
       "    </tr>\n",
       "  </thead>\n",
       "  <tbody>\n",
       "    <tr>\n",
       "      <th>0</th>\n",
       "      <td>2019-10-01</td>\n",
       "      <td>226</td>\n",
       "      <td>5.162045</td>\n",
       "      <td>5.198462</td>\n",
       "      <td>5.140392</td>\n",
       "      <td>0.058069</td>\n",
       "      <td>0.178322</td>\n",
       "      <td>acucar</td>\n",
       "      <td>compra</td>\n",
       "      <td>487479</td>\n",
       "    </tr>\n",
       "    <tr>\n",
       "      <th>1</th>\n",
       "      <td>2020-01-25</td>\n",
       "      <td>325</td>\n",
       "      <td>5.147500</td>\n",
       "      <td>5.179608</td>\n",
       "      <td>5.147654</td>\n",
       "      <td>0.031954</td>\n",
       "      <td>0.098234</td>\n",
       "      <td>acucar</td>\n",
       "      <td>compra</td>\n",
       "      <td>3506248</td>\n",
       "    </tr>\n",
       "    <tr>\n",
       "      <th>2</th>\n",
       "      <td>2022-03-08</td>\n",
       "      <td>148</td>\n",
       "      <td>5.125517</td>\n",
       "      <td>5.189412</td>\n",
       "      <td>5.140392</td>\n",
       "      <td>0.049020</td>\n",
       "      <td>0.150663</td>\n",
       "      <td>acucar</td>\n",
       "      <td>compra</td>\n",
       "      <td>6889297</td>\n",
       "    </tr>\n",
       "    <tr>\n",
       "      <th>3</th>\n",
       "      <td>2021-08-28</td>\n",
       "      <td>123</td>\n",
       "      <td>5.142456</td>\n",
       "      <td>5.171364</td>\n",
       "      <td>5.129697</td>\n",
       "      <td>0.041667</td>\n",
       "      <td>0.128421</td>\n",
       "      <td>acucar</td>\n",
       "      <td>venda</td>\n",
       "      <td>6750144</td>\n",
       "    </tr>\n",
       "    <tr>\n",
       "      <th>4</th>\n",
       "      <td>2020-03-10</td>\n",
       "      <td>53</td>\n",
       "      <td>5.144127</td>\n",
       "      <td>5.170101</td>\n",
       "      <td>5.141132</td>\n",
       "      <td>0.028969</td>\n",
       "      <td>0.089197</td>\n",
       "      <td>aluminio</td>\n",
       "      <td>venda</td>\n",
       "      <td>4852125</td>\n",
       "    </tr>\n",
       "    <tr>\n",
       "      <th>...</th>\n",
       "      <td>...</td>\n",
       "      <td>...</td>\n",
       "      <td>...</td>\n",
       "      <td>...</td>\n",
       "      <td>...</td>\n",
       "      <td>...</td>\n",
       "      <td>...</td>\n",
       "      <td>...</td>\n",
       "      <td>...</td>\n",
       "      <td>...</td>\n",
       "    </tr>\n",
       "    <tr>\n",
       "      <th>194</th>\n",
       "      <td>2019-11-28</td>\n",
       "      <td>134</td>\n",
       "      <td>5.143333</td>\n",
       "      <td>5.180408</td>\n",
       "      <td>5.149011</td>\n",
       "      <td>0.031397</td>\n",
       "      <td>0.096504</td>\n",
       "      <td>aluminio</td>\n",
       "      <td>venda</td>\n",
       "      <td>7963634</td>\n",
       "    </tr>\n",
       "    <tr>\n",
       "      <th>195</th>\n",
       "      <td>2019-05-15</td>\n",
       "      <td>74</td>\n",
       "      <td>5.076667</td>\n",
       "      <td>5.194483</td>\n",
       "      <td>5.135000</td>\n",
       "      <td>0.059483</td>\n",
       "      <td>0.182828</td>\n",
       "      <td>aluminio</td>\n",
       "      <td>venda</td>\n",
       "      <td>312264</td>\n",
       "    </tr>\n",
       "    <tr>\n",
       "      <th>196</th>\n",
       "      <td>2021-01-31</td>\n",
       "      <td>236</td>\n",
       "      <td>5.149474</td>\n",
       "      <td>5.187778</td>\n",
       "      <td>5.088571</td>\n",
       "      <td>0.099206</td>\n",
       "      <td>0.306500</td>\n",
       "      <td>aluminio</td>\n",
       "      <td>compra</td>\n",
       "      <td>2983643</td>\n",
       "    </tr>\n",
       "    <tr>\n",
       "      <th>197</th>\n",
       "      <td>2018-11-19</td>\n",
       "      <td>70</td>\n",
       "      <td>5.107368</td>\n",
       "      <td>5.175152</td>\n",
       "      <td>5.147342</td>\n",
       "      <td>0.027810</td>\n",
       "      <td>0.085535</td>\n",
       "      <td>aluminio</td>\n",
       "      <td>compra</td>\n",
       "      <td>7018067</td>\n",
       "    </tr>\n",
       "    <tr>\n",
       "      <th>198</th>\n",
       "      <td>2021-07-19</td>\n",
       "      <td>242</td>\n",
       "      <td>5.143871</td>\n",
       "      <td>5.180000</td>\n",
       "      <td>5.148636</td>\n",
       "      <td>0.031364</td>\n",
       "      <td>0.096408</td>\n",
       "      <td>milho</td>\n",
       "      <td>venda</td>\n",
       "      <td>4240812</td>\n",
       "    </tr>\n",
       "  </tbody>\n",
       "</table>\n",
       "<p>199 rows × 10 columns</p>\n",
       "</div>"
      ],
      "text/plain": [
       "          data  prazo  usd_close  usd_high   usd_low  usd_ampl   usd_vol  \\\n",
       "0   2019-10-01    226   5.162045  5.198462  5.140392  0.058069  0.178322   \n",
       "1   2020-01-25    325   5.147500  5.179608  5.147654  0.031954  0.098234   \n",
       "2   2022-03-08    148   5.125517  5.189412  5.140392  0.049020  0.150663   \n",
       "3   2021-08-28    123   5.142456  5.171364  5.129697  0.041667  0.128421   \n",
       "4   2020-03-10     53   5.144127  5.170101  5.141132  0.028969  0.089197   \n",
       "..         ...    ...        ...       ...       ...       ...       ...   \n",
       "194 2019-11-28    134   5.143333  5.180408  5.149011  0.031397  0.096504   \n",
       "195 2019-05-15     74   5.076667  5.194483  5.135000  0.059483  0.182828   \n",
       "196 2021-01-31    236   5.149474  5.187778  5.088571  0.099206  0.306500   \n",
       "197 2018-11-19     70   5.107368  5.175152  5.147342  0.027810  0.085535   \n",
       "198 2021-07-19    242   5.143871  5.180000  5.148636  0.031364  0.096408   \n",
       "\n",
       "       produto operacao  volume_usd  \n",
       "0      acucar    compra      487479  \n",
       "1      acucar    compra     3506248  \n",
       "2      acucar    compra     6889297  \n",
       "3      acucar     venda     6750144  \n",
       "4    aluminio     venda     4852125  \n",
       "..         ...      ...         ...  \n",
       "194  aluminio     venda     7963634  \n",
       "195  aluminio     venda      312264  \n",
       "196  aluminio    compra     2983643  \n",
       "197  aluminio    compra     7018067  \n",
       "198      milho    venda     4240812  \n",
       "\n",
       "[199 rows x 10 columns]"
      ]
     },
     "execution_count": 3,
     "metadata": {},
     "output_type": "execute_result"
    }
   ],
   "source": [
    "df_cmt"
   ]
  },
  {
   "cell_type": "code",
   "execution_count": 4,
   "id": "17edb644",
   "metadata": {},
   "outputs": [],
   "source": [
    "df_cmt.sort_values(by='data', inplace=True)"
   ]
  },
  {
   "cell_type": "code",
   "execution_count": 5,
   "id": "3d70b4e3",
   "metadata": {},
   "outputs": [
    {
     "data": {
      "text/html": [
       "<div>\n",
       "<style scoped>\n",
       "    .dataframe tbody tr th:only-of-type {\n",
       "        vertical-align: middle;\n",
       "    }\n",
       "\n",
       "    .dataframe tbody tr th {\n",
       "        vertical-align: top;\n",
       "    }\n",
       "\n",
       "    .dataframe thead th {\n",
       "        text-align: right;\n",
       "    }\n",
       "</style>\n",
       "<table border=\"1\" class=\"dataframe\">\n",
       "  <thead>\n",
       "    <tr style=\"text-align: right;\">\n",
       "      <th></th>\n",
       "      <th>data</th>\n",
       "      <th>prazo</th>\n",
       "      <th>usd_close</th>\n",
       "      <th>usd_high</th>\n",
       "      <th>usd_low</th>\n",
       "      <th>usd_ampl</th>\n",
       "      <th>usd_vol</th>\n",
       "      <th>produto</th>\n",
       "      <th>operacao</th>\n",
       "      <th>volume_usd</th>\n",
       "    </tr>\n",
       "  </thead>\n",
       "  <tbody>\n",
       "    <tr>\n",
       "      <th>155</th>\n",
       "      <td>2018-01-01</td>\n",
       "      <td>259</td>\n",
       "      <td>5.142759</td>\n",
       "      <td>5.176949</td>\n",
       "      <td>5.148636</td>\n",
       "      <td>0.028313</td>\n",
       "      <td>0.087056</td>\n",
       "      <td>milho</td>\n",
       "      <td>venda</td>\n",
       "      <td>3841672</td>\n",
       "    </tr>\n",
       "    <tr>\n",
       "      <th>11</th>\n",
       "      <td>2018-01-02</td>\n",
       "      <td>175</td>\n",
       "      <td>5.139167</td>\n",
       "      <td>5.176949</td>\n",
       "      <td>5.137778</td>\n",
       "      <td>0.039171</td>\n",
       "      <td>0.120571</td>\n",
       "      <td>milho</td>\n",
       "      <td>compra</td>\n",
       "      <td>568354</td>\n",
       "    </tr>\n",
       "    <tr>\n",
       "      <th>106</th>\n",
       "      <td>2018-01-04</td>\n",
       "      <td>226</td>\n",
       "      <td>5.142143</td>\n",
       "      <td>5.181277</td>\n",
       "      <td>5.147013</td>\n",
       "      <td>0.034264</td>\n",
       "      <td>0.105326</td>\n",
       "      <td>acucar</td>\n",
       "      <td>compra</td>\n",
       "      <td>2902833</td>\n",
       "    </tr>\n",
       "    <tr>\n",
       "      <th>176</th>\n",
       "      <td>2018-01-12</td>\n",
       "      <td>91</td>\n",
       "      <td>5.107368</td>\n",
       "      <td>5.170101</td>\n",
       "      <td>5.145507</td>\n",
       "      <td>0.024594</td>\n",
       "      <td>0.075694</td>\n",
       "      <td>acucar</td>\n",
       "      <td>venda</td>\n",
       "      <td>4246822</td>\n",
       "    </tr>\n",
       "    <tr>\n",
       "      <th>120</th>\n",
       "      <td>2018-01-27</td>\n",
       "      <td>335</td>\n",
       "      <td>5.145294</td>\n",
       "      <td>5.178868</td>\n",
       "      <td>5.147179</td>\n",
       "      <td>0.031688</td>\n",
       "      <td>0.097431</td>\n",
       "      <td>milho</td>\n",
       "      <td>venda</td>\n",
       "      <td>2284834</td>\n",
       "    </tr>\n",
       "    <tr>\n",
       "      <th>...</th>\n",
       "      <td>...</td>\n",
       "      <td>...</td>\n",
       "      <td>...</td>\n",
       "      <td>...</td>\n",
       "      <td>...</td>\n",
       "      <td>...</td>\n",
       "      <td>...</td>\n",
       "      <td>...</td>\n",
       "      <td>...</td>\n",
       "      <td>...</td>\n",
       "    </tr>\n",
       "    <tr>\n",
       "      <th>12</th>\n",
       "      <td>2022-02-13</td>\n",
       "      <td>254</td>\n",
       "      <td>5.137778</td>\n",
       "      <td>5.171628</td>\n",
       "      <td>5.141818</td>\n",
       "      <td>0.029810</td>\n",
       "      <td>0.091767</td>\n",
       "      <td>milho</td>\n",
       "      <td>compra</td>\n",
       "      <td>5716385</td>\n",
       "    </tr>\n",
       "    <tr>\n",
       "      <th>24</th>\n",
       "      <td>2022-02-22</td>\n",
       "      <td>312</td>\n",
       "      <td>5.144615</td>\n",
       "      <td>5.189412</td>\n",
       "      <td>5.149583</td>\n",
       "      <td>0.039828</td>\n",
       "      <td>0.122305</td>\n",
       "      <td>milho</td>\n",
       "      <td>venda</td>\n",
       "      <td>7988150</td>\n",
       "    </tr>\n",
       "    <tr>\n",
       "      <th>114</th>\n",
       "      <td>2022-02-27</td>\n",
       "      <td>416</td>\n",
       "      <td>5.149474</td>\n",
       "      <td>5.180833</td>\n",
       "      <td>5.148889</td>\n",
       "      <td>0.031944</td>\n",
       "      <td>0.098183</td>\n",
       "      <td>milho</td>\n",
       "      <td>venda</td>\n",
       "      <td>3243526</td>\n",
       "    </tr>\n",
       "    <tr>\n",
       "      <th>2</th>\n",
       "      <td>2022-03-08</td>\n",
       "      <td>148</td>\n",
       "      <td>5.125517</td>\n",
       "      <td>5.189412</td>\n",
       "      <td>5.140392</td>\n",
       "      <td>0.049020</td>\n",
       "      <td>0.150663</td>\n",
       "      <td>acucar</td>\n",
       "      <td>compra</td>\n",
       "      <td>6889297</td>\n",
       "    </tr>\n",
       "    <tr>\n",
       "      <th>35</th>\n",
       "      <td>2022-03-09</td>\n",
       "      <td>85</td>\n",
       "      <td>5.137273</td>\n",
       "      <td>5.173889</td>\n",
       "      <td>5.149691</td>\n",
       "      <td>0.024198</td>\n",
       "      <td>0.074419</td>\n",
       "      <td>milho</td>\n",
       "      <td>compra</td>\n",
       "      <td>6025511</td>\n",
       "    </tr>\n",
       "  </tbody>\n",
       "</table>\n",
       "<p>199 rows × 10 columns</p>\n",
       "</div>"
      ],
      "text/plain": [
       "          data  prazo  usd_close  usd_high   usd_low  usd_ampl   usd_vol  \\\n",
       "155 2018-01-01    259   5.142759  5.176949  5.148636  0.028313  0.087056   \n",
       "11  2018-01-02    175   5.139167  5.176949  5.137778  0.039171  0.120571   \n",
       "106 2018-01-04    226   5.142143  5.181277  5.147013  0.034264  0.105326   \n",
       "176 2018-01-12     91   5.107368  5.170101  5.145507  0.024594  0.075694   \n",
       "120 2018-01-27    335   5.145294  5.178868  5.147179  0.031688  0.097431   \n",
       "..         ...    ...        ...       ...       ...       ...       ...   \n",
       "12  2022-02-13    254   5.137778  5.171628  5.141818  0.029810  0.091767   \n",
       "24  2022-02-22    312   5.144615  5.189412  5.149583  0.039828  0.122305   \n",
       "114 2022-02-27    416   5.149474  5.180833  5.148889  0.031944  0.098183   \n",
       "2   2022-03-08    148   5.125517  5.189412  5.140392  0.049020  0.150663   \n",
       "35  2022-03-09     85   5.137273  5.173889  5.149691  0.024198  0.074419   \n",
       "\n",
       "     produto operacao  volume_usd  \n",
       "155    milho    venda     3841672  \n",
       "11     milho   compra      568354  \n",
       "106  acucar    compra     2902833  \n",
       "176  acucar     venda     4246822  \n",
       "120    milho    venda     2284834  \n",
       "..       ...      ...         ...  \n",
       "12     milho   compra     5716385  \n",
       "24     milho    venda     7988150  \n",
       "114    milho    venda     3243526  \n",
       "2    acucar    compra     6889297  \n",
       "35     milho   compra     6025511  \n",
       "\n",
       "[199 rows x 10 columns]"
      ]
     },
     "execution_count": 5,
     "metadata": {},
     "output_type": "execute_result"
    }
   ],
   "source": [
    "df_cmt"
   ]
  },
  {
   "cell_type": "code",
   "execution_count": 6,
   "id": "783f6a34",
   "metadata": {},
   "outputs": [],
   "source": [
    "df_cmt.set_index('data', inplace=True)"
   ]
  },
  {
   "cell_type": "code",
   "execution_count": 7,
   "id": "d113bff8",
   "metadata": {},
   "outputs": [
    {
     "data": {
      "text/html": [
       "<div>\n",
       "<style scoped>\n",
       "    .dataframe tbody tr th:only-of-type {\n",
       "        vertical-align: middle;\n",
       "    }\n",
       "\n",
       "    .dataframe tbody tr th {\n",
       "        vertical-align: top;\n",
       "    }\n",
       "\n",
       "    .dataframe thead th {\n",
       "        text-align: right;\n",
       "    }\n",
       "</style>\n",
       "<table border=\"1\" class=\"dataframe\">\n",
       "  <thead>\n",
       "    <tr style=\"text-align: right;\">\n",
       "      <th></th>\n",
       "      <th>prazo</th>\n",
       "      <th>usd_close</th>\n",
       "      <th>usd_high</th>\n",
       "      <th>usd_low</th>\n",
       "      <th>usd_ampl</th>\n",
       "      <th>usd_vol</th>\n",
       "      <th>produto</th>\n",
       "      <th>operacao</th>\n",
       "      <th>volume_usd</th>\n",
       "    </tr>\n",
       "    <tr>\n",
       "      <th>data</th>\n",
       "      <th></th>\n",
       "      <th></th>\n",
       "      <th></th>\n",
       "      <th></th>\n",
       "      <th></th>\n",
       "      <th></th>\n",
       "      <th></th>\n",
       "      <th></th>\n",
       "      <th></th>\n",
       "    </tr>\n",
       "  </thead>\n",
       "  <tbody>\n",
       "    <tr>\n",
       "      <th>2018-01-01</th>\n",
       "      <td>259</td>\n",
       "      <td>5.142759</td>\n",
       "      <td>5.176949</td>\n",
       "      <td>5.148636</td>\n",
       "      <td>0.028313</td>\n",
       "      <td>0.087056</td>\n",
       "      <td>milho</td>\n",
       "      <td>venda</td>\n",
       "      <td>3841672</td>\n",
       "    </tr>\n",
       "    <tr>\n",
       "      <th>2018-01-02</th>\n",
       "      <td>175</td>\n",
       "      <td>5.139167</td>\n",
       "      <td>5.176949</td>\n",
       "      <td>5.137778</td>\n",
       "      <td>0.039171</td>\n",
       "      <td>0.120571</td>\n",
       "      <td>milho</td>\n",
       "      <td>compra</td>\n",
       "      <td>568354</td>\n",
       "    </tr>\n",
       "    <tr>\n",
       "      <th>2018-01-04</th>\n",
       "      <td>226</td>\n",
       "      <td>5.142143</td>\n",
       "      <td>5.181277</td>\n",
       "      <td>5.147013</td>\n",
       "      <td>0.034264</td>\n",
       "      <td>0.105326</td>\n",
       "      <td>acucar</td>\n",
       "      <td>compra</td>\n",
       "      <td>2902833</td>\n",
       "    </tr>\n",
       "    <tr>\n",
       "      <th>2018-01-12</th>\n",
       "      <td>91</td>\n",
       "      <td>5.107368</td>\n",
       "      <td>5.170101</td>\n",
       "      <td>5.145507</td>\n",
       "      <td>0.024594</td>\n",
       "      <td>0.075694</td>\n",
       "      <td>acucar</td>\n",
       "      <td>venda</td>\n",
       "      <td>4246822</td>\n",
       "    </tr>\n",
       "    <tr>\n",
       "      <th>2018-01-27</th>\n",
       "      <td>335</td>\n",
       "      <td>5.145294</td>\n",
       "      <td>5.178868</td>\n",
       "      <td>5.147179</td>\n",
       "      <td>0.031688</td>\n",
       "      <td>0.097431</td>\n",
       "      <td>milho</td>\n",
       "      <td>venda</td>\n",
       "      <td>2284834</td>\n",
       "    </tr>\n",
       "    <tr>\n",
       "      <th>...</th>\n",
       "      <td>...</td>\n",
       "      <td>...</td>\n",
       "      <td>...</td>\n",
       "      <td>...</td>\n",
       "      <td>...</td>\n",
       "      <td>...</td>\n",
       "      <td>...</td>\n",
       "      <td>...</td>\n",
       "      <td>...</td>\n",
       "    </tr>\n",
       "    <tr>\n",
       "      <th>2022-02-13</th>\n",
       "      <td>254</td>\n",
       "      <td>5.137778</td>\n",
       "      <td>5.171628</td>\n",
       "      <td>5.141818</td>\n",
       "      <td>0.029810</td>\n",
       "      <td>0.091767</td>\n",
       "      <td>milho</td>\n",
       "      <td>compra</td>\n",
       "      <td>5716385</td>\n",
       "    </tr>\n",
       "    <tr>\n",
       "      <th>2022-02-22</th>\n",
       "      <td>312</td>\n",
       "      <td>5.144615</td>\n",
       "      <td>5.189412</td>\n",
       "      <td>5.149583</td>\n",
       "      <td>0.039828</td>\n",
       "      <td>0.122305</td>\n",
       "      <td>milho</td>\n",
       "      <td>venda</td>\n",
       "      <td>7988150</td>\n",
       "    </tr>\n",
       "    <tr>\n",
       "      <th>2022-02-27</th>\n",
       "      <td>416</td>\n",
       "      <td>5.149474</td>\n",
       "      <td>5.180833</td>\n",
       "      <td>5.148889</td>\n",
       "      <td>0.031944</td>\n",
       "      <td>0.098183</td>\n",
       "      <td>milho</td>\n",
       "      <td>venda</td>\n",
       "      <td>3243526</td>\n",
       "    </tr>\n",
       "    <tr>\n",
       "      <th>2022-03-08</th>\n",
       "      <td>148</td>\n",
       "      <td>5.125517</td>\n",
       "      <td>5.189412</td>\n",
       "      <td>5.140392</td>\n",
       "      <td>0.049020</td>\n",
       "      <td>0.150663</td>\n",
       "      <td>acucar</td>\n",
       "      <td>compra</td>\n",
       "      <td>6889297</td>\n",
       "    </tr>\n",
       "    <tr>\n",
       "      <th>2022-03-09</th>\n",
       "      <td>85</td>\n",
       "      <td>5.137273</td>\n",
       "      <td>5.173889</td>\n",
       "      <td>5.149691</td>\n",
       "      <td>0.024198</td>\n",
       "      <td>0.074419</td>\n",
       "      <td>milho</td>\n",
       "      <td>compra</td>\n",
       "      <td>6025511</td>\n",
       "    </tr>\n",
       "  </tbody>\n",
       "</table>\n",
       "<p>199 rows × 9 columns</p>\n",
       "</div>"
      ],
      "text/plain": [
       "            prazo  usd_close  usd_high   usd_low  usd_ampl   usd_vol  produto  \\\n",
       "data                                                                            \n",
       "2018-01-01    259   5.142759  5.176949  5.148636  0.028313  0.087056    milho   \n",
       "2018-01-02    175   5.139167  5.176949  5.137778  0.039171  0.120571    milho   \n",
       "2018-01-04    226   5.142143  5.181277  5.147013  0.034264  0.105326  acucar    \n",
       "2018-01-12     91   5.107368  5.170101  5.145507  0.024594  0.075694  acucar    \n",
       "2018-01-27    335   5.145294  5.178868  5.147179  0.031688  0.097431    milho   \n",
       "...           ...        ...       ...       ...       ...       ...      ...   \n",
       "2022-02-13    254   5.137778  5.171628  5.141818  0.029810  0.091767    milho   \n",
       "2022-02-22    312   5.144615  5.189412  5.149583  0.039828  0.122305    milho   \n",
       "2022-02-27    416   5.149474  5.180833  5.148889  0.031944  0.098183    milho   \n",
       "2022-03-08    148   5.125517  5.189412  5.140392  0.049020  0.150663  acucar    \n",
       "2022-03-09     85   5.137273  5.173889  5.149691  0.024198  0.074419    milho   \n",
       "\n",
       "           operacao  volume_usd  \n",
       "data                             \n",
       "2018-01-01    venda     3841672  \n",
       "2018-01-02   compra      568354  \n",
       "2018-01-04   compra     2902833  \n",
       "2018-01-12    venda     4246822  \n",
       "2018-01-27    venda     2284834  \n",
       "...             ...         ...  \n",
       "2022-02-13   compra     5716385  \n",
       "2022-02-22    venda     7988150  \n",
       "2022-02-27    venda     3243526  \n",
       "2022-03-08   compra     6889297  \n",
       "2022-03-09   compra     6025511  \n",
       "\n",
       "[199 rows x 9 columns]"
      ]
     },
     "execution_count": 7,
     "metadata": {},
     "output_type": "execute_result"
    }
   ],
   "source": [
    "df_cmt"
   ]
  },
  {
   "cell_type": "code",
   "execution_count": 40,
   "id": "82a0bcf3",
   "metadata": {},
   "outputs": [],
   "source": [
    "df_cmt = df_cmt.groupby(['data','produto','operacao']).agg({'prazo':'mean','usd_close':'mean','usd_vol':'mean','volume_usd':'sum'}).reset_index()"
   ]
  },
  {
   "cell_type": "code",
   "execution_count": 41,
   "id": "bfaf19eb",
   "metadata": {},
   "outputs": [
    {
     "data": {
      "text/html": [
       "<div>\n",
       "<style scoped>\n",
       "    .dataframe tbody tr th:only-of-type {\n",
       "        vertical-align: middle;\n",
       "    }\n",
       "\n",
       "    .dataframe tbody tr th {\n",
       "        vertical-align: top;\n",
       "    }\n",
       "\n",
       "    .dataframe thead th {\n",
       "        text-align: right;\n",
       "    }\n",
       "</style>\n",
       "<table border=\"1\" class=\"dataframe\">\n",
       "  <thead>\n",
       "    <tr style=\"text-align: right;\">\n",
       "      <th></th>\n",
       "      <th>data</th>\n",
       "      <th>produto</th>\n",
       "      <th>operacao</th>\n",
       "      <th>prazo</th>\n",
       "      <th>usd_close</th>\n",
       "      <th>usd_vol</th>\n",
       "      <th>volume_usd</th>\n",
       "    </tr>\n",
       "  </thead>\n",
       "  <tbody>\n",
       "    <tr>\n",
       "      <th>0</th>\n",
       "      <td>2018-01-01</td>\n",
       "      <td>milho</td>\n",
       "      <td>venda</td>\n",
       "      <td>259.0</td>\n",
       "      <td>5.142759</td>\n",
       "      <td>0.087056</td>\n",
       "      <td>3841672</td>\n",
       "    </tr>\n",
       "    <tr>\n",
       "      <th>1</th>\n",
       "      <td>2018-01-02</td>\n",
       "      <td>milho</td>\n",
       "      <td>compra</td>\n",
       "      <td>175.0</td>\n",
       "      <td>5.139167</td>\n",
       "      <td>0.120571</td>\n",
       "      <td>568354</td>\n",
       "    </tr>\n",
       "    <tr>\n",
       "      <th>2</th>\n",
       "      <td>2018-01-04</td>\n",
       "      <td>acucar</td>\n",
       "      <td>compra</td>\n",
       "      <td>226.0</td>\n",
       "      <td>5.142143</td>\n",
       "      <td>0.105326</td>\n",
       "      <td>2902833</td>\n",
       "    </tr>\n",
       "    <tr>\n",
       "      <th>3</th>\n",
       "      <td>2018-01-12</td>\n",
       "      <td>acucar</td>\n",
       "      <td>venda</td>\n",
       "      <td>91.0</td>\n",
       "      <td>5.107368</td>\n",
       "      <td>0.075694</td>\n",
       "      <td>4246822</td>\n",
       "    </tr>\n",
       "    <tr>\n",
       "      <th>4</th>\n",
       "      <td>2018-01-27</td>\n",
       "      <td>milho</td>\n",
       "      <td>venda</td>\n",
       "      <td>335.0</td>\n",
       "      <td>5.145294</td>\n",
       "      <td>0.097431</td>\n",
       "      <td>2284834</td>\n",
       "    </tr>\n",
       "    <tr>\n",
       "      <th>...</th>\n",
       "      <td>...</td>\n",
       "      <td>...</td>\n",
       "      <td>...</td>\n",
       "      <td>...</td>\n",
       "      <td>...</td>\n",
       "      <td>...</td>\n",
       "      <td>...</td>\n",
       "    </tr>\n",
       "    <tr>\n",
       "      <th>190</th>\n",
       "      <td>2022-02-13</td>\n",
       "      <td>milho</td>\n",
       "      <td>compra</td>\n",
       "      <td>254.0</td>\n",
       "      <td>5.137778</td>\n",
       "      <td>0.091767</td>\n",
       "      <td>5716385</td>\n",
       "    </tr>\n",
       "    <tr>\n",
       "      <th>191</th>\n",
       "      <td>2022-02-22</td>\n",
       "      <td>milho</td>\n",
       "      <td>venda</td>\n",
       "      <td>312.0</td>\n",
       "      <td>5.144615</td>\n",
       "      <td>0.122305</td>\n",
       "      <td>7988150</td>\n",
       "    </tr>\n",
       "    <tr>\n",
       "      <th>192</th>\n",
       "      <td>2022-02-27</td>\n",
       "      <td>milho</td>\n",
       "      <td>venda</td>\n",
       "      <td>416.0</td>\n",
       "      <td>5.149474</td>\n",
       "      <td>0.098183</td>\n",
       "      <td>3243526</td>\n",
       "    </tr>\n",
       "    <tr>\n",
       "      <th>193</th>\n",
       "      <td>2022-03-08</td>\n",
       "      <td>acucar</td>\n",
       "      <td>compra</td>\n",
       "      <td>148.0</td>\n",
       "      <td>5.125517</td>\n",
       "      <td>0.150663</td>\n",
       "      <td>6889297</td>\n",
       "    </tr>\n",
       "    <tr>\n",
       "      <th>194</th>\n",
       "      <td>2022-03-09</td>\n",
       "      <td>milho</td>\n",
       "      <td>compra</td>\n",
       "      <td>85.0</td>\n",
       "      <td>5.137273</td>\n",
       "      <td>0.074419</td>\n",
       "      <td>6025511</td>\n",
       "    </tr>\n",
       "  </tbody>\n",
       "</table>\n",
       "<p>195 rows × 7 columns</p>\n",
       "</div>"
      ],
      "text/plain": [
       "          data  produto operacao  prazo  usd_close   usd_vol  volume_usd\n",
       "0   2018-01-01    milho    venda  259.0   5.142759  0.087056     3841672\n",
       "1   2018-01-02    milho   compra  175.0   5.139167  0.120571      568354\n",
       "2   2018-01-04  acucar    compra  226.0   5.142143  0.105326     2902833\n",
       "3   2018-01-12  acucar     venda   91.0   5.107368  0.075694     4246822\n",
       "4   2018-01-27    milho    venda  335.0   5.145294  0.097431     2284834\n",
       "..         ...      ...      ...    ...        ...       ...         ...\n",
       "190 2022-02-13    milho   compra  254.0   5.137778  0.091767     5716385\n",
       "191 2022-02-22    milho    venda  312.0   5.144615  0.122305     7988150\n",
       "192 2022-02-27    milho    venda  416.0   5.149474  0.098183     3243526\n",
       "193 2022-03-08  acucar    compra  148.0   5.125517  0.150663     6889297\n",
       "194 2022-03-09    milho   compra   85.0   5.137273  0.074419     6025511\n",
       "\n",
       "[195 rows x 7 columns]"
      ]
     },
     "execution_count": 41,
     "metadata": {},
     "output_type": "execute_result"
    }
   ],
   "source": [
    "df_cmt"
   ]
  },
  {
   "cell_type": "code",
   "execution_count": 42,
   "id": "4fee8f72",
   "metadata": {},
   "outputs": [],
   "source": [
    "df_cmt.set_index('data', inplace=True)"
   ]
  },
  {
   "cell_type": "code",
   "execution_count": 15,
   "id": "877fdb25",
   "metadata": {},
   "outputs": [],
   "source": [
    "#importando excel\n",
    "df_ml = pd.read_excel('usd_commodity.xlsx',sheet_name='milho', index_col='data')\n",
    "df_ac = pd.read_excel('usd_commodity.xlsx',sheet_name='acucar', index_col='data')\n",
    "df_al = pd.read_excel('usd_commodity.xlsx',sheet_name='aluminio', index_col='data')"
   ]
  },
  {
   "cell_type": "code",
   "execution_count": 65,
   "id": "8847b465",
   "metadata": {},
   "outputs": [
    {
     "data": {
      "text/html": [
       "<div>\n",
       "<style scoped>\n",
       "    .dataframe tbody tr th:only-of-type {\n",
       "        vertical-align: middle;\n",
       "    }\n",
       "\n",
       "    .dataframe tbody tr th {\n",
       "        vertical-align: top;\n",
       "    }\n",
       "\n",
       "    .dataframe thead th {\n",
       "        text-align: right;\n",
       "    }\n",
       "</style>\n",
       "<table border=\"1\" class=\"dataframe\">\n",
       "  <thead>\n",
       "    <tr style=\"text-align: right;\">\n",
       "      <th></th>\n",
       "      <th>ftr_al</th>\n",
       "    </tr>\n",
       "    <tr>\n",
       "      <th>data</th>\n",
       "      <th></th>\n",
       "    </tr>\n",
       "  </thead>\n",
       "  <tbody>\n",
       "    <tr>\n",
       "      <th>2018-01-01</th>\n",
       "      <td>16.378</td>\n",
       "    </tr>\n",
       "    <tr>\n",
       "      <th>2018-01-02</th>\n",
       "      <td>16.368</td>\n",
       "    </tr>\n",
       "    <tr>\n",
       "      <th>2018-01-03</th>\n",
       "      <td>16.418</td>\n",
       "    </tr>\n",
       "    <tr>\n",
       "      <th>2018-01-04</th>\n",
       "      <td>16.418</td>\n",
       "    </tr>\n",
       "    <tr>\n",
       "      <th>2018-01-05</th>\n",
       "      <td>16.368</td>\n",
       "    </tr>\n",
       "    <tr>\n",
       "      <th>...</th>\n",
       "      <td>...</td>\n",
       "    </tr>\n",
       "    <tr>\n",
       "      <th>2022-03-26</th>\n",
       "      <td>53.548</td>\n",
       "    </tr>\n",
       "    <tr>\n",
       "      <th>2022-03-27</th>\n",
       "      <td>53.498</td>\n",
       "    </tr>\n",
       "    <tr>\n",
       "      <th>2022-03-28</th>\n",
       "      <td>53.518</td>\n",
       "    </tr>\n",
       "    <tr>\n",
       "      <th>2022-03-29</th>\n",
       "      <td>53.528</td>\n",
       "    </tr>\n",
       "    <tr>\n",
       "      <th>2022-03-30</th>\n",
       "      <td>53.518</td>\n",
       "    </tr>\n",
       "  </tbody>\n",
       "</table>\n",
       "<p>1550 rows × 1 columns</p>\n",
       "</div>"
      ],
      "text/plain": [
       "            ftr_al\n",
       "data              \n",
       "2018-01-01  16.378\n",
       "2018-01-02  16.368\n",
       "2018-01-03  16.418\n",
       "2018-01-04  16.418\n",
       "2018-01-05  16.368\n",
       "...            ...\n",
       "2022-03-26  53.548\n",
       "2022-03-27  53.498\n",
       "2022-03-28  53.518\n",
       "2022-03-29  53.528\n",
       "2022-03-30  53.518\n",
       "\n",
       "[1550 rows x 1 columns]"
      ]
     },
     "execution_count": 65,
     "metadata": {},
     "output_type": "execute_result"
    }
   ],
   "source": [
    "df_al"
   ]
  },
  {
   "cell_type": "code",
   "execution_count": 54,
   "id": "f769378b",
   "metadata": {},
   "outputs": [
    {
     "data": {
      "text/html": [
       "<div>\n",
       "<style scoped>\n",
       "    .dataframe tbody tr th:only-of-type {\n",
       "        vertical-align: middle;\n",
       "    }\n",
       "\n",
       "    .dataframe tbody tr th {\n",
       "        vertical-align: top;\n",
       "    }\n",
       "\n",
       "    .dataframe thead th {\n",
       "        text-align: right;\n",
       "    }\n",
       "</style>\n",
       "<table border=\"1\" class=\"dataframe\">\n",
       "  <thead>\n",
       "    <tr style=\"text-align: right;\">\n",
       "      <th></th>\n",
       "      <th>produto</th>\n",
       "      <th>operacao</th>\n",
       "      <th>prazo</th>\n",
       "      <th>usd_close</th>\n",
       "      <th>usd_vol</th>\n",
       "      <th>volume_usd</th>\n",
       "      <th>1_ftr_ac</th>\n",
       "    </tr>\n",
       "    <tr>\n",
       "      <th>data</th>\n",
       "      <th></th>\n",
       "      <th></th>\n",
       "      <th></th>\n",
       "      <th></th>\n",
       "      <th></th>\n",
       "      <th></th>\n",
       "      <th></th>\n",
       "    </tr>\n",
       "  </thead>\n",
       "  <tbody>\n",
       "    <tr>\n",
       "      <th>2018-01-01</th>\n",
       "      <td>milho</td>\n",
       "      <td>venda</td>\n",
       "      <td>259.0</td>\n",
       "      <td>5.142759</td>\n",
       "      <td>0.087056</td>\n",
       "      <td>3841672</td>\n",
       "      <td>15.56</td>\n",
       "    </tr>\n",
       "    <tr>\n",
       "      <th>2018-01-02</th>\n",
       "      <td>milho</td>\n",
       "      <td>compra</td>\n",
       "      <td>175.0</td>\n",
       "      <td>5.139167</td>\n",
       "      <td>0.120571</td>\n",
       "      <td>568354</td>\n",
       "      <td>15.58</td>\n",
       "    </tr>\n",
       "    <tr>\n",
       "      <th>2018-01-04</th>\n",
       "      <td>acucar</td>\n",
       "      <td>compra</td>\n",
       "      <td>226.0</td>\n",
       "      <td>5.142143</td>\n",
       "      <td>0.105326</td>\n",
       "      <td>2902833</td>\n",
       "      <td>15.52</td>\n",
       "    </tr>\n",
       "    <tr>\n",
       "      <th>2018-01-12</th>\n",
       "      <td>acucar</td>\n",
       "      <td>venda</td>\n",
       "      <td>91.0</td>\n",
       "      <td>5.107368</td>\n",
       "      <td>0.075694</td>\n",
       "      <td>4246822</td>\n",
       "      <td>15.96</td>\n",
       "    </tr>\n",
       "    <tr>\n",
       "      <th>2018-01-27</th>\n",
       "      <td>milho</td>\n",
       "      <td>venda</td>\n",
       "      <td>335.0</td>\n",
       "      <td>5.145294</td>\n",
       "      <td>0.097431</td>\n",
       "      <td>2284834</td>\n",
       "      <td>16.46</td>\n",
       "    </tr>\n",
       "    <tr>\n",
       "      <th>...</th>\n",
       "      <td>...</td>\n",
       "      <td>...</td>\n",
       "      <td>...</td>\n",
       "      <td>...</td>\n",
       "      <td>...</td>\n",
       "      <td>...</td>\n",
       "      <td>...</td>\n",
       "    </tr>\n",
       "    <tr>\n",
       "      <th>2022-02-13</th>\n",
       "      <td>milho</td>\n",
       "      <td>compra</td>\n",
       "      <td>254.0</td>\n",
       "      <td>5.137778</td>\n",
       "      <td>0.091767</td>\n",
       "      <td>5716385</td>\n",
       "      <td>51.12</td>\n",
       "    </tr>\n",
       "    <tr>\n",
       "      <th>2022-02-22</th>\n",
       "      <td>milho</td>\n",
       "      <td>venda</td>\n",
       "      <td>312.0</td>\n",
       "      <td>5.144615</td>\n",
       "      <td>0.122305</td>\n",
       "      <td>7988150</td>\n",
       "      <td>51.39</td>\n",
       "    </tr>\n",
       "    <tr>\n",
       "      <th>2022-02-27</th>\n",
       "      <td>milho</td>\n",
       "      <td>venda</td>\n",
       "      <td>416.0</td>\n",
       "      <td>5.149474</td>\n",
       "      <td>0.098183</td>\n",
       "      <td>3243526</td>\n",
       "      <td>51.52</td>\n",
       "    </tr>\n",
       "    <tr>\n",
       "      <th>2022-03-08</th>\n",
       "      <td>acucar</td>\n",
       "      <td>compra</td>\n",
       "      <td>148.0</td>\n",
       "      <td>5.125517</td>\n",
       "      <td>0.150663</td>\n",
       "      <td>6889297</td>\n",
       "      <td>51.60</td>\n",
       "    </tr>\n",
       "    <tr>\n",
       "      <th>2022-03-09</th>\n",
       "      <td>milho</td>\n",
       "      <td>compra</td>\n",
       "      <td>85.0</td>\n",
       "      <td>5.137273</td>\n",
       "      <td>0.074419</td>\n",
       "      <td>6025511</td>\n",
       "      <td>51.67</td>\n",
       "    </tr>\n",
       "  </tbody>\n",
       "</table>\n",
       "<p>195 rows × 7 columns</p>\n",
       "</div>"
      ],
      "text/plain": [
       "            produto operacao  prazo  usd_close   usd_vol  volume_usd  1_ftr_ac\n",
       "data                                                                          \n",
       "2018-01-01    milho    venda  259.0   5.142759  0.087056     3841672     15.56\n",
       "2018-01-02    milho   compra  175.0   5.139167  0.120571      568354     15.58\n",
       "2018-01-04  acucar    compra  226.0   5.142143  0.105326     2902833     15.52\n",
       "2018-01-12  acucar     venda   91.0   5.107368  0.075694     4246822     15.96\n",
       "2018-01-27    milho    venda  335.0   5.145294  0.097431     2284834     16.46\n",
       "...             ...      ...    ...        ...       ...         ...       ...\n",
       "2022-02-13    milho   compra  254.0   5.137778  0.091767     5716385     51.12\n",
       "2022-02-22    milho    venda  312.0   5.144615  0.122305     7988150     51.39\n",
       "2022-02-27    milho    venda  416.0   5.149474  0.098183     3243526     51.52\n",
       "2022-03-08  acucar    compra  148.0   5.125517  0.150663     6889297     51.60\n",
       "2022-03-09    milho   compra   85.0   5.137273  0.074419     6025511     51.67\n",
       "\n",
       "[195 rows x 7 columns]"
      ]
     },
     "execution_count": 54,
     "metadata": {},
     "output_type": "execute_result"
    }
   ],
   "source": [
    "df_cmt"
   ]
  },
  {
   "cell_type": "code",
   "execution_count": 66,
   "id": "1c48d762",
   "metadata": {},
   "outputs": [],
   "source": [
    "#condition = [(df_cmt['produto']=='acucar'),(df_cmt['produto']=='aluminio'),(df_cmt['produto']=='milho')]\n",
    "#choise = [df_ac['ftr_ac'],df_al['ftr_al'],df_ml['ftr_ml']]\n",
    "#df_cmt['1_ftr'] = np.select(condition, choise)"
   ]
  },
  {
   "cell_type": "code",
   "execution_count": 55,
   "id": "f123c644",
   "metadata": {},
   "outputs": [],
   "source": [
    "#df_cmt.drop(columns=['1_ftr_ac'], inplace=True)"
   ]
  },
  {
   "cell_type": "code",
   "execution_count": 88,
   "id": "1ed50783",
   "metadata": {},
   "outputs": [
    {
     "data": {
      "text/html": [
       "        <script type=\"text/javascript\">\n",
       "        window.PlotlyConfig = {MathJaxConfig: 'local'};\n",
       "        if (window.MathJax) {MathJax.Hub.Config({SVG: {font: \"STIX-Web\"}});}\n",
       "        if (typeof require !== 'undefined') {\n",
       "        require.undef(\"plotly\");\n",
       "        requirejs.config({\n",
       "            paths: {\n",
       "                'plotly': ['https://cdn.plot.ly/plotly-2.9.0.min']\n",
       "            }\n",
       "        });\n",
       "        require(['plotly'], function(Plotly) {\n",
       "            window._Plotly = Plotly;\n",
       "        });\n",
       "        }\n",
       "        </script>\n",
       "        "
      ]
     },
     "metadata": {},
     "output_type": "display_data"
    }
   ],
   "source": [
    "#importar o modo offline\n",
    "import plotly\n",
    "import plotly.offline as py\n",
    "from plotly.offline import plot, iplot\n",
    "import plotly.graph_objs as go\n",
    "plotly.offline.init_notebook_mode(connected=True)"
   ]
  },
  {
   "cell_type": "code",
   "execution_count": 89,
   "id": "f65b7c8d",
   "metadata": {},
   "outputs": [
    {
     "data": {
      "text/plain": [
       "Renderers configuration\n",
       "-----------------------\n",
       "    Default renderer: 'plotly_mimetype+notebook_connected'\n",
       "    Available renderers:\n",
       "        ['plotly_mimetype', 'jupyterlab', 'nteract', 'vscode',\n",
       "         'notebook', 'notebook_connected', 'kaggle', 'azure', 'colab',\n",
       "         'cocalc', 'databricks', 'json', 'png', 'jpeg', 'jpg', 'svg',\n",
       "         'pdf', 'browser', 'firefox', 'chrome', 'chromium', 'iframe',\n",
       "         'iframe_connected', 'sphinx_gallery', 'sphinx_gallery_png']"
      ]
     },
     "execution_count": 89,
     "metadata": {},
     "output_type": "execute_result"
    }
   ],
   "source": [
    "import plotly.io as pio\n",
    "pio.renderers"
   ]
  },
  {
   "cell_type": "code",
   "execution_count": 111,
   "id": "5a4352cf",
   "metadata": {},
   "outputs": [],
   "source": [
    "rol_usd = df_cmt.usd_close.rolling(5).mean()"
   ]
  },
  {
   "cell_type": "code",
   "execution_count": 112,
   "id": "75a19c4a",
   "metadata": {},
   "outputs": [
    {
     "data": {
      "text/plain": [
       "data\n",
       "2018-01-01         NaN\n",
       "2018-01-02         NaN\n",
       "2018-01-04         NaN\n",
       "2018-01-12         NaN\n",
       "2018-01-27    5.135346\n",
       "                ...   \n",
       "2022-02-13    5.141916\n",
       "2022-02-22    5.140989\n",
       "2022-02-27    5.142332\n",
       "2022-03-08    5.140699\n",
       "2022-03-09    5.138931\n",
       "Name: usd_close, Length: 195, dtype: float64"
      ]
     },
     "execution_count": 112,
     "metadata": {},
     "output_type": "execute_result"
    }
   ],
   "source": [
    "rol_usd"
   ]
  },
  {
   "cell_type": "code",
   "execution_count": 113,
   "id": "09101e72",
   "metadata": {},
   "outputs": [
    {
     "data": {
      "application/vnd.plotly.v1+json": {
       "config": {
        "linkText": "Export to plot.ly",
        "plotlyServerURL": "https://plot.ly",
        "showLink": false
       },
       "data": [
        {
         "name": "USD Close",
         "type": "scatter",
         "x": [
          "2018-01-01T00:00:00",
          "2018-01-02T00:00:00",
          "2018-01-04T00:00:00",
          "2018-01-12T00:00:00",
          "2018-01-27T00:00:00",
          "2018-01-29T00:00:00",
          "2018-02-17T00:00:00",
          "2018-02-17T00:00:00",
          "2018-03-03T00:00:00",
          "2018-03-05T00:00:00",
          "2018-03-17T00:00:00",
          "2018-03-27T00:00:00",
          "2018-03-30T00:00:00",
          "2018-04-05T00:00:00",
          "2018-04-06T00:00:00",
          "2018-04-24T00:00:00",
          "2018-04-24T00:00:00",
          "2018-05-10T00:00:00",
          "2018-05-25T00:00:00",
          "2018-05-31T00:00:00",
          "2018-06-12T00:00:00",
          "2018-07-28T00:00:00",
          "2018-07-28T00:00:00",
          "2018-08-06T00:00:00",
          "2018-08-13T00:00:00",
          "2018-08-13T00:00:00",
          "2018-08-16T00:00:00",
          "2018-08-16T00:00:00",
          "2018-08-26T00:00:00",
          "2018-08-26T00:00:00",
          "2018-08-30T00:00:00",
          "2018-09-03T00:00:00",
          "2018-09-05T00:00:00",
          "2018-09-07T00:00:00",
          "2018-09-20T00:00:00",
          "2018-09-21T00:00:00",
          "2018-09-25T00:00:00",
          "2018-10-22T00:00:00",
          "2018-10-24T00:00:00",
          "2018-11-15T00:00:00",
          "2018-11-19T00:00:00",
          "2018-12-03T00:00:00",
          "2018-12-10T00:00:00",
          "2018-12-10T00:00:00",
          "2018-12-15T00:00:00",
          "2019-01-20T00:00:00",
          "2019-02-07T00:00:00",
          "2019-02-10T00:00:00",
          "2019-02-10T00:00:00",
          "2019-02-12T00:00:00",
          "2019-02-20T00:00:00",
          "2019-02-24T00:00:00",
          "2019-03-12T00:00:00",
          "2019-03-12T00:00:00",
          "2019-04-05T00:00:00",
          "2019-04-06T00:00:00",
          "2019-04-21T00:00:00",
          "2019-04-26T00:00:00",
          "2019-05-04T00:00:00",
          "2019-05-08T00:00:00",
          "2019-05-15T00:00:00",
          "2019-05-30T00:00:00",
          "2019-07-21T00:00:00",
          "2019-07-30T00:00:00",
          "2019-07-31T00:00:00",
          "2019-08-19T00:00:00",
          "2019-08-21T00:00:00",
          "2019-08-31T00:00:00",
          "2019-09-07T00:00:00",
          "2019-09-10T00:00:00",
          "2019-09-15T00:00:00",
          "2019-09-25T00:00:00",
          "2019-10-01T00:00:00",
          "2019-10-08T00:00:00",
          "2019-10-27T00:00:00",
          "2019-11-11T00:00:00",
          "2019-11-23T00:00:00",
          "2019-11-28T00:00:00",
          "2019-12-27T00:00:00",
          "2019-12-28T00:00:00",
          "2020-01-07T00:00:00",
          "2020-01-13T00:00:00",
          "2020-01-25T00:00:00",
          "2020-02-04T00:00:00",
          "2020-02-10T00:00:00",
          "2020-02-11T00:00:00",
          "2020-02-11T00:00:00",
          "2020-02-23T00:00:00",
          "2020-02-26T00:00:00",
          "2020-03-05T00:00:00",
          "2020-03-10T00:00:00",
          "2020-03-11T00:00:00",
          "2020-03-13T00:00:00",
          "2020-03-14T00:00:00",
          "2020-03-15T00:00:00",
          "2020-03-20T00:00:00",
          "2020-03-22T00:00:00",
          "2020-03-23T00:00:00",
          "2020-03-28T00:00:00",
          "2020-04-05T00:00:00",
          "2020-04-09T00:00:00",
          "2020-04-13T00:00:00",
          "2020-04-19T00:00:00",
          "2020-04-22T00:00:00",
          "2020-04-28T00:00:00",
          "2020-04-29T00:00:00",
          "2020-05-02T00:00:00",
          "2020-05-20T00:00:00",
          "2020-05-22T00:00:00",
          "2020-06-01T00:00:00",
          "2020-06-23T00:00:00",
          "2020-07-02T00:00:00",
          "2020-07-04T00:00:00",
          "2020-07-04T00:00:00",
          "2020-07-04T00:00:00",
          "2020-07-25T00:00:00",
          "2020-07-26T00:00:00",
          "2020-08-12T00:00:00",
          "2020-08-23T00:00:00",
          "2020-08-25T00:00:00",
          "2020-08-27T00:00:00",
          "2020-08-27T00:00:00",
          "2020-09-10T00:00:00",
          "2020-09-16T00:00:00",
          "2020-09-28T00:00:00",
          "2020-10-07T00:00:00",
          "2020-10-10T00:00:00",
          "2020-10-16T00:00:00",
          "2020-10-16T00:00:00",
          "2020-10-18T00:00:00",
          "2020-10-19T00:00:00",
          "2020-10-23T00:00:00",
          "2020-10-27T00:00:00",
          "2020-11-05T00:00:00",
          "2020-11-21T00:00:00",
          "2020-11-23T00:00:00",
          "2020-12-02T00:00:00",
          "2020-12-15T00:00:00",
          "2020-12-19T00:00:00",
          "2020-12-21T00:00:00",
          "2020-12-25T00:00:00",
          "2020-12-25T00:00:00",
          "2021-01-07T00:00:00",
          "2021-01-08T00:00:00",
          "2021-01-14T00:00:00",
          "2021-01-30T00:00:00",
          "2021-01-31T00:00:00",
          "2021-02-10T00:00:00",
          "2021-02-15T00:00:00",
          "2021-02-24T00:00:00",
          "2021-02-26T00:00:00",
          "2021-03-09T00:00:00",
          "2021-03-11T00:00:00",
          "2021-03-15T00:00:00",
          "2021-03-24T00:00:00",
          "2021-03-28T00:00:00",
          "2021-04-01T00:00:00",
          "2021-04-04T00:00:00",
          "2021-04-08T00:00:00",
          "2021-04-15T00:00:00",
          "2021-04-24T00:00:00",
          "2021-05-18T00:00:00",
          "2021-05-22T00:00:00",
          "2021-05-25T00:00:00",
          "2021-05-27T00:00:00",
          "2021-05-29T00:00:00",
          "2021-06-05T00:00:00",
          "2021-06-10T00:00:00",
          "2021-06-25T00:00:00",
          "2021-06-25T00:00:00",
          "2021-06-28T00:00:00",
          "2021-07-19T00:00:00",
          "2021-07-28T00:00:00",
          "2021-07-30T00:00:00",
          "2021-08-06T00:00:00",
          "2021-08-27T00:00:00",
          "2021-08-28T00:00:00",
          "2021-09-22T00:00:00",
          "2021-09-26T00:00:00",
          "2021-10-10T00:00:00",
          "2021-10-27T00:00:00",
          "2021-10-31T00:00:00",
          "2021-11-13T00:00:00",
          "2021-11-28T00:00:00",
          "2021-12-22T00:00:00",
          "2021-12-25T00:00:00",
          "2021-12-28T00:00:00",
          "2021-12-29T00:00:00",
          "2022-02-02T00:00:00",
          "2022-02-04T00:00:00",
          "2022-02-13T00:00:00",
          "2022-02-22T00:00:00",
          "2022-02-27T00:00:00",
          "2022-03-08T00:00:00",
          "2022-03-09T00:00:00"
         ],
         "y": [
          5.142758620689655,
          5.139166666666667,
          5.142142857142857,
          5.107368421052632,
          5.145294117647059,
          5.149473684210527,
          5.145294117647059,
          5.144615384615385,
          5.127741935483871,
          5.14876404494382,
          5.130588235294118,
          5.145507246376812,
          5.149583333333333,
          5.149583333333333,
          5.142456140350878,
          5.1242857142857146,
          5.107368421052632,
          5.1466666666666665,
          5.141818181818182,
          5.149010989010989,
          5.140000000000001,
          5.14876404494382,
          5.12,
          5.140769230769231,
          5.141818181818182,
          5.146301369863014,
          5.147951807228916,
          5.076666666666667,
          5.144848484848485,
          5.114545454545454,
          5.140769230769231,
          5.144615384615385,
          5.112380952380953,
          5.101176470588236,
          5.12969696969697,
          5.144375,
          5.146486486486487,
          5.148235294117647,
          5.142758620689655,
          5.147179487179487,
          5.107368421052632,
          5.145915492957746,
          5.1466666666666665,
          5.149130434782609,
          5.15,
          5.133684210526316,
          5.14936170212766,
          5.1433333333333335,
          5.149795918367347,
          5.1433333333333335,
          5.145915492957746,
          5.147012987012987,
          5.149690721649485,
          5.13872340425532,
          5.1322222222222225,
          5.12875,
          5.138260869565218,
          5.146842105263158,
          5.143108935128519,
          5.1466666666666665,
          5.076666666666667,
          5.139166666666667,
          5.1436065573770495,
          5.1436065573770495,
          5.148888888888889,
          5.140000000000001,
          5.13872340425532,
          5.12,
          5.12969696969697,
          5.147951807228916,
          5.1433333333333335,
          5.148095238095238,
          5.162044525215811,
          5.147218164496666,
          5.148372093023256,
          5.1450746268656715,
          5.149583333333333,
          5.1433333333333335,
          5.146301369863014,
          5.107368421052632,
          5.107368421052632,
          5.122962962962963,
          5.1475,
          5.138260869565218,
          5.139591836734694,
          5.148888888888889,
          5.149473684210527,
          5.149690721649485,
          5.142456140350878,
          5.1475,
          5.144126984126984,
          5.146111111111111,
          5.144375,
          5.131428571428572,
          5.149473684210527,
          5.149583333333333,
          5.1433333333333335,
          5.146842105263158,
          5.146927546138072,
          5.116521739130435,
          5.133684210526316,
          5.113153153153153,
          5.104444444444445,
          5.140000000000001,
          5.14936170212766,
          5.149130434782609,
          5.093333333333334,
          5.0830769230769235,
          5.148095238095238,
          5.12875,
          5.0600000000000005,
          5.126666666666667,
          5.135609756097561,
          5.147012987012987,
          5.132972972972973,
          5.104444444444445,
          5.136190476190476,
          5.121538461538462,
          5.076666666666667,
          5.149247311827957,
          5.11,
          5.1466666666666665,
          5.112380952380953,
          5.137777777777778,
          5.14876404494382,
          5.116521739130435,
          5.148372093023256,
          5.0830769230769235,
          5.12,
          5.145507246376812,
          5.14876404494382,
          5.148235294117647,
          5.135,
          5.145294117647059,
          5.141481481481482,
          5.11,
          5.114545454545454,
          5.147341772151899,
          5.12969696969697,
          5.1450746268656715,
          5.1486363636363635,
          5.114545454545454,
          5.147951807228916,
          5.147341772151899,
          5.137272727272728,
          5.130588235294118,
          5.149473684210527,
          5.147179487179487,
          5.135,
          5.148095238095238,
          5.146111111111111,
          5.0830769230769235,
          5.145507246376812,
          5.140000000000001,
          5.136190476190476,
          5.135,
          5.069090909090909,
          5.147951807228916,
          5.112380952380953,
          5.143050847457627,
          5.147179487179487,
          5.14876404494382,
          5.135609756097561,
          5.14989898989899,
          5.14876404494382,
          5.135,
          5.145294117647059,
          5.1242857142857146,
          5.147341772151899,
          5.130588235294118,
          5.121538461538462,
          5.143870967741935,
          5.0975,
          5.0600000000000005,
          5.1466666666666665,
          5.135,
          5.142456140350878,
          5.146111111111111,
          5.088571428571429,
          5.134358974358975,
          5.0830769230769235,
          5.125517241379311,
          5.137272727272728,
          5.149583333333333,
          5.144375,
          5.104444444444445,
          5.149247311827957,
          5.142758620689655,
          5.133684210526316,
          5.146111111111111,
          5.137777777777778,
          5.144615384615385,
          5.149473684210527,
          5.125517241379311,
          5.137272727272728
         ]
        },
        {
         "name": "Média móvel 5 dias",
         "type": "scatter",
         "x": [
          "2018-01-01T00:00:00",
          "2018-01-02T00:00:00",
          "2018-01-04T00:00:00",
          "2018-01-12T00:00:00",
          "2018-01-27T00:00:00",
          "2018-01-29T00:00:00",
          "2018-02-17T00:00:00",
          "2018-02-17T00:00:00",
          "2018-03-03T00:00:00",
          "2018-03-05T00:00:00",
          "2018-03-17T00:00:00",
          "2018-03-27T00:00:00",
          "2018-03-30T00:00:00",
          "2018-04-05T00:00:00",
          "2018-04-06T00:00:00",
          "2018-04-24T00:00:00",
          "2018-04-24T00:00:00",
          "2018-05-10T00:00:00",
          "2018-05-25T00:00:00",
          "2018-05-31T00:00:00",
          "2018-06-12T00:00:00",
          "2018-07-28T00:00:00",
          "2018-07-28T00:00:00",
          "2018-08-06T00:00:00",
          "2018-08-13T00:00:00",
          "2018-08-13T00:00:00",
          "2018-08-16T00:00:00",
          "2018-08-16T00:00:00",
          "2018-08-26T00:00:00",
          "2018-08-26T00:00:00",
          "2018-08-30T00:00:00",
          "2018-09-03T00:00:00",
          "2018-09-05T00:00:00",
          "2018-09-07T00:00:00",
          "2018-09-20T00:00:00",
          "2018-09-21T00:00:00",
          "2018-09-25T00:00:00",
          "2018-10-22T00:00:00",
          "2018-10-24T00:00:00",
          "2018-11-15T00:00:00",
          "2018-11-19T00:00:00",
          "2018-12-03T00:00:00",
          "2018-12-10T00:00:00",
          "2018-12-10T00:00:00",
          "2018-12-15T00:00:00",
          "2019-01-20T00:00:00",
          "2019-02-07T00:00:00",
          "2019-02-10T00:00:00",
          "2019-02-10T00:00:00",
          "2019-02-12T00:00:00",
          "2019-02-20T00:00:00",
          "2019-02-24T00:00:00",
          "2019-03-12T00:00:00",
          "2019-03-12T00:00:00",
          "2019-04-05T00:00:00",
          "2019-04-06T00:00:00",
          "2019-04-21T00:00:00",
          "2019-04-26T00:00:00",
          "2019-05-04T00:00:00",
          "2019-05-08T00:00:00",
          "2019-05-15T00:00:00",
          "2019-05-30T00:00:00",
          "2019-07-21T00:00:00",
          "2019-07-30T00:00:00",
          "2019-07-31T00:00:00",
          "2019-08-19T00:00:00",
          "2019-08-21T00:00:00",
          "2019-08-31T00:00:00",
          "2019-09-07T00:00:00",
          "2019-09-10T00:00:00",
          "2019-09-15T00:00:00",
          "2019-09-25T00:00:00",
          "2019-10-01T00:00:00",
          "2019-10-08T00:00:00",
          "2019-10-27T00:00:00",
          "2019-11-11T00:00:00",
          "2019-11-23T00:00:00",
          "2019-11-28T00:00:00",
          "2019-12-27T00:00:00",
          "2019-12-28T00:00:00",
          "2020-01-07T00:00:00",
          "2020-01-13T00:00:00",
          "2020-01-25T00:00:00",
          "2020-02-04T00:00:00",
          "2020-02-10T00:00:00",
          "2020-02-11T00:00:00",
          "2020-02-11T00:00:00",
          "2020-02-23T00:00:00",
          "2020-02-26T00:00:00",
          "2020-03-05T00:00:00",
          "2020-03-10T00:00:00",
          "2020-03-11T00:00:00",
          "2020-03-13T00:00:00",
          "2020-03-14T00:00:00",
          "2020-03-15T00:00:00",
          "2020-03-20T00:00:00",
          "2020-03-22T00:00:00",
          "2020-03-23T00:00:00",
          "2020-03-28T00:00:00",
          "2020-04-05T00:00:00",
          "2020-04-09T00:00:00",
          "2020-04-13T00:00:00",
          "2020-04-19T00:00:00",
          "2020-04-22T00:00:00",
          "2020-04-28T00:00:00",
          "2020-04-29T00:00:00",
          "2020-05-02T00:00:00",
          "2020-05-20T00:00:00",
          "2020-05-22T00:00:00",
          "2020-06-01T00:00:00",
          "2020-06-23T00:00:00",
          "2020-07-02T00:00:00",
          "2020-07-04T00:00:00",
          "2020-07-04T00:00:00",
          "2020-07-04T00:00:00",
          "2020-07-25T00:00:00",
          "2020-07-26T00:00:00",
          "2020-08-12T00:00:00",
          "2020-08-23T00:00:00",
          "2020-08-25T00:00:00",
          "2020-08-27T00:00:00",
          "2020-08-27T00:00:00",
          "2020-09-10T00:00:00",
          "2020-09-16T00:00:00",
          "2020-09-28T00:00:00",
          "2020-10-07T00:00:00",
          "2020-10-10T00:00:00",
          "2020-10-16T00:00:00",
          "2020-10-16T00:00:00",
          "2020-10-18T00:00:00",
          "2020-10-19T00:00:00",
          "2020-10-23T00:00:00",
          "2020-10-27T00:00:00",
          "2020-11-05T00:00:00",
          "2020-11-21T00:00:00",
          "2020-11-23T00:00:00",
          "2020-12-02T00:00:00",
          "2020-12-15T00:00:00",
          "2020-12-19T00:00:00",
          "2020-12-21T00:00:00",
          "2020-12-25T00:00:00",
          "2020-12-25T00:00:00",
          "2021-01-07T00:00:00",
          "2021-01-08T00:00:00",
          "2021-01-14T00:00:00",
          "2021-01-30T00:00:00",
          "2021-01-31T00:00:00",
          "2021-02-10T00:00:00",
          "2021-02-15T00:00:00",
          "2021-02-24T00:00:00",
          "2021-02-26T00:00:00",
          "2021-03-09T00:00:00",
          "2021-03-11T00:00:00",
          "2021-03-15T00:00:00",
          "2021-03-24T00:00:00",
          "2021-03-28T00:00:00",
          "2021-04-01T00:00:00",
          "2021-04-04T00:00:00",
          "2021-04-08T00:00:00",
          "2021-04-15T00:00:00",
          "2021-04-24T00:00:00",
          "2021-05-18T00:00:00",
          "2021-05-22T00:00:00",
          "2021-05-25T00:00:00",
          "2021-05-27T00:00:00",
          "2021-05-29T00:00:00",
          "2021-06-05T00:00:00",
          "2021-06-10T00:00:00",
          "2021-06-25T00:00:00",
          "2021-06-25T00:00:00",
          "2021-06-28T00:00:00",
          "2021-07-19T00:00:00",
          "2021-07-28T00:00:00",
          "2021-07-30T00:00:00",
          "2021-08-06T00:00:00",
          "2021-08-27T00:00:00",
          "2021-08-28T00:00:00",
          "2021-09-22T00:00:00",
          "2021-09-26T00:00:00",
          "2021-10-10T00:00:00",
          "2021-10-27T00:00:00",
          "2021-10-31T00:00:00",
          "2021-11-13T00:00:00",
          "2021-11-28T00:00:00",
          "2021-12-22T00:00:00",
          "2021-12-25T00:00:00",
          "2021-12-28T00:00:00",
          "2021-12-29T00:00:00",
          "2022-02-02T00:00:00",
          "2022-02-04T00:00:00",
          "2022-02-13T00:00:00",
          "2022-02-22T00:00:00",
          "2022-02-27T00:00:00",
          "2022-03-08T00:00:00",
          "2022-03-09T00:00:00"
         ],
         "y": [
          null,
          null,
          null,
          null,
          5.1353461366397735,
          5.136689149343948,
          5.137914639540027,
          5.138409145034532,
          5.14248384792078,
          5.143177833380133,
          5.13940074359685,
          5.139443369342801,
          5.140436959086391,
          5.144805238656284,
          5.143543657737695,
          5.142283153536014,
          5.134655388471178,
          5.134072055137845,
          5.1325190248348145,
          5.133829994566836,
          5.136972851709694,
          5.145251976487932,
          5.139918643154599,
          5.139708852944809,
          5.138270291506247,
          5.139530565478849,
          5.139368117935868,
          5.130701451269202,
          5.131517302085053,
          5.126062756630508,
          5.12495632881175,
          5.1242890442890445,
          5.131431901431902,
          5.122697498579852,
          5.125727801610155,
          5.126448955456309,
          5.126823175830529,
          5.133994044177868,
          5.142310474198152,
          5.145806977694655,
          5.138405661905182,
          5.138291463199433,
          5.137977737709237,
          5.139252100527829,
          5.1398162030919305,
          5.145079360986667,
          5.145768602820651,
          5.145101936153983,
          5.145235032870931,
          5.143901699537598,
          5.146347956023884,
          5.14587821300095,
          5.14714969066418,
          5.144935187841774,
          5.142712965619552,
          5.139279867028002,
          5.137529443538449,
          5.136959720261183,
          5.137836826435824,
          5.140725715324712,
          5.130309048658046,
          5.130490208078336,
          5.129843098501114,
          5.12994262295082,
          5.130387067395264,
          5.143053734061931,
          5.1429650815796615,
          5.138243770104252,
          5.135461852568236,
          5.135274436236242,
          5.135941102902907,
          5.137815469670892,
          5.146224374714054,
          5.149728613673993,
          5.14981267083286,
          5.150160929539328,
          5.150458548586947,
          5.146716310210452,
          5.146532951283722,
          5.138332216889597,
          5.130790975726989,
          5.125466901652915,
          5.126300234986248,
          5.124692134926689,
          5.131136818063101,
          5.139440911630353,
          5.144743055879866,
          5.1451812002097626,
          5.146020254366894,
          5.147601887019955,
          5.1466495060675745,
          5.145976991447691,
          5.144913847117794,
          5.142708333333333,
          5.143103070175439,
          5.144194340016709,
          5.143638784461153,
          5.144132205513785,
          5.147232000455685,
          5.1406416114396665,
          5.137461786878264,
          5.131425750842228,
          5.122946218678484,
          5.12156070945087,
          5.128128702050315,
          5.1312179469015735,
          5.12725398293761,
          5.122980478664106,
          5.124599526283153,
          5.120477185857621,
          5.102651098901099,
          5.1093177655677655,
          5.119824332171893,
          5.119607881955443,
          5.120452476550038,
          5.129341365438926,
          5.1312461273436885,
          5.128431868431869,
          5.114362604362605,
          5.117617472133601,
          5.118728583244712,
          5.120823821339951,
          5.118992319508449,
          5.131214541730671,
          5.1311178883538435,
          5.132422236179931,
          5.1327633214512485,
          5.126902515590443,
          5.123346960034887,
          5.122695600321485,
          5.129144061484162,
          5.12911670170304,
          5.139501317087656,
          5.144560140617068,
          5.143754987638001,
          5.136002178649238,
          5.129264210734799,
          5.131732565165178,
          5.1286131355751605,
          5.129331764651999,
          5.137059037379272,
          5.137059037379272,
          5.137181044394675,
          5.140710004885661,
          5.139149624967072,
          5.135539999298624,
          5.142525645231638,
          5.142371181221752,
          5.1399028267913724,
          5.142067328955874,
          5.145171904119273,
          5.131892551892553,
          5.131558103732017,
          5.132558103732018,
          5.130177151351065,
          5.127954929128842,
          5.125157726331639,
          5.125646638502061,
          5.120122828978251,
          5.121494903231681,
          5.123930800667578,
          5.139865427838161,
          5.13739701761189,
          5.144900625115497,
          5.146043264612736,
          5.1436073671768385,
          5.142913381717486,
          5.140648573355117,
          5.140137129805699,
          5.136501967875757,
          5.13380966018345,
          5.133525030202425,
          5.128167887345283,
          5.110699532914903,
          5.113915219189413,
          5.116607526881721,
          5.116324561403508,
          5.12604678362573,
          5.131761069340017,
          5.129299530878479,
          5.118914915493863,
          5.1155271356995495,
          5.113759458931873,
          5.125961839884253,
          5.127965045012459,
          5.1322385492859635,
          5.136984563375693,
          5.138081742059078,
          5.134901917497674,
          5.135249139719898,
          5.141915806386564,
          5.14098942094405,
          5.142332433648224,
          5.140699039818822,
          5.138931363051146
         ]
        }
       ],
       "layout": {
        "template": {
         "data": {
          "bar": [
           {
            "error_x": {
             "color": "#2a3f5f"
            },
            "error_y": {
             "color": "#2a3f5f"
            },
            "marker": {
             "line": {
              "color": "#E5ECF6",
              "width": 0.5
             },
             "pattern": {
              "fillmode": "overlay",
              "size": 10,
              "solidity": 0.2
             }
            },
            "type": "bar"
           }
          ],
          "barpolar": [
           {
            "marker": {
             "line": {
              "color": "#E5ECF6",
              "width": 0.5
             },
             "pattern": {
              "fillmode": "overlay",
              "size": 10,
              "solidity": 0.2
             }
            },
            "type": "barpolar"
           }
          ],
          "carpet": [
           {
            "aaxis": {
             "endlinecolor": "#2a3f5f",
             "gridcolor": "white",
             "linecolor": "white",
             "minorgridcolor": "white",
             "startlinecolor": "#2a3f5f"
            },
            "baxis": {
             "endlinecolor": "#2a3f5f",
             "gridcolor": "white",
             "linecolor": "white",
             "minorgridcolor": "white",
             "startlinecolor": "#2a3f5f"
            },
            "type": "carpet"
           }
          ],
          "choropleth": [
           {
            "colorbar": {
             "outlinewidth": 0,
             "ticks": ""
            },
            "type": "choropleth"
           }
          ],
          "contour": [
           {
            "colorbar": {
             "outlinewidth": 0,
             "ticks": ""
            },
            "colorscale": [
             [
              0,
              "#0d0887"
             ],
             [
              0.1111111111111111,
              "#46039f"
             ],
             [
              0.2222222222222222,
              "#7201a8"
             ],
             [
              0.3333333333333333,
              "#9c179e"
             ],
             [
              0.4444444444444444,
              "#bd3786"
             ],
             [
              0.5555555555555556,
              "#d8576b"
             ],
             [
              0.6666666666666666,
              "#ed7953"
             ],
             [
              0.7777777777777778,
              "#fb9f3a"
             ],
             [
              0.8888888888888888,
              "#fdca26"
             ],
             [
              1,
              "#f0f921"
             ]
            ],
            "type": "contour"
           }
          ],
          "contourcarpet": [
           {
            "colorbar": {
             "outlinewidth": 0,
             "ticks": ""
            },
            "type": "contourcarpet"
           }
          ],
          "heatmap": [
           {
            "colorbar": {
             "outlinewidth": 0,
             "ticks": ""
            },
            "colorscale": [
             [
              0,
              "#0d0887"
             ],
             [
              0.1111111111111111,
              "#46039f"
             ],
             [
              0.2222222222222222,
              "#7201a8"
             ],
             [
              0.3333333333333333,
              "#9c179e"
             ],
             [
              0.4444444444444444,
              "#bd3786"
             ],
             [
              0.5555555555555556,
              "#d8576b"
             ],
             [
              0.6666666666666666,
              "#ed7953"
             ],
             [
              0.7777777777777778,
              "#fb9f3a"
             ],
             [
              0.8888888888888888,
              "#fdca26"
             ],
             [
              1,
              "#f0f921"
             ]
            ],
            "type": "heatmap"
           }
          ],
          "heatmapgl": [
           {
            "colorbar": {
             "outlinewidth": 0,
             "ticks": ""
            },
            "colorscale": [
             [
              0,
              "#0d0887"
             ],
             [
              0.1111111111111111,
              "#46039f"
             ],
             [
              0.2222222222222222,
              "#7201a8"
             ],
             [
              0.3333333333333333,
              "#9c179e"
             ],
             [
              0.4444444444444444,
              "#bd3786"
             ],
             [
              0.5555555555555556,
              "#d8576b"
             ],
             [
              0.6666666666666666,
              "#ed7953"
             ],
             [
              0.7777777777777778,
              "#fb9f3a"
             ],
             [
              0.8888888888888888,
              "#fdca26"
             ],
             [
              1,
              "#f0f921"
             ]
            ],
            "type": "heatmapgl"
           }
          ],
          "histogram": [
           {
            "marker": {
             "pattern": {
              "fillmode": "overlay",
              "size": 10,
              "solidity": 0.2
             }
            },
            "type": "histogram"
           }
          ],
          "histogram2d": [
           {
            "colorbar": {
             "outlinewidth": 0,
             "ticks": ""
            },
            "colorscale": [
             [
              0,
              "#0d0887"
             ],
             [
              0.1111111111111111,
              "#46039f"
             ],
             [
              0.2222222222222222,
              "#7201a8"
             ],
             [
              0.3333333333333333,
              "#9c179e"
             ],
             [
              0.4444444444444444,
              "#bd3786"
             ],
             [
              0.5555555555555556,
              "#d8576b"
             ],
             [
              0.6666666666666666,
              "#ed7953"
             ],
             [
              0.7777777777777778,
              "#fb9f3a"
             ],
             [
              0.8888888888888888,
              "#fdca26"
             ],
             [
              1,
              "#f0f921"
             ]
            ],
            "type": "histogram2d"
           }
          ],
          "histogram2dcontour": [
           {
            "colorbar": {
             "outlinewidth": 0,
             "ticks": ""
            },
            "colorscale": [
             [
              0,
              "#0d0887"
             ],
             [
              0.1111111111111111,
              "#46039f"
             ],
             [
              0.2222222222222222,
              "#7201a8"
             ],
             [
              0.3333333333333333,
              "#9c179e"
             ],
             [
              0.4444444444444444,
              "#bd3786"
             ],
             [
              0.5555555555555556,
              "#d8576b"
             ],
             [
              0.6666666666666666,
              "#ed7953"
             ],
             [
              0.7777777777777778,
              "#fb9f3a"
             ],
             [
              0.8888888888888888,
              "#fdca26"
             ],
             [
              1,
              "#f0f921"
             ]
            ],
            "type": "histogram2dcontour"
           }
          ],
          "mesh3d": [
           {
            "colorbar": {
             "outlinewidth": 0,
             "ticks": ""
            },
            "type": "mesh3d"
           }
          ],
          "parcoords": [
           {
            "line": {
             "colorbar": {
              "outlinewidth": 0,
              "ticks": ""
             }
            },
            "type": "parcoords"
           }
          ],
          "pie": [
           {
            "automargin": true,
            "type": "pie"
           }
          ],
          "scatter": [
           {
            "marker": {
             "colorbar": {
              "outlinewidth": 0,
              "ticks": ""
             }
            },
            "type": "scatter"
           }
          ],
          "scatter3d": [
           {
            "line": {
             "colorbar": {
              "outlinewidth": 0,
              "ticks": ""
             }
            },
            "marker": {
             "colorbar": {
              "outlinewidth": 0,
              "ticks": ""
             }
            },
            "type": "scatter3d"
           }
          ],
          "scattercarpet": [
           {
            "marker": {
             "colorbar": {
              "outlinewidth": 0,
              "ticks": ""
             }
            },
            "type": "scattercarpet"
           }
          ],
          "scattergeo": [
           {
            "marker": {
             "colorbar": {
              "outlinewidth": 0,
              "ticks": ""
             }
            },
            "type": "scattergeo"
           }
          ],
          "scattergl": [
           {
            "marker": {
             "colorbar": {
              "outlinewidth": 0,
              "ticks": ""
             }
            },
            "type": "scattergl"
           }
          ],
          "scattermapbox": [
           {
            "marker": {
             "colorbar": {
              "outlinewidth": 0,
              "ticks": ""
             }
            },
            "type": "scattermapbox"
           }
          ],
          "scatterpolar": [
           {
            "marker": {
             "colorbar": {
              "outlinewidth": 0,
              "ticks": ""
             }
            },
            "type": "scatterpolar"
           }
          ],
          "scatterpolargl": [
           {
            "marker": {
             "colorbar": {
              "outlinewidth": 0,
              "ticks": ""
             }
            },
            "type": "scatterpolargl"
           }
          ],
          "scatterternary": [
           {
            "marker": {
             "colorbar": {
              "outlinewidth": 0,
              "ticks": ""
             }
            },
            "type": "scatterternary"
           }
          ],
          "surface": [
           {
            "colorbar": {
             "outlinewidth": 0,
             "ticks": ""
            },
            "colorscale": [
             [
              0,
              "#0d0887"
             ],
             [
              0.1111111111111111,
              "#46039f"
             ],
             [
              0.2222222222222222,
              "#7201a8"
             ],
             [
              0.3333333333333333,
              "#9c179e"
             ],
             [
              0.4444444444444444,
              "#bd3786"
             ],
             [
              0.5555555555555556,
              "#d8576b"
             ],
             [
              0.6666666666666666,
              "#ed7953"
             ],
             [
              0.7777777777777778,
              "#fb9f3a"
             ],
             [
              0.8888888888888888,
              "#fdca26"
             ],
             [
              1,
              "#f0f921"
             ]
            ],
            "type": "surface"
           }
          ],
          "table": [
           {
            "cells": {
             "fill": {
              "color": "#EBF0F8"
             },
             "line": {
              "color": "white"
             }
            },
            "header": {
             "fill": {
              "color": "#C8D4E3"
             },
             "line": {
              "color": "white"
             }
            },
            "type": "table"
           }
          ]
         },
         "layout": {
          "annotationdefaults": {
           "arrowcolor": "#2a3f5f",
           "arrowhead": 0,
           "arrowwidth": 1
          },
          "autotypenumbers": "strict",
          "coloraxis": {
           "colorbar": {
            "outlinewidth": 0,
            "ticks": ""
           }
          },
          "colorscale": {
           "diverging": [
            [
             0,
             "#8e0152"
            ],
            [
             0.1,
             "#c51b7d"
            ],
            [
             0.2,
             "#de77ae"
            ],
            [
             0.3,
             "#f1b6da"
            ],
            [
             0.4,
             "#fde0ef"
            ],
            [
             0.5,
             "#f7f7f7"
            ],
            [
             0.6,
             "#e6f5d0"
            ],
            [
             0.7,
             "#b8e186"
            ],
            [
             0.8,
             "#7fbc41"
            ],
            [
             0.9,
             "#4d9221"
            ],
            [
             1,
             "#276419"
            ]
           ],
           "sequential": [
            [
             0,
             "#0d0887"
            ],
            [
             0.1111111111111111,
             "#46039f"
            ],
            [
             0.2222222222222222,
             "#7201a8"
            ],
            [
             0.3333333333333333,
             "#9c179e"
            ],
            [
             0.4444444444444444,
             "#bd3786"
            ],
            [
             0.5555555555555556,
             "#d8576b"
            ],
            [
             0.6666666666666666,
             "#ed7953"
            ],
            [
             0.7777777777777778,
             "#fb9f3a"
            ],
            [
             0.8888888888888888,
             "#fdca26"
            ],
            [
             1,
             "#f0f921"
            ]
           ],
           "sequentialminus": [
            [
             0,
             "#0d0887"
            ],
            [
             0.1111111111111111,
             "#46039f"
            ],
            [
             0.2222222222222222,
             "#7201a8"
            ],
            [
             0.3333333333333333,
             "#9c179e"
            ],
            [
             0.4444444444444444,
             "#bd3786"
            ],
            [
             0.5555555555555556,
             "#d8576b"
            ],
            [
             0.6666666666666666,
             "#ed7953"
            ],
            [
             0.7777777777777778,
             "#fb9f3a"
            ],
            [
             0.8888888888888888,
             "#fdca26"
            ],
            [
             1,
             "#f0f921"
            ]
           ]
          },
          "colorway": [
           "#636efa",
           "#EF553B",
           "#00cc96",
           "#ab63fa",
           "#FFA15A",
           "#19d3f3",
           "#FF6692",
           "#B6E880",
           "#FF97FF",
           "#FECB52"
          ],
          "font": {
           "color": "#2a3f5f"
          },
          "geo": {
           "bgcolor": "white",
           "lakecolor": "white",
           "landcolor": "#E5ECF6",
           "showlakes": true,
           "showland": true,
           "subunitcolor": "white"
          },
          "hoverlabel": {
           "align": "left"
          },
          "hovermode": "closest",
          "mapbox": {
           "style": "light"
          },
          "paper_bgcolor": "white",
          "plot_bgcolor": "#E5ECF6",
          "polar": {
           "angularaxis": {
            "gridcolor": "white",
            "linecolor": "white",
            "ticks": ""
           },
           "bgcolor": "#E5ECF6",
           "radialaxis": {
            "gridcolor": "white",
            "linecolor": "white",
            "ticks": ""
           }
          },
          "scene": {
           "xaxis": {
            "backgroundcolor": "#E5ECF6",
            "gridcolor": "white",
            "gridwidth": 2,
            "linecolor": "white",
            "showbackground": true,
            "ticks": "",
            "zerolinecolor": "white"
           },
           "yaxis": {
            "backgroundcolor": "#E5ECF6",
            "gridcolor": "white",
            "gridwidth": 2,
            "linecolor": "white",
            "showbackground": true,
            "ticks": "",
            "zerolinecolor": "white"
           },
           "zaxis": {
            "backgroundcolor": "#E5ECF6",
            "gridcolor": "white",
            "gridwidth": 2,
            "linecolor": "white",
            "showbackground": true,
            "ticks": "",
            "zerolinecolor": "white"
           }
          },
          "shapedefaults": {
           "line": {
            "color": "#2a3f5f"
           }
          },
          "ternary": {
           "aaxis": {
            "gridcolor": "white",
            "linecolor": "white",
            "ticks": ""
           },
           "baxis": {
            "gridcolor": "white",
            "linecolor": "white",
            "ticks": ""
           },
           "bgcolor": "#E5ECF6",
           "caxis": {
            "gridcolor": "white",
            "linecolor": "white",
            "ticks": ""
           }
          },
          "title": {
           "x": 0.05
          },
          "xaxis": {
           "automargin": true,
           "gridcolor": "white",
           "linecolor": "white",
           "ticks": "",
           "title": {
            "standoff": 15
           },
           "zerolinecolor": "white",
           "zerolinewidth": 2
          },
          "yaxis": {
           "automargin": true,
           "gridcolor": "white",
           "linecolor": "white",
           "ticks": "",
           "title": {
            "standoff": 15
           },
           "zerolinecolor": "white",
           "zerolinewidth": 2
          }
         }
        }
       }
      },
      "text/html": [
       "<div>                            <div id=\"bbdc6c10-661c-408f-be5a-bf173b52278f\" class=\"plotly-graph-div\" style=\"height:525px; width:100%;\"></div>            <script type=\"text/javascript\">                require([\"plotly\"], function(Plotly) {                    window.PLOTLYENV=window.PLOTLYENV || {};                                    if (document.getElementById(\"bbdc6c10-661c-408f-be5a-bf173b52278f\")) {                    Plotly.newPlot(                        \"bbdc6c10-661c-408f-be5a-bf173b52278f\",                        [{\"name\":\"USD Close\",\"x\":[\"2018-01-01T00:00:00\",\"2018-01-02T00:00:00\",\"2018-01-04T00:00:00\",\"2018-01-12T00:00:00\",\"2018-01-27T00:00:00\",\"2018-01-29T00:00:00\",\"2018-02-17T00:00:00\",\"2018-02-17T00:00:00\",\"2018-03-03T00:00:00\",\"2018-03-05T00:00:00\",\"2018-03-17T00:00:00\",\"2018-03-27T00:00:00\",\"2018-03-30T00:00:00\",\"2018-04-05T00:00:00\",\"2018-04-06T00:00:00\",\"2018-04-24T00:00:00\",\"2018-04-24T00:00:00\",\"2018-05-10T00:00:00\",\"2018-05-25T00:00:00\",\"2018-05-31T00:00:00\",\"2018-06-12T00:00:00\",\"2018-07-28T00:00:00\",\"2018-07-28T00:00:00\",\"2018-08-06T00:00:00\",\"2018-08-13T00:00:00\",\"2018-08-13T00:00:00\",\"2018-08-16T00:00:00\",\"2018-08-16T00:00:00\",\"2018-08-26T00:00:00\",\"2018-08-26T00:00:00\",\"2018-08-30T00:00:00\",\"2018-09-03T00:00:00\",\"2018-09-05T00:00:00\",\"2018-09-07T00:00:00\",\"2018-09-20T00:00:00\",\"2018-09-21T00:00:00\",\"2018-09-25T00:00:00\",\"2018-10-22T00:00:00\",\"2018-10-24T00:00:00\",\"2018-11-15T00:00:00\",\"2018-11-19T00:00:00\",\"2018-12-03T00:00:00\",\"2018-12-10T00:00:00\",\"2018-12-10T00:00:00\",\"2018-12-15T00:00:00\",\"2019-01-20T00:00:00\",\"2019-02-07T00:00:00\",\"2019-02-10T00:00:00\",\"2019-02-10T00:00:00\",\"2019-02-12T00:00:00\",\"2019-02-20T00:00:00\",\"2019-02-24T00:00:00\",\"2019-03-12T00:00:00\",\"2019-03-12T00:00:00\",\"2019-04-05T00:00:00\",\"2019-04-06T00:00:00\",\"2019-04-21T00:00:00\",\"2019-04-26T00:00:00\",\"2019-05-04T00:00:00\",\"2019-05-08T00:00:00\",\"2019-05-15T00:00:00\",\"2019-05-30T00:00:00\",\"2019-07-21T00:00:00\",\"2019-07-30T00:00:00\",\"2019-07-31T00:00:00\",\"2019-08-19T00:00:00\",\"2019-08-21T00:00:00\",\"2019-08-31T00:00:00\",\"2019-09-07T00:00:00\",\"2019-09-10T00:00:00\",\"2019-09-15T00:00:00\",\"2019-09-25T00:00:00\",\"2019-10-01T00:00:00\",\"2019-10-08T00:00:00\",\"2019-10-27T00:00:00\",\"2019-11-11T00:00:00\",\"2019-11-23T00:00:00\",\"2019-11-28T00:00:00\",\"2019-12-27T00:00:00\",\"2019-12-28T00:00:00\",\"2020-01-07T00:00:00\",\"2020-01-13T00:00:00\",\"2020-01-25T00:00:00\",\"2020-02-04T00:00:00\",\"2020-02-10T00:00:00\",\"2020-02-11T00:00:00\",\"2020-02-11T00:00:00\",\"2020-02-23T00:00:00\",\"2020-02-26T00:00:00\",\"2020-03-05T00:00:00\",\"2020-03-10T00:00:00\",\"2020-03-11T00:00:00\",\"2020-03-13T00:00:00\",\"2020-03-14T00:00:00\",\"2020-03-15T00:00:00\",\"2020-03-20T00:00:00\",\"2020-03-22T00:00:00\",\"2020-03-23T00:00:00\",\"2020-03-28T00:00:00\",\"2020-04-05T00:00:00\",\"2020-04-09T00:00:00\",\"2020-04-13T00:00:00\",\"2020-04-19T00:00:00\",\"2020-04-22T00:00:00\",\"2020-04-28T00:00:00\",\"2020-04-29T00:00:00\",\"2020-05-02T00:00:00\",\"2020-05-20T00:00:00\",\"2020-05-22T00:00:00\",\"2020-06-01T00:00:00\",\"2020-06-23T00:00:00\",\"2020-07-02T00:00:00\",\"2020-07-04T00:00:00\",\"2020-07-04T00:00:00\",\"2020-07-04T00:00:00\",\"2020-07-25T00:00:00\",\"2020-07-26T00:00:00\",\"2020-08-12T00:00:00\",\"2020-08-23T00:00:00\",\"2020-08-25T00:00:00\",\"2020-08-27T00:00:00\",\"2020-08-27T00:00:00\",\"2020-09-10T00:00:00\",\"2020-09-16T00:00:00\",\"2020-09-28T00:00:00\",\"2020-10-07T00:00:00\",\"2020-10-10T00:00:00\",\"2020-10-16T00:00:00\",\"2020-10-16T00:00:00\",\"2020-10-18T00:00:00\",\"2020-10-19T00:00:00\",\"2020-10-23T00:00:00\",\"2020-10-27T00:00:00\",\"2020-11-05T00:00:00\",\"2020-11-21T00:00:00\",\"2020-11-23T00:00:00\",\"2020-12-02T00:00:00\",\"2020-12-15T00:00:00\",\"2020-12-19T00:00:00\",\"2020-12-21T00:00:00\",\"2020-12-25T00:00:00\",\"2020-12-25T00:00:00\",\"2021-01-07T00:00:00\",\"2021-01-08T00:00:00\",\"2021-01-14T00:00:00\",\"2021-01-30T00:00:00\",\"2021-01-31T00:00:00\",\"2021-02-10T00:00:00\",\"2021-02-15T00:00:00\",\"2021-02-24T00:00:00\",\"2021-02-26T00:00:00\",\"2021-03-09T00:00:00\",\"2021-03-11T00:00:00\",\"2021-03-15T00:00:00\",\"2021-03-24T00:00:00\",\"2021-03-28T00:00:00\",\"2021-04-01T00:00:00\",\"2021-04-04T00:00:00\",\"2021-04-08T00:00:00\",\"2021-04-15T00:00:00\",\"2021-04-24T00:00:00\",\"2021-05-18T00:00:00\",\"2021-05-22T00:00:00\",\"2021-05-25T00:00:00\",\"2021-05-27T00:00:00\",\"2021-05-29T00:00:00\",\"2021-06-05T00:00:00\",\"2021-06-10T00:00:00\",\"2021-06-25T00:00:00\",\"2021-06-25T00:00:00\",\"2021-06-28T00:00:00\",\"2021-07-19T00:00:00\",\"2021-07-28T00:00:00\",\"2021-07-30T00:00:00\",\"2021-08-06T00:00:00\",\"2021-08-27T00:00:00\",\"2021-08-28T00:00:00\",\"2021-09-22T00:00:00\",\"2021-09-26T00:00:00\",\"2021-10-10T00:00:00\",\"2021-10-27T00:00:00\",\"2021-10-31T00:00:00\",\"2021-11-13T00:00:00\",\"2021-11-28T00:00:00\",\"2021-12-22T00:00:00\",\"2021-12-25T00:00:00\",\"2021-12-28T00:00:00\",\"2021-12-29T00:00:00\",\"2022-02-02T00:00:00\",\"2022-02-04T00:00:00\",\"2022-02-13T00:00:00\",\"2022-02-22T00:00:00\",\"2022-02-27T00:00:00\",\"2022-03-08T00:00:00\",\"2022-03-09T00:00:00\"],\"y\":[5.142758620689655,5.139166666666667,5.142142857142857,5.107368421052632,5.145294117647059,5.149473684210527,5.145294117647059,5.144615384615385,5.127741935483871,5.14876404494382,5.130588235294118,5.145507246376812,5.149583333333333,5.149583333333333,5.142456140350878,5.1242857142857146,5.107368421052632,5.1466666666666665,5.141818181818182,5.149010989010989,5.140000000000001,5.14876404494382,5.12,5.140769230769231,5.141818181818182,5.146301369863014,5.147951807228916,5.076666666666667,5.144848484848485,5.114545454545454,5.140769230769231,5.144615384615385,5.112380952380953,5.101176470588236,5.12969696969697,5.144375,5.146486486486487,5.148235294117647,5.142758620689655,5.147179487179487,5.107368421052632,5.145915492957746,5.1466666666666665,5.149130434782609,5.15,5.133684210526316,5.14936170212766,5.1433333333333335,5.149795918367347,5.1433333333333335,5.145915492957746,5.147012987012987,5.149690721649485,5.13872340425532,5.1322222222222225,5.12875,5.138260869565218,5.146842105263158,5.143108935128519,5.1466666666666665,5.076666666666667,5.139166666666667,5.1436065573770495,5.1436065573770495,5.148888888888889,5.140000000000001,5.13872340425532,5.12,5.12969696969697,5.147951807228916,5.1433333333333335,5.148095238095238,5.162044525215811,5.147218164496666,5.148372093023256,5.1450746268656715,5.149583333333333,5.1433333333333335,5.146301369863014,5.107368421052632,5.107368421052632,5.122962962962963,5.1475,5.138260869565218,5.139591836734694,5.148888888888889,5.149473684210527,5.149690721649485,5.142456140350878,5.1475,5.144126984126984,5.146111111111111,5.144375,5.131428571428572,5.149473684210527,5.149583333333333,5.1433333333333335,5.146842105263158,5.146927546138072,5.116521739130435,5.133684210526316,5.113153153153153,5.104444444444445,5.140000000000001,5.14936170212766,5.149130434782609,5.093333333333334,5.0830769230769235,5.148095238095238,5.12875,5.0600000000000005,5.126666666666667,5.135609756097561,5.147012987012987,5.132972972972973,5.104444444444445,5.136190476190476,5.121538461538462,5.076666666666667,5.149247311827957,5.11,5.1466666666666665,5.112380952380953,5.137777777777778,5.14876404494382,5.116521739130435,5.148372093023256,5.0830769230769235,5.12,5.145507246376812,5.14876404494382,5.148235294117647,5.135,5.145294117647059,5.141481481481482,5.11,5.114545454545454,5.147341772151899,5.12969696969697,5.1450746268656715,5.1486363636363635,5.114545454545454,5.147951807228916,5.147341772151899,5.137272727272728,5.130588235294118,5.149473684210527,5.147179487179487,5.135,5.148095238095238,5.146111111111111,5.0830769230769235,5.145507246376812,5.140000000000001,5.136190476190476,5.135,5.069090909090909,5.147951807228916,5.112380952380953,5.143050847457627,5.147179487179487,5.14876404494382,5.135609756097561,5.14989898989899,5.14876404494382,5.135,5.145294117647059,5.1242857142857146,5.147341772151899,5.130588235294118,5.121538461538462,5.143870967741935,5.0975,5.0600000000000005,5.1466666666666665,5.135,5.142456140350878,5.146111111111111,5.088571428571429,5.134358974358975,5.0830769230769235,5.125517241379311,5.137272727272728,5.149583333333333,5.144375,5.104444444444445,5.149247311827957,5.142758620689655,5.133684210526316,5.146111111111111,5.137777777777778,5.144615384615385,5.149473684210527,5.125517241379311,5.137272727272728],\"type\":\"scatter\"},{\"name\":\"M\\u00e9dia m\\u00f3vel 5 dias\",\"x\":[\"2018-01-01T00:00:00\",\"2018-01-02T00:00:00\",\"2018-01-04T00:00:00\",\"2018-01-12T00:00:00\",\"2018-01-27T00:00:00\",\"2018-01-29T00:00:00\",\"2018-02-17T00:00:00\",\"2018-02-17T00:00:00\",\"2018-03-03T00:00:00\",\"2018-03-05T00:00:00\",\"2018-03-17T00:00:00\",\"2018-03-27T00:00:00\",\"2018-03-30T00:00:00\",\"2018-04-05T00:00:00\",\"2018-04-06T00:00:00\",\"2018-04-24T00:00:00\",\"2018-04-24T00:00:00\",\"2018-05-10T00:00:00\",\"2018-05-25T00:00:00\",\"2018-05-31T00:00:00\",\"2018-06-12T00:00:00\",\"2018-07-28T00:00:00\",\"2018-07-28T00:00:00\",\"2018-08-06T00:00:00\",\"2018-08-13T00:00:00\",\"2018-08-13T00:00:00\",\"2018-08-16T00:00:00\",\"2018-08-16T00:00:00\",\"2018-08-26T00:00:00\",\"2018-08-26T00:00:00\",\"2018-08-30T00:00:00\",\"2018-09-03T00:00:00\",\"2018-09-05T00:00:00\",\"2018-09-07T00:00:00\",\"2018-09-20T00:00:00\",\"2018-09-21T00:00:00\",\"2018-09-25T00:00:00\",\"2018-10-22T00:00:00\",\"2018-10-24T00:00:00\",\"2018-11-15T00:00:00\",\"2018-11-19T00:00:00\",\"2018-12-03T00:00:00\",\"2018-12-10T00:00:00\",\"2018-12-10T00:00:00\",\"2018-12-15T00:00:00\",\"2019-01-20T00:00:00\",\"2019-02-07T00:00:00\",\"2019-02-10T00:00:00\",\"2019-02-10T00:00:00\",\"2019-02-12T00:00:00\",\"2019-02-20T00:00:00\",\"2019-02-24T00:00:00\",\"2019-03-12T00:00:00\",\"2019-03-12T00:00:00\",\"2019-04-05T00:00:00\",\"2019-04-06T00:00:00\",\"2019-04-21T00:00:00\",\"2019-04-26T00:00:00\",\"2019-05-04T00:00:00\",\"2019-05-08T00:00:00\",\"2019-05-15T00:00:00\",\"2019-05-30T00:00:00\",\"2019-07-21T00:00:00\",\"2019-07-30T00:00:00\",\"2019-07-31T00:00:00\",\"2019-08-19T00:00:00\",\"2019-08-21T00:00:00\",\"2019-08-31T00:00:00\",\"2019-09-07T00:00:00\",\"2019-09-10T00:00:00\",\"2019-09-15T00:00:00\",\"2019-09-25T00:00:00\",\"2019-10-01T00:00:00\",\"2019-10-08T00:00:00\",\"2019-10-27T00:00:00\",\"2019-11-11T00:00:00\",\"2019-11-23T00:00:00\",\"2019-11-28T00:00:00\",\"2019-12-27T00:00:00\",\"2019-12-28T00:00:00\",\"2020-01-07T00:00:00\",\"2020-01-13T00:00:00\",\"2020-01-25T00:00:00\",\"2020-02-04T00:00:00\",\"2020-02-10T00:00:00\",\"2020-02-11T00:00:00\",\"2020-02-11T00:00:00\",\"2020-02-23T00:00:00\",\"2020-02-26T00:00:00\",\"2020-03-05T00:00:00\",\"2020-03-10T00:00:00\",\"2020-03-11T00:00:00\",\"2020-03-13T00:00:00\",\"2020-03-14T00:00:00\",\"2020-03-15T00:00:00\",\"2020-03-20T00:00:00\",\"2020-03-22T00:00:00\",\"2020-03-23T00:00:00\",\"2020-03-28T00:00:00\",\"2020-04-05T00:00:00\",\"2020-04-09T00:00:00\",\"2020-04-13T00:00:00\",\"2020-04-19T00:00:00\",\"2020-04-22T00:00:00\",\"2020-04-28T00:00:00\",\"2020-04-29T00:00:00\",\"2020-05-02T00:00:00\",\"2020-05-20T00:00:00\",\"2020-05-22T00:00:00\",\"2020-06-01T00:00:00\",\"2020-06-23T00:00:00\",\"2020-07-02T00:00:00\",\"2020-07-04T00:00:00\",\"2020-07-04T00:00:00\",\"2020-07-04T00:00:00\",\"2020-07-25T00:00:00\",\"2020-07-26T00:00:00\",\"2020-08-12T00:00:00\",\"2020-08-23T00:00:00\",\"2020-08-25T00:00:00\",\"2020-08-27T00:00:00\",\"2020-08-27T00:00:00\",\"2020-09-10T00:00:00\",\"2020-09-16T00:00:00\",\"2020-09-28T00:00:00\",\"2020-10-07T00:00:00\",\"2020-10-10T00:00:00\",\"2020-10-16T00:00:00\",\"2020-10-16T00:00:00\",\"2020-10-18T00:00:00\",\"2020-10-19T00:00:00\",\"2020-10-23T00:00:00\",\"2020-10-27T00:00:00\",\"2020-11-05T00:00:00\",\"2020-11-21T00:00:00\",\"2020-11-23T00:00:00\",\"2020-12-02T00:00:00\",\"2020-12-15T00:00:00\",\"2020-12-19T00:00:00\",\"2020-12-21T00:00:00\",\"2020-12-25T00:00:00\",\"2020-12-25T00:00:00\",\"2021-01-07T00:00:00\",\"2021-01-08T00:00:00\",\"2021-01-14T00:00:00\",\"2021-01-30T00:00:00\",\"2021-01-31T00:00:00\",\"2021-02-10T00:00:00\",\"2021-02-15T00:00:00\",\"2021-02-24T00:00:00\",\"2021-02-26T00:00:00\",\"2021-03-09T00:00:00\",\"2021-03-11T00:00:00\",\"2021-03-15T00:00:00\",\"2021-03-24T00:00:00\",\"2021-03-28T00:00:00\",\"2021-04-01T00:00:00\",\"2021-04-04T00:00:00\",\"2021-04-08T00:00:00\",\"2021-04-15T00:00:00\",\"2021-04-24T00:00:00\",\"2021-05-18T00:00:00\",\"2021-05-22T00:00:00\",\"2021-05-25T00:00:00\",\"2021-05-27T00:00:00\",\"2021-05-29T00:00:00\",\"2021-06-05T00:00:00\",\"2021-06-10T00:00:00\",\"2021-06-25T00:00:00\",\"2021-06-25T00:00:00\",\"2021-06-28T00:00:00\",\"2021-07-19T00:00:00\",\"2021-07-28T00:00:00\",\"2021-07-30T00:00:00\",\"2021-08-06T00:00:00\",\"2021-08-27T00:00:00\",\"2021-08-28T00:00:00\",\"2021-09-22T00:00:00\",\"2021-09-26T00:00:00\",\"2021-10-10T00:00:00\",\"2021-10-27T00:00:00\",\"2021-10-31T00:00:00\",\"2021-11-13T00:00:00\",\"2021-11-28T00:00:00\",\"2021-12-22T00:00:00\",\"2021-12-25T00:00:00\",\"2021-12-28T00:00:00\",\"2021-12-29T00:00:00\",\"2022-02-02T00:00:00\",\"2022-02-04T00:00:00\",\"2022-02-13T00:00:00\",\"2022-02-22T00:00:00\",\"2022-02-27T00:00:00\",\"2022-03-08T00:00:00\",\"2022-03-09T00:00:00\"],\"y\":[null,null,null,null,5.1353461366397735,5.136689149343948,5.137914639540027,5.138409145034532,5.14248384792078,5.143177833380133,5.13940074359685,5.139443369342801,5.140436959086391,5.144805238656284,5.143543657737695,5.142283153536014,5.134655388471178,5.134072055137845,5.1325190248348145,5.133829994566836,5.136972851709694,5.145251976487932,5.139918643154599,5.139708852944809,5.138270291506247,5.139530565478849,5.139368117935868,5.130701451269202,5.131517302085053,5.126062756630508,5.12495632881175,5.1242890442890445,5.131431901431902,5.122697498579852,5.125727801610155,5.126448955456309,5.126823175830529,5.133994044177868,5.142310474198152,5.145806977694655,5.138405661905182,5.138291463199433,5.137977737709237,5.139252100527829,5.1398162030919305,5.145079360986667,5.145768602820651,5.145101936153983,5.145235032870931,5.143901699537598,5.146347956023884,5.14587821300095,5.14714969066418,5.144935187841774,5.142712965619552,5.139279867028002,5.137529443538449,5.136959720261183,5.137836826435824,5.140725715324712,5.130309048658046,5.130490208078336,5.129843098501114,5.12994262295082,5.130387067395264,5.143053734061931,5.1429650815796615,5.138243770104252,5.135461852568236,5.135274436236242,5.135941102902907,5.137815469670892,5.146224374714054,5.149728613673993,5.14981267083286,5.150160929539328,5.150458548586947,5.146716310210452,5.146532951283722,5.138332216889597,5.130790975726989,5.125466901652915,5.126300234986248,5.124692134926689,5.131136818063101,5.139440911630353,5.144743055879866,5.1451812002097626,5.146020254366894,5.147601887019955,5.1466495060675745,5.145976991447691,5.144913847117794,5.142708333333333,5.143103070175439,5.144194340016709,5.143638784461153,5.144132205513785,5.147232000455685,5.1406416114396665,5.137461786878264,5.131425750842228,5.122946218678484,5.12156070945087,5.128128702050315,5.1312179469015735,5.12725398293761,5.122980478664106,5.124599526283153,5.120477185857621,5.102651098901099,5.1093177655677655,5.119824332171893,5.119607881955443,5.120452476550038,5.129341365438926,5.1312461273436885,5.128431868431869,5.114362604362605,5.117617472133601,5.118728583244712,5.120823821339951,5.118992319508449,5.131214541730671,5.1311178883538435,5.132422236179931,5.1327633214512485,5.126902515590443,5.123346960034887,5.122695600321485,5.129144061484162,5.12911670170304,5.139501317087656,5.144560140617068,5.143754987638001,5.136002178649238,5.129264210734799,5.131732565165178,5.1286131355751605,5.129331764651999,5.137059037379272,5.137059037379272,5.137181044394675,5.140710004885661,5.139149624967072,5.135539999298624,5.142525645231638,5.142371181221752,5.1399028267913724,5.142067328955874,5.145171904119273,5.131892551892553,5.131558103732017,5.132558103732018,5.130177151351065,5.127954929128842,5.125157726331639,5.125646638502061,5.120122828978251,5.121494903231681,5.123930800667578,5.139865427838161,5.13739701761189,5.144900625115497,5.146043264612736,5.1436073671768385,5.142913381717486,5.140648573355117,5.140137129805699,5.136501967875757,5.13380966018345,5.133525030202425,5.128167887345283,5.110699532914903,5.113915219189413,5.116607526881721,5.116324561403508,5.12604678362573,5.131761069340017,5.129299530878479,5.118914915493863,5.1155271356995495,5.113759458931873,5.125961839884253,5.127965045012459,5.1322385492859635,5.136984563375693,5.138081742059078,5.134901917497674,5.135249139719898,5.141915806386564,5.14098942094405,5.142332433648224,5.140699039818822,5.138931363051146],\"type\":\"scatter\"}],                        {\"template\":{\"data\":{\"barpolar\":[{\"marker\":{\"line\":{\"color\":\"#E5ECF6\",\"width\":0.5},\"pattern\":{\"fillmode\":\"overlay\",\"size\":10,\"solidity\":0.2}},\"type\":\"barpolar\"}],\"bar\":[{\"error_x\":{\"color\":\"#2a3f5f\"},\"error_y\":{\"color\":\"#2a3f5f\"},\"marker\":{\"line\":{\"color\":\"#E5ECF6\",\"width\":0.5},\"pattern\":{\"fillmode\":\"overlay\",\"size\":10,\"solidity\":0.2}},\"type\":\"bar\"}],\"carpet\":[{\"aaxis\":{\"endlinecolor\":\"#2a3f5f\",\"gridcolor\":\"white\",\"linecolor\":\"white\",\"minorgridcolor\":\"white\",\"startlinecolor\":\"#2a3f5f\"},\"baxis\":{\"endlinecolor\":\"#2a3f5f\",\"gridcolor\":\"white\",\"linecolor\":\"white\",\"minorgridcolor\":\"white\",\"startlinecolor\":\"#2a3f5f\"},\"type\":\"carpet\"}],\"choropleth\":[{\"colorbar\":{\"outlinewidth\":0,\"ticks\":\"\"},\"type\":\"choropleth\"}],\"contourcarpet\":[{\"colorbar\":{\"outlinewidth\":0,\"ticks\":\"\"},\"type\":\"contourcarpet\"}],\"contour\":[{\"colorbar\":{\"outlinewidth\":0,\"ticks\":\"\"},\"colorscale\":[[0.0,\"#0d0887\"],[0.1111111111111111,\"#46039f\"],[0.2222222222222222,\"#7201a8\"],[0.3333333333333333,\"#9c179e\"],[0.4444444444444444,\"#bd3786\"],[0.5555555555555556,\"#d8576b\"],[0.6666666666666666,\"#ed7953\"],[0.7777777777777778,\"#fb9f3a\"],[0.8888888888888888,\"#fdca26\"],[1.0,\"#f0f921\"]],\"type\":\"contour\"}],\"heatmapgl\":[{\"colorbar\":{\"outlinewidth\":0,\"ticks\":\"\"},\"colorscale\":[[0.0,\"#0d0887\"],[0.1111111111111111,\"#46039f\"],[0.2222222222222222,\"#7201a8\"],[0.3333333333333333,\"#9c179e\"],[0.4444444444444444,\"#bd3786\"],[0.5555555555555556,\"#d8576b\"],[0.6666666666666666,\"#ed7953\"],[0.7777777777777778,\"#fb9f3a\"],[0.8888888888888888,\"#fdca26\"],[1.0,\"#f0f921\"]],\"type\":\"heatmapgl\"}],\"heatmap\":[{\"colorbar\":{\"outlinewidth\":0,\"ticks\":\"\"},\"colorscale\":[[0.0,\"#0d0887\"],[0.1111111111111111,\"#46039f\"],[0.2222222222222222,\"#7201a8\"],[0.3333333333333333,\"#9c179e\"],[0.4444444444444444,\"#bd3786\"],[0.5555555555555556,\"#d8576b\"],[0.6666666666666666,\"#ed7953\"],[0.7777777777777778,\"#fb9f3a\"],[0.8888888888888888,\"#fdca26\"],[1.0,\"#f0f921\"]],\"type\":\"heatmap\"}],\"histogram2dcontour\":[{\"colorbar\":{\"outlinewidth\":0,\"ticks\":\"\"},\"colorscale\":[[0.0,\"#0d0887\"],[0.1111111111111111,\"#46039f\"],[0.2222222222222222,\"#7201a8\"],[0.3333333333333333,\"#9c179e\"],[0.4444444444444444,\"#bd3786\"],[0.5555555555555556,\"#d8576b\"],[0.6666666666666666,\"#ed7953\"],[0.7777777777777778,\"#fb9f3a\"],[0.8888888888888888,\"#fdca26\"],[1.0,\"#f0f921\"]],\"type\":\"histogram2dcontour\"}],\"histogram2d\":[{\"colorbar\":{\"outlinewidth\":0,\"ticks\":\"\"},\"colorscale\":[[0.0,\"#0d0887\"],[0.1111111111111111,\"#46039f\"],[0.2222222222222222,\"#7201a8\"],[0.3333333333333333,\"#9c179e\"],[0.4444444444444444,\"#bd3786\"],[0.5555555555555556,\"#d8576b\"],[0.6666666666666666,\"#ed7953\"],[0.7777777777777778,\"#fb9f3a\"],[0.8888888888888888,\"#fdca26\"],[1.0,\"#f0f921\"]],\"type\":\"histogram2d\"}],\"histogram\":[{\"marker\":{\"pattern\":{\"fillmode\":\"overlay\",\"size\":10,\"solidity\":0.2}},\"type\":\"histogram\"}],\"mesh3d\":[{\"colorbar\":{\"outlinewidth\":0,\"ticks\":\"\"},\"type\":\"mesh3d\"}],\"parcoords\":[{\"line\":{\"colorbar\":{\"outlinewidth\":0,\"ticks\":\"\"}},\"type\":\"parcoords\"}],\"pie\":[{\"automargin\":true,\"type\":\"pie\"}],\"scatter3d\":[{\"line\":{\"colorbar\":{\"outlinewidth\":0,\"ticks\":\"\"}},\"marker\":{\"colorbar\":{\"outlinewidth\":0,\"ticks\":\"\"}},\"type\":\"scatter3d\"}],\"scattercarpet\":[{\"marker\":{\"colorbar\":{\"outlinewidth\":0,\"ticks\":\"\"}},\"type\":\"scattercarpet\"}],\"scattergeo\":[{\"marker\":{\"colorbar\":{\"outlinewidth\":0,\"ticks\":\"\"}},\"type\":\"scattergeo\"}],\"scattergl\":[{\"marker\":{\"colorbar\":{\"outlinewidth\":0,\"ticks\":\"\"}},\"type\":\"scattergl\"}],\"scattermapbox\":[{\"marker\":{\"colorbar\":{\"outlinewidth\":0,\"ticks\":\"\"}},\"type\":\"scattermapbox\"}],\"scatterpolargl\":[{\"marker\":{\"colorbar\":{\"outlinewidth\":0,\"ticks\":\"\"}},\"type\":\"scatterpolargl\"}],\"scatterpolar\":[{\"marker\":{\"colorbar\":{\"outlinewidth\":0,\"ticks\":\"\"}},\"type\":\"scatterpolar\"}],\"scatter\":[{\"marker\":{\"colorbar\":{\"outlinewidth\":0,\"ticks\":\"\"}},\"type\":\"scatter\"}],\"scatterternary\":[{\"marker\":{\"colorbar\":{\"outlinewidth\":0,\"ticks\":\"\"}},\"type\":\"scatterternary\"}],\"surface\":[{\"colorbar\":{\"outlinewidth\":0,\"ticks\":\"\"},\"colorscale\":[[0.0,\"#0d0887\"],[0.1111111111111111,\"#46039f\"],[0.2222222222222222,\"#7201a8\"],[0.3333333333333333,\"#9c179e\"],[0.4444444444444444,\"#bd3786\"],[0.5555555555555556,\"#d8576b\"],[0.6666666666666666,\"#ed7953\"],[0.7777777777777778,\"#fb9f3a\"],[0.8888888888888888,\"#fdca26\"],[1.0,\"#f0f921\"]],\"type\":\"surface\"}],\"table\":[{\"cells\":{\"fill\":{\"color\":\"#EBF0F8\"},\"line\":{\"color\":\"white\"}},\"header\":{\"fill\":{\"color\":\"#C8D4E3\"},\"line\":{\"color\":\"white\"}},\"type\":\"table\"}]},\"layout\":{\"annotationdefaults\":{\"arrowcolor\":\"#2a3f5f\",\"arrowhead\":0,\"arrowwidth\":1},\"autotypenumbers\":\"strict\",\"coloraxis\":{\"colorbar\":{\"outlinewidth\":0,\"ticks\":\"\"}},\"colorscale\":{\"diverging\":[[0,\"#8e0152\"],[0.1,\"#c51b7d\"],[0.2,\"#de77ae\"],[0.3,\"#f1b6da\"],[0.4,\"#fde0ef\"],[0.5,\"#f7f7f7\"],[0.6,\"#e6f5d0\"],[0.7,\"#b8e186\"],[0.8,\"#7fbc41\"],[0.9,\"#4d9221\"],[1,\"#276419\"]],\"sequential\":[[0.0,\"#0d0887\"],[0.1111111111111111,\"#46039f\"],[0.2222222222222222,\"#7201a8\"],[0.3333333333333333,\"#9c179e\"],[0.4444444444444444,\"#bd3786\"],[0.5555555555555556,\"#d8576b\"],[0.6666666666666666,\"#ed7953\"],[0.7777777777777778,\"#fb9f3a\"],[0.8888888888888888,\"#fdca26\"],[1.0,\"#f0f921\"]],\"sequentialminus\":[[0.0,\"#0d0887\"],[0.1111111111111111,\"#46039f\"],[0.2222222222222222,\"#7201a8\"],[0.3333333333333333,\"#9c179e\"],[0.4444444444444444,\"#bd3786\"],[0.5555555555555556,\"#d8576b\"],[0.6666666666666666,\"#ed7953\"],[0.7777777777777778,\"#fb9f3a\"],[0.8888888888888888,\"#fdca26\"],[1.0,\"#f0f921\"]]},\"colorway\":[\"#636efa\",\"#EF553B\",\"#00cc96\",\"#ab63fa\",\"#FFA15A\",\"#19d3f3\",\"#FF6692\",\"#B6E880\",\"#FF97FF\",\"#FECB52\"],\"font\":{\"color\":\"#2a3f5f\"},\"geo\":{\"bgcolor\":\"white\",\"lakecolor\":\"white\",\"landcolor\":\"#E5ECF6\",\"showlakes\":true,\"showland\":true,\"subunitcolor\":\"white\"},\"hoverlabel\":{\"align\":\"left\"},\"hovermode\":\"closest\",\"mapbox\":{\"style\":\"light\"},\"paper_bgcolor\":\"white\",\"plot_bgcolor\":\"#E5ECF6\",\"polar\":{\"angularaxis\":{\"gridcolor\":\"white\",\"linecolor\":\"white\",\"ticks\":\"\"},\"bgcolor\":\"#E5ECF6\",\"radialaxis\":{\"gridcolor\":\"white\",\"linecolor\":\"white\",\"ticks\":\"\"}},\"scene\":{\"xaxis\":{\"backgroundcolor\":\"#E5ECF6\",\"gridcolor\":\"white\",\"gridwidth\":2,\"linecolor\":\"white\",\"showbackground\":true,\"ticks\":\"\",\"zerolinecolor\":\"white\"},\"yaxis\":{\"backgroundcolor\":\"#E5ECF6\",\"gridcolor\":\"white\",\"gridwidth\":2,\"linecolor\":\"white\",\"showbackground\":true,\"ticks\":\"\",\"zerolinecolor\":\"white\"},\"zaxis\":{\"backgroundcolor\":\"#E5ECF6\",\"gridcolor\":\"white\",\"gridwidth\":2,\"linecolor\":\"white\",\"showbackground\":true,\"ticks\":\"\",\"zerolinecolor\":\"white\"}},\"shapedefaults\":{\"line\":{\"color\":\"#2a3f5f\"}},\"ternary\":{\"aaxis\":{\"gridcolor\":\"white\",\"linecolor\":\"white\",\"ticks\":\"\"},\"baxis\":{\"gridcolor\":\"white\",\"linecolor\":\"white\",\"ticks\":\"\"},\"bgcolor\":\"#E5ECF6\",\"caxis\":{\"gridcolor\":\"white\",\"linecolor\":\"white\",\"ticks\":\"\"}},\"title\":{\"x\":0.05},\"xaxis\":{\"automargin\":true,\"gridcolor\":\"white\",\"linecolor\":\"white\",\"ticks\":\"\",\"title\":{\"standoff\":15},\"zerolinecolor\":\"white\",\"zerolinewidth\":2},\"yaxis\":{\"automargin\":true,\"gridcolor\":\"white\",\"linecolor\":\"white\",\"ticks\":\"\",\"title\":{\"standoff\":15},\"zerolinecolor\":\"white\",\"zerolinewidth\":2}}}},                        {\"responsive\": true}                    ).then(function(){\n",
       "                            \n",
       "var gd = document.getElementById('bbdc6c10-661c-408f-be5a-bf173b52278f');\n",
       "var x = new MutationObserver(function (mutations, observer) {{\n",
       "        var display = window.getComputedStyle(gd).display;\n",
       "        if (!display || display === 'none') {{\n",
       "            console.log([gd, 'removed!']);\n",
       "            Plotly.purge(gd);\n",
       "            observer.disconnect();\n",
       "        }}\n",
       "}});\n",
       "\n",
       "// Listen for the removal of the full notebook cells\n",
       "var notebookContainer = gd.closest('#notebook-container');\n",
       "if (notebookContainer) {{\n",
       "    x.observe(notebookContainer, {childList: true});\n",
       "}}\n",
       "\n",
       "// Listen for the clearing of the current output cell\n",
       "var outputEl = gd.closest('.output');\n",
       "if (outputEl) {{\n",
       "    x.observe(outputEl, {childList: true});\n",
       "}}\n",
       "\n",
       "                        })                };                });            </script>        </div>"
      ]
     },
     "metadata": {},
     "output_type": "display_data"
    }
   ],
   "source": [
    "#import chart_studio.plotly as py\n",
    "import plotly.graph_objects as go\n",
    "\n",
    "data = [go.Scatter(x=df_cmt.index,y=df_cmt.usd_close,name='USD Close'),\n",
    "        go.Scatter(x=rol_usd.index,y=rol_usd.values, name='Média móvel 5 dias')]\n",
    "\n",
    "py.iplot(data)"
   ]
  },
  {
   "cell_type": "code",
   "execution_count": 115,
   "id": "ed597570",
   "metadata": {},
   "outputs": [
    {
     "data": {
      "text/plain": [
       "data\n",
       "2018-01-01         NaN\n",
       "2018-01-02         NaN\n",
       "2018-01-04         NaN\n",
       "2018-01-12         NaN\n",
       "2018-01-27    0.097215\n",
       "                ...   \n",
       "2022-02-13    0.183953\n",
       "2022-02-22    0.171267\n",
       "2022-02-27    0.118321\n",
       "2022-03-08    0.133393\n",
       "2022-03-09    0.107467\n",
       "Name: usd_vol, Length: 195, dtype: float64"
      ]
     },
     "execution_count": 115,
     "metadata": {},
     "output_type": "execute_result"
    }
   ],
   "source": [
    "rol_vol = df_cmt.usd_vol.rolling(5).mean()\n",
    "rol_vol"
   ]
  },
  {
   "cell_type": "code",
   "execution_count": 116,
   "id": "322fee71",
   "metadata": {},
   "outputs": [
    {
     "data": {
      "application/vnd.plotly.v1+json": {
       "config": {
        "linkText": "Export to plot.ly",
        "plotlyServerURL": "https://plot.ly",
        "showLink": false
       },
       "data": [
        {
         "name": "USD Volatilidade",
         "type": "scatter",
         "x": [
          "2018-01-01T00:00:00",
          "2018-01-02T00:00:00",
          "2018-01-04T00:00:00",
          "2018-01-12T00:00:00",
          "2018-01-27T00:00:00",
          "2018-01-29T00:00:00",
          "2018-02-17T00:00:00",
          "2018-02-17T00:00:00",
          "2018-03-03T00:00:00",
          "2018-03-05T00:00:00",
          "2018-03-17T00:00:00",
          "2018-03-27T00:00:00",
          "2018-03-30T00:00:00",
          "2018-04-05T00:00:00",
          "2018-04-06T00:00:00",
          "2018-04-24T00:00:00",
          "2018-04-24T00:00:00",
          "2018-05-10T00:00:00",
          "2018-05-25T00:00:00",
          "2018-05-31T00:00:00",
          "2018-06-12T00:00:00",
          "2018-07-28T00:00:00",
          "2018-07-28T00:00:00",
          "2018-08-06T00:00:00",
          "2018-08-13T00:00:00",
          "2018-08-13T00:00:00",
          "2018-08-16T00:00:00",
          "2018-08-16T00:00:00",
          "2018-08-26T00:00:00",
          "2018-08-26T00:00:00",
          "2018-08-30T00:00:00",
          "2018-09-03T00:00:00",
          "2018-09-05T00:00:00",
          "2018-09-07T00:00:00",
          "2018-09-20T00:00:00",
          "2018-09-21T00:00:00",
          "2018-09-25T00:00:00",
          "2018-10-22T00:00:00",
          "2018-10-24T00:00:00",
          "2018-11-15T00:00:00",
          "2018-11-19T00:00:00",
          "2018-12-03T00:00:00",
          "2018-12-10T00:00:00",
          "2018-12-10T00:00:00",
          "2018-12-15T00:00:00",
          "2019-01-20T00:00:00",
          "2019-02-07T00:00:00",
          "2019-02-10T00:00:00",
          "2019-02-10T00:00:00",
          "2019-02-12T00:00:00",
          "2019-02-20T00:00:00",
          "2019-02-24T00:00:00",
          "2019-03-12T00:00:00",
          "2019-03-12T00:00:00",
          "2019-04-05T00:00:00",
          "2019-04-06T00:00:00",
          "2019-04-21T00:00:00",
          "2019-04-26T00:00:00",
          "2019-05-04T00:00:00",
          "2019-05-08T00:00:00",
          "2019-05-15T00:00:00",
          "2019-05-30T00:00:00",
          "2019-07-21T00:00:00",
          "2019-07-30T00:00:00",
          "2019-07-31T00:00:00",
          "2019-08-19T00:00:00",
          "2019-08-21T00:00:00",
          "2019-08-31T00:00:00",
          "2019-09-07T00:00:00",
          "2019-09-10T00:00:00",
          "2019-09-15T00:00:00",
          "2019-09-25T00:00:00",
          "2019-10-01T00:00:00",
          "2019-10-08T00:00:00",
          "2019-10-27T00:00:00",
          "2019-11-11T00:00:00",
          "2019-11-23T00:00:00",
          "2019-11-28T00:00:00",
          "2019-12-27T00:00:00",
          "2019-12-28T00:00:00",
          "2020-01-07T00:00:00",
          "2020-01-13T00:00:00",
          "2020-01-25T00:00:00",
          "2020-02-04T00:00:00",
          "2020-02-10T00:00:00",
          "2020-02-11T00:00:00",
          "2020-02-11T00:00:00",
          "2020-02-23T00:00:00",
          "2020-02-26T00:00:00",
          "2020-03-05T00:00:00",
          "2020-03-10T00:00:00",
          "2020-03-11T00:00:00",
          "2020-03-13T00:00:00",
          "2020-03-14T00:00:00",
          "2020-03-15T00:00:00",
          "2020-03-20T00:00:00",
          "2020-03-22T00:00:00",
          "2020-03-23T00:00:00",
          "2020-03-28T00:00:00",
          "2020-04-05T00:00:00",
          "2020-04-09T00:00:00",
          "2020-04-13T00:00:00",
          "2020-04-19T00:00:00",
          "2020-04-22T00:00:00",
          "2020-04-28T00:00:00",
          "2020-04-29T00:00:00",
          "2020-05-02T00:00:00",
          "2020-05-20T00:00:00",
          "2020-05-22T00:00:00",
          "2020-06-01T00:00:00",
          "2020-06-23T00:00:00",
          "2020-07-02T00:00:00",
          "2020-07-04T00:00:00",
          "2020-07-04T00:00:00",
          "2020-07-04T00:00:00",
          "2020-07-25T00:00:00",
          "2020-07-26T00:00:00",
          "2020-08-12T00:00:00",
          "2020-08-23T00:00:00",
          "2020-08-25T00:00:00",
          "2020-08-27T00:00:00",
          "2020-08-27T00:00:00",
          "2020-09-10T00:00:00",
          "2020-09-16T00:00:00",
          "2020-09-28T00:00:00",
          "2020-10-07T00:00:00",
          "2020-10-10T00:00:00",
          "2020-10-16T00:00:00",
          "2020-10-16T00:00:00",
          "2020-10-18T00:00:00",
          "2020-10-19T00:00:00",
          "2020-10-23T00:00:00",
          "2020-10-27T00:00:00",
          "2020-11-05T00:00:00",
          "2020-11-21T00:00:00",
          "2020-11-23T00:00:00",
          "2020-12-02T00:00:00",
          "2020-12-15T00:00:00",
          "2020-12-19T00:00:00",
          "2020-12-21T00:00:00",
          "2020-12-25T00:00:00",
          "2020-12-25T00:00:00",
          "2021-01-07T00:00:00",
          "2021-01-08T00:00:00",
          "2021-01-14T00:00:00",
          "2021-01-30T00:00:00",
          "2021-01-31T00:00:00",
          "2021-02-10T00:00:00",
          "2021-02-15T00:00:00",
          "2021-02-24T00:00:00",
          "2021-02-26T00:00:00",
          "2021-03-09T00:00:00",
          "2021-03-11T00:00:00",
          "2021-03-15T00:00:00",
          "2021-03-24T00:00:00",
          "2021-03-28T00:00:00",
          "2021-04-01T00:00:00",
          "2021-04-04T00:00:00",
          "2021-04-08T00:00:00",
          "2021-04-15T00:00:00",
          "2021-04-24T00:00:00",
          "2021-05-18T00:00:00",
          "2021-05-22T00:00:00",
          "2021-05-25T00:00:00",
          "2021-05-27T00:00:00",
          "2021-05-29T00:00:00",
          "2021-06-05T00:00:00",
          "2021-06-10T00:00:00",
          "2021-06-25T00:00:00",
          "2021-06-25T00:00:00",
          "2021-06-28T00:00:00",
          "2021-07-19T00:00:00",
          "2021-07-28T00:00:00",
          "2021-07-30T00:00:00",
          "2021-08-06T00:00:00",
          "2021-08-27T00:00:00",
          "2021-08-28T00:00:00",
          "2021-09-22T00:00:00",
          "2021-09-26T00:00:00",
          "2021-10-10T00:00:00",
          "2021-10-27T00:00:00",
          "2021-10-31T00:00:00",
          "2021-11-13T00:00:00",
          "2021-11-28T00:00:00",
          "2021-12-22T00:00:00",
          "2021-12-25T00:00:00",
          "2021-12-28T00:00:00",
          "2021-12-29T00:00:00",
          "2022-02-02T00:00:00",
          "2022-02-04T00:00:00",
          "2022-02-13T00:00:00",
          "2022-02-22T00:00:00",
          "2022-02-27T00:00:00",
          "2022-03-08T00:00:00",
          "2022-03-09T00:00:00"
         ],
         "y": [
          0.08705590390076977,
          0.12057057855984891,
          0.10532584741816833,
          0.07569381969477289,
          0.09743095841240086,
          0.167416669519613,
          0.11614200124770233,
          0.08830046815583874,
          0.08543023572223221,
          0.10387540767451514,
          0.1161540743677462,
          0.16411808597456826,
          0.08466824830357138,
          0.09399912774379299,
          0.1275787850496827,
          0.10142368412702824,
          0.07694046984607059,
          0.11080305022600062,
          0.10814280431030572,
          0.2376221981299,
          0.40887335135576275,
          0.3455732753356388,
          0.1070959774930763,
          0.09984720775396687,
          0.10055996536863342,
          0.11457579452735464,
          0.09670659142947466,
          0.06717439868690463,
          0.07211729116084444,
          0.19351289556750145,
          0.1271446295042408,
          0.09861657845083298,
          0.09394515382237875,
          0.09396834835412407,
          0.11021011739386607,
          0.12154693212219592,
          0.11420215828443604,
          0.0993627382176817,
          0.22312810666195482,
          0.16536905828713566,
          0.08553475826477588,
          0.09830846647135512,
          0.15002598242983148,
          0.1149727840401057,
          0.08976618068076037,
          0.09794225244953295,
          0.18257053325345104,
          0.09535854122796898,
          0.08321124026798138,
          0.08285206554368513,
          0.1438466732229298,
          0.08276194653986439,
          0.12309296627038263,
          0.1308648299659074,
          0.1532861911383949,
          0.23684482041977703,
          0.11187109137694037,
          0.23290574364583871,
          0.09974571932544293,
          0.2324017579181722,
          0.18282803538260828,
          0.13678707590861106,
          0.19361123528473537,
          0.08861692816762723,
          0.23819230541361258,
          0.07793158914991248,
          0.224674747247842,
          0.1295367095952969,
          0.07741614929405549,
          0.11608725175129253,
          0.13379873208403678,
          0.1562405997172942,
          0.1783220620296027,
          0.197271689555335,
          0.10131812340198953,
          0.10730959100695253,
          0.21393850482686666,
          0.09650391417656007,
          0.14664943339726919,
          0.1284254506654971,
          0.2628244529705705,
          0.2285480627838533,
          0.09823444600539098,
          0.15369828566942959,
          0.11621595018263488,
          0.12298848320583733,
          0.18076187504426797,
          0.2244935900454965,
          0.5259362076108499,
          0.14318337652751,
          0.08919739799061009,
          0.16011857284377384,
          0.11604459526834836,
          0.10499476079007616,
          0.12491507766919413,
          0.26491510549184083,
          0.21694054910186913,
          0.15010380173097207,
          0.1005708048756814,
          0.1538730925527895,
          0.2503912057456884,
          0.11909765108899305,
          0.1625340029042085,
          0.18655511636819103,
          0.13193181257790873,
          0.08780841964813162,
          0.09216704081026576,
          0.09977654492960958,
          0.29770396286115747,
          0.10217562669480716,
          0.07248330011651055,
          0.1094628725767787,
          0.36512385650979856,
          0.08145932355305845,
          0.262242450136147,
          0.1303304787884169,
          0.280880228362927,
          0.13516566197634639,
          0.07470774260618787,
          0.10022277921059462,
          0.34576122194566067,
          0.16993082927658498,
          0.13678707590861106,
          0.14369575931445622,
          0.09856805684979847,
          0.12872804019923617,
          0.12437607614003307,
          0.1424012938065328,
          0.10496097556490619,
          0.3324772068036704,
          0.11110766660638702,
          0.1417750012238105,
          0.08255005609099256,
          0.14598685224665592,
          0.13097890178368965,
          0.30029791181440657,
          0.08101000740261943,
          0.3051616275737687,
          0.21743497435613654,
          0.08057846098317963,
          0.14705599841192363,
          0.2374006679785172,
          0.18375825191447293,
          0.15424573069937397,
          0.2596307960022627,
          0.06812817174992172,
          0.30650028317425376,
          0.10894102394170209,
          0.12458207399949542,
          0.09487531113310521,
          0.2810958507753628,
          0.21641361086414834,
          0.3002513366803003,
          0.3178926028084195,
          0.12861059543454872,
          0.1460823913751315,
          0.24778866378531567,
          0.07262500471735134,
          0.10132970601542327,
          0.0815235184706041,
          0.06415141361320147,
          0.24390212140078543,
          0.17965562945986804,
          0.13474385778699036,
          0.08273959976448542,
          0.17392412826941558,
          0.09705832365016723,
          0.10578063261946849,
          0.08267894552620825,
          0.09042701032643351,
          0.14304291284489362,
          0.0964081364943658,
          0.07964249318152458,
          0.08177704151292606,
          0.13023066411800835,
          0.10581737827072407,
          0.12842130593368162,
          0.13107222752278364,
          0.3270021165697364,
          0.11794170974974975,
          0.08747898755375377,
          0.12895854686598754,
          0.2073833983590074,
          0.17072457254649173,
          0.1405175644122831,
          0.15078135148028293,
          0.18573627400182052,
          0.3629147265476314,
          0.0753046204682057,
          0.20404461570796892,
          0.09176655648369175,
          0.12230526103050691,
          0.09818315027480293,
          0.15066348910811556,
          0.07441875990416445
         ]
        },
        {
         "name": "Média móvel 5 dias",
         "type": "scatter",
         "x": [
          "2018-01-01T00:00:00",
          "2018-01-02T00:00:00",
          "2018-01-04T00:00:00",
          "2018-01-12T00:00:00",
          "2018-01-27T00:00:00",
          "2018-01-29T00:00:00",
          "2018-02-17T00:00:00",
          "2018-02-17T00:00:00",
          "2018-03-03T00:00:00",
          "2018-03-05T00:00:00",
          "2018-03-17T00:00:00",
          "2018-03-27T00:00:00",
          "2018-03-30T00:00:00",
          "2018-04-05T00:00:00",
          "2018-04-06T00:00:00",
          "2018-04-24T00:00:00",
          "2018-04-24T00:00:00",
          "2018-05-10T00:00:00",
          "2018-05-25T00:00:00",
          "2018-05-31T00:00:00",
          "2018-06-12T00:00:00",
          "2018-07-28T00:00:00",
          "2018-07-28T00:00:00",
          "2018-08-06T00:00:00",
          "2018-08-13T00:00:00",
          "2018-08-13T00:00:00",
          "2018-08-16T00:00:00",
          "2018-08-16T00:00:00",
          "2018-08-26T00:00:00",
          "2018-08-26T00:00:00",
          "2018-08-30T00:00:00",
          "2018-09-03T00:00:00",
          "2018-09-05T00:00:00",
          "2018-09-07T00:00:00",
          "2018-09-20T00:00:00",
          "2018-09-21T00:00:00",
          "2018-09-25T00:00:00",
          "2018-10-22T00:00:00",
          "2018-10-24T00:00:00",
          "2018-11-15T00:00:00",
          "2018-11-19T00:00:00",
          "2018-12-03T00:00:00",
          "2018-12-10T00:00:00",
          "2018-12-10T00:00:00",
          "2018-12-15T00:00:00",
          "2019-01-20T00:00:00",
          "2019-02-07T00:00:00",
          "2019-02-10T00:00:00",
          "2019-02-10T00:00:00",
          "2019-02-12T00:00:00",
          "2019-02-20T00:00:00",
          "2019-02-24T00:00:00",
          "2019-03-12T00:00:00",
          "2019-03-12T00:00:00",
          "2019-04-05T00:00:00",
          "2019-04-06T00:00:00",
          "2019-04-21T00:00:00",
          "2019-04-26T00:00:00",
          "2019-05-04T00:00:00",
          "2019-05-08T00:00:00",
          "2019-05-15T00:00:00",
          "2019-05-30T00:00:00",
          "2019-07-21T00:00:00",
          "2019-07-30T00:00:00",
          "2019-07-31T00:00:00",
          "2019-08-19T00:00:00",
          "2019-08-21T00:00:00",
          "2019-08-31T00:00:00",
          "2019-09-07T00:00:00",
          "2019-09-10T00:00:00",
          "2019-09-15T00:00:00",
          "2019-09-25T00:00:00",
          "2019-10-01T00:00:00",
          "2019-10-08T00:00:00",
          "2019-10-27T00:00:00",
          "2019-11-11T00:00:00",
          "2019-11-23T00:00:00",
          "2019-11-28T00:00:00",
          "2019-12-27T00:00:00",
          "2019-12-28T00:00:00",
          "2020-01-07T00:00:00",
          "2020-01-13T00:00:00",
          "2020-01-25T00:00:00",
          "2020-02-04T00:00:00",
          "2020-02-10T00:00:00",
          "2020-02-11T00:00:00",
          "2020-02-11T00:00:00",
          "2020-02-23T00:00:00",
          "2020-02-26T00:00:00",
          "2020-03-05T00:00:00",
          "2020-03-10T00:00:00",
          "2020-03-11T00:00:00",
          "2020-03-13T00:00:00",
          "2020-03-14T00:00:00",
          "2020-03-15T00:00:00",
          "2020-03-20T00:00:00",
          "2020-03-22T00:00:00",
          "2020-03-23T00:00:00",
          "2020-03-28T00:00:00",
          "2020-04-05T00:00:00",
          "2020-04-09T00:00:00",
          "2020-04-13T00:00:00",
          "2020-04-19T00:00:00",
          "2020-04-22T00:00:00",
          "2020-04-28T00:00:00",
          "2020-04-29T00:00:00",
          "2020-05-02T00:00:00",
          "2020-05-20T00:00:00",
          "2020-05-22T00:00:00",
          "2020-06-01T00:00:00",
          "2020-06-23T00:00:00",
          "2020-07-02T00:00:00",
          "2020-07-04T00:00:00",
          "2020-07-04T00:00:00",
          "2020-07-04T00:00:00",
          "2020-07-25T00:00:00",
          "2020-07-26T00:00:00",
          "2020-08-12T00:00:00",
          "2020-08-23T00:00:00",
          "2020-08-25T00:00:00",
          "2020-08-27T00:00:00",
          "2020-08-27T00:00:00",
          "2020-09-10T00:00:00",
          "2020-09-16T00:00:00",
          "2020-09-28T00:00:00",
          "2020-10-07T00:00:00",
          "2020-10-10T00:00:00",
          "2020-10-16T00:00:00",
          "2020-10-16T00:00:00",
          "2020-10-18T00:00:00",
          "2020-10-19T00:00:00",
          "2020-10-23T00:00:00",
          "2020-10-27T00:00:00",
          "2020-11-05T00:00:00",
          "2020-11-21T00:00:00",
          "2020-11-23T00:00:00",
          "2020-12-02T00:00:00",
          "2020-12-15T00:00:00",
          "2020-12-19T00:00:00",
          "2020-12-21T00:00:00",
          "2020-12-25T00:00:00",
          "2020-12-25T00:00:00",
          "2021-01-07T00:00:00",
          "2021-01-08T00:00:00",
          "2021-01-14T00:00:00",
          "2021-01-30T00:00:00",
          "2021-01-31T00:00:00",
          "2021-02-10T00:00:00",
          "2021-02-15T00:00:00",
          "2021-02-24T00:00:00",
          "2021-02-26T00:00:00",
          "2021-03-09T00:00:00",
          "2021-03-11T00:00:00",
          "2021-03-15T00:00:00",
          "2021-03-24T00:00:00",
          "2021-03-28T00:00:00",
          "2021-04-01T00:00:00",
          "2021-04-04T00:00:00",
          "2021-04-08T00:00:00",
          "2021-04-15T00:00:00",
          "2021-04-24T00:00:00",
          "2021-05-18T00:00:00",
          "2021-05-22T00:00:00",
          "2021-05-25T00:00:00",
          "2021-05-27T00:00:00",
          "2021-05-29T00:00:00",
          "2021-06-05T00:00:00",
          "2021-06-10T00:00:00",
          "2021-06-25T00:00:00",
          "2021-06-25T00:00:00",
          "2021-06-28T00:00:00",
          "2021-07-19T00:00:00",
          "2021-07-28T00:00:00",
          "2021-07-30T00:00:00",
          "2021-08-06T00:00:00",
          "2021-08-27T00:00:00",
          "2021-08-28T00:00:00",
          "2021-09-22T00:00:00",
          "2021-09-26T00:00:00",
          "2021-10-10T00:00:00",
          "2021-10-27T00:00:00",
          "2021-10-31T00:00:00",
          "2021-11-13T00:00:00",
          "2021-11-28T00:00:00",
          "2021-12-22T00:00:00",
          "2021-12-25T00:00:00",
          "2021-12-28T00:00:00",
          "2021-12-29T00:00:00",
          "2022-02-02T00:00:00",
          "2022-02-04T00:00:00",
          "2022-02-13T00:00:00",
          "2022-02-22T00:00:00",
          "2022-02-27T00:00:00",
          "2022-03-08T00:00:00",
          "2022-03-09T00:00:00"
         ],
         "y": [
          null,
          null,
          null,
          null,
          0.09721542159719215,
          0.11328757472096081,
          0.1124018592585315,
          0.10899678340606556,
          0.11094406661155742,
          0.11223295646398028,
          0.10198043743360694,
          0.11157565437898012,
          0.11084921040852665,
          0.1125629888128388,
          0.11730366428787231,
          0.11435758623972872,
          0.0969220630140292,
          0.10214902339851503,
          0.10497775871181758,
          0.12698644132786102,
          0.18847637477360793,
          0.24220293587152159,
          0.2414615213249367,
          0.23980240201366895,
          0.21238995546141562,
          0.153530444095734,
          0.10375710731450119,
          0.09577279155326683,
          0.09022680823464237,
          0.10881739427441597,
          0.11133116126979319,
          0.11171315867406487,
          0.11706730970115968,
          0.12143752113981561,
          0.10477696550508853,
          0.10365742602867956,
          0.10677454199540018,
          0.10785805887446076,
          0.13369001053602692,
          0.14472179871468083,
          0.1375193639431968,
          0.13434062558058063,
          0.14447327442301058,
          0.12284220989864077,
          0.1077216343773657,
          0.11020313321431711,
          0.1270555465707363,
          0.11612205833036379,
          0.10976974957593895,
          0.10838692654852389,
          0.11756781070320325,
          0.09760609336048594,
          0.10315297836896867,
          0.11268369630855386,
          0.1267705214274958,
          0.14537015086686528,
          0.15119197983428048,
          0.1731545353093717,
          0.1669307131812788,
          0.18275382653723424,
          0.1719504695298005,
          0.17693366643613465,
          0.16907476476391398,
          0.16684900653235082,
          0.16800711603143892,
          0.14702782678489973,
          0.16460536105274592,
          0.15179045591485824,
          0.14955030014014387,
          0.12512928940767987,
          0.13630271799450472,
          0.12261588848839518,
          0.13237295897525633,
          0.15634406702751225,
          0.15339024135765164,
          0.1480924131422348,
          0.15963199416414928,
          0.14326836459354078,
          0.1331439133619276,
          0.1385653788146291,
          0.1696683512073527,
          0.17259026279875003,
          0.1729363691645162,
          0.1743461396189483,
          0.17190423952237582,
          0.1439370455694292,
          0.13437980802151214,
          0.15963163682953324,
          0.23407922121781732,
          0.2394727064867923,
          0.2327144894437469,
          0.22858582900364807,
          0.20689603004821847,
          0.12270774068406369,
          0.11905408091240052,
          0.15419762241264667,
          0.16556201766426573,
          0.17237385895679047,
          0.1714890677739115,
          0.17728067075063056,
          0.1743758908014001,
          0.15480731119882488,
          0.15729335143347217,
          0.1744902137319741,
          0.17010195773699793,
          0.1375854005174866,
          0.13219927846174112,
          0.11964778686682134,
          0.14187755616541464,
          0.13592631898879431,
          0.1328612950824701,
          0.1363204614357727,
          0.1893899237518105,
          0.14614099589019067,
          0.17815436057845865,
          0.18972379631283992,
          0.22400726747006958,
          0.17801562856337913,
          0.176665312374005,
          0.14426137818889456,
          0.18734752682034328,
          0.1651576470030749,
          0.16548192978952786,
          0.17927953313118153,
          0.17894858865902227,
          0.13554195230973737,
          0.126431001682427,
          0.12755384526201136,
          0.11980688851210135,
          0.16658871850287574,
          0.1630646437843059,
          0.16654442880106138,
          0.15457418125795333,
          0.16277935659430326,
          0.12247969559030714,
          0.16031774463191104,
          0.14816474586767284,
          0.19268706016422804,
          0.2069766845861242,
          0.19689659642602217,
          0.1662482137455256,
          0.19752634586070514,
          0.17324567072884597,
          0.1606078219974935,
          0.1964182890013101,
          0.1806327236689097,
          0.194452646708057,
          0.17948920111350286,
          0.17355646977352715,
          0.14060537279969565,
          0.18319890860478388,
          0.16518157414276277,
          0.20344363669048243,
          0.24210574245226724,
          0.24885279931255594,
          0.22185010743250966,
          0.22812511801674312,
          0.18259985162415332,
          0.1392872722655541,
          0.12986985687276517,
          0.11348366132037917,
          0.11270635284347312,
          0.13411247779197646,
          0.14079530814628988,
          0.14103852440506615,
          0.16299306733630897,
          0.13362430778618534,
          0.11884930841810541,
          0.10843632596594899,
          0.1099738080783386,
          0.10379756499343422,
          0.10366752756227393,
          0.09843989967468517,
          0.09825951887202872,
          0.10622024963034368,
          0.09877514271550977,
          0.10517777660337294,
          0.11546372347162474,
          0.1645087384829868,
          0.16205094760933508,
          0.158383269465941,
          0.1584907176524022,
          0.17375295181964695,
          0.14249744301499803,
          0.1470126139475047,
          0.15967308673281053,
          0.17102863215997713,
          0.2021348977977019,
          0.18305090738204474,
          0.1957563176411819,
          0.18395335864186366,
          0.17126715604760093,
          0.11832084079303525,
          0.1333926145210172,
          0.1074674433602563
         ]
        }
       ],
       "layout": {
        "template": {
         "data": {
          "bar": [
           {
            "error_x": {
             "color": "#2a3f5f"
            },
            "error_y": {
             "color": "#2a3f5f"
            },
            "marker": {
             "line": {
              "color": "#E5ECF6",
              "width": 0.5
             },
             "pattern": {
              "fillmode": "overlay",
              "size": 10,
              "solidity": 0.2
             }
            },
            "type": "bar"
           }
          ],
          "barpolar": [
           {
            "marker": {
             "line": {
              "color": "#E5ECF6",
              "width": 0.5
             },
             "pattern": {
              "fillmode": "overlay",
              "size": 10,
              "solidity": 0.2
             }
            },
            "type": "barpolar"
           }
          ],
          "carpet": [
           {
            "aaxis": {
             "endlinecolor": "#2a3f5f",
             "gridcolor": "white",
             "linecolor": "white",
             "minorgridcolor": "white",
             "startlinecolor": "#2a3f5f"
            },
            "baxis": {
             "endlinecolor": "#2a3f5f",
             "gridcolor": "white",
             "linecolor": "white",
             "minorgridcolor": "white",
             "startlinecolor": "#2a3f5f"
            },
            "type": "carpet"
           }
          ],
          "choropleth": [
           {
            "colorbar": {
             "outlinewidth": 0,
             "ticks": ""
            },
            "type": "choropleth"
           }
          ],
          "contour": [
           {
            "colorbar": {
             "outlinewidth": 0,
             "ticks": ""
            },
            "colorscale": [
             [
              0,
              "#0d0887"
             ],
             [
              0.1111111111111111,
              "#46039f"
             ],
             [
              0.2222222222222222,
              "#7201a8"
             ],
             [
              0.3333333333333333,
              "#9c179e"
             ],
             [
              0.4444444444444444,
              "#bd3786"
             ],
             [
              0.5555555555555556,
              "#d8576b"
             ],
             [
              0.6666666666666666,
              "#ed7953"
             ],
             [
              0.7777777777777778,
              "#fb9f3a"
             ],
             [
              0.8888888888888888,
              "#fdca26"
             ],
             [
              1,
              "#f0f921"
             ]
            ],
            "type": "contour"
           }
          ],
          "contourcarpet": [
           {
            "colorbar": {
             "outlinewidth": 0,
             "ticks": ""
            },
            "type": "contourcarpet"
           }
          ],
          "heatmap": [
           {
            "colorbar": {
             "outlinewidth": 0,
             "ticks": ""
            },
            "colorscale": [
             [
              0,
              "#0d0887"
             ],
             [
              0.1111111111111111,
              "#46039f"
             ],
             [
              0.2222222222222222,
              "#7201a8"
             ],
             [
              0.3333333333333333,
              "#9c179e"
             ],
             [
              0.4444444444444444,
              "#bd3786"
             ],
             [
              0.5555555555555556,
              "#d8576b"
             ],
             [
              0.6666666666666666,
              "#ed7953"
             ],
             [
              0.7777777777777778,
              "#fb9f3a"
             ],
             [
              0.8888888888888888,
              "#fdca26"
             ],
             [
              1,
              "#f0f921"
             ]
            ],
            "type": "heatmap"
           }
          ],
          "heatmapgl": [
           {
            "colorbar": {
             "outlinewidth": 0,
             "ticks": ""
            },
            "colorscale": [
             [
              0,
              "#0d0887"
             ],
             [
              0.1111111111111111,
              "#46039f"
             ],
             [
              0.2222222222222222,
              "#7201a8"
             ],
             [
              0.3333333333333333,
              "#9c179e"
             ],
             [
              0.4444444444444444,
              "#bd3786"
             ],
             [
              0.5555555555555556,
              "#d8576b"
             ],
             [
              0.6666666666666666,
              "#ed7953"
             ],
             [
              0.7777777777777778,
              "#fb9f3a"
             ],
             [
              0.8888888888888888,
              "#fdca26"
             ],
             [
              1,
              "#f0f921"
             ]
            ],
            "type": "heatmapgl"
           }
          ],
          "histogram": [
           {
            "marker": {
             "pattern": {
              "fillmode": "overlay",
              "size": 10,
              "solidity": 0.2
             }
            },
            "type": "histogram"
           }
          ],
          "histogram2d": [
           {
            "colorbar": {
             "outlinewidth": 0,
             "ticks": ""
            },
            "colorscale": [
             [
              0,
              "#0d0887"
             ],
             [
              0.1111111111111111,
              "#46039f"
             ],
             [
              0.2222222222222222,
              "#7201a8"
             ],
             [
              0.3333333333333333,
              "#9c179e"
             ],
             [
              0.4444444444444444,
              "#bd3786"
             ],
             [
              0.5555555555555556,
              "#d8576b"
             ],
             [
              0.6666666666666666,
              "#ed7953"
             ],
             [
              0.7777777777777778,
              "#fb9f3a"
             ],
             [
              0.8888888888888888,
              "#fdca26"
             ],
             [
              1,
              "#f0f921"
             ]
            ],
            "type": "histogram2d"
           }
          ],
          "histogram2dcontour": [
           {
            "colorbar": {
             "outlinewidth": 0,
             "ticks": ""
            },
            "colorscale": [
             [
              0,
              "#0d0887"
             ],
             [
              0.1111111111111111,
              "#46039f"
             ],
             [
              0.2222222222222222,
              "#7201a8"
             ],
             [
              0.3333333333333333,
              "#9c179e"
             ],
             [
              0.4444444444444444,
              "#bd3786"
             ],
             [
              0.5555555555555556,
              "#d8576b"
             ],
             [
              0.6666666666666666,
              "#ed7953"
             ],
             [
              0.7777777777777778,
              "#fb9f3a"
             ],
             [
              0.8888888888888888,
              "#fdca26"
             ],
             [
              1,
              "#f0f921"
             ]
            ],
            "type": "histogram2dcontour"
           }
          ],
          "mesh3d": [
           {
            "colorbar": {
             "outlinewidth": 0,
             "ticks": ""
            },
            "type": "mesh3d"
           }
          ],
          "parcoords": [
           {
            "line": {
             "colorbar": {
              "outlinewidth": 0,
              "ticks": ""
             }
            },
            "type": "parcoords"
           }
          ],
          "pie": [
           {
            "automargin": true,
            "type": "pie"
           }
          ],
          "scatter": [
           {
            "marker": {
             "colorbar": {
              "outlinewidth": 0,
              "ticks": ""
             }
            },
            "type": "scatter"
           }
          ],
          "scatter3d": [
           {
            "line": {
             "colorbar": {
              "outlinewidth": 0,
              "ticks": ""
             }
            },
            "marker": {
             "colorbar": {
              "outlinewidth": 0,
              "ticks": ""
             }
            },
            "type": "scatter3d"
           }
          ],
          "scattercarpet": [
           {
            "marker": {
             "colorbar": {
              "outlinewidth": 0,
              "ticks": ""
             }
            },
            "type": "scattercarpet"
           }
          ],
          "scattergeo": [
           {
            "marker": {
             "colorbar": {
              "outlinewidth": 0,
              "ticks": ""
             }
            },
            "type": "scattergeo"
           }
          ],
          "scattergl": [
           {
            "marker": {
             "colorbar": {
              "outlinewidth": 0,
              "ticks": ""
             }
            },
            "type": "scattergl"
           }
          ],
          "scattermapbox": [
           {
            "marker": {
             "colorbar": {
              "outlinewidth": 0,
              "ticks": ""
             }
            },
            "type": "scattermapbox"
           }
          ],
          "scatterpolar": [
           {
            "marker": {
             "colorbar": {
              "outlinewidth": 0,
              "ticks": ""
             }
            },
            "type": "scatterpolar"
           }
          ],
          "scatterpolargl": [
           {
            "marker": {
             "colorbar": {
              "outlinewidth": 0,
              "ticks": ""
             }
            },
            "type": "scatterpolargl"
           }
          ],
          "scatterternary": [
           {
            "marker": {
             "colorbar": {
              "outlinewidth": 0,
              "ticks": ""
             }
            },
            "type": "scatterternary"
           }
          ],
          "surface": [
           {
            "colorbar": {
             "outlinewidth": 0,
             "ticks": ""
            },
            "colorscale": [
             [
              0,
              "#0d0887"
             ],
             [
              0.1111111111111111,
              "#46039f"
             ],
             [
              0.2222222222222222,
              "#7201a8"
             ],
             [
              0.3333333333333333,
              "#9c179e"
             ],
             [
              0.4444444444444444,
              "#bd3786"
             ],
             [
              0.5555555555555556,
              "#d8576b"
             ],
             [
              0.6666666666666666,
              "#ed7953"
             ],
             [
              0.7777777777777778,
              "#fb9f3a"
             ],
             [
              0.8888888888888888,
              "#fdca26"
             ],
             [
              1,
              "#f0f921"
             ]
            ],
            "type": "surface"
           }
          ],
          "table": [
           {
            "cells": {
             "fill": {
              "color": "#EBF0F8"
             },
             "line": {
              "color": "white"
             }
            },
            "header": {
             "fill": {
              "color": "#C8D4E3"
             },
             "line": {
              "color": "white"
             }
            },
            "type": "table"
           }
          ]
         },
         "layout": {
          "annotationdefaults": {
           "arrowcolor": "#2a3f5f",
           "arrowhead": 0,
           "arrowwidth": 1
          },
          "autotypenumbers": "strict",
          "coloraxis": {
           "colorbar": {
            "outlinewidth": 0,
            "ticks": ""
           }
          },
          "colorscale": {
           "diverging": [
            [
             0,
             "#8e0152"
            ],
            [
             0.1,
             "#c51b7d"
            ],
            [
             0.2,
             "#de77ae"
            ],
            [
             0.3,
             "#f1b6da"
            ],
            [
             0.4,
             "#fde0ef"
            ],
            [
             0.5,
             "#f7f7f7"
            ],
            [
             0.6,
             "#e6f5d0"
            ],
            [
             0.7,
             "#b8e186"
            ],
            [
             0.8,
             "#7fbc41"
            ],
            [
             0.9,
             "#4d9221"
            ],
            [
             1,
             "#276419"
            ]
           ],
           "sequential": [
            [
             0,
             "#0d0887"
            ],
            [
             0.1111111111111111,
             "#46039f"
            ],
            [
             0.2222222222222222,
             "#7201a8"
            ],
            [
             0.3333333333333333,
             "#9c179e"
            ],
            [
             0.4444444444444444,
             "#bd3786"
            ],
            [
             0.5555555555555556,
             "#d8576b"
            ],
            [
             0.6666666666666666,
             "#ed7953"
            ],
            [
             0.7777777777777778,
             "#fb9f3a"
            ],
            [
             0.8888888888888888,
             "#fdca26"
            ],
            [
             1,
             "#f0f921"
            ]
           ],
           "sequentialminus": [
            [
             0,
             "#0d0887"
            ],
            [
             0.1111111111111111,
             "#46039f"
            ],
            [
             0.2222222222222222,
             "#7201a8"
            ],
            [
             0.3333333333333333,
             "#9c179e"
            ],
            [
             0.4444444444444444,
             "#bd3786"
            ],
            [
             0.5555555555555556,
             "#d8576b"
            ],
            [
             0.6666666666666666,
             "#ed7953"
            ],
            [
             0.7777777777777778,
             "#fb9f3a"
            ],
            [
             0.8888888888888888,
             "#fdca26"
            ],
            [
             1,
             "#f0f921"
            ]
           ]
          },
          "colorway": [
           "#636efa",
           "#EF553B",
           "#00cc96",
           "#ab63fa",
           "#FFA15A",
           "#19d3f3",
           "#FF6692",
           "#B6E880",
           "#FF97FF",
           "#FECB52"
          ],
          "font": {
           "color": "#2a3f5f"
          },
          "geo": {
           "bgcolor": "white",
           "lakecolor": "white",
           "landcolor": "#E5ECF6",
           "showlakes": true,
           "showland": true,
           "subunitcolor": "white"
          },
          "hoverlabel": {
           "align": "left"
          },
          "hovermode": "closest",
          "mapbox": {
           "style": "light"
          },
          "paper_bgcolor": "white",
          "plot_bgcolor": "#E5ECF6",
          "polar": {
           "angularaxis": {
            "gridcolor": "white",
            "linecolor": "white",
            "ticks": ""
           },
           "bgcolor": "#E5ECF6",
           "radialaxis": {
            "gridcolor": "white",
            "linecolor": "white",
            "ticks": ""
           }
          },
          "scene": {
           "xaxis": {
            "backgroundcolor": "#E5ECF6",
            "gridcolor": "white",
            "gridwidth": 2,
            "linecolor": "white",
            "showbackground": true,
            "ticks": "",
            "zerolinecolor": "white"
           },
           "yaxis": {
            "backgroundcolor": "#E5ECF6",
            "gridcolor": "white",
            "gridwidth": 2,
            "linecolor": "white",
            "showbackground": true,
            "ticks": "",
            "zerolinecolor": "white"
           },
           "zaxis": {
            "backgroundcolor": "#E5ECF6",
            "gridcolor": "white",
            "gridwidth": 2,
            "linecolor": "white",
            "showbackground": true,
            "ticks": "",
            "zerolinecolor": "white"
           }
          },
          "shapedefaults": {
           "line": {
            "color": "#2a3f5f"
           }
          },
          "ternary": {
           "aaxis": {
            "gridcolor": "white",
            "linecolor": "white",
            "ticks": ""
           },
           "baxis": {
            "gridcolor": "white",
            "linecolor": "white",
            "ticks": ""
           },
           "bgcolor": "#E5ECF6",
           "caxis": {
            "gridcolor": "white",
            "linecolor": "white",
            "ticks": ""
           }
          },
          "title": {
           "x": 0.05
          },
          "xaxis": {
           "automargin": true,
           "gridcolor": "white",
           "linecolor": "white",
           "ticks": "",
           "title": {
            "standoff": 15
           },
           "zerolinecolor": "white",
           "zerolinewidth": 2
          },
          "yaxis": {
           "automargin": true,
           "gridcolor": "white",
           "linecolor": "white",
           "ticks": "",
           "title": {
            "standoff": 15
           },
           "zerolinecolor": "white",
           "zerolinewidth": 2
          }
         }
        }
       }
      },
      "text/html": [
       "<div>                            <div id=\"3ba5f773-42ed-4242-8ca9-f61254d208c8\" class=\"plotly-graph-div\" style=\"height:525px; width:100%;\"></div>            <script type=\"text/javascript\">                require([\"plotly\"], function(Plotly) {                    window.PLOTLYENV=window.PLOTLYENV || {};                                    if (document.getElementById(\"3ba5f773-42ed-4242-8ca9-f61254d208c8\")) {                    Plotly.newPlot(                        \"3ba5f773-42ed-4242-8ca9-f61254d208c8\",                        [{\"name\":\"USD Volatilidade\",\"x\":[\"2018-01-01T00:00:00\",\"2018-01-02T00:00:00\",\"2018-01-04T00:00:00\",\"2018-01-12T00:00:00\",\"2018-01-27T00:00:00\",\"2018-01-29T00:00:00\",\"2018-02-17T00:00:00\",\"2018-02-17T00:00:00\",\"2018-03-03T00:00:00\",\"2018-03-05T00:00:00\",\"2018-03-17T00:00:00\",\"2018-03-27T00:00:00\",\"2018-03-30T00:00:00\",\"2018-04-05T00:00:00\",\"2018-04-06T00:00:00\",\"2018-04-24T00:00:00\",\"2018-04-24T00:00:00\",\"2018-05-10T00:00:00\",\"2018-05-25T00:00:00\",\"2018-05-31T00:00:00\",\"2018-06-12T00:00:00\",\"2018-07-28T00:00:00\",\"2018-07-28T00:00:00\",\"2018-08-06T00:00:00\",\"2018-08-13T00:00:00\",\"2018-08-13T00:00:00\",\"2018-08-16T00:00:00\",\"2018-08-16T00:00:00\",\"2018-08-26T00:00:00\",\"2018-08-26T00:00:00\",\"2018-08-30T00:00:00\",\"2018-09-03T00:00:00\",\"2018-09-05T00:00:00\",\"2018-09-07T00:00:00\",\"2018-09-20T00:00:00\",\"2018-09-21T00:00:00\",\"2018-09-25T00:00:00\",\"2018-10-22T00:00:00\",\"2018-10-24T00:00:00\",\"2018-11-15T00:00:00\",\"2018-11-19T00:00:00\",\"2018-12-03T00:00:00\",\"2018-12-10T00:00:00\",\"2018-12-10T00:00:00\",\"2018-12-15T00:00:00\",\"2019-01-20T00:00:00\",\"2019-02-07T00:00:00\",\"2019-02-10T00:00:00\",\"2019-02-10T00:00:00\",\"2019-02-12T00:00:00\",\"2019-02-20T00:00:00\",\"2019-02-24T00:00:00\",\"2019-03-12T00:00:00\",\"2019-03-12T00:00:00\",\"2019-04-05T00:00:00\",\"2019-04-06T00:00:00\",\"2019-04-21T00:00:00\",\"2019-04-26T00:00:00\",\"2019-05-04T00:00:00\",\"2019-05-08T00:00:00\",\"2019-05-15T00:00:00\",\"2019-05-30T00:00:00\",\"2019-07-21T00:00:00\",\"2019-07-30T00:00:00\",\"2019-07-31T00:00:00\",\"2019-08-19T00:00:00\",\"2019-08-21T00:00:00\",\"2019-08-31T00:00:00\",\"2019-09-07T00:00:00\",\"2019-09-10T00:00:00\",\"2019-09-15T00:00:00\",\"2019-09-25T00:00:00\",\"2019-10-01T00:00:00\",\"2019-10-08T00:00:00\",\"2019-10-27T00:00:00\",\"2019-11-11T00:00:00\",\"2019-11-23T00:00:00\",\"2019-11-28T00:00:00\",\"2019-12-27T00:00:00\",\"2019-12-28T00:00:00\",\"2020-01-07T00:00:00\",\"2020-01-13T00:00:00\",\"2020-01-25T00:00:00\",\"2020-02-04T00:00:00\",\"2020-02-10T00:00:00\",\"2020-02-11T00:00:00\",\"2020-02-11T00:00:00\",\"2020-02-23T00:00:00\",\"2020-02-26T00:00:00\",\"2020-03-05T00:00:00\",\"2020-03-10T00:00:00\",\"2020-03-11T00:00:00\",\"2020-03-13T00:00:00\",\"2020-03-14T00:00:00\",\"2020-03-15T00:00:00\",\"2020-03-20T00:00:00\",\"2020-03-22T00:00:00\",\"2020-03-23T00:00:00\",\"2020-03-28T00:00:00\",\"2020-04-05T00:00:00\",\"2020-04-09T00:00:00\",\"2020-04-13T00:00:00\",\"2020-04-19T00:00:00\",\"2020-04-22T00:00:00\",\"2020-04-28T00:00:00\",\"2020-04-29T00:00:00\",\"2020-05-02T00:00:00\",\"2020-05-20T00:00:00\",\"2020-05-22T00:00:00\",\"2020-06-01T00:00:00\",\"2020-06-23T00:00:00\",\"2020-07-02T00:00:00\",\"2020-07-04T00:00:00\",\"2020-07-04T00:00:00\",\"2020-07-04T00:00:00\",\"2020-07-25T00:00:00\",\"2020-07-26T00:00:00\",\"2020-08-12T00:00:00\",\"2020-08-23T00:00:00\",\"2020-08-25T00:00:00\",\"2020-08-27T00:00:00\",\"2020-08-27T00:00:00\",\"2020-09-10T00:00:00\",\"2020-09-16T00:00:00\",\"2020-09-28T00:00:00\",\"2020-10-07T00:00:00\",\"2020-10-10T00:00:00\",\"2020-10-16T00:00:00\",\"2020-10-16T00:00:00\",\"2020-10-18T00:00:00\",\"2020-10-19T00:00:00\",\"2020-10-23T00:00:00\",\"2020-10-27T00:00:00\",\"2020-11-05T00:00:00\",\"2020-11-21T00:00:00\",\"2020-11-23T00:00:00\",\"2020-12-02T00:00:00\",\"2020-12-15T00:00:00\",\"2020-12-19T00:00:00\",\"2020-12-21T00:00:00\",\"2020-12-25T00:00:00\",\"2020-12-25T00:00:00\",\"2021-01-07T00:00:00\",\"2021-01-08T00:00:00\",\"2021-01-14T00:00:00\",\"2021-01-30T00:00:00\",\"2021-01-31T00:00:00\",\"2021-02-10T00:00:00\",\"2021-02-15T00:00:00\",\"2021-02-24T00:00:00\",\"2021-02-26T00:00:00\",\"2021-03-09T00:00:00\",\"2021-03-11T00:00:00\",\"2021-03-15T00:00:00\",\"2021-03-24T00:00:00\",\"2021-03-28T00:00:00\",\"2021-04-01T00:00:00\",\"2021-04-04T00:00:00\",\"2021-04-08T00:00:00\",\"2021-04-15T00:00:00\",\"2021-04-24T00:00:00\",\"2021-05-18T00:00:00\",\"2021-05-22T00:00:00\",\"2021-05-25T00:00:00\",\"2021-05-27T00:00:00\",\"2021-05-29T00:00:00\",\"2021-06-05T00:00:00\",\"2021-06-10T00:00:00\",\"2021-06-25T00:00:00\",\"2021-06-25T00:00:00\",\"2021-06-28T00:00:00\",\"2021-07-19T00:00:00\",\"2021-07-28T00:00:00\",\"2021-07-30T00:00:00\",\"2021-08-06T00:00:00\",\"2021-08-27T00:00:00\",\"2021-08-28T00:00:00\",\"2021-09-22T00:00:00\",\"2021-09-26T00:00:00\",\"2021-10-10T00:00:00\",\"2021-10-27T00:00:00\",\"2021-10-31T00:00:00\",\"2021-11-13T00:00:00\",\"2021-11-28T00:00:00\",\"2021-12-22T00:00:00\",\"2021-12-25T00:00:00\",\"2021-12-28T00:00:00\",\"2021-12-29T00:00:00\",\"2022-02-02T00:00:00\",\"2022-02-04T00:00:00\",\"2022-02-13T00:00:00\",\"2022-02-22T00:00:00\",\"2022-02-27T00:00:00\",\"2022-03-08T00:00:00\",\"2022-03-09T00:00:00\"],\"y\":[0.08705590390076977,0.12057057855984891,0.10532584741816833,0.07569381969477289,0.09743095841240086,0.167416669519613,0.11614200124770233,0.08830046815583874,0.08543023572223221,0.10387540767451514,0.1161540743677462,0.16411808597456826,0.08466824830357138,0.09399912774379299,0.1275787850496827,0.10142368412702824,0.07694046984607059,0.11080305022600062,0.10814280431030572,0.2376221981299,0.40887335135576275,0.3455732753356388,0.1070959774930763,0.09984720775396687,0.10055996536863342,0.11457579452735464,0.09670659142947466,0.06717439868690463,0.07211729116084444,0.19351289556750145,0.1271446295042408,0.09861657845083298,0.09394515382237875,0.09396834835412407,0.11021011739386607,0.12154693212219592,0.11420215828443604,0.0993627382176817,0.22312810666195482,0.16536905828713566,0.08553475826477588,0.09830846647135512,0.15002598242983148,0.1149727840401057,0.08976618068076037,0.09794225244953295,0.18257053325345104,0.09535854122796898,0.08321124026798138,0.08285206554368513,0.1438466732229298,0.08276194653986439,0.12309296627038263,0.1308648299659074,0.1532861911383949,0.23684482041977703,0.11187109137694037,0.23290574364583871,0.09974571932544293,0.2324017579181722,0.18282803538260828,0.13678707590861106,0.19361123528473537,0.08861692816762723,0.23819230541361258,0.07793158914991248,0.224674747247842,0.1295367095952969,0.07741614929405549,0.11608725175129253,0.13379873208403678,0.1562405997172942,0.1783220620296027,0.197271689555335,0.10131812340198953,0.10730959100695253,0.21393850482686666,0.09650391417656007,0.14664943339726919,0.1284254506654971,0.2628244529705705,0.2285480627838533,0.09823444600539098,0.15369828566942959,0.11621595018263488,0.12298848320583733,0.18076187504426797,0.2244935900454965,0.5259362076108499,0.14318337652751,0.08919739799061009,0.16011857284377384,0.11604459526834836,0.10499476079007616,0.12491507766919413,0.26491510549184083,0.21694054910186913,0.15010380173097207,0.1005708048756814,0.1538730925527895,0.2503912057456884,0.11909765108899305,0.1625340029042085,0.18655511636819103,0.13193181257790873,0.08780841964813162,0.09216704081026576,0.09977654492960958,0.29770396286115747,0.10217562669480716,0.07248330011651055,0.1094628725767787,0.36512385650979856,0.08145932355305845,0.262242450136147,0.1303304787884169,0.280880228362927,0.13516566197634639,0.07470774260618787,0.10022277921059462,0.34576122194566067,0.16993082927658498,0.13678707590861106,0.14369575931445622,0.09856805684979847,0.12872804019923617,0.12437607614003307,0.1424012938065328,0.10496097556490619,0.3324772068036704,0.11110766660638702,0.1417750012238105,0.08255005609099256,0.14598685224665592,0.13097890178368965,0.30029791181440657,0.08101000740261943,0.3051616275737687,0.21743497435613654,0.08057846098317963,0.14705599841192363,0.2374006679785172,0.18375825191447293,0.15424573069937397,0.2596307960022627,0.06812817174992172,0.30650028317425376,0.10894102394170209,0.12458207399949542,0.09487531113310521,0.2810958507753628,0.21641361086414834,0.3002513366803003,0.3178926028084195,0.12861059543454872,0.1460823913751315,0.24778866378531567,0.07262500471735134,0.10132970601542327,0.0815235184706041,0.06415141361320147,0.24390212140078543,0.17965562945986804,0.13474385778699036,0.08273959976448542,0.17392412826941558,0.09705832365016723,0.10578063261946849,0.08267894552620825,0.09042701032643351,0.14304291284489362,0.0964081364943658,0.07964249318152458,0.08177704151292606,0.13023066411800835,0.10581737827072407,0.12842130593368162,0.13107222752278364,0.3270021165697364,0.11794170974974975,0.08747898755375377,0.12895854686598754,0.2073833983590074,0.17072457254649173,0.1405175644122831,0.15078135148028293,0.18573627400182052,0.3629147265476314,0.0753046204682057,0.20404461570796892,0.09176655648369175,0.12230526103050691,0.09818315027480293,0.15066348910811556,0.07441875990416445],\"type\":\"scatter\"},{\"name\":\"M\\u00e9dia m\\u00f3vel 5 dias\",\"x\":[\"2018-01-01T00:00:00\",\"2018-01-02T00:00:00\",\"2018-01-04T00:00:00\",\"2018-01-12T00:00:00\",\"2018-01-27T00:00:00\",\"2018-01-29T00:00:00\",\"2018-02-17T00:00:00\",\"2018-02-17T00:00:00\",\"2018-03-03T00:00:00\",\"2018-03-05T00:00:00\",\"2018-03-17T00:00:00\",\"2018-03-27T00:00:00\",\"2018-03-30T00:00:00\",\"2018-04-05T00:00:00\",\"2018-04-06T00:00:00\",\"2018-04-24T00:00:00\",\"2018-04-24T00:00:00\",\"2018-05-10T00:00:00\",\"2018-05-25T00:00:00\",\"2018-05-31T00:00:00\",\"2018-06-12T00:00:00\",\"2018-07-28T00:00:00\",\"2018-07-28T00:00:00\",\"2018-08-06T00:00:00\",\"2018-08-13T00:00:00\",\"2018-08-13T00:00:00\",\"2018-08-16T00:00:00\",\"2018-08-16T00:00:00\",\"2018-08-26T00:00:00\",\"2018-08-26T00:00:00\",\"2018-08-30T00:00:00\",\"2018-09-03T00:00:00\",\"2018-09-05T00:00:00\",\"2018-09-07T00:00:00\",\"2018-09-20T00:00:00\",\"2018-09-21T00:00:00\",\"2018-09-25T00:00:00\",\"2018-10-22T00:00:00\",\"2018-10-24T00:00:00\",\"2018-11-15T00:00:00\",\"2018-11-19T00:00:00\",\"2018-12-03T00:00:00\",\"2018-12-10T00:00:00\",\"2018-12-10T00:00:00\",\"2018-12-15T00:00:00\",\"2019-01-20T00:00:00\",\"2019-02-07T00:00:00\",\"2019-02-10T00:00:00\",\"2019-02-10T00:00:00\",\"2019-02-12T00:00:00\",\"2019-02-20T00:00:00\",\"2019-02-24T00:00:00\",\"2019-03-12T00:00:00\",\"2019-03-12T00:00:00\",\"2019-04-05T00:00:00\",\"2019-04-06T00:00:00\",\"2019-04-21T00:00:00\",\"2019-04-26T00:00:00\",\"2019-05-04T00:00:00\",\"2019-05-08T00:00:00\",\"2019-05-15T00:00:00\",\"2019-05-30T00:00:00\",\"2019-07-21T00:00:00\",\"2019-07-30T00:00:00\",\"2019-07-31T00:00:00\",\"2019-08-19T00:00:00\",\"2019-08-21T00:00:00\",\"2019-08-31T00:00:00\",\"2019-09-07T00:00:00\",\"2019-09-10T00:00:00\",\"2019-09-15T00:00:00\",\"2019-09-25T00:00:00\",\"2019-10-01T00:00:00\",\"2019-10-08T00:00:00\",\"2019-10-27T00:00:00\",\"2019-11-11T00:00:00\",\"2019-11-23T00:00:00\",\"2019-11-28T00:00:00\",\"2019-12-27T00:00:00\",\"2019-12-28T00:00:00\",\"2020-01-07T00:00:00\",\"2020-01-13T00:00:00\",\"2020-01-25T00:00:00\",\"2020-02-04T00:00:00\",\"2020-02-10T00:00:00\",\"2020-02-11T00:00:00\",\"2020-02-11T00:00:00\",\"2020-02-23T00:00:00\",\"2020-02-26T00:00:00\",\"2020-03-05T00:00:00\",\"2020-03-10T00:00:00\",\"2020-03-11T00:00:00\",\"2020-03-13T00:00:00\",\"2020-03-14T00:00:00\",\"2020-03-15T00:00:00\",\"2020-03-20T00:00:00\",\"2020-03-22T00:00:00\",\"2020-03-23T00:00:00\",\"2020-03-28T00:00:00\",\"2020-04-05T00:00:00\",\"2020-04-09T00:00:00\",\"2020-04-13T00:00:00\",\"2020-04-19T00:00:00\",\"2020-04-22T00:00:00\",\"2020-04-28T00:00:00\",\"2020-04-29T00:00:00\",\"2020-05-02T00:00:00\",\"2020-05-20T00:00:00\",\"2020-05-22T00:00:00\",\"2020-06-01T00:00:00\",\"2020-06-23T00:00:00\",\"2020-07-02T00:00:00\",\"2020-07-04T00:00:00\",\"2020-07-04T00:00:00\",\"2020-07-04T00:00:00\",\"2020-07-25T00:00:00\",\"2020-07-26T00:00:00\",\"2020-08-12T00:00:00\",\"2020-08-23T00:00:00\",\"2020-08-25T00:00:00\",\"2020-08-27T00:00:00\",\"2020-08-27T00:00:00\",\"2020-09-10T00:00:00\",\"2020-09-16T00:00:00\",\"2020-09-28T00:00:00\",\"2020-10-07T00:00:00\",\"2020-10-10T00:00:00\",\"2020-10-16T00:00:00\",\"2020-10-16T00:00:00\",\"2020-10-18T00:00:00\",\"2020-10-19T00:00:00\",\"2020-10-23T00:00:00\",\"2020-10-27T00:00:00\",\"2020-11-05T00:00:00\",\"2020-11-21T00:00:00\",\"2020-11-23T00:00:00\",\"2020-12-02T00:00:00\",\"2020-12-15T00:00:00\",\"2020-12-19T00:00:00\",\"2020-12-21T00:00:00\",\"2020-12-25T00:00:00\",\"2020-12-25T00:00:00\",\"2021-01-07T00:00:00\",\"2021-01-08T00:00:00\",\"2021-01-14T00:00:00\",\"2021-01-30T00:00:00\",\"2021-01-31T00:00:00\",\"2021-02-10T00:00:00\",\"2021-02-15T00:00:00\",\"2021-02-24T00:00:00\",\"2021-02-26T00:00:00\",\"2021-03-09T00:00:00\",\"2021-03-11T00:00:00\",\"2021-03-15T00:00:00\",\"2021-03-24T00:00:00\",\"2021-03-28T00:00:00\",\"2021-04-01T00:00:00\",\"2021-04-04T00:00:00\",\"2021-04-08T00:00:00\",\"2021-04-15T00:00:00\",\"2021-04-24T00:00:00\",\"2021-05-18T00:00:00\",\"2021-05-22T00:00:00\",\"2021-05-25T00:00:00\",\"2021-05-27T00:00:00\",\"2021-05-29T00:00:00\",\"2021-06-05T00:00:00\",\"2021-06-10T00:00:00\",\"2021-06-25T00:00:00\",\"2021-06-25T00:00:00\",\"2021-06-28T00:00:00\",\"2021-07-19T00:00:00\",\"2021-07-28T00:00:00\",\"2021-07-30T00:00:00\",\"2021-08-06T00:00:00\",\"2021-08-27T00:00:00\",\"2021-08-28T00:00:00\",\"2021-09-22T00:00:00\",\"2021-09-26T00:00:00\",\"2021-10-10T00:00:00\",\"2021-10-27T00:00:00\",\"2021-10-31T00:00:00\",\"2021-11-13T00:00:00\",\"2021-11-28T00:00:00\",\"2021-12-22T00:00:00\",\"2021-12-25T00:00:00\",\"2021-12-28T00:00:00\",\"2021-12-29T00:00:00\",\"2022-02-02T00:00:00\",\"2022-02-04T00:00:00\",\"2022-02-13T00:00:00\",\"2022-02-22T00:00:00\",\"2022-02-27T00:00:00\",\"2022-03-08T00:00:00\",\"2022-03-09T00:00:00\"],\"y\":[null,null,null,null,0.09721542159719215,0.11328757472096081,0.1124018592585315,0.10899678340606556,0.11094406661155742,0.11223295646398028,0.10198043743360694,0.11157565437898012,0.11084921040852665,0.1125629888128388,0.11730366428787231,0.11435758623972872,0.0969220630140292,0.10214902339851503,0.10497775871181758,0.12698644132786102,0.18847637477360793,0.24220293587152159,0.2414615213249367,0.23980240201366895,0.21238995546141562,0.153530444095734,0.10375710731450119,0.09577279155326683,0.09022680823464237,0.10881739427441597,0.11133116126979319,0.11171315867406487,0.11706730970115968,0.12143752113981561,0.10477696550508853,0.10365742602867956,0.10677454199540018,0.10785805887446076,0.13369001053602692,0.14472179871468083,0.1375193639431968,0.13434062558058063,0.14447327442301058,0.12284220989864077,0.1077216343773657,0.11020313321431711,0.1270555465707363,0.11612205833036379,0.10976974957593895,0.10838692654852389,0.11756781070320325,0.09760609336048594,0.10315297836896867,0.11268369630855386,0.1267705214274958,0.14537015086686528,0.15119197983428048,0.1731545353093717,0.1669307131812788,0.18275382653723424,0.1719504695298005,0.17693366643613465,0.16907476476391398,0.16684900653235082,0.16800711603143892,0.14702782678489973,0.16460536105274592,0.15179045591485824,0.14955030014014387,0.12512928940767987,0.13630271799450472,0.12261588848839518,0.13237295897525633,0.15634406702751225,0.15339024135765164,0.1480924131422348,0.15963199416414928,0.14326836459354078,0.1331439133619276,0.1385653788146291,0.1696683512073527,0.17259026279875003,0.1729363691645162,0.1743461396189483,0.17190423952237582,0.1439370455694292,0.13437980802151214,0.15963163682953324,0.23407922121781732,0.2394727064867923,0.2327144894437469,0.22858582900364807,0.20689603004821847,0.12270774068406369,0.11905408091240052,0.15419762241264667,0.16556201766426573,0.17237385895679047,0.1714890677739115,0.17728067075063056,0.1743758908014001,0.15480731119882488,0.15729335143347217,0.1744902137319741,0.17010195773699793,0.1375854005174866,0.13219927846174112,0.11964778686682134,0.14187755616541464,0.13592631898879431,0.1328612950824701,0.1363204614357727,0.1893899237518105,0.14614099589019067,0.17815436057845865,0.18972379631283992,0.22400726747006958,0.17801562856337913,0.176665312374005,0.14426137818889456,0.18734752682034328,0.1651576470030749,0.16548192978952786,0.17927953313118153,0.17894858865902227,0.13554195230973737,0.126431001682427,0.12755384526201136,0.11980688851210135,0.16658871850287574,0.1630646437843059,0.16654442880106138,0.15457418125795333,0.16277935659430326,0.12247969559030714,0.16031774463191104,0.14816474586767284,0.19268706016422804,0.2069766845861242,0.19689659642602217,0.1662482137455256,0.19752634586070514,0.17324567072884597,0.1606078219974935,0.1964182890013101,0.1806327236689097,0.194452646708057,0.17948920111350286,0.17355646977352715,0.14060537279969565,0.18319890860478388,0.16518157414276277,0.20344363669048243,0.24210574245226724,0.24885279931255594,0.22185010743250966,0.22812511801674312,0.18259985162415332,0.1392872722655541,0.12986985687276517,0.11348366132037917,0.11270635284347312,0.13411247779197646,0.14079530814628988,0.14103852440506615,0.16299306733630897,0.13362430778618534,0.11884930841810541,0.10843632596594899,0.1099738080783386,0.10379756499343422,0.10366752756227393,0.09843989967468517,0.09825951887202872,0.10622024963034368,0.09877514271550977,0.10517777660337294,0.11546372347162474,0.1645087384829868,0.16205094760933508,0.158383269465941,0.1584907176524022,0.17375295181964695,0.14249744301499803,0.1470126139475047,0.15967308673281053,0.17102863215997713,0.2021348977977019,0.18305090738204474,0.1957563176411819,0.18395335864186366,0.17126715604760093,0.11832084079303525,0.1333926145210172,0.1074674433602563],\"type\":\"scatter\"}],                        {\"template\":{\"data\":{\"barpolar\":[{\"marker\":{\"line\":{\"color\":\"#E5ECF6\",\"width\":0.5},\"pattern\":{\"fillmode\":\"overlay\",\"size\":10,\"solidity\":0.2}},\"type\":\"barpolar\"}],\"bar\":[{\"error_x\":{\"color\":\"#2a3f5f\"},\"error_y\":{\"color\":\"#2a3f5f\"},\"marker\":{\"line\":{\"color\":\"#E5ECF6\",\"width\":0.5},\"pattern\":{\"fillmode\":\"overlay\",\"size\":10,\"solidity\":0.2}},\"type\":\"bar\"}],\"carpet\":[{\"aaxis\":{\"endlinecolor\":\"#2a3f5f\",\"gridcolor\":\"white\",\"linecolor\":\"white\",\"minorgridcolor\":\"white\",\"startlinecolor\":\"#2a3f5f\"},\"baxis\":{\"endlinecolor\":\"#2a3f5f\",\"gridcolor\":\"white\",\"linecolor\":\"white\",\"minorgridcolor\":\"white\",\"startlinecolor\":\"#2a3f5f\"},\"type\":\"carpet\"}],\"choropleth\":[{\"colorbar\":{\"outlinewidth\":0,\"ticks\":\"\"},\"type\":\"choropleth\"}],\"contourcarpet\":[{\"colorbar\":{\"outlinewidth\":0,\"ticks\":\"\"},\"type\":\"contourcarpet\"}],\"contour\":[{\"colorbar\":{\"outlinewidth\":0,\"ticks\":\"\"},\"colorscale\":[[0.0,\"#0d0887\"],[0.1111111111111111,\"#46039f\"],[0.2222222222222222,\"#7201a8\"],[0.3333333333333333,\"#9c179e\"],[0.4444444444444444,\"#bd3786\"],[0.5555555555555556,\"#d8576b\"],[0.6666666666666666,\"#ed7953\"],[0.7777777777777778,\"#fb9f3a\"],[0.8888888888888888,\"#fdca26\"],[1.0,\"#f0f921\"]],\"type\":\"contour\"}],\"heatmapgl\":[{\"colorbar\":{\"outlinewidth\":0,\"ticks\":\"\"},\"colorscale\":[[0.0,\"#0d0887\"],[0.1111111111111111,\"#46039f\"],[0.2222222222222222,\"#7201a8\"],[0.3333333333333333,\"#9c179e\"],[0.4444444444444444,\"#bd3786\"],[0.5555555555555556,\"#d8576b\"],[0.6666666666666666,\"#ed7953\"],[0.7777777777777778,\"#fb9f3a\"],[0.8888888888888888,\"#fdca26\"],[1.0,\"#f0f921\"]],\"type\":\"heatmapgl\"}],\"heatmap\":[{\"colorbar\":{\"outlinewidth\":0,\"ticks\":\"\"},\"colorscale\":[[0.0,\"#0d0887\"],[0.1111111111111111,\"#46039f\"],[0.2222222222222222,\"#7201a8\"],[0.3333333333333333,\"#9c179e\"],[0.4444444444444444,\"#bd3786\"],[0.5555555555555556,\"#d8576b\"],[0.6666666666666666,\"#ed7953\"],[0.7777777777777778,\"#fb9f3a\"],[0.8888888888888888,\"#fdca26\"],[1.0,\"#f0f921\"]],\"type\":\"heatmap\"}],\"histogram2dcontour\":[{\"colorbar\":{\"outlinewidth\":0,\"ticks\":\"\"},\"colorscale\":[[0.0,\"#0d0887\"],[0.1111111111111111,\"#46039f\"],[0.2222222222222222,\"#7201a8\"],[0.3333333333333333,\"#9c179e\"],[0.4444444444444444,\"#bd3786\"],[0.5555555555555556,\"#d8576b\"],[0.6666666666666666,\"#ed7953\"],[0.7777777777777778,\"#fb9f3a\"],[0.8888888888888888,\"#fdca26\"],[1.0,\"#f0f921\"]],\"type\":\"histogram2dcontour\"}],\"histogram2d\":[{\"colorbar\":{\"outlinewidth\":0,\"ticks\":\"\"},\"colorscale\":[[0.0,\"#0d0887\"],[0.1111111111111111,\"#46039f\"],[0.2222222222222222,\"#7201a8\"],[0.3333333333333333,\"#9c179e\"],[0.4444444444444444,\"#bd3786\"],[0.5555555555555556,\"#d8576b\"],[0.6666666666666666,\"#ed7953\"],[0.7777777777777778,\"#fb9f3a\"],[0.8888888888888888,\"#fdca26\"],[1.0,\"#f0f921\"]],\"type\":\"histogram2d\"}],\"histogram\":[{\"marker\":{\"pattern\":{\"fillmode\":\"overlay\",\"size\":10,\"solidity\":0.2}},\"type\":\"histogram\"}],\"mesh3d\":[{\"colorbar\":{\"outlinewidth\":0,\"ticks\":\"\"},\"type\":\"mesh3d\"}],\"parcoords\":[{\"line\":{\"colorbar\":{\"outlinewidth\":0,\"ticks\":\"\"}},\"type\":\"parcoords\"}],\"pie\":[{\"automargin\":true,\"type\":\"pie\"}],\"scatter3d\":[{\"line\":{\"colorbar\":{\"outlinewidth\":0,\"ticks\":\"\"}},\"marker\":{\"colorbar\":{\"outlinewidth\":0,\"ticks\":\"\"}},\"type\":\"scatter3d\"}],\"scattercarpet\":[{\"marker\":{\"colorbar\":{\"outlinewidth\":0,\"ticks\":\"\"}},\"type\":\"scattercarpet\"}],\"scattergeo\":[{\"marker\":{\"colorbar\":{\"outlinewidth\":0,\"ticks\":\"\"}},\"type\":\"scattergeo\"}],\"scattergl\":[{\"marker\":{\"colorbar\":{\"outlinewidth\":0,\"ticks\":\"\"}},\"type\":\"scattergl\"}],\"scattermapbox\":[{\"marker\":{\"colorbar\":{\"outlinewidth\":0,\"ticks\":\"\"}},\"type\":\"scattermapbox\"}],\"scatterpolargl\":[{\"marker\":{\"colorbar\":{\"outlinewidth\":0,\"ticks\":\"\"}},\"type\":\"scatterpolargl\"}],\"scatterpolar\":[{\"marker\":{\"colorbar\":{\"outlinewidth\":0,\"ticks\":\"\"}},\"type\":\"scatterpolar\"}],\"scatter\":[{\"marker\":{\"colorbar\":{\"outlinewidth\":0,\"ticks\":\"\"}},\"type\":\"scatter\"}],\"scatterternary\":[{\"marker\":{\"colorbar\":{\"outlinewidth\":0,\"ticks\":\"\"}},\"type\":\"scatterternary\"}],\"surface\":[{\"colorbar\":{\"outlinewidth\":0,\"ticks\":\"\"},\"colorscale\":[[0.0,\"#0d0887\"],[0.1111111111111111,\"#46039f\"],[0.2222222222222222,\"#7201a8\"],[0.3333333333333333,\"#9c179e\"],[0.4444444444444444,\"#bd3786\"],[0.5555555555555556,\"#d8576b\"],[0.6666666666666666,\"#ed7953\"],[0.7777777777777778,\"#fb9f3a\"],[0.8888888888888888,\"#fdca26\"],[1.0,\"#f0f921\"]],\"type\":\"surface\"}],\"table\":[{\"cells\":{\"fill\":{\"color\":\"#EBF0F8\"},\"line\":{\"color\":\"white\"}},\"header\":{\"fill\":{\"color\":\"#C8D4E3\"},\"line\":{\"color\":\"white\"}},\"type\":\"table\"}]},\"layout\":{\"annotationdefaults\":{\"arrowcolor\":\"#2a3f5f\",\"arrowhead\":0,\"arrowwidth\":1},\"autotypenumbers\":\"strict\",\"coloraxis\":{\"colorbar\":{\"outlinewidth\":0,\"ticks\":\"\"}},\"colorscale\":{\"diverging\":[[0,\"#8e0152\"],[0.1,\"#c51b7d\"],[0.2,\"#de77ae\"],[0.3,\"#f1b6da\"],[0.4,\"#fde0ef\"],[0.5,\"#f7f7f7\"],[0.6,\"#e6f5d0\"],[0.7,\"#b8e186\"],[0.8,\"#7fbc41\"],[0.9,\"#4d9221\"],[1,\"#276419\"]],\"sequential\":[[0.0,\"#0d0887\"],[0.1111111111111111,\"#46039f\"],[0.2222222222222222,\"#7201a8\"],[0.3333333333333333,\"#9c179e\"],[0.4444444444444444,\"#bd3786\"],[0.5555555555555556,\"#d8576b\"],[0.6666666666666666,\"#ed7953\"],[0.7777777777777778,\"#fb9f3a\"],[0.8888888888888888,\"#fdca26\"],[1.0,\"#f0f921\"]],\"sequentialminus\":[[0.0,\"#0d0887\"],[0.1111111111111111,\"#46039f\"],[0.2222222222222222,\"#7201a8\"],[0.3333333333333333,\"#9c179e\"],[0.4444444444444444,\"#bd3786\"],[0.5555555555555556,\"#d8576b\"],[0.6666666666666666,\"#ed7953\"],[0.7777777777777778,\"#fb9f3a\"],[0.8888888888888888,\"#fdca26\"],[1.0,\"#f0f921\"]]},\"colorway\":[\"#636efa\",\"#EF553B\",\"#00cc96\",\"#ab63fa\",\"#FFA15A\",\"#19d3f3\",\"#FF6692\",\"#B6E880\",\"#FF97FF\",\"#FECB52\"],\"font\":{\"color\":\"#2a3f5f\"},\"geo\":{\"bgcolor\":\"white\",\"lakecolor\":\"white\",\"landcolor\":\"#E5ECF6\",\"showlakes\":true,\"showland\":true,\"subunitcolor\":\"white\"},\"hoverlabel\":{\"align\":\"left\"},\"hovermode\":\"closest\",\"mapbox\":{\"style\":\"light\"},\"paper_bgcolor\":\"white\",\"plot_bgcolor\":\"#E5ECF6\",\"polar\":{\"angularaxis\":{\"gridcolor\":\"white\",\"linecolor\":\"white\",\"ticks\":\"\"},\"bgcolor\":\"#E5ECF6\",\"radialaxis\":{\"gridcolor\":\"white\",\"linecolor\":\"white\",\"ticks\":\"\"}},\"scene\":{\"xaxis\":{\"backgroundcolor\":\"#E5ECF6\",\"gridcolor\":\"white\",\"gridwidth\":2,\"linecolor\":\"white\",\"showbackground\":true,\"ticks\":\"\",\"zerolinecolor\":\"white\"},\"yaxis\":{\"backgroundcolor\":\"#E5ECF6\",\"gridcolor\":\"white\",\"gridwidth\":2,\"linecolor\":\"white\",\"showbackground\":true,\"ticks\":\"\",\"zerolinecolor\":\"white\"},\"zaxis\":{\"backgroundcolor\":\"#E5ECF6\",\"gridcolor\":\"white\",\"gridwidth\":2,\"linecolor\":\"white\",\"showbackground\":true,\"ticks\":\"\",\"zerolinecolor\":\"white\"}},\"shapedefaults\":{\"line\":{\"color\":\"#2a3f5f\"}},\"ternary\":{\"aaxis\":{\"gridcolor\":\"white\",\"linecolor\":\"white\",\"ticks\":\"\"},\"baxis\":{\"gridcolor\":\"white\",\"linecolor\":\"white\",\"ticks\":\"\"},\"bgcolor\":\"#E5ECF6\",\"caxis\":{\"gridcolor\":\"white\",\"linecolor\":\"white\",\"ticks\":\"\"}},\"title\":{\"x\":0.05},\"xaxis\":{\"automargin\":true,\"gridcolor\":\"white\",\"linecolor\":\"white\",\"ticks\":\"\",\"title\":{\"standoff\":15},\"zerolinecolor\":\"white\",\"zerolinewidth\":2},\"yaxis\":{\"automargin\":true,\"gridcolor\":\"white\",\"linecolor\":\"white\",\"ticks\":\"\",\"title\":{\"standoff\":15},\"zerolinecolor\":\"white\",\"zerolinewidth\":2}}}},                        {\"responsive\": true}                    ).then(function(){\n",
       "                            \n",
       "var gd = document.getElementById('3ba5f773-42ed-4242-8ca9-f61254d208c8');\n",
       "var x = new MutationObserver(function (mutations, observer) {{\n",
       "        var display = window.getComputedStyle(gd).display;\n",
       "        if (!display || display === 'none') {{\n",
       "            console.log([gd, 'removed!']);\n",
       "            Plotly.purge(gd);\n",
       "            observer.disconnect();\n",
       "        }}\n",
       "}});\n",
       "\n",
       "// Listen for the removal of the full notebook cells\n",
       "var notebookContainer = gd.closest('#notebook-container');\n",
       "if (notebookContainer) {{\n",
       "    x.observe(notebookContainer, {childList: true});\n",
       "}}\n",
       "\n",
       "// Listen for the clearing of the current output cell\n",
       "var outputEl = gd.closest('.output');\n",
       "if (outputEl) {{\n",
       "    x.observe(outputEl, {childList: true});\n",
       "}}\n",
       "\n",
       "                        })                };                });            </script>        </div>"
      ]
     },
     "metadata": {},
     "output_type": "display_data"
    }
   ],
   "source": [
    "#import chart_studio.plotly as py\n",
    "import plotly.graph_objects as go\n",
    "\n",
    "data = [go.Scatter(x=df_cmt.index,y=df_cmt.usd_vol,name='USD Volatilidade'),\n",
    "        go.Scatter(x=rol_vol.index,y=rol_vol.values, name='Média móvel 5 dias')]\n",
    "\n",
    "py.iplot(data)"
   ]
  },
  {
   "cell_type": "code",
   "execution_count": 91,
   "id": "e1229941",
   "metadata": {},
   "outputs": [
    {
     "data": {
      "application/vnd.plotly.v1+json": {
       "config": {
        "linkText": "Export to plot.ly",
        "plotlyServerURL": "https://plot.ly",
        "showLink": false
       },
       "data": [
        {
         "type": "bar",
         "x": [
          "milho",
          "milho",
          "acucar ",
          "acucar ",
          "milho",
          "aluminio ",
          "acucar ",
          "aluminio ",
          "aluminio ",
          "milho",
          "milho",
          "milho",
          "acucar ",
          "aluminio ",
          "milho",
          "milho",
          "milho",
          "aluminio ",
          "acucar ",
          "milho",
          "milho",
          "acucar ",
          "aluminio ",
          "aluminio ",
          "acucar ",
          "aluminio ",
          "acucar ",
          "milho",
          "acucar ",
          "aluminio ",
          "aluminio ",
          "milho",
          "aluminio ",
          "milho",
          "acucar ",
          "milho",
          "milho",
          "acucar ",
          "aluminio ",
          "milho",
          "aluminio ",
          "milho",
          "acucar ",
          "aluminio ",
          "aluminio ",
          "aluminio ",
          "acucar ",
          "aluminio ",
          "milho",
          "acucar ",
          "acucar ",
          "aluminio ",
          "aluminio ",
          "milho",
          "milho",
          "acucar ",
          "milho",
          "milho",
          "milho",
          "aluminio ",
          "aluminio ",
          "milho",
          "aluminio ",
          "milho",
          "milho",
          "aluminio ",
          "milho",
          "acucar ",
          "milho",
          "acucar ",
          "aluminio ",
          "acucar ",
          "acucar ",
          "milho",
          "acucar ",
          "milho",
          "acucar ",
          "aluminio ",
          "aluminio ",
          "aluminio ",
          "acucar ",
          "milho",
          "acucar ",
          "milho",
          "aluminio ",
          "aluminio ",
          "aluminio ",
          "milho",
          "milho",
          "milho",
          "aluminio ",
          "acucar ",
          "acucar ",
          "milho",
          "milho",
          "milho",
          "aluminio ",
          "acucar ",
          "milho",
          "aluminio ",
          "milho",
          "milho",
          "acucar ",
          "aluminio ",
          "milho",
          "milho",
          "acucar ",
          "acucar ",
          "milho",
          "aluminio ",
          "aluminio ",
          "aluminio ",
          "aluminio ",
          "aluminio ",
          "milho",
          "acucar ",
          "aluminio ",
          "aluminio ",
          "acucar ",
          "milho",
          "aluminio ",
          "milho",
          "milho",
          "aluminio ",
          "aluminio ",
          "aluminio ",
          "milho",
          "acucar ",
          "milho",
          "aluminio ",
          "milho",
          "acucar ",
          "milho",
          "milho",
          "aluminio ",
          "milho",
          "milho",
          "aluminio ",
          "acucar ",
          "milho",
          "aluminio ",
          "milho",
          "acucar ",
          "milho",
          "aluminio ",
          "aluminio ",
          "aluminio ",
          "milho",
          "acucar ",
          "milho",
          "milho",
          "milho",
          "acucar ",
          "acucar ",
          "milho",
          "aluminio ",
          "aluminio ",
          "milho",
          "milho",
          "acucar ",
          "acucar ",
          "milho",
          "milho",
          "acucar ",
          "milho",
          "aluminio ",
          "milho",
          "milho",
          "acucar ",
          "aluminio ",
          "milho",
          "milho",
          "aluminio ",
          "milho",
          "milho",
          "milho",
          "acucar ",
          "acucar ",
          "acucar ",
          "acucar ",
          "acucar ",
          "milho",
          "acucar ",
          "aluminio ",
          "milho",
          "milho",
          "milho",
          "acucar ",
          "acucar ",
          "milho",
          "milho",
          "milho",
          "milho",
          "acucar ",
          "milho"
         ],
         "y": [
          3841672,
          568354,
          2902833,
          4246822,
          2284834,
          1422545,
          1393141,
          2168590,
          1802519,
          1237621,
          3908290,
          3615966,
          7491715,
          2680939,
          7499839,
          4552408,
          2190059,
          6465253,
          4865016,
          5632615,
          4518994,
          5717772,
          4641567,
          5095168,
          5155493,
          5515668,
          3341880,
          3415193,
          2755055,
          2922144,
          3866367,
          437356,
          4780277,
          1538209,
          3608098,
          2824298,
          5885987,
          2181217,
          7160220,
          1120530,
          7018067,
          6938606,
          1942191,
          5708394,
          2988437,
          7738622,
          1799213,
          2967924,
          4366083,
          2656779,
          127891,
          3238513,
          4301808,
          1643536,
          293331,
          2294598,
          3162184,
          7004507,
          13485818,
          941329,
          312264,
          605062,
          2724279,
          5834604,
          5350094,
          4778349,
          1293119,
          6882302,
          2449516,
          3513307,
          3526883,
          1913140,
          487479,
          3242567,
          1641371,
          4973394,
          3562130,
          7963634,
          282499,
          2241781,
          2897602,
          939848,
          3506248,
          3911963,
          2137955,
          4646109,
          7339553,
          1313552,
          7748341,
          7052657,
          4852125,
          5829603,
          4354946,
          7044731,
          1892094,
          4435183,
          4570445,
          7034832,
          2162473,
          6031971,
          3112750,
          9057315,
          7966549,
          2688589,
          7566652,
          7549131,
          7558846,
          5539505,
          5497960,
          6850255,
          505509,
          7446517,
          4808241,
          3122999,
          2502286,
          6719686,
          1604638,
          5137398,
          6308532,
          7731520,
          5273474,
          4986412,
          371804,
          3367567,
          3039720,
          3733219,
          5799068,
          1471829,
          6497096,
          4497165,
          3731783,
          2354648,
          1710571,
          2988544,
          3631708,
          4993981,
          6176268,
          234801,
          7513404,
          6896825,
          4653950,
          113301,
          4492622,
          6621840,
          4152146,
          4834005,
          2983643,
          940169,
          1884171,
          6133641,
          6603782,
          4292649,
          5710759,
          6320005,
          5782517,
          6196494,
          5517328,
          1429600,
          5828527,
          3788354,
          2380110,
          2677055,
          3294157,
          6933919,
          2000849,
          3906709,
          6507241,
          1285801,
          5031117,
          1298846,
          7116736,
          4240812,
          5806202,
          6874629,
          5409442,
          816599,
          6750144,
          2121014,
          3485409,
          1131018,
          2099289,
          6212214,
          3331299,
          6984395,
          2298368,
          6120589,
          6823464,
          1271198,
          5007278,
          7196519,
          5716385,
          7988150,
          3243526,
          6889297,
          6025511
         ]
        }
       ],
       "layout": {
        "template": {
         "data": {
          "bar": [
           {
            "error_x": {
             "color": "#2a3f5f"
            },
            "error_y": {
             "color": "#2a3f5f"
            },
            "marker": {
             "line": {
              "color": "#E5ECF6",
              "width": 0.5
             },
             "pattern": {
              "fillmode": "overlay",
              "size": 10,
              "solidity": 0.2
             }
            },
            "type": "bar"
           }
          ],
          "barpolar": [
           {
            "marker": {
             "line": {
              "color": "#E5ECF6",
              "width": 0.5
             },
             "pattern": {
              "fillmode": "overlay",
              "size": 10,
              "solidity": 0.2
             }
            },
            "type": "barpolar"
           }
          ],
          "carpet": [
           {
            "aaxis": {
             "endlinecolor": "#2a3f5f",
             "gridcolor": "white",
             "linecolor": "white",
             "minorgridcolor": "white",
             "startlinecolor": "#2a3f5f"
            },
            "baxis": {
             "endlinecolor": "#2a3f5f",
             "gridcolor": "white",
             "linecolor": "white",
             "minorgridcolor": "white",
             "startlinecolor": "#2a3f5f"
            },
            "type": "carpet"
           }
          ],
          "choropleth": [
           {
            "colorbar": {
             "outlinewidth": 0,
             "ticks": ""
            },
            "type": "choropleth"
           }
          ],
          "contour": [
           {
            "colorbar": {
             "outlinewidth": 0,
             "ticks": ""
            },
            "colorscale": [
             [
              0,
              "#0d0887"
             ],
             [
              0.1111111111111111,
              "#46039f"
             ],
             [
              0.2222222222222222,
              "#7201a8"
             ],
             [
              0.3333333333333333,
              "#9c179e"
             ],
             [
              0.4444444444444444,
              "#bd3786"
             ],
             [
              0.5555555555555556,
              "#d8576b"
             ],
             [
              0.6666666666666666,
              "#ed7953"
             ],
             [
              0.7777777777777778,
              "#fb9f3a"
             ],
             [
              0.8888888888888888,
              "#fdca26"
             ],
             [
              1,
              "#f0f921"
             ]
            ],
            "type": "contour"
           }
          ],
          "contourcarpet": [
           {
            "colorbar": {
             "outlinewidth": 0,
             "ticks": ""
            },
            "type": "contourcarpet"
           }
          ],
          "heatmap": [
           {
            "colorbar": {
             "outlinewidth": 0,
             "ticks": ""
            },
            "colorscale": [
             [
              0,
              "#0d0887"
             ],
             [
              0.1111111111111111,
              "#46039f"
             ],
             [
              0.2222222222222222,
              "#7201a8"
             ],
             [
              0.3333333333333333,
              "#9c179e"
             ],
             [
              0.4444444444444444,
              "#bd3786"
             ],
             [
              0.5555555555555556,
              "#d8576b"
             ],
             [
              0.6666666666666666,
              "#ed7953"
             ],
             [
              0.7777777777777778,
              "#fb9f3a"
             ],
             [
              0.8888888888888888,
              "#fdca26"
             ],
             [
              1,
              "#f0f921"
             ]
            ],
            "type": "heatmap"
           }
          ],
          "heatmapgl": [
           {
            "colorbar": {
             "outlinewidth": 0,
             "ticks": ""
            },
            "colorscale": [
             [
              0,
              "#0d0887"
             ],
             [
              0.1111111111111111,
              "#46039f"
             ],
             [
              0.2222222222222222,
              "#7201a8"
             ],
             [
              0.3333333333333333,
              "#9c179e"
             ],
             [
              0.4444444444444444,
              "#bd3786"
             ],
             [
              0.5555555555555556,
              "#d8576b"
             ],
             [
              0.6666666666666666,
              "#ed7953"
             ],
             [
              0.7777777777777778,
              "#fb9f3a"
             ],
             [
              0.8888888888888888,
              "#fdca26"
             ],
             [
              1,
              "#f0f921"
             ]
            ],
            "type": "heatmapgl"
           }
          ],
          "histogram": [
           {
            "marker": {
             "pattern": {
              "fillmode": "overlay",
              "size": 10,
              "solidity": 0.2
             }
            },
            "type": "histogram"
           }
          ],
          "histogram2d": [
           {
            "colorbar": {
             "outlinewidth": 0,
             "ticks": ""
            },
            "colorscale": [
             [
              0,
              "#0d0887"
             ],
             [
              0.1111111111111111,
              "#46039f"
             ],
             [
              0.2222222222222222,
              "#7201a8"
             ],
             [
              0.3333333333333333,
              "#9c179e"
             ],
             [
              0.4444444444444444,
              "#bd3786"
             ],
             [
              0.5555555555555556,
              "#d8576b"
             ],
             [
              0.6666666666666666,
              "#ed7953"
             ],
             [
              0.7777777777777778,
              "#fb9f3a"
             ],
             [
              0.8888888888888888,
              "#fdca26"
             ],
             [
              1,
              "#f0f921"
             ]
            ],
            "type": "histogram2d"
           }
          ],
          "histogram2dcontour": [
           {
            "colorbar": {
             "outlinewidth": 0,
             "ticks": ""
            },
            "colorscale": [
             [
              0,
              "#0d0887"
             ],
             [
              0.1111111111111111,
              "#46039f"
             ],
             [
              0.2222222222222222,
              "#7201a8"
             ],
             [
              0.3333333333333333,
              "#9c179e"
             ],
             [
              0.4444444444444444,
              "#bd3786"
             ],
             [
              0.5555555555555556,
              "#d8576b"
             ],
             [
              0.6666666666666666,
              "#ed7953"
             ],
             [
              0.7777777777777778,
              "#fb9f3a"
             ],
             [
              0.8888888888888888,
              "#fdca26"
             ],
             [
              1,
              "#f0f921"
             ]
            ],
            "type": "histogram2dcontour"
           }
          ],
          "mesh3d": [
           {
            "colorbar": {
             "outlinewidth": 0,
             "ticks": ""
            },
            "type": "mesh3d"
           }
          ],
          "parcoords": [
           {
            "line": {
             "colorbar": {
              "outlinewidth": 0,
              "ticks": ""
             }
            },
            "type": "parcoords"
           }
          ],
          "pie": [
           {
            "automargin": true,
            "type": "pie"
           }
          ],
          "scatter": [
           {
            "marker": {
             "colorbar": {
              "outlinewidth": 0,
              "ticks": ""
             }
            },
            "type": "scatter"
           }
          ],
          "scatter3d": [
           {
            "line": {
             "colorbar": {
              "outlinewidth": 0,
              "ticks": ""
             }
            },
            "marker": {
             "colorbar": {
              "outlinewidth": 0,
              "ticks": ""
             }
            },
            "type": "scatter3d"
           }
          ],
          "scattercarpet": [
           {
            "marker": {
             "colorbar": {
              "outlinewidth": 0,
              "ticks": ""
             }
            },
            "type": "scattercarpet"
           }
          ],
          "scattergeo": [
           {
            "marker": {
             "colorbar": {
              "outlinewidth": 0,
              "ticks": ""
             }
            },
            "type": "scattergeo"
           }
          ],
          "scattergl": [
           {
            "marker": {
             "colorbar": {
              "outlinewidth": 0,
              "ticks": ""
             }
            },
            "type": "scattergl"
           }
          ],
          "scattermapbox": [
           {
            "marker": {
             "colorbar": {
              "outlinewidth": 0,
              "ticks": ""
             }
            },
            "type": "scattermapbox"
           }
          ],
          "scatterpolar": [
           {
            "marker": {
             "colorbar": {
              "outlinewidth": 0,
              "ticks": ""
             }
            },
            "type": "scatterpolar"
           }
          ],
          "scatterpolargl": [
           {
            "marker": {
             "colorbar": {
              "outlinewidth": 0,
              "ticks": ""
             }
            },
            "type": "scatterpolargl"
           }
          ],
          "scatterternary": [
           {
            "marker": {
             "colorbar": {
              "outlinewidth": 0,
              "ticks": ""
             }
            },
            "type": "scatterternary"
           }
          ],
          "surface": [
           {
            "colorbar": {
             "outlinewidth": 0,
             "ticks": ""
            },
            "colorscale": [
             [
              0,
              "#0d0887"
             ],
             [
              0.1111111111111111,
              "#46039f"
             ],
             [
              0.2222222222222222,
              "#7201a8"
             ],
             [
              0.3333333333333333,
              "#9c179e"
             ],
             [
              0.4444444444444444,
              "#bd3786"
             ],
             [
              0.5555555555555556,
              "#d8576b"
             ],
             [
              0.6666666666666666,
              "#ed7953"
             ],
             [
              0.7777777777777778,
              "#fb9f3a"
             ],
             [
              0.8888888888888888,
              "#fdca26"
             ],
             [
              1,
              "#f0f921"
             ]
            ],
            "type": "surface"
           }
          ],
          "table": [
           {
            "cells": {
             "fill": {
              "color": "#EBF0F8"
             },
             "line": {
              "color": "white"
             }
            },
            "header": {
             "fill": {
              "color": "#C8D4E3"
             },
             "line": {
              "color": "white"
             }
            },
            "type": "table"
           }
          ]
         },
         "layout": {
          "annotationdefaults": {
           "arrowcolor": "#2a3f5f",
           "arrowhead": 0,
           "arrowwidth": 1
          },
          "autotypenumbers": "strict",
          "coloraxis": {
           "colorbar": {
            "outlinewidth": 0,
            "ticks": ""
           }
          },
          "colorscale": {
           "diverging": [
            [
             0,
             "#8e0152"
            ],
            [
             0.1,
             "#c51b7d"
            ],
            [
             0.2,
             "#de77ae"
            ],
            [
             0.3,
             "#f1b6da"
            ],
            [
             0.4,
             "#fde0ef"
            ],
            [
             0.5,
             "#f7f7f7"
            ],
            [
             0.6,
             "#e6f5d0"
            ],
            [
             0.7,
             "#b8e186"
            ],
            [
             0.8,
             "#7fbc41"
            ],
            [
             0.9,
             "#4d9221"
            ],
            [
             1,
             "#276419"
            ]
           ],
           "sequential": [
            [
             0,
             "#0d0887"
            ],
            [
             0.1111111111111111,
             "#46039f"
            ],
            [
             0.2222222222222222,
             "#7201a8"
            ],
            [
             0.3333333333333333,
             "#9c179e"
            ],
            [
             0.4444444444444444,
             "#bd3786"
            ],
            [
             0.5555555555555556,
             "#d8576b"
            ],
            [
             0.6666666666666666,
             "#ed7953"
            ],
            [
             0.7777777777777778,
             "#fb9f3a"
            ],
            [
             0.8888888888888888,
             "#fdca26"
            ],
            [
             1,
             "#f0f921"
            ]
           ],
           "sequentialminus": [
            [
             0,
             "#0d0887"
            ],
            [
             0.1111111111111111,
             "#46039f"
            ],
            [
             0.2222222222222222,
             "#7201a8"
            ],
            [
             0.3333333333333333,
             "#9c179e"
            ],
            [
             0.4444444444444444,
             "#bd3786"
            ],
            [
             0.5555555555555556,
             "#d8576b"
            ],
            [
             0.6666666666666666,
             "#ed7953"
            ],
            [
             0.7777777777777778,
             "#fb9f3a"
            ],
            [
             0.8888888888888888,
             "#fdca26"
            ],
            [
             1,
             "#f0f921"
            ]
           ]
          },
          "colorway": [
           "#636efa",
           "#EF553B",
           "#00cc96",
           "#ab63fa",
           "#FFA15A",
           "#19d3f3",
           "#FF6692",
           "#B6E880",
           "#FF97FF",
           "#FECB52"
          ],
          "font": {
           "color": "#2a3f5f"
          },
          "geo": {
           "bgcolor": "white",
           "lakecolor": "white",
           "landcolor": "#E5ECF6",
           "showlakes": true,
           "showland": true,
           "subunitcolor": "white"
          },
          "hoverlabel": {
           "align": "left"
          },
          "hovermode": "closest",
          "mapbox": {
           "style": "light"
          },
          "paper_bgcolor": "white",
          "plot_bgcolor": "#E5ECF6",
          "polar": {
           "angularaxis": {
            "gridcolor": "white",
            "linecolor": "white",
            "ticks": ""
           },
           "bgcolor": "#E5ECF6",
           "radialaxis": {
            "gridcolor": "white",
            "linecolor": "white",
            "ticks": ""
           }
          },
          "scene": {
           "xaxis": {
            "backgroundcolor": "#E5ECF6",
            "gridcolor": "white",
            "gridwidth": 2,
            "linecolor": "white",
            "showbackground": true,
            "ticks": "",
            "zerolinecolor": "white"
           },
           "yaxis": {
            "backgroundcolor": "#E5ECF6",
            "gridcolor": "white",
            "gridwidth": 2,
            "linecolor": "white",
            "showbackground": true,
            "ticks": "",
            "zerolinecolor": "white"
           },
           "zaxis": {
            "backgroundcolor": "#E5ECF6",
            "gridcolor": "white",
            "gridwidth": 2,
            "linecolor": "white",
            "showbackground": true,
            "ticks": "",
            "zerolinecolor": "white"
           }
          },
          "shapedefaults": {
           "line": {
            "color": "#2a3f5f"
           }
          },
          "ternary": {
           "aaxis": {
            "gridcolor": "white",
            "linecolor": "white",
            "ticks": ""
           },
           "baxis": {
            "gridcolor": "white",
            "linecolor": "white",
            "ticks": ""
           },
           "bgcolor": "#E5ECF6",
           "caxis": {
            "gridcolor": "white",
            "linecolor": "white",
            "ticks": ""
           }
          },
          "title": {
           "x": 0.05
          },
          "xaxis": {
           "automargin": true,
           "gridcolor": "white",
           "linecolor": "white",
           "ticks": "",
           "title": {
            "standoff": 15
           },
           "zerolinecolor": "white",
           "zerolinewidth": 2
          },
          "yaxis": {
           "automargin": true,
           "gridcolor": "white",
           "linecolor": "white",
           "ticks": "",
           "title": {
            "standoff": 15
           },
           "zerolinecolor": "white",
           "zerolinewidth": 2
          }
         }
        }
       }
      },
      "text/html": [
       "<div>                            <div id=\"fbd825ef-5f42-4a03-bf02-ae55b76887be\" class=\"plotly-graph-div\" style=\"height:525px; width:100%;\"></div>            <script type=\"text/javascript\">                require([\"plotly\"], function(Plotly) {                    window.PLOTLYENV=window.PLOTLYENV || {};                                    if (document.getElementById(\"fbd825ef-5f42-4a03-bf02-ae55b76887be\")) {                    Plotly.newPlot(                        \"fbd825ef-5f42-4a03-bf02-ae55b76887be\",                        [{\"x\":[\"milho\",\"milho\",\"acucar \",\"acucar \",\"milho\",\"aluminio \",\"acucar \",\"aluminio \",\"aluminio \",\"milho\",\"milho\",\"milho\",\"acucar \",\"aluminio \",\"milho\",\"milho\",\"milho\",\"aluminio \",\"acucar \",\"milho\",\"milho\",\"acucar \",\"aluminio \",\"aluminio \",\"acucar \",\"aluminio \",\"acucar \",\"milho\",\"acucar \",\"aluminio \",\"aluminio \",\"milho\",\"aluminio \",\"milho\",\"acucar \",\"milho\",\"milho\",\"acucar \",\"aluminio \",\"milho\",\"aluminio \",\"milho\",\"acucar \",\"aluminio \",\"aluminio \",\"aluminio \",\"acucar \",\"aluminio \",\"milho\",\"acucar \",\"acucar \",\"aluminio \",\"aluminio \",\"milho\",\"milho\",\"acucar \",\"milho\",\"milho\",\"milho\",\"aluminio \",\"aluminio \",\"milho\",\"aluminio \",\"milho\",\"milho\",\"aluminio \",\"milho\",\"acucar \",\"milho\",\"acucar \",\"aluminio \",\"acucar \",\"acucar \",\"milho\",\"acucar \",\"milho\",\"acucar \",\"aluminio \",\"aluminio \",\"aluminio \",\"acucar \",\"milho\",\"acucar \",\"milho\",\"aluminio \",\"aluminio \",\"aluminio \",\"milho\",\"milho\",\"milho\",\"aluminio \",\"acucar \",\"acucar \",\"milho\",\"milho\",\"milho\",\"aluminio \",\"acucar \",\"milho\",\"aluminio \",\"milho\",\"milho\",\"acucar \",\"aluminio \",\"milho\",\"milho\",\"acucar \",\"acucar \",\"milho\",\"aluminio \",\"aluminio \",\"aluminio \",\"aluminio \",\"aluminio \",\"milho\",\"acucar \",\"aluminio \",\"aluminio \",\"acucar \",\"milho\",\"aluminio \",\"milho\",\"milho\",\"aluminio \",\"aluminio \",\"aluminio \",\"milho\",\"acucar \",\"milho\",\"aluminio \",\"milho\",\"acucar \",\"milho\",\"milho\",\"aluminio \",\"milho\",\"milho\",\"aluminio \",\"acucar \",\"milho\",\"aluminio \",\"milho\",\"acucar \",\"milho\",\"aluminio \",\"aluminio \",\"aluminio \",\"milho\",\"acucar \",\"milho\",\"milho\",\"milho\",\"acucar \",\"acucar \",\"milho\",\"aluminio \",\"aluminio \",\"milho\",\"milho\",\"acucar \",\"acucar \",\"milho\",\"milho\",\"acucar \",\"milho\",\"aluminio \",\"milho\",\"milho\",\"acucar \",\"aluminio \",\"milho\",\"milho\",\"aluminio \",\"milho\",\"milho\",\"milho\",\"acucar \",\"acucar \",\"acucar \",\"acucar \",\"acucar \",\"milho\",\"acucar \",\"aluminio \",\"milho\",\"milho\",\"milho\",\"acucar \",\"acucar \",\"milho\",\"milho\",\"milho\",\"milho\",\"acucar \",\"milho\"],\"y\":[3841672,568354,2902833,4246822,2284834,1422545,1393141,2168590,1802519,1237621,3908290,3615966,7491715,2680939,7499839,4552408,2190059,6465253,4865016,5632615,4518994,5717772,4641567,5095168,5155493,5515668,3341880,3415193,2755055,2922144,3866367,437356,4780277,1538209,3608098,2824298,5885987,2181217,7160220,1120530,7018067,6938606,1942191,5708394,2988437,7738622,1799213,2967924,4366083,2656779,127891,3238513,4301808,1643536,293331,2294598,3162184,7004507,13485818,941329,312264,605062,2724279,5834604,5350094,4778349,1293119,6882302,2449516,3513307,3526883,1913140,487479,3242567,1641371,4973394,3562130,7963634,282499,2241781,2897602,939848,3506248,3911963,2137955,4646109,7339553,1313552,7748341,7052657,4852125,5829603,4354946,7044731,1892094,4435183,4570445,7034832,2162473,6031971,3112750,9057315,7966549,2688589,7566652,7549131,7558846,5539505,5497960,6850255,505509,7446517,4808241,3122999,2502286,6719686,1604638,5137398,6308532,7731520,5273474,4986412,371804,3367567,3039720,3733219,5799068,1471829,6497096,4497165,3731783,2354648,1710571,2988544,3631708,4993981,6176268,234801,7513404,6896825,4653950,113301,4492622,6621840,4152146,4834005,2983643,940169,1884171,6133641,6603782,4292649,5710759,6320005,5782517,6196494,5517328,1429600,5828527,3788354,2380110,2677055,3294157,6933919,2000849,3906709,6507241,1285801,5031117,1298846,7116736,4240812,5806202,6874629,5409442,816599,6750144,2121014,3485409,1131018,2099289,6212214,3331299,6984395,2298368,6120589,6823464,1271198,5007278,7196519,5716385,7988150,3243526,6889297,6025511],\"type\":\"bar\"}],                        {\"template\":{\"data\":{\"barpolar\":[{\"marker\":{\"line\":{\"color\":\"#E5ECF6\",\"width\":0.5},\"pattern\":{\"fillmode\":\"overlay\",\"size\":10,\"solidity\":0.2}},\"type\":\"barpolar\"}],\"bar\":[{\"error_x\":{\"color\":\"#2a3f5f\"},\"error_y\":{\"color\":\"#2a3f5f\"},\"marker\":{\"line\":{\"color\":\"#E5ECF6\",\"width\":0.5},\"pattern\":{\"fillmode\":\"overlay\",\"size\":10,\"solidity\":0.2}},\"type\":\"bar\"}],\"carpet\":[{\"aaxis\":{\"endlinecolor\":\"#2a3f5f\",\"gridcolor\":\"white\",\"linecolor\":\"white\",\"minorgridcolor\":\"white\",\"startlinecolor\":\"#2a3f5f\"},\"baxis\":{\"endlinecolor\":\"#2a3f5f\",\"gridcolor\":\"white\",\"linecolor\":\"white\",\"minorgridcolor\":\"white\",\"startlinecolor\":\"#2a3f5f\"},\"type\":\"carpet\"}],\"choropleth\":[{\"colorbar\":{\"outlinewidth\":0,\"ticks\":\"\"},\"type\":\"choropleth\"}],\"contourcarpet\":[{\"colorbar\":{\"outlinewidth\":0,\"ticks\":\"\"},\"type\":\"contourcarpet\"}],\"contour\":[{\"colorbar\":{\"outlinewidth\":0,\"ticks\":\"\"},\"colorscale\":[[0.0,\"#0d0887\"],[0.1111111111111111,\"#46039f\"],[0.2222222222222222,\"#7201a8\"],[0.3333333333333333,\"#9c179e\"],[0.4444444444444444,\"#bd3786\"],[0.5555555555555556,\"#d8576b\"],[0.6666666666666666,\"#ed7953\"],[0.7777777777777778,\"#fb9f3a\"],[0.8888888888888888,\"#fdca26\"],[1.0,\"#f0f921\"]],\"type\":\"contour\"}],\"heatmapgl\":[{\"colorbar\":{\"outlinewidth\":0,\"ticks\":\"\"},\"colorscale\":[[0.0,\"#0d0887\"],[0.1111111111111111,\"#46039f\"],[0.2222222222222222,\"#7201a8\"],[0.3333333333333333,\"#9c179e\"],[0.4444444444444444,\"#bd3786\"],[0.5555555555555556,\"#d8576b\"],[0.6666666666666666,\"#ed7953\"],[0.7777777777777778,\"#fb9f3a\"],[0.8888888888888888,\"#fdca26\"],[1.0,\"#f0f921\"]],\"type\":\"heatmapgl\"}],\"heatmap\":[{\"colorbar\":{\"outlinewidth\":0,\"ticks\":\"\"},\"colorscale\":[[0.0,\"#0d0887\"],[0.1111111111111111,\"#46039f\"],[0.2222222222222222,\"#7201a8\"],[0.3333333333333333,\"#9c179e\"],[0.4444444444444444,\"#bd3786\"],[0.5555555555555556,\"#d8576b\"],[0.6666666666666666,\"#ed7953\"],[0.7777777777777778,\"#fb9f3a\"],[0.8888888888888888,\"#fdca26\"],[1.0,\"#f0f921\"]],\"type\":\"heatmap\"}],\"histogram2dcontour\":[{\"colorbar\":{\"outlinewidth\":0,\"ticks\":\"\"},\"colorscale\":[[0.0,\"#0d0887\"],[0.1111111111111111,\"#46039f\"],[0.2222222222222222,\"#7201a8\"],[0.3333333333333333,\"#9c179e\"],[0.4444444444444444,\"#bd3786\"],[0.5555555555555556,\"#d8576b\"],[0.6666666666666666,\"#ed7953\"],[0.7777777777777778,\"#fb9f3a\"],[0.8888888888888888,\"#fdca26\"],[1.0,\"#f0f921\"]],\"type\":\"histogram2dcontour\"}],\"histogram2d\":[{\"colorbar\":{\"outlinewidth\":0,\"ticks\":\"\"},\"colorscale\":[[0.0,\"#0d0887\"],[0.1111111111111111,\"#46039f\"],[0.2222222222222222,\"#7201a8\"],[0.3333333333333333,\"#9c179e\"],[0.4444444444444444,\"#bd3786\"],[0.5555555555555556,\"#d8576b\"],[0.6666666666666666,\"#ed7953\"],[0.7777777777777778,\"#fb9f3a\"],[0.8888888888888888,\"#fdca26\"],[1.0,\"#f0f921\"]],\"type\":\"histogram2d\"}],\"histogram\":[{\"marker\":{\"pattern\":{\"fillmode\":\"overlay\",\"size\":10,\"solidity\":0.2}},\"type\":\"histogram\"}],\"mesh3d\":[{\"colorbar\":{\"outlinewidth\":0,\"ticks\":\"\"},\"type\":\"mesh3d\"}],\"parcoords\":[{\"line\":{\"colorbar\":{\"outlinewidth\":0,\"ticks\":\"\"}},\"type\":\"parcoords\"}],\"pie\":[{\"automargin\":true,\"type\":\"pie\"}],\"scatter3d\":[{\"line\":{\"colorbar\":{\"outlinewidth\":0,\"ticks\":\"\"}},\"marker\":{\"colorbar\":{\"outlinewidth\":0,\"ticks\":\"\"}},\"type\":\"scatter3d\"}],\"scattercarpet\":[{\"marker\":{\"colorbar\":{\"outlinewidth\":0,\"ticks\":\"\"}},\"type\":\"scattercarpet\"}],\"scattergeo\":[{\"marker\":{\"colorbar\":{\"outlinewidth\":0,\"ticks\":\"\"}},\"type\":\"scattergeo\"}],\"scattergl\":[{\"marker\":{\"colorbar\":{\"outlinewidth\":0,\"ticks\":\"\"}},\"type\":\"scattergl\"}],\"scattermapbox\":[{\"marker\":{\"colorbar\":{\"outlinewidth\":0,\"ticks\":\"\"}},\"type\":\"scattermapbox\"}],\"scatterpolargl\":[{\"marker\":{\"colorbar\":{\"outlinewidth\":0,\"ticks\":\"\"}},\"type\":\"scatterpolargl\"}],\"scatterpolar\":[{\"marker\":{\"colorbar\":{\"outlinewidth\":0,\"ticks\":\"\"}},\"type\":\"scatterpolar\"}],\"scatter\":[{\"marker\":{\"colorbar\":{\"outlinewidth\":0,\"ticks\":\"\"}},\"type\":\"scatter\"}],\"scatterternary\":[{\"marker\":{\"colorbar\":{\"outlinewidth\":0,\"ticks\":\"\"}},\"type\":\"scatterternary\"}],\"surface\":[{\"colorbar\":{\"outlinewidth\":0,\"ticks\":\"\"},\"colorscale\":[[0.0,\"#0d0887\"],[0.1111111111111111,\"#46039f\"],[0.2222222222222222,\"#7201a8\"],[0.3333333333333333,\"#9c179e\"],[0.4444444444444444,\"#bd3786\"],[0.5555555555555556,\"#d8576b\"],[0.6666666666666666,\"#ed7953\"],[0.7777777777777778,\"#fb9f3a\"],[0.8888888888888888,\"#fdca26\"],[1.0,\"#f0f921\"]],\"type\":\"surface\"}],\"table\":[{\"cells\":{\"fill\":{\"color\":\"#EBF0F8\"},\"line\":{\"color\":\"white\"}},\"header\":{\"fill\":{\"color\":\"#C8D4E3\"},\"line\":{\"color\":\"white\"}},\"type\":\"table\"}]},\"layout\":{\"annotationdefaults\":{\"arrowcolor\":\"#2a3f5f\",\"arrowhead\":0,\"arrowwidth\":1},\"autotypenumbers\":\"strict\",\"coloraxis\":{\"colorbar\":{\"outlinewidth\":0,\"ticks\":\"\"}},\"colorscale\":{\"diverging\":[[0,\"#8e0152\"],[0.1,\"#c51b7d\"],[0.2,\"#de77ae\"],[0.3,\"#f1b6da\"],[0.4,\"#fde0ef\"],[0.5,\"#f7f7f7\"],[0.6,\"#e6f5d0\"],[0.7,\"#b8e186\"],[0.8,\"#7fbc41\"],[0.9,\"#4d9221\"],[1,\"#276419\"]],\"sequential\":[[0.0,\"#0d0887\"],[0.1111111111111111,\"#46039f\"],[0.2222222222222222,\"#7201a8\"],[0.3333333333333333,\"#9c179e\"],[0.4444444444444444,\"#bd3786\"],[0.5555555555555556,\"#d8576b\"],[0.6666666666666666,\"#ed7953\"],[0.7777777777777778,\"#fb9f3a\"],[0.8888888888888888,\"#fdca26\"],[1.0,\"#f0f921\"]],\"sequentialminus\":[[0.0,\"#0d0887\"],[0.1111111111111111,\"#46039f\"],[0.2222222222222222,\"#7201a8\"],[0.3333333333333333,\"#9c179e\"],[0.4444444444444444,\"#bd3786\"],[0.5555555555555556,\"#d8576b\"],[0.6666666666666666,\"#ed7953\"],[0.7777777777777778,\"#fb9f3a\"],[0.8888888888888888,\"#fdca26\"],[1.0,\"#f0f921\"]]},\"colorway\":[\"#636efa\",\"#EF553B\",\"#00cc96\",\"#ab63fa\",\"#FFA15A\",\"#19d3f3\",\"#FF6692\",\"#B6E880\",\"#FF97FF\",\"#FECB52\"],\"font\":{\"color\":\"#2a3f5f\"},\"geo\":{\"bgcolor\":\"white\",\"lakecolor\":\"white\",\"landcolor\":\"#E5ECF6\",\"showlakes\":true,\"showland\":true,\"subunitcolor\":\"white\"},\"hoverlabel\":{\"align\":\"left\"},\"hovermode\":\"closest\",\"mapbox\":{\"style\":\"light\"},\"paper_bgcolor\":\"white\",\"plot_bgcolor\":\"#E5ECF6\",\"polar\":{\"angularaxis\":{\"gridcolor\":\"white\",\"linecolor\":\"white\",\"ticks\":\"\"},\"bgcolor\":\"#E5ECF6\",\"radialaxis\":{\"gridcolor\":\"white\",\"linecolor\":\"white\",\"ticks\":\"\"}},\"scene\":{\"xaxis\":{\"backgroundcolor\":\"#E5ECF6\",\"gridcolor\":\"white\",\"gridwidth\":2,\"linecolor\":\"white\",\"showbackground\":true,\"ticks\":\"\",\"zerolinecolor\":\"white\"},\"yaxis\":{\"backgroundcolor\":\"#E5ECF6\",\"gridcolor\":\"white\",\"gridwidth\":2,\"linecolor\":\"white\",\"showbackground\":true,\"ticks\":\"\",\"zerolinecolor\":\"white\"},\"zaxis\":{\"backgroundcolor\":\"#E5ECF6\",\"gridcolor\":\"white\",\"gridwidth\":2,\"linecolor\":\"white\",\"showbackground\":true,\"ticks\":\"\",\"zerolinecolor\":\"white\"}},\"shapedefaults\":{\"line\":{\"color\":\"#2a3f5f\"}},\"ternary\":{\"aaxis\":{\"gridcolor\":\"white\",\"linecolor\":\"white\",\"ticks\":\"\"},\"baxis\":{\"gridcolor\":\"white\",\"linecolor\":\"white\",\"ticks\":\"\"},\"bgcolor\":\"#E5ECF6\",\"caxis\":{\"gridcolor\":\"white\",\"linecolor\":\"white\",\"ticks\":\"\"}},\"title\":{\"x\":0.05},\"xaxis\":{\"automargin\":true,\"gridcolor\":\"white\",\"linecolor\":\"white\",\"ticks\":\"\",\"title\":{\"standoff\":15},\"zerolinecolor\":\"white\",\"zerolinewidth\":2},\"yaxis\":{\"automargin\":true,\"gridcolor\":\"white\",\"linecolor\":\"white\",\"ticks\":\"\",\"title\":{\"standoff\":15},\"zerolinecolor\":\"white\",\"zerolinewidth\":2}}}},                        {\"responsive\": true}                    ).then(function(){\n",
       "                            \n",
       "var gd = document.getElementById('fbd825ef-5f42-4a03-bf02-ae55b76887be');\n",
       "var x = new MutationObserver(function (mutations, observer) {{\n",
       "        var display = window.getComputedStyle(gd).display;\n",
       "        if (!display || display === 'none') {{\n",
       "            console.log([gd, 'removed!']);\n",
       "            Plotly.purge(gd);\n",
       "            observer.disconnect();\n",
       "        }}\n",
       "}});\n",
       "\n",
       "// Listen for the removal of the full notebook cells\n",
       "var notebookContainer = gd.closest('#notebook-container');\n",
       "if (notebookContainer) {{\n",
       "    x.observe(notebookContainer, {childList: true});\n",
       "}}\n",
       "\n",
       "// Listen for the clearing of the current output cell\n",
       "var outputEl = gd.closest('.output');\n",
       "if (outputEl) {{\n",
       "    x.observe(outputEl, {childList: true});\n",
       "}}\n",
       "\n",
       "                        })                };                });            </script>        </div>"
      ]
     },
     "metadata": {},
     "output_type": "display_data"
    }
   ],
   "source": [
    "import plotly.graph_objects as go\n",
    "\n",
    "data = [go.Bar(x=df_cmt.produto,y=df_cmt.volume_usd)]\n",
    "\n",
    "py.iplot(data)"
   ]
  },
  {
   "cell_type": "code",
   "execution_count": 84,
   "id": "7bf84d86",
   "metadata": {},
   "outputs": [
    {
     "name": "stdout",
     "output_type": "stream",
     "text": [
      "Collecting chart_studio\n",
      "  Using cached chart_studio-1.1.0-py3-none-any.whl (64 kB)\n",
      "Collecting retrying>=1.3.3\n",
      "  Using cached retrying-1.3.3-py3-none-any.whl\n",
      "Requirement already satisfied: plotly in c:\\users\\rodrigo\\anaconda3\\lib\\site-packages (from chart_studio) (5.6.0)\n",
      "Requirement already satisfied: six in c:\\users\\rodrigo\\anaconda3\\lib\\site-packages (from chart_studio) (1.15.0)\n",
      "Requirement already satisfied: requests in c:\\users\\rodrigo\\anaconda3\\lib\\site-packages (from chart_studio) (2.25.1)\n",
      "Requirement already satisfied: tenacity>=6.2.0 in c:\\users\\rodrigo\\anaconda3\\lib\\site-packages (from plotly->chart_studio) (8.0.1)\n",
      "Requirement already satisfied: chardet<5,>=3.0.2 in c:\\users\\rodrigo\\anaconda3\\lib\\site-packages (from requests->chart_studio) (4.0.0)\n",
      "Requirement already satisfied: certifi>=2017.4.17 in c:\\users\\rodrigo\\anaconda3\\lib\\site-packages (from requests->chart_studio) (2020.12.5)\n",
      "Requirement already satisfied: urllib3<1.27,>=1.21.1 in c:\\users\\rodrigo\\anaconda3\\lib\\site-packages (from requests->chart_studio) (1.26.4)\n",
      "Requirement already satisfied: idna<3,>=2.5 in c:\\users\\rodrigo\\anaconda3\\lib\\site-packages (from requests->chart_studio) (2.10)\n",
      "Installing collected packages: retrying, chart-studio\n",
      "Successfully installed chart-studio-1.1.0 retrying-1.3.3\n"
     ]
    }
   ],
   "source": [
    "!pip install chart_studio"
   ]
  },
  {
   "cell_type": "code",
   "execution_count": 94,
   "id": "904c62b5",
   "metadata": {},
   "outputs": [
    {
     "data": {
      "application/vnd.plotly.v1+json": {
       "config": {
        "linkText": "Export to plot.ly",
        "plotlyServerURL": "https://plot.ly",
        "showLink": false
       },
       "data": [
        {
         "type": "bar",
         "x": [
          "venda",
          "compra",
          "compra",
          "venda",
          "venda",
          "venda",
          "venda",
          "compra",
          "venda",
          "compra",
          "venda",
          "venda",
          "compra",
          "compra",
          "compra",
          "compra",
          "venda",
          "venda",
          "compra",
          "venda",
          "compra",
          "venda",
          "venda",
          "venda",
          "venda",
          "venda",
          "venda",
          "compra",
          "venda",
          "venda",
          "venda",
          "venda",
          "compra",
          "venda",
          "compra",
          "venda",
          "compra",
          "venda",
          "compra",
          "venda",
          "compra",
          "compra",
          "venda",
          "venda",
          "compra",
          "venda",
          "compra",
          "compra",
          "venda",
          "venda",
          "venda",
          "compra",
          "venda",
          "compra",
          "venda",
          "venda",
          "compra",
          "venda",
          "compra",
          "venda",
          "venda",
          "venda",
          "venda",
          "venda",
          "compra",
          "compra",
          "venda",
          "venda",
          "venda",
          "venda",
          "compra",
          "venda",
          "compra",
          "compra",
          "compra",
          "venda",
          "compra",
          "venda",
          "compra",
          "compra",
          "venda",
          "compra",
          "compra",
          "compra",
          "venda",
          "compra",
          "venda",
          "compra",
          "venda",
          "venda",
          "venda",
          "compra",
          "compra",
          "venda",
          "venda",
          "compra",
          "venda",
          "compra",
          "venda",
          "compra",
          "venda",
          "venda",
          "venda",
          "compra",
          "venda",
          "compra",
          "venda",
          "venda",
          "compra",
          "venda",
          "venda",
          "venda",
          "compra",
          "venda",
          "compra",
          "compra",
          "venda",
          "venda",
          "venda",
          "venda",
          "venda",
          "venda",
          "venda",
          "venda",
          "compra",
          "compra",
          "venda",
          "venda",
          "venda",
          "venda",
          "venda",
          "venda",
          "compra",
          "compra",
          "compra",
          "compra",
          "venda",
          "compra",
          "venda",
          "compra",
          "compra",
          "compra",
          "compra",
          "venda",
          "compra",
          "venda",
          "compra",
          "venda",
          "compra",
          "venda",
          "venda",
          "compra",
          "compra",
          "compra",
          "compra",
          "compra",
          "venda",
          "compra",
          "venda",
          "compra",
          "venda",
          "compra",
          "compra",
          "venda",
          "venda",
          "compra",
          "compra",
          "compra",
          "compra",
          "venda",
          "compra",
          "venda",
          "compra",
          "compra",
          "venda",
          "compra",
          "venda",
          "compra",
          "compra",
          "venda",
          "compra",
          "venda",
          "venda",
          "compra",
          "venda",
          "venda",
          "compra",
          "compra",
          "venda",
          "venda",
          "compra",
          "venda",
          "venda",
          "compra",
          "compra"
         ],
         "y": [
          3841672,
          568354,
          2902833,
          4246822,
          2284834,
          1422545,
          1393141,
          2168590,
          1802519,
          1237621,
          3908290,
          3615966,
          7491715,
          2680939,
          7499839,
          4552408,
          2190059,
          6465253,
          4865016,
          5632615,
          4518994,
          5717772,
          4641567,
          5095168,
          5155493,
          5515668,
          3341880,
          3415193,
          2755055,
          2922144,
          3866367,
          437356,
          4780277,
          1538209,
          3608098,
          2824298,
          5885987,
          2181217,
          7160220,
          1120530,
          7018067,
          6938606,
          1942191,
          5708394,
          2988437,
          7738622,
          1799213,
          2967924,
          4366083,
          2656779,
          127891,
          3238513,
          4301808,
          1643536,
          293331,
          2294598,
          3162184,
          7004507,
          13485818,
          941329,
          312264,
          605062,
          2724279,
          5834604,
          5350094,
          4778349,
          1293119,
          6882302,
          2449516,
          3513307,
          3526883,
          1913140,
          487479,
          3242567,
          1641371,
          4973394,
          3562130,
          7963634,
          282499,
          2241781,
          2897602,
          939848,
          3506248,
          3911963,
          2137955,
          4646109,
          7339553,
          1313552,
          7748341,
          7052657,
          4852125,
          5829603,
          4354946,
          7044731,
          1892094,
          4435183,
          4570445,
          7034832,
          2162473,
          6031971,
          3112750,
          9057315,
          7966549,
          2688589,
          7566652,
          7549131,
          7558846,
          5539505,
          5497960,
          6850255,
          505509,
          7446517,
          4808241,
          3122999,
          2502286,
          6719686,
          1604638,
          5137398,
          6308532,
          7731520,
          5273474,
          4986412,
          371804,
          3367567,
          3039720,
          3733219,
          5799068,
          1471829,
          6497096,
          4497165,
          3731783,
          2354648,
          1710571,
          2988544,
          3631708,
          4993981,
          6176268,
          234801,
          7513404,
          6896825,
          4653950,
          113301,
          4492622,
          6621840,
          4152146,
          4834005,
          2983643,
          940169,
          1884171,
          6133641,
          6603782,
          4292649,
          5710759,
          6320005,
          5782517,
          6196494,
          5517328,
          1429600,
          5828527,
          3788354,
          2380110,
          2677055,
          3294157,
          6933919,
          2000849,
          3906709,
          6507241,
          1285801,
          5031117,
          1298846,
          7116736,
          4240812,
          5806202,
          6874629,
          5409442,
          816599,
          6750144,
          2121014,
          3485409,
          1131018,
          2099289,
          6212214,
          3331299,
          6984395,
          2298368,
          6120589,
          6823464,
          1271198,
          5007278,
          7196519,
          5716385,
          7988150,
          3243526,
          6889297,
          6025511
         ]
        }
       ],
       "layout": {
        "template": {
         "data": {
          "bar": [
           {
            "error_x": {
             "color": "#2a3f5f"
            },
            "error_y": {
             "color": "#2a3f5f"
            },
            "marker": {
             "line": {
              "color": "#E5ECF6",
              "width": 0.5
             },
             "pattern": {
              "fillmode": "overlay",
              "size": 10,
              "solidity": 0.2
             }
            },
            "type": "bar"
           }
          ],
          "barpolar": [
           {
            "marker": {
             "line": {
              "color": "#E5ECF6",
              "width": 0.5
             },
             "pattern": {
              "fillmode": "overlay",
              "size": 10,
              "solidity": 0.2
             }
            },
            "type": "barpolar"
           }
          ],
          "carpet": [
           {
            "aaxis": {
             "endlinecolor": "#2a3f5f",
             "gridcolor": "white",
             "linecolor": "white",
             "minorgridcolor": "white",
             "startlinecolor": "#2a3f5f"
            },
            "baxis": {
             "endlinecolor": "#2a3f5f",
             "gridcolor": "white",
             "linecolor": "white",
             "minorgridcolor": "white",
             "startlinecolor": "#2a3f5f"
            },
            "type": "carpet"
           }
          ],
          "choropleth": [
           {
            "colorbar": {
             "outlinewidth": 0,
             "ticks": ""
            },
            "type": "choropleth"
           }
          ],
          "contour": [
           {
            "colorbar": {
             "outlinewidth": 0,
             "ticks": ""
            },
            "colorscale": [
             [
              0,
              "#0d0887"
             ],
             [
              0.1111111111111111,
              "#46039f"
             ],
             [
              0.2222222222222222,
              "#7201a8"
             ],
             [
              0.3333333333333333,
              "#9c179e"
             ],
             [
              0.4444444444444444,
              "#bd3786"
             ],
             [
              0.5555555555555556,
              "#d8576b"
             ],
             [
              0.6666666666666666,
              "#ed7953"
             ],
             [
              0.7777777777777778,
              "#fb9f3a"
             ],
             [
              0.8888888888888888,
              "#fdca26"
             ],
             [
              1,
              "#f0f921"
             ]
            ],
            "type": "contour"
           }
          ],
          "contourcarpet": [
           {
            "colorbar": {
             "outlinewidth": 0,
             "ticks": ""
            },
            "type": "contourcarpet"
           }
          ],
          "heatmap": [
           {
            "colorbar": {
             "outlinewidth": 0,
             "ticks": ""
            },
            "colorscale": [
             [
              0,
              "#0d0887"
             ],
             [
              0.1111111111111111,
              "#46039f"
             ],
             [
              0.2222222222222222,
              "#7201a8"
             ],
             [
              0.3333333333333333,
              "#9c179e"
             ],
             [
              0.4444444444444444,
              "#bd3786"
             ],
             [
              0.5555555555555556,
              "#d8576b"
             ],
             [
              0.6666666666666666,
              "#ed7953"
             ],
             [
              0.7777777777777778,
              "#fb9f3a"
             ],
             [
              0.8888888888888888,
              "#fdca26"
             ],
             [
              1,
              "#f0f921"
             ]
            ],
            "type": "heatmap"
           }
          ],
          "heatmapgl": [
           {
            "colorbar": {
             "outlinewidth": 0,
             "ticks": ""
            },
            "colorscale": [
             [
              0,
              "#0d0887"
             ],
             [
              0.1111111111111111,
              "#46039f"
             ],
             [
              0.2222222222222222,
              "#7201a8"
             ],
             [
              0.3333333333333333,
              "#9c179e"
             ],
             [
              0.4444444444444444,
              "#bd3786"
             ],
             [
              0.5555555555555556,
              "#d8576b"
             ],
             [
              0.6666666666666666,
              "#ed7953"
             ],
             [
              0.7777777777777778,
              "#fb9f3a"
             ],
             [
              0.8888888888888888,
              "#fdca26"
             ],
             [
              1,
              "#f0f921"
             ]
            ],
            "type": "heatmapgl"
           }
          ],
          "histogram": [
           {
            "marker": {
             "pattern": {
              "fillmode": "overlay",
              "size": 10,
              "solidity": 0.2
             }
            },
            "type": "histogram"
           }
          ],
          "histogram2d": [
           {
            "colorbar": {
             "outlinewidth": 0,
             "ticks": ""
            },
            "colorscale": [
             [
              0,
              "#0d0887"
             ],
             [
              0.1111111111111111,
              "#46039f"
             ],
             [
              0.2222222222222222,
              "#7201a8"
             ],
             [
              0.3333333333333333,
              "#9c179e"
             ],
             [
              0.4444444444444444,
              "#bd3786"
             ],
             [
              0.5555555555555556,
              "#d8576b"
             ],
             [
              0.6666666666666666,
              "#ed7953"
             ],
             [
              0.7777777777777778,
              "#fb9f3a"
             ],
             [
              0.8888888888888888,
              "#fdca26"
             ],
             [
              1,
              "#f0f921"
             ]
            ],
            "type": "histogram2d"
           }
          ],
          "histogram2dcontour": [
           {
            "colorbar": {
             "outlinewidth": 0,
             "ticks": ""
            },
            "colorscale": [
             [
              0,
              "#0d0887"
             ],
             [
              0.1111111111111111,
              "#46039f"
             ],
             [
              0.2222222222222222,
              "#7201a8"
             ],
             [
              0.3333333333333333,
              "#9c179e"
             ],
             [
              0.4444444444444444,
              "#bd3786"
             ],
             [
              0.5555555555555556,
              "#d8576b"
             ],
             [
              0.6666666666666666,
              "#ed7953"
             ],
             [
              0.7777777777777778,
              "#fb9f3a"
             ],
             [
              0.8888888888888888,
              "#fdca26"
             ],
             [
              1,
              "#f0f921"
             ]
            ],
            "type": "histogram2dcontour"
           }
          ],
          "mesh3d": [
           {
            "colorbar": {
             "outlinewidth": 0,
             "ticks": ""
            },
            "type": "mesh3d"
           }
          ],
          "parcoords": [
           {
            "line": {
             "colorbar": {
              "outlinewidth": 0,
              "ticks": ""
             }
            },
            "type": "parcoords"
           }
          ],
          "pie": [
           {
            "automargin": true,
            "type": "pie"
           }
          ],
          "scatter": [
           {
            "marker": {
             "colorbar": {
              "outlinewidth": 0,
              "ticks": ""
             }
            },
            "type": "scatter"
           }
          ],
          "scatter3d": [
           {
            "line": {
             "colorbar": {
              "outlinewidth": 0,
              "ticks": ""
             }
            },
            "marker": {
             "colorbar": {
              "outlinewidth": 0,
              "ticks": ""
             }
            },
            "type": "scatter3d"
           }
          ],
          "scattercarpet": [
           {
            "marker": {
             "colorbar": {
              "outlinewidth": 0,
              "ticks": ""
             }
            },
            "type": "scattercarpet"
           }
          ],
          "scattergeo": [
           {
            "marker": {
             "colorbar": {
              "outlinewidth": 0,
              "ticks": ""
             }
            },
            "type": "scattergeo"
           }
          ],
          "scattergl": [
           {
            "marker": {
             "colorbar": {
              "outlinewidth": 0,
              "ticks": ""
             }
            },
            "type": "scattergl"
           }
          ],
          "scattermapbox": [
           {
            "marker": {
             "colorbar": {
              "outlinewidth": 0,
              "ticks": ""
             }
            },
            "type": "scattermapbox"
           }
          ],
          "scatterpolar": [
           {
            "marker": {
             "colorbar": {
              "outlinewidth": 0,
              "ticks": ""
             }
            },
            "type": "scatterpolar"
           }
          ],
          "scatterpolargl": [
           {
            "marker": {
             "colorbar": {
              "outlinewidth": 0,
              "ticks": ""
             }
            },
            "type": "scatterpolargl"
           }
          ],
          "scatterternary": [
           {
            "marker": {
             "colorbar": {
              "outlinewidth": 0,
              "ticks": ""
             }
            },
            "type": "scatterternary"
           }
          ],
          "surface": [
           {
            "colorbar": {
             "outlinewidth": 0,
             "ticks": ""
            },
            "colorscale": [
             [
              0,
              "#0d0887"
             ],
             [
              0.1111111111111111,
              "#46039f"
             ],
             [
              0.2222222222222222,
              "#7201a8"
             ],
             [
              0.3333333333333333,
              "#9c179e"
             ],
             [
              0.4444444444444444,
              "#bd3786"
             ],
             [
              0.5555555555555556,
              "#d8576b"
             ],
             [
              0.6666666666666666,
              "#ed7953"
             ],
             [
              0.7777777777777778,
              "#fb9f3a"
             ],
             [
              0.8888888888888888,
              "#fdca26"
             ],
             [
              1,
              "#f0f921"
             ]
            ],
            "type": "surface"
           }
          ],
          "table": [
           {
            "cells": {
             "fill": {
              "color": "#EBF0F8"
             },
             "line": {
              "color": "white"
             }
            },
            "header": {
             "fill": {
              "color": "#C8D4E3"
             },
             "line": {
              "color": "white"
             }
            },
            "type": "table"
           }
          ]
         },
         "layout": {
          "annotationdefaults": {
           "arrowcolor": "#2a3f5f",
           "arrowhead": 0,
           "arrowwidth": 1
          },
          "autotypenumbers": "strict",
          "coloraxis": {
           "colorbar": {
            "outlinewidth": 0,
            "ticks": ""
           }
          },
          "colorscale": {
           "diverging": [
            [
             0,
             "#8e0152"
            ],
            [
             0.1,
             "#c51b7d"
            ],
            [
             0.2,
             "#de77ae"
            ],
            [
             0.3,
             "#f1b6da"
            ],
            [
             0.4,
             "#fde0ef"
            ],
            [
             0.5,
             "#f7f7f7"
            ],
            [
             0.6,
             "#e6f5d0"
            ],
            [
             0.7,
             "#b8e186"
            ],
            [
             0.8,
             "#7fbc41"
            ],
            [
             0.9,
             "#4d9221"
            ],
            [
             1,
             "#276419"
            ]
           ],
           "sequential": [
            [
             0,
             "#0d0887"
            ],
            [
             0.1111111111111111,
             "#46039f"
            ],
            [
             0.2222222222222222,
             "#7201a8"
            ],
            [
             0.3333333333333333,
             "#9c179e"
            ],
            [
             0.4444444444444444,
             "#bd3786"
            ],
            [
             0.5555555555555556,
             "#d8576b"
            ],
            [
             0.6666666666666666,
             "#ed7953"
            ],
            [
             0.7777777777777778,
             "#fb9f3a"
            ],
            [
             0.8888888888888888,
             "#fdca26"
            ],
            [
             1,
             "#f0f921"
            ]
           ],
           "sequentialminus": [
            [
             0,
             "#0d0887"
            ],
            [
             0.1111111111111111,
             "#46039f"
            ],
            [
             0.2222222222222222,
             "#7201a8"
            ],
            [
             0.3333333333333333,
             "#9c179e"
            ],
            [
             0.4444444444444444,
             "#bd3786"
            ],
            [
             0.5555555555555556,
             "#d8576b"
            ],
            [
             0.6666666666666666,
             "#ed7953"
            ],
            [
             0.7777777777777778,
             "#fb9f3a"
            ],
            [
             0.8888888888888888,
             "#fdca26"
            ],
            [
             1,
             "#f0f921"
            ]
           ]
          },
          "colorway": [
           "#636efa",
           "#EF553B",
           "#00cc96",
           "#ab63fa",
           "#FFA15A",
           "#19d3f3",
           "#FF6692",
           "#B6E880",
           "#FF97FF",
           "#FECB52"
          ],
          "font": {
           "color": "#2a3f5f"
          },
          "geo": {
           "bgcolor": "white",
           "lakecolor": "white",
           "landcolor": "#E5ECF6",
           "showlakes": true,
           "showland": true,
           "subunitcolor": "white"
          },
          "hoverlabel": {
           "align": "left"
          },
          "hovermode": "closest",
          "mapbox": {
           "style": "light"
          },
          "paper_bgcolor": "white",
          "plot_bgcolor": "#E5ECF6",
          "polar": {
           "angularaxis": {
            "gridcolor": "white",
            "linecolor": "white",
            "ticks": ""
           },
           "bgcolor": "#E5ECF6",
           "radialaxis": {
            "gridcolor": "white",
            "linecolor": "white",
            "ticks": ""
           }
          },
          "scene": {
           "xaxis": {
            "backgroundcolor": "#E5ECF6",
            "gridcolor": "white",
            "gridwidth": 2,
            "linecolor": "white",
            "showbackground": true,
            "ticks": "",
            "zerolinecolor": "white"
           },
           "yaxis": {
            "backgroundcolor": "#E5ECF6",
            "gridcolor": "white",
            "gridwidth": 2,
            "linecolor": "white",
            "showbackground": true,
            "ticks": "",
            "zerolinecolor": "white"
           },
           "zaxis": {
            "backgroundcolor": "#E5ECF6",
            "gridcolor": "white",
            "gridwidth": 2,
            "linecolor": "white",
            "showbackground": true,
            "ticks": "",
            "zerolinecolor": "white"
           }
          },
          "shapedefaults": {
           "line": {
            "color": "#2a3f5f"
           }
          },
          "ternary": {
           "aaxis": {
            "gridcolor": "white",
            "linecolor": "white",
            "ticks": ""
           },
           "baxis": {
            "gridcolor": "white",
            "linecolor": "white",
            "ticks": ""
           },
           "bgcolor": "#E5ECF6",
           "caxis": {
            "gridcolor": "white",
            "linecolor": "white",
            "ticks": ""
           }
          },
          "title": {
           "x": 0.05
          },
          "xaxis": {
           "automargin": true,
           "gridcolor": "white",
           "linecolor": "white",
           "ticks": "",
           "title": {
            "standoff": 15
           },
           "zerolinecolor": "white",
           "zerolinewidth": 2
          },
          "yaxis": {
           "automargin": true,
           "gridcolor": "white",
           "linecolor": "white",
           "ticks": "",
           "title": {
            "standoff": 15
           },
           "zerolinecolor": "white",
           "zerolinewidth": 2
          }
         }
        }
       }
      },
      "text/html": [
       "<div>                            <div id=\"c6012197-08c7-4bbf-ad20-2a1c4ff74f06\" class=\"plotly-graph-div\" style=\"height:525px; width:100%;\"></div>            <script type=\"text/javascript\">                require([\"plotly\"], function(Plotly) {                    window.PLOTLYENV=window.PLOTLYENV || {};                                    if (document.getElementById(\"c6012197-08c7-4bbf-ad20-2a1c4ff74f06\")) {                    Plotly.newPlot(                        \"c6012197-08c7-4bbf-ad20-2a1c4ff74f06\",                        [{\"x\":[\"venda\",\"compra\",\"compra\",\"venda\",\"venda\",\"venda\",\"venda\",\"compra\",\"venda\",\"compra\",\"venda\",\"venda\",\"compra\",\"compra\",\"compra\",\"compra\",\"venda\",\"venda\",\"compra\",\"venda\",\"compra\",\"venda\",\"venda\",\"venda\",\"venda\",\"venda\",\"venda\",\"compra\",\"venda\",\"venda\",\"venda\",\"venda\",\"compra\",\"venda\",\"compra\",\"venda\",\"compra\",\"venda\",\"compra\",\"venda\",\"compra\",\"compra\",\"venda\",\"venda\",\"compra\",\"venda\",\"compra\",\"compra\",\"venda\",\"venda\",\"venda\",\"compra\",\"venda\",\"compra\",\"venda\",\"venda\",\"compra\",\"venda\",\"compra\",\"venda\",\"venda\",\"venda\",\"venda\",\"venda\",\"compra\",\"compra\",\"venda\",\"venda\",\"venda\",\"venda\",\"compra\",\"venda\",\"compra\",\"compra\",\"compra\",\"venda\",\"compra\",\"venda\",\"compra\",\"compra\",\"venda\",\"compra\",\"compra\",\"compra\",\"venda\",\"compra\",\"venda\",\"compra\",\"venda\",\"venda\",\"venda\",\"compra\",\"compra\",\"venda\",\"venda\",\"compra\",\"venda\",\"compra\",\"venda\",\"compra\",\"venda\",\"venda\",\"venda\",\"compra\",\"venda\",\"compra\",\"venda\",\"venda\",\"compra\",\"venda\",\"venda\",\"venda\",\"compra\",\"venda\",\"compra\",\"compra\",\"venda\",\"venda\",\"venda\",\"venda\",\"venda\",\"venda\",\"venda\",\"venda\",\"compra\",\"compra\",\"venda\",\"venda\",\"venda\",\"venda\",\"venda\",\"venda\",\"compra\",\"compra\",\"compra\",\"compra\",\"venda\",\"compra\",\"venda\",\"compra\",\"compra\",\"compra\",\"compra\",\"venda\",\"compra\",\"venda\",\"compra\",\"venda\",\"compra\",\"venda\",\"venda\",\"compra\",\"compra\",\"compra\",\"compra\",\"compra\",\"venda\",\"compra\",\"venda\",\"compra\",\"venda\",\"compra\",\"compra\",\"venda\",\"venda\",\"compra\",\"compra\",\"compra\",\"compra\",\"venda\",\"compra\",\"venda\",\"compra\",\"compra\",\"venda\",\"compra\",\"venda\",\"compra\",\"compra\",\"venda\",\"compra\",\"venda\",\"venda\",\"compra\",\"venda\",\"venda\",\"compra\",\"compra\",\"venda\",\"venda\",\"compra\",\"venda\",\"venda\",\"compra\",\"compra\"],\"y\":[3841672,568354,2902833,4246822,2284834,1422545,1393141,2168590,1802519,1237621,3908290,3615966,7491715,2680939,7499839,4552408,2190059,6465253,4865016,5632615,4518994,5717772,4641567,5095168,5155493,5515668,3341880,3415193,2755055,2922144,3866367,437356,4780277,1538209,3608098,2824298,5885987,2181217,7160220,1120530,7018067,6938606,1942191,5708394,2988437,7738622,1799213,2967924,4366083,2656779,127891,3238513,4301808,1643536,293331,2294598,3162184,7004507,13485818,941329,312264,605062,2724279,5834604,5350094,4778349,1293119,6882302,2449516,3513307,3526883,1913140,487479,3242567,1641371,4973394,3562130,7963634,282499,2241781,2897602,939848,3506248,3911963,2137955,4646109,7339553,1313552,7748341,7052657,4852125,5829603,4354946,7044731,1892094,4435183,4570445,7034832,2162473,6031971,3112750,9057315,7966549,2688589,7566652,7549131,7558846,5539505,5497960,6850255,505509,7446517,4808241,3122999,2502286,6719686,1604638,5137398,6308532,7731520,5273474,4986412,371804,3367567,3039720,3733219,5799068,1471829,6497096,4497165,3731783,2354648,1710571,2988544,3631708,4993981,6176268,234801,7513404,6896825,4653950,113301,4492622,6621840,4152146,4834005,2983643,940169,1884171,6133641,6603782,4292649,5710759,6320005,5782517,6196494,5517328,1429600,5828527,3788354,2380110,2677055,3294157,6933919,2000849,3906709,6507241,1285801,5031117,1298846,7116736,4240812,5806202,6874629,5409442,816599,6750144,2121014,3485409,1131018,2099289,6212214,3331299,6984395,2298368,6120589,6823464,1271198,5007278,7196519,5716385,7988150,3243526,6889297,6025511],\"type\":\"bar\"}],                        {\"template\":{\"data\":{\"barpolar\":[{\"marker\":{\"line\":{\"color\":\"#E5ECF6\",\"width\":0.5},\"pattern\":{\"fillmode\":\"overlay\",\"size\":10,\"solidity\":0.2}},\"type\":\"barpolar\"}],\"bar\":[{\"error_x\":{\"color\":\"#2a3f5f\"},\"error_y\":{\"color\":\"#2a3f5f\"},\"marker\":{\"line\":{\"color\":\"#E5ECF6\",\"width\":0.5},\"pattern\":{\"fillmode\":\"overlay\",\"size\":10,\"solidity\":0.2}},\"type\":\"bar\"}],\"carpet\":[{\"aaxis\":{\"endlinecolor\":\"#2a3f5f\",\"gridcolor\":\"white\",\"linecolor\":\"white\",\"minorgridcolor\":\"white\",\"startlinecolor\":\"#2a3f5f\"},\"baxis\":{\"endlinecolor\":\"#2a3f5f\",\"gridcolor\":\"white\",\"linecolor\":\"white\",\"minorgridcolor\":\"white\",\"startlinecolor\":\"#2a3f5f\"},\"type\":\"carpet\"}],\"choropleth\":[{\"colorbar\":{\"outlinewidth\":0,\"ticks\":\"\"},\"type\":\"choropleth\"}],\"contourcarpet\":[{\"colorbar\":{\"outlinewidth\":0,\"ticks\":\"\"},\"type\":\"contourcarpet\"}],\"contour\":[{\"colorbar\":{\"outlinewidth\":0,\"ticks\":\"\"},\"colorscale\":[[0.0,\"#0d0887\"],[0.1111111111111111,\"#46039f\"],[0.2222222222222222,\"#7201a8\"],[0.3333333333333333,\"#9c179e\"],[0.4444444444444444,\"#bd3786\"],[0.5555555555555556,\"#d8576b\"],[0.6666666666666666,\"#ed7953\"],[0.7777777777777778,\"#fb9f3a\"],[0.8888888888888888,\"#fdca26\"],[1.0,\"#f0f921\"]],\"type\":\"contour\"}],\"heatmapgl\":[{\"colorbar\":{\"outlinewidth\":0,\"ticks\":\"\"},\"colorscale\":[[0.0,\"#0d0887\"],[0.1111111111111111,\"#46039f\"],[0.2222222222222222,\"#7201a8\"],[0.3333333333333333,\"#9c179e\"],[0.4444444444444444,\"#bd3786\"],[0.5555555555555556,\"#d8576b\"],[0.6666666666666666,\"#ed7953\"],[0.7777777777777778,\"#fb9f3a\"],[0.8888888888888888,\"#fdca26\"],[1.0,\"#f0f921\"]],\"type\":\"heatmapgl\"}],\"heatmap\":[{\"colorbar\":{\"outlinewidth\":0,\"ticks\":\"\"},\"colorscale\":[[0.0,\"#0d0887\"],[0.1111111111111111,\"#46039f\"],[0.2222222222222222,\"#7201a8\"],[0.3333333333333333,\"#9c179e\"],[0.4444444444444444,\"#bd3786\"],[0.5555555555555556,\"#d8576b\"],[0.6666666666666666,\"#ed7953\"],[0.7777777777777778,\"#fb9f3a\"],[0.8888888888888888,\"#fdca26\"],[1.0,\"#f0f921\"]],\"type\":\"heatmap\"}],\"histogram2dcontour\":[{\"colorbar\":{\"outlinewidth\":0,\"ticks\":\"\"},\"colorscale\":[[0.0,\"#0d0887\"],[0.1111111111111111,\"#46039f\"],[0.2222222222222222,\"#7201a8\"],[0.3333333333333333,\"#9c179e\"],[0.4444444444444444,\"#bd3786\"],[0.5555555555555556,\"#d8576b\"],[0.6666666666666666,\"#ed7953\"],[0.7777777777777778,\"#fb9f3a\"],[0.8888888888888888,\"#fdca26\"],[1.0,\"#f0f921\"]],\"type\":\"histogram2dcontour\"}],\"histogram2d\":[{\"colorbar\":{\"outlinewidth\":0,\"ticks\":\"\"},\"colorscale\":[[0.0,\"#0d0887\"],[0.1111111111111111,\"#46039f\"],[0.2222222222222222,\"#7201a8\"],[0.3333333333333333,\"#9c179e\"],[0.4444444444444444,\"#bd3786\"],[0.5555555555555556,\"#d8576b\"],[0.6666666666666666,\"#ed7953\"],[0.7777777777777778,\"#fb9f3a\"],[0.8888888888888888,\"#fdca26\"],[1.0,\"#f0f921\"]],\"type\":\"histogram2d\"}],\"histogram\":[{\"marker\":{\"pattern\":{\"fillmode\":\"overlay\",\"size\":10,\"solidity\":0.2}},\"type\":\"histogram\"}],\"mesh3d\":[{\"colorbar\":{\"outlinewidth\":0,\"ticks\":\"\"},\"type\":\"mesh3d\"}],\"parcoords\":[{\"line\":{\"colorbar\":{\"outlinewidth\":0,\"ticks\":\"\"}},\"type\":\"parcoords\"}],\"pie\":[{\"automargin\":true,\"type\":\"pie\"}],\"scatter3d\":[{\"line\":{\"colorbar\":{\"outlinewidth\":0,\"ticks\":\"\"}},\"marker\":{\"colorbar\":{\"outlinewidth\":0,\"ticks\":\"\"}},\"type\":\"scatter3d\"}],\"scattercarpet\":[{\"marker\":{\"colorbar\":{\"outlinewidth\":0,\"ticks\":\"\"}},\"type\":\"scattercarpet\"}],\"scattergeo\":[{\"marker\":{\"colorbar\":{\"outlinewidth\":0,\"ticks\":\"\"}},\"type\":\"scattergeo\"}],\"scattergl\":[{\"marker\":{\"colorbar\":{\"outlinewidth\":0,\"ticks\":\"\"}},\"type\":\"scattergl\"}],\"scattermapbox\":[{\"marker\":{\"colorbar\":{\"outlinewidth\":0,\"ticks\":\"\"}},\"type\":\"scattermapbox\"}],\"scatterpolargl\":[{\"marker\":{\"colorbar\":{\"outlinewidth\":0,\"ticks\":\"\"}},\"type\":\"scatterpolargl\"}],\"scatterpolar\":[{\"marker\":{\"colorbar\":{\"outlinewidth\":0,\"ticks\":\"\"}},\"type\":\"scatterpolar\"}],\"scatter\":[{\"marker\":{\"colorbar\":{\"outlinewidth\":0,\"ticks\":\"\"}},\"type\":\"scatter\"}],\"scatterternary\":[{\"marker\":{\"colorbar\":{\"outlinewidth\":0,\"ticks\":\"\"}},\"type\":\"scatterternary\"}],\"surface\":[{\"colorbar\":{\"outlinewidth\":0,\"ticks\":\"\"},\"colorscale\":[[0.0,\"#0d0887\"],[0.1111111111111111,\"#46039f\"],[0.2222222222222222,\"#7201a8\"],[0.3333333333333333,\"#9c179e\"],[0.4444444444444444,\"#bd3786\"],[0.5555555555555556,\"#d8576b\"],[0.6666666666666666,\"#ed7953\"],[0.7777777777777778,\"#fb9f3a\"],[0.8888888888888888,\"#fdca26\"],[1.0,\"#f0f921\"]],\"type\":\"surface\"}],\"table\":[{\"cells\":{\"fill\":{\"color\":\"#EBF0F8\"},\"line\":{\"color\":\"white\"}},\"header\":{\"fill\":{\"color\":\"#C8D4E3\"},\"line\":{\"color\":\"white\"}},\"type\":\"table\"}]},\"layout\":{\"annotationdefaults\":{\"arrowcolor\":\"#2a3f5f\",\"arrowhead\":0,\"arrowwidth\":1},\"autotypenumbers\":\"strict\",\"coloraxis\":{\"colorbar\":{\"outlinewidth\":0,\"ticks\":\"\"}},\"colorscale\":{\"diverging\":[[0,\"#8e0152\"],[0.1,\"#c51b7d\"],[0.2,\"#de77ae\"],[0.3,\"#f1b6da\"],[0.4,\"#fde0ef\"],[0.5,\"#f7f7f7\"],[0.6,\"#e6f5d0\"],[0.7,\"#b8e186\"],[0.8,\"#7fbc41\"],[0.9,\"#4d9221\"],[1,\"#276419\"]],\"sequential\":[[0.0,\"#0d0887\"],[0.1111111111111111,\"#46039f\"],[0.2222222222222222,\"#7201a8\"],[0.3333333333333333,\"#9c179e\"],[0.4444444444444444,\"#bd3786\"],[0.5555555555555556,\"#d8576b\"],[0.6666666666666666,\"#ed7953\"],[0.7777777777777778,\"#fb9f3a\"],[0.8888888888888888,\"#fdca26\"],[1.0,\"#f0f921\"]],\"sequentialminus\":[[0.0,\"#0d0887\"],[0.1111111111111111,\"#46039f\"],[0.2222222222222222,\"#7201a8\"],[0.3333333333333333,\"#9c179e\"],[0.4444444444444444,\"#bd3786\"],[0.5555555555555556,\"#d8576b\"],[0.6666666666666666,\"#ed7953\"],[0.7777777777777778,\"#fb9f3a\"],[0.8888888888888888,\"#fdca26\"],[1.0,\"#f0f921\"]]},\"colorway\":[\"#636efa\",\"#EF553B\",\"#00cc96\",\"#ab63fa\",\"#FFA15A\",\"#19d3f3\",\"#FF6692\",\"#B6E880\",\"#FF97FF\",\"#FECB52\"],\"font\":{\"color\":\"#2a3f5f\"},\"geo\":{\"bgcolor\":\"white\",\"lakecolor\":\"white\",\"landcolor\":\"#E5ECF6\",\"showlakes\":true,\"showland\":true,\"subunitcolor\":\"white\"},\"hoverlabel\":{\"align\":\"left\"},\"hovermode\":\"closest\",\"mapbox\":{\"style\":\"light\"},\"paper_bgcolor\":\"white\",\"plot_bgcolor\":\"#E5ECF6\",\"polar\":{\"angularaxis\":{\"gridcolor\":\"white\",\"linecolor\":\"white\",\"ticks\":\"\"},\"bgcolor\":\"#E5ECF6\",\"radialaxis\":{\"gridcolor\":\"white\",\"linecolor\":\"white\",\"ticks\":\"\"}},\"scene\":{\"xaxis\":{\"backgroundcolor\":\"#E5ECF6\",\"gridcolor\":\"white\",\"gridwidth\":2,\"linecolor\":\"white\",\"showbackground\":true,\"ticks\":\"\",\"zerolinecolor\":\"white\"},\"yaxis\":{\"backgroundcolor\":\"#E5ECF6\",\"gridcolor\":\"white\",\"gridwidth\":2,\"linecolor\":\"white\",\"showbackground\":true,\"ticks\":\"\",\"zerolinecolor\":\"white\"},\"zaxis\":{\"backgroundcolor\":\"#E5ECF6\",\"gridcolor\":\"white\",\"gridwidth\":2,\"linecolor\":\"white\",\"showbackground\":true,\"ticks\":\"\",\"zerolinecolor\":\"white\"}},\"shapedefaults\":{\"line\":{\"color\":\"#2a3f5f\"}},\"ternary\":{\"aaxis\":{\"gridcolor\":\"white\",\"linecolor\":\"white\",\"ticks\":\"\"},\"baxis\":{\"gridcolor\":\"white\",\"linecolor\":\"white\",\"ticks\":\"\"},\"bgcolor\":\"#E5ECF6\",\"caxis\":{\"gridcolor\":\"white\",\"linecolor\":\"white\",\"ticks\":\"\"}},\"title\":{\"x\":0.05},\"xaxis\":{\"automargin\":true,\"gridcolor\":\"white\",\"linecolor\":\"white\",\"ticks\":\"\",\"title\":{\"standoff\":15},\"zerolinecolor\":\"white\",\"zerolinewidth\":2},\"yaxis\":{\"automargin\":true,\"gridcolor\":\"white\",\"linecolor\":\"white\",\"ticks\":\"\",\"title\":{\"standoff\":15},\"zerolinecolor\":\"white\",\"zerolinewidth\":2}}}},                        {\"responsive\": true}                    ).then(function(){\n",
       "                            \n",
       "var gd = document.getElementById('c6012197-08c7-4bbf-ad20-2a1c4ff74f06');\n",
       "var x = new MutationObserver(function (mutations, observer) {{\n",
       "        var display = window.getComputedStyle(gd).display;\n",
       "        if (!display || display === 'none') {{\n",
       "            console.log([gd, 'removed!']);\n",
       "            Plotly.purge(gd);\n",
       "            observer.disconnect();\n",
       "        }}\n",
       "}});\n",
       "\n",
       "// Listen for the removal of the full notebook cells\n",
       "var notebookContainer = gd.closest('#notebook-container');\n",
       "if (notebookContainer) {{\n",
       "    x.observe(notebookContainer, {childList: true});\n",
       "}}\n",
       "\n",
       "// Listen for the clearing of the current output cell\n",
       "var outputEl = gd.closest('.output');\n",
       "if (outputEl) {{\n",
       "    x.observe(outputEl, {childList: true});\n",
       "}}\n",
       "\n",
       "                        })                };                });            </script>        </div>"
      ]
     },
     "metadata": {},
     "output_type": "display_data"
    }
   ],
   "source": [
    "#import chart_studio.plotly as py\n",
    "import plotly.graph_objects as go\n",
    "\n",
    "data = [go.Bar(x=df_cmt.operacao,y=df_cmt.volume_usd)]\n",
    "\n",
    "py.iplot(data)"
   ]
  },
  {
   "cell_type": "markdown",
   "id": "69358544",
   "metadata": {},
   "source": [
    "# Previsão com média móvel"
   ]
  },
  {
   "cell_type": "code",
   "execution_count": 117,
   "id": "3db24f16",
   "metadata": {},
   "outputs": [],
   "source": [
    "from math import sqrt\n",
    "from numpy import mean\n",
    "from sklearn.metrics import mean_squared_error"
   ]
  },
  {
   "cell_type": "code",
   "execution_count": 119,
   "id": "7be17ded",
   "metadata": {},
   "outputs": [],
   "source": [
    "serie = df_cmt['volume_usd']"
   ]
  },
  {
   "cell_type": "code",
   "execution_count": 120,
   "id": "b24bf779",
   "metadata": {},
   "outputs": [
    {
     "data": {
      "text/plain": [
       "data\n",
       "2018-01-01    3841672\n",
       "2018-01-02     568354\n",
       "2018-01-04    2902833\n",
       "2018-01-12    4246822\n",
       "2018-01-27    2284834\n",
       "               ...   \n",
       "2022-02-13    5716385\n",
       "2022-02-22    7988150\n",
       "2022-02-27    3243526\n",
       "2022-03-08    6889297\n",
       "2022-03-09    6025511\n",
       "Name: volume_usd, Length: 195, dtype: int64"
      ]
     },
     "execution_count": 120,
     "metadata": {},
     "output_type": "execute_result"
    }
   ],
   "source": [
    "serie"
   ]
  },
  {
   "cell_type": "code",
   "execution_count": 122,
   "id": "67bf4651",
   "metadata": {},
   "outputs": [],
   "source": [
    "#definindo a janela de 3 elementos\n",
    "window = 3"
   ]
  },
  {
   "cell_type": "code",
   "execution_count": 124,
   "id": "c1c62274",
   "metadata": {},
   "outputs": [],
   "source": [
    "#obtem os 3 primeiros valores da serie\n",
    "history = [serie.values[i] for i in range(window)]"
   ]
  },
  {
   "cell_type": "code",
   "execution_count": 125,
   "id": "68e72303",
   "metadata": {},
   "outputs": [
    {
     "data": {
      "text/plain": [
       "[3841672, 568354, 2902833]"
      ]
     },
     "execution_count": 125,
     "metadata": {},
     "output_type": "execute_result"
    }
   ],
   "source": [
    "history"
   ]
  },
  {
   "cell_type": "code",
   "execution_count": 126,
   "id": "e0987d00",
   "metadata": {},
   "outputs": [],
   "source": [
    "test = [serie.values[i] for i in range(window, len(serie.values))]"
   ]
  },
  {
   "cell_type": "code",
   "execution_count": 127,
   "id": "5b114a9a",
   "metadata": {},
   "outputs": [
    {
     "data": {
      "text/plain": [
       "[4246822,\n",
       " 2284834,\n",
       " 1422545,\n",
       " 1393141,\n",
       " 2168590,\n",
       " 1802519,\n",
       " 1237621,\n",
       " 3908290,\n",
       " 3615966,\n",
       " 7491715]"
      ]
     },
     "execution_count": 127,
     "metadata": {},
     "output_type": "execute_result"
    }
   ],
   "source": [
    "test[:10]"
   ]
  },
  {
   "cell_type": "code",
   "execution_count": 130,
   "id": "17e1ea39",
   "metadata": {},
   "outputs": [
    {
     "name": "stdout",
     "output_type": "stream",
     "text": [
      "3\n"
     ]
    }
   ],
   "source": [
    "#obtem o tamanho da lista history\n",
    "length = len(history)\n",
    "print(length)"
   ]
  },
  {
   "cell_type": "code",
   "execution_count": 131,
   "id": "d155aa07",
   "metadata": {},
   "outputs": [
    {
     "name": "stdout",
     "output_type": "stream",
     "text": [
      "0\n"
     ]
    }
   ],
   "source": [
    "#obtem o inicio da range\n",
    "print(length-window)"
   ]
  },
  {
   "cell_type": "code",
   "execution_count": 132,
   "id": "003454df",
   "metadata": {},
   "outputs": [
    {
     "data": {
      "text/plain": [
       "[3841672, 568354, 2902833]"
      ]
     },
     "execution_count": 132,
     "metadata": {},
     "output_type": "execute_result"
    }
   ],
   "source": [
    "# percorre history (3 ultimos elemetnos)\n",
    "[history[i] for i in range(length-window,length)]"
   ]
  },
  {
   "cell_type": "code",
   "execution_count": 133,
   "id": "4fb33de9",
   "metadata": {},
   "outputs": [
    {
     "data": {
      "text/plain": [
       "2437619.6666666665"
      ]
     },
     "execution_count": 133,
     "metadata": {},
     "output_type": "execute_result"
    }
   ],
   "source": [
    "#calcula a media dos 3 ultimos valores\n",
    "mean([history[i] for i in range(length-window,length)])"
   ]
  },
  {
   "cell_type": "code",
   "execution_count": null,
   "id": "1576db32",
   "metadata": {},
   "outputs": [],
   "source": [
    "#atualiza a lista history\n",
    "valor_real "
   ]
  },
  {
   "cell_type": "code",
   "execution_count": 145,
   "id": "a3d67a16",
   "metadata": {},
   "outputs": [],
   "source": [
    "# define uma variavel \n",
    "x = serie.values\n",
    "\n",
    "#define a variavel window que será a janela\n",
    "window = 3\n",
    "\n",
    "#obtem os tres primeiros valores da serie\n",
    "history = [x[i] for i in range(window)]\n",
    "\n",
    "#obtem todos os valores apos os tres primeiros\n",
    "test = [x[i] for i in range(window, len(x))]\n",
    "\n",
    "#cria lista de predicaoes\n",
    "predicoes = []\n",
    "\n",
    "#percorre sobre todos os dados de teste ... \n",
    "\n",
    "for t in range(len(test)):\n",
    "    length = len(history)\n",
    "    \n",
    "    #define a variavel valor_predito com a media dos 3 valores correntes...\n",
    "    valor_predito = mean([history[i] for i in range(length-window,length)])\n",
    "    \n",
    "    #define a variavel valor_real com o valor atual do teste ... \n",
    "    valor_real = test[t]\n",
    "    \n",
    "    #alimenta a lista de predicoes\n",
    "    predicoes.append(valor_predito)\n",
    "    \n",
    "    #atualiza a lista history com os valores correntes ... \n",
    "    history.append(valor_real)\n",
    "    \n",
    "    #print('Valor predito=%f, Valor real=%f' % (valor_predito, valor_real))"
   ]
  },
  {
   "cell_type": "code",
   "execution_count": 136,
   "id": "1739ceb2",
   "metadata": {},
   "outputs": [],
   "source": [
    "#calcula a métrica de rmse\n",
    "rmse = sqrt(mean_squared_error(test, predicoes))"
   ]
  },
  {
   "cell_type": "code",
   "execution_count": 137,
   "id": "a7c15c3b",
   "metadata": {},
   "outputs": [
    {
     "name": "stdout",
     "output_type": "stream",
     "text": [
      "métrica RMSE: 2571128.218\n"
     ]
    }
   ],
   "source": [
    "#imprime o valor de rmse\n",
    "print('métrica RMSE: %.3f' % rmse)"
   ]
  },
  {
   "cell_type": "code",
   "execution_count": 138,
   "id": "b150f73a",
   "metadata": {},
   "outputs": [],
   "source": [
    "indice = [i for i in range(0, len(test))]"
   ]
  },
  {
   "cell_type": "code",
   "execution_count": 150,
   "id": "c914bae8",
   "metadata": {},
   "outputs": [],
   "source": [
    "rol_volume = df_cmt.volume_usd.rolling(12).mean()"
   ]
  },
  {
   "cell_type": "code",
   "execution_count": 156,
   "id": "e45e9bbd",
   "metadata": {},
   "outputs": [
    {
     "data": {
      "application/vnd.plotly.v1+json": {
       "config": {
        "linkText": "Export to plot.ly",
        "plotlyServerURL": "https://plot.ly",
        "showLink": false
       },
       "data": [
        {
         "type": "scatter",
         "x": [
          0,
          1,
          2,
          3,
          4,
          5,
          6,
          7,
          8,
          9,
          10,
          11,
          12,
          13,
          14,
          15,
          16,
          17,
          18,
          19,
          20,
          21,
          22,
          23,
          24,
          25,
          26,
          27,
          28,
          29,
          30,
          31,
          32,
          33,
          34,
          35,
          36,
          37,
          38,
          39,
          40,
          41,
          42,
          43,
          44,
          45,
          46,
          47,
          48,
          49,
          50,
          51,
          52,
          53,
          54,
          55,
          56,
          57,
          58,
          59,
          60,
          61,
          62,
          63,
          64,
          65,
          66,
          67,
          68,
          69,
          70,
          71,
          72,
          73,
          74,
          75,
          76,
          77,
          78,
          79,
          80,
          81,
          82,
          83,
          84,
          85,
          86,
          87,
          88,
          89,
          90,
          91,
          92,
          93,
          94,
          95,
          96,
          97,
          98,
          99,
          100,
          101,
          102,
          103,
          104,
          105,
          106,
          107,
          108,
          109,
          110,
          111,
          112,
          113,
          114,
          115,
          116,
          117,
          118,
          119,
          120,
          121,
          122,
          123,
          124,
          125,
          126,
          127,
          128,
          129,
          130,
          131,
          132,
          133,
          134,
          135,
          136,
          137,
          138,
          139,
          140,
          141,
          142,
          143,
          144,
          145,
          146,
          147,
          148,
          149,
          150,
          151,
          152,
          153,
          154,
          155,
          156,
          157,
          158,
          159,
          160,
          161,
          162,
          163,
          164,
          165,
          166,
          167,
          168,
          169,
          170,
          171,
          172,
          173,
          174,
          175,
          176,
          177,
          178,
          179,
          180,
          181,
          182,
          183,
          184,
          185,
          186,
          187,
          188,
          189,
          190,
          191
         ],
         "y": [
          4246822,
          2284834,
          1422545,
          1393141,
          2168590,
          1802519,
          1237621,
          3908290,
          3615966,
          7491715,
          2680939,
          7499839,
          4552408,
          2190059,
          6465253,
          4865016,
          5632615,
          4518994,
          5717772,
          4641567,
          5095168,
          5155493,
          5515668,
          3341880,
          3415193,
          2755055,
          2922144,
          3866367,
          437356,
          4780277,
          1538209,
          3608098,
          2824298,
          5885987,
          2181217,
          7160220,
          1120530,
          7018067,
          6938606,
          1942191,
          5708394,
          2988437,
          7738622,
          1799213,
          2967924,
          4366083,
          2656779,
          127891,
          3238513,
          4301808,
          1643536,
          293331,
          2294598,
          3162184,
          7004507,
          13485818,
          941329,
          312264,
          605062,
          2724279,
          5834604,
          5350094,
          4778349,
          1293119,
          6882302,
          2449516,
          3513307,
          3526883,
          1913140,
          487479,
          3242567,
          1641371,
          4973394,
          3562130,
          7963634,
          282499,
          2241781,
          2897602,
          939848,
          3506248,
          3911963,
          2137955,
          4646109,
          7339553,
          1313552,
          7748341,
          7052657,
          4852125,
          5829603,
          4354946,
          7044731,
          1892094,
          4435183,
          4570445,
          7034832,
          2162473,
          6031971,
          3112750,
          9057315,
          7966549,
          2688589,
          7566652,
          7549131,
          7558846,
          5539505,
          5497960,
          6850255,
          505509,
          7446517,
          4808241,
          3122999,
          2502286,
          6719686,
          1604638,
          5137398,
          6308532,
          7731520,
          5273474,
          4986412,
          371804,
          3367567,
          3039720,
          3733219,
          5799068,
          1471829,
          6497096,
          4497165,
          3731783,
          2354648,
          1710571,
          2988544,
          3631708,
          4993981,
          6176268,
          234801,
          7513404,
          6896825,
          4653950,
          113301,
          4492622,
          6621840,
          4152146,
          4834005,
          2983643,
          940169,
          1884171,
          6133641,
          6603782,
          4292649,
          5710759,
          6320005,
          5782517,
          6196494,
          5517328,
          1429600,
          5828527,
          3788354,
          2380110,
          2677055,
          3294157,
          6933919,
          2000849,
          3906709,
          6507241,
          1285801,
          5031117,
          1298846,
          7116736,
          4240812,
          5806202,
          6874629,
          5409442,
          816599,
          6750144,
          2121014,
          3485409,
          1131018,
          2099289,
          6212214,
          3331299,
          6984395,
          2298368,
          6120589,
          6823464,
          1271198,
          5007278,
          7196519,
          5716385,
          7988150,
          3243526,
          6889297,
          6025511
         ]
        },
        {
         "type": "scatter",
         "x": [
          0,
          1,
          2,
          3,
          4,
          5,
          6,
          7,
          8,
          9,
          10,
          11,
          12,
          13,
          14,
          15,
          16,
          17,
          18,
          19,
          20,
          21,
          22,
          23,
          24,
          25,
          26,
          27,
          28,
          29,
          30,
          31,
          32,
          33,
          34,
          35,
          36,
          37,
          38,
          39,
          40,
          41,
          42,
          43,
          44,
          45,
          46,
          47,
          48,
          49,
          50,
          51,
          52,
          53,
          54,
          55,
          56,
          57,
          58,
          59,
          60,
          61,
          62,
          63,
          64,
          65,
          66,
          67,
          68,
          69,
          70,
          71,
          72,
          73,
          74,
          75,
          76,
          77,
          78,
          79,
          80,
          81,
          82,
          83,
          84,
          85,
          86,
          87,
          88,
          89,
          90,
          91,
          92,
          93,
          94,
          95,
          96,
          97,
          98,
          99,
          100,
          101,
          102,
          103,
          104,
          105,
          106,
          107,
          108,
          109,
          110,
          111,
          112,
          113,
          114,
          115,
          116,
          117,
          118,
          119,
          120,
          121,
          122,
          123,
          124,
          125,
          126,
          127,
          128,
          129,
          130,
          131,
          132,
          133,
          134,
          135,
          136,
          137,
          138,
          139,
          140,
          141,
          142,
          143,
          144,
          145,
          146,
          147,
          148,
          149,
          150,
          151,
          152,
          153,
          154,
          155,
          156,
          157,
          158,
          159,
          160,
          161,
          162,
          163,
          164,
          165,
          166,
          167,
          168,
          169,
          170,
          171,
          172,
          173,
          174,
          175,
          176,
          177,
          178,
          179,
          180,
          181,
          182,
          183,
          184,
          185,
          186,
          187,
          188,
          189,
          190,
          191
         ],
         "y": [
          2437619.6666666665,
          2572669.6666666665,
          3144829.6666666665,
          2651400.3333333335,
          1700173.3333333333,
          1661425.3333333333,
          1788083.3333333333,
          1736243.3333333333,
          2316143.3333333335,
          2920625.6666666665,
          5005323.666666667,
          4596206.666666667,
          5890831,
          4911062,
          4747435.333333333,
          4402573.333333333,
          4506776,
          5654294.666666667,
          5005541.666666667,
          5289793.666666667,
          4959444.333333333,
          5151502.333333333,
          4964076,
          5255443,
          4671013.666666667,
          4090913.6666666665,
          3170709.3333333335,
          3030797.3333333335,
          3181188.6666666665,
          2408622.3333333335,
          3028000,
          2251947.3333333335,
          3308861.3333333335,
          2656868.3333333335,
          4106127.6666666665,
          3630500.6666666665,
          5075808,
          3487322.3333333335,
          5099605.666666667,
          5025734.333333333,
          5299621.333333333,
          4863063.666666667,
          3546340.6666666665,
          5478484.333333333,
          4175424,
          4168586.3333333335,
          3044406.6666666665,
          3330262,
          2383584.3333333335,
          2007727.6666666667,
          2556070.6666666665,
          3061285.6666666665,
          2079558.3333333333,
          1410488.3333333333,
          1916704.3333333333,
          4153763,
          7884169.666666667,
          7143884.666666667,
          4913137,
          619551.6666666666,
          1213868.3333333333,
          3054648.3333333335,
          4636325.666666667,
          5321015.666666667,
          3807187.3333333335,
          4317923.333333333,
          3541645.6666666665,
          4281708.333333333,
          3163235.3333333335,
          2984443.3333333335,
          1975834,
          1881062,
          1790472.3333333333,
          3285777.3333333335,
          3392298.3333333335,
          5499719.333333333,
          3936087.6666666665,
          3495971.3333333335,
          1807294,
          2026410.3333333333,
          2447899.3333333335,
          2786019.6666666665,
          3185388.6666666665,
          3565342.3333333335,
          4707872.333333333,
          4433071.333333333,
          5467148.666666667,
          5371516.666666667,
          6551041,
          5911461.666666667,
          5012224.666666667,
          5743093.333333333,
          4430590.333333333,
          4457336,
          3632574,
          5346820,
          4589250,
          5076425.333333333,
          3769064.6666666665,
          6067345.333333333,
          6712204.666666667,
          6570817.666666667,
          6073930,
          5934790.666666667,
          7558209.666666667,
          6882494,
          6198770.333333333,
          5962573.333333333,
          4284574.666666667,
          4934093.666666667,
          4253422.333333333,
          5125919,
          3477842,
          4114990.3333333335,
          3608870,
          4487240.666666667,
          4350189.333333333,
          6392483.333333333,
          6437842,
          5997135.333333333,
          3543896.6666666665,
          2908594.3333333335,
          2259697,
          3380168.6666666665,
          4190669,
          3668038.6666666665,
          4589331,
          4155363.3333333335,
          4908681.333333333,
          3527865.3333333335,
          2599000.6666666665,
          2351254.3333333335,
          2776941,
          3871411,
          4933985.666666667,
          3801683.3333333335,
          4641491,
          4881676.666666667,
          6354726.333333333,
          3888025.3333333335,
          3086624.3333333335,
          3742587.6666666665,
          5088869.333333333,
          5202663.666666667,
          3989931.3333333335,
          2919272.3333333335,
          1935994.3333333333,
          2985993.6666666665,
          4873864.666666667,
          5676690.666666667,
          5535730,
          5441137.666666667,
          5937760.333333333,
          6099672,
          5832113,
          4381140.666666667,
          4258485,
          3682160.3333333335,
          3998997,
          2948506.3333333335,
          2783774,
          4301710.333333333,
          4076308.3333333335,
          4280492.333333333,
          4138266.3333333335,
          3899917,
          4274719.666666667,
          2538588,
          4482233,
          4218798,
          5721250,
          5640547.666666667,
          6030091,
          4366890,
          4325395,
          3229252.3333333335,
          4118855.6666666665,
          2245813.6666666665,
          2238572,
          3147507,
          3880934,
          5509302.666666667,
          4204687.333333333,
          5134450.666666667,
          5080807,
          4738417,
          4367313.333333333,
          4491665,
          5973394,
          6967018,
          5649353.666666667,
          6040324.333333333
         ]
        }
       ],
       "layout": {
        "template": {
         "data": {
          "bar": [
           {
            "error_x": {
             "color": "#2a3f5f"
            },
            "error_y": {
             "color": "#2a3f5f"
            },
            "marker": {
             "line": {
              "color": "#E5ECF6",
              "width": 0.5
             },
             "pattern": {
              "fillmode": "overlay",
              "size": 10,
              "solidity": 0.2
             }
            },
            "type": "bar"
           }
          ],
          "barpolar": [
           {
            "marker": {
             "line": {
              "color": "#E5ECF6",
              "width": 0.5
             },
             "pattern": {
              "fillmode": "overlay",
              "size": 10,
              "solidity": 0.2
             }
            },
            "type": "barpolar"
           }
          ],
          "carpet": [
           {
            "aaxis": {
             "endlinecolor": "#2a3f5f",
             "gridcolor": "white",
             "linecolor": "white",
             "minorgridcolor": "white",
             "startlinecolor": "#2a3f5f"
            },
            "baxis": {
             "endlinecolor": "#2a3f5f",
             "gridcolor": "white",
             "linecolor": "white",
             "minorgridcolor": "white",
             "startlinecolor": "#2a3f5f"
            },
            "type": "carpet"
           }
          ],
          "choropleth": [
           {
            "colorbar": {
             "outlinewidth": 0,
             "ticks": ""
            },
            "type": "choropleth"
           }
          ],
          "contour": [
           {
            "colorbar": {
             "outlinewidth": 0,
             "ticks": ""
            },
            "colorscale": [
             [
              0,
              "#0d0887"
             ],
             [
              0.1111111111111111,
              "#46039f"
             ],
             [
              0.2222222222222222,
              "#7201a8"
             ],
             [
              0.3333333333333333,
              "#9c179e"
             ],
             [
              0.4444444444444444,
              "#bd3786"
             ],
             [
              0.5555555555555556,
              "#d8576b"
             ],
             [
              0.6666666666666666,
              "#ed7953"
             ],
             [
              0.7777777777777778,
              "#fb9f3a"
             ],
             [
              0.8888888888888888,
              "#fdca26"
             ],
             [
              1,
              "#f0f921"
             ]
            ],
            "type": "contour"
           }
          ],
          "contourcarpet": [
           {
            "colorbar": {
             "outlinewidth": 0,
             "ticks": ""
            },
            "type": "contourcarpet"
           }
          ],
          "heatmap": [
           {
            "colorbar": {
             "outlinewidth": 0,
             "ticks": ""
            },
            "colorscale": [
             [
              0,
              "#0d0887"
             ],
             [
              0.1111111111111111,
              "#46039f"
             ],
             [
              0.2222222222222222,
              "#7201a8"
             ],
             [
              0.3333333333333333,
              "#9c179e"
             ],
             [
              0.4444444444444444,
              "#bd3786"
             ],
             [
              0.5555555555555556,
              "#d8576b"
             ],
             [
              0.6666666666666666,
              "#ed7953"
             ],
             [
              0.7777777777777778,
              "#fb9f3a"
             ],
             [
              0.8888888888888888,
              "#fdca26"
             ],
             [
              1,
              "#f0f921"
             ]
            ],
            "type": "heatmap"
           }
          ],
          "heatmapgl": [
           {
            "colorbar": {
             "outlinewidth": 0,
             "ticks": ""
            },
            "colorscale": [
             [
              0,
              "#0d0887"
             ],
             [
              0.1111111111111111,
              "#46039f"
             ],
             [
              0.2222222222222222,
              "#7201a8"
             ],
             [
              0.3333333333333333,
              "#9c179e"
             ],
             [
              0.4444444444444444,
              "#bd3786"
             ],
             [
              0.5555555555555556,
              "#d8576b"
             ],
             [
              0.6666666666666666,
              "#ed7953"
             ],
             [
              0.7777777777777778,
              "#fb9f3a"
             ],
             [
              0.8888888888888888,
              "#fdca26"
             ],
             [
              1,
              "#f0f921"
             ]
            ],
            "type": "heatmapgl"
           }
          ],
          "histogram": [
           {
            "marker": {
             "pattern": {
              "fillmode": "overlay",
              "size": 10,
              "solidity": 0.2
             }
            },
            "type": "histogram"
           }
          ],
          "histogram2d": [
           {
            "colorbar": {
             "outlinewidth": 0,
             "ticks": ""
            },
            "colorscale": [
             [
              0,
              "#0d0887"
             ],
             [
              0.1111111111111111,
              "#46039f"
             ],
             [
              0.2222222222222222,
              "#7201a8"
             ],
             [
              0.3333333333333333,
              "#9c179e"
             ],
             [
              0.4444444444444444,
              "#bd3786"
             ],
             [
              0.5555555555555556,
              "#d8576b"
             ],
             [
              0.6666666666666666,
              "#ed7953"
             ],
             [
              0.7777777777777778,
              "#fb9f3a"
             ],
             [
              0.8888888888888888,
              "#fdca26"
             ],
             [
              1,
              "#f0f921"
             ]
            ],
            "type": "histogram2d"
           }
          ],
          "histogram2dcontour": [
           {
            "colorbar": {
             "outlinewidth": 0,
             "ticks": ""
            },
            "colorscale": [
             [
              0,
              "#0d0887"
             ],
             [
              0.1111111111111111,
              "#46039f"
             ],
             [
              0.2222222222222222,
              "#7201a8"
             ],
             [
              0.3333333333333333,
              "#9c179e"
             ],
             [
              0.4444444444444444,
              "#bd3786"
             ],
             [
              0.5555555555555556,
              "#d8576b"
             ],
             [
              0.6666666666666666,
              "#ed7953"
             ],
             [
              0.7777777777777778,
              "#fb9f3a"
             ],
             [
              0.8888888888888888,
              "#fdca26"
             ],
             [
              1,
              "#f0f921"
             ]
            ],
            "type": "histogram2dcontour"
           }
          ],
          "mesh3d": [
           {
            "colorbar": {
             "outlinewidth": 0,
             "ticks": ""
            },
            "type": "mesh3d"
           }
          ],
          "parcoords": [
           {
            "line": {
             "colorbar": {
              "outlinewidth": 0,
              "ticks": ""
             }
            },
            "type": "parcoords"
           }
          ],
          "pie": [
           {
            "automargin": true,
            "type": "pie"
           }
          ],
          "scatter": [
           {
            "marker": {
             "colorbar": {
              "outlinewidth": 0,
              "ticks": ""
             }
            },
            "type": "scatter"
           }
          ],
          "scatter3d": [
           {
            "line": {
             "colorbar": {
              "outlinewidth": 0,
              "ticks": ""
             }
            },
            "marker": {
             "colorbar": {
              "outlinewidth": 0,
              "ticks": ""
             }
            },
            "type": "scatter3d"
           }
          ],
          "scattercarpet": [
           {
            "marker": {
             "colorbar": {
              "outlinewidth": 0,
              "ticks": ""
             }
            },
            "type": "scattercarpet"
           }
          ],
          "scattergeo": [
           {
            "marker": {
             "colorbar": {
              "outlinewidth": 0,
              "ticks": ""
             }
            },
            "type": "scattergeo"
           }
          ],
          "scattergl": [
           {
            "marker": {
             "colorbar": {
              "outlinewidth": 0,
              "ticks": ""
             }
            },
            "type": "scattergl"
           }
          ],
          "scattermapbox": [
           {
            "marker": {
             "colorbar": {
              "outlinewidth": 0,
              "ticks": ""
             }
            },
            "type": "scattermapbox"
           }
          ],
          "scatterpolar": [
           {
            "marker": {
             "colorbar": {
              "outlinewidth": 0,
              "ticks": ""
             }
            },
            "type": "scatterpolar"
           }
          ],
          "scatterpolargl": [
           {
            "marker": {
             "colorbar": {
              "outlinewidth": 0,
              "ticks": ""
             }
            },
            "type": "scatterpolargl"
           }
          ],
          "scatterternary": [
           {
            "marker": {
             "colorbar": {
              "outlinewidth": 0,
              "ticks": ""
             }
            },
            "type": "scatterternary"
           }
          ],
          "surface": [
           {
            "colorbar": {
             "outlinewidth": 0,
             "ticks": ""
            },
            "colorscale": [
             [
              0,
              "#0d0887"
             ],
             [
              0.1111111111111111,
              "#46039f"
             ],
             [
              0.2222222222222222,
              "#7201a8"
             ],
             [
              0.3333333333333333,
              "#9c179e"
             ],
             [
              0.4444444444444444,
              "#bd3786"
             ],
             [
              0.5555555555555556,
              "#d8576b"
             ],
             [
              0.6666666666666666,
              "#ed7953"
             ],
             [
              0.7777777777777778,
              "#fb9f3a"
             ],
             [
              0.8888888888888888,
              "#fdca26"
             ],
             [
              1,
              "#f0f921"
             ]
            ],
            "type": "surface"
           }
          ],
          "table": [
           {
            "cells": {
             "fill": {
              "color": "#EBF0F8"
             },
             "line": {
              "color": "white"
             }
            },
            "header": {
             "fill": {
              "color": "#C8D4E3"
             },
             "line": {
              "color": "white"
             }
            },
            "type": "table"
           }
          ]
         },
         "layout": {
          "annotationdefaults": {
           "arrowcolor": "#2a3f5f",
           "arrowhead": 0,
           "arrowwidth": 1
          },
          "autotypenumbers": "strict",
          "coloraxis": {
           "colorbar": {
            "outlinewidth": 0,
            "ticks": ""
           }
          },
          "colorscale": {
           "diverging": [
            [
             0,
             "#8e0152"
            ],
            [
             0.1,
             "#c51b7d"
            ],
            [
             0.2,
             "#de77ae"
            ],
            [
             0.3,
             "#f1b6da"
            ],
            [
             0.4,
             "#fde0ef"
            ],
            [
             0.5,
             "#f7f7f7"
            ],
            [
             0.6,
             "#e6f5d0"
            ],
            [
             0.7,
             "#b8e186"
            ],
            [
             0.8,
             "#7fbc41"
            ],
            [
             0.9,
             "#4d9221"
            ],
            [
             1,
             "#276419"
            ]
           ],
           "sequential": [
            [
             0,
             "#0d0887"
            ],
            [
             0.1111111111111111,
             "#46039f"
            ],
            [
             0.2222222222222222,
             "#7201a8"
            ],
            [
             0.3333333333333333,
             "#9c179e"
            ],
            [
             0.4444444444444444,
             "#bd3786"
            ],
            [
             0.5555555555555556,
             "#d8576b"
            ],
            [
             0.6666666666666666,
             "#ed7953"
            ],
            [
             0.7777777777777778,
             "#fb9f3a"
            ],
            [
             0.8888888888888888,
             "#fdca26"
            ],
            [
             1,
             "#f0f921"
            ]
           ],
           "sequentialminus": [
            [
             0,
             "#0d0887"
            ],
            [
             0.1111111111111111,
             "#46039f"
            ],
            [
             0.2222222222222222,
             "#7201a8"
            ],
            [
             0.3333333333333333,
             "#9c179e"
            ],
            [
             0.4444444444444444,
             "#bd3786"
            ],
            [
             0.5555555555555556,
             "#d8576b"
            ],
            [
             0.6666666666666666,
             "#ed7953"
            ],
            [
             0.7777777777777778,
             "#fb9f3a"
            ],
            [
             0.8888888888888888,
             "#fdca26"
            ],
            [
             1,
             "#f0f921"
            ]
           ]
          },
          "colorway": [
           "#636efa",
           "#EF553B",
           "#00cc96",
           "#ab63fa",
           "#FFA15A",
           "#19d3f3",
           "#FF6692",
           "#B6E880",
           "#FF97FF",
           "#FECB52"
          ],
          "font": {
           "color": "#2a3f5f"
          },
          "geo": {
           "bgcolor": "white",
           "lakecolor": "white",
           "landcolor": "#E5ECF6",
           "showlakes": true,
           "showland": true,
           "subunitcolor": "white"
          },
          "hoverlabel": {
           "align": "left"
          },
          "hovermode": "closest",
          "mapbox": {
           "style": "light"
          },
          "paper_bgcolor": "white",
          "plot_bgcolor": "#E5ECF6",
          "polar": {
           "angularaxis": {
            "gridcolor": "white",
            "linecolor": "white",
            "ticks": ""
           },
           "bgcolor": "#E5ECF6",
           "radialaxis": {
            "gridcolor": "white",
            "linecolor": "white",
            "ticks": ""
           }
          },
          "scene": {
           "xaxis": {
            "backgroundcolor": "#E5ECF6",
            "gridcolor": "white",
            "gridwidth": 2,
            "linecolor": "white",
            "showbackground": true,
            "ticks": "",
            "zerolinecolor": "white"
           },
           "yaxis": {
            "backgroundcolor": "#E5ECF6",
            "gridcolor": "white",
            "gridwidth": 2,
            "linecolor": "white",
            "showbackground": true,
            "ticks": "",
            "zerolinecolor": "white"
           },
           "zaxis": {
            "backgroundcolor": "#E5ECF6",
            "gridcolor": "white",
            "gridwidth": 2,
            "linecolor": "white",
            "showbackground": true,
            "ticks": "",
            "zerolinecolor": "white"
           }
          },
          "shapedefaults": {
           "line": {
            "color": "#2a3f5f"
           }
          },
          "ternary": {
           "aaxis": {
            "gridcolor": "white",
            "linecolor": "white",
            "ticks": ""
           },
           "baxis": {
            "gridcolor": "white",
            "linecolor": "white",
            "ticks": ""
           },
           "bgcolor": "#E5ECF6",
           "caxis": {
            "gridcolor": "white",
            "linecolor": "white",
            "ticks": ""
           }
          },
          "title": {
           "x": 0.05
          },
          "xaxis": {
           "automargin": true,
           "gridcolor": "white",
           "linecolor": "white",
           "ticks": "",
           "title": {
            "standoff": 15
           },
           "zerolinecolor": "white",
           "zerolinewidth": 2
          },
          "yaxis": {
           "automargin": true,
           "gridcolor": "white",
           "linecolor": "white",
           "ticks": "",
           "title": {
            "standoff": 15
           },
           "zerolinecolor": "white",
           "zerolinewidth": 2
          }
         }
        }
       }
      },
      "text/html": [
       "<div>                            <div id=\"f356a45a-286e-41f3-a9b2-3384cfbf5573\" class=\"plotly-graph-div\" style=\"height:525px; width:100%;\"></div>            <script type=\"text/javascript\">                require([\"plotly\"], function(Plotly) {                    window.PLOTLYENV=window.PLOTLYENV || {};                                    if (document.getElementById(\"f356a45a-286e-41f3-a9b2-3384cfbf5573\")) {                    Plotly.newPlot(                        \"f356a45a-286e-41f3-a9b2-3384cfbf5573\",                        [{\"x\":[0,1,2,3,4,5,6,7,8,9,10,11,12,13,14,15,16,17,18,19,20,21,22,23,24,25,26,27,28,29,30,31,32,33,34,35,36,37,38,39,40,41,42,43,44,45,46,47,48,49,50,51,52,53,54,55,56,57,58,59,60,61,62,63,64,65,66,67,68,69,70,71,72,73,74,75,76,77,78,79,80,81,82,83,84,85,86,87,88,89,90,91,92,93,94,95,96,97,98,99,100,101,102,103,104,105,106,107,108,109,110,111,112,113,114,115,116,117,118,119,120,121,122,123,124,125,126,127,128,129,130,131,132,133,134,135,136,137,138,139,140,141,142,143,144,145,146,147,148,149,150,151,152,153,154,155,156,157,158,159,160,161,162,163,164,165,166,167,168,169,170,171,172,173,174,175,176,177,178,179,180,181,182,183,184,185,186,187,188,189,190,191],\"y\":[4246822,2284834,1422545,1393141,2168590,1802519,1237621,3908290,3615966,7491715,2680939,7499839,4552408,2190059,6465253,4865016,5632615,4518994,5717772,4641567,5095168,5155493,5515668,3341880,3415193,2755055,2922144,3866367,437356,4780277,1538209,3608098,2824298,5885987,2181217,7160220,1120530,7018067,6938606,1942191,5708394,2988437,7738622,1799213,2967924,4366083,2656779,127891,3238513,4301808,1643536,293331,2294598,3162184,7004507,13485818,941329,312264,605062,2724279,5834604,5350094,4778349,1293119,6882302,2449516,3513307,3526883,1913140,487479,3242567,1641371,4973394,3562130,7963634,282499,2241781,2897602,939848,3506248,3911963,2137955,4646109,7339553,1313552,7748341,7052657,4852125,5829603,4354946,7044731,1892094,4435183,4570445,7034832,2162473,6031971,3112750,9057315,7966549,2688589,7566652,7549131,7558846,5539505,5497960,6850255,505509,7446517,4808241,3122999,2502286,6719686,1604638,5137398,6308532,7731520,5273474,4986412,371804,3367567,3039720,3733219,5799068,1471829,6497096,4497165,3731783,2354648,1710571,2988544,3631708,4993981,6176268,234801,7513404,6896825,4653950,113301,4492622,6621840,4152146,4834005,2983643,940169,1884171,6133641,6603782,4292649,5710759,6320005,5782517,6196494,5517328,1429600,5828527,3788354,2380110,2677055,3294157,6933919,2000849,3906709,6507241,1285801,5031117,1298846,7116736,4240812,5806202,6874629,5409442,816599,6750144,2121014,3485409,1131018,2099289,6212214,3331299,6984395,2298368,6120589,6823464,1271198,5007278,7196519,5716385,7988150,3243526,6889297,6025511],\"type\":\"scatter\"},{\"x\":[0,1,2,3,4,5,6,7,8,9,10,11,12,13,14,15,16,17,18,19,20,21,22,23,24,25,26,27,28,29,30,31,32,33,34,35,36,37,38,39,40,41,42,43,44,45,46,47,48,49,50,51,52,53,54,55,56,57,58,59,60,61,62,63,64,65,66,67,68,69,70,71,72,73,74,75,76,77,78,79,80,81,82,83,84,85,86,87,88,89,90,91,92,93,94,95,96,97,98,99,100,101,102,103,104,105,106,107,108,109,110,111,112,113,114,115,116,117,118,119,120,121,122,123,124,125,126,127,128,129,130,131,132,133,134,135,136,137,138,139,140,141,142,143,144,145,146,147,148,149,150,151,152,153,154,155,156,157,158,159,160,161,162,163,164,165,166,167,168,169,170,171,172,173,174,175,176,177,178,179,180,181,182,183,184,185,186,187,188,189,190,191],\"y\":[2437619.6666666665,2572669.6666666665,3144829.6666666665,2651400.3333333335,1700173.3333333333,1661425.3333333333,1788083.3333333333,1736243.3333333333,2316143.3333333335,2920625.6666666665,5005323.666666667,4596206.666666667,5890831.0,4911062.0,4747435.333333333,4402573.333333333,4506776.0,5654294.666666667,5005541.666666667,5289793.666666667,4959444.333333333,5151502.333333333,4964076.0,5255443.0,4671013.666666667,4090913.6666666665,3170709.3333333335,3030797.3333333335,3181188.6666666665,2408622.3333333335,3028000.0,2251947.3333333335,3308861.3333333335,2656868.3333333335,4106127.6666666665,3630500.6666666665,5075808.0,3487322.3333333335,5099605.666666667,5025734.333333333,5299621.333333333,4863063.666666667,3546340.6666666665,5478484.333333333,4175424.0,4168586.3333333335,3044406.6666666665,3330262.0,2383584.3333333335,2007727.6666666667,2556070.6666666665,3061285.6666666665,2079558.3333333333,1410488.3333333333,1916704.3333333333,4153763.0,7884169.666666667,7143884.666666667,4913137.0,619551.6666666666,1213868.3333333333,3054648.3333333335,4636325.666666667,5321015.666666667,3807187.3333333335,4317923.333333333,3541645.6666666665,4281708.333333333,3163235.3333333335,2984443.3333333335,1975834.0,1881062.0,1790472.3333333333,3285777.3333333335,3392298.3333333335,5499719.333333333,3936087.6666666665,3495971.3333333335,1807294.0,2026410.3333333333,2447899.3333333335,2786019.6666666665,3185388.6666666665,3565342.3333333335,4707872.333333333,4433071.333333333,5467148.666666667,5371516.666666667,6551041.0,5911461.666666667,5012224.666666667,5743093.333333333,4430590.333333333,4457336.0,3632574.0,5346820.0,4589250.0,5076425.333333333,3769064.6666666665,6067345.333333333,6712204.666666667,6570817.666666667,6073930.0,5934790.666666667,7558209.666666667,6882494.0,6198770.333333333,5962573.333333333,4284574.666666667,4934093.666666667,4253422.333333333,5125919.0,3477842.0,4114990.3333333335,3608870.0,4487240.666666667,4350189.333333333,6392483.333333333,6437842.0,5997135.333333333,3543896.6666666665,2908594.3333333335,2259697.0,3380168.6666666665,4190669.0,3668038.6666666665,4589331.0,4155363.3333333335,4908681.333333333,3527865.3333333335,2599000.6666666665,2351254.3333333335,2776941.0,3871411.0,4933985.666666667,3801683.3333333335,4641491.0,4881676.666666667,6354726.333333333,3888025.3333333335,3086624.3333333335,3742587.6666666665,5088869.333333333,5202663.666666667,3989931.3333333335,2919272.3333333335,1935994.3333333333,2985993.6666666665,4873864.666666667,5676690.666666667,5535730.0,5441137.666666667,5937760.333333333,6099672.0,5832113.0,4381140.666666667,4258485.0,3682160.3333333335,3998997.0,2948506.3333333335,2783774.0,4301710.333333333,4076308.3333333335,4280492.333333333,4138266.3333333335,3899917.0,4274719.666666667,2538588.0,4482233.0,4218798.0,5721250.0,5640547.666666667,6030091.0,4366890.0,4325395.0,3229252.3333333335,4118855.6666666665,2245813.6666666665,2238572.0,3147507.0,3880934.0,5509302.666666667,4204687.333333333,5134450.666666667,5080807.0,4738417.0,4367313.333333333,4491665.0,5973394.0,6967018.0,5649353.666666667,6040324.333333333],\"type\":\"scatter\"}],                        {\"template\":{\"data\":{\"barpolar\":[{\"marker\":{\"line\":{\"color\":\"#E5ECF6\",\"width\":0.5},\"pattern\":{\"fillmode\":\"overlay\",\"size\":10,\"solidity\":0.2}},\"type\":\"barpolar\"}],\"bar\":[{\"error_x\":{\"color\":\"#2a3f5f\"},\"error_y\":{\"color\":\"#2a3f5f\"},\"marker\":{\"line\":{\"color\":\"#E5ECF6\",\"width\":0.5},\"pattern\":{\"fillmode\":\"overlay\",\"size\":10,\"solidity\":0.2}},\"type\":\"bar\"}],\"carpet\":[{\"aaxis\":{\"endlinecolor\":\"#2a3f5f\",\"gridcolor\":\"white\",\"linecolor\":\"white\",\"minorgridcolor\":\"white\",\"startlinecolor\":\"#2a3f5f\"},\"baxis\":{\"endlinecolor\":\"#2a3f5f\",\"gridcolor\":\"white\",\"linecolor\":\"white\",\"minorgridcolor\":\"white\",\"startlinecolor\":\"#2a3f5f\"},\"type\":\"carpet\"}],\"choropleth\":[{\"colorbar\":{\"outlinewidth\":0,\"ticks\":\"\"},\"type\":\"choropleth\"}],\"contourcarpet\":[{\"colorbar\":{\"outlinewidth\":0,\"ticks\":\"\"},\"type\":\"contourcarpet\"}],\"contour\":[{\"colorbar\":{\"outlinewidth\":0,\"ticks\":\"\"},\"colorscale\":[[0.0,\"#0d0887\"],[0.1111111111111111,\"#46039f\"],[0.2222222222222222,\"#7201a8\"],[0.3333333333333333,\"#9c179e\"],[0.4444444444444444,\"#bd3786\"],[0.5555555555555556,\"#d8576b\"],[0.6666666666666666,\"#ed7953\"],[0.7777777777777778,\"#fb9f3a\"],[0.8888888888888888,\"#fdca26\"],[1.0,\"#f0f921\"]],\"type\":\"contour\"}],\"heatmapgl\":[{\"colorbar\":{\"outlinewidth\":0,\"ticks\":\"\"},\"colorscale\":[[0.0,\"#0d0887\"],[0.1111111111111111,\"#46039f\"],[0.2222222222222222,\"#7201a8\"],[0.3333333333333333,\"#9c179e\"],[0.4444444444444444,\"#bd3786\"],[0.5555555555555556,\"#d8576b\"],[0.6666666666666666,\"#ed7953\"],[0.7777777777777778,\"#fb9f3a\"],[0.8888888888888888,\"#fdca26\"],[1.0,\"#f0f921\"]],\"type\":\"heatmapgl\"}],\"heatmap\":[{\"colorbar\":{\"outlinewidth\":0,\"ticks\":\"\"},\"colorscale\":[[0.0,\"#0d0887\"],[0.1111111111111111,\"#46039f\"],[0.2222222222222222,\"#7201a8\"],[0.3333333333333333,\"#9c179e\"],[0.4444444444444444,\"#bd3786\"],[0.5555555555555556,\"#d8576b\"],[0.6666666666666666,\"#ed7953\"],[0.7777777777777778,\"#fb9f3a\"],[0.8888888888888888,\"#fdca26\"],[1.0,\"#f0f921\"]],\"type\":\"heatmap\"}],\"histogram2dcontour\":[{\"colorbar\":{\"outlinewidth\":0,\"ticks\":\"\"},\"colorscale\":[[0.0,\"#0d0887\"],[0.1111111111111111,\"#46039f\"],[0.2222222222222222,\"#7201a8\"],[0.3333333333333333,\"#9c179e\"],[0.4444444444444444,\"#bd3786\"],[0.5555555555555556,\"#d8576b\"],[0.6666666666666666,\"#ed7953\"],[0.7777777777777778,\"#fb9f3a\"],[0.8888888888888888,\"#fdca26\"],[1.0,\"#f0f921\"]],\"type\":\"histogram2dcontour\"}],\"histogram2d\":[{\"colorbar\":{\"outlinewidth\":0,\"ticks\":\"\"},\"colorscale\":[[0.0,\"#0d0887\"],[0.1111111111111111,\"#46039f\"],[0.2222222222222222,\"#7201a8\"],[0.3333333333333333,\"#9c179e\"],[0.4444444444444444,\"#bd3786\"],[0.5555555555555556,\"#d8576b\"],[0.6666666666666666,\"#ed7953\"],[0.7777777777777778,\"#fb9f3a\"],[0.8888888888888888,\"#fdca26\"],[1.0,\"#f0f921\"]],\"type\":\"histogram2d\"}],\"histogram\":[{\"marker\":{\"pattern\":{\"fillmode\":\"overlay\",\"size\":10,\"solidity\":0.2}},\"type\":\"histogram\"}],\"mesh3d\":[{\"colorbar\":{\"outlinewidth\":0,\"ticks\":\"\"},\"type\":\"mesh3d\"}],\"parcoords\":[{\"line\":{\"colorbar\":{\"outlinewidth\":0,\"ticks\":\"\"}},\"type\":\"parcoords\"}],\"pie\":[{\"automargin\":true,\"type\":\"pie\"}],\"scatter3d\":[{\"line\":{\"colorbar\":{\"outlinewidth\":0,\"ticks\":\"\"}},\"marker\":{\"colorbar\":{\"outlinewidth\":0,\"ticks\":\"\"}},\"type\":\"scatter3d\"}],\"scattercarpet\":[{\"marker\":{\"colorbar\":{\"outlinewidth\":0,\"ticks\":\"\"}},\"type\":\"scattercarpet\"}],\"scattergeo\":[{\"marker\":{\"colorbar\":{\"outlinewidth\":0,\"ticks\":\"\"}},\"type\":\"scattergeo\"}],\"scattergl\":[{\"marker\":{\"colorbar\":{\"outlinewidth\":0,\"ticks\":\"\"}},\"type\":\"scattergl\"}],\"scattermapbox\":[{\"marker\":{\"colorbar\":{\"outlinewidth\":0,\"ticks\":\"\"}},\"type\":\"scattermapbox\"}],\"scatterpolargl\":[{\"marker\":{\"colorbar\":{\"outlinewidth\":0,\"ticks\":\"\"}},\"type\":\"scatterpolargl\"}],\"scatterpolar\":[{\"marker\":{\"colorbar\":{\"outlinewidth\":0,\"ticks\":\"\"}},\"type\":\"scatterpolar\"}],\"scatter\":[{\"marker\":{\"colorbar\":{\"outlinewidth\":0,\"ticks\":\"\"}},\"type\":\"scatter\"}],\"scatterternary\":[{\"marker\":{\"colorbar\":{\"outlinewidth\":0,\"ticks\":\"\"}},\"type\":\"scatterternary\"}],\"surface\":[{\"colorbar\":{\"outlinewidth\":0,\"ticks\":\"\"},\"colorscale\":[[0.0,\"#0d0887\"],[0.1111111111111111,\"#46039f\"],[0.2222222222222222,\"#7201a8\"],[0.3333333333333333,\"#9c179e\"],[0.4444444444444444,\"#bd3786\"],[0.5555555555555556,\"#d8576b\"],[0.6666666666666666,\"#ed7953\"],[0.7777777777777778,\"#fb9f3a\"],[0.8888888888888888,\"#fdca26\"],[1.0,\"#f0f921\"]],\"type\":\"surface\"}],\"table\":[{\"cells\":{\"fill\":{\"color\":\"#EBF0F8\"},\"line\":{\"color\":\"white\"}},\"header\":{\"fill\":{\"color\":\"#C8D4E3\"},\"line\":{\"color\":\"white\"}},\"type\":\"table\"}]},\"layout\":{\"annotationdefaults\":{\"arrowcolor\":\"#2a3f5f\",\"arrowhead\":0,\"arrowwidth\":1},\"autotypenumbers\":\"strict\",\"coloraxis\":{\"colorbar\":{\"outlinewidth\":0,\"ticks\":\"\"}},\"colorscale\":{\"diverging\":[[0,\"#8e0152\"],[0.1,\"#c51b7d\"],[0.2,\"#de77ae\"],[0.3,\"#f1b6da\"],[0.4,\"#fde0ef\"],[0.5,\"#f7f7f7\"],[0.6,\"#e6f5d0\"],[0.7,\"#b8e186\"],[0.8,\"#7fbc41\"],[0.9,\"#4d9221\"],[1,\"#276419\"]],\"sequential\":[[0.0,\"#0d0887\"],[0.1111111111111111,\"#46039f\"],[0.2222222222222222,\"#7201a8\"],[0.3333333333333333,\"#9c179e\"],[0.4444444444444444,\"#bd3786\"],[0.5555555555555556,\"#d8576b\"],[0.6666666666666666,\"#ed7953\"],[0.7777777777777778,\"#fb9f3a\"],[0.8888888888888888,\"#fdca26\"],[1.0,\"#f0f921\"]],\"sequentialminus\":[[0.0,\"#0d0887\"],[0.1111111111111111,\"#46039f\"],[0.2222222222222222,\"#7201a8\"],[0.3333333333333333,\"#9c179e\"],[0.4444444444444444,\"#bd3786\"],[0.5555555555555556,\"#d8576b\"],[0.6666666666666666,\"#ed7953\"],[0.7777777777777778,\"#fb9f3a\"],[0.8888888888888888,\"#fdca26\"],[1.0,\"#f0f921\"]]},\"colorway\":[\"#636efa\",\"#EF553B\",\"#00cc96\",\"#ab63fa\",\"#FFA15A\",\"#19d3f3\",\"#FF6692\",\"#B6E880\",\"#FF97FF\",\"#FECB52\"],\"font\":{\"color\":\"#2a3f5f\"},\"geo\":{\"bgcolor\":\"white\",\"lakecolor\":\"white\",\"landcolor\":\"#E5ECF6\",\"showlakes\":true,\"showland\":true,\"subunitcolor\":\"white\"},\"hoverlabel\":{\"align\":\"left\"},\"hovermode\":\"closest\",\"mapbox\":{\"style\":\"light\"},\"paper_bgcolor\":\"white\",\"plot_bgcolor\":\"#E5ECF6\",\"polar\":{\"angularaxis\":{\"gridcolor\":\"white\",\"linecolor\":\"white\",\"ticks\":\"\"},\"bgcolor\":\"#E5ECF6\",\"radialaxis\":{\"gridcolor\":\"white\",\"linecolor\":\"white\",\"ticks\":\"\"}},\"scene\":{\"xaxis\":{\"backgroundcolor\":\"#E5ECF6\",\"gridcolor\":\"white\",\"gridwidth\":2,\"linecolor\":\"white\",\"showbackground\":true,\"ticks\":\"\",\"zerolinecolor\":\"white\"},\"yaxis\":{\"backgroundcolor\":\"#E5ECF6\",\"gridcolor\":\"white\",\"gridwidth\":2,\"linecolor\":\"white\",\"showbackground\":true,\"ticks\":\"\",\"zerolinecolor\":\"white\"},\"zaxis\":{\"backgroundcolor\":\"#E5ECF6\",\"gridcolor\":\"white\",\"gridwidth\":2,\"linecolor\":\"white\",\"showbackground\":true,\"ticks\":\"\",\"zerolinecolor\":\"white\"}},\"shapedefaults\":{\"line\":{\"color\":\"#2a3f5f\"}},\"ternary\":{\"aaxis\":{\"gridcolor\":\"white\",\"linecolor\":\"white\",\"ticks\":\"\"},\"baxis\":{\"gridcolor\":\"white\",\"linecolor\":\"white\",\"ticks\":\"\"},\"bgcolor\":\"#E5ECF6\",\"caxis\":{\"gridcolor\":\"white\",\"linecolor\":\"white\",\"ticks\":\"\"}},\"title\":{\"x\":0.05},\"xaxis\":{\"automargin\":true,\"gridcolor\":\"white\",\"linecolor\":\"white\",\"ticks\":\"\",\"title\":{\"standoff\":15},\"zerolinecolor\":\"white\",\"zerolinewidth\":2},\"yaxis\":{\"automargin\":true,\"gridcolor\":\"white\",\"linecolor\":\"white\",\"ticks\":\"\",\"title\":{\"standoff\":15},\"zerolinecolor\":\"white\",\"zerolinewidth\":2}}}},                        {\"responsive\": true}                    ).then(function(){\n",
       "                            \n",
       "var gd = document.getElementById('f356a45a-286e-41f3-a9b2-3384cfbf5573');\n",
       "var x = new MutationObserver(function (mutations, observer) {{\n",
       "        var display = window.getComputedStyle(gd).display;\n",
       "        if (!display || display === 'none') {{\n",
       "            console.log([gd, 'removed!']);\n",
       "            Plotly.purge(gd);\n",
       "            observer.disconnect();\n",
       "        }}\n",
       "}});\n",
       "\n",
       "// Listen for the removal of the full notebook cells\n",
       "var notebookContainer = gd.closest('#notebook-container');\n",
       "if (notebookContainer) {{\n",
       "    x.observe(notebookContainer, {childList: true});\n",
       "}}\n",
       "\n",
       "// Listen for the clearing of the current output cell\n",
       "var outputEl = gd.closest('.output');\n",
       "if (outputEl) {{\n",
       "    x.observe(outputEl, {childList: true});\n",
       "}}\n",
       "\n",
       "                        })                };                });            </script>        </div>"
      ]
     },
     "metadata": {},
     "output_type": "display_data"
    }
   ],
   "source": [
    "import plotly.graph_objects as go\n",
    "\n",
    "data = [go.Scatter(x=indice,y=test), go.Scatter(x=indice,y=predicoes)]\n",
    "\n",
    "py.iplot(data)"
   ]
  }
 ],
 "metadata": {
  "kernelspec": {
   "display_name": "Python 3",
   "language": "python",
   "name": "python3"
  },
  "language_info": {
   "codemirror_mode": {
    "name": "ipython",
    "version": 3
   },
   "file_extension": ".py",
   "mimetype": "text/x-python",
   "name": "python",
   "nbconvert_exporter": "python",
   "pygments_lexer": "ipython3",
   "version": "3.8.8"
  }
 },
 "nbformat": 4,
 "nbformat_minor": 5
}
