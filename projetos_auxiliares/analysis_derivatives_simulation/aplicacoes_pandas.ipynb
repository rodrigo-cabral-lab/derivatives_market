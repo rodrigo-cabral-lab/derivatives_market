{
 "cells": [
  {
   "cell_type": "markdown",
   "id": "810f3114-73bd-4f8e-b6ef-d846e942a26a",
   "metadata": {},
   "source": [
    "# Dicas de bibliotecas para trabalhar com dataset muito grande:\n",
    "\n",
    "- Modin\n",
    "- Dask"
   ]
  },
  {
   "cell_type": "markdown",
   "id": "005501eb-6c15-454c-843a-299477ff1452",
   "metadata": {},
   "source": [
    "# Criando função estatística com numpy"
   ]
  },
  {
   "cell_type": "code",
   "execution_count": 16,
   "id": "17e6052d-7103-4e3c-9aec-89a97d57f5b5",
   "metadata": {},
   "outputs": [],
   "source": [
    "import numpy as np"
   ]
  },
  {
   "cell_type": "code",
   "execution_count": 13,
   "id": "ed59ec94-1717-4409-bc8c-234cf7007aae",
   "metadata": {},
   "outputs": [],
   "source": [
    "x  = np.random.randint(0,10,100)"
   ]
  },
  {
   "cell_type": "code",
   "execution_count": 14,
   "id": "4a0be615-c18a-4f71-9538-1181e58e3ba1",
   "metadata": {},
   "outputs": [],
   "source": [
    "def statistics(x):\n",
    "    min = np.min(x)\n",
    "    max = np.max(x)\n",
    "    avg = np.mean(x)\n",
    "    med = np.median(x)\n",
    "    var = np.var(x)\n",
    "    std = np.std(x)\n",
    "    \n",
    "    stats = [min, max, avg, med, var, std]\n",
    "    \n",
    "    return stats"
   ]
  },
  {
   "cell_type": "code",
   "execution_count": 15,
   "id": "b1f84421-12a4-4d00-941e-2047c36fedfa",
   "metadata": {},
   "outputs": [
    {
     "name": "stdout",
     "output_type": "stream",
     "text": [
      "min: 0.000\n",
      "max: 9.000\n",
      "avg: 4.300\n",
      "med: 4.500\n",
      "var: 8.190\n",
      "std: 2.862\n"
     ]
    }
   ],
   "source": [
    "STAT = statistics(x)\n",
    "\n",
    "print('min: {:4.3f}'.format(STAT[0]))\n",
    "print('max: {:4.3f}'.format(STAT[1]))\n",
    "print('avg: {:4.3f}'.format(STAT[2]))\n",
    "print('med: {:4.3f}'.format(STAT[3]))\n",
    "print('var: {:4.3f}'.format(STAT[4]))\n",
    "print('std: {:4.3f}'.format(STAT[5]))"
   ]
  },
  {
   "cell_type": "markdown",
   "id": "02cbfb0c-90de-49eb-8388-5d9ff22eca20",
   "metadata": {},
   "source": [
    "# Importando um dataframe"
   ]
  },
  {
   "cell_type": "code",
   "execution_count": 111,
   "id": "5d82f53e-3740-434d-8cdd-63c345a9767a",
   "metadata": {},
   "outputs": [],
   "source": [
    "#importando com link\n",
    "#dataparse = lambda.dates: pd.datetime.strptime(dates, '%d/%m/%Y')\n",
    "#path = 'link'\n",
    "#dados = pd.read_table(path, sep=';', parse_dates=['coluna_data'], index_col='coluna_index', date_parser=dateparse)\n",
    "\n",
    "#importando do excel\n",
    "#df = pd.read_excel('ndf_dolar.xlsx') #, index_col='inicio')"
   ]
  },
  {
   "cell_type": "markdown",
   "id": "22832e37-eee4-4f3d-b44c-c113d88c3723",
   "metadata": {},
   "source": [
    "# Trabalhando com o pandas "
   ]
  },
  {
   "cell_type": "code",
   "execution_count": 18,
   "id": "b412af35-5722-410b-82c4-2d46e52f1104",
   "metadata": {},
   "outputs": [],
   "source": [
    "import pandas as pd"
   ]
  },
  {
   "cell_type": "code",
   "execution_count": 138,
   "id": "4a72784b-e3c8-4d50-85d7-dc5b03aa30e2",
   "metadata": {},
   "outputs": [],
   "source": [
    "df = pd.read_excel('ndf_dolar.xlsx') #, index_col='inicio')"
   ]
  },
  {
   "cell_type": "code",
   "execution_count": 21,
   "id": "f05cab14-25bd-4e5d-9320-9f505c78cf07",
   "metadata": {},
   "outputs": [
    {
     "data": {
      "text/html": [
       "<div>\n",
       "<style scoped>\n",
       "    .dataframe tbody tr th:only-of-type {\n",
       "        vertical-align: middle;\n",
       "    }\n",
       "\n",
       "    .dataframe tbody tr th {\n",
       "        vertical-align: top;\n",
       "    }\n",
       "\n",
       "    .dataframe thead th {\n",
       "        text-align: right;\n",
       "    }\n",
       "</style>\n",
       "<table border=\"1\" class=\"dataframe\">\n",
       "  <thead>\n",
       "    <tr style=\"text-align: right;\">\n",
       "      <th></th>\n",
       "      <th>inicio</th>\n",
       "      <th>vencimento</th>\n",
       "      <th>prazo</th>\n",
       "      <th>volume_brl</th>\n",
       "      <th>volume_usd</th>\n",
       "      <th>volume_usd_sinal</th>\n",
       "      <th>usd</th>\n",
       "      <th>compra_venda</th>\n",
       "    </tr>\n",
       "  </thead>\n",
       "  <tbody>\n",
       "    <tr>\n",
       "      <th>0</th>\n",
       "      <td>2020-06-24</td>\n",
       "      <td>2020-11-29</td>\n",
       "      <td>158</td>\n",
       "      <td>221204805</td>\n",
       "      <td>1.150265e+09</td>\n",
       "      <td>1.150265e+09</td>\n",
       "      <td>5.200000</td>\n",
       "      <td>compra</td>\n",
       "    </tr>\n",
       "    <tr>\n",
       "      <th>1</th>\n",
       "      <td>2020-03-19</td>\n",
       "      <td>2020-12-22</td>\n",
       "      <td>278</td>\n",
       "      <td>194843153</td>\n",
       "      <td>1.008933e+09</td>\n",
       "      <td>-1.008933e+09</td>\n",
       "      <td>5.178182</td>\n",
       "      <td>venda</td>\n",
       "    </tr>\n",
       "    <tr>\n",
       "      <th>2</th>\n",
       "      <td>2020-02-06</td>\n",
       "      <td>2021-02-24</td>\n",
       "      <td>384</td>\n",
       "      <td>120383012</td>\n",
       "      <td>6.251891e+08</td>\n",
       "      <td>-6.251891e+08</td>\n",
       "      <td>5.193333</td>\n",
       "      <td>venda</td>\n",
       "    </tr>\n",
       "    <tr>\n",
       "      <th>3</th>\n",
       "      <td>2020-06-16</td>\n",
       "      <td>2021-08-29</td>\n",
       "      <td>439</td>\n",
       "      <td>162119829</td>\n",
       "      <td>8.383599e+08</td>\n",
       "      <td>8.383599e+08</td>\n",
       "      <td>5.171236</td>\n",
       "      <td>compra</td>\n",
       "    </tr>\n",
       "    <tr>\n",
       "      <th>4</th>\n",
       "      <td>2020-03-10</td>\n",
       "      <td>2021-04-04</td>\n",
       "      <td>390</td>\n",
       "      <td>23438449</td>\n",
       "      <td>1.212118e+08</td>\n",
       "      <td>1.212118e+08</td>\n",
       "      <td>5.171494</td>\n",
       "      <td>compra</td>\n",
       "    </tr>\n",
       "  </tbody>\n",
       "</table>\n",
       "</div>"
      ],
      "text/plain": [
       "      inicio vencimento  prazo  volume_brl    volume_usd  volume_usd_sinal  \\\n",
       "0 2020-06-24 2020-11-29    158   221204805  1.150265e+09      1.150265e+09   \n",
       "1 2020-03-19 2020-12-22    278   194843153  1.008933e+09     -1.008933e+09   \n",
       "2 2020-02-06 2021-02-24    384   120383012  6.251891e+08     -6.251891e+08   \n",
       "3 2020-06-16 2021-08-29    439   162119829  8.383599e+08      8.383599e+08   \n",
       "4 2020-03-10 2021-04-04    390    23438449  1.212118e+08      1.212118e+08   \n",
       "\n",
       "        usd compra_venda  \n",
       "0  5.200000       compra  \n",
       "1  5.178182        venda  \n",
       "2  5.193333        venda  \n",
       "3  5.171236       compra  \n",
       "4  5.171494       compra  "
      ]
     },
     "execution_count": 21,
     "metadata": {},
     "output_type": "execute_result"
    }
   ],
   "source": [
    "df.head(5)"
   ]
  },
  {
   "cell_type": "code",
   "execution_count": 24,
   "id": "114cec47-fb39-4148-8589-9007ce666323",
   "metadata": {},
   "outputs": [
    {
     "data": {
      "text/plain": [
       "(199, 8)"
      ]
     },
     "execution_count": 24,
     "metadata": {},
     "output_type": "execute_result"
    }
   ],
   "source": [
    "#numero de linhas e colunas\n",
    "df.shape"
   ]
  },
  {
   "cell_type": "code",
   "execution_count": 27,
   "id": "9cbfe0b9-d39d-47a3-bbcf-52ca8ef3571a",
   "metadata": {},
   "outputs": [
    {
     "data": {
      "text/plain": [
       "compra    112\n",
       "venda      87\n",
       "Name: compra_venda, dtype: int64"
      ]
     },
     "execution_count": 27,
     "metadata": {},
     "output_type": "execute_result"
    }
   ],
   "source": [
    "#numero de cada elemento de compra e venda \n",
    "df.compra_venda.value_counts()"
   ]
  },
  {
   "cell_type": "code",
   "execution_count": 35,
   "id": "f742879c-1215-4ab7-a69a-d1e72b2ee9d4",
   "metadata": {},
   "outputs": [
    {
     "data": {
      "text/plain": [
       "compra    0.562814\n",
       "venda     0.437186\n",
       "Name: compra_venda, dtype: float64"
      ]
     },
     "execution_count": 35,
     "metadata": {},
     "output_type": "execute_result"
    }
   ],
   "source": [
    "# porcentagem de numero de elementos de compra e venda \n",
    "df.compra_venda.value_counts() / df.shape[0]"
   ]
  },
  {
   "cell_type": "code",
   "execution_count": 36,
   "id": "f3f35463-8b8f-46b5-990d-3ded50dcba62",
   "metadata": {},
   "outputs": [
    {
     "data": {
      "text/html": [
       "<div>\n",
       "<style scoped>\n",
       "    .dataframe tbody tr th:only-of-type {\n",
       "        vertical-align: middle;\n",
       "    }\n",
       "\n",
       "    .dataframe tbody tr th {\n",
       "        vertical-align: top;\n",
       "    }\n",
       "\n",
       "    .dataframe thead th {\n",
       "        text-align: right;\n",
       "    }\n",
       "</style>\n",
       "<table border=\"1\" class=\"dataframe\">\n",
       "  <thead>\n",
       "    <tr style=\"text-align: right;\">\n",
       "      <th></th>\n",
       "      <th>prazo</th>\n",
       "      <th>volume_brl</th>\n",
       "      <th>volume_usd</th>\n",
       "      <th>volume_usd_sinal</th>\n",
       "      <th>usd</th>\n",
       "    </tr>\n",
       "  </thead>\n",
       "  <tbody>\n",
       "    <tr>\n",
       "      <th>count</th>\n",
       "      <td>199.000000</td>\n",
       "      <td>1.990000e+02</td>\n",
       "      <td>1.980000e+02</td>\n",
       "      <td>1.980000e+02</td>\n",
       "      <td>198.000000</td>\n",
       "    </tr>\n",
       "    <tr>\n",
       "      <th>mean</th>\n",
       "      <td>359.979899</td>\n",
       "      <td>1.537207e+08</td>\n",
       "      <td>7.890292e+08</td>\n",
       "      <td>4.309663e+07</td>\n",
       "      <td>5.142911</td>\n",
       "    </tr>\n",
       "    <tr>\n",
       "      <th>std</th>\n",
       "      <td>157.496095</td>\n",
       "      <td>8.071960e+07</td>\n",
       "      <td>4.175072e+08</td>\n",
       "      <td>8.934052e+08</td>\n",
       "      <td>0.122279</td>\n",
       "    </tr>\n",
       "    <tr>\n",
       "      <th>min</th>\n",
       "      <td>55.000000</td>\n",
       "      <td>6.714977e+06</td>\n",
       "      <td>3.297054e+07</td>\n",
       "      <td>-1.491907e+09</td>\n",
       "      <td>4.160000</td>\n",
       "    </tr>\n",
       "    <tr>\n",
       "      <th>25%</th>\n",
       "      <td>239.000000</td>\n",
       "      <td>8.619550e+07</td>\n",
       "      <td>4.402959e+08</td>\n",
       "      <td>-7.968977e+08</td>\n",
       "      <td>5.141132</td>\n",
       "    </tr>\n",
       "    <tr>\n",
       "      <th>50%</th>\n",
       "      <td>359.000000</td>\n",
       "      <td>1.599020e+08</td>\n",
       "      <td>8.145576e+08</td>\n",
       "      <td>1.535049e+08</td>\n",
       "      <td>5.149305</td>\n",
       "    </tr>\n",
       "    <tr>\n",
       "      <th>75%</th>\n",
       "      <td>477.500000</td>\n",
       "      <td>2.189732e+08</td>\n",
       "      <td>1.121915e+09</td>\n",
       "      <td>8.157333e+08</td>\n",
       "      <td>5.179630</td>\n",
       "    </tr>\n",
       "    <tr>\n",
       "      <th>max</th>\n",
       "      <td>704.000000</td>\n",
       "      <td>2.926947e+08</td>\n",
       "      <td>1.513521e+09</td>\n",
       "      <td>1.513521e+09</td>\n",
       "      <td>5.660000</td>\n",
       "    </tr>\n",
       "  </tbody>\n",
       "</table>\n",
       "</div>"
      ],
      "text/plain": [
       "            prazo    volume_brl    volume_usd  volume_usd_sinal         usd\n",
       "count  199.000000  1.990000e+02  1.980000e+02      1.980000e+02  198.000000\n",
       "mean   359.979899  1.537207e+08  7.890292e+08      4.309663e+07    5.142911\n",
       "std    157.496095  8.071960e+07  4.175072e+08      8.934052e+08    0.122279\n",
       "min     55.000000  6.714977e+06  3.297054e+07     -1.491907e+09    4.160000\n",
       "25%    239.000000  8.619550e+07  4.402959e+08     -7.968977e+08    5.141132\n",
       "50%    359.000000  1.599020e+08  8.145576e+08      1.535049e+08    5.149305\n",
       "75%    477.500000  2.189732e+08  1.121915e+09      8.157333e+08    5.179630\n",
       "max    704.000000  2.926947e+08  1.513521e+09      1.513521e+09    5.660000"
      ]
     },
     "execution_count": 36,
     "metadata": {},
     "output_type": "execute_result"
    }
   ],
   "source": [
    "df.describe()"
   ]
  },
  {
   "cell_type": "markdown",
   "id": "2cc74812-64f8-41bd-b714-24fa9e86ea6c",
   "metadata": {},
   "source": [
    "# Convertendo variáveis e gerando index\n"
   ]
  },
  {
   "cell_type": "code",
   "execution_count": 38,
   "id": "a9cb9210-4f47-4218-9905-a248a8186f0e",
   "metadata": {},
   "outputs": [],
   "source": [
    "#trasnformar tipo da variável\n",
    "#df.inicio = pd.to_datetime(df.inicio)\n",
    "#df.prazo = pd.to_numeric(df.inicio, downcast=\"integer\")"
   ]
  },
  {
   "cell_type": "code",
   "execution_count": null,
   "id": "7b7440c3-bb17-46d4-ae83-4df482cc9fda",
   "metadata": {},
   "outputs": [],
   "source": [
    "#tornando uma coluna como index\n",
    "#df.set_index('inicio', inplace=True)"
   ]
  },
  {
   "cell_type": "code",
   "execution_count": null,
   "id": "bed64daf-df2f-4b79-bd11-cdd1072a47a4",
   "metadata": {},
   "outputs": [],
   "source": [
    "# gerando index\n",
    "#df.reset_index(inplace=True) #tira o index da coluna de dados e retorna a contagem original"
   ]
  },
  {
   "cell_type": "markdown",
   "id": "544fabdb-5aee-43f9-b4b8-fee16d1430a6",
   "metadata": {},
   "source": [
    "# Trabalhando com gráficos "
   ]
  },
  {
   "cell_type": "code",
   "execution_count": 40,
   "id": "4aa2a071-306d-4eb2-8a77-e56d92d7b74b",
   "metadata": {},
   "outputs": [],
   "source": [
    "import matplotlib.pyplot as plt \n",
    "import seaborn as sns"
   ]
  },
  {
   "cell_type": "code",
   "execution_count": 42,
   "id": "fce02836-0730-46a9-9f39-9b225694dd2c",
   "metadata": {},
   "outputs": [],
   "source": [
    "#configurando padrão\n",
    "sns.set(style='whitegrid')"
   ]
  },
  {
   "cell_type": "code",
   "execution_count": 44,
   "id": "14b35015-5e5b-4d89-ba9d-ed0cc8867527",
   "metadata": {},
   "outputs": [
    {
     "data": {
      "image/png": "[encoded data removed]",
      "text/plain": [
       "<Figure size 432x288 with 1 Axes>"
      ]
     },
     "metadata": {},
     "output_type": "display_data"
    }
   ],
   "source": [
    "fig = plt.scatter(df.volume_usd, df.usd)\n",
    "plt.title(\"Valor dolar x Volume\")\n",
    "plt.show(fig)"
   ]
  },
  {
   "cell_type": "code",
   "execution_count": 48,
   "id": "d910835b-42ee-4df6-be34-87e40595375f",
   "metadata": {},
   "outputs": [
    {
     "name": "stderr",
     "output_type": "stream",
     "text": [
      "C:\\Users\\Rodrigo\\anaconda3\\lib\\site-packages\\seaborn\\_decorators.py:36: FutureWarning: Pass the following variable as a keyword arg: x. From version 0.12, the only valid positional argument will be `data`, and passing other arguments without an explicit keyword will result in an error or misinterpretation.\n",
      "  warnings.warn(\n"
     ]
    },
    {
     "data": {
      "image/png": "[encoded data removed]",
      "text/plain": [
       "<Figure size 432x288 with 1 Axes>"
      ]
     },
     "metadata": {},
     "output_type": "display_data"
    }
   ],
   "source": [
    "# compra x venda\n",
    "fig = sns.countplot(df.compra_venda)\n",
    "plt.title('Compra x Venda')\n",
    "plt.ylabel('Quantidade de contratos')\n",
    "plt.show(fig)"
   ]
  },
  {
   "cell_type": "code",
   "execution_count": 49,
   "id": "c71d249a-9b77-4f06-ab5d-c1b5fc169603",
   "metadata": {},
   "outputs": [
    {
     "data": {
      "image/png": "[encoded data removed]",
      "text/plain": [
       "<Figure size 432x288 with 1 Axes>"
      ]
     },
     "metadata": {},
     "output_type": "display_data"
    }
   ],
   "source": [
    "fig =sns.boxplot(x=df.compra_venda, y=df.volume_usd)\n",
    "#plt.ylim(0, 300000)\n",
    "plt.show(fig)"
   ]
  },
  {
   "cell_type": "markdown",
   "id": "75b73fc9-770e-43d2-b6df-be54bdb9a920",
   "metadata": {},
   "source": [
    "#  Fazendo filtro "
   ]
  },
  {
   "cell_type": "code",
   "execution_count": 52,
   "id": "911f755f-7ec2-4f54-818a-83daae970e93",
   "metadata": {},
   "outputs": [],
   "source": [
    "amostra = df.loc[(df.inicio >= '2020-01') & (df.vencimento <= '2021-03')]"
   ]
  },
  {
   "cell_type": "code",
   "execution_count": 57,
   "id": "0a50f428-94eb-425e-90c0-eed90f90e4b5",
   "metadata": {},
   "outputs": [
    {
     "data": {
      "text/plain": [
       "inicio              datetime64[ns]\n",
       "vencimento          datetime64[ns]\n",
       "prazo                        int64\n",
       "volume_brl                   int64\n",
       "volume_usd                 float64\n",
       "volume_usd_sinal           float64\n",
       "usd                        float64\n",
       "compra_venda                object\n",
       "dtype: object"
      ]
     },
     "execution_count": 57,
     "metadata": {},
     "output_type": "execute_result"
    }
   ],
   "source": [
    "amostra.dtypes"
   ]
  },
  {
   "cell_type": "code",
   "execution_count": 82,
   "id": "0fbbcd61-59db-4944-8bdb-373759467897",
   "metadata": {},
   "outputs": [
    {
     "data": {
      "image/png": "[encoded data removed]",
      "text/plain": [
       "<Figure size 1008x360 with 1 Axes>"
      ]
     },
     "metadata": {},
     "output_type": "display_data"
    }
   ],
   "source": [
    "# Dispersão \n",
    "plt.figure(figsize=(14,5))\n",
    "fig = plt.scatter(amostra.inicio, amostra.volume_usd)\n",
    "plt.xlabel('Início do contrato')\n",
    "plt.ylabel('Volume')\n",
    "plt.show(fig)"
   ]
  },
  {
   "cell_type": "code",
   "execution_count": 79,
   "id": "19060542-995e-49b1-aeb0-1cc8c5948042",
   "metadata": {},
   "outputs": [
    {
     "data": {
      "image/png": "[encoded data removed]",
      "text/plain": [
       "<Figure size 1008x360 with 1 Axes>"
      ]
     },
     "metadata": {},
     "output_type": "display_data"
    }
   ],
   "source": [
    "# gráfico de barras\n",
    "plt.figure(figsize=(14,5))\n",
    "fig = plt.bar(df.inicio, df.volume_usd) # ou df.inicio.dt.month\n",
    "plt.xlabel('Início do contrato')\n",
    "plt.ylabel('Volume')\n",
    "plt.show(fig)"
   ]
  },
  {
   "cell_type": "code",
   "execution_count": 154,
   "id": "d7a2aec2-0a59-4fd0-b6e5-9118ee0f65f7",
   "metadata": {},
   "outputs": [],
   "source": [
    "#tornando a coluna inicio como index\n",
    "df.set_index('inicio', inplace=True)"
   ]
  },
  {
   "cell_type": "code",
   "execution_count": 171,
   "id": "8877c511-e5ac-4af0-a671-fa3d3b80f954",
   "metadata": {},
   "outputs": [
    {
     "data": {
      "text/html": [
       "<div>\n",
       "<style scoped>\n",
       "    .dataframe tbody tr th:only-of-type {\n",
       "        vertical-align: middle;\n",
       "    }\n",
       "\n",
       "    .dataframe tbody tr th {\n",
       "        vertical-align: top;\n",
       "    }\n",
       "\n",
       "    .dataframe thead th {\n",
       "        text-align: right;\n",
       "    }\n",
       "</style>\n",
       "<table border=\"1\" class=\"dataframe\">\n",
       "  <thead>\n",
       "    <tr style=\"text-align: right;\">\n",
       "      <th></th>\n",
       "      <th>prazo</th>\n",
       "      <th>volume_brl</th>\n",
       "      <th>volume_usd</th>\n",
       "      <th>volume_usd_sinal</th>\n",
       "      <th>usd</th>\n",
       "    </tr>\n",
       "    <tr>\n",
       "      <th>inicio</th>\n",
       "      <th></th>\n",
       "      <th></th>\n",
       "      <th></th>\n",
       "      <th></th>\n",
       "      <th></th>\n",
       "    </tr>\n",
       "  </thead>\n",
       "  <tbody>\n",
       "    <tr>\n",
       "      <th>2020-01-31</th>\n",
       "      <td>440.571429</td>\n",
       "      <td>1.361587e+08</td>\n",
       "      <td>7.010682e+08</td>\n",
       "      <td>2.424553e+08</td>\n",
       "      <td>5.142238</td>\n",
       "    </tr>\n",
       "    <tr>\n",
       "      <th>2020-02-29</th>\n",
       "      <td>388.410256</td>\n",
       "      <td>1.588644e+08</td>\n",
       "      <td>8.195026e+08</td>\n",
       "      <td>1.511012e+08</td>\n",
       "      <td>5.159110</td>\n",
       "    </tr>\n",
       "    <tr>\n",
       "      <th>2020-03-31</th>\n",
       "      <td>391.222222</td>\n",
       "      <td>1.455680e+08</td>\n",
       "      <td>7.520725e+08</td>\n",
       "      <td>-1.594407e+08</td>\n",
       "      <td>5.169238</td>\n",
       "    </tr>\n",
       "    <tr>\n",
       "      <th>2020-04-30</th>\n",
       "      <td>319.862069</td>\n",
       "      <td>1.802385e+08</td>\n",
       "      <td>9.155321e+08</td>\n",
       "      <td>-2.097166e+08</td>\n",
       "      <td>5.123496</td>\n",
       "    </tr>\n",
       "    <tr>\n",
       "      <th>2020-05-31</th>\n",
       "      <td>351.717949</td>\n",
       "      <td>1.599567e+08</td>\n",
       "      <td>8.244987e+08</td>\n",
       "      <td>1.145161e+08</td>\n",
       "      <td>5.149709</td>\n",
       "    </tr>\n",
       "  </tbody>\n",
       "</table>\n",
       "</div>"
      ],
      "text/plain": [
       "                 prazo    volume_brl    volume_usd  volume_usd_sinal       usd\n",
       "inicio                                                                        \n",
       "2020-01-31  440.571429  1.361587e+08  7.010682e+08      2.424553e+08  5.142238\n",
       "2020-02-29  388.410256  1.588644e+08  8.195026e+08      1.511012e+08  5.159110\n",
       "2020-03-31  391.222222  1.455680e+08  7.520725e+08     -1.594407e+08  5.169238\n",
       "2020-04-30  319.862069  1.802385e+08  9.155321e+08     -2.097166e+08  5.123496\n",
       "2020-05-31  351.717949  1.599567e+08  8.244987e+08      1.145161e+08  5.149709"
      ]
     },
     "execution_count": 171,
     "metadata": {},
     "output_type": "execute_result"
    }
   ],
   "source": [
    "mes = df.resample('1M').mean()\n",
    "mes.head(5)"
   ]
  },
  {
   "cell_type": "code",
   "execution_count": 172,
   "id": "8017a885-a878-4c31-be23-745a457cbea6",
   "metadata": {},
   "outputs": [
    {
     "data": {
      "text/plain": [
       "inicio\n",
       "2020-01-31    5.649094e+08\n",
       "2020-02-29    6.606381e+08\n",
       "2020-03-31    6.065044e+08\n",
       "2020-04-30    7.352936e+08\n",
       "2020-05-31    6.645420e+08\n",
       "2020-06-30    5.671458e+08\n",
       "Freq: M, dtype: float64"
      ]
     },
     "execution_count": 172,
     "metadata": {},
     "output_type": "execute_result"
    }
   ],
   "source": [
    "net = mes.volume_usd - mes.volume_brl\n",
    "net"
   ]
  },
  {
   "cell_type": "code",
   "execution_count": 179,
   "id": "97f965ea-afd6-4384-9145-7e8358ea7ffb",
   "metadata": {},
   "outputs": [
    {
     "data": {
      "image/png": "[encoded data removed]",
      "text/plain": [
       "<Figure size 1080x360 with 1 Axes>"
      ]
     },
     "metadata": {},
     "output_type": "display_data"
    }
   ],
   "source": [
    "# gráfico de barras\n",
    "plt.figure(figsize=(15,5))\n",
    "fig1 = plt.bar(mes.index, mes.volume_usd) # ou df.inicio.dt.month\n",
    "fig2 = plt.bar(mes.index, mes.volume_brl)\n",
    "fig3 = plt.plot(mes.index, net)\n",
    "#fig4 = plt.plot(mes.index, mes.volume_usd.mean())\n",
    "plt.xlabel('Início do contrato')\n",
    "plt.ylabel('Volume')\n",
    "plt.show()"
   ]
  },
  {
   "cell_type": "markdown",
   "id": "439706f0-dd37-4bab-b731-d0e19ed9baeb",
   "metadata": {},
   "source": [
    "# Estatística descritiva agrupadas \n"
   ]
  },
  {
   "cell_type": "code",
   "execution_count": 89,
   "id": "6cb3229b-68de-435a-9cfa-08f2e1931e11",
   "metadata": {},
   "outputs": [
    {
     "data": {
      "text/html": [
       "<div>\n",
       "<style scoped>\n",
       "    .dataframe tbody tr th:only-of-type {\n",
       "        vertical-align: middle;\n",
       "    }\n",
       "\n",
       "    .dataframe tbody tr th {\n",
       "        vertical-align: top;\n",
       "    }\n",
       "\n",
       "    .dataframe thead th {\n",
       "        text-align: right;\n",
       "    }\n",
       "</style>\n",
       "<table border=\"1\" class=\"dataframe\">\n",
       "  <thead>\n",
       "    <tr style=\"text-align: right;\">\n",
       "      <th></th>\n",
       "      <th>usd</th>\n",
       "    </tr>\n",
       "    <tr>\n",
       "      <th>compra_venda</th>\n",
       "      <th></th>\n",
       "    </tr>\n",
       "  </thead>\n",
       "  <tbody>\n",
       "    <tr>\n",
       "      <th>compra</th>\n",
       "      <td>5.137328</td>\n",
       "    </tr>\n",
       "    <tr>\n",
       "      <th>venda</th>\n",
       "      <td>5.150034</td>\n",
       "    </tr>\n",
       "  </tbody>\n",
       "</table>\n",
       "</div>"
      ],
      "text/plain": [
       "                   usd\n",
       "compra_venda          \n",
       "compra        5.137328\n",
       "venda         5.150034"
      ]
     },
     "execution_count": 89,
     "metadata": {},
     "output_type": "execute_result"
    }
   ],
   "source": [
    "#média do dolar por compra e venda\n",
    "df.groupby('compra_venda').agg({'usd': 'mean'})"
   ]
  },
  {
   "cell_type": "code",
   "execution_count": 92,
   "id": "d34a67fb-339b-4e2e-9dcf-d4e732cfb802",
   "metadata": {},
   "outputs": [
    {
     "data": {
      "text/html": [
       "<div>\n",
       "<style scoped>\n",
       "    .dataframe tbody tr th:only-of-type {\n",
       "        vertical-align: middle;\n",
       "    }\n",
       "\n",
       "    .dataframe tbody tr th {\n",
       "        vertical-align: top;\n",
       "    }\n",
       "\n",
       "    .dataframe thead th {\n",
       "        text-align: right;\n",
       "    }\n",
       "</style>\n",
       "<table border=\"1\" class=\"dataframe\">\n",
       "  <thead>\n",
       "    <tr style=\"text-align: right;\">\n",
       "      <th></th>\n",
       "      <th></th>\n",
       "      <th>usd</th>\n",
       "    </tr>\n",
       "    <tr>\n",
       "      <th>inicio</th>\n",
       "      <th>vencimento</th>\n",
       "      <th></th>\n",
       "    </tr>\n",
       "  </thead>\n",
       "  <tbody>\n",
       "    <tr>\n",
       "      <th>2020-01-01</th>\n",
       "      <th>2021-05-14</th>\n",
       "      <td>5.188571</td>\n",
       "    </tr>\n",
       "    <tr>\n",
       "      <th rowspan=\"2\" valign=\"top\">2020-01-02</th>\n",
       "      <th>2020-11-09</th>\n",
       "      <td>5.136190</td>\n",
       "    </tr>\n",
       "    <tr>\n",
       "      <th>2021-04-06</th>\n",
       "      <td>5.128750</td>\n",
       "    </tr>\n",
       "    <tr>\n",
       "      <th>2020-01-03</th>\n",
       "      <th>2021-03-28</th>\n",
       "      <td>5.149362</td>\n",
       "    </tr>\n",
       "    <tr>\n",
       "      <th>2020-01-04</th>\n",
       "      <th>2021-08-16</th>\n",
       "      <td>5.147013</td>\n",
       "    </tr>\n",
       "    <tr>\n",
       "      <th>...</th>\n",
       "      <th>...</th>\n",
       "      <td>...</td>\n",
       "    </tr>\n",
       "    <tr>\n",
       "      <th>2020-06-25</th>\n",
       "      <th>2021-09-24</th>\n",
       "      <td>5.195714</td>\n",
       "    </tr>\n",
       "    <tr>\n",
       "      <th>2020-06-27</th>\n",
       "      <th>2020-10-07</th>\n",
       "      <td>5.146842</td>\n",
       "    </tr>\n",
       "    <tr>\n",
       "      <th rowspan=\"2\" valign=\"top\">2020-06-29</th>\n",
       "      <th>2020-11-20</th>\n",
       "      <td>5.138261</td>\n",
       "    </tr>\n",
       "    <tr>\n",
       "      <th>2021-11-05</th>\n",
       "      <td>5.060000</td>\n",
       "    </tr>\n",
       "    <tr>\n",
       "      <th>2020-06-30</th>\n",
       "      <th>2021-03-19</th>\n",
       "      <td>5.146486</td>\n",
       "    </tr>\n",
       "  </tbody>\n",
       "</table>\n",
       "<p>199 rows × 1 columns</p>\n",
       "</div>"
      ],
      "text/plain": [
       "                            usd\n",
       "inicio     vencimento          \n",
       "2020-01-01 2021-05-14  5.188571\n",
       "2020-01-02 2020-11-09  5.136190\n",
       "           2021-04-06  5.128750\n",
       "2020-01-03 2021-03-28  5.149362\n",
       "2020-01-04 2021-08-16  5.147013\n",
       "...                         ...\n",
       "2020-06-25 2021-09-24  5.195714\n",
       "2020-06-27 2020-10-07  5.146842\n",
       "2020-06-29 2020-11-20  5.138261\n",
       "           2021-11-05  5.060000\n",
       "2020-06-30 2021-03-19  5.146486\n",
       "\n",
       "[199 rows x 1 columns]"
      ]
     },
     "execution_count": 92,
     "metadata": {},
     "output_type": "execute_result"
    }
   ],
   "source": [
    "#média do dolar por incio e vencimento\n",
    "df.groupby(['inicio','vencimento']).agg({'usd': 'mean'})"
   ]
  },
  {
   "cell_type": "code",
   "execution_count": 96,
   "id": "15395cf2-2b99-40c3-8d5c-0dfb4b34ee0b",
   "metadata": {},
   "outputs": [
    {
     "data": {
      "text/html": [
       "<div>\n",
       "<style scoped>\n",
       "    .dataframe tbody tr th:only-of-type {\n",
       "        vertical-align: middle;\n",
       "    }\n",
       "\n",
       "    .dataframe tbody tr th {\n",
       "        vertical-align: top;\n",
       "    }\n",
       "\n",
       "    .dataframe thead th {\n",
       "        text-align: right;\n",
       "    }\n",
       "</style>\n",
       "<table border=\"1\" class=\"dataframe\">\n",
       "  <thead>\n",
       "    <tr style=\"text-align: right;\">\n",
       "      <th></th>\n",
       "      <th>inicio</th>\n",
       "      <th>usd</th>\n",
       "    </tr>\n",
       "  </thead>\n",
       "  <tbody>\n",
       "    <tr>\n",
       "      <th>0</th>\n",
       "      <td>2020-01-01</td>\n",
       "      <td>5.188571</td>\n",
       "    </tr>\n",
       "    <tr>\n",
       "      <th>1</th>\n",
       "      <td>2020-01-02</td>\n",
       "      <td>5.132470</td>\n",
       "    </tr>\n",
       "    <tr>\n",
       "      <th>2</th>\n",
       "      <td>2020-01-03</td>\n",
       "      <td>5.149362</td>\n",
       "    </tr>\n",
       "    <tr>\n",
       "      <th>3</th>\n",
       "      <td>2020-01-04</td>\n",
       "      <td>5.147013</td>\n",
       "    </tr>\n",
       "    <tr>\n",
       "      <th>4</th>\n",
       "      <td>2020-01-05</td>\n",
       "      <td>5.149796</td>\n",
       "    </tr>\n",
       "    <tr>\n",
       "      <th>...</th>\n",
       "      <td>...</td>\n",
       "      <td>...</td>\n",
       "    </tr>\n",
       "    <tr>\n",
       "      <th>110</th>\n",
       "      <td>2020-06-24</td>\n",
       "      <td>5.200000</td>\n",
       "    </tr>\n",
       "    <tr>\n",
       "      <th>111</th>\n",
       "      <td>2020-06-25</td>\n",
       "      <td>5.172252</td>\n",
       "    </tr>\n",
       "    <tr>\n",
       "      <th>112</th>\n",
       "      <td>2020-06-27</td>\n",
       "      <td>5.146842</td>\n",
       "    </tr>\n",
       "    <tr>\n",
       "      <th>113</th>\n",
       "      <td>2020-06-29</td>\n",
       "      <td>5.099130</td>\n",
       "    </tr>\n",
       "    <tr>\n",
       "      <th>114</th>\n",
       "      <td>2020-06-30</td>\n",
       "      <td>5.146486</td>\n",
       "    </tr>\n",
       "  </tbody>\n",
       "</table>\n",
       "<p>115 rows × 2 columns</p>\n",
       "</div>"
      ],
      "text/plain": [
       "        inicio       usd\n",
       "0   2020-01-01  5.188571\n",
       "1   2020-01-02  5.132470\n",
       "2   2020-01-03  5.149362\n",
       "3   2020-01-04  5.147013\n",
       "4   2020-01-05  5.149796\n",
       "..         ...       ...\n",
       "110 2020-06-24  5.200000\n",
       "111 2020-06-25  5.172252\n",
       "112 2020-06-27  5.146842\n",
       "113 2020-06-29  5.099130\n",
       "114 2020-06-30  5.146486\n",
       "\n",
       "[115 rows x 2 columns]"
      ]
     },
     "execution_count": 96,
     "metadata": {},
     "output_type": "execute_result"
    }
   ],
   "source": [
    "amostra2 = df.groupby('inicio').agg({'usd':'mean'})\n",
    "amostra2.reset_index(inplace=True)\n",
    "amostra2"
   ]
  },
  {
   "cell_type": "code",
   "execution_count": 101,
   "id": "91ac0063-429e-4587-8ccd-8dc7db804821",
   "metadata": {},
   "outputs": [
    {
     "data": {
      "image/png": "[encoded data removed]",
      "text/plain": [
       "<Figure size 1008x360 with 1 Axes>"
      ]
     },
     "metadata": {},
     "output_type": "display_data"
    }
   ],
   "source": [
    "plt.figure(figsize=(14,5))\n",
    "fig = sns.lineplot(x=amostra2.inicio, y=amostra2.usd)\n",
    "plt.show(fig)"
   ]
  },
  {
   "cell_type": "code",
   "execution_count": 107,
   "id": "6f6bedc5-1cfd-4a44-9048-b40ad0c212c9",
   "metadata": {},
   "outputs": [],
   "source": [
    "amostra3 = amostra2.loc[(amostra2.inicio >= '2020-05') & (amostra2.inicio <= '2020-07')]"
   ]
  },
  {
   "cell_type": "code",
   "execution_count": 108,
   "id": "507ae83b-84ed-42f2-89c6-abba1ab65a0c",
   "metadata": {},
   "outputs": [
    {
     "data": {
      "image/png": "[encoded data removed]",
      "text/plain": [
       "<Figure size 1008x360 with 1 Axes>"
      ]
     },
     "metadata": {},
     "output_type": "display_data"
    }
   ],
   "source": [
    "plt.figure(figsize=(14,5))\n",
    "fig = sns.lineplot(x=amostra3.inicio, y=amostra3.usd)\n",
    "plt.show(fig)"
   ]
  },
  {
   "cell_type": "code",
   "execution_count": null,
   "id": "164f2bb1-d429-4afd-a79a-d5a76288f9a4",
   "metadata": {},
   "outputs": [],
   "source": [
    "#tornando a coluna inicio como index\n",
    "df.set_index('inicio', inplace=True)"
   ]
  },
  {
   "cell_type": "code",
   "execution_count": 119,
   "id": "3cbb4ccd-9723-49f0-b705-677f9d96e408",
   "metadata": {},
   "outputs": [
    {
     "data": {
      "text/html": [
       "<div>\n",
       "<style scoped>\n",
       "    .dataframe tbody tr th:only-of-type {\n",
       "        vertical-align: middle;\n",
       "    }\n",
       "\n",
       "    .dataframe tbody tr th {\n",
       "        vertical-align: top;\n",
       "    }\n",
       "\n",
       "    .dataframe thead th {\n",
       "        text-align: right;\n",
       "    }\n",
       "</style>\n",
       "<table border=\"1\" class=\"dataframe\">\n",
       "  <thead>\n",
       "    <tr style=\"text-align: right;\">\n",
       "      <th></th>\n",
       "      <th>prazo</th>\n",
       "      <th>volume_brl</th>\n",
       "      <th>volume_usd</th>\n",
       "      <th>volume_usd_sinal</th>\n",
       "      <th>usd</th>\n",
       "    </tr>\n",
       "    <tr>\n",
       "      <th>inicio</th>\n",
       "      <th></th>\n",
       "      <th></th>\n",
       "      <th></th>\n",
       "      <th></th>\n",
       "      <th></th>\n",
       "    </tr>\n",
       "  </thead>\n",
       "  <tbody>\n",
       "    <tr>\n",
       "      <th>2020-01-31</th>\n",
       "      <td>1.579063e+18</td>\n",
       "      <td>1.361587e+08</td>\n",
       "      <td>7.010682e+08</td>\n",
       "      <td>2.424553e+08</td>\n",
       "      <td>5.142238</td>\n",
       "    </tr>\n",
       "    <tr>\n",
       "      <th>2020-03-31</th>\n",
       "      <td>1.582795e+18</td>\n",
       "      <td>1.524822e+08</td>\n",
       "      <td>7.871361e+08</td>\n",
       "      <td>2.041082e+06</td>\n",
       "      <td>5.163971</td>\n",
       "    </tr>\n",
       "    <tr>\n",
       "      <th>2020-05-31</th>\n",
       "      <td>1.588633e+18</td>\n",
       "      <td>1.686063e+08</td>\n",
       "      <td>8.625425e+08</td>\n",
       "      <td>-2.098412e+07</td>\n",
       "      <td>5.138755</td>\n",
       "    </tr>\n",
       "    <tr>\n",
       "      <th>2020-07-31</th>\n",
       "      <td>1.592140e+18</td>\n",
       "      <td>1.379914e+08</td>\n",
       "      <td>7.051372e+08</td>\n",
       "      <td>1.341265e+08</td>\n",
       "      <td>5.106143</td>\n",
       "    </tr>\n",
       "  </tbody>\n",
       "</table>\n",
       "</div>"
      ],
      "text/plain": [
       "                   prazo    volume_brl    volume_usd  volume_usd_sinal  \\\n",
       "inicio                                                                   \n",
       "2020-01-31  1.579063e+18  1.361587e+08  7.010682e+08      2.424553e+08   \n",
       "2020-03-31  1.582795e+18  1.524822e+08  7.871361e+08      2.041082e+06   \n",
       "2020-05-31  1.588633e+18  1.686063e+08  8.625425e+08     -2.098412e+07   \n",
       "2020-07-31  1.592140e+18  1.379914e+08  7.051372e+08      1.341265e+08   \n",
       "\n",
       "                 usd  \n",
       "inicio                \n",
       "2020-01-31  5.142238  \n",
       "2020-03-31  5.163971  \n",
       "2020-05-31  5.138755  \n",
       "2020-07-31  5.106143  "
      ]
     },
     "execution_count": 119,
     "metadata": {},
     "output_type": "execute_result"
    }
   ],
   "source": [
    "#redimensionando as datas (só funciona no index)\n",
    "#bimestral '2M', trimestral 'Q'\n",
    "bim = df.resample('2M').mean()\n",
    "bim.head(5)"
   ]
  },
  {
   "cell_type": "code",
   "execution_count": 129,
   "id": "884c35ae-80c7-4bd8-87dd-09a59ed7401d",
   "metadata": {},
   "outputs": [
    {
     "data": {
      "text/html": [
       "<div>\n",
       "<style scoped>\n",
       "    .dataframe tbody tr th:only-of-type {\n",
       "        vertical-align: middle;\n",
       "    }\n",
       "\n",
       "    .dataframe tbody tr th {\n",
       "        vertical-align: top;\n",
       "    }\n",
       "\n",
       "    .dataframe thead th {\n",
       "        text-align: right;\n",
       "    }\n",
       "</style>\n",
       "<table border=\"1\" class=\"dataframe\">\n",
       "  <thead>\n",
       "    <tr style=\"text-align: right;\">\n",
       "      <th></th>\n",
       "      <th>usd</th>\n",
       "    </tr>\n",
       "    <tr>\n",
       "      <th>inicio</th>\n",
       "      <th></th>\n",
       "    </tr>\n",
       "  </thead>\n",
       "  <tbody>\n",
       "    <tr>\n",
       "      <th>2020-01-31</th>\n",
       "      <td>5.142238</td>\n",
       "    </tr>\n",
       "    <tr>\n",
       "      <th>2020-03-31</th>\n",
       "      <td>5.163971</td>\n",
       "    </tr>\n",
       "    <tr>\n",
       "      <th>2020-05-31</th>\n",
       "      <td>5.138755</td>\n",
       "    </tr>\n",
       "    <tr>\n",
       "      <th>2020-07-31</th>\n",
       "      <td>5.106143</td>\n",
       "    </tr>\n",
       "  </tbody>\n",
       "</table>\n",
       "</div>"
      ],
      "text/plain": [
       "                 usd\n",
       "inicio              \n",
       "2020-01-31  5.142238\n",
       "2020-03-31  5.163971\n",
       "2020-05-31  5.138755\n",
       "2020-07-31  5.106143"
      ]
     },
     "execution_count": 129,
     "metadata": {},
     "output_type": "execute_result"
    }
   ],
   "source": [
    "bim = bim[['usd']]\n",
    "bim"
   ]
  },
  {
   "cell_type": "markdown",
   "id": "be7e0aa1-37e8-4336-b619-4352816eb64a",
   "metadata": {},
   "source": [
    "# Análise de Tendência (rolling) utilizando Janelas Móveis"
   ]
  },
  {
   "cell_type": "code",
   "execution_count": 122,
   "id": "455fcdbe-bff2-479c-aa92-8d6a6fc5135f",
   "metadata": {},
   "outputs": [],
   "source": [
    "from statsmodels.tsa.stattools import adfuller\n",
    "import pytz"
   ]
  },
  {
   "cell_type": "code",
   "execution_count": 130,
   "id": "d5c44fbb-7560-433b-afa9-3891fc8e0ffb",
   "metadata": {},
   "outputs": [
    {
     "data": {
      "text/html": [
       "<div>\n",
       "<style scoped>\n",
       "    .dataframe tbody tr th:only-of-type {\n",
       "        vertical-align: middle;\n",
       "    }\n",
       "\n",
       "    .dataframe tbody tr th {\n",
       "        vertical-align: top;\n",
       "    }\n",
       "\n",
       "    .dataframe thead th {\n",
       "        text-align: right;\n",
       "    }\n",
       "</style>\n",
       "<table border=\"1\" class=\"dataframe\">\n",
       "  <thead>\n",
       "    <tr style=\"text-align: right;\">\n",
       "      <th></th>\n",
       "      <th>usd</th>\n",
       "    </tr>\n",
       "    <tr>\n",
       "      <th>inicio</th>\n",
       "      <th></th>\n",
       "    </tr>\n",
       "  </thead>\n",
       "  <tbody>\n",
       "    <tr>\n",
       "      <th>2020-01-31</th>\n",
       "      <td>NaN</td>\n",
       "    </tr>\n",
       "    <tr>\n",
       "      <th>2020-03-31</th>\n",
       "      <td>NaN</td>\n",
       "    </tr>\n",
       "    <tr>\n",
       "      <th>2020-05-31</th>\n",
       "      <td>5.153104</td>\n",
       "    </tr>\n",
       "    <tr>\n",
       "      <th>2020-07-31</th>\n",
       "      <td>5.151363</td>\n",
       "    </tr>\n",
       "  </tbody>\n",
       "</table>\n",
       "</div>"
      ],
      "text/plain": [
       "                 usd\n",
       "inicio              \n",
       "2020-01-31       NaN\n",
       "2020-03-31       NaN\n",
       "2020-05-31  5.153104\n",
       "2020-07-31  5.151363"
      ]
     },
     "execution_count": 130,
     "metadata": {},
     "output_type": "execute_result"
    }
   ],
   "source": [
    "#fazendo a janela movel (2 meses) mensal\n",
    "#periodo: mensal\n",
    "indexer = pd.api.indexers.FixedForwardWindowIndexer(window_size=2)\n",
    "rolling_mean = bim.rolling(window=indexer, min_periods=2).mean()\n",
    "rolling_mean = rolling_mean.shift(2) #deslocamento da janela = 2 meses\n",
    "rolling_mean"
   ]
  },
  {
   "cell_type": "markdown",
   "id": "322964e3-0661-4232-bacd-0ac24c7b4a81",
   "metadata": {},
   "source": [
    "# Análise de sazonalidade "
   ]
  },
  {
   "cell_type": "code",
   "execution_count": 137,
   "id": "ac6651ad-7b92-4f3d-a5c0-631583ef152b",
   "metadata": {},
   "outputs": [
    {
     "data": {
      "text/html": [
       "<div>\n",
       "<style scoped>\n",
       "    .dataframe tbody tr th:only-of-type {\n",
       "        vertical-align: middle;\n",
       "    }\n",
       "\n",
       "    .dataframe tbody tr th {\n",
       "        vertical-align: top;\n",
       "    }\n",
       "\n",
       "    .dataframe thead th {\n",
       "        text-align: right;\n",
       "    }\n",
       "</style>\n",
       "<table border=\"1\" class=\"dataframe\">\n",
       "  <thead>\n",
       "    <tr style=\"text-align: right;\">\n",
       "      <th></th>\n",
       "      <th>inicio</th>\n",
       "      <th>usd</th>\n",
       "    </tr>\n",
       "  </thead>\n",
       "  <tbody>\n",
       "    <tr>\n",
       "      <th>0</th>\n",
       "      <td>2020-06-24</td>\n",
       "      <td>5.200000</td>\n",
       "    </tr>\n",
       "    <tr>\n",
       "      <th>1</th>\n",
       "      <td>2020-03-19</td>\n",
       "      <td>5.178182</td>\n",
       "    </tr>\n",
       "    <tr>\n",
       "      <th>2</th>\n",
       "      <td>2020-02-06</td>\n",
       "      <td>5.193333</td>\n",
       "    </tr>\n",
       "    <tr>\n",
       "      <th>3</th>\n",
       "      <td>2020-06-16</td>\n",
       "      <td>5.171236</td>\n",
       "    </tr>\n",
       "    <tr>\n",
       "      <th>4</th>\n",
       "      <td>2020-03-10</td>\n",
       "      <td>5.171494</td>\n",
       "    </tr>\n",
       "    <tr>\n",
       "      <th>...</th>\n",
       "      <td>...</td>\n",
       "      <td>...</td>\n",
       "    </tr>\n",
       "    <tr>\n",
       "      <th>194</th>\n",
       "      <td>2020-06-08</td>\n",
       "      <td>5.170526</td>\n",
       "    </tr>\n",
       "    <tr>\n",
       "      <th>195</th>\n",
       "      <td>2020-05-22</td>\n",
       "      <td>5.182222</td>\n",
       "    </tr>\n",
       "    <tr>\n",
       "      <th>196</th>\n",
       "      <td>2020-05-20</td>\n",
       "      <td>5.175385</td>\n",
       "    </tr>\n",
       "    <tr>\n",
       "      <th>197</th>\n",
       "      <td>2020-03-19</td>\n",
       "      <td>5.146842</td>\n",
       "    </tr>\n",
       "    <tr>\n",
       "      <th>198</th>\n",
       "      <td>2020-06-09</td>\n",
       "      <td>4.160000</td>\n",
       "    </tr>\n",
       "  </tbody>\n",
       "</table>\n",
       "<p>199 rows × 2 columns</p>\n",
       "</div>"
      ],
      "text/plain": [
       "        inicio       usd\n",
       "0   2020-06-24  5.200000\n",
       "1   2020-03-19  5.178182\n",
       "2   2020-02-06  5.193333\n",
       "3   2020-06-16  5.171236\n",
       "4   2020-03-10  5.171494\n",
       "..         ...       ...\n",
       "194 2020-06-08  5.170526\n",
       "195 2020-05-22  5.182222\n",
       "196 2020-05-20  5.175385\n",
       "197 2020-03-19  5.146842\n",
       "198 2020-06-09  4.160000\n",
       "\n",
       "[199 rows x 2 columns]"
      ]
     },
     "execution_count": 137,
     "metadata": {},
     "output_type": "execute_result"
    }
   ],
   "source": [
    "usd = df[['inicio','usd']]\n",
    "usd"
   ]
  },
  {
   "cell_type": "code",
   "execution_count": 139,
   "id": "b112836b-e5e7-45f7-988a-04dbcf71a11b",
   "metadata": {},
   "outputs": [
    {
     "data": {
      "text/html": [
       "<div>\n",
       "<style scoped>\n",
       "    .dataframe tbody tr th:only-of-type {\n",
       "        vertical-align: middle;\n",
       "    }\n",
       "\n",
       "    .dataframe tbody tr th {\n",
       "        vertical-align: top;\n",
       "    }\n",
       "\n",
       "    .dataframe thead th {\n",
       "        text-align: right;\n",
       "    }\n",
       "</style>\n",
       "<table border=\"1\" class=\"dataframe\">\n",
       "  <thead>\n",
       "    <tr style=\"text-align: right;\">\n",
       "      <th></th>\n",
       "      <th>usd</th>\n",
       "    </tr>\n",
       "    <tr>\n",
       "      <th>inicio</th>\n",
       "      <th></th>\n",
       "    </tr>\n",
       "  </thead>\n",
       "  <tbody>\n",
       "    <tr>\n",
       "      <th>2020-06-24</th>\n",
       "      <td>5.200000</td>\n",
       "    </tr>\n",
       "    <tr>\n",
       "      <th>2020-03-19</th>\n",
       "      <td>5.178182</td>\n",
       "    </tr>\n",
       "    <tr>\n",
       "      <th>2020-02-06</th>\n",
       "      <td>5.193333</td>\n",
       "    </tr>\n",
       "    <tr>\n",
       "      <th>2020-06-16</th>\n",
       "      <td>5.171236</td>\n",
       "    </tr>\n",
       "    <tr>\n",
       "      <th>2020-03-10</th>\n",
       "      <td>5.171494</td>\n",
       "    </tr>\n",
       "    <tr>\n",
       "      <th>...</th>\n",
       "      <td>...</td>\n",
       "    </tr>\n",
       "    <tr>\n",
       "      <th>2020-06-08</th>\n",
       "      <td>5.170526</td>\n",
       "    </tr>\n",
       "    <tr>\n",
       "      <th>2020-05-22</th>\n",
       "      <td>5.182222</td>\n",
       "    </tr>\n",
       "    <tr>\n",
       "      <th>2020-05-20</th>\n",
       "      <td>5.175385</td>\n",
       "    </tr>\n",
       "    <tr>\n",
       "      <th>2020-03-19</th>\n",
       "      <td>5.146842</td>\n",
       "    </tr>\n",
       "    <tr>\n",
       "      <th>2020-06-09</th>\n",
       "      <td>4.160000</td>\n",
       "    </tr>\n",
       "  </tbody>\n",
       "</table>\n",
       "<p>199 rows × 1 columns</p>\n",
       "</div>"
      ],
      "text/plain": [
       "                 usd\n",
       "inicio              \n",
       "2020-06-24  5.200000\n",
       "2020-03-19  5.178182\n",
       "2020-02-06  5.193333\n",
       "2020-06-16  5.171236\n",
       "2020-03-10  5.171494\n",
       "...              ...\n",
       "2020-06-08  5.170526\n",
       "2020-05-22  5.182222\n",
       "2020-05-20  5.175385\n",
       "2020-03-19  5.146842\n",
       "2020-06-09  4.160000\n",
       "\n",
       "[199 rows x 1 columns]"
      ]
     },
     "execution_count": 139,
     "metadata": {},
     "output_type": "execute_result"
    }
   ],
   "source": [
    "usd.set_index('inicio', inplace=True)\n",
    "usd"
   ]
  },
  {
   "cell_type": "code",
   "execution_count": 140,
   "id": "7201e9c6-24b2-4ebd-866d-2acecca8bb50",
   "metadata": {},
   "outputs": [
    {
     "data": {
      "text/plain": [
       "<AxesSubplot:xlabel='inicio'>"
      ]
     },
     "execution_count": 140,
     "metadata": {},
     "output_type": "execute_result"
    },
    {
     "data": {
      "image/png": "[encoded data removed]",
      "text/plain": [
       "<Figure size 1080x432 with 1 Axes>"
      ]
     },
     "metadata": {},
     "output_type": "display_data"
    }
   ],
   "source": [
    "usd.diff().plot(figsize=(15,6))"
   ]
  },
  {
   "cell_type": "code",
   "execution_count": 143,
   "id": "39121f59-bad2-4146-bf92-a9b6c0cefaf1",
   "metadata": {},
   "outputs": [],
   "source": [
    "#filtarndo as datas \n",
    "filtro = (usd.index >= '2020-04') & (usd.index <= '2020-06')"
   ]
  },
  {
   "cell_type": "code",
   "execution_count": 144,
   "id": "5523d061-7c2f-4bbd-b4a2-0d399b5f1cbf",
   "metadata": {},
   "outputs": [
    {
     "data": {
      "text/plain": [
       "<AxesSubplot:xlabel='inicio'>"
      ]
     },
     "execution_count": 144,
     "metadata": {},
     "output_type": "execute_result"
    },
    {
     "data": {
      "image/png": "[encoded data removed]",
      "text/plain": [
       "<Figure size 1080x432 with 1 Axes>"
      ]
     },
     "metadata": {},
     "output_type": "display_data"
    }
   ],
   "source": [
    "usd[filtro].diff().plot(figsize=(15,6))"
   ]
  },
  {
   "cell_type": "markdown",
   "id": "331089c8-90e4-4a80-8061-84ee77cf3eea",
   "metadata": {},
   "source": [
    "# Análise de Tendência\n"
   ]
  },
  {
   "cell_type": "code",
   "execution_count": 145,
   "id": "e09e734d-2f2e-401a-9a80-9d9be15553af",
   "metadata": {},
   "outputs": [],
   "source": [
    "# função para plotar média móvel\n",
    "\n",
    "def plot_mediamovel(timeseries):\n",
    "    \n",
    "    rolmean = timeseries.rolling(12).mean\n",
    "    plt.figure(figsize=(15,6))\n",
    "    orig = plt.plot(timeseries, color='blue', label='Original')\n",
    "    mean = plt.plot(rolmean, color='red', label='Média móvel 12 meses')\n",
    "    plt.legend(loc='best')\n",
    "    plt.title('Valor original e média móvel dos 12 meses')\n",
    "    plt.show(block=false)"
   ]
  },
  {
   "cell_type": "code",
   "execution_count": 152,
   "id": "667ad113-c625-4a66-8f23-9b01232b0028",
   "metadata": {},
   "outputs": [],
   "source": [
    "#outra forma de extrair a média móvel usando groupby\n",
    "#usd.groupby(usd.index.year).sum().plot(figsize=(15,6))"
   ]
  }
 ],
 "metadata": {
  "kernelspec": {
   "display_name": "Python 3",
   "language": "python",
   "name": "python3"
  },
  "language_info": {
   "codemirror_mode": {
    "name": "ipython",
    "version": 3
   },
   "file_extension": ".py",
   "mimetype": "text/x-python",
   "name": "python",
   "nbconvert_exporter": "python",
   "pygments_lexer": "ipython3",
   "version": "3.8.8"
  }
 },
 "nbformat": 4,
 "nbformat_minor": 5
}
