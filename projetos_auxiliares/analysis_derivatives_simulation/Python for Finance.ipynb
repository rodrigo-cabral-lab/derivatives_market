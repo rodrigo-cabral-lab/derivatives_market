{
 "cells": [
  {
   "cell_type": "markdown",
   "id": "69df6cd3-5e73-4243-a706-f0b427a9d5b5",
   "metadata": {},
   "source": [
    "# Alguns GitHub\n",
    "\n",
    "- Python for Finance (O'Reilly) - Exercícios resolvidos: https://github.com/yhilpisch/py4fi\n",
    "- Python-for-Financial-Analysis: https://github.com/Bohaukish/Python-for-Financial-Analysis\n",
    "- Portfolio-Trading-Stategy: https://github.com/charpeamol/Portfolio-Trading-Stategy/blob/main/GROUP%20WORK%203%20(1).ipynb\n",
    "- Quant: https://github.com/goldmansachs/gs-quant/tree/master/gs_quant\n",
    "- FinanceOps: https://github.com/Hvass-Labs/FinanceOps\n",
    "- Quantitative finance research tools in python: https://github.com/marketneutral/alphatools\n",
    "- Machine Learning and Reinforcement Learning in Finance: https://github.com/joelowj/Machine-Learning-and-Reinforcement-Learning-in-Finance"
   ]
  }
 ],
 "metadata": {
  "kernelspec": {
   "display_name": "Python 3",
   "language": "python",
   "name": "python3"
  },
  "language_info": {
   "codemirror_mode": {
    "name": "ipython",
    "version": 3
   },
   "file_extension": ".py",
   "mimetype": "text/x-python",
   "name": "python",
   "nbconvert_exporter": "python",
   "pygments_lexer": "ipython3",
   "version": "3.8.8"
  }
 },
 "nbformat": 4,
 "nbformat_minor": 5
}
