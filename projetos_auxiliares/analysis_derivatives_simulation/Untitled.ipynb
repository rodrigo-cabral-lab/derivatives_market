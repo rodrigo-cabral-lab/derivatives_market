{
 "cells": [
  {
   "cell_type": "markdown",
   "id": "80ddd980-5886-4072-b6c8-6bc1ed2fa9e7",
   "metadata": {},
   "source": [
    "# Storytelling with data"
   ]
  },
  {
   "cell_type": "markdown",
   "id": "7cc91c84-3f76-4fc2-9775-f55ef6588fef",
   "metadata": {},
   "source": [
    "# Github\n",
    "\n",
    "- storytelling-with-data (Python + matplotlib): https://github.com/empathy87/storytelling-with-data\n",
    "- Storytelling with Data: https://github.com/ContextLab/storytelling-with-data\n",
    "- Unit 1 - Sprint 1 - Data Wrangling and Storytelling: https://github.com/nikibhatt/DS-Unit-1-Sprint-1-Data-Wrangling-and-Storytelling\n",
    "- Unit 1 - Sprint 2 - Data Wrangling and Storytelling: https://github.com/bloominstituteoftechnology/DS-Unit-1-Sprint-2-Data-Wrangling-and-Storytelling"
   ]
  },
  {
   "cell_type": "code",
   "execution_count": null,
   "id": "058f8a55-323e-45b5-96de-bed3f2360044",
   "metadata": {},
   "outputs": [],
   "source": []
  }
 ],
 "metadata": {
  "kernelspec": {
   "display_name": "Python 3",
   "language": "python",
   "name": "python3"
  },
  "language_info": {
   "codemirror_mode": {
    "name": "ipython",
    "version": 3
   },
   "file_extension": ".py",
   "mimetype": "text/x-python",
   "name": "python",
   "nbconvert_exporter": "python",
   "pygments_lexer": "ipython3",
   "version": "3.8.8"
  }
 },
 "nbformat": 4,
 "nbformat_minor": 5
}
