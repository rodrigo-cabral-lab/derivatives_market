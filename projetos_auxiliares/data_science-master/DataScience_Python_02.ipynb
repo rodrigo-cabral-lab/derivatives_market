{
 "cells": [
  {
   "cell_type": "markdown",
   "metadata": {},
   "source": [
    "# Data Science com Python <img src=\"https://upload.wikimedia.org/wikipedia/commons/thumb/c/c3/Python-logo-notext.svg/1024px-Python-logo-notext.svg.png\" width=\"40\" height=\"40\" align=\"center\"/> \n",
    "## Parte 02: Gráfico de barras\n",
    "\n",
    "Gráficos de barras são utilizados para comparar estatísticas de dados categóricos. Considerando o exemplo do crescimento populacional, podemos estar interessados em comparar a média populacional de um subconjunto de países.\n",
    "\n",
    "Faremos a comparação da média populacional dos Estados Unidos, Brasil e Canadá."
   ]
  },
  {
   "cell_type": "code",
   "execution_count": 2,
   "metadata": {},
   "outputs": [],
   "source": [
    "import pandas as pd\n",
    "\n",
    "countries = pd.read_csv('https://raw.githubusercontent.com/ronaldolagepessoa/data_science/master/dados/countries.csv')\n",
    "usa = countries[countries.country == 'United States'].copy()\n",
    "brazil = countries[countries.country == 'Brazil'].copy()\n",
    "canada = countries[countries.country == 'Canada'].copy()"
   ]
  },
  {
   "cell_type": "markdown",
   "metadata": {},
   "source": [
    "Para calcular a média populacional, utilizaremos o comando [```DataFrame.mean()```](https://pandas.pydata.org/pandas-docs/stable/reference/api/pandas.DataFrame.mean.html). Abaixo, temos um exemplo de aplicação do comando."
   ]
  },
  {
   "cell_type": "code",
   "execution_count": 2,
   "metadata": {},
   "outputs": [
    {
     "data": {
      "text/plain": [
       "year               1979.5\n",
       "population    228211232.5\n",
       "dtype: float64"
      ]
     },
     "execution_count": 2,
     "metadata": {},
     "output_type": "execute_result"
    }
   ],
   "source": [
    "usa.mean()"
   ]
  },
  {
   "cell_type": "markdown",
   "metadata": {},
   "source": [
    "Aplicando o comando temos, como resultado, as médias das colunas numéricas (nesse caso o ano e a população). Para aplicar a média em uma coluna específica (```Series```), utilizamos a notação ```DataFrame.nome_da_coluna.mean()```, i.e., ```Series.mean()```.  "
   ]
  },
  {
   "cell_type": "code",
   "execution_count": 3,
   "metadata": {},
   "outputs": [
    {
     "data": {
      "text/plain": [
       "228211232.5"
      ]
     },
     "execution_count": 3,
     "metadata": {},
     "output_type": "execute_result"
    }
   ],
   "source": [
    "usa.population.mean()"
   ]
  },
  {
   "cell_type": "markdown",
   "metadata": {},
   "source": [
    "Faremos agora, a criação do gráfico de barras utilizando a biblioteca o comando [```plt.bar(barras, alturas)```](https://matplotlib.org/3.1.1/api/_as_gen/matplotlib.pyplot.bar.html). Para as barras, passaremos a lista ```['USA', 'BR', 'CAN']``` e, para as alturas, passaremos a lista das médias populacionais."
   ]
  },
  {
   "cell_type": "code",
   "execution_count": 3,
   "metadata": {},
   "outputs": [
    {
     "data": {
      "text/plain": [
       "Text(0.5, 1.0, 'Média populacional')"
      ]
     },
     "execution_count": 3,
     "metadata": {},
     "output_type": "execute_result"
    },
    {
     "data": {
      "image/png": "[encoded data removed]",
      "text/plain": [
       "<Figure size 432x288 with 1 Axes>"
      ]
     },
     "metadata": {
      "needs_background": "light"
     },
     "output_type": "display_data"
    }
   ],
   "source": [
    "import matplotlib.pyplot as plt\n",
    "\n",
    "barras = ['USA', 'BR', 'CAN']\n",
    "alturas = [usa.population.mean(), brazil.population.mean(), canada.population.mean()]\n",
    "plt.bar(barras, alturas)\n",
    "plt.title('Média populacional')"
   ]
  },
  {
   "cell_type": "markdown",
   "metadata": {},
   "source": [
    "\n",
    "Podemos utilizar o mesmo procedimento para plotar o gráfico crescimento percentual médio.\n",
    "\n",
    "Criamos, primeiro, as colunas contendo o crescimento relativo percentual."
   ]
  },
  {
   "cell_type": "code",
   "execution_count": 4,
   "metadata": {},
   "outputs": [],
   "source": [
    "usa['rel_population'] = usa.population / usa.iloc[0, 2] * 100\n",
    "brazil['rel_population'] = brazil.population / brazil.iloc[0, 2] * 100\n",
    "canada['rel_population'] = canada.population / canada.iloc[0, 2] * 100"
   ]
  },
  {
   "cell_type": "markdown",
   "metadata": {},
   "source": [
    "Em seguida, geramos o gráfico de barras contendo as médias."
   ]
  },
  {
   "cell_type": "code",
   "execution_count": 5,
   "metadata": {},
   "outputs": [
    {
     "data": {
      "text/plain": [
       "Text(0, 0.5, 'População média')"
      ]
     },
     "execution_count": 5,
     "metadata": {},
     "output_type": "execute_result"
    },
    {
     "data": {
      "image/png": "[encoded data removed]",
      "text/plain": [
       "<Figure size 432x288 with 1 Axes>"
      ]
     },
     "metadata": {
      "needs_background": "light"
     },
     "output_type": "display_data"
    }
   ],
   "source": [
    "barras = ['USA', 'BR', 'CAN']\n",
    "alturas = [usa.rel_population.mean(), brazil.rel_population.mean(), canada.rel_population.mean()]\n",
    "plt.bar(barras, alturas)\n",
    "plt.title('Crescimento médio populacional')\n",
    "plt.ylabel('População média')"
   ]
  },
  {
   "cell_type": "markdown",
   "metadata": {},
   "source": [
    "Criaremos agora, um gráfico de barras contendo as 6 maiores populações no ano de 2007. Para tanto, criaremos uma cópia do ```DataFrame``` ```countries```, filtrando somente os valores correspondentes ao ano de 2007."
   ]
  },
  {
   "cell_type": "code",
   "execution_count": 11,
   "metadata": {},
   "outputs": [],
   "source": [
    "countries_2007 = countries[countries.year == 2007].copy()"
   ]
  },
  {
   "cell_type": "markdown",
   "metadata": {},
   "source": [
    "O ```DataFrame``` está organizado em ordem alfabética do nome dos países. Faremos a ordenação por população utilizando o comando [```DataFrame.sort_values(by=nome_da_coluna)```](https://pandas.pydata.org/pandas-docs/stable/reference/api/pandas.DataFrame.sort_values.html). O comando fará a ordenação do menor valor para o maior, especificando a coluna de referência para a ordenação através da definição do parâmetro ```by```. Para inverter a ordem da ordenação, definimos o parâmetro ```ascending=False``` e, para efetuar a modificação no ```DataFrame```, definimos também o parâmetro ```inplace=True```."
   ]
  },
  {
   "cell_type": "code",
   "execution_count": 13,
   "metadata": {},
   "outputs": [],
   "source": [
    "countries_2007.sort_values(by='population', ascending=False, inplace=True)"
   ]
  },
  {
   "cell_type": "markdown",
   "metadata": {},
   "source": [
    "Como estamos interessados somente nas 5 maiores populações, utilizamos o comando ```Series.head(6)``` para copiar as 6 primeiras linhas da tabela. Para facilitar o uso do código, atribuiremos o valor 6 à variável ```n```. O gráfico resultante pode ficar pequeno para plotar 6 barras. Para alterar o tamanho do gráfico, aprescentemos o comando [```plt.figure(figsize=(largura, altura))```](https://matplotlib.org/3.2.1/api/_as_gen/matplotlib.pyplot.figure.html). Nesse caso, modificaremos as dimensões do gráfico para ```largura=8``` e ```altura=4```."
   ]
  },
  {
   "cell_type": "code",
   "execution_count": 18,
   "metadata": {},
   "outputs": [
    {
     "data": {
      "text/plain": [
       "Text(0.5, 1.0, 'Os 6 países mais populosos')"
      ]
     },
     "execution_count": 18,
     "metadata": {},
     "output_type": "execute_result"
    },
    {
     "data": {
      "image/png": "[encoded data removed]",
      "text/plain": [
       "<Figure size 576x288 with 1 Axes>"
      ]
     },
     "metadata": {
      "needs_background": "light"
     },
     "output_type": "display_data"
    }
   ],
   "source": [
    "n = 6\n",
    "plt.figure(figsize=(8, 4))\n",
    "plt.bar(countries_2007.country.head(n), countries_2007.population.head(n)) \n",
    "plt.title(f'Os {n} países mais populosos')"
   ]
  }
 ],
 "metadata": {
  "kernelspec": {
   "display_name": "Python 3",
   "language": "python",
   "name": "python3"
  },
  "language_info": {
   "codemirror_mode": {
    "name": "ipython",
    "version": 3
   },
   "file_extension": ".py",
   "mimetype": "text/x-python",
   "name": "python",
   "nbconvert_exporter": "python",
   "pygments_lexer": "ipython3",
   "version": "3.7.1"
  }
 },
 "nbformat": 4,
 "nbformat_minor": 2
}
