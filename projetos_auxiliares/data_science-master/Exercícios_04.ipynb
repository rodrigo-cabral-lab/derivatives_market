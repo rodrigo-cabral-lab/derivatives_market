{
 "cells": [
  {
   "cell_type": "markdown",
   "metadata": {},
   "source": [
    "# Exercícios: Parte 04\n",
    "## Responda às indagações abaixo utilizando o gráfico _scatter_:\n",
    "1. Existe relação entre o preço a área do terreno dos apartamentos?\n",
    "2. Plote as coordenadas das casas, kitnets e apartamentos para verificar se existem regiões com predominância de cada tipo.\n",
    "3. Utilize o gráfico _scatter_ para verificar a posição aproximada do aeroporto. Existem imóveis com a informação incorreta da distância do aeroporto?\n",
    "4. Descubra qual a parte mais antiga da cidade e como se deu o crescimento da mesma."
   ]
  },
  {
   "cell_type": "code",
   "execution_count": 1,
   "metadata": {},
   "outputs": [],
   "source": [
    "import pandas as pd\n",
    "import matplotlib.pyplot as plt\n",
    "\n",
    "housing = pd.read_csv('https://raw.githubusercontent.com/ronaldolagepessoa/data_science/master/dados/housing_ok.csv')"
   ]
  }
 ],
 "metadata": {
  "kernelspec": {
   "display_name": "Python 3",
   "language": "python",
   "name": "python3"
  },
  "language_info": {
   "codemirror_mode": {
    "name": "ipython",
    "version": 3
   },
   "file_extension": ".py",
   "mimetype": "text/x-python",
   "name": "python",
   "nbconvert_exporter": "python",
   "pygments_lexer": "ipython3",
   "version": "3.7.1"
  }
 },
 "nbformat": 4,
 "nbformat_minor": 2
}
