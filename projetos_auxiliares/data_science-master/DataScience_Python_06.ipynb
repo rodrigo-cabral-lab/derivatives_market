{
 "cells": [
  {
   "cell_type": "markdown",
   "metadata": {},
   "source": [
    "# Data Science com Python <img src=\"https://upload.wikimedia.org/wikipedia/commons/thumb/c/c3/Python-logo-notext.svg/1024px-Python-logo-notext.svg.png\" width=\"40\" height=\"40\" align=\"center\"/> \n",
    "## Parte 06: Pré processamento\n",
    "Em alguns casos, teremos a necessidade de ajustar as informações contidas no ```DataFrame``` em estudo. O pacote ```pandas``` dispões de diferentes funções para tratamento de dados. Utilizaremos o arquivo ```housing.csv``` para exemplificar a aplicação de algumas dessas funções.\n"
   ]
  },
  {
   "cell_type": "code",
   "execution_count": 7,
   "metadata": {},
   "outputs": [
    {
     "name": "stdout",
     "output_type": "stream",
     "text": [
      "<class 'pandas.core.frame.DataFrame'>\n",
      "RangeIndex: 11306 entries, 0 to 11305\n",
      "Data columns (total 14 columns):\n",
      "Bairro                    11304 non-null object\n",
      "Endereco                  11304 non-null object\n",
      "Quartos                   11304 non-null float64\n",
      "Tipo                      11304 non-null object\n",
      "Preco                     8827 non-null float64\n",
      "Distancia do aeroporto    11304 non-null float64\n",
      "CEP                       11304 non-null float64\n",
      "Banheiro                  11015 non-null float64\n",
      "Vagas                     11055 non-null float64\n",
      "Area terreno              9031 non-null float64\n",
      "Area construida           6104 non-null float64\n",
      "Ano da construcao         7016 non-null float64\n",
      "Latitude                  11306 non-null object\n",
      "Longitude                 11092 non-null object\n",
      "dtypes: float64(9), object(5)\n",
      "memory usage: 1.2+ MB\n"
     ]
    }
   ],
   "source": [
    "import pandas as pd\n",
    "import matplotlib.pyplot as plt\n",
    "\n",
    "housing = pd.read_csv('https://raw.githubusercontent.com/ronaldolagepessoa/data_science/master/dados/housing.csv')\n",
    "housing.info()"
   ]
  },
  {
   "cell_type": "markdown",
   "metadata": {},
   "source": [
    "Através do comando ```DataFrame.info()```, observamos alguns problemas existentes no ```DataFrame```.\n",
    "\n",
    "1. Quase todas as colunas possuem dados em branco;\n",
    "2. Os nomes das colunas possuem espaços e letras maiúsculas (não é uma boa prática);\n",
    "3. As colunas Latitude e Longitude foram interpretadas como tipo ```object```;\n",
    "4. Todas as colunas numericas são do tipo ```float64```."
   ]
  },
  {
   "cell_type": "markdown",
   "metadata": {},
   "source": [
    "### Tratando dados em branco\n",
    "\n",
    "Trataremos primeiro os dados em branco.\n",
    "Podemos (basicamente) lidar com dados em brancos de duas formas:\n",
    "* Eliminar linhas ou colunas que contanham um ou mais dados em branco\n",
    "* Substituir os dados em branco por valores específicos\n",
    "\n",
    "Para eliminar todas as linhas contendo pelo menos um valor em branco o utilizamos o comando [```DataFrame.dropna()```](https://pandas.pydata.org/pandas-docs/stable/reference/api/pandas.DataFrame.dropna.html). Como parâmetro, definimos ```axis=0```, indicando que as linhas contendo valores em branco serão eliminadas (caso o valor do parâmetro fosse alterado para 1, todas as colunas contendo pelo menos um valor em branco seriam eliminadas). Para que a alteração seja executada, o parâmetro ```inplace=True``` precisa ser adicionado."
   ]
  },
  {
   "cell_type": "code",
   "execution_count": 8,
   "metadata": {},
   "outputs": [
    {
     "name": "stdout",
     "output_type": "stream",
     "text": [
      "<class 'pandas.core.frame.DataFrame'>\n",
      "Int64Index: 3627 entries, 1 to 7015\n",
      "Data columns (total 14 columns):\n",
      "Bairro                    3627 non-null object\n",
      "Endereco                  3627 non-null object\n",
      "Quartos                   3627 non-null float64\n",
      "Tipo                      3627 non-null object\n",
      "Preco                     3627 non-null float64\n",
      "Distancia do aeroporto    3627 non-null float64\n",
      "CEP                       3627 non-null float64\n",
      "Banheiro                  3627 non-null float64\n",
      "Vagas                     3627 non-null float64\n",
      "Area terreno              3627 non-null float64\n",
      "Area construida           3627 non-null float64\n",
      "Ano da construcao         3627 non-null float64\n",
      "Latitude                  3627 non-null object\n",
      "Longitude                 3627 non-null object\n",
      "dtypes: float64(9), object(5)\n",
      "memory usage: 425.0+ KB\n"
     ]
    }
   ],
   "source": [
    "housing.dropna(axis=0, inplace=True)\n",
    "housing.info()"
   ]
  },
  {
   "cell_type": "markdown",
   "metadata": {},
   "source": [
    "Passamos de 11306 linhas para 3627. Redução de quase 70% da base."
   ]
  },
  {
   "cell_type": "markdown",
   "metadata": {},
   "source": [
    "### Renomeando colunas\n",
    "Faremos agora a mudança dos nomes das colunas. Uma boa prática no uso de ```DataFrame``` está associado ao formato utilizando para a nomeção das colunas. Devemos evitar o uso de \n",
    "* caracteres especiais (acentuações e símbolos);\n",
    "* letras maiúsculas;\n",
    "* espaços entre palavras\n",
    "\n",
    "Para renomear colunas em um ```DataFrame```, utilizamos o comando [```DataFrame.remane()```](https://pandas.pydata.org/pandas-docs/stable/reference/api/pandas.DataFrame.rename.html). O comando recebe o parâmetro ```columns``` que deve ser definido como um dicionário, onde a chave definine o nome a ser modificada e o valor define o novo nome. Para efetivar a modificação, acrescentamos o parâmetro ```inplace=True```. Utilizando o comando [```DataFrame.columns```](https://pandas.pydata.org/pandas-docs/stable/reference/api/pandas.DataFrame.columns.html), conseguimos verificar se a alteração foi bem sucedida."
   ]
  },
  {
   "cell_type": "code",
   "execution_count": 9,
   "metadata": {},
   "outputs": [
    {
     "data": {
      "text/plain": [
       "Index(['bairro', 'endereco', 'quartos', 'tipo', 'preco', 'distancia_aeroporto',\n",
       "       'cep', 'banheiros', 'vagas', 'area_terreno', 'area_construida',\n",
       "       'ano_construcao', 'latitude', 'longitude'],\n",
       "      dtype='object')"
      ]
     },
     "execution_count": 9,
     "metadata": {},
     "output_type": "execute_result"
    }
   ],
   "source": [
    "housing.rename(columns={'Bairro': 'bairro', 'Endereco': 'endereco', 'Quartos': 'quartos', \n",
    "                        'Tipo': 'tipo', 'Preco': 'preco', 'Distancia do aeroporto': 'distancia_aeroporto',\n",
    "                        'CEP': 'cep', 'Banheiro': 'banheiros', 'Vagas': 'vagas', \n",
    "                        'Area terreno': 'area_terreno', 'Area construida': 'area_construida', \n",
    "                        'Ano da construcao': 'ano_construcao', \n",
    "                        'Latitude': 'latitude', 'Longitude': 'longitude'}, inplace=True)\n",
    "housing.columns"
   ]
  },
  {
   "cell_type": "markdown",
   "metadata": {},
   "source": [
    "### Modificando tipo de uma coluna\n",
    "Agora faremos a transformação das colunas ```latitude``` e ```longitude``` de ```object``` (texto) para ```float64```, utilizando o comando [```pd.to_numeric()```](https://pandas.pydata.org/pandas-docs/stable/reference/api/pandas.to_numeric.html).\n",
    "\n",
    "O comando ```pd.to_numeric()``` recebe dois parâmetros: \n",
    "* coluna: nesse caso a latitude e longitude\n",
    "* forma de lidar com erros: configurando o parâmetro ```errors```\n",
    "\n",
    "O parâmetro ```erros='coerce'``` significa que o conversor irá forçar a conversão. Para o parâmetro, temos três opções:\n",
    "* _raise_: valores inválidos retornarão erro\n",
    "* _coerce_: valores inválidos serão transformados em ```NaN```\n",
    "* _ignore_: valores inválidos irão retornar o _input_"
   ]
  },
  {
   "cell_type": "code",
   "execution_count": 10,
   "metadata": {},
   "outputs": [],
   "source": [
    "housing.longitude = pd.to_numeric(housing.longitude, errors='coerce')\n",
    "housing.latitude = pd.to_numeric(housing.latitude, errors='coerce')"
   ]
  },
  {
   "cell_type": "code",
   "execution_count": 11,
   "metadata": {},
   "outputs": [
    {
     "name": "stdout",
     "output_type": "stream",
     "text": [
      "<class 'pandas.core.frame.DataFrame'>\n",
      "Int64Index: 3627 entries, 1 to 7015\n",
      "Data columns (total 14 columns):\n",
      "bairro                 3627 non-null object\n",
      "endereco               3627 non-null object\n",
      "quartos                3627 non-null float64\n",
      "tipo                   3627 non-null object\n",
      "preco                  3627 non-null float64\n",
      "distancia_aeroporto    3627 non-null float64\n",
      "cep                    3627 non-null float64\n",
      "banheiros              3627 non-null float64\n",
      "vagas                  3627 non-null float64\n",
      "area_terreno           3627 non-null float64\n",
      "area_construida        3627 non-null float64\n",
      "ano_construcao         3627 non-null float64\n",
      "latitude               3627 non-null float64\n",
      "longitude              3626 non-null float64\n",
      "dtypes: float64(11), object(3)\n",
      "memory usage: 425.0+ KB\n"
     ]
    }
   ],
   "source": [
    "housing.info()"
   ]
  },
  {
   "cell_type": "markdown",
   "metadata": {},
   "source": [
    "Observe que, apesar do ```DataFrame```conter 3627 linhas, a coluna ```longitude``` possui 3626 linhas não nulas. Essa diferença ocorrreu por conta da transformação feita pelo comando ```pd.to_numeric()```. Na sua transformação, uma das longitude não foi compreendida pela função. Como resultado, um valor nulo foi atribuido. Por conta disso, precisamos executar mais uma vez o comando ```DataFrame.dropna()```."
   ]
  },
  {
   "cell_type": "code",
   "execution_count": 13,
   "metadata": {},
   "outputs": [
    {
     "name": "stdout",
     "output_type": "stream",
     "text": [
      "<class 'pandas.core.frame.DataFrame'>\n",
      "Int64Index: 3626 entries, 1 to 7015\n",
      "Data columns (total 14 columns):\n",
      "bairro                 3626 non-null object\n",
      "endereco               3626 non-null object\n",
      "quartos                3626 non-null float64\n",
      "tipo                   3626 non-null object\n",
      "preco                  3626 non-null float64\n",
      "distancia_aeroporto    3626 non-null float64\n",
      "cep                    3626 non-null float64\n",
      "banheiros              3626 non-null float64\n",
      "vagas                  3626 non-null float64\n",
      "area_terreno           3626 non-null float64\n",
      "area_construida        3626 non-null float64\n",
      "ano_construcao         3626 non-null float64\n",
      "latitude               3626 non-null float64\n",
      "longitude              3626 non-null float64\n",
      "dtypes: float64(11), object(3)\n",
      "memory usage: 424.9+ KB\n"
     ]
    }
   ],
   "source": [
    "housing.dropna(axis=0, inplace=True)\n",
    "housing.info()"
   ]
  },
  {
   "cell_type": "markdown",
   "metadata": {},
   "source": [
    "### Investicando anomalias nos dados\n",
    "Para investigar possíveis anomalias nos valores das colunas ```latitude``` e ```longitude``` utilizando o comando ```DataFrame.describe()```. Para exibir somente as duas colunas, utilizamos a notação ```DataFrame[['nome_da coluna_1', 'nome_da_coluna_2']]```."
   ]
  },
  {
   "cell_type": "code",
   "execution_count": 6,
   "metadata": {},
   "outputs": [
    {
     "data": {
      "text/html": [
       "<div>\n",
       "<style scoped>\n",
       "    .dataframe tbody tr th:only-of-type {\n",
       "        vertical-align: middle;\n",
       "    }\n",
       "\n",
       "    .dataframe tbody tr th {\n",
       "        vertical-align: top;\n",
       "    }\n",
       "\n",
       "    .dataframe thead th {\n",
       "        text-align: right;\n",
       "    }\n",
       "</style>\n",
       "<table border=\"1\" class=\"dataframe\">\n",
       "  <thead>\n",
       "    <tr style=\"text-align: right;\">\n",
       "      <th></th>\n",
       "      <th>latitude</th>\n",
       "      <th>longitude</th>\n",
       "    </tr>\n",
       "  </thead>\n",
       "  <tbody>\n",
       "    <tr>\n",
       "      <th>count</th>\n",
       "      <td>3627.000000</td>\n",
       "      <td>3626.000000</td>\n",
       "    </tr>\n",
       "    <tr>\n",
       "      <th>mean</th>\n",
       "      <td>-3254.972992</td>\n",
       "      <td>13407.429455</td>\n",
       "    </tr>\n",
       "    <tr>\n",
       "      <th>std</th>\n",
       "      <td>10543.701635</td>\n",
       "      <td>41780.754937</td>\n",
       "    </tr>\n",
       "    <tr>\n",
       "      <th>min</th>\n",
       "      <td>-37946.000000</td>\n",
       "      <td>144.791800</td>\n",
       "    </tr>\n",
       "    <tr>\n",
       "      <th>25%</th>\n",
       "      <td>-37.867000</td>\n",
       "      <td>144.931700</td>\n",
       "    </tr>\n",
       "    <tr>\n",
       "      <th>50%</th>\n",
       "      <td>-37.805500</td>\n",
       "      <td>145.002200</td>\n",
       "    </tr>\n",
       "    <tr>\n",
       "      <th>75%</th>\n",
       "      <td>-37.762700</td>\n",
       "      <td>145.068800</td>\n",
       "    </tr>\n",
       "    <tr>\n",
       "      <th>max</th>\n",
       "      <td>-37.686200</td>\n",
       "      <td>145138.000000</td>\n",
       "    </tr>\n",
       "  </tbody>\n",
       "</table>\n",
       "</div>"
      ],
      "text/plain": [
       "           latitude      longitude\n",
       "count   3627.000000    3626.000000\n",
       "mean   -3254.972992   13407.429455\n",
       "std    10543.701635   41780.754937\n",
       "min   -37946.000000     144.791800\n",
       "25%      -37.867000     144.931700\n",
       "50%      -37.805500     145.002200\n",
       "75%      -37.762700     145.068800\n",
       "max      -37.686200  145138.000000"
      ]
     },
     "execution_count": 6,
     "metadata": {},
     "output_type": "execute_result"
    }
   ],
   "source": [
    "housing[['latitude', 'longitude']].describe()"
   ]
  },
  {
   "cell_type": "markdown",
   "metadata": {},
   "source": [
    "Observa-se uma divergência nos valores da ```latitude``` e ```longitude```.\n",
    "No valor mínimo da ```latitude``` aparece um valor muito menor do que a média, indicando erro de cadastro. O mesmo acontece com o valor máximo da ```longitude```.\n",
    "\n",
    "O erro de cadastro, claramente, envolveu a ausência do divisor decimal. Para corrigir, faremos a divisão dos valores da latitude e longitude que estão com esse problema por 1000. Para aplicar a modificação somente nos valores de interesse, utilizamos o comando ```DataFrame.loc[]```. O comando ```loc[]``` recebe dois parâmetros. O primeiro defini a regra de seleção das linhas e o segundo defini a selação de uma ou mais colunas."
   ]
  },
  {
   "cell_type": "code",
   "execution_count": 14,
   "metadata": {},
   "outputs": [
    {
     "data": {
      "text/html": [
       "<div>\n",
       "<style scoped>\n",
       "    .dataframe tbody tr th:only-of-type {\n",
       "        vertical-align: middle;\n",
       "    }\n",
       "\n",
       "    .dataframe tbody tr th {\n",
       "        vertical-align: top;\n",
       "    }\n",
       "\n",
       "    .dataframe thead th {\n",
       "        text-align: right;\n",
       "    }\n",
       "</style>\n",
       "<table border=\"1\" class=\"dataframe\">\n",
       "  <thead>\n",
       "    <tr style=\"text-align: right;\">\n",
       "      <th></th>\n",
       "      <th>latitude</th>\n",
       "      <th>longitude</th>\n",
       "    </tr>\n",
       "  </thead>\n",
       "  <tbody>\n",
       "    <tr>\n",
       "      <th>count</th>\n",
       "      <td>3626.000000</td>\n",
       "      <td>3626.000000</td>\n",
       "    </tr>\n",
       "    <tr>\n",
       "      <th>mean</th>\n",
       "      <td>-37.805458</td>\n",
       "      <td>144.986199</td>\n",
       "    </tr>\n",
       "    <tr>\n",
       "      <th>std</th>\n",
       "      <td>0.062670</td>\n",
       "      <td>0.078533</td>\n",
       "    </tr>\n",
       "    <tr>\n",
       "      <th>min</th>\n",
       "      <td>-37.946000</td>\n",
       "      <td>144.791800</td>\n",
       "    </tr>\n",
       "    <tr>\n",
       "      <th>25%</th>\n",
       "      <td>-37.849075</td>\n",
       "      <td>144.925125</td>\n",
       "    </tr>\n",
       "    <tr>\n",
       "      <th>50%</th>\n",
       "      <td>-37.796600</td>\n",
       "      <td>144.995300</td>\n",
       "    </tr>\n",
       "    <tr>\n",
       "      <th>75%</th>\n",
       "      <td>-37.758603</td>\n",
       "      <td>145.050300</td>\n",
       "    </tr>\n",
       "    <tr>\n",
       "      <th>max</th>\n",
       "      <td>-37.686200</td>\n",
       "      <td>145.143600</td>\n",
       "    </tr>\n",
       "  </tbody>\n",
       "</table>\n",
       "</div>"
      ],
      "text/plain": [
       "          latitude    longitude\n",
       "count  3626.000000  3626.000000\n",
       "mean    -37.805458   144.986199\n",
       "std       0.062670     0.078533\n",
       "min     -37.946000   144.791800\n",
       "25%     -37.849075   144.925125\n",
       "50%     -37.796600   144.995300\n",
       "75%     -37.758603   145.050300\n",
       "max     -37.686200   145.143600"
      ]
     },
     "execution_count": 14,
     "metadata": {},
     "output_type": "execute_result"
    }
   ],
   "source": [
    "housing.loc[housing.latitude < -1000, 'latitude'] = housing.latitude / 1000\n",
    "housing.loc[housing.longitude > 1000, 'longitude'] = housing.longitude / 1000\n",
    "housing[['latitude', 'longitude']].describe()"
   ]
  },
  {
   "cell_type": "markdown",
   "metadata": {},
   "source": [
    "Pronto! As coordenadas geográficas estão devidamente corrigidas.\n",
    "\n",
    "Analisaremos, agora, o restante das colunas numéricas utilizando o comando ```DataFrame.describe()```."
   ]
  },
  {
   "cell_type": "code",
   "execution_count": 20,
   "metadata": {},
   "outputs": [
    {
     "data": {
      "text/html": [
       "<div>\n",
       "<style scoped>\n",
       "    .dataframe tbody tr th:only-of-type {\n",
       "        vertical-align: middle;\n",
       "    }\n",
       "\n",
       "    .dataframe tbody tr th {\n",
       "        vertical-align: top;\n",
       "    }\n",
       "\n",
       "    .dataframe thead th {\n",
       "        text-align: right;\n",
       "    }\n",
       "</style>\n",
       "<table border=\"1\" class=\"dataframe\">\n",
       "  <thead>\n",
       "    <tr style=\"text-align: right;\">\n",
       "      <th></th>\n",
       "      <th>quartos</th>\n",
       "      <th>preco</th>\n",
       "      <th>distancia_aeroporto</th>\n",
       "      <th>cep</th>\n",
       "      <th>banheiros</th>\n",
       "      <th>vagas</th>\n",
       "      <th>area_terreno</th>\n",
       "      <th>area_construida</th>\n",
       "      <th>ano_construcao</th>\n",
       "      <th>latitude</th>\n",
       "      <th>longitude</th>\n",
       "    </tr>\n",
       "  </thead>\n",
       "  <tbody>\n",
       "    <tr>\n",
       "      <th>count</th>\n",
       "      <td>3626.000000</td>\n",
       "      <td>3.626000e+03</td>\n",
       "      <td>3626.000000</td>\n",
       "      <td>3626.000000</td>\n",
       "      <td>3626.000000</td>\n",
       "      <td>3626.000000</td>\n",
       "      <td>3626.000000</td>\n",
       "      <td>3626.000000</td>\n",
       "      <td>3626.000000</td>\n",
       "      <td>3626.000000</td>\n",
       "      <td>3626.000000</td>\n",
       "    </tr>\n",
       "    <tr>\n",
       "      <th>mean</th>\n",
       "      <td>3.093216</td>\n",
       "      <td>1.215779e+06</td>\n",
       "      <td>8.974435</td>\n",
       "      <td>3091.653613</td>\n",
       "      <td>1.631274</td>\n",
       "      <td>1.609487</td>\n",
       "      <td>519.880033</td>\n",
       "      <td>153.402496</td>\n",
       "      <td>1957.008549</td>\n",
       "      <td>-37.805458</td>\n",
       "      <td>144.986199</td>\n",
       "    </tr>\n",
       "    <tr>\n",
       "      <th>std</th>\n",
       "      <td>0.901262</td>\n",
       "      <td>7.017608e+05</td>\n",
       "      <td>3.465231</td>\n",
       "      <td>58.878631</td>\n",
       "      <td>0.743897</td>\n",
       "      <td>0.955714</td>\n",
       "      <td>653.436087</td>\n",
       "      <td>95.896493</td>\n",
       "      <td>38.733988</td>\n",
       "      <td>0.062670</td>\n",
       "      <td>0.078533</td>\n",
       "    </tr>\n",
       "    <tr>\n",
       "      <th>min</th>\n",
       "      <td>1.000000</td>\n",
       "      <td>1.310000e+05</td>\n",
       "      <td>1.200000</td>\n",
       "      <td>3000.000000</td>\n",
       "      <td>1.000000</td>\n",
       "      <td>0.000000</td>\n",
       "      <td>43.000000</td>\n",
       "      <td>1.000000</td>\n",
       "      <td>1830.000000</td>\n",
       "      <td>-37.946000</td>\n",
       "      <td>144.791800</td>\n",
       "    </tr>\n",
       "    <tr>\n",
       "      <th>25%</th>\n",
       "      <td>3.000000</td>\n",
       "      <td>7.410625e+05</td>\n",
       "      <td>6.400000</td>\n",
       "      <td>3042.000000</td>\n",
       "      <td>1.000000</td>\n",
       "      <td>1.000000</td>\n",
       "      <td>227.000000</td>\n",
       "      <td>102.000000</td>\n",
       "      <td>1925.000000</td>\n",
       "      <td>-37.849075</td>\n",
       "      <td>144.925125</td>\n",
       "    </tr>\n",
       "    <tr>\n",
       "      <th>50%</th>\n",
       "      <td>3.000000</td>\n",
       "      <td>1.025500e+06</td>\n",
       "      <td>9.200000</td>\n",
       "      <td>3073.000000</td>\n",
       "      <td>2.000000</td>\n",
       "      <td>2.000000</td>\n",
       "      <td>449.000000</td>\n",
       "      <td>132.000000</td>\n",
       "      <td>1960.000000</td>\n",
       "      <td>-37.796600</td>\n",
       "      <td>144.995300</td>\n",
       "    </tr>\n",
       "    <tr>\n",
       "      <th>75%</th>\n",
       "      <td>4.000000</td>\n",
       "      <td>1.500000e+06</td>\n",
       "      <td>11.700000</td>\n",
       "      <td>3143.000000</td>\n",
       "      <td>2.000000</td>\n",
       "      <td>2.000000</td>\n",
       "      <td>648.000000</td>\n",
       "      <td>180.000000</td>\n",
       "      <td>1995.000000</td>\n",
       "      <td>-37.758603</td>\n",
       "      <td>145.050300</td>\n",
       "    </tr>\n",
       "    <tr>\n",
       "      <th>max</th>\n",
       "      <td>8.000000</td>\n",
       "      <td>8.000000e+06</td>\n",
       "      <td>15.000000</td>\n",
       "      <td>3207.000000</td>\n",
       "      <td>8.000000</td>\n",
       "      <td>8.000000</td>\n",
       "      <td>15900.000000</td>\n",
       "      <td>3112.000000</td>\n",
       "      <td>2018.000000</td>\n",
       "      <td>-37.686200</td>\n",
       "      <td>145.143600</td>\n",
       "    </tr>\n",
       "  </tbody>\n",
       "</table>\n",
       "</div>"
      ],
      "text/plain": [
       "           quartos         preco  distancia_aeroporto          cep  \\\n",
       "count  3626.000000  3.626000e+03          3626.000000  3626.000000   \n",
       "mean      3.093216  1.215779e+06             8.974435  3091.653613   \n",
       "std       0.901262  7.017608e+05             3.465231    58.878631   \n",
       "min       1.000000  1.310000e+05             1.200000  3000.000000   \n",
       "25%       3.000000  7.410625e+05             6.400000  3042.000000   \n",
       "50%       3.000000  1.025500e+06             9.200000  3073.000000   \n",
       "75%       4.000000  1.500000e+06            11.700000  3143.000000   \n",
       "max       8.000000  8.000000e+06            15.000000  3207.000000   \n",
       "\n",
       "         banheiros        vagas  area_terreno  area_construida  \\\n",
       "count  3626.000000  3626.000000   3626.000000      3626.000000   \n",
       "mean      1.631274     1.609487    519.880033       153.402496   \n",
       "std       0.743897     0.955714    653.436087        95.896493   \n",
       "min       1.000000     0.000000     43.000000         1.000000   \n",
       "25%       1.000000     1.000000    227.000000       102.000000   \n",
       "50%       2.000000     2.000000    449.000000       132.000000   \n",
       "75%       2.000000     2.000000    648.000000       180.000000   \n",
       "max       8.000000     8.000000  15900.000000      3112.000000   \n",
       "\n",
       "       ano_construcao     latitude    longitude  \n",
       "count     3626.000000  3626.000000  3626.000000  \n",
       "mean      1957.008549   -37.805458   144.986199  \n",
       "std         38.733988     0.062670     0.078533  \n",
       "min       1830.000000   -37.946000   144.791800  \n",
       "25%       1925.000000   -37.849075   144.925125  \n",
       "50%       1960.000000   -37.796600   144.995300  \n",
       "75%       1995.000000   -37.758603   145.050300  \n",
       "max       2018.000000   -37.686200   145.143600  "
      ]
     },
     "execution_count": 20,
     "metadata": {},
     "output_type": "execute_result"
    }
   ],
   "source": [
    "housing.describe()"
   ]
  },
  {
   "cell_type": "markdown",
   "metadata": {},
   "source": [
    "Observe que o menor valor para a coluna ```area_construida``` é igual a 1 metro quadrado. Esse valor claramente não faz sentido. A maior área construida tamém parece estar fora da realidade (3112 metros quadrados). Filtraremos, então as áreas construídas para ficarem no intervalo de 25 a 1000 metros quadrados. Como trata-se te um intervalo com limites superior e inferior, utilizaremos o comando [```Series.between()```](https://pandas.pydata.org/pandas-docs/stable/reference/api/pandas.Series.between.html), passando os limites superior e inferior como parâmetro. Para verificar se o filtro foi bem sucedido, utilizaremos o comando ```Series.describe()``` na coluna ```area_construida```."
   ]
  },
  {
   "cell_type": "code",
   "execution_count": 24,
   "metadata": {},
   "outputs": [
    {
     "data": {
      "text/plain": [
       "count    3596.000000\n",
       "mean      153.184775\n",
       "std        79.052395\n",
       "min        25.000000\n",
       "25%       103.000000\n",
       "50%       133.000000\n",
       "75%       181.000000\n",
       "max       808.000000\n",
       "Name: area_construida, dtype: float64"
      ]
     },
     "execution_count": 24,
     "metadata": {},
     "output_type": "execute_result"
    }
   ],
   "source": [
    "housing = housing[housing.area_construida.between(25, 1000)]\n",
    "housing.area_construida.describe()"
   ]
  },
  {
   "cell_type": "markdown",
   "metadata": {},
   "source": [
    "### Otimizando o ```DataFrame``` com tipagem de colunas\n",
    "Faremos agora a modificação do tipo de algumas colunas do ```DataFrame```. Sabemos que as colunas ```Quartos```, ```Banheiro```, ```Vagas``` e ```Ano da construcao``` são do tipo inteiro. Apesar disso, na criação do ```DataFrame```, essas colunas foram definidas como do tipo ```float64``` (formato utilizado para guardar valores numéricos fracionados). Faremos a transformação dessas colunas para o formato inteiro. \n",
    "\n",
    "Temos três opções:\n",
    "* ```int8```: valores de -128 até 127\n",
    "* ```int16```: valores de –32,768 até 32,767\n",
    "* ```int32```: valores de –2,147,483,648 até 2,147,483,647\n",
    "* ```int64```: valores de −9,223,372,036,854,775,808 até +9,223,372,036,854,775,807"
   ]
  },
  {
   "cell_type": "code",
   "execution_count": 8,
   "metadata": {},
   "outputs": [
    {
     "data": {
      "text/html": [
       "<div>\n",
       "<style scoped>\n",
       "    .dataframe tbody tr th:only-of-type {\n",
       "        vertical-align: middle;\n",
       "    }\n",
       "\n",
       "    .dataframe tbody tr th {\n",
       "        vertical-align: top;\n",
       "    }\n",
       "\n",
       "    .dataframe thead th {\n",
       "        text-align: right;\n",
       "    }\n",
       "</style>\n",
       "<table border=\"1\" class=\"dataframe\">\n",
       "  <thead>\n",
       "    <tr style=\"text-align: right;\">\n",
       "      <th></th>\n",
       "      <th>quartos</th>\n",
       "      <th>banheiros</th>\n",
       "      <th>vagas</th>\n",
       "      <th>ano_construcao</th>\n",
       "    </tr>\n",
       "  </thead>\n",
       "  <tbody>\n",
       "    <tr>\n",
       "      <th>count</th>\n",
       "      <td>3627.000000</td>\n",
       "      <td>3627.000000</td>\n",
       "      <td>3627.000000</td>\n",
       "      <td>3627.000000</td>\n",
       "    </tr>\n",
       "    <tr>\n",
       "      <th>mean</th>\n",
       "      <td>3.092914</td>\n",
       "      <td>1.631100</td>\n",
       "      <td>1.609319</td>\n",
       "      <td>1956.990074</td>\n",
       "    </tr>\n",
       "    <tr>\n",
       "      <th>std</th>\n",
       "      <td>0.901321</td>\n",
       "      <td>0.743868</td>\n",
       "      <td>0.955635</td>\n",
       "      <td>38.744626</td>\n",
       "    </tr>\n",
       "    <tr>\n",
       "      <th>min</th>\n",
       "      <td>1.000000</td>\n",
       "      <td>1.000000</td>\n",
       "      <td>0.000000</td>\n",
       "      <td>1830.000000</td>\n",
       "    </tr>\n",
       "    <tr>\n",
       "      <th>25%</th>\n",
       "      <td>3.000000</td>\n",
       "      <td>1.000000</td>\n",
       "      <td>1.000000</td>\n",
       "      <td>1925.000000</td>\n",
       "    </tr>\n",
       "    <tr>\n",
       "      <th>50%</th>\n",
       "      <td>3.000000</td>\n",
       "      <td>2.000000</td>\n",
       "      <td>2.000000</td>\n",
       "      <td>1960.000000</td>\n",
       "    </tr>\n",
       "    <tr>\n",
       "      <th>75%</th>\n",
       "      <td>4.000000</td>\n",
       "      <td>2.000000</td>\n",
       "      <td>2.000000</td>\n",
       "      <td>1995.000000</td>\n",
       "    </tr>\n",
       "    <tr>\n",
       "      <th>max</th>\n",
       "      <td>8.000000</td>\n",
       "      <td>8.000000</td>\n",
       "      <td>8.000000</td>\n",
       "      <td>2018.000000</td>\n",
       "    </tr>\n",
       "  </tbody>\n",
       "</table>\n",
       "</div>"
      ],
      "text/plain": [
       "           quartos    banheiros        vagas  ano_construcao\n",
       "count  3627.000000  3627.000000  3627.000000     3627.000000\n",
       "mean      3.092914     1.631100     1.609319     1956.990074\n",
       "std       0.901321     0.743868     0.955635       38.744626\n",
       "min       1.000000     1.000000     0.000000     1830.000000\n",
       "25%       3.000000     1.000000     1.000000     1925.000000\n",
       "50%       3.000000     2.000000     2.000000     1960.000000\n",
       "75%       4.000000     2.000000     2.000000     1995.000000\n",
       "max       8.000000     8.000000     8.000000     2018.000000"
      ]
     },
     "execution_count": 8,
     "metadata": {},
     "output_type": "execute_result"
    }
   ],
   "source": [
    "housing[['quartos', 'banheiros', 'vagas', 'ano_construcao']].describe()"
   ]
  },
  {
   "cell_type": "markdown",
   "metadata": {},
   "source": [
    "Observando os limites dos valores das colunas em questão, podemos transformar as colunas ```Quartos```, ```Banheiro``` e ```Vagas``` para o formato ```int8``` e a coluna ```Ano da construcao``` para o formato ```int16```.\n",
    "\n",
    "Esse tipo de tratamento reduz o tamanho (em termos de memória) do ```DataFrame```, aumentando sua eficiência computacional. Podemos verificar a memória utilizada (em bytes) para guardar as inforamções de cada coluna utilizando o comando [```DataFrame.memory_usage()```](https://pandas.pydata.org/pandas-docs/stable/reference/api/pandas.DataFrame.memory_usage.html). Acrescentamos o parâmetro ```index=False``` para remover o indice da lista."
   ]
  },
  {
   "cell_type": "code",
   "execution_count": 16,
   "metadata": {},
   "outputs": [
    {
     "data": {
      "text/plain": [
       "quartos           29008\n",
       "banheiros         29008\n",
       "vagas             29008\n",
       "ano_construcao    29008\n",
       "dtype: int64"
      ]
     },
     "execution_count": 16,
     "metadata": {},
     "output_type": "execute_result"
    }
   ],
   "source": [
    "housing[['quartos', 'banheiros', 'vagas', 'ano_construcao']].memory_usage(index=False)"
   ]
  },
  {
   "cell_type": "markdown",
   "metadata": {},
   "source": [
    "Para fazer a transformação, utilizando o comando [```Series.astype()```](https://pandas.pydata.org/pandas-docs/stable/reference/api/pandas.Series.astype.html). Para verificar se as mudanças foram bem sucedidas basta acessarmos o atributo [```DataFrame.dtypes```](https://pandas.pydata.org/pandas-docs/stable/reference/api/pandas.DataFrame.dtypes.html)."
   ]
  },
  {
   "cell_type": "code",
   "execution_count": 18,
   "metadata": {},
   "outputs": [
    {
     "data": {
      "text/plain": [
       "quartos            int8\n",
       "banheiros          int8\n",
       "vagas              int8\n",
       "ano_construcao    int16\n",
       "dtype: object"
      ]
     },
     "execution_count": 18,
     "metadata": {},
     "output_type": "execute_result"
    }
   ],
   "source": [
    "housing.quartos = housing.quartos.astype('int8')\n",
    "housing.banheiros = housing.banheiros.astype('int8')\n",
    "housing.vagas = housing.vagas.astype('int8')\n",
    "housing.ano_construcao = housing.ano_construcao.astype('int16')\n",
    "housing[['quartos', 'banheiros', 'vagas', 'ano_construcao']].dtypes"
   ]
  },
  {
   "cell_type": "markdown",
   "metadata": {},
   "source": [
    "Verificaremos a redução do uso de memória após a transformação."
   ]
  },
  {
   "cell_type": "code",
   "execution_count": 19,
   "metadata": {},
   "outputs": [
    {
     "data": {
      "text/plain": [
       "quartos           3626\n",
       "banheiros         3626\n",
       "vagas             3626\n",
       "ano_construcao    7252\n",
       "dtype: int64"
      ]
     },
     "execution_count": 19,
     "metadata": {},
     "output_type": "execute_result"
    }
   ],
   "source": [
    "housing[['quartos', 'banheiros', 'vagas', 'ano_construcao']].memory_usage(index=False)"
   ]
  }
 ],
 "metadata": {
  "kernelspec": {
   "display_name": "Python 3",
   "language": "python",
   "name": "python3"
  },
  "language_info": {
   "codemirror_mode": {
    "name": "ipython",
    "version": 3
   },
   "file_extension": ".py",
   "mimetype": "text/x-python",
   "name": "python",
   "nbconvert_exporter": "python",
   "pygments_lexer": "ipython3",
   "version": "3.7.1"
  }
 },
 "nbformat": 4,
 "nbformat_minor": 2
}
