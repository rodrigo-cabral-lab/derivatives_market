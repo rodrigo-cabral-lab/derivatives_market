{
 "cells": [
  {
   "cell_type": "markdown",
   "metadata": {},
   "source": [
    "# Exercícios: Parte 02\n",
    "\n",
    "## Crie um gráfico de barras para exibir as seguintes estatísticas:\n",
    "\n",
    "1. as médias populacionais dos Estados Unidos, Canadá e México.\n",
    "2. as taxas médias de crescimento dos Estados Unidos, Canadá e México\n",
    "3. as 6 menores populações do ano de 2007."
   ]
  },
  {
   "cell_type": "markdown",
   "metadata": {},
   "source": [
    "### Solução - 1\n",
    "Iniciamos fazendo a importação dos pacotes ```pandas``` e ```matplotlib.pyplot```.\n",
    "Em seguida, criamos o dataframe ```countries``` utilizando o comando ```pd.read_csv('countries.csv')```. \n",
    "\n",
    "Criamos os dataframes ```usa```, ```can```e ```mex```, contendo os dados referentes aos Estados Unidos, Canadá e México, respectivamente.\n",
    "\n",
    "Utilizamos o comando ```plt.bar()``` para criar o gráfico de barras, passando a lista de países com duas respectivas médias populacionais."
   ]
  },
  {
   "cell_type": "code",
   "execution_count": 2,
   "metadata": {},
   "outputs": [
    {
     "data": {
      "text/plain": [
       "<BarContainer object of 3 artists>"
      ]
     },
     "execution_count": 2,
     "metadata": {},
     "output_type": "execute_result"
    },
    {
     "data": {
      "image/png": "[encoded data removed]",
      "text/plain": [
       "<Figure size 432x288 with 1 Axes>"
      ]
     },
     "metadata": {
      "needs_background": "light"
     },
     "output_type": "display_data"
    }
   ],
   "source": [
    "import pandas as pd\n",
    "import matplotlib.pyplot as plt\n",
    "\n",
    "countries = pd.read_csv('https://raw.githubusercontent.com/ronaldolagepessoa/data_science/master/dados/countries.csv')\n",
    "usa = countries[countries.country == 'United States']\n",
    "can = countries[countries.country == 'Canada']\n",
    "mex = countries[countries.country == 'Mexico']\n",
    "\n",
    "plt.bar(['USA', 'CAN', 'MEX'], [usa.population.mean(), can.population.mean(), mex.population.mean()])"
   ]
  },
  {
   "cell_type": "markdown",
   "metadata": {},
   "source": [
    "### Solução - 2\n",
    "Criamos os dataframes ```usa_perc```, ```can_perc``` e ```mex_perc```, contendo a população relativa dos Estados Unidos, Canadá e México, respectivamente. Para tanto, dividimos a série de populações dos três países por suas respectivas populações iniciais (1952)."
   ]
  },
  {
   "cell_type": "code",
   "execution_count": 3,
   "metadata": {},
   "outputs": [
    {
     "data": {
      "text/plain": [
       "<BarContainer object of 3 artists>"
      ]
     },
     "execution_count": 3,
     "metadata": {},
     "output_type": "execute_result"
    },
    {
     "data": {
      "image/png": "[encoded data removed]",
      "text/plain": [
       "<Figure size 432x288 with 1 Axes>"
      ]
     },
     "metadata": {
      "needs_background": "light"
     },
     "output_type": "display_data"
    }
   ],
   "source": [
    "usa_perc = usa.population / usa.iloc[0, 2]\n",
    "can_perc = can.population / can.iloc[0, 2]\n",
    "mex_perc = mex.population / mex.iloc[0, 2]\n",
    "\n",
    "plt.bar(['USA', 'CAN', 'MEX'], [usa_perc.mean(), can_perc.mean(), mex_perc.mean()])"
   ]
  },
  {
   "cell_type": "markdown",
   "metadata": {},
   "source": [
    "### Solução - 3\n",
    "Criamos uma cópia do dataframe ```countries``` contendo somente as populações de 2007, dando o nome de ```countries_2007```. \n",
    "\n",
    "Utilizando o comando ```DataFrame.sort_values(by=nome_da_coluna)```, criamos uma cópia do dataframe ```countries_2007``` ordenado pela coluna ```population```, dando o nome de ```countries_2007_menores```. Para copiar somente as 5 menores populações, acrescentamos o comando ```head(6)```.\n",
    "\n",
    "Opcional: Para melhorar a visualização, utilizamos o comando ```plt.figure(figsize=(12, 5))``` para aumentar o tamanho da figura.\n",
    "\n",
    "Por fim, criamos o gráfico de barras passando os países contidos no dataframe ```countries_2007_menores``` com suas respectivas populações."
   ]
  },
  {
   "cell_type": "code",
   "execution_count": 16,
   "metadata": {},
   "outputs": [
    {
     "data": {
      "text/plain": [
       "<BarContainer object of 6 artists>"
      ]
     },
     "execution_count": 16,
     "metadata": {},
     "output_type": "execute_result"
    },
    {
     "data": {
      "image/png": "[encoded data removed]",
      "text/plain": [
       "<Figure size 864x360 with 1 Axes>"
      ]
     },
     "metadata": {
      "needs_background": "light"
     },
     "output_type": "display_data"
    }
   ],
   "source": [
    "countries_2007 = countries[countries.year == 2007]\n",
    "countries_2007_menores = countries_2007.sort_values(by='population').head(6)\n",
    "plt.figure(figsize=(12, 5))\n",
    "plt.bar(countries_2007_menores.country, countries_2007_menores.population)"
   ]
  }
 ],
 "metadata": {
  "kernelspec": {
   "display_name": "Python 3",
   "language": "python",
   "name": "python3"
  },
  "language_info": {
   "codemirror_mode": {
    "name": "ipython",
    "version": 3
   },
   "file_extension": ".py",
   "mimetype": "text/x-python",
   "name": "python",
   "nbconvert_exporter": "python",
   "pygments_lexer": "ipython3",
   "version": "3.7.1"
  }
 },
 "nbformat": 4,
 "nbformat_minor": 2
}
