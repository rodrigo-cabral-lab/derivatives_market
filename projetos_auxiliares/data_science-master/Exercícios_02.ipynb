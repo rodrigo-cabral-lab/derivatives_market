{
 "cells": [
  {
   "cell_type": "markdown",
   "metadata": {},
   "source": [
    "# Exercícios: Parte 02\n",
    "\n",
    "## Crie um gráfico de barras para exibir as seguintes estatísticas:\n",
    "\n",
    "1. as médias populacionais dos Estados Unidos, Canadá e México.\n",
    "2. as taxas médias de crescimento dos Estados Unidos, Canadá e México\n",
    "3. as 5 menores populações do ano de 2007."
   ]
  }
 ],
 "metadata": {
  "kernelspec": {
   "display_name": "Python 3",
   "language": "python",
   "name": "python3"
  },
  "language_info": {
   "codemirror_mode": {
    "name": "ipython",
    "version": 3
   },
   "file_extension": ".py",
   "mimetype": "text/x-python",
   "name": "python",
   "nbconvert_exporter": "python",
   "pygments_lexer": "ipython3",
   "version": "3.7.1"
  }
 },
 "nbformat": 4,
 "nbformat_minor": 2
}
