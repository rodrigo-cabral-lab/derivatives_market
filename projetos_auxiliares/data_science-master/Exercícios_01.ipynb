{
 "cells": [
  {
   "cell_type": "markdown",
   "metadata": {},
   "source": [
    "# Exercícios: Parte 01\n",
    "## Verifique as seguintes informações:\n",
    "1. Compare o crescimento populacional dos Estados Unidos, Brazil e Argentina\n",
    "2. Compare o crescimento populacional entre os países da América Latina\n",
    "3. Compare o crescimento relativo entre os países da América Latina"
   ]
  }
 ],
 "metadata": {
  "kernelspec": {
   "display_name": "Python 3",
   "language": "python",
   "name": "python3"
  },
  "language_info": {
   "codemirror_mode": {
    "name": "ipython",
    "version": 3
   },
   "file_extension": ".py",
   "mimetype": "text/x-python",
   "name": "python",
   "nbconvert_exporter": "python",
   "pygments_lexer": "ipython3",
   "version": "3.7.1"
  }
 },
 "nbformat": 4,
 "nbformat_minor": 4
}
