{
 "cells": [
  {
   "cell_type": "markdown",
   "metadata": {},
   "source": [
    "# Exercícios: Parte 03\n",
    "## Verifique as seguintes indagações através da construção de histogramas ou gráficos de frequência:\n",
    "1. Qual tipo de imóvel possui maior frequência?\n",
    "2. Qual quantidade de banheiros que aparece com maior frequência para cada tipo de imóvel?\n",
    "3. A maior parte dos apartamentos estão longe ou perto do aeroporto?\n",
    "4. Existem mais apartamentos velhos ou novos? \n",
    "5. As casas estão concentradas mais ao norte ou ao sul?"
   ]
  },
  {
   "cell_type": "code",
   "execution_count": 8,
   "metadata": {},
   "outputs": [],
   "source": [
    "import pandas as pd\n",
    "import matplotlib.pyplot as plt\n",
    "\n",
    "housing = pd.read_csv('https://raw.githubusercontent.com/ronaldolagepessoa/data_science/master/dados/housing_ok.csv')"
   ]
  }
 ],
 "metadata": {
  "kernelspec": {
   "display_name": "Python 3",
   "language": "python",
   "name": "python3"
  },
  "language_info": {
   "codemirror_mode": {
    "name": "ipython",
    "version": 3
   },
   "file_extension": ".py",
   "mimetype": "text/x-python",
   "name": "python",
   "nbconvert_exporter": "python",
   "pygments_lexer": "ipython3",
   "version": "3.7.1"
  }
 },
 "nbformat": 4,
 "nbformat_minor": 2
}
