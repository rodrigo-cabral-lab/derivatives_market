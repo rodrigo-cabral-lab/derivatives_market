{
 "cells": [
  {
   "cell_type": "markdown",
   "metadata": {},
   "source": [
    "# Data Science com Python <img src=\"https://upload.wikimedia.org/wikipedia/commons/thumb/c/c3/Python-logo-notext.svg/1024px-Python-logo-notext.svg.png\" width=\"40\" height=\"40\" align=\"center\"/> \n",
    "## Parte 03: Histograma e gráfico de frequência\n",
    "\n",
    "Histogramas e gráficos de frequência são utilizados para analisar a distribuição de frequência de um determinado conjunto de dados. Na sua versão para dados contínuos, o histograma representa a frequência com a qual os valores presentes no conjunto estudado aparecem em intervalos de tamanho igual pré-calculados. Para entender o uso desse tipo de gráfico, trabalharemos com uma nova base denominada ```housing_ok.csv```, contendo dados imobiliários da cidade de Melbourne, Austrália."
   ]
  },
  {
   "cell_type": "code",
   "execution_count": 70,
   "metadata": {},
   "outputs": [],
   "source": [
    "import pandas as pd\n",
    "import matplotlib.pyplot as plt\n",
    "\n",
    "housing = pd.read_csv('https://raw.githubusercontent.com/ronaldolagepessoa/data_science/master/dados/housing_ok.csv')"
   ]
  },
  {
   "cell_type": "markdown",
   "metadata": {},
   "source": [
    "Iniciamos a análise execcutando o comando ```DataFrame.info()``` para investigar o conteúdo da tabela."
   ]
  },
  {
   "cell_type": "code",
   "execution_count": 71,
   "metadata": {},
   "outputs": [
    {
     "name": "stdout",
     "output_type": "stream",
     "text": [
      "<class 'pandas.core.frame.DataFrame'>\n",
      "RangeIndex: 2832 entries, 0 to 2831\n",
      "Data columns (total 14 columns):\n",
      "bairro                 2832 non-null object\n",
      "endereco               2832 non-null object\n",
      "quartos                2832 non-null int64\n",
      "tipo                   2832 non-null object\n",
      "preco                  2832 non-null float64\n",
      "distancia_aeroporto    2832 non-null float64\n",
      "cep                    2832 non-null float64\n",
      "banheiros              2832 non-null int64\n",
      "vagas                  2832 non-null int64\n",
      "area_terreno           2832 non-null float64\n",
      "area_construida        2832 non-null float64\n",
      "ano_construcao         2832 non-null float64\n",
      "latitude               2832 non-null float64\n",
      "longitude              2832 non-null float64\n",
      "dtypes: float64(8), int64(3), object(3)\n",
      "memory usage: 309.8+ KB\n"
     ]
    }
   ],
   "source": [
    "housing.info()"
   ]
  },
  {
   "cell_type": "markdown",
   "metadata": {},
   "source": [
    "Temos um total de 14 colunas, sendo 11 do tipo numérico real (```float64```) e 3 do tipo texto (```object```). Investigaremos as colunas ```quartos```, ```banheiros``` e ```vagas``` para verificar se existe necessidade de manter o tipo ```float64```.\n",
    "\n",
    "Obs: Esse passo é opcional. A transformação de tipos de dados melhora a eficiência do uso de memória por parte do ```DataFrame```. O tipo ```float64``` ocupa mais espaço do que o tipo ```int64```, por exemplo.\n",
    "\n",
    "Utilizaremos o comando [```Series.unique()```](https://pandas.pydata.org/pandas-docs/stable/reference/api/pandas.Series.unique.html) para verificar a diversidade de valores contidos nas três colunas."
   ]
  },
  {
   "cell_type": "code",
   "execution_count": 72,
   "metadata": {},
   "outputs": [
    {
     "data": {
      "text/plain": [
       "array([2, 4, 3, 5, 6, 1, 8, 7])"
      ]
     },
     "execution_count": 72,
     "metadata": {},
     "output_type": "execute_result"
    }
   ],
   "source": [
    "housing.quartos.unique()"
   ]
  },
  {
   "cell_type": "code",
   "execution_count": 73,
   "metadata": {},
   "outputs": [
    {
     "data": {
      "text/plain": [
       "array([1, 4, 2, 5, 3, 6, 8, 7])"
      ]
     },
     "execution_count": 73,
     "metadata": {},
     "output_type": "execute_result"
    }
   ],
   "source": [
    "housing.banheiros.unique()"
   ]
  },
  {
   "cell_type": "code",
   "execution_count": 74,
   "metadata": {},
   "outputs": [
    {
     "data": {
      "text/plain": [
       "array([1, 2, 0, 3, 4, 6, 5, 7, 8])"
      ]
     },
     "execution_count": 74,
     "metadata": {},
     "output_type": "execute_result"
    }
   ],
   "source": [
    "housing.vagas.unique()"
   ]
  },
  {
   "cell_type": "markdown",
   "metadata": {},
   "source": [
    "É possível perceber que não existe, de fato, a necessidade de manter o tipo das três colunas como ```float64```. O formato ```int8``` consegue guardar valores no intervalo de -128 até 127. Sabemos que seria pouco provável a existência de um imóvel com mais de 127 quartos, banheiros ou vagas. Sendo assim, faz sentido utilizarmos esse formato. Para modificar o tipo de uma coluna, utilizamos o comando [```Series.astype('int8')```](https://pandas.pydata.org/pandas-docs/stable/reference/api/pandas.Series.astype.html), atribuindo o resultado à própria coluna."
   ]
  },
  {
   "cell_type": "code",
   "execution_count": 75,
   "metadata": {},
   "outputs": [
    {
     "name": "stdout",
     "output_type": "stream",
     "text": [
      "<class 'pandas.core.frame.DataFrame'>\n",
      "RangeIndex: 2832 entries, 0 to 2831\n",
      "Data columns (total 14 columns):\n",
      "bairro                 2832 non-null object\n",
      "endereco               2832 non-null object\n",
      "quartos                2832 non-null int8\n",
      "tipo                   2832 non-null object\n",
      "preco                  2832 non-null float64\n",
      "distancia_aeroporto    2832 non-null float64\n",
      "cep                    2832 non-null float64\n",
      "banheiros              2832 non-null int8\n",
      "vagas                  2832 non-null int8\n",
      "area_terreno           2832 non-null float64\n",
      "area_construida        2832 non-null float64\n",
      "ano_construcao         2832 non-null float64\n",
      "latitude               2832 non-null float64\n",
      "longitude              2832 non-null float64\n",
      "dtypes: float64(8), int8(3), object(3)\n",
      "memory usage: 251.8+ KB\n"
     ]
    }
   ],
   "source": [
    "housing.quartos = housing.quartos.astype('int8')\n",
    "housing.banheiros = housing.banheiros.astype('int8')\n",
    "housing.vagas = housing.vagas.astype('int8')\n",
    "housing.info()"
   ]
  },
  {
   "cell_type": "markdown",
   "metadata": {},
   "source": [
    "Observe que o uso de memória do ```DataFrame``` caiu de 330.5+ KB para 268.5+ KB."
   ]
  },
  {
   "cell_type": "markdown",
   "metadata": {},
   "source": [
    "### Gráfico de frequência categórica\n",
    "Para nosso primeiro gráfico de frequência, plotaremos o resultado associado ao número de quartos. Como visto anteriormente, o número de quartos representa um conjunto limitado de opções. Para contar a frequência de ocorrência dos valores de uma coluna, utilizamos o comando [```Series.value_counts()```](https://pandas.pydata.org/pandas-docs/stable/reference/api/pandas.Series.value_counts.html)."
   ]
  },
  {
   "cell_type": "code",
   "execution_count": 76,
   "metadata": {},
   "outputs": [
    {
     "data": {
      "text/plain": [
       "3    1287\n",
       "4     687\n",
       "2     631\n",
       "5     158\n",
       "1      50\n",
       "6      14\n",
       "7       3\n",
       "8       2\n",
       "Name: quartos, dtype: int64"
      ]
     },
     "execution_count": 76,
     "metadata": {},
     "output_type": "execute_result"
    }
   ],
   "source": [
    "housing.quartos.value_counts()"
   ]
  },
  {
   "cell_type": "markdown",
   "metadata": {},
   "source": [
    "O resultado obtido é representado na forma de um ```DataFrame``` de coluna única (denominado ```Series```), com o número de quartos como indice e as frequências correspondentes como os valores. Utilizando o comando [```Series.plot.bar()```](https://pandas.pydata.org/pandas-docs/stable/reference/api/pandas.Series.plot.bar.html), temos a possibilidade de criar gráficos de barras diretamente a partir de uma ```Series```. "
   ]
  },
  {
   "cell_type": "code",
   "execution_count": 77,
   "metadata": {},
   "outputs": [
    {
     "data": {
      "text/plain": [
       "<matplotlib.axes._subplots.AxesSubplot at 0x7f35aaed7a90>"
      ]
     },
     "execution_count": 77,
     "metadata": {},
     "output_type": "execute_result"
    },
    {
     "data": {
      "image/png": "[encoded data removed]",
      "text/plain": [
       "<Figure size 432x288 with 1 Axes>"
      ]
     },
     "metadata": {
      "needs_background": "light"
     },
     "output_type": "display_data"
    }
   ],
   "source": [
    "housing.quartos.value_counts().plot.bar()"
   ]
  },
  {
   "cell_type": "markdown",
   "metadata": {},
   "source": [
    "Através do gráfico de frequência gerado é possível concluir que a maioria dos imóveis da tabela possui entre 2 e 4 quartos, sendo 3 o valor com maior frequência."
   ]
  },
  {
   "cell_type": "markdown",
   "metadata": {},
   "source": [
    "### Histograma\n",
    "Para criar histogramas (gráfico de frequência para dados contínuos), utilizaremos o comando [```Series.hist()```](https://pandas.pydata.org/pandas-docs/stable/reference/api/pandas.Series.hist.html) ou [```Series.plot.hist()```](https://pandas.pydata.org/pandas-docs/stable/reference/api/pandas.Series.plot.hist.html). Para criar o histograma dos preços dos imóveis, por exemplo, utilizamos o comando abaixo."
   ]
  },
  {
   "cell_type": "code",
   "execution_count": 78,
   "metadata": {},
   "outputs": [
    {
     "data": {
      "text/plain": [
       "<matplotlib.axes._subplots.AxesSubplot at 0x7f35abff8d68>"
      ]
     },
     "execution_count": 78,
     "metadata": {},
     "output_type": "execute_result"
    },
    {
     "data": {
      "image/png": "[encoded data removed]",
      "text/plain": [
       "<Figure size 432x288 with 1 Axes>"
      ]
     },
     "metadata": {
      "needs_background": "light"
     },
     "output_type": "display_data"
    }
   ],
   "source": [
    "housing.preco.plot.hist()"
   ]
  },
  {
   "cell_type": "markdown",
   "metadata": {},
   "source": [
    "Observe que os valores dos preços mostrados no eixo $x$ são de difícil visualização. Para resolver o problema temos três opções:\n",
    "* dividir todos os preços por 1000 (teriamos o valor em milhares de $)\n",
    "* rotacionar os valores do eixo definindo o parâmetro ```rot=45``` (45 graus)\n",
    "* aumentar o gráfico definindo o parâmetro ```figsize=(largura, altura)```\n"
   ]
  },
  {
   "cell_type": "markdown",
   "metadata": {},
   "source": [
    "### Dividindo por 1000\n",
    "Nesse caso, precisamos dividir a ```Series``` contendo os preços dos imóveis por 1000, resultando em uma nova ```Series```. Com os parênteses, utilizamos a função ```Series.plot.hist()``` ou simplesmente ```Series.hist()```."
   ]
  },
  {
   "cell_type": "code",
   "execution_count": 79,
   "metadata": {},
   "outputs": [
    {
     "data": {
      "text/plain": [
       "<matplotlib.axes._subplots.AxesSubplot at 0x7f35aaee46a0>"
      ]
     },
     "execution_count": 79,
     "metadata": {},
     "output_type": "execute_result"
    },
    {
     "data": {
      "image/png": "[encoded data removed]",
      "text/plain": [
       "<Figure size 432x288 with 1 Axes>"
      ]
     },
     "metadata": {
      "needs_background": "light"
     },
     "output_type": "display_data"
    }
   ],
   "source": [
    "(housing.preco / 1000).hist()"
   ]
  },
  {
   "cell_type": "markdown",
   "metadata": {},
   "source": [
    "### Rotacionando os valores do eixo $x$\n",
    "Para aplicar a rotação dos valores do eixo $x$, precisamos utilizar o comando ```Series.plot.hist()``` (o parâmetro ```rot``` não está presente na função direta ```Series.hist()```)"
   ]
  },
  {
   "cell_type": "code",
   "execution_count": 80,
   "metadata": {},
   "outputs": [
    {
     "data": {
      "text/plain": [
       "<matplotlib.axes._subplots.AxesSubplot at 0x7f35aafd8550>"
      ]
     },
     "execution_count": 80,
     "metadata": {},
     "output_type": "execute_result"
    },
    {
     "data": {
      "image/png": "[encoded data removed]",
      "text/plain": [
       "<Figure size 432x288 with 1 Axes>"
      ]
     },
     "metadata": {
      "needs_background": "light"
     },
     "output_type": "display_data"
    }
   ],
   "source": [
    "housing.preco.plot.hist(rot=45)"
   ]
  },
  {
   "cell_type": "markdown",
   "metadata": {},
   "source": [
    "### Alterando o tamanho do gráfico\n",
    "Na última opção, temos a possibilidade de melhorar a visualização modificando as dimensões do gráfico com o parâmetro ```figsize```. Nesse caso, definiremos as dimensões como sendo $10\\times 4$."
   ]
  },
  {
   "cell_type": "code",
   "execution_count": 81,
   "metadata": {},
   "outputs": [
    {
     "data": {
      "text/plain": [
       "<matplotlib.axes._subplots.AxesSubplot at 0x7f35aad0e780>"
      ]
     },
     "execution_count": 81,
     "metadata": {},
     "output_type": "execute_result"
    },
    {
     "data": {
      "image/png": "[encoded data removed]",
      "text/plain": [
       "<Figure size 720x288 with 1 Axes>"
      ]
     },
     "metadata": {
      "needs_background": "light"
     },
     "output_type": "display_data"
    }
   ],
   "source": [
    "housing.preco.hist(figsize=(10, 4))"
   ]
  },
  {
   "cell_type": "markdown",
   "metadata": {},
   "source": [
    "### Filtrando possíveis _outliers_\n",
    "Analisando o histograma acima, observamos que a maioria dos preços é inferior a 3 milhões. Para melhorar a visualização, podemos eliminar os preços que aparecem com menor frequência. Analisando o histograma, parece sensato eliminarmos valores superiores a 5 milhões."
   ]
  },
  {
   "cell_type": "code",
   "execution_count": 65,
   "metadata": {},
   "outputs": [
    {
     "data": {
      "text/plain": [
       "<matplotlib.axes._subplots.AxesSubplot at 0x7f35ab21d7b8>"
      ]
     },
     "execution_count": 65,
     "metadata": {},
     "output_type": "execute_result"
    },
    {
     "data": {
      "image/png": "[encoded data removed]",
      "text/plain": [
       "<Figure size 720x288 with 1 Axes>"
      ]
     },
     "metadata": {
      "needs_background": "light"
     },
     "output_type": "display_data"
    }
   ],
   "source": [
    "filtro = (housing.preco <= 5000000)\n",
    "housing[filtro].preco.plot.hist(figsize=(10, 4))"
   ]
  },
  {
   "cell_type": "markdown",
   "metadata": {},
   "source": [
    "Para estabelecer os limites dos _outliers_ podemos, também, utilizar a regra empírica que assume que 99.7% dos valores de uma variável aleatória estão contidas em um intervalo definido como $\\mu \\pm 3\\sigma$, onde $\\mu$ é a média dos valores e $sigma$ o desvio padrão. Como existe pouca chance de um valor estar fora desse intervalo, assumimos qualquer valor fora dela como sendo um _outlier_. Para calcular a média e o desvio padão dos valores de uma coluna utilizamos, respectivamente, as funções [```Series.mean()```](https://pandas.pydata.org/pandas-docs/stable/reference/api/pandas.Series.mean.html) e [```Series.std()```](https://pandas.pydata.org/pandas-docs/stable/reference/api/pandas.Series.std.html). Para calcular o limite superior, faremos $\\mu + 3\\times \\sigma$."
   ]
  },
  {
   "cell_type": "code",
   "execution_count": 85,
   "metadata": {},
   "outputs": [
    {
     "data": {
      "text/plain": [
       "3340065.670736038"
      ]
     },
     "execution_count": 85,
     "metadata": {},
     "output_type": "execute_result"
    }
   ],
   "source": [
    "housing.preco.mean() + 3 * housing.preco.std()"
   ]
  },
  {
   "cell_type": "markdown",
   "metadata": {},
   "source": [
    "De maneira análoga, para calcular o limite inferior, faremos $\\mu - 3\\times \\sigma$"
   ]
  },
  {
   "cell_type": "code",
   "execution_count": 86,
   "metadata": {},
   "outputs": [
    {
     "data": {
      "text/plain": [
       "-902211.1643801061"
      ]
     },
     "execution_count": 86,
     "metadata": {},
     "output_type": "execute_result"
    }
   ],
   "source": [
    "housing.preco.mean() - 3 * housing.preco.std()"
   ]
  },
  {
   "cell_type": "markdown",
   "metadata": {},
   "source": [
    "Para aplicar o filtro no preço dos imóveis para esse intervalo, utilizaremos o comando ```Series.between()```, que recebe como parâmetros os limites superior e inferior. Por questão de organização, criaremos uma variável chamada ```superior``` para guardar o limite superior e uma variável chamada ```inferior``` para aguardar o limite inferior. Em seguida, criaremos uma variável chamada ```filtro``` para guardar o filtro resultante da função ```Series.between()```. Finalmente, aplicaremos o filtro do ```DataFrame``` e criaremos o histograma."
   ]
  },
  {
   "cell_type": "code",
   "execution_count": 88,
   "metadata": {},
   "outputs": [
    {
     "data": {
      "text/plain": [
       "<matplotlib.axes._subplots.AxesSubplot at 0x7f35a9f4e2e8>"
      ]
     },
     "execution_count": 88,
     "metadata": {},
     "output_type": "execute_result"
    },
    {
     "data": {
      "image/png": "[encoded data removed]",
      "text/plain": [
       "<Figure size 720x288 with 1 Axes>"
      ]
     },
     "metadata": {
      "needs_background": "light"
     },
     "output_type": "display_data"
    }
   ],
   "source": [
    "superior = housing.preco.mean() + 3 * housing.preco.std()\n",
    "inferior = housing.preco.mean() - 3 * housing.preco.std()\n",
    "filtro = housing.preco.between(inferior, superior)\n",
    "housing[filtro].preco.plot.hist(figsize=(10, 4))"
   ]
  },
  {
   "cell_type": "markdown",
   "metadata": {},
   "source": [
    "Com o novo histograma é possível identificar que boa parte dos imóveis possuem valores de quinhentos mil a um milhão e quinhetos mil dólares. Entretanto, para melhor analisar a distribuição de preços dos imóveis, precisamos considerar os tipos disponíveis. Utilizando o comando [```Series.unique()```](https://pandas.pydata.org/pandas-docs/stable/reference/api/pandas.Series.unique.html), verificaremos os tipos de imóveis."
   ]
  },
  {
   "cell_type": "code",
   "execution_count": 10,
   "metadata": {},
   "outputs": [
    {
     "data": {
      "text/plain": [
       "array(['kitnet', 'casa', 'apartamento'], dtype=object)"
      ]
     },
     "execution_count": 10,
     "metadata": {},
     "output_type": "execute_result"
    }
   ],
   "source": [
    "housing.tipo.unique()"
   ]
  },
  {
   "cell_type": "markdown",
   "metadata": {},
   "source": [
    "Temos três tipos de imóveis (kitnet, casa e apartamento). Para cada tipo, criaremos o histograma de preços para comparar as distribuições de frequência. Para tanto, definiremos o parâmetro ```by``` como sendo igual a coluna ```tipo```. Esse parâmetro só terá efeito na função direta ```Series.hist()```.\n",
    "\n",
    "Para melhorar a visualização, definiremos o parâmetro ```figsize=(15, 8)```."
   ]
  },
  {
   "cell_type": "code",
   "execution_count": 67,
   "metadata": {},
   "outputs": [
    {
     "data": {
      "text/plain": [
       "array([[<matplotlib.axes._subplots.AxesSubplot object at 0x7f35ab28b0b8>,\n",
       "        <matplotlib.axes._subplots.AxesSubplot object at 0x7f35ab124588>],\n",
       "       [<matplotlib.axes._subplots.AxesSubplot object at 0x7f35ab0cbb00>,\n",
       "        <matplotlib.axes._subplots.AxesSubplot object at 0x7f35ab07d0b8>]],\n",
       "      dtype=object)"
      ]
     },
     "execution_count": 67,
     "metadata": {},
     "output_type": "execute_result"
    },
    {
     "data": {
      "image/png": "[encoded data removed]",
      "text/plain": [
       "<Figure size 1080x576 with 4 Axes>"
      ]
     },
     "metadata": {
      "needs_background": "light"
     },
     "output_type": "display_data"
    }
   ],
   "source": [
    "housing.preco.hist(figsize=(15, 8), by=housing.tipo)"
   ]
  }
 ],
 "metadata": {
  "kernelspec": {
   "display_name": "Python 3",
   "language": "python",
   "name": "python3"
  },
  "language_info": {
   "codemirror_mode": {
    "name": "ipython",
    "version": 3
   },
   "file_extension": ".py",
   "mimetype": "text/x-python",
   "name": "python",
   "nbconvert_exporter": "python",
   "pygments_lexer": "ipython3",
   "version": "3.7.1"
  }
 },
 "nbformat": 4,
 "nbformat_minor": 2
}
