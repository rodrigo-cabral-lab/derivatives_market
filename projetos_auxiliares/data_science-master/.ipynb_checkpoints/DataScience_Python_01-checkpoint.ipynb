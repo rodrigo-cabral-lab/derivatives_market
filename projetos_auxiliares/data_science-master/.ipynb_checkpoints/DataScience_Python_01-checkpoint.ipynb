{
 "cells": [
  {
   "cell_type": "markdown",
   "metadata": {},
   "source": [
    "# Data Science com Python <img src=\"https://upload.wikimedia.org/wikipedia/commons/thumb/c/c3/Python-logo-notext.svg/1024px-Python-logo-notext.svg.png\" width=\"40\" height=\"40\" align=\"center\"/> \n",
    "## Parte 01: Python, Pandas e o Google Colab\n",
    "Pandas é uma ferramenta open source de análise de dados rápida, poderosa, flexível e fácil de usar, construida sob a liguagem de programação Python. Clicando [aqui](https://pandas.pydata.org/docs/user_guide/index.html#user-guide) você terá acesso a toda documentação da ferramenta, incluindo exemplos e manual de instalação.\n",
    "\n",
    "Utilizando a plataforma [Colab](https://colab.research.google.com/) da Google, temos a possibilidade de utilizar a ferramenta sem necessidade de instalação e com a vantagem de utilizar o processamento de uma máquina virtual no servidor da própria Google. "
   ]
  },
  {
   "cell_type": "markdown",
   "metadata": {},
   "source": [
    "### Utilizando o pacotes pandas\n",
    "Primeiramente, para utilzarmos o pacote, é necessário importar o mesmo utilizando o comando ```import pandas as pd```. Para tando, acrescentamos o bloco de código abaixo."
   ]
  },
  {
   "cell_type": "code",
   "execution_count": 2,
   "metadata": {},
   "outputs": [],
   "source": [
    "import pandas as pd"
   ]
  },
  {
   "cell_type": "markdown",
   "metadata": {},
   "source": [
    "O final do comando de importação ```as pd``` estabelece um \"apelido\" para o pacote. Os apelidos são utilizados para facilitar o uso do pacote. No lugar de escrever ```pandas``` (com 6 caracteres) escreveremos ```pd``` (com apenas 2 caracteres)."
   ]
  },
  {
   "cell_type": "markdown",
   "metadata": {},
   "source": [
    "Para ler o arquivo contendo os dados que serão analisados utilizamos os comandos de input de arquivos. \n",
    "\n",
    "Alguns exemplos de comandos de input:\n",
    "* read_csv: para ler um arquivo .csv\n",
    "* read_excel: para ler um arquivo .xls ou .xlsx\n",
    "* read_sql: para ler uma tabela de um banco de dados a partir de um comando sql\n",
    "\n",
    "Clique [aqui](https://pandas.pydata.org/pandas-docs/stable/reference/io.html) para acessar a documentação completa de comandos de input e output. "
   ]
  },
  {
   "cell_type": "markdown",
   "metadata": {},
   "source": [
    "Para fazer alguns testes utilizaremos o arquivo ```countries.csv``` presente na pasta ```dados``` da página do github https://github.com/ronaldolagepessoa/data_science."
   ]
  },
  {
   "cell_type": "code",
   "execution_count": 3,
   "metadata": {},
   "outputs": [],
   "source": [
    "countries = pd.read_csv('https://raw.githubusercontent.com/ronaldolagepessoa/data_science/master/dados/countries.csv')"
   ]
  },
  {
   "cell_type": "markdown",
   "metadata": {},
   "source": [
    "Atribuimos à variável ```countries``` todos os dados contidos no arquivo ```countries.csv```. A variável (ou objeto) criada é do tipo [DataFrame](https://pandas.pydata.org/pandas-docs/stable/reference/api/pandas.DataFrame.html#pandas.DataFrame). [DataFrame](https://pandas.pydata.org/pandas-docs/stable/reference/api/pandas.DataFrame.html#pandas.DataFrame) é uma estrutura de dados de duas dimensões indexada com colunas de tipos diferentes. Podemos pensar nele como sendo uma planilha ou tabela SQL. Ele é, geralmente, o objeto mais comumente utilizado do ```pandas```  You can think of it like a spreadsheet or SQL table, or a dict of Series objects. It is generally the most commonly used pandas object."
   ]
  },
  {
   "cell_type": "code",
   "execution_count": 7,
   "metadata": {},
   "outputs": [
    {
     "data": {
      "text/plain": [
       "pandas.core.frame.DataFrame"
      ]
     },
     "execution_count": 7,
     "metadata": {},
     "output_type": "execute_result"
    }
   ],
   "source": [
    "type(countries)"
   ]
  },
  {
   "cell_type": "markdown",
   "metadata": {},
   "source": [
    "### Comandos básicos de um ```DataFrame```\n",
    "#### Comandos ```head()``` e ```tail()```\n",
    "As tabelas utilizadas em análise de dados costumam ser grandes. Para visualizar uma parte dos dados, utilizamos os comandos [```DataFrame.head()```](https://pandas.pydata.org/pandas-docs/stable/reference/api/pandas.DataFrame.head.html) ou [```DataFrame.tail()```](https://pandas.pydata.org/pandas-docs/stable/reference/api/pandas.DataFrame.tail.html). O primeiro retorna as 5 primeiras linhas da tabela e o segundo as 5 últimas. Para exibir um número específico de linhas, passamos este parâmetro dentro dos parênteses da função (e.g. ```DataFrame.head(10)``` retorna as 10 primeiras linhas do ```DataFrame```)."
   ]
  },
  {
   "cell_type": "code",
   "execution_count": 8,
   "metadata": {},
   "outputs": [
    {
     "data": {
      "text/html": [
       "<div>\n",
       "<style scoped>\n",
       "    .dataframe tbody tr th:only-of-type {\n",
       "        vertical-align: middle;\n",
       "    }\n",
       "\n",
       "    .dataframe tbody tr th {\n",
       "        vertical-align: top;\n",
       "    }\n",
       "\n",
       "    .dataframe thead th {\n",
       "        text-align: right;\n",
       "    }\n",
       "</style>\n",
       "<table border=\"1\" class=\"dataframe\">\n",
       "  <thead>\n",
       "    <tr style=\"text-align: right;\">\n",
       "      <th></th>\n",
       "      <th>country</th>\n",
       "      <th>year</th>\n",
       "      <th>population</th>\n",
       "    </tr>\n",
       "  </thead>\n",
       "  <tbody>\n",
       "    <tr>\n",
       "      <th>0</th>\n",
       "      <td>Afghanistan</td>\n",
       "      <td>1952</td>\n",
       "      <td>8425333</td>\n",
       "    </tr>\n",
       "    <tr>\n",
       "      <th>1</th>\n",
       "      <td>Afghanistan</td>\n",
       "      <td>1957</td>\n",
       "      <td>9240934</td>\n",
       "    </tr>\n",
       "    <tr>\n",
       "      <th>2</th>\n",
       "      <td>Afghanistan</td>\n",
       "      <td>1962</td>\n",
       "      <td>10267083</td>\n",
       "    </tr>\n",
       "    <tr>\n",
       "      <th>3</th>\n",
       "      <td>Afghanistan</td>\n",
       "      <td>1967</td>\n",
       "      <td>11537966</td>\n",
       "    </tr>\n",
       "    <tr>\n",
       "      <th>4</th>\n",
       "      <td>Afghanistan</td>\n",
       "      <td>1972</td>\n",
       "      <td>13079460</td>\n",
       "    </tr>\n",
       "  </tbody>\n",
       "</table>\n",
       "</div>"
      ],
      "text/plain": [
       "       country  year  population\n",
       "0  Afghanistan  1952     8425333\n",
       "1  Afghanistan  1957     9240934\n",
       "2  Afghanistan  1962    10267083\n",
       "3  Afghanistan  1967    11537966\n",
       "4  Afghanistan  1972    13079460"
      ]
     },
     "execution_count": 8,
     "metadata": {},
     "output_type": "execute_result"
    }
   ],
   "source": [
    "countries.head()"
   ]
  },
  {
   "cell_type": "code",
   "execution_count": 5,
   "metadata": {},
   "outputs": [
    {
     "data": {
      "text/html": [
       "<div>\n",
       "<style scoped>\n",
       "    .dataframe tbody tr th:only-of-type {\n",
       "        vertical-align: middle;\n",
       "    }\n",
       "\n",
       "    .dataframe tbody tr th {\n",
       "        vertical-align: top;\n",
       "    }\n",
       "\n",
       "    .dataframe thead th {\n",
       "        text-align: right;\n",
       "    }\n",
       "</style>\n",
       "<table border=\"1\" class=\"dataframe\">\n",
       "  <thead>\n",
       "    <tr style=\"text-align: right;\">\n",
       "      <th></th>\n",
       "      <th>country</th>\n",
       "      <th>year</th>\n",
       "      <th>population</th>\n",
       "    </tr>\n",
       "  </thead>\n",
       "  <tbody>\n",
       "    <tr>\n",
       "      <th>1699</th>\n",
       "      <td>Zimbabwe</td>\n",
       "      <td>1987</td>\n",
       "      <td>9216418</td>\n",
       "    </tr>\n",
       "    <tr>\n",
       "      <th>1700</th>\n",
       "      <td>Zimbabwe</td>\n",
       "      <td>1992</td>\n",
       "      <td>10704340</td>\n",
       "    </tr>\n",
       "    <tr>\n",
       "      <th>1701</th>\n",
       "      <td>Zimbabwe</td>\n",
       "      <td>1997</td>\n",
       "      <td>11404948</td>\n",
       "    </tr>\n",
       "    <tr>\n",
       "      <th>1702</th>\n",
       "      <td>Zimbabwe</td>\n",
       "      <td>2002</td>\n",
       "      <td>11926563</td>\n",
       "    </tr>\n",
       "    <tr>\n",
       "      <th>1703</th>\n",
       "      <td>Zimbabwe</td>\n",
       "      <td>2007</td>\n",
       "      <td>12311143</td>\n",
       "    </tr>\n",
       "  </tbody>\n",
       "</table>\n",
       "</div>"
      ],
      "text/plain": [
       "       country  year  population\n",
       "1699  Zimbabwe  1987     9216418\n",
       "1700  Zimbabwe  1992    10704340\n",
       "1701  Zimbabwe  1997    11404948\n",
       "1702  Zimbabwe  2002    11926563\n",
       "1703  Zimbabwe  2007    12311143"
      ]
     },
     "execution_count": 5,
     "metadata": {},
     "output_type": "execute_result"
    }
   ],
   "source": [
    "countries.tail()"
   ]
  },
  {
   "cell_type": "markdown",
   "metadata": {},
   "source": [
    "#### Comando ```info()```\n",
    "Utilizamos o comando [```DataFrame.info()```](https://pandas.pydata.org/pandas-docs/stable/reference/api/pandas.DataFrame.info.html) para verificar informações básica a respeito do ```DataFrame```, incluindo:\n",
    "* número de linhas e colunas\n",
    "* tipo de indice\n",
    "* tipo de cada coluna \n",
    "* mémoria utilizada\n",
    "\n"
   ]
  },
  {
   "cell_type": "code",
   "execution_count": 6,
   "metadata": {},
   "outputs": [
    {
     "name": "stdout",
     "output_type": "stream",
     "text": [
      "<class 'pandas.core.frame.DataFrame'>\n",
      "RangeIndex: 1704 entries, 0 to 1703\n",
      "Data columns (total 3 columns):\n",
      "country       1704 non-null object\n",
      "year          1704 non-null int64\n",
      "population    1704 non-null int64\n",
      "dtypes: int64(2), object(1)\n",
      "memory usage: 40.0+ KB\n"
     ]
    }
   ],
   "source": [
    "countries.info()"
   ]
  },
  {
   "cell_type": "markdown",
   "metadata": {},
   "source": [
    "### Acessando colunas de um ```DataFrame```\n",
    "Para acessar os valores de uma coluna podemos utilizar a notação ```DataFrame.nome_da_coluna``` ou ```DataFrame['nome_da_coluna']```, onde a segunda opção é obrigatória caso o nome da coluna contenha espaços ou caracteres especiais."
   ]
  },
  {
   "cell_type": "code",
   "execution_count": 7,
   "metadata": {},
   "outputs": [
    {
     "data": {
      "text/plain": [
       "0    Afghanistan\n",
       "1    Afghanistan\n",
       "2    Afghanistan\n",
       "3    Afghanistan\n",
       "4    Afghanistan\n",
       "Name: country, dtype: object"
      ]
     },
     "execution_count": 7,
     "metadata": {},
     "output_type": "execute_result"
    }
   ],
   "source": [
    "countries.country.head()"
   ]
  },
  {
   "cell_type": "code",
   "execution_count": 8,
   "metadata": {},
   "outputs": [
    {
     "data": {
      "text/plain": [
       "0    Afghanistan\n",
       "1    Afghanistan\n",
       "2    Afghanistan\n",
       "3    Afghanistan\n",
       "4    Afghanistan\n",
       "Name: country, dtype: object"
      ]
     },
     "execution_count": 8,
     "metadata": {},
     "output_type": "execute_result"
    }
   ],
   "source": [
    "countries['country'].head()"
   ]
  },
  {
   "cell_type": "markdown",
   "metadata": {},
   "source": [
    "Uma [```Series```](https://pandas.pydata.org/pandas-docs/stable/reference/api/pandas.Series.html#pandas.Series) é uma lista unidimensional indexada capaz de guardar dados de um tipo específico (inteiro, texto, ponto flutuante, objetos python, etc.). Uma ```Series```do ```pandas``` nada mais é do que uma coluna de uma tabela."
   ]
  },
  {
   "cell_type": "code",
   "execution_count": 9,
   "metadata": {},
   "outputs": [
    {
     "data": {
      "text/plain": [
       "pandas.core.series.Series"
      ]
     },
     "execution_count": 9,
     "metadata": {},
     "output_type": "execute_result"
    }
   ],
   "source": [
    "type(countries.country)"
   ]
  },
  {
   "cell_type": "markdown",
   "metadata": {},
   "source": [
    "### Estatísticas descritivas\n",
    "Para obter estatísticas descritivas básicas das colunas com dados numéricos, utilizamos o comando [```DataFrame.describe()```](https://pandas.pydata.org/pandas-docs/stable/reference/api/pandas.DataFrame.describe.html)."
   ]
  },
  {
   "cell_type": "code",
   "execution_count": 10,
   "metadata": {},
   "outputs": [
    {
     "data": {
      "text/html": [
       "<div>\n",
       "<style scoped>\n",
       "    .dataframe tbody tr th:only-of-type {\n",
       "        vertical-align: middle;\n",
       "    }\n",
       "\n",
       "    .dataframe tbody tr th {\n",
       "        vertical-align: top;\n",
       "    }\n",
       "\n",
       "    .dataframe thead th {\n",
       "        text-align: right;\n",
       "    }\n",
       "</style>\n",
       "<table border=\"1\" class=\"dataframe\">\n",
       "  <thead>\n",
       "    <tr style=\"text-align: right;\">\n",
       "      <th></th>\n",
       "      <th>year</th>\n",
       "      <th>population</th>\n",
       "    </tr>\n",
       "  </thead>\n",
       "  <tbody>\n",
       "    <tr>\n",
       "      <th>count</th>\n",
       "      <td>1704.00000</td>\n",
       "      <td>1.704000e+03</td>\n",
       "    </tr>\n",
       "    <tr>\n",
       "      <th>mean</th>\n",
       "      <td>1979.50000</td>\n",
       "      <td>2.960121e+07</td>\n",
       "    </tr>\n",
       "    <tr>\n",
       "      <th>std</th>\n",
       "      <td>17.26533</td>\n",
       "      <td>1.061579e+08</td>\n",
       "    </tr>\n",
       "    <tr>\n",
       "      <th>min</th>\n",
       "      <td>1952.00000</td>\n",
       "      <td>6.001100e+04</td>\n",
       "    </tr>\n",
       "    <tr>\n",
       "      <th>25%</th>\n",
       "      <td>1965.75000</td>\n",
       "      <td>2.793664e+06</td>\n",
       "    </tr>\n",
       "    <tr>\n",
       "      <th>50%</th>\n",
       "      <td>1979.50000</td>\n",
       "      <td>7.023596e+06</td>\n",
       "    </tr>\n",
       "    <tr>\n",
       "      <th>75%</th>\n",
       "      <td>1993.25000</td>\n",
       "      <td>1.958522e+07</td>\n",
       "    </tr>\n",
       "    <tr>\n",
       "      <th>max</th>\n",
       "      <td>2007.00000</td>\n",
       "      <td>1.318683e+09</td>\n",
       "    </tr>\n",
       "  </tbody>\n",
       "</table>\n",
       "</div>"
      ],
      "text/plain": [
       "             year    population\n",
       "count  1704.00000  1.704000e+03\n",
       "mean   1979.50000  2.960121e+07\n",
       "std      17.26533  1.061579e+08\n",
       "min    1952.00000  6.001100e+04\n",
       "25%    1965.75000  2.793664e+06\n",
       "50%    1979.50000  7.023596e+06\n",
       "75%    1993.25000  1.958522e+07\n",
       "max    2007.00000  1.318683e+09"
      ]
     },
     "execution_count": 10,
     "metadata": {},
     "output_type": "execute_result"
    }
   ],
   "source": [
    "countries.describe()"
   ]
  },
  {
   "cell_type": "markdown",
   "metadata": {},
   "source": [
    "Como resultado, temos:\n",
    "* ```count```: número de registros não nulos\n",
    "* ```mean```: média aritmética\n",
    "* ```std```: desvio padrão\n",
    "* ```min```: menor valor\n",
    "* ```25%```: primeiro quartil\n",
    "* ```50%```: segundo quartil (mediana)\n",
    "* ```75%```: terceiro quartil\n",
    "* ```max```: maior valor"
   ]
  },
  {
   "cell_type": "markdown",
   "metadata": {},
   "source": [
    "O comando ```describe()``` pode ser aplicado também em uma ```Series```. No exemplo abaixo, aplicamos o comando na coluna ```population```."
   ]
  },
  {
   "cell_type": "code",
   "execution_count": 11,
   "metadata": {},
   "outputs": [
    {
     "data": {
      "text/plain": [
       "count    1.704000e+03\n",
       "mean     2.960121e+07\n",
       "std      1.061579e+08\n",
       "min      6.001100e+04\n",
       "25%      2.793664e+06\n",
       "50%      7.023596e+06\n",
       "75%      1.958522e+07\n",
       "max      1.318683e+09\n",
       "Name: population, dtype: float64"
      ]
     },
     "execution_count": 11,
     "metadata": {},
     "output_type": "execute_result"
    }
   ],
   "source": [
    "countries.population.describe()"
   ]
  },
  {
   "cell_type": "markdown",
   "metadata": {},
   "source": [
    "Cada uma das estatísticas acima pode, também, ser calculada individualmente. Para calcular a média dos valores de uma coluna, por exemplo, utilizamos o comando [```Series.mean()```](https://pandas.pydata.org/pandas-docs/stable/reference/api/pandas.Series.mean.html)."
   ]
  },
  {
   "cell_type": "code",
   "execution_count": 12,
   "metadata": {},
   "outputs": [
    {
     "data": {
      "text/plain": [
       "29601212.324530516"
      ]
     },
     "execution_count": 12,
     "metadata": {},
     "output_type": "execute_result"
    }
   ],
   "source": [
    "countries.population.mean()"
   ]
  },
  {
   "cell_type": "markdown",
   "metadata": {},
   "source": [
    "Outros exemplos de estatísticas descritivas disponível no pacote tanto para ```DataFrame``` como para ```Series```:\n",
    "\n",
    "|comando|descrição|\n",
    "|-|-|\n",
    "|[```sum()```](https://pandas.pydata.org/pandas-docs/stable/reference/api/pandas.DataFrame.sum.html)|Soma de todos os valores|\n",
    "|[```mode()```](https://pandas.pydata.org/pandas-docs/stable/reference/api/pandas.DataFrame.mode.html?highlight=mode#pandas.DataFrame.mode)|Moda dos valores|\n",
    "|[```abs()```](https://pandas.pydata.org/pandas-docs/stable/reference/api/pandas.DataFrame.abs.html?highlight=abs#pandas.DataFrame.abs)| Valor absoluto|\n",
    "|[```prod()```](https://pandas.pydata.org/pandas-docs/stable/reference/api/pandas.DataFrame.prod.html?highlight=prod#pandas.DataFrame.prod)|Produto de todos os valores|\n",
    "|[```cumsum()```](https://pandas.pydata.org/pandas-docs/stable/reference/api/pandas.DataFrame.cumsum.html?highlight=cumsum#pandas.DataFrame.cumsum)|Soma acumulada dos valores|\n",
    "|[```cumprod()```](https://pandas.pydata.org/pandas-docs/stable/reference/api/pandas.DataFrame.cumprod.html?highlight=cumprod#pandas.DataFrame.cumprod)|Produto acumulado dos valores|\n",
    "|[```kurtosis()```](https://pandas.pydata.org/pandas-docs/stable/reference/api/pandas.DataFrame.kurtosis.html?highlight=kurtosis#pandas.DataFrame.kurtosis)|Curtose|\n",
    "|[```skew()```](https://pandas.pydata.org/pandas-docs/stable/reference/api/pandas.DataFrame.skew.html?highlight=skew#pandas.DataFrame.skew)|Assimetria|\n",
    "|[```mad()```](https://pandas.pydata.org/pandas-docs/stable/reference/api/pandas.DataFrame.mad.html?highlight=mad#pandas.DataFrame.mad)|Desvio médio absoluto|"
   ]
  },
  {
   "cell_type": "markdown",
   "metadata": {},
   "source": [
    "### Aplicando filtros em um ```DataFrame```\n",
    "\n",
    "Para filtrar valores de uma tabela utilizamos a notação ```DataFrame[filtro]```. Para filtrar somente os dados do Brasil, por exemplo, utilizamos o comando ```countries[countries.country == 'Brazil']```."
   ]
  },
  {
   "cell_type": "code",
   "execution_count": 13,
   "metadata": {},
   "outputs": [
    {
     "data": {
      "text/html": [
       "<div>\n",
       "<style scoped>\n",
       "    .dataframe tbody tr th:only-of-type {\n",
       "        vertical-align: middle;\n",
       "    }\n",
       "\n",
       "    .dataframe tbody tr th {\n",
       "        vertical-align: top;\n",
       "    }\n",
       "\n",
       "    .dataframe thead th {\n",
       "        text-align: right;\n",
       "    }\n",
       "</style>\n",
       "<table border=\"1\" class=\"dataframe\">\n",
       "  <thead>\n",
       "    <tr style=\"text-align: right;\">\n",
       "      <th></th>\n",
       "      <th>country</th>\n",
       "      <th>year</th>\n",
       "      <th>population</th>\n",
       "    </tr>\n",
       "  </thead>\n",
       "  <tbody>\n",
       "    <tr>\n",
       "      <th>168</th>\n",
       "      <td>Brazil</td>\n",
       "      <td>1952</td>\n",
       "      <td>56602560</td>\n",
       "    </tr>\n",
       "    <tr>\n",
       "      <th>169</th>\n",
       "      <td>Brazil</td>\n",
       "      <td>1957</td>\n",
       "      <td>65551171</td>\n",
       "    </tr>\n",
       "    <tr>\n",
       "      <th>170</th>\n",
       "      <td>Brazil</td>\n",
       "      <td>1962</td>\n",
       "      <td>76039390</td>\n",
       "    </tr>\n",
       "    <tr>\n",
       "      <th>171</th>\n",
       "      <td>Brazil</td>\n",
       "      <td>1967</td>\n",
       "      <td>88049823</td>\n",
       "    </tr>\n",
       "    <tr>\n",
       "      <th>172</th>\n",
       "      <td>Brazil</td>\n",
       "      <td>1972</td>\n",
       "      <td>100840058</td>\n",
       "    </tr>\n",
       "    <tr>\n",
       "      <th>173</th>\n",
       "      <td>Brazil</td>\n",
       "      <td>1977</td>\n",
       "      <td>114313951</td>\n",
       "    </tr>\n",
       "    <tr>\n",
       "      <th>174</th>\n",
       "      <td>Brazil</td>\n",
       "      <td>1982</td>\n",
       "      <td>128962939</td>\n",
       "    </tr>\n",
       "    <tr>\n",
       "      <th>175</th>\n",
       "      <td>Brazil</td>\n",
       "      <td>1987</td>\n",
       "      <td>142938076</td>\n",
       "    </tr>\n",
       "    <tr>\n",
       "      <th>176</th>\n",
       "      <td>Brazil</td>\n",
       "      <td>1992</td>\n",
       "      <td>155975974</td>\n",
       "    </tr>\n",
       "    <tr>\n",
       "      <th>177</th>\n",
       "      <td>Brazil</td>\n",
       "      <td>1997</td>\n",
       "      <td>168546719</td>\n",
       "    </tr>\n",
       "    <tr>\n",
       "      <th>178</th>\n",
       "      <td>Brazil</td>\n",
       "      <td>2002</td>\n",
       "      <td>179914212</td>\n",
       "    </tr>\n",
       "    <tr>\n",
       "      <th>179</th>\n",
       "      <td>Brazil</td>\n",
       "      <td>2007</td>\n",
       "      <td>190010647</td>\n",
       "    </tr>\n",
       "  </tbody>\n",
       "</table>\n",
       "</div>"
      ],
      "text/plain": [
       "    country  year  population\n",
       "168  Brazil  1952    56602560\n",
       "169  Brazil  1957    65551171\n",
       "170  Brazil  1962    76039390\n",
       "171  Brazil  1967    88049823\n",
       "172  Brazil  1972   100840058\n",
       "173  Brazil  1977   114313951\n",
       "174  Brazil  1982   128962939\n",
       "175  Brazil  1987   142938076\n",
       "176  Brazil  1992   155975974\n",
       "177  Brazil  1997   168546719\n",
       "178  Brazil  2002   179914212\n",
       "179  Brazil  2007   190010647"
      ]
     },
     "execution_count": 13,
     "metadata": {},
     "output_type": "execute_result"
    }
   ],
   "source": [
    "countries[countries.country == 'Brazil']"
   ]
  },
  {
   "cell_type": "markdown",
   "metadata": {},
   "source": [
    "O resultado obtido é um novo ```DataFrame```contendo somente as linhas cuja coluna ```country``` possui valor igual a \"Brazil\"."
   ]
  },
  {
   "cell_type": "markdown",
   "metadata": {},
   "source": [
    "### Acessando valores em um ```DataFrame```\n",
    "\n",
    "Para acessar valores (ou intervalos de valores) contamos com os comandos [```DataFrame.loc[index, nome_da_coluna]```](https://pandas.pydata.org/pandas-docs/stable/reference/api/pandas.DataFrame.loc.html) e [```DataFrame.iloc[linha, coluna]```](https://pandas.pydata.org/pandas-docs/stable/reference/api/pandas.DataFrame.iloc.html). Para exemplificar a utilização dos dois métodos, acessaremos o valor contido na primeira linha da primeira coluna (no caso, a coluna ```country```). "
   ]
  },
  {
   "cell_type": "code",
   "execution_count": 6,
   "metadata": {},
   "outputs": [
    {
     "data": {
      "text/plain": [
       "'Afghanistan'"
      ]
     },
     "execution_count": 6,
     "metadata": {},
     "output_type": "execute_result"
    }
   ],
   "source": [
    "countries.loc[0, 'country']"
   ]
  },
  {
   "cell_type": "code",
   "execution_count": 5,
   "metadata": {},
   "outputs": [
    {
     "data": {
      "text/plain": [
       "'Afghanistan'"
      ]
     },
     "execution_count": 5,
     "metadata": {},
     "output_type": "execute_result"
    }
   ],
   "source": [
    "countries.iloc[0, 0]"
   ]
  },
  {
   "cell_type": "markdown",
   "metadata": {},
   "source": [
    "Para o comando ```DataFrame.loc[]```, podemos passar uma condição como seleção linhas e uma lista para as colunas. Por exemplo, selecionaremos somente as linhas cuja população é menor que 100 mil e as colunas ```country``` e ```population```. "
   ]
  },
  {
   "cell_type": "code",
   "execution_count": 16,
   "metadata": {},
   "outputs": [
    {
     "data": {
      "text/html": [
       "<div>\n",
       "<style scoped>\n",
       "    .dataframe tbody tr th:only-of-type {\n",
       "        vertical-align: middle;\n",
       "    }\n",
       "\n",
       "    .dataframe tbody tr th {\n",
       "        vertical-align: top;\n",
       "    }\n",
       "\n",
       "    .dataframe thead th {\n",
       "        text-align: right;\n",
       "    }\n",
       "</style>\n",
       "<table border=\"1\" class=\"dataframe\">\n",
       "  <thead>\n",
       "    <tr style=\"text-align: right;\">\n",
       "      <th></th>\n",
       "      <th>country</th>\n",
       "      <th>population</th>\n",
       "    </tr>\n",
       "  </thead>\n",
       "  <tbody>\n",
       "    <tr>\n",
       "      <th>420</th>\n",
       "      <td>Djibouti</td>\n",
       "      <td>63149</td>\n",
       "    </tr>\n",
       "    <tr>\n",
       "      <th>421</th>\n",
       "      <td>Djibouti</td>\n",
       "      <td>71851</td>\n",
       "    </tr>\n",
       "    <tr>\n",
       "      <th>422</th>\n",
       "      <td>Djibouti</td>\n",
       "      <td>89898</td>\n",
       "    </tr>\n",
       "    <tr>\n",
       "      <th>1296</th>\n",
       "      <td>Sao Tome and Principe</td>\n",
       "      <td>60011</td>\n",
       "    </tr>\n",
       "    <tr>\n",
       "      <th>1297</th>\n",
       "      <td>Sao Tome and Principe</td>\n",
       "      <td>61325</td>\n",
       "    </tr>\n",
       "    <tr>\n",
       "      <th>1298</th>\n",
       "      <td>Sao Tome and Principe</td>\n",
       "      <td>65345</td>\n",
       "    </tr>\n",
       "    <tr>\n",
       "      <th>1299</th>\n",
       "      <td>Sao Tome and Principe</td>\n",
       "      <td>70787</td>\n",
       "    </tr>\n",
       "    <tr>\n",
       "      <th>1300</th>\n",
       "      <td>Sao Tome and Principe</td>\n",
       "      <td>76595</td>\n",
       "    </tr>\n",
       "    <tr>\n",
       "      <th>1301</th>\n",
       "      <td>Sao Tome and Principe</td>\n",
       "      <td>86796</td>\n",
       "    </tr>\n",
       "    <tr>\n",
       "      <th>1302</th>\n",
       "      <td>Sao Tome and Principe</td>\n",
       "      <td>98593</td>\n",
       "    </tr>\n",
       "  </tbody>\n",
       "</table>\n",
       "</div>"
      ],
      "text/plain": [
       "                    country  population\n",
       "420                Djibouti       63149\n",
       "421                Djibouti       71851\n",
       "422                Djibouti       89898\n",
       "1296  Sao Tome and Principe       60011\n",
       "1297  Sao Tome and Principe       61325\n",
       "1298  Sao Tome and Principe       65345\n",
       "1299  Sao Tome and Principe       70787\n",
       "1300  Sao Tome and Principe       76595\n",
       "1301  Sao Tome and Principe       86796\n",
       "1302  Sao Tome and Principe       98593"
      ]
     },
     "execution_count": 16,
     "metadata": {},
     "output_type": "execute_result"
    }
   ],
   "source": [
    "countries.loc[countries.population < 100000, ['country', 'population']]"
   ]
  },
  {
   "cell_type": "markdown",
   "metadata": {},
   "source": [
    "O comando ```DataFrame.iloc[]``` não permite o uso de condições, podendo selecionar faixa de valores através da notação ```posição_inicial:posição_final```. Deixando a posição da linha ou coluna em branco gera a seleção de todos os valores. Por exemplo, para selecionar as linhas de 16 a 24, utilizamos o comando abaixo."
   ]
  },
  {
   "cell_type": "code",
   "execution_count": 7,
   "metadata": {},
   "outputs": [
    {
     "data": {
      "text/html": [
       "<div>\n",
       "<style scoped>\n",
       "    .dataframe tbody tr th:only-of-type {\n",
       "        vertical-align: middle;\n",
       "    }\n",
       "\n",
       "    .dataframe tbody tr th {\n",
       "        vertical-align: top;\n",
       "    }\n",
       "\n",
       "    .dataframe thead th {\n",
       "        text-align: right;\n",
       "    }\n",
       "</style>\n",
       "<table border=\"1\" class=\"dataframe\">\n",
       "  <thead>\n",
       "    <tr style=\"text-align: right;\">\n",
       "      <th></th>\n",
       "      <th>country</th>\n",
       "      <th>year</th>\n",
       "      <th>population</th>\n",
       "    </tr>\n",
       "  </thead>\n",
       "  <tbody>\n",
       "    <tr>\n",
       "      <th>16</th>\n",
       "      <td>Albania</td>\n",
       "      <td>1972</td>\n",
       "      <td>2263554</td>\n",
       "    </tr>\n",
       "    <tr>\n",
       "      <th>17</th>\n",
       "      <td>Albania</td>\n",
       "      <td>1977</td>\n",
       "      <td>2509048</td>\n",
       "    </tr>\n",
       "    <tr>\n",
       "      <th>18</th>\n",
       "      <td>Albania</td>\n",
       "      <td>1982</td>\n",
       "      <td>2780097</td>\n",
       "    </tr>\n",
       "    <tr>\n",
       "      <th>19</th>\n",
       "      <td>Albania</td>\n",
       "      <td>1987</td>\n",
       "      <td>3075321</td>\n",
       "    </tr>\n",
       "    <tr>\n",
       "      <th>20</th>\n",
       "      <td>Albania</td>\n",
       "      <td>1992</td>\n",
       "      <td>3326498</td>\n",
       "    </tr>\n",
       "    <tr>\n",
       "      <th>21</th>\n",
       "      <td>Albania</td>\n",
       "      <td>1997</td>\n",
       "      <td>3428038</td>\n",
       "    </tr>\n",
       "    <tr>\n",
       "      <th>22</th>\n",
       "      <td>Albania</td>\n",
       "      <td>2002</td>\n",
       "      <td>3508512</td>\n",
       "    </tr>\n",
       "    <tr>\n",
       "      <th>23</th>\n",
       "      <td>Albania</td>\n",
       "      <td>2007</td>\n",
       "      <td>3600523</td>\n",
       "    </tr>\n",
       "    <tr>\n",
       "      <th>24</th>\n",
       "      <td>Algeria</td>\n",
       "      <td>1952</td>\n",
       "      <td>9279525</td>\n",
       "    </tr>\n",
       "  </tbody>\n",
       "</table>\n",
       "</div>"
      ],
      "text/plain": [
       "    country  year  population\n",
       "16  Albania  1972     2263554\n",
       "17  Albania  1977     2509048\n",
       "18  Albania  1982     2780097\n",
       "19  Albania  1987     3075321\n",
       "20  Albania  1992     3326498\n",
       "21  Albania  1997     3428038\n",
       "22  Albania  2002     3508512\n",
       "23  Albania  2007     3600523\n",
       "24  Algeria  1952     9279525"
      ]
     },
     "execution_count": 7,
     "metadata": {},
     "output_type": "execute_result"
    }
   ],
   "source": [
    "countries.iloc[16:25, ]"
   ]
  },
  {
   "cell_type": "markdown",
   "metadata": {},
   "source": [
    "## Visualização de dados com ```matplotlib```\n",
    "\n",
    "Para a visualização de dados utilizaremos o pacote [```matplotlib.pyplot```](https://matplotlib.org/3.1.1/api/_as_gen/matplotlib.pyplot.html)."
   ]
  },
  {
   "cell_type": "code",
   "execution_count": 8,
   "metadata": {},
   "outputs": [],
   "source": [
    "import matplotlib.pyplot as plt"
   ]
  },
  {
   "cell_type": "markdown",
   "metadata": {},
   "source": [
    "Apelidado de ```plt```, o pacote ```matplotlib.pyplot``` possui todos os diferentes tipos de gráficos utilizados para análise visual de dados.\n",
    "### Gráfico de linha\n",
    "Para um primeiro teste, utilizaremos o comando [```plt.plot(x, y)```](https://matplotlib.org/3.1.1/api/_as_gen/matplotlib.pyplot.plot.html#matplotlib.pyplot.plot). Esse comando gera um gráfico de linha, onde ```x``` é a lista de valores correspondente ao eixo $x$ e ```y``` é lista de valores para o eixo $y$."
   ]
  },
  {
   "cell_type": "markdown",
   "metadata": {},
   "source": [
    "Para aplicarmos o comando no ```DataFrame``` ```countries```, faremos um filtro na coluna ```country``` para selecionar somente os dados dos Estados Unidos. Como resultado, criaremos um novo ```DataFrame``` que chamaremos de ```usa```."
   ]
  },
  {
   "cell_type": "code",
   "execution_count": 9,
   "metadata": {},
   "outputs": [],
   "source": [
    "usa = countries[countries.country == 'United States'].copy()"
   ]
  },
  {
   "cell_type": "markdown",
   "metadata": {},
   "source": [
    "Acrescentamos o comando [```copy()```](https://pandas.pydata.org/pandas-docs/stable/reference/api/pandas.DataFrame.copy.html) no final do ```DataFrame``` copiado para evitar problemas de referência."
   ]
  },
  {
   "cell_type": "markdown",
   "metadata": {},
   "source": [
    "Agora podemos plotar o gráfico do crescimento populacional dos Estados Unidos da seguinte forma:"
   ]
  },
  {
   "cell_type": "code",
   "execution_count": 20,
   "metadata": {},
   "outputs": [
    {
     "data": {
      "text/plain": [
       "<matplotlib.legend.Legend at 0x7f6c6307eba8>"
      ]
     },
     "execution_count": 20,
     "metadata": {},
     "output_type": "execute_result"
    },
    {
     "data": {
      "image/png": "[encoded data removed]",
      "text/plain": [
       "<Figure size 432x288 with 1 Axes>"
      ]
     },
     "metadata": {
      "needs_background": "light"
     },
     "output_type": "display_data"
    }
   ],
   "source": [
    "plt.plot(usa.year, usa.population)\n",
    "plt.title('Crescimento Populacional EUA')\n",
    "plt.legend(['EUA'])"
   ]
  },
  {
   "cell_type": "markdown",
   "metadata": {},
   "source": [
    "Observe que utilizamos como eixo $x$ os valores do ano da população. Essa escolha faz sentido já que o crescimento populacional é afetado pelo tempo."
   ]
  },
  {
   "cell_type": "markdown",
   "metadata": {},
   "source": [
    "O pacote ```matplotlib``` está presente também no próprio pacote ```pandas```. Dentre as funcionalidades de um ```DataFrame```, temos a opção de gerar gráficos de forma direta através do comando [```DataFrame.plot()```](https://pandas.pydata.org/pandas-docs/version/0.23.4/generated/pandas.DataFrame.plot.html). A vantagem da utilização do método direto é a criação automática de legendas e labels."
   ]
  },
  {
   "cell_type": "code",
   "execution_count": 28,
   "metadata": {},
   "outputs": [
    {
     "data": {
      "text/plain": [
       "<matplotlib.axes._subplots.AxesSubplot at 0x7fa578d3b0b8>"
      ]
     },
     "execution_count": 28,
     "metadata": {},
     "output_type": "execute_result"
    },
    {
     "data": {
      "image/png": "[encoded data removed]",
      "text/plain": [
       "<Figure size 432x288 with 1 Axes>"
      ]
     },
     "metadata": {
      "needs_background": "light"
     },
     "output_type": "display_data"
    }
   ],
   "source": [
    "usa.plot(x='year', y='population', title='Crescimento Populacional dos EUA')"
   ]
  },
  {
   "cell_type": "markdown",
   "metadata": {},
   "source": [
    "### Visualizando mais de uma série de dados\n",
    "Gostaríamos, agora, de comparar o crescimento populacional dos Estados Unidos e Brasil. Para isso, criaremos um novo ```DataFrame``` contendo somente as informações associadas ao Brasil."
   ]
  },
  {
   "cell_type": "code",
   "execution_count": 10,
   "metadata": {},
   "outputs": [],
   "source": [
    "brazil = countries[countries.country == \"Brazil\"].copy()"
   ]
  },
  {
   "cell_type": "markdown",
   "metadata": {},
   "source": [
    "Para criar um gráfico de linhas contendo as duas informações, baste colocarmos dois comandos ```plt.plot()``` seguidos. Uma para cada inforamções desejada.\n",
    "\n",
    "Adicionaremos, também, um novo comando chamado [```plt.legend()```](https://matplotlib.org/3.1.1/api/_as_gen/matplotlib.pyplot.legend.html) na última linha. Esse comando é utilizado para acrescentar as legendas no gráfico."
   ]
  },
  {
   "cell_type": "code",
   "execution_count": 26,
   "metadata": {},
   "outputs": [
    {
     "data": {
      "text/plain": [
       "<matplotlib.legend.Legend at 0x7fa578dfeb38>"
      ]
     },
     "execution_count": 26,
     "metadata": {},
     "output_type": "execute_result"
    },
    {
     "data": {
      "image/png": "[encoded data removed]",
      "text/plain": [
       "<Figure size 432x288 with 1 Axes>"
      ]
     },
     "metadata": {
      "needs_background": "light"
     },
     "output_type": "display_data"
    }
   ],
   "source": [
    "plt.plot(usa.year, usa.population)\n",
    "plt.plot(brazil.year, brazil.population)\n",
    "plt.title('Crescimento Populacional EUA vs BR')\n",
    "plt.legend(['EUA', 'BR'])"
   ]
  },
  {
   "cell_type": "markdown",
   "metadata": {},
   "source": [
    "Analisando o gráfico acima é possível perceber que a população dos Estados Unidos foi maior que a população do Brasil em todos os períodos analisados. Além disso, observa-se um crescimento (aparentemente) linear das duas populações com, aparentemente, a mesma taxa de crescimento (mesma inclinação).\n",
    "\n",
    "__Pergunta__: Qual dos dois países cresceu mais rápido em relação a sua população?\n",
    "\n",
    "Para responder a essa pergunta precisaremos gerar mais informação no nosso conjunto de dados. Nesse caso, precisamos calcular o crescimento relativo das duas populações."
   ]
  },
  {
   "cell_type": "markdown",
   "metadata": {},
   "source": [
    "### Operações matemáticas em colunas\n",
    "\n",
    "Uma vantagem gigantesca na utilização de um ```DataFrame``` está na facilidade de executar operações matemáticas em colunas (ou linhas). Se precisássemos múltiplicar todos os valores da coluna ```population``` do nosso ```DataFrame``` ```usa``` por 2 basta fazer como mostrado no comando abaixo."
   ]
  },
  {
   "cell_type": "code",
   "execution_count": 30,
   "metadata": {},
   "outputs": [
    {
     "data": {
      "text/plain": [
       "1608    315106000\n",
       "1609    343968000\n",
       "1610    373076000\n",
       "1611    397424000\n",
       "1612    419792000\n",
       "1613    440478000\n",
       "1614    464375670\n",
       "1615    485607066\n",
       "1616    513788378\n",
       "1617    545823520\n",
       "1618    575351052\n",
       "1619    602279894\n",
       "Name: population, dtype: int64"
      ]
     },
     "execution_count": 30,
     "metadata": {},
     "output_type": "execute_result"
    }
   ],
   "source": [
    "usa.population * 2"
   ]
  },
  {
   "cell_type": "markdown",
   "metadata": {},
   "source": [
    "### Calculando o crescimento relativo (respondendo à pergunta)\n",
    "Para calcular o crescimento relativo da população dos Estados Unidos, por exemplo, podemos utilizar a população do primeiro ano de registro como base e dividir todas as populações por esse valor.\n",
    "\n",
    "Para obter o valor da primeira população utilizaremos a função ```DataFrame.iloc[linha, coluna]```. Por exemplo, o resultado da posição ```usa.iloc[0, 0]``` retorna o valor \"United States\"."
   ]
  },
  {
   "cell_type": "code",
   "execution_count": 23,
   "metadata": {},
   "outputs": [
    {
     "data": {
      "text/plain": [
       "'United States'"
      ]
     },
     "execution_count": 23,
     "metadata": {},
     "output_type": "execute_result"
    }
   ],
   "source": [
    "usa.iloc[0, 0]"
   ]
  },
  {
   "cell_type": "markdown",
   "metadata": {},
   "source": [
    "Como a coluna referente a população é a coluna 2, utilizamos a posição ```iloc[0, 2]``` para obter o valor desejado."
   ]
  },
  {
   "cell_type": "code",
   "execution_count": 24,
   "metadata": {},
   "outputs": [
    {
     "data": {
      "text/plain": [
       "157553000"
      ]
     },
     "execution_count": 24,
     "metadata": {},
     "output_type": "execute_result"
    }
   ],
   "source": [
    "usa.iloc[0, 2]"
   ]
  },
  {
   "cell_type": "markdown",
   "metadata": {},
   "source": [
    "Criaremos uma nova coluna do ```DataFrame``` para guardar o crescimento populacional relativo.\n",
    "Para gerar a nova coluna, basta utilizar a notação ```DataFrame['nome_da_nova_coluna'] = ```. No exemplo, criaremos uma coluna chamada ```rel_population``` como sendo igual a coluna ```population``` dividida pelo valor de referência vezes 100 (para deixar em percentual)."
   ]
  },
  {
   "cell_type": "code",
   "execution_count": 31,
   "metadata": {},
   "outputs": [],
   "source": [
    "usa['rel_population'] = usa.population / usa.iloc[0, 2] * 100\n",
    "brazil['rel_population'] = brazil.population / brazil.iloc[0, 2] * 100"
   ]
  },
  {
   "cell_type": "markdown",
   "metadata": {},
   "source": [
    "Finalmente podemos plotar os crescimentos percentuais."
   ]
  },
  {
   "cell_type": "code",
   "execution_count": 32,
   "metadata": {},
   "outputs": [
    {
     "data": {
      "text/plain": [
       "Text(0, 0.5, 'crescimento %')"
      ]
     },
     "execution_count": 32,
     "metadata": {},
     "output_type": "execute_result"
    },
    {
     "data": {
      "image/png": "[encoded data removed]",
      "text/plain": [
       "<Figure size 432x288 with 1 Axes>"
      ]
     },
     "metadata": {
      "needs_background": "light"
     },
     "output_type": "display_data"
    }
   ],
   "source": [
    "plt.plot(usa.year, usa.rel_population)\n",
    "plt.plot(brazil.year, brazil.rel_population)\n",
    "plt.legend(['USA', 'BR'])\n",
    "plt.ylabel('crescimento %')"
   ]
  },
  {
   "cell_type": "markdown",
   "metadata": {},
   "source": [
    "Com o novo gráfico é possível verificar que o crescimento do Brasil é mais acelerado que o crescimento dos Estados Unidos."
   ]
  },
  {
   "cell_type": "markdown",
   "metadata": {},
   "source": [
    "Faremos mais um teste plotando o crescimento populacional dos Estados Unidos, Brasil, Argentina e Colômbia. Criaremos, primeiro, os dataframes ```ar```, representando a Argentina e ```col```, representando a Colômbia."
   ]
  },
  {
   "cell_type": "code",
   "execution_count": 33,
   "metadata": {},
   "outputs": [],
   "source": [
    "ar = countries[countries.country == 'Argentina'].copy()\n",
    "col = countries[countries.country == 'Colombia'].copy()"
   ]
  },
  {
   "cell_type": "markdown",
   "metadata": {},
   "source": [
    "Para plotar, utilizaremos o comando ```plt.plot()``` para cada país."
   ]
  },
  {
   "cell_type": "code",
   "execution_count": 34,
   "metadata": {},
   "outputs": [
    {
     "data": {
      "text/plain": [
       "<matplotlib.legend.Legend at 0x7fa576b95748>"
      ]
     },
     "execution_count": 34,
     "metadata": {},
     "output_type": "execute_result"
    },
    {
     "data": {
      "image/png": "[encoded data removed]",
      "text/plain": [
       "<Figure size 432x288 with 1 Axes>"
      ]
     },
     "metadata": {
      "needs_background": "light"
     },
     "output_type": "display_data"
    }
   ],
   "source": [
    "plt.plot(usa.year, ar.population)\n",
    "plt.plot(usa.year, col.population)\n",
    "plt.plot(usa.year, brazil.population)\n",
    "plt.plot(brazil.year, usa.population)\n",
    "plt.title('Crescimento Populacional EUA vs BR')\n",
    "plt.legend(['AR', 'COL', 'BR', 'USA'])"
   ]
  },
  {
   "cell_type": "markdown",
   "metadata": {},
   "source": [
    "Por conta da distância de valores, ficou difícil de visualizar o crescimento populacional da Argentina e Colômbia. Um artificio muito utilizado para diminuir a distância entre valores sem prejudicar a análise comparativa é a aplicação do logaritmo. Utilizaremos o pacote [```numpy```](https://numpy.org/) para aplicar o logaritmo em todos os valores. Para importar o pacote utilizamos o comando abaixo."
   ]
  },
  {
   "cell_type": "code",
   "execution_count": 29,
   "metadata": {},
   "outputs": [],
   "source": [
    "import numpy as np"
   ]
  },
  {
   "cell_type": "markdown",
   "metadata": {},
   "source": [
    "Para aplicar o logaritmo, utilizamos o comando [```np.log()```](https://numpy.org/doc/stable/reference/generated/numpy.log.html)."
   ]
  },
  {
   "cell_type": "code",
   "execution_count": 30,
   "metadata": {},
   "outputs": [
    {
     "data": {
      "text/plain": [
       "<matplotlib.legend.Legend at 0x7f6c60d75b00>"
      ]
     },
     "execution_count": 30,
     "metadata": {},
     "output_type": "execute_result"
    },
    {
     "data": {
      "image/png": "[encoded data removed]",
      "text/plain": [
       "<Figure size 432x288 with 1 Axes>"
      ]
     },
     "metadata": {
      "needs_background": "light"
     },
     "output_type": "display_data"
    }
   ],
   "source": [
    "plt.plot(ar.year, np.log(ar.population))\n",
    "plt.plot(col.year, np.log(col.population))\n",
    "plt.plot(brazil.year, np.log(brazil.population))\n",
    "plt.plot(brazil.year, np.log(usa.population))\n",
    "plt.title('Crescimento Populacional EUA vs BR')\n",
    "plt.legend(['AR', 'COL', 'BR', 'USA'])"
   ]
  },
  {
   "cell_type": "markdown",
   "metadata": {},
   "source": [
    "Com a transformação é possível observar que a população da Colômbia era menor do que a população da Argentina até 1990, sendo superada pela última nos anos seguintes. "
   ]
  }
 ],
 "metadata": {
  "kernelspec": {
   "display_name": "Python 3",
   "language": "python",
   "name": "python3"
  },
  "language_info": {
   "codemirror_mode": {
    "name": "ipython",
    "version": 3
   },
   "file_extension": ".py",
   "mimetype": "text/x-python",
   "name": "python",
   "nbconvert_exporter": "python",
   "pygments_lexer": "ipython3",
   "version": "3.7.1"
  }
 },
 "nbformat": 4,
 "nbformat_minor": 4
}
