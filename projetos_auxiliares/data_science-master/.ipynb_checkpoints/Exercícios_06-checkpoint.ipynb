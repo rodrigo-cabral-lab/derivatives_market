{
 "cells": [
  {
   "cell_type": "markdown",
   "metadata": {},
   "source": [
    "# Exercícios: Parte 06\n",
    "O arquivo ```AB_NYC_2019.csv``` contem informações sobre reservas de espaços no AirBnB de Nova Iorque.\n",
    "Com base no ```DataFrame```criado a partir deste arquivo, responda o seguinte:\n",
    "1. Quais colunas possuem pelo menos um registro em branco?\n",
    "2. Elimine as linhas que possuam pelo menos um registro em branco.\n",
    "3. Quais colunas poderiam ser eliminadas por não oferecerem informações relevantes a uma análise estatística? (Dica: utilize o comando [```Series.nunique()```](https://pandas.pydata.org/pandas-docs/stable/reference/api/pandas.Series.nunique.html) para contar o número de valores que não se repetem).\n",
    "4. Elimine as colunas identificadas na etapa anterior utilizando o comando [```DataFrame.drop(lista_de_colunas, axis=1, inplace=True)```](https://pandas.pydata.org/pandas-docs/stable/reference/api/pandas.DataFrame.drop.html).\n",
    "5. Modifique a tipagem das colunas para reduzir o uso de memória."
   ]
  },
  {
   "cell_type": "code",
   "execution_count": 4,
   "metadata": {},
   "outputs": [],
   "source": [
    "import pandas as pd\n",
    "import matplotlib.pyplot as plt\n",
    "\n",
    "df = pd.read_csv('dados/AB_NYC_2019.csv')"
   ]
  },
  {
   "cell_type": "markdown",
   "metadata": {},
   "source": [
    "### Solução - 1\n",
    "Para verificar a pergunta, utilizaremos o comando ```DataFrame.info()```."
   ]
  },
  {
   "cell_type": "code",
   "execution_count": 5,
   "metadata": {},
   "outputs": [
    {
     "name": "stdout",
     "output_type": "stream",
     "text": [
      "<class 'pandas.core.frame.DataFrame'>\n",
      "RangeIndex: 48895 entries, 0 to 48894\n",
      "Data columns (total 16 columns):\n",
      "id                                48895 non-null int64\n",
      "name                              48879 non-null object\n",
      "host_id                           48895 non-null int64\n",
      "host_name                         48874 non-null object\n",
      "neighbourhood_group               48895 non-null object\n",
      "neighbourhood                     48895 non-null object\n",
      "latitude                          48895 non-null float64\n",
      "longitude                         48895 non-null float64\n",
      "room_type                         48895 non-null object\n",
      "price                             48895 non-null int64\n",
      "minimum_nights                    48895 non-null int64\n",
      "number_of_reviews                 48895 non-null int64\n",
      "last_review                       38843 non-null object\n",
      "reviews_per_month                 38843 non-null float64\n",
      "calculated_host_listings_count    48895 non-null int64\n",
      "availability_365                  48895 non-null int64\n",
      "dtypes: float64(3), int64(7), object(6)\n",
      "memory usage: 6.0+ MB\n"
     ]
    }
   ],
   "source": [
    "df.info()"
   ]
  },
  {
   "cell_type": "markdown",
   "metadata": {},
   "source": [
    "Observamos que as colunas ```name```, ```host_name```, ```last_review``` e ```reviews_per_month``` possuem quantidade de linhas não nulas menor que o número total de linhas do ```DataFrame```. "
   ]
  },
  {
   "cell_type": "markdown",
   "metadata": {},
   "source": [
    "### Solução - 2\n",
    "Utilizaremos o comando ```DataFrame.dropna()```, sem esquecer de definir o parâmetro ```axis=0``` para eliminação de linhas e ```inplace=True``` para efetivação da eliminação."
   ]
  },
  {
   "cell_type": "code",
   "execution_count": 6,
   "metadata": {},
   "outputs": [
    {
     "name": "stdout",
     "output_type": "stream",
     "text": [
      "<class 'pandas.core.frame.DataFrame'>\n",
      "Int64Index: 38821 entries, 0 to 48852\n",
      "Data columns (total 16 columns):\n",
      "id                                38821 non-null int64\n",
      "name                              38821 non-null object\n",
      "host_id                           38821 non-null int64\n",
      "host_name                         38821 non-null object\n",
      "neighbourhood_group               38821 non-null object\n",
      "neighbourhood                     38821 non-null object\n",
      "latitude                          38821 non-null float64\n",
      "longitude                         38821 non-null float64\n",
      "room_type                         38821 non-null object\n",
      "price                             38821 non-null int64\n",
      "minimum_nights                    38821 non-null int64\n",
      "number_of_reviews                 38821 non-null int64\n",
      "last_review                       38821 non-null object\n",
      "reviews_per_month                 38821 non-null float64\n",
      "calculated_host_listings_count    38821 non-null int64\n",
      "availability_365                  38821 non-null int64\n",
      "dtypes: float64(3), int64(7), object(6)\n",
      "memory usage: 5.0+ MB\n"
     ]
    }
   ],
   "source": [
    "df.dropna(axis=0, inplace=True)\n",
    "df.info()"
   ]
  },
  {
   "cell_type": "markdown",
   "metadata": {},
   "source": [
    "### Solução - 3\n",
    "As colunas ```id```, ```name```, ```host_id``` e ```host_name``` possuem valores categóricos únicos (que não se repetem). Esse tipo de variável não pode ser considerada em análise estatísticas e por isso devem ser eliminadas."
   ]
  },
  {
   "cell_type": "code",
   "execution_count": 7,
   "metadata": {},
   "outputs": [
    {
     "data": {
      "text/plain": [
       "38821"
      ]
     },
     "execution_count": 7,
     "metadata": {},
     "output_type": "execute_result"
    }
   ],
   "source": [
    "df.id.nunique()"
   ]
  },
  {
   "cell_type": "code",
   "execution_count": 8,
   "metadata": {},
   "outputs": [
    {
     "data": {
      "text/plain": [
       "38253"
      ]
     },
     "execution_count": 8,
     "metadata": {},
     "output_type": "execute_result"
    }
   ],
   "source": [
    "df.name.nunique()"
   ]
  },
  {
   "cell_type": "code",
   "execution_count": 9,
   "metadata": {},
   "outputs": [
    {
     "data": {
      "text/plain": [
       "30232"
      ]
     },
     "execution_count": 9,
     "metadata": {},
     "output_type": "execute_result"
    }
   ],
   "source": [
    "df.host_id.nunique()"
   ]
  },
  {
   "cell_type": "code",
   "execution_count": 10,
   "metadata": {},
   "outputs": [
    {
     "data": {
      "text/plain": [
       "9885"
      ]
     },
     "execution_count": 10,
     "metadata": {},
     "output_type": "execute_result"
    }
   ],
   "source": [
    "df.host_name.nunique()"
   ]
  },
  {
   "cell_type": "markdown",
   "metadata": {},
   "source": [
    "### Solução - 4"
   ]
  },
  {
   "cell_type": "code",
   "execution_count": 11,
   "metadata": {},
   "outputs": [
    {
     "name": "stdout",
     "output_type": "stream",
     "text": [
      "<class 'pandas.core.frame.DataFrame'>\n",
      "Int64Index: 38821 entries, 0 to 48852\n",
      "Data columns (total 12 columns):\n",
      "neighbourhood_group               38821 non-null object\n",
      "neighbourhood                     38821 non-null object\n",
      "latitude                          38821 non-null float64\n",
      "longitude                         38821 non-null float64\n",
      "room_type                         38821 non-null object\n",
      "price                             38821 non-null int64\n",
      "minimum_nights                    38821 non-null int64\n",
      "number_of_reviews                 38821 non-null int64\n",
      "last_review                       38821 non-null object\n",
      "reviews_per_month                 38821 non-null float64\n",
      "calculated_host_listings_count    38821 non-null int64\n",
      "availability_365                  38821 non-null int64\n",
      "dtypes: float64(3), int64(5), object(4)\n",
      "memory usage: 3.9+ MB\n"
     ]
    }
   ],
   "source": [
    "df.drop(['id', 'name', 'host_id', 'host_name'], axis=1, inplace=True)\n",
    "df.info()"
   ]
  },
  {
   "cell_type": "markdown",
   "metadata": {},
   "source": [
    "### Solução - 5\n",
    "utilizando o comando ```DataFrame.describe()``` temos uma noção dos limites dos valores de cada coluna numérica."
   ]
  },
  {
   "cell_type": "code",
   "execution_count": 12,
   "metadata": {},
   "outputs": [
    {
     "data": {
      "text/html": [
       "<div>\n",
       "<style scoped>\n",
       "    .dataframe tbody tr th:only-of-type {\n",
       "        vertical-align: middle;\n",
       "    }\n",
       "\n",
       "    .dataframe tbody tr th {\n",
       "        vertical-align: top;\n",
       "    }\n",
       "\n",
       "    .dataframe thead th {\n",
       "        text-align: right;\n",
       "    }\n",
       "</style>\n",
       "<table border=\"1\" class=\"dataframe\">\n",
       "  <thead>\n",
       "    <tr style=\"text-align: right;\">\n",
       "      <th></th>\n",
       "      <th>latitude</th>\n",
       "      <th>longitude</th>\n",
       "      <th>price</th>\n",
       "      <th>minimum_nights</th>\n",
       "      <th>number_of_reviews</th>\n",
       "      <th>reviews_per_month</th>\n",
       "      <th>calculated_host_listings_count</th>\n",
       "      <th>availability_365</th>\n",
       "    </tr>\n",
       "  </thead>\n",
       "  <tbody>\n",
       "    <tr>\n",
       "      <th>count</th>\n",
       "      <td>38821.000000</td>\n",
       "      <td>38821.000000</td>\n",
       "      <td>38821.000000</td>\n",
       "      <td>38821.000000</td>\n",
       "      <td>38821.000000</td>\n",
       "      <td>38821.000000</td>\n",
       "      <td>38821.000000</td>\n",
       "      <td>38821.000000</td>\n",
       "    </tr>\n",
       "    <tr>\n",
       "      <th>mean</th>\n",
       "      <td>40.728129</td>\n",
       "      <td>-73.951149</td>\n",
       "      <td>142.332526</td>\n",
       "      <td>5.869220</td>\n",
       "      <td>29.290255</td>\n",
       "      <td>1.373229</td>\n",
       "      <td>5.166611</td>\n",
       "      <td>114.886299</td>\n",
       "    </tr>\n",
       "    <tr>\n",
       "      <th>std</th>\n",
       "      <td>0.054991</td>\n",
       "      <td>0.046693</td>\n",
       "      <td>196.994756</td>\n",
       "      <td>17.389026</td>\n",
       "      <td>48.182900</td>\n",
       "      <td>1.680328</td>\n",
       "      <td>26.302954</td>\n",
       "      <td>129.529950</td>\n",
       "    </tr>\n",
       "    <tr>\n",
       "      <th>min</th>\n",
       "      <td>40.506410</td>\n",
       "      <td>-74.244420</td>\n",
       "      <td>0.000000</td>\n",
       "      <td>1.000000</td>\n",
       "      <td>1.000000</td>\n",
       "      <td>0.010000</td>\n",
       "      <td>1.000000</td>\n",
       "      <td>0.000000</td>\n",
       "    </tr>\n",
       "    <tr>\n",
       "      <th>25%</th>\n",
       "      <td>40.688640</td>\n",
       "      <td>-73.982460</td>\n",
       "      <td>69.000000</td>\n",
       "      <td>1.000000</td>\n",
       "      <td>3.000000</td>\n",
       "      <td>0.190000</td>\n",
       "      <td>1.000000</td>\n",
       "      <td>0.000000</td>\n",
       "    </tr>\n",
       "    <tr>\n",
       "      <th>50%</th>\n",
       "      <td>40.721710</td>\n",
       "      <td>-73.954810</td>\n",
       "      <td>101.000000</td>\n",
       "      <td>2.000000</td>\n",
       "      <td>9.000000</td>\n",
       "      <td>0.720000</td>\n",
       "      <td>1.000000</td>\n",
       "      <td>55.000000</td>\n",
       "    </tr>\n",
       "    <tr>\n",
       "      <th>75%</th>\n",
       "      <td>40.762990</td>\n",
       "      <td>-73.935020</td>\n",
       "      <td>170.000000</td>\n",
       "      <td>4.000000</td>\n",
       "      <td>33.000000</td>\n",
       "      <td>2.020000</td>\n",
       "      <td>2.000000</td>\n",
       "      <td>229.000000</td>\n",
       "    </tr>\n",
       "    <tr>\n",
       "      <th>max</th>\n",
       "      <td>40.913060</td>\n",
       "      <td>-73.712990</td>\n",
       "      <td>10000.000000</td>\n",
       "      <td>1250.000000</td>\n",
       "      <td>629.000000</td>\n",
       "      <td>58.500000</td>\n",
       "      <td>327.000000</td>\n",
       "      <td>365.000000</td>\n",
       "    </tr>\n",
       "  </tbody>\n",
       "</table>\n",
       "</div>"
      ],
      "text/plain": [
       "           latitude     longitude         price  minimum_nights  \\\n",
       "count  38821.000000  38821.000000  38821.000000    38821.000000   \n",
       "mean      40.728129    -73.951149    142.332526        5.869220   \n",
       "std        0.054991      0.046693    196.994756       17.389026   \n",
       "min       40.506410    -74.244420      0.000000        1.000000   \n",
       "25%       40.688640    -73.982460     69.000000        1.000000   \n",
       "50%       40.721710    -73.954810    101.000000        2.000000   \n",
       "75%       40.762990    -73.935020    170.000000        4.000000   \n",
       "max       40.913060    -73.712990  10000.000000     1250.000000   \n",
       "\n",
       "       number_of_reviews  reviews_per_month  calculated_host_listings_count  \\\n",
       "count       38821.000000       38821.000000                    38821.000000   \n",
       "mean           29.290255           1.373229                        5.166611   \n",
       "std            48.182900           1.680328                       26.302954   \n",
       "min             1.000000           0.010000                        1.000000   \n",
       "25%             3.000000           0.190000                        1.000000   \n",
       "50%             9.000000           0.720000                        1.000000   \n",
       "75%            33.000000           2.020000                        2.000000   \n",
       "max           629.000000          58.500000                      327.000000   \n",
       "\n",
       "       availability_365  \n",
       "count      38821.000000  \n",
       "mean         114.886299  \n",
       "std          129.529950  \n",
       "min            0.000000  \n",
       "25%            0.000000  \n",
       "50%           55.000000  \n",
       "75%          229.000000  \n",
       "max          365.000000  "
      ]
     },
     "execution_count": 12,
     "metadata": {},
     "output_type": "execute_result"
    }
   ],
   "source": [
    "df.describe()"
   ]
  },
  {
   "cell_type": "code",
   "execution_count": 15,
   "metadata": {},
   "outputs": [
    {
     "name": "stdout",
     "output_type": "stream",
     "text": [
      "<class 'pandas.core.frame.DataFrame'>\n",
      "Int64Index: 38821 entries, 0 to 48852\n",
      "Data columns (total 12 columns):\n",
      "neighbourhood_group               38821 non-null object\n",
      "neighbourhood                     38821 non-null object\n",
      "latitude                          38821 non-null float16\n",
      "longitude                         38821 non-null float16\n",
      "room_type                         38821 non-null object\n",
      "price                             38821 non-null int16\n",
      "minimum_nights                    38821 non-null int64\n",
      "number_of_reviews                 38821 non-null int64\n",
      "last_review                       38821 non-null object\n",
      "reviews_per_month                 38821 non-null float64\n",
      "calculated_host_listings_count    38821 non-null int64\n",
      "availability_365                  38821 non-null int64\n",
      "dtypes: float16(2), float64(1), int16(1), int64(4), object(4)\n",
      "memory usage: 3.2+ MB\n"
     ]
    }
   ],
   "source": [
    "df.latitude = df.latitude.astype('float16')\n",
    "df.longitude = df.longitude.astype('float16')\n",
    "df.price = df.price.astype('int16')\n",
    "df.info()"
   ]
  }
 ],
 "metadata": {
  "kernelspec": {
   "display_name": "Python 3",
   "language": "python",
   "name": "python3"
  },
  "language_info": {
   "codemirror_mode": {
    "name": "ipython",
    "version": 3
   },
   "file_extension": ".py",
   "mimetype": "text/x-python",
   "name": "python",
   "nbconvert_exporter": "python",
   "pygments_lexer": "ipython3",
   "version": "3.7.1"
  }
 },
 "nbformat": 4,
 "nbformat_minor": 2
}
