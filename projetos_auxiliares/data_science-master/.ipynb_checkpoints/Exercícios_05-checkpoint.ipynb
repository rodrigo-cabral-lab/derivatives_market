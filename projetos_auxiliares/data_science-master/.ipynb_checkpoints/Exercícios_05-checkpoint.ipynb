{
 "cells": [
  {
   "cell_type": "markdown",
   "metadata": {},
   "source": [
    "# Exercícios: Parte 05\n",
    "1. Verifique a distribuição de preços para cada cada quantidade de quartos\n",
    "\n",
    "    1.1. de todos os imóveis;\n",
    "    \n",
    "    1.2. das casas;\n",
    "    \n",
    "    1.3. dos kitnets;\n",
    "    \n",
    "    1.4. dos apartamentos.\n",
    "2. Verifique a distribuição dos anos de construção para os três tipos de imóvel.\n",
    "3. Para os apartamentos, verificar a distribuição do ano de construção para cada quantidade de quartos."
   ]
  },
  {
   "cell_type": "code",
   "execution_count": 2,
   "metadata": {},
   "outputs": [],
   "source": [
    "import pandas as pd\n",
    "import matplotlib.pyplot as plt\n",
    "\n",
    "housing = pd.read_csv('https://raw.githubusercontent.com/ronaldolagepessoa/data_science/master/dados/housing_ok.csv')"
   ]
  }
 ],
 "metadata": {
  "kernelspec": {
   "display_name": "Python 3",
   "language": "python",
   "name": "python3"
  },
  "language_info": {
   "codemirror_mode": {
    "name": "ipython",
    "version": 3
   },
   "file_extension": ".py",
   "mimetype": "text/x-python",
   "name": "python",
   "nbconvert_exporter": "python",
   "pygments_lexer": "ipython3",
   "version": "3.7.1"
  }
 },
 "nbformat": 4,
 "nbformat_minor": 2
}
