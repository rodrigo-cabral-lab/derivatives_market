{
 "cells": [
  {
   "cell_type": "markdown",
   "metadata": {},
   "source": [
    "# Exercícios de regressão 1\n",
    "\n",
    "Utilizando o arquivo ```alugueis_brasil.csv```, \n",
    "1. determine o melhor preditor para o valor total\n",
    "2. determine o melhor preditor para o aluguel\n",
    "3. determine o melhor preditor para o IPTU\n",
    "4. crie os modelos lineares para prever o valor total, aluguel e IPTU com base nos preditores escolhidos nos itens 1, 2 e 3, respectivamente."
   ]
  },
  {
   "cell_type": "code",
   "execution_count": 103,
   "metadata": {},
   "outputs": [],
   "source": [
    "import matplotlib.pyplot as plt\n",
    "import pandas as pd\n",
    "from sklearn.linear_model import LinearRegression\n",
    "import numpy as np\n",
    "\n",
    "df = pd.read_csv('dados/alugueis_brasil.csv')"
   ]
  },
  {
   "cell_type": "markdown",
   "metadata": {},
   "source": [
    "### Solução 1\n",
    "\n",
    "O melhor preditor para o valor total é o valor do aluguel, com coeficiente do correlação igual a 0.959430."
   ]
  },
  {
   "cell_type": "code",
   "execution_count": 112,
   "metadata": {},
   "outputs": [
    {
     "data": {
      "text/plain": [
       "valor_total        1.000000\n",
       "aluguel            0.959430\n",
       "seguro_incendio    0.949101\n",
       "condominio         0.821388\n",
       "area               0.727474\n",
       "banheiros          0.710884\n",
       "iptu               0.694226\n",
       "vagas              0.649070\n",
       "quartos            0.557044\n",
       "cidade             0.248900\n",
       "andar              0.184778\n",
       "Name: valor_total, dtype: float64"
      ]
     },
     "execution_count": 112,
     "metadata": {},
     "output_type": "execute_result"
    }
   ],
   "source": [
    "df.corr().valor_total.sort_values(ascending=False)"
   ]
  },
  {
   "cell_type": "markdown",
   "metadata": {},
   "source": [
    "### Solução 2\n",
    "\n",
    "O melhor preditor para o aluguel é o valor do seguro_incendio, com coeficiente do correlação igual a 0.987822."
   ]
  },
  {
   "cell_type": "code",
   "execution_count": 113,
   "metadata": {},
   "outputs": [
    {
     "data": {
      "text/plain": [
       "aluguel            1.000000\n",
       "seguro_incendio    0.987822\n",
       "valor_total        0.959430\n",
       "condominio         0.642409\n",
       "banheiros          0.627033\n",
       "area               0.614372\n",
       "vagas              0.561085\n",
       "iptu               0.524500\n",
       "quartos            0.472973\n",
       "cidade             0.247708\n",
       "andar              0.194752\n",
       "Name: aluguel, dtype: float64"
      ]
     },
     "execution_count": 113,
     "metadata": {},
     "output_type": "execute_result"
    }
   ],
   "source": [
    "df.corr().aluguel.sort_values(ascending=False)"
   ]
  },
  {
   "cell_type": "markdown",
   "metadata": {},
   "source": [
    "### Solução 3\n",
    "\n",
    "O melhor preditor para o IPTU é o valor do condomínio, com coeficiente do correlação igual a 0.704887."
   ]
  },
  {
   "cell_type": "code",
   "execution_count": 116,
   "metadata": {},
   "outputs": [
    {
     "data": {
      "text/plain": [
       "iptu               1.000000\n",
       "condominio         0.704887\n",
       "valor_total        0.694226\n",
       "area               0.692261\n",
       "vagas              0.624552\n",
       "banheiros          0.620182\n",
       "seguro_incendio    0.525985\n",
       "aluguel            0.524500\n",
       "quartos            0.514455\n",
       "cidade             0.151826\n",
       "andar              0.107333\n",
       "Name: iptu, dtype: float64"
      ]
     },
     "execution_count": 116,
     "metadata": {},
     "output_type": "execute_result"
    }
   ],
   "source": [
    "df.corr().iptu.sort_values(ascending=False)"
   ]
  },
  {
   "cell_type": "code",
   "execution_count": 120,
   "metadata": {},
   "outputs": [
    {
     "data": {
      "text/plain": [
       "array([1895.4864364])"
      ]
     },
     "execution_count": 120,
     "metadata": {},
     "output_type": "execute_result"
    }
   ],
   "source": [
    "model = LinearRegression().fit(df.aluguel.values.reshape(-1, 1), df.valor_total)\n",
    "model.predict([[1200]])"
   ]
  },
  {
   "cell_type": "code",
   "execution_count": null,
   "metadata": {},
   "outputs": [],
   "source": [
    "model = LinearRegression().fit(df.aluguel.values.reshape(-1, 1), df.valor_total)\n",
    "model.predict([[1200]])"
   ]
  }
 ],
 "metadata": {
  "kernelspec": {
   "display_name": "Python 3",
   "language": "python",
   "name": "python3"
  },
  "language_info": {
   "codemirror_mode": {
    "name": "ipython",
    "version": 3
   },
   "file_extension": ".py",
   "mimetype": "text/x-python",
   "name": "python",
   "nbconvert_exporter": "python",
   "pygments_lexer": "ipython3",
   "version": "3.7.1"
  }
 },
 "nbformat": 4,
 "nbformat_minor": 2
}
