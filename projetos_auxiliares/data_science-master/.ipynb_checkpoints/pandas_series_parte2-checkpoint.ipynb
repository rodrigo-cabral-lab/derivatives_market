{
 "cells": [
  {
   "cell_type": "markdown",
   "metadata": {},
   "source": [
    "# Introdução a séries temporais\n",
    "\n",
    "## Trabalhando com datas\n",
    "\n",
    "O pacote ```pandas``` contem diversas funcionalidades para trabalhar com dados de séries temporais. Usando os ```dtypes``` ```datetime64``` e ```timedelta64```do pacote ```NumPy```, o ```pandas``` consolidou um grande número de atributos de outras bibliotecas ```python``` como ```scikits.timeseries``` além de ter criado uma grande quantidade de novas funcionalidades para manipulação de séries temporais. \n",
    "\n",
    "### Passando datas\n",
    "\n",
    "Temos três formas básicas de passar datas para um ```DataFrame``` através do comando ```pandas.to_datetime```. A primeira é através de um texto contendo a data desejada. Passando uma lista de datas, temos como resultado um objeto do tipo ```DatetimeIndex```."
   ]
  },
  {
   "cell_type": "code",
   "execution_count": 8,
   "metadata": {},
   "outputs": [
    {
     "data": {
      "text/plain": [
       "DatetimeIndex(['2019-01-01', '2019-01-02'], dtype='datetime64[ns]', freq=None)"
      ]
     },
     "execution_count": 8,
     "metadata": {},
     "output_type": "execute_result"
    }
   ],
   "source": [
    "import pandas as pd\n",
    "\n",
    "pd.to_datetime(['01/01/2019', '01/02/2019'])"
   ]
  },
  {
   "cell_type": "markdown",
   "metadata": {},
   "source": [
    "Passando somente uma data no lugar de uma lista, obtemos como resultado um objeto do tipo ```Timestam```."
   ]
  },
  {
   "cell_type": "code",
   "execution_count": 12,
   "metadata": {},
   "outputs": [
    {
     "data": {
      "text/plain": [
       "Timestamp('2019-01-02 00:00:00')"
      ]
     },
     "execution_count": 12,
     "metadata": {},
     "output_type": "execute_result"
    }
   ],
   "source": [
    "pd.to_datetime('01/02/2019')"
   ]
  },
  {
   "cell_type": "markdown",
   "metadata": {},
   "source": [
    "Observe que o formato padrão para datas passadas como texto é do tipo mês/dia/ano. Para especificar um formato, utilizamos o parâmetro ```format``` passando a codificação da data de acordo com a documentação: https://docs.python.org/3/library/datetime.html#strftime-and-strptime-behavior\n",
    "\n",
    "Para passarmos a data no formato dia/mês/ano, por exemplo, passamos o parâmetro ```format='%d/%m/%Y'```."
   ]
  },
  {
   "cell_type": "code",
   "execution_count": 10,
   "metadata": {},
   "outputs": [
    {
     "data": {
      "text/plain": [
       "DatetimeIndex(['2019-01-01', '2019-01-02', '2019-01-03'], dtype='datetime64[ns]', freq=None)"
      ]
     },
     "execution_count": 10,
     "metadata": {},
     "output_type": "execute_result"
    }
   ],
   "source": [
    "pd.to_datetime(['01/01/2019', '02/01/2019', '03/01/2019'], format='%d/%m/%Y')"
   ]
  },
  {
   "cell_type": "markdown",
   "metadata": {},
   "source": [
    "Outras formas de passar datas para um ```DataFrame``` ou ```Series``` é através do uso de pacotes como o ```numpy``` e ```datetime```. Para os dois métodos, o formato padrão das datas é ano-mês-dia."
   ]
  },
  {
   "cell_type": "code",
   "execution_count": 21,
   "metadata": {},
   "outputs": [
    {
     "data": {
      "text/plain": [
       "Timestamp('2018-01-01 00:00:00')"
      ]
     },
     "execution_count": 21,
     "metadata": {},
     "output_type": "execute_result"
    }
   ],
   "source": [
    "import numpy as np\n",
    "\n",
    "pd.to_datetime(np.datetime64('2018-01-01'))"
   ]
  },
  {
   "cell_type": "code",
   "execution_count": 22,
   "metadata": {},
   "outputs": [
    {
     "data": {
      "text/plain": [
       "Timestamp('2018-01-01 00:00:00')"
      ]
     },
     "execution_count": 22,
     "metadata": {},
     "output_type": "execute_result"
    }
   ],
   "source": [
    "import datetime\n",
    "\n",
    "pd.to_datetime(datetime.datetime(2018, 1, 1))"
   ]
  },
  {
   "cell_type": "markdown",
   "metadata": {},
   "source": [
    "### Operações matemáticas com datas\n",
    "\n",
    "No pandas possuimos funcinalidades específicas para formatos de data. Utilizando o comando ```Timestamp.day_name()```, obtemos o nome do dia da semana correspondente a data. No exemplo abaixo, temos que a data 2018-01-05 corresponde a uma sexta-feira."
   ]
  },
  {
   "cell_type": "code",
   "execution_count": 13,
   "metadata": {},
   "outputs": [
    {
     "data": {
      "text/plain": [
       "'Friday'"
      ]
     },
     "execution_count": 13,
     "metadata": {},
     "output_type": "execute_result"
    }
   ],
   "source": [
    "dia = pd.Timestamp('2018-01-05')\n",
    "dia.day_name()"
   ]
  },
  {
   "cell_type": "markdown",
   "metadata": {},
   "source": [
    "Para executar operações de soma e subtração de períodos utilizamos o comando ```pandas.Timedelta()```, passando como parâmetro um texto contendo o período desejado. Por exemplo, para acrescentar um dia a variável ```dia``` contendo o ```Timestamp``` de 2018-01-05, passamos como parâmetro o texto '1 day```."
   ]
  },
  {
   "cell_type": "code",
   "execution_count": 14,
   "metadata": {},
   "outputs": [],
   "source": [
    "dia2 = dia + pd.Timedelta('1 day')"
   ]
  },
  {
   "cell_type": "code",
   "execution_count": 16,
   "metadata": {},
   "outputs": [
    {
     "data": {
      "text/plain": [
       "'Saturday'"
      ]
     },
     "execution_count": 16,
     "metadata": {},
     "output_type": "execute_result"
    }
   ],
   "source": [
    "dia2.day_name()"
   ]
  },
  {
   "cell_type": "markdown",
   "metadata": {},
   "source": [
    "Para considerar somente dia úteis, utilizamos o comando ```pandas.offsets.BDay()```, passando como parâmetro o número de dias úteis (valor padrão igual a 1)."
   ]
  },
  {
   "cell_type": "code",
   "execution_count": 20,
   "metadata": {},
   "outputs": [
    {
     "data": {
      "text/plain": [
       "Timestamp('2018-01-08 00:00:00')"
      ]
     },
     "execution_count": 20,
     "metadata": {},
     "output_type": "execute_result"
    }
   ],
   "source": [
    "dia + pd.offsets.BDay(1)"
   ]
  },
  {
   "cell_type": "markdown",
   "metadata": {},
   "source": [
    "### Criando lista de datas paseada em frequência\n",
    "\n",
    "Em uma série temporal, o intervalo entre datas deve possuir a mesma amplitude, i.e., frequência. Utilizando o comando ```pandas.date_range()``` temos a possiblidade de criar listas de datas de acordo com uma frequência específica. Como parâmetro, o comando ```date_range()``` recebe a data de início, a frequência com o parâmetro ```freq``` e o número de períodos com o parâmetro ```periods```. No exemplo abaixo, temos uma lista de datas diárias iniciando de 2019-01-01 com número de períodos igual a 365.\n",
    "\n",
    "A lista de códigos de frequência encontra-se no link: https://pandas.pydata.org/pandas-docs/stable/user_guide/timeseries.html#offset-aliases"
   ]
  },
  {
   "cell_type": "code",
   "execution_count": 25,
   "metadata": {},
   "outputs": [
    {
     "data": {
      "text/plain": [
       "DatetimeIndex(['2019-01-01', '2019-01-02', '2019-01-03', '2019-01-04',\n",
       "               '2019-01-05', '2019-01-06', '2019-01-07', '2019-01-08',\n",
       "               '2019-01-09', '2019-01-10',\n",
       "               ...\n",
       "               '2019-12-22', '2019-12-23', '2019-12-24', '2019-12-25',\n",
       "               '2019-12-26', '2019-12-27', '2019-12-28', '2019-12-29',\n",
       "               '2019-12-30', '2019-12-31'],\n",
       "              dtype='datetime64[ns]', length=365, freq='D')"
      ]
     },
     "execution_count": 25,
     "metadata": {},
     "output_type": "execute_result"
    }
   ],
   "source": [
    "pd.date_range('2019-01-01', freq='D', periods=365)"
   ]
  },
  {
   "cell_type": "markdown",
   "metadata": {},
   "source": [
    "### Convertendo frequências de séries temporais\n",
    "\n",
    "Temos, também, a possibilidade de modificar a frequência de uma série temporal. Considere a sequinte série com frequência em horas."
   ]
  },
  {
   "cell_type": "code",
   "execution_count": 29,
   "metadata": {},
   "outputs": [
    {
     "data": {
      "text/plain": [
       "2018-01-01 00:00:00    0\n",
       "2018-01-01 01:00:00    1\n",
       "2018-01-01 02:00:00    2\n",
       "2018-01-01 03:00:00    3\n",
       "2018-01-01 04:00:00    4\n",
       "2018-01-01 05:00:00    5\n",
       "2018-01-01 06:00:00    6\n",
       "2018-01-01 07:00:00    7\n",
       "2018-01-01 08:00:00    8\n",
       "2018-01-01 09:00:00    9\n",
       "Freq: H, dtype: int64"
      ]
     },
     "execution_count": 29,
     "metadata": {},
     "output_type": "execute_result"
    }
   ],
   "source": [
    "index = pd.date_range('2018-01-01', periods=10, freq='H')\n",
    "ts = pd.Series(range(len(index)), index=index)\n",
    "ts"
   ]
  },
  {
   "cell_type": "markdown",
   "metadata": {},
   "source": [
    "Para conversão de frequência, utilizamos o comando ```Series.resample()```. Como parâmetro, passamos a nova frequência. Precisamos. também, especificar a forma como a mudança será feita em relação aos valores da śérie. Para redução de frequência, por exemplo, podemos utilizar a média com o comando ```mean()```, ou a soma com o comando ```sum()```."
   ]
  },
  {
   "cell_type": "code",
   "execution_count": 32,
   "metadata": {},
   "outputs": [
    {
     "data": {
      "text/plain": [
       "2018-01-01 00:00:00    0.5\n",
       "2018-01-01 02:00:00    2.5\n",
       "2018-01-01 04:00:00    4.5\n",
       "2018-01-01 06:00:00    6.5\n",
       "2018-01-01 08:00:00    8.5\n",
       "Freq: 2H, dtype: float64"
      ]
     },
     "execution_count": 32,
     "metadata": {},
     "output_type": "execute_result"
    }
   ],
   "source": [
    "ts.resample('2H').mean()"
   ]
  },
  {
   "cell_type": "markdown",
   "metadata": {},
   "source": [
    "Para o aumento na frequência, temos a possibilidade de obter os novos valores por meio da interpolação utlizando o comando ```interpolate()```."
   ]
  },
  {
   "cell_type": "code",
   "execution_count": 36,
   "metadata": {},
   "outputs": [
    {
     "data": {
      "text/plain": [
       "2018-01-01 00:00:00    0.0\n",
       "2018-01-01 00:30:00    0.5\n",
       "2018-01-01 01:00:00    1.0\n",
       "2018-01-01 01:30:00    1.5\n",
       "2018-01-01 02:00:00    2.0\n",
       "2018-01-01 02:30:00    2.5\n",
       "2018-01-01 03:00:00    3.0\n",
       "2018-01-01 03:30:00    3.5\n",
       "2018-01-01 04:00:00    4.0\n",
       "2018-01-01 04:30:00    4.5\n",
       "2018-01-01 05:00:00    5.0\n",
       "2018-01-01 05:30:00    5.5\n",
       "2018-01-01 06:00:00    6.0\n",
       "2018-01-01 06:30:00    6.5\n",
       "2018-01-01 07:00:00    7.0\n",
       "2018-01-01 07:30:00    7.5\n",
       "2018-01-01 08:00:00    8.0\n",
       "2018-01-01 08:30:00    8.5\n",
       "2018-01-01 09:00:00    9.0\n",
       "Freq: 30T, dtype: float64"
      ]
     },
     "execution_count": 36,
     "metadata": {},
     "output_type": "execute_result"
    }
   ],
   "source": [
    "ts.resample('0.5H').interpolate()"
   ]
  }
 ],
 "metadata": {
  "kernelspec": {
   "display_name": "Python 3",
   "language": "python",
   "name": "python3"
  },
  "language_info": {
   "codemirror_mode": {
    "name": "ipython",
    "version": 3
   },
   "file_extension": ".py",
   "mimetype": "text/x-python",
   "name": "python",
   "nbconvert_exporter": "python",
   "pygments_lexer": "ipython3",
   "version": "3.7.1"
  }
 },
 "nbformat": 4,
 "nbformat_minor": 2
}
