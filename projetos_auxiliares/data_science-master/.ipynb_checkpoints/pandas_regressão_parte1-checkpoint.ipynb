{
 "cells": [
  {
   "cell_type": "markdown",
   "metadata": {},
   "source": [
    "# Introdução a regressão linear\n",
    "\n"
   ]
  },
  {
   "cell_type": "markdown",
   "metadata": {},
   "source": [
    "## Covariância e Coeficiente de correlação\n",
    "Em probabilidade, a covariância de duas variáveis $X$ e $Y$ é uma medida da variabilidade conjunta destas variáveis aleatórias. Se as variáveis tem covariância positiva tendem a mostrar um comportamento semelhante, ou seja, os menores(maiores) valores da variável $X$ corresponde aos menores(maiores) da variável $Y$ . Se a covariância é negativa então as variáveis tendem a mostrar um comportamento oposto, ou seja, os menores(maiores) valores da variável $X$ corresponde aos maiores(menores) da variável $Y$.\n",
    "\n",
    "Assim, podemos ver que o sinal da covariância mostra a tendência na relação linear entre as variáveis.\n",
    "\n",
    "A magnitude da covariância não é fácil de interpretar. A versão normalizada da covariância (coeficiente de correlação) entretanto, mostra por sua magnitude a força da relação linear. Assim, agora $X$ e $Y$ sejam variáveis aleatórias integráveis, com variâncias positivas e finitas. Dizemos que a variável aleatória $ \\displaystyle \\frac{X-\\mathbb{E}(X)}{\\sigma_X} $ é uma padronização de $X$, pois expressa o valor de $X$ em unidades padronizadas (desvio padrão). Um variável aleatória padronizada possuí esperança zero e variância 1.\n",
    "\n",
    "A covariância padronizada, chama-se coeficiente de correlação entre $X$ e $Y$, o qual denotaremos por $ \\rho(X,Y) $."
   ]
  },
  {
   "cell_type": "markdown",
   "metadata": {},
   "source": [
    "Para exemplificar o cálculo e interpretação do coeficiente de correlação, utilizaremos o arquivo ```exemplo_regressao.csv```."
   ]
  },
  {
   "cell_type": "code",
   "execution_count": 1,
   "metadata": {},
   "outputs": [
    {
     "data": {
      "text/html": [
       "<div>\n",
       "<style scoped>\n",
       "    .dataframe tbody tr th:only-of-type {\n",
       "        vertical-align: middle;\n",
       "    }\n",
       "\n",
       "    .dataframe tbody tr th {\n",
       "        vertical-align: top;\n",
       "    }\n",
       "\n",
       "    .dataframe thead th {\n",
       "        text-align: right;\n",
       "    }\n",
       "</style>\n",
       "<table border=\"1\" class=\"dataframe\">\n",
       "  <thead>\n",
       "    <tr style=\"text-align: right;\">\n",
       "      <th></th>\n",
       "      <th>y1</th>\n",
       "      <th>y2</th>\n",
       "      <th>y3</th>\n",
       "      <th>x</th>\n",
       "    </tr>\n",
       "  </thead>\n",
       "  <tbody>\n",
       "    <tr>\n",
       "      <th>0</th>\n",
       "      <td>-2.065365</td>\n",
       "      <td>12.248989</td>\n",
       "      <td>-0.579265</td>\n",
       "      <td>0.00000</td>\n",
       "    </tr>\n",
       "    <tr>\n",
       "      <th>1</th>\n",
       "      <td>-2.705052</td>\n",
       "      <td>13.136135</td>\n",
       "      <td>-3.393978</td>\n",
       "      <td>0.10101</td>\n",
       "    </tr>\n",
       "    <tr>\n",
       "      <th>2</th>\n",
       "      <td>2.087234</td>\n",
       "      <td>9.768663</td>\n",
       "      <td>-0.890520</td>\n",
       "      <td>0.20202</td>\n",
       "    </tr>\n",
       "    <tr>\n",
       "      <th>3</th>\n",
       "      <td>-1.250615</td>\n",
       "      <td>9.191904</td>\n",
       "      <td>3.880306</td>\n",
       "      <td>0.30303</td>\n",
       "    </tr>\n",
       "    <tr>\n",
       "      <th>4</th>\n",
       "      <td>-0.624902</td>\n",
       "      <td>7.381492</td>\n",
       "      <td>1.905197</td>\n",
       "      <td>0.40404</td>\n",
       "    </tr>\n",
       "  </tbody>\n",
       "</table>\n",
       "</div>"
      ],
      "text/plain": [
       "         y1         y2        y3        x\n",
       "0 -2.065365  12.248989 -0.579265  0.00000\n",
       "1 -2.705052  13.136135 -3.393978  0.10101\n",
       "2  2.087234   9.768663 -0.890520  0.20202\n",
       "3 -1.250615   9.191904  3.880306  0.30303\n",
       "4 -0.624902   7.381492  1.905197  0.40404"
      ]
     },
     "execution_count": 1,
     "metadata": {},
     "output_type": "execute_result"
    }
   ],
   "source": [
    "import matplotlib.pyplot as plt\n",
    "import pandas as pd\n",
    "\n",
    "df = pd.read_csv('dados/exemplo_regressao.csv')\n",
    "df.head()"
   ]
  },
  {
   "cell_type": "markdown",
   "metadata": {},
   "source": [
    "No arquivo, temos quatro colunas presentando os valores de quatro variáveis ($y_1, y_2, y_3, x$). Para calcular o coeficiente de correlação de todos os pares, utilzamos o comando ```DataFrame.corr()```. O resultado obtido é chamado de matriz de correlações."
   ]
  },
  {
   "cell_type": "code",
   "execution_count": 2,
   "metadata": {},
   "outputs": [
    {
     "data": {
      "text/html": [
       "<div>\n",
       "<style scoped>\n",
       "    .dataframe tbody tr th:only-of-type {\n",
       "        vertical-align: middle;\n",
       "    }\n",
       "\n",
       "    .dataframe tbody tr th {\n",
       "        vertical-align: top;\n",
       "    }\n",
       "\n",
       "    .dataframe thead th {\n",
       "        text-align: right;\n",
       "    }\n",
       "</style>\n",
       "<table border=\"1\" class=\"dataframe\">\n",
       "  <thead>\n",
       "    <tr style=\"text-align: right;\">\n",
       "      <th></th>\n",
       "      <th>y1</th>\n",
       "      <th>y2</th>\n",
       "      <th>y3</th>\n",
       "      <th>x</th>\n",
       "    </tr>\n",
       "  </thead>\n",
       "  <tbody>\n",
       "    <tr>\n",
       "      <th>y1</th>\n",
       "      <td>1.000000</td>\n",
       "      <td>-0.893617</td>\n",
       "      <td>-0.078731</td>\n",
       "      <td>0.938232</td>\n",
       "    </tr>\n",
       "    <tr>\n",
       "      <th>y2</th>\n",
       "      <td>-0.893617</td>\n",
       "      <td>1.000000</td>\n",
       "      <td>0.072448</td>\n",
       "      <td>-0.969482</td>\n",
       "    </tr>\n",
       "    <tr>\n",
       "      <th>y3</th>\n",
       "      <td>-0.078731</td>\n",
       "      <td>0.072448</td>\n",
       "      <td>1.000000</td>\n",
       "      <td>-0.082471</td>\n",
       "    </tr>\n",
       "    <tr>\n",
       "      <th>x</th>\n",
       "      <td>0.938232</td>\n",
       "      <td>-0.969482</td>\n",
       "      <td>-0.082471</td>\n",
       "      <td>1.000000</td>\n",
       "    </tr>\n",
       "  </tbody>\n",
       "</table>\n",
       "</div>"
      ],
      "text/plain": [
       "          y1        y2        y3         x\n",
       "y1  1.000000 -0.893617 -0.078731  0.938232\n",
       "y2 -0.893617  1.000000  0.072448 -0.969482\n",
       "y3 -0.078731  0.072448  1.000000 -0.082471\n",
       "x   0.938232 -0.969482 -0.082471  1.000000"
      ]
     },
     "execution_count": 2,
     "metadata": {},
     "output_type": "execute_result"
    }
   ],
   "source": [
    "df.corr()"
   ]
  },
  {
   "cell_type": "markdown",
   "metadata": {},
   "source": [
    "Analizando a matriz de correlação, observamos que existe relação positiva entre as variáveis $x$ e $y_1$, indicando que o crescimento de $x$ implica no crescimento de $y_1$. Entre as varriáveis $x$ e $y_2$, existe uma relação negativa, indicando que o crescimento de $x$ implica no decrescimento de $y_2$. Por fim, temos uma relação próxima de zero entre as variáveis $x$ e $y_3$, indicando que as duas variáveis não possuem comportamento dependente. Podemos ainda concluir que o crecimento de $y_1$ implica no decrescimento de $y_2$, uma vez que o coeficiente de correlação correspondente possui valor próximo de -1.\n",
    "\n",
    "Para visualizar as relações identificadas com o coeficiente de correlação, faremos a plotagem dos gráficos de dispersão."
   ]
  },
  {
   "cell_type": "code",
   "execution_count": 3,
   "metadata": {},
   "outputs": [
    {
     "data": {
      "text/plain": [
       "Text(0, 0.5, 'y3')"
      ]
     },
     "execution_count": 3,
     "metadata": {},
     "output_type": "execute_result"
    },
    {
     "data": {
      "image/png": "[encoded data removed]",
      "text/plain": [
       "<Figure size 1080x360 with 3 Axes>"
      ]
     },
     "metadata": {
      "needs_background": "light"
     },
     "output_type": "display_data"
    }
   ],
   "source": [
    "plt.figure(figsize=(15,5))\n",
    "plt.subplot(131)\n",
    "plt.scatter(df.x, df.y1)\n",
    "plt.xlabel('x')\n",
    "plt.ylabel('y1')\n",
    "plt.subplot(132)\n",
    "plt.scatter(df.x, df.y2)\n",
    "plt.xlabel('x')\n",
    "plt.ylabel('y2')\n",
    "plt.subplot(133)\n",
    "plt.scatter(df.x, df.y3)\n",
    "plt.xlabel('x')\n",
    "plt.ylabel('y3')"
   ]
  },
  {
   "cell_type": "markdown",
   "metadata": {},
   "source": [
    "O primeiro gráfico representa a relação entre $x$ e $y_1$. O comportamento linear crescente confirma a conclusão feita a partir do coeficiente de correlação. Para $x$ e $y_2$, observamos o decrescimento linear identificado anteriormente. Finalmente, para $x$ e $y_3$, confirmamos a ausência de qualquer padrão.\n",
    "\n",
    "Faremos também a análise das combinações: $(y_1, y_2)$, $(y_1, y_3)$ e $(y_2, y_3)$. "
   ]
  },
  {
   "cell_type": "code",
   "execution_count": 4,
   "metadata": {},
   "outputs": [
    {
     "data": {
      "text/plain": [
       "Text(0, 0.5, 'y3')"
      ]
     },
     "execution_count": 4,
     "metadata": {},
     "output_type": "execute_result"
    },
    {
     "data": {
      "image/png": "[encoded data removed]",
      "text/plain": [
       "<Figure size 1080x360 with 3 Axes>"
      ]
     },
     "metadata": {
      "needs_background": "light"
     },
     "output_type": "display_data"
    }
   ],
   "source": [
    "plt.figure(figsize=(15,5))\n",
    "plt.subplot(131)\n",
    "plt.scatter(df.y1, df.y2)\n",
    "plt.xlabel('y1')\n",
    "plt.ylabel('y2')\n",
    "plt.subplot(132)\n",
    "plt.scatter(df.y1, df.y3)\n",
    "plt.xlabel('y1')\n",
    "plt.ylabel('y3')\n",
    "plt.subplot(133)\n",
    "plt.scatter(df.y2, df.y3)\n",
    "plt.xlabel('y2')\n",
    "plt.ylabel('y3')"
   ]
  },
  {
   "cell_type": "markdown",
   "metadata": {},
   "source": [
    "Mais uma vez, confirmamos as conclusões feitas a partir dos coeficientes de correlação."
   ]
  },
  {
   "cell_type": "markdown",
   "metadata": {},
   "source": [
    "## Regressão linear simples\n",
    "A análise de regressão estuda a relação entre uma variável chamada a variável dependente e outras variáveis chamadas variáveis independentes.\n",
    "\n",
    "A relação entre elas é representada por um modelo matemático, que associa a variável dependente com as variáveis independentes. \n",
    "\n",
    "Este modelo é chamado de modelo de regressão linear simples (MRLS) se define uma relação linear entre a variável dependente e uma variável independente. Em termos matemáticos, dizemos que a variável dependente $y$ depende de $x$ de acordo com a equação linear\n",
    "$$y = \\alpha x + \\beta + \\epsilon$$\n",
    "\n",
    "onde $\\alpha$ é chamado de coeficiente angular, $\\beta$ de coeficiente de interceptação e $\\epsilon$ de ruído. \n",
    "\n",
    "O ruído $\\epsilon$ parace na equação para representar a componente aleatória da relação entre $y$ e $x$. Em sistemas reais, não existem relações perfeitamente lineares e determinísticas.\n",
    "\n",
    "Em regressão linear simples, temos o objetivo de encontrar os valores de $\\alpha$ e $\\beta$ que melhor se ajustam aos pares $(x, y)$.\n",
    "\n",
    "Para criar modelos de regressão linear, utilizaremos o pacote ```sklearn.linear_model```, importando a classe ```LinearRegression```."
   ]
  },
  {
   "cell_type": "code",
   "execution_count": 5,
   "metadata": {},
   "outputs": [],
   "source": [
    "from sklearn.linear_model import LinearRegression"
   ]
  },
  {
   "cell_type": "markdown",
   "metadata": {},
   "source": [
    "Faremos o ajuste da função aos dados utilizando o comando ```LinearRegression().fit()```. O comando ```fit()``` recebe como parâmetro os valores da variável independente (no nosso caso o $x$) e os valores da variável independente (usaremos o $y_1$). \n",
    "\n",
    "Os valores da variável independente devem estar no formato de vetor coluna. Quando acessamos os valores de uma coluna do dataframe, as informações são organizadas como um vetor linha. Para modificar a forma de linha para coluna, utilizamos o comando ```DataFrame.nome_da_coluna.values.reshape(-1, 1)```. "
   ]
  },
  {
   "cell_type": "code",
   "execution_count": 6,
   "metadata": {},
   "outputs": [],
   "source": [
    "reg = LinearRegression().fit(df.x.values.reshape(-1, 1), df.y1)"
   ]
  },
  {
   "cell_type": "markdown",
   "metadata": {},
   "source": [
    "Guardamos o modelo ajustado em uma variável denominada ```reg```. Para recuperar os valores $\\alpha$ e $\\beta$, utilizamos os comandos ```reg.coef_``` e ```reg.intercept_```, respectivamente."
   ]
  },
  {
   "cell_type": "code",
   "execution_count": 7,
   "metadata": {},
   "outputs": [
    {
     "name": "stdout",
     "output_type": "stream",
     "text": [
      "[1.90577439]\n",
      "-0.5309126093874603\n"
     ]
    }
   ],
   "source": [
    "print(reg.coef_)\n",
    "print(reg.intercept_)"
   ]
  },
  {
   "cell_type": "markdown",
   "metadata": {},
   "source": [
    "Sabemos agora, que a equação da reta criada na regressão é definida como $y_1 = 1.905x - 0.53$. \n",
    "\n",
    "Uma vez criado o modelo, é possível fazer previsões de valore $y_1$ para um valor específico $x$. Para isso, utilizamos o comando ```reg.predict()```. Como parâmetro para o comando, passamos o valor de $x$ na forma de coluna."
   ]
  },
  {
   "cell_type": "code",
   "execution_count": 8,
   "metadata": {},
   "outputs": [
    {
     "data": {
      "text/plain": [
       "array([18.52683125])"
      ]
     },
     "execution_count": 8,
     "metadata": {},
     "output_type": "execute_result"
    }
   ],
   "source": [
    "reg.predict([[10]])"
   ]
  },
  {
   "cell_type": "markdown",
   "metadata": {},
   "source": [
    "Faremos a plotagem da função linear em cima do gráfico de dispersão para verificar se o modelo foi criado corretamente."
   ]
  },
  {
   "cell_type": "code",
   "execution_count": 16,
   "metadata": {},
   "outputs": [
    {
     "data": {
      "text/plain": [
       "[<matplotlib.lines.Line2D at 0x7f266f863be0>]"
      ]
     },
     "execution_count": 16,
     "metadata": {},
     "output_type": "execute_result"
    },
    {
     "data": {
      "image/png": "[encoded data removed]",
      "text/plain": [
       "<Figure size 432x288 with 1 Axes>"
      ]
     },
     "metadata": {
      "needs_background": "light"
     },
     "output_type": "display_data"
    }
   ],
   "source": [
    "X = df.x.values\n",
    "y1 = df.y1.values\n",
    "\n",
    "plt.scatter(X, y1)\n",
    "plt.plot(X, reg.predict(X.reshape(-1, 1)), color='red')"
   ]
  },
  {
   "cell_type": "markdown",
   "metadata": {},
   "source": [
    "## Coeficiente de determinação ($R^2$)\n",
    "\n",
    "O coeficiente de determinação é a proporção da variância na variável dependente que é previsível pela variável independente. \n",
    "\n",
    "Se $\\bar{y}$ é a média das observações:\n",
    "\n",
    "* $\\bar{y}=\\frac {1}{n}\\sum _{i=1}^{n}y_{i}$\n",
    "\n",
    "então $R^2$ pode ser mensurado utilizando as somas:\n",
    "\n",
    "* Soma total dos quadrados (proporcional a variância dos dados):\n",
    "\n",
    "${\\displaystyle SS_{\\text{tot}}=\\sum _{i}(y_{i}-{\\bar {y}})^{2}}$\n",
    "\n",
    "* Soma dos quadrados da regressão:\n",
    "\n",
    "${\\displaystyle SS_{\\text{reg}}=\\sum _{i}(f_{i}-{\\bar {y}})^{2}}$\n",
    "\n",
    "* Coeficiente de determinação:\n",
    "\n",
    "${\\displaystyle R^{2} = {SS_{\\rm {reg}} \\over SS_{\\rm {tot}}}\\,}$\n",
    "\n",
    "Quanto mais próximo de 1 o valor de $R^2$ estiver, melhor é o ajuste. Para acessar o valor de $R^2$, utilizamos o comando ```score()```, passando os mesmos parâmetros do comando ```fit()```."
   ]
  },
  {
   "cell_type": "code",
   "execution_count": 20,
   "metadata": {},
   "outputs": [
    {
     "data": {
      "text/plain": [
       "0.8802798498240479"
      ]
     },
     "execution_count": 20,
     "metadata": {},
     "output_type": "execute_result"
    }
   ],
   "source": [
    "reg.score(X.reshape(-1, 1), y1)"
   ]
  }
 ],
 "metadata": {
  "kernelspec": {
   "display_name": "Python 3",
   "language": "python",
   "name": "python3"
  },
  "language_info": {
   "codemirror_mode": {
    "name": "ipython",
    "version": 3
   },
   "file_extension": ".py",
   "mimetype": "text/x-python",
   "name": "python",
   "nbconvert_exporter": "python",
   "pygments_lexer": "ipython3",
   "version": "3.7.1"
  }
 },
 "nbformat": 4,
 "nbformat_minor": 2
}
