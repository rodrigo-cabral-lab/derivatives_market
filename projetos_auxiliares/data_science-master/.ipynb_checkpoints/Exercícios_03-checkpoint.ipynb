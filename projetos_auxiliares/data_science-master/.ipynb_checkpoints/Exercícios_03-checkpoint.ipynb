{
 "cells": [
  {
   "cell_type": "markdown",
   "metadata": {},
   "source": [
    "# Exercício 3\n",
    "## Verifique as seguintes indagações:\n",
    "1. Qual quantidade de vagas que aparece com maior frequência?\n",
    "2. Qual quantidade de banheiros que aparece com maior frequência?\n",
    "3. A maior parte das casas estão longe ou perto do aeroporto?\n",
    "4. Existem mais casas velhas ou novas? \n",
    "5. As casas estão concentradas mais ao norte ou ao sul?\n",
    "6. Qual a distribuição de preços dos três tipos de imóvel?"
   ]
  }
 ],
 "metadata": {
  "kernelspec": {
   "display_name": "Python 3",
   "language": "python",
   "name": "python3"
  },
  "language_info": {
   "codemirror_mode": {
    "name": "ipython",
    "version": 3
   },
   "file_extension": ".py",
   "mimetype": "text/x-python",
   "name": "python",
   "nbconvert_exporter": "python",
   "pygments_lexer": "ipython3",
   "version": "3.7.1"
  }
 },
 "nbformat": 4,
 "nbformat_minor": 2
}
